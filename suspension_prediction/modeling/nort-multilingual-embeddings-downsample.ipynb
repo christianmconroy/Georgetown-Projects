{
 "cells": [
  {
   "cell_type": "markdown",
   "metadata": {
    "papermill": {
     "duration": 0.052889,
     "end_time": "2021-05-18T11:02:17.287590",
     "exception": false,
     "start_time": "2021-05-18T11:02:17.234701",
     "status": "completed"
    },
    "tags": []
   },
   "source": [
    "### Load in Packages and Set Up Parameters"
   ]
  },
  {
   "cell_type": "code",
   "execution_count": 1,
   "metadata": {
    "_cell_guid": "b1076dfc-b9ad-4769-8c92-a6c4dae69d19",
    "_uuid": "8f2839f25d086af736a60e9eeb907d3b93b6e0e5",
    "execution": {
     "iopub.execute_input": "2021-05-18T11:02:17.433402Z",
     "iopub.status.busy": "2021-05-18T11:02:17.432736Z",
     "iopub.status.idle": "2021-05-18T11:02:22.188812Z",
     "shell.execute_reply": "2021-05-18T11:02:22.188260Z"
    },
    "papermill": {
     "duration": 4.814701,
     "end_time": "2021-05-18T11:02:22.188922",
     "exception": false,
     "start_time": "2021-05-18T11:02:17.374221",
     "status": "completed"
    },
    "tags": []
   },
   "outputs": [],
   "source": [
    "import pandas as pd\n",
    "from keras.preprocessing.sequence import pad_sequences\n",
    "\n",
    "import matplotlib.pyplot as plt\n",
    "%matplotlib inline"
   ]
  },
  {
   "cell_type": "code",
   "execution_count": 2,
   "metadata": {
    "execution": {
     "iopub.execute_input": "2021-05-18T11:02:24.395227Z",
     "iopub.status.busy": "2021-05-18T11:02:24.394372Z",
     "iopub.status.idle": "2021-05-18T11:02:24.398095Z",
     "shell.execute_reply": "2021-05-18T11:02:24.398483Z"
    },
    "papermill": {
     "duration": 2.092258,
     "end_time": "2021-05-18T11:02:24.398611",
     "exception": false,
     "start_time": "2021-05-18T11:02:22.306353",
     "status": "completed"
    },
    "tags": []
   },
   "outputs": [
    {
     "name": "stdout",
     "output_type": "stream",
     "text": [
      "Found GPU at: /device:GPU:0\n"
     ]
    }
   ],
   "source": [
    "import tensorflow as tf\n",
    "# Get the GPU device name.\n",
    "device_name = tf.test.gpu_device_name()\n",
    "# The device name should look like the following:\n",
    "if device_name == '/device:GPU:0':\n",
    "    print('Found GPU at: {}'.format(device_name))\n",
    "else:\n",
    "    raise SystemError('GPU device not found')"
   ]
  },
  {
   "cell_type": "markdown",
   "metadata": {
    "papermill": {
     "duration": 0.052413,
     "end_time": "2021-05-18T11:02:24.504282",
     "exception": false,
     "start_time": "2021-05-18T11:02:24.451869",
     "status": "completed"
    },
    "tags": []
   },
   "source": [
    "In order for torch to use the GPU, we need to identify and specify the GPU as the device. Later, in our training loop, we will load data onto the device."
   ]
  },
  {
   "cell_type": "code",
   "execution_count": 3,
   "metadata": {
    "execution": {
     "iopub.execute_input": "2021-05-18T11:02:24.614597Z",
     "iopub.status.busy": "2021-05-18T11:02:24.613907Z",
     "iopub.status.idle": "2021-05-18T11:02:25.711192Z",
     "shell.execute_reply": "2021-05-18T11:02:25.710486Z"
    },
    "papermill": {
     "duration": 1.154725,
     "end_time": "2021-05-18T11:02:25.711332",
     "exception": false,
     "start_time": "2021-05-18T11:02:24.556607",
     "status": "completed"
    },
    "tags": []
   },
   "outputs": [
    {
     "name": "stdout",
     "output_type": "stream",
     "text": [
      "There are 1 GPU(s) available.\n",
      "We will use the GPU: Tesla P100-PCIE-16GB\n"
     ]
    }
   ],
   "source": [
    "import torch\n",
    "# If there's a GPU available...\n",
    "if torch.cuda.is_available():    \n",
    "    # Tell PyTorch to use the GPU.    \n",
    "    device = torch.device(\"cuda\")\n",
    "    print('There are %d GPU(s) available.' % torch.cuda.device_count())\n",
    "    print('We will use the GPU:', torch.cuda.get_device_name(0))\n",
    "# If not...\n",
    "else:\n",
    "    print('No GPU available, using the CPU instead.')\n",
    "    device = torch.device(\"cpu\")"
   ]
  },
  {
   "cell_type": "markdown",
   "metadata": {
    "papermill": {
     "duration": 0.0521,
     "end_time": "2021-05-18T11:02:25.817468",
     "exception": false,
     "start_time": "2021-05-18T11:02:25.765368",
     "status": "completed"
    },
    "tags": []
   },
   "source": [
    "Next, let’s install the transformers package from Hugging Face which will give us a pytorch interface for working with BERT. (This library contains interfaces for other pretrained language models like OpenAI’s GPT and GPT-2.) We’ve selected the pytorch interface because it strikes a nice balance between the high-level APIs (which are easy to use but don’t provide insight into how things work) and tensorflow code (which contains lots of details but often sidetracks us into lessons about tensorflow, when the purpose here is BERT!)."
   ]
  },
  {
   "cell_type": "code",
   "execution_count": 4,
   "metadata": {
    "execution": {
     "iopub.execute_input": "2021-05-18T11:02:25.926884Z",
     "iopub.status.busy": "2021-05-18T11:02:25.926358Z",
     "iopub.status.idle": "2021-05-18T11:02:33.323308Z",
     "shell.execute_reply": "2021-05-18T11:02:33.322360Z"
    },
    "papermill": {
     "duration": 7.45415,
     "end_time": "2021-05-18T11:02:33.323455",
     "exception": false,
     "start_time": "2021-05-18T11:02:25.869305",
     "status": "completed"
    },
    "tags": []
   },
   "outputs": [
    {
     "name": "stdout",
     "output_type": "stream",
     "text": [
      "Requirement already satisfied: transformers in /opt/conda/lib/python3.7/site-packages (3.5.1)\r\n",
      "Requirement already satisfied: tokenizers==0.9.3 in /opt/conda/lib/python3.7/site-packages (from transformers) (0.9.3)\r\n",
      "Requirement already satisfied: filelock in /opt/conda/lib/python3.7/site-packages (from transformers) (3.0.10)\r\n",
      "Requirement already satisfied: sacremoses in /opt/conda/lib/python3.7/site-packages (from transformers) (0.0.43)\r\n",
      "Requirement already satisfied: sentencepiece==0.1.91 in /opt/conda/lib/python3.7/site-packages (from transformers) (0.1.91)\r\n",
      "Requirement already satisfied: requests in /opt/conda/lib/python3.7/site-packages (from transformers) (2.23.0)\r\n",
      "Requirement already satisfied: numpy in /opt/conda/lib/python3.7/site-packages (from transformers) (1.18.5)\r\n",
      "Requirement already satisfied: regex!=2019.12.17 in /opt/conda/lib/python3.7/site-packages (from transformers) (2020.4.4)\r\n",
      "Requirement already satisfied: packaging in /opt/conda/lib/python3.7/site-packages (from transformers) (20.1)\r\n",
      "Requirement already satisfied: tqdm>=4.27 in /opt/conda/lib/python3.7/site-packages (from transformers) (4.45.0)\r\n",
      "Requirement already satisfied: protobuf in /opt/conda/lib/python3.7/site-packages (from transformers) (3.14.0)\r\n",
      "Requirement already satisfied: pyparsing>=2.0.2 in /opt/conda/lib/python3.7/site-packages (from packaging->transformers) (2.4.7)\r\n",
      "Requirement already satisfied: six in /opt/conda/lib/python3.7/site-packages (from packaging->transformers) (1.14.0)\r\n",
      "Requirement already satisfied: six in /opt/conda/lib/python3.7/site-packages (from packaging->transformers) (1.14.0)\r\n",
      "Requirement already satisfied: chardet<4,>=3.0.2 in /opt/conda/lib/python3.7/site-packages (from requests->transformers) (3.0.4)\r\n",
      "Requirement already satisfied: urllib3!=1.25.0,!=1.25.1,<1.26,>=1.21.1 in /opt/conda/lib/python3.7/site-packages (from requests->transformers) (1.25.9)\r\n",
      "Requirement already satisfied: idna<3,>=2.5 in /opt/conda/lib/python3.7/site-packages (from requests->transformers) (2.9)\r\n",
      "Requirement already satisfied: certifi>=2017.4.17 in /opt/conda/lib/python3.7/site-packages (from requests->transformers) (2020.12.5)\r\n",
      "Requirement already satisfied: regex!=2019.12.17 in /opt/conda/lib/python3.7/site-packages (from transformers) (2020.4.4)\r\n",
      "Requirement already satisfied: joblib in /opt/conda/lib/python3.7/site-packages (from sacremoses->transformers) (0.14.1)\r\n",
      "Requirement already satisfied: six in /opt/conda/lib/python3.7/site-packages (from packaging->transformers) (1.14.0)\r\n",
      "Requirement already satisfied: tqdm>=4.27 in /opt/conda/lib/python3.7/site-packages (from transformers) (4.45.0)\r\n",
      "Requirement already satisfied: click in /opt/conda/lib/python3.7/site-packages (from sacremoses->transformers) (7.1.1)\r\n",
      "\u001b[33mWARNING: You are using pip version 20.3.1; however, version 21.1.1 is available.\r\n",
      "You should consider upgrading via the '/opt/conda/bin/python3.7 -m pip install --upgrade pip' command.\u001b[0m\r\n"
     ]
    }
   ],
   "source": [
    "!pip install transformers"
   ]
  },
  {
   "cell_type": "markdown",
   "metadata": {
    "papermill": {
     "duration": 0.087876,
     "end_time": "2021-05-18T11:02:33.503088",
     "exception": false,
     "start_time": "2021-05-18T11:02:33.415212",
     "status": "completed"
    },
    "tags": []
   },
   "source": [
    "### Load in Data"
   ]
  },
  {
   "cell_type": "code",
   "execution_count": 5,
   "metadata": {
    "execution": {
     "iopub.execute_input": "2021-05-18T11:02:33.685910Z",
     "iopub.status.busy": "2021-05-18T11:02:33.685377Z",
     "iopub.status.idle": "2021-05-18T11:02:35.200475Z",
     "shell.execute_reply": "2021-05-18T11:02:35.199480Z"
    },
    "papermill": {
     "duration": 1.609784,
     "end_time": "2021-05-18T11:02:35.200579",
     "exception": false,
     "start_time": "2021-05-18T11:02:33.590795",
     "status": "completed"
    },
    "tags": []
   },
   "outputs": [],
   "source": [
    "#### Load in data from S3\n",
    "\n",
    "# Import Train and Measure Balance\n",
    "# Import Flattened Data\n",
    "df_train_f = pd.read_csv(\"/kaggle/input/nort-downsampled/downsamp_df_train_full_cleaned_pe.csv\", encoding='utf_8_sig', low_memory=False)\n",
    "\n",
    "# Import Test and Measure Balance\n",
    "\n",
    "df_test_f = pd.read_csv(\"/kaggle/input/nort-downsampled/downsamp_df_test_full_cleaned_pe.csv\", encoding='utf_8_sig', low_memory=False)\n",
    "\n",
    "# Import Validation and Measure Balance\n",
    "# Import Flattened Data\n",
    "df_valid_f = pd.read_csv(\"/kaggle/input/nort-downsampled/downsamp_df_valid_full_cleaned_pe.csv\", encoding='utf_8_sig', low_memory=False)"
   ]
  },
  {
   "cell_type": "code",
   "execution_count": 6,
   "metadata": {
    "execution": {
     "iopub.execute_input": "2021-05-18T11:02:35.334810Z",
     "iopub.status.busy": "2021-05-18T11:02:35.325975Z",
     "iopub.status.idle": "2021-05-18T11:02:35.348301Z",
     "shell.execute_reply": "2021-05-18T11:02:35.348708Z"
    },
    "papermill": {
     "duration": 0.093527,
     "end_time": "2021-05-18T11:02:35.348823",
     "exception": false,
     "start_time": "2021-05-18T11:02:35.255296",
     "status": "completed"
    },
    "tags": []
   },
   "outputs": [
    {
     "data": {
      "text/html": [
       "<div>\n",
       "<style scoped>\n",
       "    .dataframe tbody tr th:only-of-type {\n",
       "        vertical-align: middle;\n",
       "    }\n",
       "\n",
       "    .dataframe tbody tr th {\n",
       "        vertical-align: top;\n",
       "    }\n",
       "\n",
       "    .dataframe thead th {\n",
       "        text-align: right;\n",
       "    }\n",
       "</style>\n",
       "<table border=\"1\" class=\"dataframe\">\n",
       "  <thead>\n",
       "    <tr style=\"text-align: right;\">\n",
       "      <th></th>\n",
       "      <th>id</th>\n",
       "      <th>created_at</th>\n",
       "      <th>text</th>\n",
       "      <th>retweet_count</th>\n",
       "      <th>favorite_count</th>\n",
       "      <th>quoted_status_id</th>\n",
       "      <th>user.id</th>\n",
       "      <th>user.created_at</th>\n",
       "      <th>user.description</th>\n",
       "      <th>user.favourites_count</th>\n",
       "      <th>...</th>\n",
       "      <th>user.geo_enabled_False</th>\n",
       "      <th>user.geo_enabled_True</th>\n",
       "      <th>user.verified_False</th>\n",
       "      <th>user.has_extended_profile_False</th>\n",
       "      <th>user.has_extended_profile_True</th>\n",
       "      <th>user.protected_False</th>\n",
       "      <th>user.verified_False.1</th>\n",
       "      <th>user.default_profile_True</th>\n",
       "      <th>is_quote_status_False</th>\n",
       "      <th>is_quote_status_True</th>\n",
       "    </tr>\n",
       "  </thead>\n",
       "  <tbody>\n",
       "    <tr>\n",
       "      <th>0</th>\n",
       "      <td>'1.293445069148627e+18'</td>\n",
       "      <td>1.597216e+09</td>\n",
       "      <td>WaxPar DC18RC 互換充電器 対応 マキタ 14.4V 18V リチウムイオンバッ...</td>\n",
       "      <td>0.0</td>\n",
       "      <td>1.0</td>\n",
       "      <td>0</td>\n",
       "      <td>1.278150e+18</td>\n",
       "      <td>1.593570e+09</td>\n",
       "      <td>あなたは、すべてを手に入れられる。ただ、一度には手に入れられないだけ。</td>\n",
       "      <td>436.0</td>\n",
       "      <td>...</td>\n",
       "      <td>1</td>\n",
       "      <td>0</td>\n",
       "      <td>1</td>\n",
       "      <td>0</td>\n",
       "      <td>1</td>\n",
       "      <td>1</td>\n",
       "      <td>1</td>\n",
       "      <td>1</td>\n",
       "      <td>1</td>\n",
       "      <td>0</td>\n",
       "    </tr>\n",
       "    <tr>\n",
       "      <th>1</th>\n",
       "      <td>'1.2934441345527562e+18'</td>\n",
       "      <td>1.597216e+09</td>\n",
       "      <td>WaxPar 最新互換マキタ 2口充電器DC18RD 18V/14.4V バッテリー bl1...</td>\n",
       "      <td>0.0</td>\n",
       "      <td>1.0</td>\n",
       "      <td>0</td>\n",
       "      <td>1.278150e+18</td>\n",
       "      <td>1.593570e+09</td>\n",
       "      <td>あなたは、すべてを手に入れられる。ただ、一度には手に入れられないだけ。</td>\n",
       "      <td>436.0</td>\n",
       "      <td>...</td>\n",
       "      <td>1</td>\n",
       "      <td>0</td>\n",
       "      <td>1</td>\n",
       "      <td>0</td>\n",
       "      <td>1</td>\n",
       "      <td>1</td>\n",
       "      <td>1</td>\n",
       "      <td>1</td>\n",
       "      <td>1</td>\n",
       "      <td>0</td>\n",
       "    </tr>\n",
       "    <tr>\n",
       "      <th>2</th>\n",
       "      <td>'1.2927027098422395e+18'</td>\n",
       "      <td>1.597039e+09</td>\n",
       "      <td>WaxPar DC18RC 互換充電器 対応 マキタ 14.4V 18V リチウムイオンバッ...</td>\n",
       "      <td>0.0</td>\n",
       "      <td>1.0</td>\n",
       "      <td>0</td>\n",
       "      <td>1.278150e+18</td>\n",
       "      <td>1.593570e+09</td>\n",
       "      <td>あなたは、すべてを手に入れられる。ただ、一度には手に入れられないだけ。</td>\n",
       "      <td>436.0</td>\n",
       "      <td>...</td>\n",
       "      <td>1</td>\n",
       "      <td>0</td>\n",
       "      <td>1</td>\n",
       "      <td>0</td>\n",
       "      <td>1</td>\n",
       "      <td>1</td>\n",
       "      <td>1</td>\n",
       "      <td>1</td>\n",
       "      <td>1</td>\n",
       "      <td>0</td>\n",
       "    </tr>\n",
       "    <tr>\n",
       "      <th>3</th>\n",
       "      <td>'1.2927026457575178e+18'</td>\n",
       "      <td>1.597039e+09</td>\n",
       "      <td>WaxPar DC18RC 互換充電器 対応 マキタ 14.4V 18V リチウムイオンバッ...</td>\n",
       "      <td>0.0</td>\n",
       "      <td>1.0</td>\n",
       "      <td>0</td>\n",
       "      <td>1.278150e+18</td>\n",
       "      <td>1.593570e+09</td>\n",
       "      <td>あなたは、すべてを手に入れられる。ただ、一度には手に入れられないだけ。</td>\n",
       "      <td>436.0</td>\n",
       "      <td>...</td>\n",
       "      <td>1</td>\n",
       "      <td>0</td>\n",
       "      <td>1</td>\n",
       "      <td>0</td>\n",
       "      <td>1</td>\n",
       "      <td>1</td>\n",
       "      <td>1</td>\n",
       "      <td>1</td>\n",
       "      <td>1</td>\n",
       "      <td>0</td>\n",
       "    </tr>\n",
       "    <tr>\n",
       "      <th>4</th>\n",
       "      <td>'1.2927023117188956e+18'</td>\n",
       "      <td>1.597039e+09</td>\n",
       "      <td>WaxPar 2口充電器 互換充電器 DC18RD マキタ 18v 14.4v バッテリ 対...</td>\n",
       "      <td>0.0</td>\n",
       "      <td>1.0</td>\n",
       "      <td>0</td>\n",
       "      <td>1.278150e+18</td>\n",
       "      <td>1.593570e+09</td>\n",
       "      <td>あなたは、すべてを手に入れられる。ただ、一度には手に入れられないだけ。</td>\n",
       "      <td>436.0</td>\n",
       "      <td>...</td>\n",
       "      <td>1</td>\n",
       "      <td>0</td>\n",
       "      <td>1</td>\n",
       "      <td>0</td>\n",
       "      <td>1</td>\n",
       "      <td>1</td>\n",
       "      <td>1</td>\n",
       "      <td>1</td>\n",
       "      <td>1</td>\n",
       "      <td>0</td>\n",
       "    </tr>\n",
       "    <tr>\n",
       "      <th>5</th>\n",
       "      <td>'1.2927022678254592e+18'</td>\n",
       "      <td>1.597039e+09</td>\n",
       "      <td>WaxPar 2口充電器 互換充電器 DC18RD マキタ 18v 14.4v バッテリ 対...</td>\n",
       "      <td>0.0</td>\n",
       "      <td>1.0</td>\n",
       "      <td>0</td>\n",
       "      <td>1.278150e+18</td>\n",
       "      <td>1.593570e+09</td>\n",
       "      <td>あなたは、すべてを手に入れられる。ただ、一度には手に入れられないだけ。</td>\n",
       "      <td>436.0</td>\n",
       "      <td>...</td>\n",
       "      <td>1</td>\n",
       "      <td>0</td>\n",
       "      <td>1</td>\n",
       "      <td>0</td>\n",
       "      <td>1</td>\n",
       "      <td>1</td>\n",
       "      <td>1</td>\n",
       "      <td>1</td>\n",
       "      <td>1</td>\n",
       "      <td>0</td>\n",
       "    </tr>\n",
       "  </tbody>\n",
       "</table>\n",
       "<p>6 rows × 160 columns</p>\n",
       "</div>"
      ],
      "text/plain": [
       "                         id    created_at  \\\n",
       "0   '1.293445069148627e+18'  1.597216e+09   \n",
       "1  '1.2934441345527562e+18'  1.597216e+09   \n",
       "2  '1.2927027098422395e+18'  1.597039e+09   \n",
       "3  '1.2927026457575178e+18'  1.597039e+09   \n",
       "4  '1.2927023117188956e+18'  1.597039e+09   \n",
       "5  '1.2927022678254592e+18'  1.597039e+09   \n",
       "\n",
       "                                                text  retweet_count  \\\n",
       "0  WaxPar DC18RC 互換充電器 対応 マキタ 14.4V 18V リチウムイオンバッ...            0.0   \n",
       "1  WaxPar 最新互換マキタ 2口充電器DC18RD 18V/14.4V バッテリー bl1...            0.0   \n",
       "2  WaxPar DC18RC 互換充電器 対応 マキタ 14.4V 18V リチウムイオンバッ...            0.0   \n",
       "3  WaxPar DC18RC 互換充電器 対応 マキタ 14.4V 18V リチウムイオンバッ...            0.0   \n",
       "4  WaxPar 2口充電器 互換充電器 DC18RD マキタ 18v 14.4v バッテリ 対...            0.0   \n",
       "5  WaxPar 2口充電器 互換充電器 DC18RD マキタ 18v 14.4v バッテリ 対...            0.0   \n",
       "\n",
       "   favorite_count  quoted_status_id       user.id  user.created_at  \\\n",
       "0             1.0                 0  1.278150e+18     1.593570e+09   \n",
       "1             1.0                 0  1.278150e+18     1.593570e+09   \n",
       "2             1.0                 0  1.278150e+18     1.593570e+09   \n",
       "3             1.0                 0  1.278150e+18     1.593570e+09   \n",
       "4             1.0                 0  1.278150e+18     1.593570e+09   \n",
       "5             1.0                 0  1.278150e+18     1.593570e+09   \n",
       "\n",
       "                      user.description  user.favourites_count  ...  \\\n",
       "0  あなたは、すべてを手に入れられる。ただ、一度には手に入れられないだけ。                  436.0  ...   \n",
       "1  あなたは、すべてを手に入れられる。ただ、一度には手に入れられないだけ。                  436.0  ...   \n",
       "2  あなたは、すべてを手に入れられる。ただ、一度には手に入れられないだけ。                  436.0  ...   \n",
       "3  あなたは、すべてを手に入れられる。ただ、一度には手に入れられないだけ。                  436.0  ...   \n",
       "4  あなたは、すべてを手に入れられる。ただ、一度には手に入れられないだけ。                  436.0  ...   \n",
       "5  あなたは、すべてを手に入れられる。ただ、一度には手に入れられないだけ。                  436.0  ...   \n",
       "\n",
       "   user.geo_enabled_False  user.geo_enabled_True  user.verified_False  \\\n",
       "0                       1                      0                    1   \n",
       "1                       1                      0                    1   \n",
       "2                       1                      0                    1   \n",
       "3                       1                      0                    1   \n",
       "4                       1                      0                    1   \n",
       "5                       1                      0                    1   \n",
       "\n",
       "  user.has_extended_profile_False user.has_extended_profile_True  \\\n",
       "0                               0                              1   \n",
       "1                               0                              1   \n",
       "2                               0                              1   \n",
       "3                               0                              1   \n",
       "4                               0                              1   \n",
       "5                               0                              1   \n",
       "\n",
       "  user.protected_False  user.verified_False.1  user.default_profile_True  \\\n",
       "0                    1                      1                          1   \n",
       "1                    1                      1                          1   \n",
       "2                    1                      1                          1   \n",
       "3                    1                      1                          1   \n",
       "4                    1                      1                          1   \n",
       "5                    1                      1                          1   \n",
       "\n",
       "   is_quote_status_False  is_quote_status_True  \n",
       "0                      1                     0  \n",
       "1                      1                     0  \n",
       "2                      1                     0  \n",
       "3                      1                     0  \n",
       "4                      1                     0  \n",
       "5                      1                     0  \n",
       "\n",
       "[6 rows x 160 columns]"
      ]
     },
     "execution_count": 6,
     "metadata": {},
     "output_type": "execute_result"
    }
   ],
   "source": [
    "df_train_f.head(6)"
   ]
  },
  {
   "cell_type": "code",
   "execution_count": 7,
   "metadata": {
    "execution": {
     "iopub.execute_input": "2021-05-18T11:02:35.478982Z",
     "iopub.status.busy": "2021-05-18T11:02:35.478148Z",
     "iopub.status.idle": "2021-05-18T11:02:35.507305Z",
     "shell.execute_reply": "2021-05-18T11:02:35.506813Z"
    },
    "papermill": {
     "duration": 0.104319,
     "end_time": "2021-05-18T11:02:35.507403",
     "exception": false,
     "start_time": "2021-05-18T11:02:35.403084",
     "status": "completed"
    },
    "tags": []
   },
   "outputs": [],
   "source": [
    "df_train_f['id'] = df_train_f['id'].apply(lambda x: x.replace(\"'\", ''))\n",
    "df_train_f['id'] = df_train_f['id'].astype('float')\n",
    "df_valid_f['id'] = df_valid_f['id'].apply(lambda x: x.replace(\"'\", ''))\n",
    "df_valid_f['id'] = df_valid_f['id'].astype('float')\n",
    "df_test_f['id'] = df_test_f['id'].apply(lambda x: x.replace(\"'\", ''))\n",
    "df_test_f['id'] = df_test_f['id'].astype('float')"
   ]
  },
  {
   "cell_type": "code",
   "execution_count": 8,
   "metadata": {
    "execution": {
     "iopub.execute_input": "2021-05-18T11:02:35.623329Z",
     "iopub.status.busy": "2021-05-18T11:02:35.622509Z",
     "iopub.status.idle": "2021-05-18T11:02:35.630239Z",
     "shell.execute_reply": "2021-05-18T11:02:35.630642Z"
    },
    "papermill": {
     "duration": 0.068391,
     "end_time": "2021-05-18T11:02:35.630749",
     "exception": false,
     "start_time": "2021-05-18T11:02:35.562358",
     "status": "completed"
    },
    "tags": []
   },
   "outputs": [
    {
     "name": "stdout",
     "output_type": "stream",
     "text": [
      "full train: 15830 unique ids train: 15830 full valid: 7247 unique ids valid: 7247 full test: 20518 unique ids test: 20518\n"
     ]
    }
   ],
   "source": [
    "print(\"full train:\", len(df_train_f), \"unique ids train:\", len(df_train_f['id'].unique()), \n",
    "      \"full valid:\", len(df_valid_f), \"unique ids valid:\", len(df_valid_f['id'].unique()), \n",
    "      \"full test:\", len(df_test_f), \"unique ids test:\", len(df_test_f['id'].unique()))\n",
    "\n",
    "#print(\"Train:\", len(sentences_train), \"Valid:\", len(sentences_valid), \"Test\", len(sentences_test))"
   ]
  },
  {
   "cell_type": "code",
   "execution_count": 9,
   "metadata": {
    "execution": {
     "iopub.execute_input": "2021-05-18T11:02:35.748892Z",
     "iopub.status.busy": "2021-05-18T11:02:35.748062Z",
     "iopub.status.idle": "2021-05-18T11:02:35.771518Z",
     "shell.execute_reply": "2021-05-18T11:02:35.771061Z"
    },
    "papermill": {
     "duration": 0.085858,
     "end_time": "2021-05-18T11:02:35.771620",
     "exception": false,
     "start_time": "2021-05-18T11:02:35.685762",
     "status": "completed"
    },
    "tags": []
   },
   "outputs": [],
   "source": [
    "df_train = df_train_f.drop(['user.description', \"user.location\", \"user.name\", \"user.screen_name\", \"split\"], axis=1)\n",
    "df_valid = df_valid_f.drop(['user.description', \"user.location\", \"user.name\", \"user.screen_name\", \"split\"], axis=1)\n",
    "df_test = df_test_f.drop(['user.description', \"user.location\", \"user.name\", \"user.screen_name\", \"split\"], axis=1)"
   ]
  },
  {
   "cell_type": "code",
   "execution_count": 10,
   "metadata": {
    "execution": {
     "iopub.execute_input": "2021-05-18T11:02:35.887203Z",
     "iopub.status.busy": "2021-05-18T11:02:35.885565Z",
     "iopub.status.idle": "2021-05-18T11:02:35.887816Z",
     "shell.execute_reply": "2021-05-18T11:02:35.888268Z"
    },
    "papermill": {
     "duration": 0.061574,
     "end_time": "2021-05-18T11:02:35.888379",
     "exception": false,
     "start_time": "2021-05-18T11:02:35.826805",
     "status": "completed"
    },
    "tags": []
   },
   "outputs": [],
   "source": [
    "# FOR TESING OUT CODE PURPOSE ONLY. REMOVE ONCE ALL IS WORKING. \n",
    "#df_train = df_train[:2000]\n",
    "#df_valid = df_valid[:2000]\n",
    "#df_test = df_test[:2000]\n"
   ]
  },
  {
   "cell_type": "code",
   "execution_count": 11,
   "metadata": {
    "execution": {
     "iopub.execute_input": "2021-05-18T11:02:36.004889Z",
     "iopub.status.busy": "2021-05-18T11:02:36.004290Z",
     "iopub.status.idle": "2021-05-18T11:02:39.302217Z",
     "shell.execute_reply": "2021-05-18T11:02:39.301475Z"
    },
    "papermill": {
     "duration": 3.357747,
     "end_time": "2021-05-18T11:02:39.302322",
     "exception": false,
     "start_time": "2021-05-18T11:02:35.944575",
     "status": "completed"
    },
    "tags": []
   },
   "outputs": [],
   "source": [
    "import numpy as np\n",
    "import pandas as pd\n",
    "import torch\n",
    "import transformers as ppb # pytorch transformers\n",
    "from sklearn.linear_model import LogisticRegression\n",
    "from sklearn.model_selection import cross_val_score\n",
    "from sklearn.model_selection import train_test_split\n",
    "from numba import cuda \n",
    "import gc\n",
    "\n",
    "from sklearn.metrics import roc_auc_score\n",
    "from sklearn.metrics import roc_curve"
   ]
  },
  {
   "cell_type": "markdown",
   "metadata": {
    "papermill": {
     "duration": 0.055741,
     "end_time": "2021-05-18T11:02:39.413846",
     "exception": false,
     "start_time": "2021-05-18T11:02:39.358105",
     "status": "completed"
    },
    "tags": []
   },
   "source": [
    "### Load in Model and Tokenizer"
   ]
  },
  {
   "cell_type": "code",
   "execution_count": 12,
   "metadata": {
    "execution": {
     "iopub.execute_input": "2021-05-18T11:02:39.530786Z",
     "iopub.status.busy": "2021-05-18T11:02:39.529962Z",
     "iopub.status.idle": "2021-05-18T11:02:39.969315Z",
     "shell.execute_reply": "2021-05-18T11:02:39.969931Z"
    },
    "papermill": {
     "duration": 0.499981,
     "end_time": "2021-05-18T11:02:39.970116",
     "exception": false,
     "start_time": "2021-05-18T11:02:39.470135",
     "status": "completed"
    },
    "tags": []
   },
   "outputs": [
    {
     "data": {
      "application/vnd.jupyter.widget-view+json": {
       "model_id": "420822a52034463faf61abd49f429f11",
       "version_major": 2,
       "version_minor": 0
      },
      "text/plain": [
       "HBox(children=(FloatProgress(value=0.0, description='Downloading', max=995526.0, style=ProgressStyle(descripti…"
      ]
     },
     "metadata": {},
     "output_type": "display_data"
    },
    {
     "name": "stdout",
     "output_type": "stream",
     "text": [
      "\n"
     ]
    }
   ],
   "source": [
    "model_class, tokenizer_class, pretrained_weights = (ppb.BertModel, ppb.BertTokenizer, 'bert-base-multilingual-cased')\n",
    "\n",
    "# Load pretrained model/tokenizer\n",
    "tokenizer = tokenizer_class.from_pretrained(pretrained_weights)\n",
    "#model = model_class.from_pretrained(pretrained_weights)"
   ]
  },
  {
   "cell_type": "code",
   "execution_count": 13,
   "metadata": {
    "execution": {
     "iopub.execute_input": "2021-05-18T11:02:40.273081Z",
     "iopub.status.busy": "2021-05-18T11:02:40.272399Z",
     "iopub.status.idle": "2021-05-18T11:02:40.275808Z",
     "shell.execute_reply": "2021-05-18T11:02:40.275396Z"
    },
    "papermill": {
     "duration": 0.248505,
     "end_time": "2021-05-18T11:02:40.275900",
     "exception": false,
     "start_time": "2021-05-18T11:02:40.027395",
     "status": "completed"
    },
    "tags": []
   },
   "outputs": [],
   "source": [
    "gc.collect()\n",
    "torch.cuda.empty_cache()"
   ]
  },
  {
   "cell_type": "code",
   "execution_count": 14,
   "metadata": {
    "execution": {
     "iopub.execute_input": "2021-05-18T11:02:40.394873Z",
     "iopub.status.busy": "2021-05-18T11:02:40.394304Z",
     "iopub.status.idle": "2021-05-18T11:02:40.397784Z",
     "shell.execute_reply": "2021-05-18T11:02:40.398226Z"
    },
    "papermill": {
     "duration": 0.066069,
     "end_time": "2021-05-18T11:02:40.398340",
     "exception": false,
     "start_time": "2021-05-18T11:02:40.332271",
     "status": "completed"
    },
    "tags": []
   },
   "outputs": [],
   "source": [
    "# Get the lists of sentences and their labels.\n",
    "sentences_train = df_train.text.values\n",
    "train_labels = df_train.suspended.values\n",
    "ids_train = df_train.id.values\n",
    "\n",
    "sentences_valid = df_valid.text.values\n",
    "validation_labels = df_valid.suspended.values\n",
    "ids_validation = df_valid.id.values\n",
    "\n",
    "sentences_test = df_test.text.values\n",
    "test_labels = df_test.suspended.values\n",
    "ids_test = df_test.id.values"
   ]
  },
  {
   "cell_type": "code",
   "execution_count": 15,
   "metadata": {
    "execution": {
     "iopub.execute_input": "2021-05-18T11:02:40.516079Z",
     "iopub.status.busy": "2021-05-18T11:02:40.515289Z",
     "iopub.status.idle": "2021-05-18T11:02:40.520643Z",
     "shell.execute_reply": "2021-05-18T11:02:40.519796Z"
    },
    "papermill": {
     "duration": 0.065964,
     "end_time": "2021-05-18T11:02:40.520733",
     "exception": false,
     "start_time": "2021-05-18T11:02:40.454769",
     "status": "completed"
    },
    "tags": []
   },
   "outputs": [
    {
     "name": "stdout",
     "output_type": "stream",
     "text": [
      "Train: 15830 Valid: 7247 Test 20518\n"
     ]
    }
   ],
   "source": [
    "print(\"Train:\", len(sentences_train), \"Valid:\", len(sentences_valid), \"Test\", len(sentences_test))"
   ]
  },
  {
   "cell_type": "markdown",
   "metadata": {
    "papermill": {
     "duration": 0.05629,
     "end_time": "2021-05-18T11:02:40.633703",
     "exception": false,
     "start_time": "2021-05-18T11:02:40.577413",
     "status": "completed"
    },
    "tags": []
   },
   "source": [
    "To feed our text to BERT, it must be split into tokens, and then these tokens must be mapped to their index in the tokenizer vocabulary.\n",
    "\n",
    "The tokenization must be performed by the tokenizer included with BERT–the below cell will download this for us."
   ]
  },
  {
   "cell_type": "code",
   "execution_count": 16,
   "metadata": {
    "execution": {
     "iopub.execute_input": "2021-05-18T11:02:40.753421Z",
     "iopub.status.busy": "2021-05-18T11:02:40.752824Z",
     "iopub.status.idle": "2021-05-18T11:02:40.978474Z",
     "shell.execute_reply": "2021-05-18T11:02:40.977985Z"
    },
    "papermill": {
     "duration": 0.288595,
     "end_time": "2021-05-18T11:02:40.978571",
     "exception": false,
     "start_time": "2021-05-18T11:02:40.689976",
     "status": "completed"
    },
    "tags": []
   },
   "outputs": [
    {
     "name": "stdout",
     "output_type": "stream",
     "text": [
      "Loading BERT tokenizer...\n"
     ]
    }
   ],
   "source": [
    "from transformers import BertTokenizer\n",
    "# Load the BERT tokenizer.\n",
    "print('Loading BERT tokenizer...')\n",
    "tokenizer = BertTokenizer.from_pretrained('bert-base-multilingual-cased', do_lower_case=True)"
   ]
  },
  {
   "cell_type": "markdown",
   "metadata": {
    "papermill": {
     "duration": 0.057653,
     "end_time": "2021-05-18T11:02:41.093658",
     "exception": false,
     "start_time": "2021-05-18T11:02:41.036005",
     "status": "completed"
    },
    "tags": []
   },
   "source": [
    "The tokenizer.encode function combines multiple steps for us:\n",
    "- Split the sentence into tokens.\n",
    "- Add the special [CLS] and [SEP] tokens.\n",
    "- Map the tokens to their IDs.\n",
    "\n",
    "Oddly, this function can perform truncating for us, but doesn’t handle padding."
   ]
  },
  {
   "cell_type": "markdown",
   "metadata": {
    "papermill": {
     "duration": 0.056894,
     "end_time": "2021-05-18T11:02:41.207448",
     "exception": false,
     "start_time": "2021-05-18T11:02:41.150554",
     "status": "completed"
    },
    "tags": []
   },
   "source": [
    "### Prep Data for Model"
   ]
  },
  {
   "cell_type": "code",
   "execution_count": 17,
   "metadata": {
    "execution": {
     "iopub.execute_input": "2021-05-18T11:02:41.329765Z",
     "iopub.status.busy": "2021-05-18T11:02:41.328966Z",
     "iopub.status.idle": "2021-05-18T11:02:41.331823Z",
     "shell.execute_reply": "2021-05-18T11:02:41.331418Z"
    },
    "papermill": {
     "duration": 0.067197,
     "end_time": "2021-05-18T11:02:41.331911",
     "exception": false,
     "start_time": "2021-05-18T11:02:41.264714",
     "status": "completed"
    },
    "tags": []
   },
   "outputs": [],
   "source": [
    "def sent_to_ids(sentences): \n",
    "    # Tokenize all of the sentences and map the tokens to thier word IDs.\n",
    "    input_ids = []\n",
    "    # For every sentence...\n",
    "    for sent in sentences:\n",
    "        # `encode` will:\n",
    "        #   (1) Tokenize the sentence.\n",
    "        #   (2) Prepend the `[CLS]` token to the start.\n",
    "        #   (3) Append the `[SEP]` token to the end.\n",
    "        #   (4) Map tokens to their IDs.\n",
    "        encoded_sent = tokenizer.encode(\n",
    "            sent,                      # Sentence to encode.\n",
    "            add_special_tokens = True, # Add '[CLS]' and '[SEP]'\n",
    "            # This function also supports truncation and conversion\n",
    "            # to pytorch tensors, but we need to do padding, so we\n",
    "            # can't use these features :( .\n",
    "            #max_length = 128,          # Truncate all sentences.\n",
    "            #return_tensors = 'pt',     # Return pytorch tensors.\n",
    "        )\n",
    "        # Add the encoded sentence to the list.\n",
    "        input_ids.append(encoded_sent)\n",
    "        # Pad and truncate our sequences so that they all have the same length\n",
    "    input_ids = pad_sequences(input_ids, maxlen=120, dtype=\"long\", \n",
    "                            value=0, truncating=\"post\", padding=\"post\")\n",
    "    return input_ids"
   ]
  },
  {
   "cell_type": "code",
   "execution_count": 18,
   "metadata": {
    "execution": {
     "iopub.execute_input": "2021-05-18T11:02:41.489014Z",
     "iopub.status.busy": "2021-05-18T11:02:41.478796Z",
     "iopub.status.idle": "2021-05-18T11:02:52.194366Z",
     "shell.execute_reply": "2021-05-18T11:02:52.192878Z"
    },
    "papermill": {
     "duration": 10.805845,
     "end_time": "2021-05-18T11:02:52.194495",
     "exception": false,
     "start_time": "2021-05-18T11:02:41.388650",
     "status": "completed"
    },
    "tags": []
   },
   "outputs": [],
   "source": [
    "train_inputs = sent_to_ids(sentences_train)"
   ]
  },
  {
   "cell_type": "code",
   "execution_count": 19,
   "metadata": {
    "execution": {
     "iopub.execute_input": "2021-05-18T11:02:52.380597Z",
     "iopub.status.busy": "2021-05-18T11:02:52.359946Z",
     "iopub.status.idle": "2021-05-18T11:02:56.966080Z",
     "shell.execute_reply": "2021-05-18T11:02:56.965520Z"
    },
    "papermill": {
     "duration": 4.707102,
     "end_time": "2021-05-18T11:02:56.966181",
     "exception": false,
     "start_time": "2021-05-18T11:02:52.259079",
     "status": "completed"
    },
    "tags": []
   },
   "outputs": [],
   "source": [
    "validation_inputs = sent_to_ids(sentences_valid)"
   ]
  },
  {
   "cell_type": "code",
   "execution_count": 20,
   "metadata": {
    "execution": {
     "iopub.execute_input": "2021-05-18T11:02:57.115490Z",
     "iopub.status.busy": "2021-05-18T11:02:57.094977Z",
     "iopub.status.idle": "2021-05-18T11:03:10.045693Z",
     "shell.execute_reply": "2021-05-18T11:03:10.044933Z"
    },
    "papermill": {
     "duration": 13.02143,
     "end_time": "2021-05-18T11:03:10.045811",
     "exception": false,
     "start_time": "2021-05-18T11:02:57.024381",
     "status": "completed"
    },
    "tags": []
   },
   "outputs": [],
   "source": [
    "test_inputs = sent_to_ids(sentences_test)"
   ]
  },
  {
   "cell_type": "code",
   "execution_count": 21,
   "metadata": {
    "execution": {
     "iopub.execute_input": "2021-05-18T11:03:10.168371Z",
     "iopub.status.busy": "2021-05-18T11:03:10.167630Z",
     "iopub.status.idle": "2021-05-18T11:03:10.171535Z",
     "shell.execute_reply": "2021-05-18T11:03:10.172262Z"
    },
    "papermill": {
     "duration": 0.067863,
     "end_time": "2021-05-18T11:03:10.172421",
     "exception": false,
     "start_time": "2021-05-18T11:03:10.104558",
     "status": "completed"
    },
    "tags": []
   },
   "outputs": [
    {
     "name": "stdout",
     "output_type": "stream",
     "text": [
      "Train: 15830 Valid: 7247 Test 20518\n"
     ]
    }
   ],
   "source": [
    "print(\"Train:\", len(train_inputs), \"Valid:\", len(validation_inputs), \"Test\", len(test_inputs))"
   ]
  },
  {
   "cell_type": "code",
   "execution_count": 22,
   "metadata": {
    "execution": {
     "iopub.execute_input": "2021-05-18T11:03:10.325176Z",
     "iopub.status.busy": "2021-05-18T11:03:10.324342Z",
     "iopub.status.idle": "2021-05-18T11:03:10.327279Z",
     "shell.execute_reply": "2021-05-18T11:03:10.326752Z"
    },
    "papermill": {
     "duration": 0.068596,
     "end_time": "2021-05-18T11:03:10.327367",
     "exception": false,
     "start_time": "2021-05-18T11:03:10.258771",
     "status": "completed"
    },
    "tags": []
   },
   "outputs": [],
   "source": [
    "def get_attn_msks(input_ids):\n",
    "  # Create attention masks\n",
    "    attention_masks = []\n",
    "  # For each sentence...\n",
    "    for sent in input_ids:\n",
    "        # Create the attention mask.\n",
    "        #   - If a token ID is 0, then it's padding, set the mask to 0.\n",
    "        #   - If a token ID is > 0, then it's a real token, set the mask to 1.\n",
    "        att_mask = [int(token_id > 0) for token_id in sent]\n",
    "      \n",
    "        # Store the attention mask for this sentence.\n",
    "        attention_masks.append(att_mask)\n",
    "    return attention_masks"
   ]
  },
  {
   "cell_type": "code",
   "execution_count": 23,
   "metadata": {
    "execution": {
     "iopub.execute_input": "2021-05-18T11:03:10.471379Z",
     "iopub.status.busy": "2021-05-18T11:03:10.461157Z",
     "iopub.status.idle": "2021-05-18T11:03:12.189769Z",
     "shell.execute_reply": "2021-05-18T11:03:12.188466Z"
    },
    "papermill": {
     "duration": 1.804711,
     "end_time": "2021-05-18T11:03:12.189872",
     "exception": false,
     "start_time": "2021-05-18T11:03:10.385161",
     "status": "completed"
    },
    "tags": []
   },
   "outputs": [],
   "source": [
    "train_masks = get_attn_msks(train_inputs)"
   ]
  },
  {
   "cell_type": "code",
   "execution_count": 24,
   "metadata": {
    "execution": {
     "iopub.execute_input": "2021-05-18T11:03:12.329657Z",
     "iopub.status.busy": "2021-05-18T11:03:12.319501Z",
     "iopub.status.idle": "2021-05-18T11:03:13.100164Z",
     "shell.execute_reply": "2021-05-18T11:03:13.099653Z"
    },
    "papermill": {
     "duration": 0.851984,
     "end_time": "2021-05-18T11:03:13.100265",
     "exception": false,
     "start_time": "2021-05-18T11:03:12.248281",
     "status": "completed"
    },
    "tags": []
   },
   "outputs": [],
   "source": [
    "validation_masks = get_attn_msks(validation_inputs)"
   ]
  },
  {
   "cell_type": "code",
   "execution_count": 25,
   "metadata": {
    "execution": {
     "iopub.execute_input": "2021-05-18T11:03:13.240544Z",
     "iopub.status.busy": "2021-05-18T11:03:13.235483Z",
     "iopub.status.idle": "2021-05-18T11:03:15.474904Z",
     "shell.execute_reply": "2021-05-18T11:03:15.474415Z"
    },
    "papermill": {
     "duration": 2.316252,
     "end_time": "2021-05-18T11:03:15.475008",
     "exception": false,
     "start_time": "2021-05-18T11:03:13.158756",
     "status": "completed"
    },
    "tags": []
   },
   "outputs": [],
   "source": [
    "test_masks = get_attn_msks(test_inputs)"
   ]
  },
  {
   "cell_type": "markdown",
   "metadata": {
    "papermill": {
     "duration": 0.058275,
     "end_time": "2021-05-18T11:03:15.592619",
     "exception": false,
     "start_time": "2021-05-18T11:03:15.534344",
     "status": "completed"
    },
    "tags": []
   },
   "source": [
    "Converting to PyTorch Data Types\n",
    "\n",
    "Our model expects PyTorch tensors rather than numpy.ndarrays, so convert all of our dataset variables."
   ]
  },
  {
   "cell_type": "code",
   "execution_count": 26,
   "metadata": {
    "execution": {
     "iopub.execute_input": "2021-05-18T11:03:15.721322Z",
     "iopub.status.busy": "2021-05-18T11:03:15.720675Z",
     "iopub.status.idle": "2021-05-18T11:03:16.035585Z",
     "shell.execute_reply": "2021-05-18T11:03:16.035074Z"
    },
    "papermill": {
     "duration": 0.384482,
     "end_time": "2021-05-18T11:03:16.035682",
     "exception": false,
     "start_time": "2021-05-18T11:03:15.651200",
     "status": "completed"
    },
    "tags": []
   },
   "outputs": [],
   "source": [
    "# Convert all inputs and labels into torch tensors, the required datatype \n",
    "# for our model.\n",
    "train_inputs = torch.tensor(train_inputs)\n",
    "validation_inputs = torch.tensor(validation_inputs)\n",
    "train_labels = torch.tensor(train_labels)\n",
    "validation_labels = torch.tensor(validation_labels)\n",
    "train_masks = torch.tensor(train_masks)\n",
    "validation_masks = torch.tensor(validation_masks)\n",
    "\n",
    "train_ids = torch.tensor(ids_train)\n",
    "valid_ids = torch.tensor(ids_validation)"
   ]
  },
  {
   "cell_type": "code",
   "execution_count": 27,
   "metadata": {
    "execution": {
     "iopub.execute_input": "2021-05-18T11:03:16.159154Z",
     "iopub.status.busy": "2021-05-18T11:03:16.158327Z",
     "iopub.status.idle": "2021-05-18T11:03:16.162641Z",
     "shell.execute_reply": "2021-05-18T11:03:16.163217Z"
    },
    "papermill": {
     "duration": 0.068251,
     "end_time": "2021-05-18T11:03:16.163373",
     "exception": false,
     "start_time": "2021-05-18T11:03:16.095122",
     "status": "completed"
    },
    "tags": []
   },
   "outputs": [
    {
     "name": "stdout",
     "output_type": "stream",
     "text": [
      "Train: 15830 Valid: 7247 Test 20518\n"
     ]
    }
   ],
   "source": [
    "print(\"Train:\", len(train_inputs), \"Valid:\", len(validation_inputs), \"Test\", len(test_inputs))"
   ]
  },
  {
   "cell_type": "markdown",
   "metadata": {
    "papermill": {
     "duration": 0.058361,
     "end_time": "2021-05-18T11:03:16.283879",
     "exception": false,
     "start_time": "2021-05-18T11:03:16.225518",
     "status": "completed"
    },
    "tags": []
   },
   "source": [
    "We’ll also create an iterator for our dataset using the torch DataLoader class. This helps save on memory during training because, unlike a for loop, with an iterator the entire dataset does not need to be loaded into memory."
   ]
  },
  {
   "cell_type": "code",
   "execution_count": 28,
   "metadata": {
    "execution": {
     "iopub.execute_input": "2021-05-18T11:03:16.411012Z",
     "iopub.status.busy": "2021-05-18T11:03:16.410261Z",
     "iopub.status.idle": "2021-05-18T11:03:16.412874Z",
     "shell.execute_reply": "2021-05-18T11:03:16.412476Z"
    },
    "papermill": {
     "duration": 0.070423,
     "end_time": "2021-05-18T11:03:16.412970",
     "exception": false,
     "start_time": "2021-05-18T11:03:16.342547",
     "status": "completed"
    },
    "tags": []
   },
   "outputs": [],
   "source": [
    "from torch.utils.data import TensorDataset, DataLoader, RandomSampler, SequentialSampler\n",
    "# The DataLoader needs to know our batch size for training, so we specify it \n",
    "# here.\n",
    "# For fine-tuning BERT on a specific task, the authors recommend a batch size of\n",
    "# 16 or 32.\n",
    "batch_size = 32 # try 32, and then move down to 16 and 8. \n",
    "# Create the DataLoader for our training set.\n",
    "train_data = TensorDataset(train_inputs, train_masks, train_labels, train_ids)\n",
    "train_sampler = RandomSampler(train_data) # CHANGE TO SEQUENTIAL (TRAIN_SEQUENTIAL_SAMPLER - BUT DO SEQUENTIALLY FOR HIDDEN STATES)\n",
    "train_dataloader = DataLoader(train_data, sampler=train_sampler, batch_size=batch_size)\n",
    "# Create the DataLoader for our validation set.\n",
    "validation_data = TensorDataset(validation_inputs, validation_masks, validation_labels, valid_ids)\n",
    "validation_sampler = SequentialSampler(validation_data)\n",
    "validation_dataloader = DataLoader(validation_data, sampler=validation_sampler, batch_size=batch_size)\n",
    "\n",
    "# Create the DataLoader for our training set for the embedding extraction.\n",
    "train_sampler_sequential = SequentialSampler(train_data) # CHANGE TO SEQUENTIAL (TRAIN_SEQUENTIAL_SAMPLER - BUT DO SEQUENTIALLY FOR HIDDEN STATES)\n",
    "train_dataloader_sequential = DataLoader(train_data, sampler=train_sampler_sequential, batch_size=batch_size)"
   ]
  },
  {
   "cell_type": "markdown",
   "metadata": {
    "papermill": {
     "duration": 0.058352,
     "end_time": "2021-05-18T11:03:16.530477",
     "exception": false,
     "start_time": "2021-05-18T11:03:16.472125",
     "status": "completed"
    },
    "tags": []
   },
   "source": [
    "Now that our input data is properly formatted, it’s time to fine tune the BERT model.\n",
    "\n",
    "For this task, we first want to modify the pre-trained BERT model to give outputs for classification, and then we want to continue training the model on our dataset until that the entire model, end-to-end, is well-suited for our task.\n",
    "\n",
    "Thankfully, the huggingface pytorch implementation includes a set of interfaces designed for a variety of NLP tasks. Though these interfaces are all built on top of a trained BERT model, each has different top layers and output types designed to accomodate their specific NLP task.\n",
    "\n",
    "We’ll be using Bert Classification Model.This is the normal BERT model with an added single linear layer on top for classification that we will use as a sentence classifier. As we feed input data, the entire pre-trained BERT model and the additional untrained classification layer is trained on our specific task.\n"
   ]
  },
  {
   "cell_type": "code",
   "execution_count": 29,
   "metadata": {
    "execution": {
     "iopub.execute_input": "2021-05-18T11:03:16.654413Z",
     "iopub.status.busy": "2021-05-18T11:03:16.653762Z",
     "iopub.status.idle": "2021-05-18T11:03:45.872877Z",
     "shell.execute_reply": "2021-05-18T11:03:45.872072Z"
    },
    "papermill": {
     "duration": 29.283911,
     "end_time": "2021-05-18T11:03:45.872980",
     "exception": false,
     "start_time": "2021-05-18T11:03:16.589069",
     "status": "completed"
    },
    "tags": []
   },
   "outputs": [
    {
     "data": {
      "application/vnd.jupyter.widget-view+json": {
       "model_id": "19b7737a4b85499f980e78352366bc08",
       "version_major": 2,
       "version_minor": 0
      },
      "text/plain": [
       "HBox(children=(FloatProgress(value=0.0, description='Downloading', max=625.0, style=ProgressStyle(description_…"
      ]
     },
     "metadata": {},
     "output_type": "display_data"
    },
    {
     "name": "stdout",
     "output_type": "stream",
     "text": [
      "\n"
     ]
    },
    {
     "data": {
      "application/vnd.jupyter.widget-view+json": {
       "model_id": "685292915efd409abe7776eb1e5b1d25",
       "version_major": 2,
       "version_minor": 0
      },
      "text/plain": [
       "HBox(children=(FloatProgress(value=0.0, description='Downloading', max=714314041.0, style=ProgressStyle(descri…"
      ]
     },
     "metadata": {},
     "output_type": "display_data"
    },
    {
     "name": "stdout",
     "output_type": "stream",
     "text": [
      "\n"
     ]
    },
    {
     "name": "stderr",
     "output_type": "stream",
     "text": [
      "Some weights of the model checkpoint at bert-base-multilingual-cased were not used when initializing BertForSequenceClassification: ['cls.predictions.bias', 'cls.predictions.transform.dense.weight', 'cls.predictions.transform.dense.bias', 'cls.predictions.decoder.weight', 'cls.seq_relationship.weight', 'cls.seq_relationship.bias', 'cls.predictions.transform.LayerNorm.weight', 'cls.predictions.transform.LayerNorm.bias']\n",
      "- This IS expected if you are initializing BertForSequenceClassification from the checkpoint of a model trained on another task or with another architecture (e.g. initializing a BertForSequenceClassification model from a BertForPreTraining model).\n",
      "- This IS NOT expected if you are initializing BertForSequenceClassification from the checkpoint of a model that you expect to be exactly identical (initializing a BertForSequenceClassification model from a BertForSequenceClassification model).\n",
      "Some weights of BertForSequenceClassification were not initialized from the model checkpoint at bert-base-multilingual-cased and are newly initialized: ['classifier.weight', 'classifier.bias']\n",
      "You should probably TRAIN this model on a down-stream task to be able to use it for predictions and inference.\n"
     ]
    },
    {
     "data": {
      "text/plain": [
       "BertForSequenceClassification(\n",
       "  (bert): BertModel(\n",
       "    (embeddings): BertEmbeddings(\n",
       "      (word_embeddings): Embedding(119547, 768, padding_idx=0)\n",
       "      (position_embeddings): Embedding(512, 768)\n",
       "      (token_type_embeddings): Embedding(2, 768)\n",
       "      (LayerNorm): LayerNorm((768,), eps=1e-12, elementwise_affine=True)\n",
       "      (dropout): Dropout(p=0.1, inplace=False)\n",
       "    )\n",
       "    (encoder): BertEncoder(\n",
       "      (layer): ModuleList(\n",
       "        (0): BertLayer(\n",
       "          (attention): BertAttention(\n",
       "            (self): BertSelfAttention(\n",
       "              (query): Linear(in_features=768, out_features=768, bias=True)\n",
       "              (key): Linear(in_features=768, out_features=768, bias=True)\n",
       "              (value): Linear(in_features=768, out_features=768, bias=True)\n",
       "              (dropout): Dropout(p=0.1, inplace=False)\n",
       "            )\n",
       "            (output): BertSelfOutput(\n",
       "              (dense): Linear(in_features=768, out_features=768, bias=True)\n",
       "              (LayerNorm): LayerNorm((768,), eps=1e-12, elementwise_affine=True)\n",
       "              (dropout): Dropout(p=0.1, inplace=False)\n",
       "            )\n",
       "          )\n",
       "          (intermediate): BertIntermediate(\n",
       "            (dense): Linear(in_features=768, out_features=3072, bias=True)\n",
       "          )\n",
       "          (output): BertOutput(\n",
       "            (dense): Linear(in_features=3072, out_features=768, bias=True)\n",
       "            (LayerNorm): LayerNorm((768,), eps=1e-12, elementwise_affine=True)\n",
       "            (dropout): Dropout(p=0.1, inplace=False)\n",
       "          )\n",
       "        )\n",
       "        (1): BertLayer(\n",
       "          (attention): BertAttention(\n",
       "            (self): BertSelfAttention(\n",
       "              (query): Linear(in_features=768, out_features=768, bias=True)\n",
       "              (key): Linear(in_features=768, out_features=768, bias=True)\n",
       "              (value): Linear(in_features=768, out_features=768, bias=True)\n",
       "              (dropout): Dropout(p=0.1, inplace=False)\n",
       "            )\n",
       "            (output): BertSelfOutput(\n",
       "              (dense): Linear(in_features=768, out_features=768, bias=True)\n",
       "              (LayerNorm): LayerNorm((768,), eps=1e-12, elementwise_affine=True)\n",
       "              (dropout): Dropout(p=0.1, inplace=False)\n",
       "            )\n",
       "          )\n",
       "          (intermediate): BertIntermediate(\n",
       "            (dense): Linear(in_features=768, out_features=3072, bias=True)\n",
       "          )\n",
       "          (output): BertOutput(\n",
       "            (dense): Linear(in_features=3072, out_features=768, bias=True)\n",
       "            (LayerNorm): LayerNorm((768,), eps=1e-12, elementwise_affine=True)\n",
       "            (dropout): Dropout(p=0.1, inplace=False)\n",
       "          )\n",
       "        )\n",
       "        (2): BertLayer(\n",
       "          (attention): BertAttention(\n",
       "            (self): BertSelfAttention(\n",
       "              (query): Linear(in_features=768, out_features=768, bias=True)\n",
       "              (key): Linear(in_features=768, out_features=768, bias=True)\n",
       "              (value): Linear(in_features=768, out_features=768, bias=True)\n",
       "              (dropout): Dropout(p=0.1, inplace=False)\n",
       "            )\n",
       "            (output): BertSelfOutput(\n",
       "              (dense): Linear(in_features=768, out_features=768, bias=True)\n",
       "              (LayerNorm): LayerNorm((768,), eps=1e-12, elementwise_affine=True)\n",
       "              (dropout): Dropout(p=0.1, inplace=False)\n",
       "            )\n",
       "          )\n",
       "          (intermediate): BertIntermediate(\n",
       "            (dense): Linear(in_features=768, out_features=3072, bias=True)\n",
       "          )\n",
       "          (output): BertOutput(\n",
       "            (dense): Linear(in_features=3072, out_features=768, bias=True)\n",
       "            (LayerNorm): LayerNorm((768,), eps=1e-12, elementwise_affine=True)\n",
       "            (dropout): Dropout(p=0.1, inplace=False)\n",
       "          )\n",
       "        )\n",
       "        (3): BertLayer(\n",
       "          (attention): BertAttention(\n",
       "            (self): BertSelfAttention(\n",
       "              (query): Linear(in_features=768, out_features=768, bias=True)\n",
       "              (key): Linear(in_features=768, out_features=768, bias=True)\n",
       "              (value): Linear(in_features=768, out_features=768, bias=True)\n",
       "              (dropout): Dropout(p=0.1, inplace=False)\n",
       "            )\n",
       "            (output): BertSelfOutput(\n",
       "              (dense): Linear(in_features=768, out_features=768, bias=True)\n",
       "              (LayerNorm): LayerNorm((768,), eps=1e-12, elementwise_affine=True)\n",
       "              (dropout): Dropout(p=0.1, inplace=False)\n",
       "            )\n",
       "          )\n",
       "          (intermediate): BertIntermediate(\n",
       "            (dense): Linear(in_features=768, out_features=3072, bias=True)\n",
       "          )\n",
       "          (output): BertOutput(\n",
       "            (dense): Linear(in_features=3072, out_features=768, bias=True)\n",
       "            (LayerNorm): LayerNorm((768,), eps=1e-12, elementwise_affine=True)\n",
       "            (dropout): Dropout(p=0.1, inplace=False)\n",
       "          )\n",
       "        )\n",
       "        (4): BertLayer(\n",
       "          (attention): BertAttention(\n",
       "            (self): BertSelfAttention(\n",
       "              (query): Linear(in_features=768, out_features=768, bias=True)\n",
       "              (key): Linear(in_features=768, out_features=768, bias=True)\n",
       "              (value): Linear(in_features=768, out_features=768, bias=True)\n",
       "              (dropout): Dropout(p=0.1, inplace=False)\n",
       "            )\n",
       "            (output): BertSelfOutput(\n",
       "              (dense): Linear(in_features=768, out_features=768, bias=True)\n",
       "              (LayerNorm): LayerNorm((768,), eps=1e-12, elementwise_affine=True)\n",
       "              (dropout): Dropout(p=0.1, inplace=False)\n",
       "            )\n",
       "          )\n",
       "          (intermediate): BertIntermediate(\n",
       "            (dense): Linear(in_features=768, out_features=3072, bias=True)\n",
       "          )\n",
       "          (output): BertOutput(\n",
       "            (dense): Linear(in_features=3072, out_features=768, bias=True)\n",
       "            (LayerNorm): LayerNorm((768,), eps=1e-12, elementwise_affine=True)\n",
       "            (dropout): Dropout(p=0.1, inplace=False)\n",
       "          )\n",
       "        )\n",
       "        (5): BertLayer(\n",
       "          (attention): BertAttention(\n",
       "            (self): BertSelfAttention(\n",
       "              (query): Linear(in_features=768, out_features=768, bias=True)\n",
       "              (key): Linear(in_features=768, out_features=768, bias=True)\n",
       "              (value): Linear(in_features=768, out_features=768, bias=True)\n",
       "              (dropout): Dropout(p=0.1, inplace=False)\n",
       "            )\n",
       "            (output): BertSelfOutput(\n",
       "              (dense): Linear(in_features=768, out_features=768, bias=True)\n",
       "              (LayerNorm): LayerNorm((768,), eps=1e-12, elementwise_affine=True)\n",
       "              (dropout): Dropout(p=0.1, inplace=False)\n",
       "            )\n",
       "          )\n",
       "          (intermediate): BertIntermediate(\n",
       "            (dense): Linear(in_features=768, out_features=3072, bias=True)\n",
       "          )\n",
       "          (output): BertOutput(\n",
       "            (dense): Linear(in_features=3072, out_features=768, bias=True)\n",
       "            (LayerNorm): LayerNorm((768,), eps=1e-12, elementwise_affine=True)\n",
       "            (dropout): Dropout(p=0.1, inplace=False)\n",
       "          )\n",
       "        )\n",
       "        (6): BertLayer(\n",
       "          (attention): BertAttention(\n",
       "            (self): BertSelfAttention(\n",
       "              (query): Linear(in_features=768, out_features=768, bias=True)\n",
       "              (key): Linear(in_features=768, out_features=768, bias=True)\n",
       "              (value): Linear(in_features=768, out_features=768, bias=True)\n",
       "              (dropout): Dropout(p=0.1, inplace=False)\n",
       "            )\n",
       "            (output): BertSelfOutput(\n",
       "              (dense): Linear(in_features=768, out_features=768, bias=True)\n",
       "              (LayerNorm): LayerNorm((768,), eps=1e-12, elementwise_affine=True)\n",
       "              (dropout): Dropout(p=0.1, inplace=False)\n",
       "            )\n",
       "          )\n",
       "          (intermediate): BertIntermediate(\n",
       "            (dense): Linear(in_features=768, out_features=3072, bias=True)\n",
       "          )\n",
       "          (output): BertOutput(\n",
       "            (dense): Linear(in_features=3072, out_features=768, bias=True)\n",
       "            (LayerNorm): LayerNorm((768,), eps=1e-12, elementwise_affine=True)\n",
       "            (dropout): Dropout(p=0.1, inplace=False)\n",
       "          )\n",
       "        )\n",
       "        (7): BertLayer(\n",
       "          (attention): BertAttention(\n",
       "            (self): BertSelfAttention(\n",
       "              (query): Linear(in_features=768, out_features=768, bias=True)\n",
       "              (key): Linear(in_features=768, out_features=768, bias=True)\n",
       "              (value): Linear(in_features=768, out_features=768, bias=True)\n",
       "              (dropout): Dropout(p=0.1, inplace=False)\n",
       "            )\n",
       "            (output): BertSelfOutput(\n",
       "              (dense): Linear(in_features=768, out_features=768, bias=True)\n",
       "              (LayerNorm): LayerNorm((768,), eps=1e-12, elementwise_affine=True)\n",
       "              (dropout): Dropout(p=0.1, inplace=False)\n",
       "            )\n",
       "          )\n",
       "          (intermediate): BertIntermediate(\n",
       "            (dense): Linear(in_features=768, out_features=3072, bias=True)\n",
       "          )\n",
       "          (output): BertOutput(\n",
       "            (dense): Linear(in_features=3072, out_features=768, bias=True)\n",
       "            (LayerNorm): LayerNorm((768,), eps=1e-12, elementwise_affine=True)\n",
       "            (dropout): Dropout(p=0.1, inplace=False)\n",
       "          )\n",
       "        )\n",
       "        (8): BertLayer(\n",
       "          (attention): BertAttention(\n",
       "            (self): BertSelfAttention(\n",
       "              (query): Linear(in_features=768, out_features=768, bias=True)\n",
       "              (key): Linear(in_features=768, out_features=768, bias=True)\n",
       "              (value): Linear(in_features=768, out_features=768, bias=True)\n",
       "              (dropout): Dropout(p=0.1, inplace=False)\n",
       "            )\n",
       "            (output): BertSelfOutput(\n",
       "              (dense): Linear(in_features=768, out_features=768, bias=True)\n",
       "              (LayerNorm): LayerNorm((768,), eps=1e-12, elementwise_affine=True)\n",
       "              (dropout): Dropout(p=0.1, inplace=False)\n",
       "            )\n",
       "          )\n",
       "          (intermediate): BertIntermediate(\n",
       "            (dense): Linear(in_features=768, out_features=3072, bias=True)\n",
       "          )\n",
       "          (output): BertOutput(\n",
       "            (dense): Linear(in_features=3072, out_features=768, bias=True)\n",
       "            (LayerNorm): LayerNorm((768,), eps=1e-12, elementwise_affine=True)\n",
       "            (dropout): Dropout(p=0.1, inplace=False)\n",
       "          )\n",
       "        )\n",
       "        (9): BertLayer(\n",
       "          (attention): BertAttention(\n",
       "            (self): BertSelfAttention(\n",
       "              (query): Linear(in_features=768, out_features=768, bias=True)\n",
       "              (key): Linear(in_features=768, out_features=768, bias=True)\n",
       "              (value): Linear(in_features=768, out_features=768, bias=True)\n",
       "              (dropout): Dropout(p=0.1, inplace=False)\n",
       "            )\n",
       "            (output): BertSelfOutput(\n",
       "              (dense): Linear(in_features=768, out_features=768, bias=True)\n",
       "              (LayerNorm): LayerNorm((768,), eps=1e-12, elementwise_affine=True)\n",
       "              (dropout): Dropout(p=0.1, inplace=False)\n",
       "            )\n",
       "          )\n",
       "          (intermediate): BertIntermediate(\n",
       "            (dense): Linear(in_features=768, out_features=3072, bias=True)\n",
       "          )\n",
       "          (output): BertOutput(\n",
       "            (dense): Linear(in_features=3072, out_features=768, bias=True)\n",
       "            (LayerNorm): LayerNorm((768,), eps=1e-12, elementwise_affine=True)\n",
       "            (dropout): Dropout(p=0.1, inplace=False)\n",
       "          )\n",
       "        )\n",
       "        (10): BertLayer(\n",
       "          (attention): BertAttention(\n",
       "            (self): BertSelfAttention(\n",
       "              (query): Linear(in_features=768, out_features=768, bias=True)\n",
       "              (key): Linear(in_features=768, out_features=768, bias=True)\n",
       "              (value): Linear(in_features=768, out_features=768, bias=True)\n",
       "              (dropout): Dropout(p=0.1, inplace=False)\n",
       "            )\n",
       "            (output): BertSelfOutput(\n",
       "              (dense): Linear(in_features=768, out_features=768, bias=True)\n",
       "              (LayerNorm): LayerNorm((768,), eps=1e-12, elementwise_affine=True)\n",
       "              (dropout): Dropout(p=0.1, inplace=False)\n",
       "            )\n",
       "          )\n",
       "          (intermediate): BertIntermediate(\n",
       "            (dense): Linear(in_features=768, out_features=3072, bias=True)\n",
       "          )\n",
       "          (output): BertOutput(\n",
       "            (dense): Linear(in_features=3072, out_features=768, bias=True)\n",
       "            (LayerNorm): LayerNorm((768,), eps=1e-12, elementwise_affine=True)\n",
       "            (dropout): Dropout(p=0.1, inplace=False)\n",
       "          )\n",
       "        )\n",
       "        (11): BertLayer(\n",
       "          (attention): BertAttention(\n",
       "            (self): BertSelfAttention(\n",
       "              (query): Linear(in_features=768, out_features=768, bias=True)\n",
       "              (key): Linear(in_features=768, out_features=768, bias=True)\n",
       "              (value): Linear(in_features=768, out_features=768, bias=True)\n",
       "              (dropout): Dropout(p=0.1, inplace=False)\n",
       "            )\n",
       "            (output): BertSelfOutput(\n",
       "              (dense): Linear(in_features=768, out_features=768, bias=True)\n",
       "              (LayerNorm): LayerNorm((768,), eps=1e-12, elementwise_affine=True)\n",
       "              (dropout): Dropout(p=0.1, inplace=False)\n",
       "            )\n",
       "          )\n",
       "          (intermediate): BertIntermediate(\n",
       "            (dense): Linear(in_features=768, out_features=3072, bias=True)\n",
       "          )\n",
       "          (output): BertOutput(\n",
       "            (dense): Linear(in_features=3072, out_features=768, bias=True)\n",
       "            (LayerNorm): LayerNorm((768,), eps=1e-12, elementwise_affine=True)\n",
       "            (dropout): Dropout(p=0.1, inplace=False)\n",
       "          )\n",
       "        )\n",
       "      )\n",
       "    )\n",
       "    (pooler): BertPooler(\n",
       "      (dense): Linear(in_features=768, out_features=768, bias=True)\n",
       "      (activation): Tanh()\n",
       "    )\n",
       "  )\n",
       "  (dropout): Dropout(p=0.1, inplace=False)\n",
       "  (classifier): Linear(in_features=768, out_features=2, bias=True)\n",
       ")"
      ]
     },
     "execution_count": 29,
     "metadata": {},
     "output_type": "execute_result"
    }
   ],
   "source": [
    "from transformers import BertForSequenceClassification, AdamW, BertConfig\n",
    "# Load BertForSequenceClassification, the pretrained BERT model with a single \n",
    "# linear classification layer on top. \n",
    "model = BertForSequenceClassification.from_pretrained(\n",
    "    \"bert-base-multilingual-cased\", # Use the 12-layer BERT model, with an uncased vocab.\n",
    "    num_labels = 2, # The number of output labels--2 for binary classification.\n",
    "                    # You can increase this for multi-class tasks.   \n",
    "    output_attentions = False, # Whether the model returns attentions weights.\n",
    "    output_hidden_states = True, # Whether the model returns all hidden-states.\n",
    ")\n",
    "# Tell pytorch to run this model on the GPU.\n",
    "model.cuda()"
   ]
  },
  {
   "cell_type": "markdown",
   "metadata": {
    "papermill": {
     "duration": 0.062202,
     "end_time": "2021-05-18T11:03:45.998628",
     "exception": false,
     "start_time": "2021-05-18T11:03:45.936426",
     "status": "completed"
    },
    "tags": []
   },
   "source": [
    "In the below cell we can check the names and dimensions of the weights for:The embedding layer,The first of the twelve transformers & The output layer."
   ]
  },
  {
   "cell_type": "code",
   "execution_count": 30,
   "metadata": {
    "execution": {
     "iopub.execute_input": "2021-05-18T11:03:46.135327Z",
     "iopub.status.busy": "2021-05-18T11:03:46.134425Z",
     "iopub.status.idle": "2021-05-18T11:03:46.141440Z",
     "shell.execute_reply": "2021-05-18T11:03:46.140776Z"
    },
    "papermill": {
     "duration": 0.080985,
     "end_time": "2021-05-18T11:03:46.141561",
     "exception": false,
     "start_time": "2021-05-18T11:03:46.060576",
     "status": "completed"
    },
    "tags": []
   },
   "outputs": [
    {
     "name": "stdout",
     "output_type": "stream",
     "text": [
      "The BERT model has 201 different named parameters.\n",
      "\n",
      "==== Embedding Layer ====\n",
      "\n",
      "bert.embeddings.word_embeddings.weight                  (119547, 768)\n",
      "bert.embeddings.position_embeddings.weight                (512, 768)\n",
      "bert.embeddings.token_type_embeddings.weight                (2, 768)\n",
      "bert.embeddings.LayerNorm.weight                              (768,)\n",
      "bert.embeddings.LayerNorm.bias                                (768,)\n",
      "\n",
      "==== First Transformer ====\n",
      "\n",
      "bert.encoder.layer.0.attention.self.query.weight          (768, 768)\n",
      "bert.encoder.layer.0.attention.self.query.bias                (768,)\n",
      "bert.encoder.layer.0.attention.self.key.weight            (768, 768)\n",
      "bert.encoder.layer.0.attention.self.key.bias                  (768,)\n",
      "bert.encoder.layer.0.attention.self.value.weight          (768, 768)\n",
      "bert.encoder.layer.0.attention.self.value.bias                (768,)\n",
      "bert.encoder.layer.0.attention.output.dense.weight        (768, 768)\n",
      "bert.encoder.layer.0.attention.output.dense.bias              (768,)\n",
      "bert.encoder.layer.0.attention.output.LayerNorm.weight        (768,)\n",
      "bert.encoder.layer.0.attention.output.LayerNorm.bias          (768,)\n",
      "bert.encoder.layer.0.intermediate.dense.weight           (3072, 768)\n",
      "bert.encoder.layer.0.intermediate.dense.bias                 (3072,)\n",
      "bert.encoder.layer.0.output.dense.weight                 (768, 3072)\n",
      "bert.encoder.layer.0.output.dense.bias                        (768,)\n",
      "bert.encoder.layer.0.output.LayerNorm.weight                  (768,)\n",
      "bert.encoder.layer.0.output.LayerNorm.bias                    (768,)\n",
      "\n",
      "==== Output Layer ====\n",
      "\n",
      "bert.pooler.dense.weight                                  (768, 768)\n",
      "bert.pooler.dense.bias                                        (768,)\n",
      "classifier.weight                                           (2, 768)\n",
      "classifier.bias                                                 (2,)\n"
     ]
    }
   ],
   "source": [
    "# Get all of the model's parameters as a list of tuples.\n",
    "params = list(model.named_parameters())\n",
    "print('The BERT model has {:} different named parameters.\\n'.format(len(params)))\n",
    "print('==== Embedding Layer ====\\n')\n",
    "for p in params[0:5]:\n",
    "    print(\"{:<55} {:>12}\".format(p[0], str(tuple(p[1].size()))))\n",
    "print('\\n==== First Transformer ====\\n')\n",
    "for p in params[5:21]:\n",
    "    print(\"{:<55} {:>12}\".format(p[0], str(tuple(p[1].size()))))\n",
    "print('\\n==== Output Layer ====\\n')\n",
    "for p in params[-4:]:\n",
    "    print(\"{:<55} {:>12}\".format(p[0], str(tuple(p[1].size()))))"
   ]
  },
  {
   "cell_type": "markdown",
   "metadata": {
    "papermill": {
     "duration": 0.063011,
     "end_time": "2021-05-18T11:03:46.267017",
     "exception": false,
     "start_time": "2021-05-18T11:03:46.204006",
     "status": "completed"
    },
    "tags": []
   },
   "source": [
    "Now that we have our model loaded we need to grab the training hyperparameters from within the stored model."
   ]
  },
  {
   "cell_type": "markdown",
   "metadata": {
    "papermill": {
     "duration": 0.062092,
     "end_time": "2021-05-18T11:03:46.391530",
     "exception": false,
     "start_time": "2021-05-18T11:03:46.329438",
     "status": "completed"
    },
    "tags": []
   },
   "source": [
    "For the purposes of fine-tuning, we'll use the following values:\n",
    "\n",
    "- Batch size: 16, 32 (We chose 32 when creating our DataLoaders).\n",
    "- Learning rate (Adam): 5e-5, 3e-5, 2e-5 (We’ll use 2e-5).\n",
    "- Number of epochs: 2, 3, 4 (We’ll use 4).\n",
    "\n",
    "The epsilon parameter eps = 1e-8 is “a very small number to prevent any division by zero in the implementation”\n",
    "\n",
    "https://medium.com/@aniruddha.choudhury94/part-2-bert-fine-tuning-tutorial-with-pytorch-for-text-classification-on-the-corpus-of-linguistic-18057ce330e1"
   ]
  },
  {
   "cell_type": "code",
   "execution_count": 31,
   "metadata": {
    "execution": {
     "iopub.execute_input": "2021-05-18T11:03:46.527304Z",
     "iopub.status.busy": "2021-05-18T11:03:46.526382Z",
     "iopub.status.idle": "2021-05-18T11:03:46.528942Z",
     "shell.execute_reply": "2021-05-18T11:03:46.529379Z"
    },
    "papermill": {
     "duration": 0.075588,
     "end_time": "2021-05-18T11:03:46.529484",
     "exception": false,
     "start_time": "2021-05-18T11:03:46.453896",
     "status": "completed"
    },
    "tags": []
   },
   "outputs": [],
   "source": [
    "# Note: AdamW is a class from the huggingface library (as opposed to pytorch) \n",
    "# I believe the 'W' stands for 'Weight Decay fix\"\n",
    "# Cross entropy is used as the loss by default\n",
    "optimizer = AdamW(model.parameters(),\n",
    "                  lr = 2e-5, # args.learning_rate - default is 5e-5, our notebook had 2e-5\n",
    "                  eps = 1e-8 # args.adam_epsilon  - default is 1e-8.\n",
    "                )\n",
    "from transformers import get_linear_schedule_with_warmup\n",
    "# Number of training epochs (authors recommend between 2 and 4)\n",
    "epochs = 2\n",
    "# Total number of training steps is number of batches * number of epochs.\n",
    "total_steps = len(train_dataloader) * epochs\n",
    "# Create the learning rate scheduler.\n",
    "scheduler = get_linear_schedule_with_warmup(optimizer, \n",
    "                                            num_warmup_steps = 0, # Default value in run_glue.py\n",
    "                                            num_training_steps = total_steps)"
   ]
  },
  {
   "cell_type": "markdown",
   "metadata": {
    "papermill": {
     "duration": 0.061976,
     "end_time": "2021-05-18T11:03:46.653790",
     "exception": false,
     "start_time": "2021-05-18T11:03:46.591814",
     "status": "completed"
    },
    "tags": []
   },
   "source": [
    "4.3. Training Loop\n",
    "Below is our training loop. There’s a lot going on, but fundamentally for each pass in our loop we have a trianing phase and a validation phase. At each pass we need to:\n",
    "\n",
    "Training loop:\n",
    "\n",
    "- Unpack our data inputs and labels\n",
    "- Load data onto the GPU for acceleration\n",
    "- Clear out the gradients calculated in the previous pass.\n",
    "- In pytorch the gradients accumulate by default (useful for things like RNNs) unless you explicitly clear them out.\n",
    "- Forward pass (feed input data through the network)\n",
    "- Backward pass (backpropagation)\n",
    "- Tell the network to update parameters with optimizer.step()\n",
    "- Track variables for monitoring progress\n",
    "\n",
    "Evalution loop:\n",
    "- Unpack our data inputs and labels\n",
    "- Load data onto the GPU for acceleration\n",
    "- Forward pass (feed input data through the network)\n",
    "- Compute loss on our validation data and track variables for monitoring progress\n",
    "\n",
    "Define a helper function for calculating accuracy."
   ]
  },
  {
   "cell_type": "code",
   "execution_count": 32,
   "metadata": {
    "execution": {
     "iopub.execute_input": "2021-05-18T11:03:46.784465Z",
     "iopub.status.busy": "2021-05-18T11:03:46.783730Z",
     "iopub.status.idle": "2021-05-18T11:03:46.786187Z",
     "shell.execute_reply": "2021-05-18T11:03:46.786614Z"
    },
    "papermill": {
     "duration": 0.070292,
     "end_time": "2021-05-18T11:03:46.786719",
     "exception": false,
     "start_time": "2021-05-18T11:03:46.716427",
     "status": "completed"
    },
    "tags": []
   },
   "outputs": [],
   "source": [
    "import numpy as np\n",
    "# Function to calculate the accuracy of our predictions vs labels\n",
    "def flat_accuracy(preds, labels):\n",
    "    pred_flat = np.argmax(preds, axis=1).flatten()\n",
    "    labels_flat = labels.flatten()\n",
    "    return np.sum(pred_flat == labels_flat) / len(labels_flat)"
   ]
  },
  {
   "cell_type": "markdown",
   "metadata": {
    "papermill": {
     "duration": 0.062627,
     "end_time": "2021-05-18T11:03:46.912074",
     "exception": false,
     "start_time": "2021-05-18T11:03:46.849447",
     "status": "completed"
    },
    "tags": []
   },
   "source": [
    "Helper function for formatting elapsed times."
   ]
  },
  {
   "cell_type": "code",
   "execution_count": 33,
   "metadata": {
    "execution": {
     "iopub.execute_input": "2021-05-18T11:03:47.043908Z",
     "iopub.status.busy": "2021-05-18T11:03:47.043177Z",
     "iopub.status.idle": "2021-05-18T11:03:47.046158Z",
     "shell.execute_reply": "2021-05-18T11:03:47.045704Z"
    },
    "papermill": {
     "duration": 0.070641,
     "end_time": "2021-05-18T11:03:47.046242",
     "exception": false,
     "start_time": "2021-05-18T11:03:46.975601",
     "status": "completed"
    },
    "tags": []
   },
   "outputs": [],
   "source": [
    "import time\n",
    "import datetime\n",
    "def format_time(elapsed):\n",
    "    '''\n",
    "    Takes a time in seconds and returns a string hh:mm:ss\n",
    "    '''\n",
    "    # Round to the nearest second.\n",
    "    elapsed_rounded = int(round((elapsed)))\n",
    "    \n",
    "    # Format as hh:mm:ss\n",
    "    return str(datetime.timedelta(seconds=elapsed_rounded))"
   ]
  },
  {
   "cell_type": "markdown",
   "metadata": {
    "papermill": {
     "duration": 0.062149,
     "end_time": "2021-05-18T11:03:47.171052",
     "exception": false,
     "start_time": "2021-05-18T11:03:47.108903",
     "status": "completed"
    },
    "tags": []
   },
   "source": [
    "### Train Model"
   ]
  },
  {
   "cell_type": "code",
   "execution_count": 34,
   "metadata": {
    "execution": {
     "iopub.execute_input": "2021-05-18T11:03:47.325011Z",
     "iopub.status.busy": "2021-05-18T11:03:47.309632Z",
     "iopub.status.idle": "2021-05-18T11:11:12.472721Z",
     "shell.execute_reply": "2021-05-18T11:11:12.473180Z"
    },
    "papermill": {
     "duration": 445.239864,
     "end_time": "2021-05-18T11:11:12.473316",
     "exception": false,
     "start_time": "2021-05-18T11:03:47.233452",
     "status": "completed"
    },
    "tags": []
   },
   "outputs": [
    {
     "name": "stdout",
     "output_type": "stream",
     "text": [
      "\n",
      "======== Epoch 1 / 2 ========\n",
      "Training...\n",
      "  Batch    40  of    495.    Elapsed: 0:00:17.\n",
      "  Batch    80  of    495.    Elapsed: 0:00:32.\n",
      "  Batch   120  of    495.    Elapsed: 0:00:48.\n",
      "  Batch   160  of    495.    Elapsed: 0:01:04.\n",
      "  Batch   200  of    495.    Elapsed: 0:01:20.\n",
      "  Batch   240  of    495.    Elapsed: 0:01:35.\n",
      "  Batch   280  of    495.    Elapsed: 0:01:51.\n",
      "  Batch   320  of    495.    Elapsed: 0:02:07.\n",
      "  Batch   360  of    495.    Elapsed: 0:02:23.\n",
      "  Batch   400  of    495.    Elapsed: 0:02:38.\n",
      "  Batch   440  of    495.    Elapsed: 0:02:54.\n",
      "  Batch   480  of    495.    Elapsed: 0:03:10.\n",
      "\n",
      "  Average training loss: 0.56\n",
      "  Training epcoh took: 0:03:16\n",
      "\n",
      "Running Validation...\n",
      "  Accuracy: 0.56\n",
      "  Average validation loss: 0.80\n",
      "  Validation took: 0:00:27\n",
      "\n",
      "======== Epoch 2 / 2 ========\n",
      "Training...\n",
      "  Batch    40  of    495.    Elapsed: 0:00:16.\n",
      "  Batch    80  of    495.    Elapsed: 0:00:31.\n",
      "  Batch   120  of    495.    Elapsed: 0:00:47.\n",
      "  Batch   160  of    495.    Elapsed: 0:01:03.\n",
      "  Batch   200  of    495.    Elapsed: 0:01:19.\n",
      "  Batch   240  of    495.    Elapsed: 0:01:35.\n",
      "  Batch   280  of    495.    Elapsed: 0:01:50.\n",
      "  Batch   320  of    495.    Elapsed: 0:02:06.\n",
      "  Batch   360  of    495.    Elapsed: 0:02:22.\n",
      "  Batch   400  of    495.    Elapsed: 0:02:38.\n",
      "  Batch   440  of    495.    Elapsed: 0:02:54.\n",
      "  Batch   480  of    495.    Elapsed: 0:03:09.\n",
      "\n",
      "  Average training loss: 0.40\n",
      "  Training epcoh took: 0:03:15\n",
      "\n",
      "Running Validation...\n",
      "  Accuracy: 0.55\n",
      "  Average validation loss: 0.94\n",
      "  Validation took: 0:00:27\n",
      "\n",
      "Training complete!\n"
     ]
    }
   ],
   "source": [
    "import random\n",
    "# This training code is based on the `run_glue.py` script here:\n",
    "# https://github.com/huggingface/transformers/blob/5bfcd0485ece086ebcbed2d008813037968a9e58/examples/run_glue.py#L128\n",
    "# Set the seed value all over the place to make this reproducible.\n",
    "seed_val = 42\n",
    "random.seed(seed_val)\n",
    "np.random.seed(seed_val)\n",
    "torch.manual_seed(seed_val)\n",
    "torch.cuda.manual_seed_all(seed_val)\n",
    "# Store the average loss after each epoch so we can plot them.\n",
    "loss_values = []\n",
    "loss_values_valid = []\n",
    "#embeddings_tr, embeddings_vl = [], []\n",
    "train_predictions, valid_predictions = [], []\n",
    "train_true_labels, valid_true_labels = [], []\n",
    "# Store the hidden states for embedding extraction\n",
    "\n",
    "# For each epoch...\n",
    "for epoch_i in range(0, epochs):\n",
    "    \n",
    "    # ========================================\n",
    "    #               Training\n",
    "    # ========================================\n",
    "    \n",
    "    # Perform one full pass over the training set.\n",
    "    print(\"\")\n",
    "    print('======== Epoch {:} / {:} ========'.format(epoch_i + 1, epochs))\n",
    "    print('Training...')\n",
    "    # Measure how long the training epoch takes.\n",
    "    t0 = time.time()\n",
    "    # Reset the total loss for this epoch.\n",
    "    total_loss = 0\n",
    "    # Put the model into training mode. Don't be mislead--the call to \n",
    "    # `train` just changes the *mode*, it doesn't *perform* the training.\n",
    "    # `dropout` and `batchnorm` layers behave differently during training\n",
    "    # vs. test (source: https://stackoverflow.com/questions/51433378/what-does-model-train-do-in-pytorch)\n",
    "    model.train()\n",
    "    # For each batch of training data...\n",
    "    for step, batch in enumerate(train_dataloader):\n",
    "        # Progress update every 40 batches.\n",
    "        if step % 40 == 0 and not step == 0:\n",
    "            # Calculate elapsed time in minutes.\n",
    "            elapsed = format_time(time.time() - t0)\n",
    "            \n",
    "            # Report progress.\n",
    "            print('  Batch {:>5,}  of  {:>5,}.    Elapsed: {:}.'.format(step, len(train_dataloader), elapsed))\n",
    "        # Unpack this training batch from our dataloader. \n",
    "        #\n",
    "        # As we unpack the batch, we'll also copy each tensor to the GPU using the \n",
    "        # `to` method.\n",
    "        #\n",
    "        # `batch` contains three pytorch tensors:\n",
    "        #   [0]: input ids \n",
    "        #   [1]: attention masks\n",
    "        #   [2]: labels \n",
    "        b_input_ids = batch[0].to(device)\n",
    "        b_input_mask = batch[1].to(device)\n",
    "        b_labels = batch[2].to(device)\n",
    "        # Always clear any previously calculated gradients before performing a\n",
    "        # backward pass. PyTorch doesn't do this automatically because \n",
    "        # accumulating the gradients is \"convenient while training RNNs\". \n",
    "        # (source: https://stackoverflow.com/questions/48001598/why-do-we-need-to-call-zero-grad-in-pytorch)\n",
    "        model.zero_grad()        \n",
    "        # Perform a forward pass (evaluate the model on this training batch).\n",
    "        # This will return the loss (rather than the model output) because we\n",
    "        # have provided the `labels`.\n",
    "        # The documentation for this `model` function is here: \n",
    "        # https://huggingface.co/transformers/v2.2.0/model_doc/bert.html#transformers.BertForSequenceClassification\n",
    "        outputs_a = model(b_input_ids, \n",
    "                    token_type_ids=None, \n",
    "                    attention_mask=b_input_mask, \n",
    "                    labels=b_labels)\n",
    "        \n",
    "        # The call to `model` always returns a tuple, so we need to pull the \n",
    "        # loss value out of the tuple.\n",
    "        loss = outputs_a[0]\n",
    "        logits_tr = outputs_a[1]\n",
    "        #hidden_state_tr = outputs_a[2]\n",
    "        #features = hidden_state_tr[0][:,0,:].detach().cpu().numpy()\n",
    "        #embeddings_tr.append([epoch_i,batch[3], features]) # FIX AS NO BACKPROP WEIGHT ADJUSTED\n",
    "        # Accumulate the training loss over all of the batches so that we can\n",
    "        # calculate the average loss at the end. `loss` is a Tensor containing a\n",
    "        # single value; the `.item()` function just returns the Python value \n",
    "        # from the tensor.\n",
    "        # Move logits, hidden states, and labels to CPU\n",
    "        logits_tr = logits_tr.detach().cpu().numpy()\n",
    "        label_ids = b_labels.to('cpu').numpy()\n",
    "        #train_predictions.append([epoch_i,logits_tr])\n",
    "        #train_true_labels.append([epoch_i,label_ids])\n",
    "\n",
    "        total_loss += loss.item()\n",
    "        # Perform a backward pass to calculate the gradients.\n",
    "        loss.backward()\n",
    "        # Clip the norm of the gradients to 1.0.\n",
    "        # This is to help prevent the \"exploding gradients\" problem.\n",
    "        torch.nn.utils.clip_grad_norm_(model.parameters(), 1.0)\n",
    "        # Update parameters and take a step using the computed gradient.\n",
    "        # The optimizer dictates the \"update rule\"--how the parameters are\n",
    "        # modified based on their gradients, the learning rate, etc.\n",
    "        optimizer.step()\n",
    "        # Update the learning rate.\n",
    "        scheduler.step()\n",
    "    # Calculate the average loss over the training data.\n",
    "    avg_train_loss = total_loss / len(train_dataloader)            \n",
    "\n",
    "    # Store the loss value for plotting the learning curve.\n",
    "    loss_values.append(avg_train_loss)\n",
    "    print(\"\")\n",
    "    print(\"  Average training loss: {0:.2f}\".format(avg_train_loss))\n",
    "    print(\"  Training epcoh took: {:}\".format(format_time(time.time() - t0)))\n",
    "    \n",
    "    # ========================================\n",
    "    #               Validation\n",
    "    # ========================================\n",
    "    # After the completion of each training epoch, measure our performance on\n",
    "    # our validation set.\n",
    "    print(\"\")\n",
    "    print(\"Running Validation...\")\n",
    "    t0 = time.time()\n",
    "    # Put the model in evaluation mode--the dropout layers behave differently\n",
    "    # during evaluation.\n",
    "    model.eval()\n",
    "    # Tracking variables \n",
    "    eval_loss, eval_accuracy = 0, 0\n",
    "    nb_eval_steps, nb_eval_examples = 0, 0\n",
    "    # Evaluate data for one epoch\n",
    "    for batch in validation_dataloader:\n",
    "        \n",
    "        # Add batch to GPU\n",
    "        b_input_ids = batch[0].to(device)\n",
    "        b_input_mask = batch[1].to(device)\n",
    "        b_labels = batch[2].to(device)\n",
    "        \n",
    "        # Telling the model not to compute or store gradients, saving memory and\n",
    "        # speeding up validation\n",
    "        with torch.no_grad():        \n",
    "            # Forward pass, calculate logit predictions.\n",
    "            # This will return the logits rather than the loss because we have\n",
    "            # not provided labels.\n",
    "            # token_type_ids is the same as the \"segment ids\", which \n",
    "            # differentiates sentence 1 and 2 in 2-sentence tasks.\n",
    "            # The documentation for this `model` function is here: \n",
    "            # https://huggingface.co/transformers/v2.2.0/model_doc/bert.html#transformers.BertForSequenceClassification\n",
    "            outputs = model(b_input_ids, \n",
    "                            token_type_ids=None, \n",
    "                            attention_mask=b_input_mask,\n",
    "                            labels=b_labels)\n",
    "        \n",
    "        # Get the \"logits\" output by the model. The \"logits\" are the output\n",
    "        # values prior to applying an activation function like the softmax.\n",
    "        loss = outputs[0]\n",
    "        logits = outputs[1]\n",
    "        #hidden_state_vl = outputs[2]\n",
    "        #features = hidden_state_vl[0][:,0,:].detach().cpu().numpy()\n",
    "        #embeddings_vl.append([epoch_i,batch[3], features])\n",
    "        \n",
    "        # Track Loss\n",
    "        eval_loss += loss.item()\n",
    "\n",
    "        # Move logits, hidden states, and labels to CPU\n",
    "        logits = logits.detach().cpu().numpy()\n",
    "        #hidden_state_vl = hidden_state_vl.detach().cpu().numpy()\n",
    "        label_ids = b_labels.to('cpu').numpy()\n",
    "\n",
    "        valid_predictions.append([epoch_i,logits])\n",
    "        valid_true_labels.append([epoch_i,label_ids])\n",
    "        \n",
    "        # Calculate the accuracy for this batch of test sentences.\n",
    "        tmp_eval_accuracy = flat_accuracy(logits, label_ids)\n",
    "        \n",
    "        # Accumulate the total accuracy.\n",
    "        eval_accuracy += tmp_eval_accuracy\n",
    "        # Track the number of batches\n",
    "        nb_eval_steps += 1\n",
    "    \n",
    "    # Calculate the average loss over the training data.\n",
    "    avg_valid_loss = eval_loss / len(validation_dataloader)   \n",
    "\n",
    "    # Report the final accuracy for this validation run.\n",
    "    loss_values_valid.append(avg_valid_loss)\n",
    "    print(\"  Accuracy: {0:.2f}\".format(eval_accuracy/nb_eval_steps))\n",
    "    print(\"  Average validation loss: {0:.2f}\".format(avg_valid_loss))\n",
    "    print(\"  Validation took: {:}\".format(format_time(time.time() - t0)))\n",
    "    \n",
    "print(\"\")\n",
    "print(\"Training complete!\")"
   ]
  },
  {
   "cell_type": "markdown",
   "metadata": {
    "papermill": {
     "duration": 0.071587,
     "end_time": "2021-05-18T11:11:12.616810",
     "exception": false,
     "start_time": "2021-05-18T11:11:12.545223",
     "status": "completed"
    },
    "tags": []
   },
   "source": [
    "### Plot Training and Validation Loss"
   ]
  },
  {
   "cell_type": "code",
   "execution_count": 35,
   "metadata": {
    "execution": {
     "iopub.execute_input": "2021-05-18T11:11:12.776185Z",
     "iopub.status.busy": "2021-05-18T11:11:12.775475Z",
     "iopub.status.idle": "2021-05-18T11:11:12.779701Z",
     "shell.execute_reply": "2021-05-18T11:11:12.779299Z"
    },
    "papermill": {
     "duration": 0.090903,
     "end_time": "2021-05-18T11:11:12.779789",
     "exception": false,
     "start_time": "2021-05-18T11:11:12.688886",
     "status": "completed"
    },
    "tags": []
   },
   "outputs": [
    {
     "data": {
      "text/html": [
       "<div>\n",
       "<style scoped>\n",
       "    .dataframe tbody tr th:only-of-type {\n",
       "        vertical-align: middle;\n",
       "    }\n",
       "\n",
       "    .dataframe tbody tr th {\n",
       "        vertical-align: top;\n",
       "    }\n",
       "\n",
       "    .dataframe thead th {\n",
       "        text-align: right;\n",
       "    }\n",
       "</style>\n",
       "<table border=\"1\" class=\"dataframe\">\n",
       "  <thead>\n",
       "    <tr style=\"text-align: right;\">\n",
       "      <th></th>\n",
       "      <th>epoch</th>\n",
       "      <th>variable</th>\n",
       "      <th>value</th>\n",
       "    </tr>\n",
       "  </thead>\n",
       "  <tbody>\n",
       "    <tr>\n",
       "      <th>0</th>\n",
       "      <td>0</td>\n",
       "      <td>Train Loss</td>\n",
       "      <td>0.559963</td>\n",
       "    </tr>\n",
       "    <tr>\n",
       "      <th>1</th>\n",
       "      <td>1</td>\n",
       "      <td>Train Loss</td>\n",
       "      <td>0.396731</td>\n",
       "    </tr>\n",
       "    <tr>\n",
       "      <th>2</th>\n",
       "      <td>0</td>\n",
       "      <td>Valid Loss</td>\n",
       "      <td>0.798267</td>\n",
       "    </tr>\n",
       "    <tr>\n",
       "      <th>3</th>\n",
       "      <td>1</td>\n",
       "      <td>Valid Loss</td>\n",
       "      <td>0.937677</td>\n",
       "    </tr>\n",
       "  </tbody>\n",
       "</table>\n",
       "</div>"
      ],
      "text/plain": [
       "   epoch    variable     value\n",
       "0      0  Train Loss  0.559963\n",
       "1      1  Train Loss  0.396731\n",
       "2      0  Valid Loss  0.798267\n",
       "3      1  Valid Loss  0.937677"
      ]
     },
     "execution_count": 35,
     "metadata": {},
     "output_type": "execute_result"
    }
   ],
   "source": [
    "df= pd.DataFrame({'epoch': range(0, epochs), 'Train Loss': loss_values, 'Valid Loss': loss_values_valid})\n",
    "df = pd.melt(df, id_vars=['epoch'], value_vars=['Train Loss', 'Valid Loss'])\n",
    "df"
   ]
  },
  {
   "cell_type": "code",
   "execution_count": 36,
   "metadata": {
    "execution": {
     "iopub.execute_input": "2021-05-18T11:11:12.934549Z",
     "iopub.status.busy": "2021-05-18T11:11:12.933874Z",
     "iopub.status.idle": "2021-05-18T11:11:15.410432Z",
     "shell.execute_reply": "2021-05-18T11:11:15.409947Z"
    },
    "papermill": {
     "duration": 2.557895,
     "end_time": "2021-05-18T11:11:15.410540",
     "exception": false,
     "start_time": "2021-05-18T11:11:12.852645",
     "status": "completed"
    },
    "tags": []
   },
   "outputs": [
    {
     "data": {
      "text/html": [
       "        <script type=\"text/javascript\">\n",
       "        window.PlotlyConfig = {MathJaxConfig: 'local'};\n",
       "        if (window.MathJax) {MathJax.Hub.Config({SVG: {font: \"STIX-Web\"}});}\n",
       "        if (typeof require !== 'undefined') {\n",
       "        require.undef(\"plotly\");\n",
       "        requirejs.config({\n",
       "            paths: {\n",
       "                'plotly': ['https://cdn.plot.ly/plotly-latest.min']\n",
       "            }\n",
       "        });\n",
       "        require(['plotly'], function(Plotly) {\n",
       "            window._Plotly = Plotly;\n",
       "        });\n",
       "        }\n",
       "        </script>\n",
       "        "
      ]
     },
     "metadata": {},
     "output_type": "display_data"
    },
    {
     "data": {
      "text/html": [
       "<div>                            <div id=\"214a4b91-f26b-424b-b9ae-b4bfed9ea6e8\" class=\"plotly-graph-div\" style=\"height:525px; width:100%;\"></div>            <script type=\"text/javascript\">                require([\"plotly\"], function(Plotly) {                    window.PLOTLYENV=window.PLOTLYENV || {};                                    if (document.getElementById(\"214a4b91-f26b-424b-b9ae-b4bfed9ea6e8\")) {                    Plotly.newPlot(                        \"214a4b91-f26b-424b-b9ae-b4bfed9ea6e8\",                        [{\"hovertemplate\": \"variable=Train Loss<br>epoch=%{x}<br>value=%{y}<extra></extra>\", \"legendgroup\": \"Train Loss\", \"line\": {\"color\": \"#636efa\", \"dash\": \"solid\"}, \"mode\": \"lines\", \"name\": \"Train Loss\", \"orientation\": \"v\", \"showlegend\": true, \"type\": \"scatter\", \"x\": [0, 1], \"xaxis\": \"x\", \"y\": [0.5599630445542961, 0.3967306648842012], \"yaxis\": \"y\"}, {\"hovertemplate\": \"variable=Valid Loss<br>epoch=%{x}<br>value=%{y}<extra></extra>\", \"legendgroup\": \"Valid Loss\", \"line\": {\"color\": \"#EF553B\", \"dash\": \"solid\"}, \"mode\": \"lines\", \"name\": \"Valid Loss\", \"orientation\": \"v\", \"showlegend\": true, \"type\": \"scatter\", \"x\": [0, 1], \"xaxis\": \"x\", \"y\": [0.7982670806578077, 0.9376765769221184], \"yaxis\": \"y\"}],                        {\"legend\": {\"title\": {\"text\": \"variable\"}, \"tracegroupgap\": 0}, \"margin\": {\"t\": 60}, \"template\": {\"data\": {\"bar\": [{\"error_x\": {\"color\": \"#2a3f5f\"}, \"error_y\": {\"color\": \"#2a3f5f\"}, \"marker\": {\"line\": {\"color\": \"#E5ECF6\", \"width\": 0.5}}, \"type\": \"bar\"}], \"barpolar\": [{\"marker\": {\"line\": {\"color\": \"#E5ECF6\", \"width\": 0.5}}, \"type\": \"barpolar\"}], \"carpet\": [{\"aaxis\": {\"endlinecolor\": \"#2a3f5f\", \"gridcolor\": \"white\", \"linecolor\": \"white\", \"minorgridcolor\": \"white\", \"startlinecolor\": \"#2a3f5f\"}, \"baxis\": {\"endlinecolor\": \"#2a3f5f\", \"gridcolor\": \"white\", \"linecolor\": \"white\", \"minorgridcolor\": \"white\", \"startlinecolor\": \"#2a3f5f\"}, \"type\": \"carpet\"}], \"choropleth\": [{\"colorbar\": {\"outlinewidth\": 0, \"ticks\": \"\"}, \"type\": \"choropleth\"}], \"contour\": [{\"colorbar\": {\"outlinewidth\": 0, \"ticks\": \"\"}, \"colorscale\": [[0.0, \"#0d0887\"], [0.1111111111111111, \"#46039f\"], [0.2222222222222222, \"#7201a8\"], [0.3333333333333333, \"#9c179e\"], [0.4444444444444444, \"#bd3786\"], [0.5555555555555556, \"#d8576b\"], [0.6666666666666666, \"#ed7953\"], [0.7777777777777778, \"#fb9f3a\"], [0.8888888888888888, \"#fdca26\"], [1.0, \"#f0f921\"]], \"type\": \"contour\"}], \"contourcarpet\": [{\"colorbar\": {\"outlinewidth\": 0, \"ticks\": \"\"}, \"type\": \"contourcarpet\"}], \"heatmap\": [{\"colorbar\": {\"outlinewidth\": 0, \"ticks\": \"\"}, \"colorscale\": [[0.0, \"#0d0887\"], [0.1111111111111111, \"#46039f\"], [0.2222222222222222, \"#7201a8\"], [0.3333333333333333, \"#9c179e\"], [0.4444444444444444, \"#bd3786\"], [0.5555555555555556, \"#d8576b\"], [0.6666666666666666, \"#ed7953\"], [0.7777777777777778, \"#fb9f3a\"], [0.8888888888888888, \"#fdca26\"], [1.0, \"#f0f921\"]], \"type\": \"heatmap\"}], \"heatmapgl\": [{\"colorbar\": {\"outlinewidth\": 0, \"ticks\": \"\"}, \"colorscale\": [[0.0, \"#0d0887\"], [0.1111111111111111, \"#46039f\"], [0.2222222222222222, \"#7201a8\"], [0.3333333333333333, \"#9c179e\"], [0.4444444444444444, \"#bd3786\"], [0.5555555555555556, \"#d8576b\"], [0.6666666666666666, \"#ed7953\"], [0.7777777777777778, \"#fb9f3a\"], [0.8888888888888888, \"#fdca26\"], [1.0, \"#f0f921\"]], \"type\": \"heatmapgl\"}], \"histogram\": [{\"marker\": {\"colorbar\": {\"outlinewidth\": 0, \"ticks\": \"\"}}, \"type\": \"histogram\"}], \"histogram2d\": [{\"colorbar\": {\"outlinewidth\": 0, \"ticks\": \"\"}, \"colorscale\": [[0.0, \"#0d0887\"], [0.1111111111111111, \"#46039f\"], [0.2222222222222222, \"#7201a8\"], [0.3333333333333333, \"#9c179e\"], [0.4444444444444444, \"#bd3786\"], [0.5555555555555556, \"#d8576b\"], [0.6666666666666666, \"#ed7953\"], [0.7777777777777778, \"#fb9f3a\"], [0.8888888888888888, \"#fdca26\"], [1.0, \"#f0f921\"]], \"type\": \"histogram2d\"}], \"histogram2dcontour\": [{\"colorbar\": {\"outlinewidth\": 0, \"ticks\": \"\"}, \"colorscale\": [[0.0, \"#0d0887\"], [0.1111111111111111, \"#46039f\"], [0.2222222222222222, \"#7201a8\"], [0.3333333333333333, \"#9c179e\"], [0.4444444444444444, \"#bd3786\"], [0.5555555555555556, \"#d8576b\"], [0.6666666666666666, \"#ed7953\"], [0.7777777777777778, \"#fb9f3a\"], [0.8888888888888888, \"#fdca26\"], [1.0, \"#f0f921\"]], \"type\": \"histogram2dcontour\"}], \"mesh3d\": [{\"colorbar\": {\"outlinewidth\": 0, \"ticks\": \"\"}, \"type\": \"mesh3d\"}], \"parcoords\": [{\"line\": {\"colorbar\": {\"outlinewidth\": 0, \"ticks\": \"\"}}, \"type\": \"parcoords\"}], \"pie\": [{\"automargin\": true, \"type\": \"pie\"}], \"scatter\": [{\"marker\": {\"colorbar\": {\"outlinewidth\": 0, \"ticks\": \"\"}}, \"type\": \"scatter\"}], \"scatter3d\": [{\"line\": {\"colorbar\": {\"outlinewidth\": 0, \"ticks\": \"\"}}, \"marker\": {\"colorbar\": {\"outlinewidth\": 0, \"ticks\": \"\"}}, \"type\": \"scatter3d\"}], \"scattercarpet\": [{\"marker\": {\"colorbar\": {\"outlinewidth\": 0, \"ticks\": \"\"}}, \"type\": \"scattercarpet\"}], \"scattergeo\": [{\"marker\": {\"colorbar\": {\"outlinewidth\": 0, \"ticks\": \"\"}}, \"type\": \"scattergeo\"}], \"scattergl\": [{\"marker\": {\"colorbar\": {\"outlinewidth\": 0, \"ticks\": \"\"}}, \"type\": \"scattergl\"}], \"scattermapbox\": [{\"marker\": {\"colorbar\": {\"outlinewidth\": 0, \"ticks\": \"\"}}, \"type\": \"scattermapbox\"}], \"scatterpolar\": [{\"marker\": {\"colorbar\": {\"outlinewidth\": 0, \"ticks\": \"\"}}, \"type\": \"scatterpolar\"}], \"scatterpolargl\": [{\"marker\": {\"colorbar\": {\"outlinewidth\": 0, \"ticks\": \"\"}}, \"type\": \"scatterpolargl\"}], \"scatterternary\": [{\"marker\": {\"colorbar\": {\"outlinewidth\": 0, \"ticks\": \"\"}}, \"type\": \"scatterternary\"}], \"surface\": [{\"colorbar\": {\"outlinewidth\": 0, \"ticks\": \"\"}, \"colorscale\": [[0.0, \"#0d0887\"], [0.1111111111111111, \"#46039f\"], [0.2222222222222222, \"#7201a8\"], [0.3333333333333333, \"#9c179e\"], [0.4444444444444444, \"#bd3786\"], [0.5555555555555556, \"#d8576b\"], [0.6666666666666666, \"#ed7953\"], [0.7777777777777778, \"#fb9f3a\"], [0.8888888888888888, \"#fdca26\"], [1.0, \"#f0f921\"]], \"type\": \"surface\"}], \"table\": [{\"cells\": {\"fill\": {\"color\": \"#EBF0F8\"}, \"line\": {\"color\": \"white\"}}, \"header\": {\"fill\": {\"color\": \"#C8D4E3\"}, \"line\": {\"color\": \"white\"}}, \"type\": \"table\"}]}, \"layout\": {\"annotationdefaults\": {\"arrowcolor\": \"#2a3f5f\", \"arrowhead\": 0, \"arrowwidth\": 1}, \"autotypenumbers\": \"strict\", \"coloraxis\": {\"colorbar\": {\"outlinewidth\": 0, \"ticks\": \"\"}}, \"colorscale\": {\"diverging\": [[0, \"#8e0152\"], [0.1, \"#c51b7d\"], [0.2, \"#de77ae\"], [0.3, \"#f1b6da\"], [0.4, \"#fde0ef\"], [0.5, \"#f7f7f7\"], [0.6, \"#e6f5d0\"], [0.7, \"#b8e186\"], [0.8, \"#7fbc41\"], [0.9, \"#4d9221\"], [1, \"#276419\"]], \"sequential\": [[0.0, \"#0d0887\"], [0.1111111111111111, \"#46039f\"], [0.2222222222222222, \"#7201a8\"], [0.3333333333333333, \"#9c179e\"], [0.4444444444444444, \"#bd3786\"], [0.5555555555555556, \"#d8576b\"], [0.6666666666666666, \"#ed7953\"], [0.7777777777777778, \"#fb9f3a\"], [0.8888888888888888, \"#fdca26\"], [1.0, \"#f0f921\"]], \"sequentialminus\": [[0.0, \"#0d0887\"], [0.1111111111111111, \"#46039f\"], [0.2222222222222222, \"#7201a8\"], [0.3333333333333333, \"#9c179e\"], [0.4444444444444444, \"#bd3786\"], [0.5555555555555556, \"#d8576b\"], [0.6666666666666666, \"#ed7953\"], [0.7777777777777778, \"#fb9f3a\"], [0.8888888888888888, \"#fdca26\"], [1.0, \"#f0f921\"]]}, \"colorway\": [\"#636efa\", \"#EF553B\", \"#00cc96\", \"#ab63fa\", \"#FFA15A\", \"#19d3f3\", \"#FF6692\", \"#B6E880\", \"#FF97FF\", \"#FECB52\"], \"font\": {\"color\": \"#2a3f5f\"}, \"geo\": {\"bgcolor\": \"white\", \"lakecolor\": \"white\", \"landcolor\": \"#E5ECF6\", \"showlakes\": true, \"showland\": true, \"subunitcolor\": \"white\"}, \"hoverlabel\": {\"align\": \"left\"}, \"hovermode\": \"closest\", \"mapbox\": {\"style\": \"light\"}, \"paper_bgcolor\": \"white\", \"plot_bgcolor\": \"#E5ECF6\", \"polar\": {\"angularaxis\": {\"gridcolor\": \"white\", \"linecolor\": \"white\", \"ticks\": \"\"}, \"bgcolor\": \"#E5ECF6\", \"radialaxis\": {\"gridcolor\": \"white\", \"linecolor\": \"white\", \"ticks\": \"\"}}, \"scene\": {\"xaxis\": {\"backgroundcolor\": \"#E5ECF6\", \"gridcolor\": \"white\", \"gridwidth\": 2, \"linecolor\": \"white\", \"showbackground\": true, \"ticks\": \"\", \"zerolinecolor\": \"white\"}, \"yaxis\": {\"backgroundcolor\": \"#E5ECF6\", \"gridcolor\": \"white\", \"gridwidth\": 2, \"linecolor\": \"white\", \"showbackground\": true, \"ticks\": \"\", \"zerolinecolor\": \"white\"}, \"zaxis\": {\"backgroundcolor\": \"#E5ECF6\", \"gridcolor\": \"white\", \"gridwidth\": 2, \"linecolor\": \"white\", \"showbackground\": true, \"ticks\": \"\", \"zerolinecolor\": \"white\"}}, \"shapedefaults\": {\"line\": {\"color\": \"#2a3f5f\"}}, \"ternary\": {\"aaxis\": {\"gridcolor\": \"white\", \"linecolor\": \"white\", \"ticks\": \"\"}, \"baxis\": {\"gridcolor\": \"white\", \"linecolor\": \"white\", \"ticks\": \"\"}, \"bgcolor\": \"#E5ECF6\", \"caxis\": {\"gridcolor\": \"white\", \"linecolor\": \"white\", \"ticks\": \"\"}}, \"title\": {\"x\": 0.05}, \"xaxis\": {\"automargin\": true, \"gridcolor\": \"white\", \"linecolor\": \"white\", \"ticks\": \"\", \"title\": {\"standoff\": 15}, \"zerolinecolor\": \"white\", \"zerolinewidth\": 2}, \"yaxis\": {\"automargin\": true, \"gridcolor\": \"white\", \"linecolor\": \"white\", \"ticks\": \"\", \"title\": {\"standoff\": 15}, \"zerolinecolor\": \"white\", \"zerolinewidth\": 2}}}, \"title\": {\"text\": \"Training loss of the Model\"}, \"xaxis\": {\"anchor\": \"y\", \"domain\": [0.0, 1.0], \"title\": {\"text\": \"Epoch\"}}, \"yaxis\": {\"anchor\": \"x\", \"domain\": [0.0, 1.0], \"title\": {\"text\": \"Loss\"}}},                        {\"responsive\": true}                    ).then(function(){\n",
       "                            \n",
       "var gd = document.getElementById('214a4b91-f26b-424b-b9ae-b4bfed9ea6e8');\n",
       "var x = new MutationObserver(function (mutations, observer) {{\n",
       "        var display = window.getComputedStyle(gd).display;\n",
       "        if (!display || display === 'none') {{\n",
       "            console.log([gd, 'removed!']);\n",
       "            Plotly.purge(gd);\n",
       "            observer.disconnect();\n",
       "        }}\n",
       "}});\n",
       "\n",
       "// Listen for the removal of the full notebook cells\n",
       "var notebookContainer = gd.closest('#notebook-container');\n",
       "if (notebookContainer) {{\n",
       "    x.observe(notebookContainer, {childList: true});\n",
       "}}\n",
       "\n",
       "// Listen for the clearing of the current output cell\n",
       "var outputEl = gd.closest('.output');\n",
       "if (outputEl) {{\n",
       "    x.observe(outputEl, {childList: true});\n",
       "}}\n",
       "\n",
       "                        })                };                });            </script>        </div>"
      ]
     },
     "metadata": {},
     "output_type": "display_data"
    }
   ],
   "source": [
    "import plotly.express as px\n",
    "\n",
    "fig = px.line(df, x='epoch', y='value', color = 'variable')\n",
    "fig.update_layout(title='Training loss of the Model',\n",
    "                   xaxis_title='Epoch',\n",
    "                   yaxis_title='Loss')\n",
    "fig.show()"
   ]
  },
  {
   "cell_type": "markdown",
   "metadata": {
    "papermill": {
     "duration": 0.072032,
     "end_time": "2021-05-18T11:11:15.556904",
     "exception": false,
     "start_time": "2021-05-18T11:11:15.484872",
     "status": "completed"
    },
    "tags": []
   },
   "source": [
    "### Extract Embeddings"
   ]
  },
  {
   "cell_type": "code",
   "execution_count": 37,
   "metadata": {
    "execution": {
     "iopub.execute_input": "2021-05-18T11:11:15.720753Z",
     "iopub.status.busy": "2021-05-18T11:11:15.719940Z",
     "iopub.status.idle": "2021-05-18T11:12:43.091626Z",
     "shell.execute_reply": "2021-05-18T11:12:43.090489Z"
    },
    "papermill": {
     "duration": 87.462195,
     "end_time": "2021-05-18T11:12:43.091740",
     "exception": false,
     "start_time": "2021-05-18T11:11:15.629545",
     "status": "completed"
    },
    "tags": []
   },
   "outputs": [
    {
     "name": "stdout",
     "output_type": "stream",
     "text": [
      "Extracting embeddinga for 15,830 train sentences...\n",
      "Extracting embeddinga for 7,247 validation sentences...\n"
     ]
    }
   ],
   "source": [
    "embeddings_tr, embeddings_vl = [], []\n",
    "# ========================================\n",
    "#               Train\n",
    "# ========================================\n",
    "# Extract embeddinga on train set\n",
    "print('Extracting embeddinga for {:,} train sentences...'.format(len(train_inputs)))\n",
    "# Put model in evaluation mode\n",
    "model.eval()\n",
    "# Tracking variables \n",
    "predictions_train , true_labels_train = [], []\n",
    "# Predict \n",
    "for batch in train_dataloader_sequential:\n",
    "    b_input_ids = batch[0].to(device)\n",
    "    b_input_mask = batch[1].to(device)\n",
    "    b_labels = batch[2].to(device)\n",
    "  \n",
    "  # Telling the model not to compute or store gradients, saving memory and \n",
    "  # speeding up prediction\n",
    "    with torch.no_grad():\n",
    "        # Forward pass, calculate logit predictions\n",
    "        outputs = model(b_input_ids, token_type_ids=None, \n",
    "                      attention_mask=b_input_mask, labels=b_labels)\n",
    "    logits = outputs[1]\n",
    "    # Embeddings extraction approach is to average the second to last hiden layer of each token producing a single 768 length vector\n",
    "    # https://mccormickml.com/2019/05/14/BERT-word-embeddings-tutorial/\n",
    "    hidden_state_tr = outputs[2]\n",
    "    token_vecs = hidden_state_tr[-2]\n",
    "    token_vecs_sentvecs = []\n",
    "    for token in token_vecs:\n",
    "        sentvecs = torch.mean(token, dim=0).detach().cpu().numpy()\n",
    "        token_vecs_sentvecs.append(sentvecs)\n",
    "    #features = hidden_state_tr[0][:,0,:].detach().cpu().numpy()\n",
    "    embeddings_tr.append([batch[3], token_vecs_sentvecs])\n",
    "    # Move logits and labels to CPU\n",
    "    logits = logits.detach().cpu().numpy()\n",
    "    label_ids = b_labels.to('cpu').numpy()\n",
    "\n",
    "    # Store predictions and true labels\n",
    "    predictions_train.append(logits)\n",
    "    true_labels_train.append(label_ids)\n",
    "# ========================================\n",
    "#               Validation\n",
    "# ========================================\n",
    "# Extract embeddinga on train set\n",
    "print('Extracting embeddinga for {:,} validation sentences...'.format(len(validation_inputs)))\n",
    "# Put model in evaluation mode\n",
    "model.eval()\n",
    "# Tracking variables \n",
    "predictions_valid, true_labels_valid = [], []\n",
    "# Predict \n",
    "for batch in validation_dataloader:\n",
    "    b_input_ids = batch[0].to(device)\n",
    "    b_input_mask = batch[1].to(device)\n",
    "    b_labels = batch[2].to(device)\n",
    "  \n",
    "  # Telling the model not to compute or store gradients, saving memory and \n",
    "  # speeding up prediction\n",
    "    with torch.no_grad():\n",
    "        # Forward pass, calculate logit predictions\n",
    "        outputs = model(b_input_ids, token_type_ids=None, \n",
    "                      attention_mask=b_input_mask, labels=b_labels)\n",
    "    logits = outputs[1]\n",
    "    # Embeddings extraction approach is to average the second to last hiden layer of each token producing a single 768 length vector\n",
    "    # https://mccormickml.com/2019/05/14/BERT-word-embeddings-tutorial/\n",
    "    hidden_state_vl = outputs[2]\n",
    "    token_vecs = hidden_state_vl[-2]\n",
    "    token_vecs_sentvecs = []\n",
    "    for token in token_vecs:\n",
    "        sentvecs = torch.mean(token, dim=0).detach().cpu().numpy()\n",
    "        token_vecs_sentvecs.append(sentvecs)\n",
    "    #features = hidden_state_vl[0][:,0,:].detach().cpu().numpy()\n",
    "    embeddings_vl.append([batch[3], token_vecs_sentvecs])\n",
    "    # Move logits and labels to CPU\n",
    "    logits = logits.detach().cpu().numpy()\n",
    "    label_ids = b_labels.to('cpu').numpy()\n",
    "\n",
    "    # Store predictions and true labels\n",
    "    predictions_valid.append(logits)\n",
    "    true_labels_valid.append(label_ids)"
   ]
  },
  {
   "cell_type": "markdown",
   "metadata": {
    "papermill": {
     "duration": 0.07269,
     "end_time": "2021-05-18T11:12:43.237681",
     "exception": false,
     "start_time": "2021-05-18T11:12:43.164991",
     "status": "completed"
    },
    "tags": []
   },
   "source": [
    "### Combine Embeddings with original DF and Output CM"
   ]
  },
  {
   "cell_type": "markdown",
   "metadata": {
    "papermill": {
     "duration": 0.072834,
     "end_time": "2021-05-18T11:12:43.383346",
     "exception": false,
     "start_time": "2021-05-18T11:12:43.310512",
     "status": "completed"
    },
    "tags": []
   },
   "source": [
    "Train"
   ]
  },
  {
   "cell_type": "code",
   "execution_count": 38,
   "metadata": {
    "execution": {
     "iopub.execute_input": "2021-05-18T11:12:43.538901Z",
     "iopub.status.busy": "2021-05-18T11:12:43.538090Z",
     "iopub.status.idle": "2021-05-18T11:12:47.325827Z",
     "shell.execute_reply": "2021-05-18T11:12:47.326265Z"
    },
    "papermill": {
     "duration": 3.869403,
     "end_time": "2021-05-18T11:12:47.326397",
     "exception": false,
     "start_time": "2021-05-18T11:12:43.456994",
     "status": "completed"
    },
    "tags": []
   },
   "outputs": [
    {
     "name": "stdout",
     "output_type": "stream",
     "text": [
      "Train Embeddings Extraction and Merge DONE\n"
     ]
    },
    {
     "data": {
      "text/html": [
       "<div>\n",
       "<style scoped>\n",
       "    .dataframe tbody tr th:only-of-type {\n",
       "        vertical-align: middle;\n",
       "    }\n",
       "\n",
       "    .dataframe tbody tr th {\n",
       "        vertical-align: top;\n",
       "    }\n",
       "\n",
       "    .dataframe thead th {\n",
       "        text-align: right;\n",
       "    }\n",
       "</style>\n",
       "<table border=\"1\" class=\"dataframe\">\n",
       "  <thead>\n",
       "    <tr style=\"text-align: right;\">\n",
       "      <th></th>\n",
       "      <th>id</th>\n",
       "      <th>created_at</th>\n",
       "      <th>retweet_count</th>\n",
       "      <th>favorite_count</th>\n",
       "      <th>quoted_status_id</th>\n",
       "      <th>user.id</th>\n",
       "      <th>user.created_at</th>\n",
       "      <th>user.favourites_count</th>\n",
       "      <th>user.followers_count</th>\n",
       "      <th>user.friends_count</th>\n",
       "      <th>...</th>\n",
       "      <th>758</th>\n",
       "      <th>759</th>\n",
       "      <th>760</th>\n",
       "      <th>761</th>\n",
       "      <th>762</th>\n",
       "      <th>763</th>\n",
       "      <th>764</th>\n",
       "      <th>765</th>\n",
       "      <th>766</th>\n",
       "      <th>767</th>\n",
       "    </tr>\n",
       "  </thead>\n",
       "  <tbody>\n",
       "    <tr>\n",
       "      <th>0</th>\n",
       "      <td>1.293445e+18</td>\n",
       "      <td>1.597216e+09</td>\n",
       "      <td>0.0</td>\n",
       "      <td>1.0</td>\n",
       "      <td>0</td>\n",
       "      <td>1.278150e+18</td>\n",
       "      <td>1.593570e+09</td>\n",
       "      <td>436.0</td>\n",
       "      <td>6.0</td>\n",
       "      <td>37.0</td>\n",
       "      <td>...</td>\n",
       "      <td>0.737977</td>\n",
       "      <td>-1.519497</td>\n",
       "      <td>-0.897030</td>\n",
       "      <td>-0.874225</td>\n",
       "      <td>0.816732</td>\n",
       "      <td>-0.696989</td>\n",
       "      <td>0.041532</td>\n",
       "      <td>0.703107</td>\n",
       "      <td>0.431077</td>\n",
       "      <td>0.611896</td>\n",
       "    </tr>\n",
       "    <tr>\n",
       "      <th>1</th>\n",
       "      <td>1.293444e+18</td>\n",
       "      <td>1.597216e+09</td>\n",
       "      <td>0.0</td>\n",
       "      <td>1.0</td>\n",
       "      <td>0</td>\n",
       "      <td>1.278150e+18</td>\n",
       "      <td>1.593570e+09</td>\n",
       "      <td>436.0</td>\n",
       "      <td>6.0</td>\n",
       "      <td>37.0</td>\n",
       "      <td>...</td>\n",
       "      <td>0.861182</td>\n",
       "      <td>-1.498242</td>\n",
       "      <td>-0.986284</td>\n",
       "      <td>-0.829926</td>\n",
       "      <td>0.724290</td>\n",
       "      <td>-0.335812</td>\n",
       "      <td>-0.043268</td>\n",
       "      <td>0.770018</td>\n",
       "      <td>0.554564</td>\n",
       "      <td>0.289769</td>\n",
       "    </tr>\n",
       "    <tr>\n",
       "      <th>2</th>\n",
       "      <td>1.292703e+18</td>\n",
       "      <td>1.597039e+09</td>\n",
       "      <td>0.0</td>\n",
       "      <td>1.0</td>\n",
       "      <td>0</td>\n",
       "      <td>1.278150e+18</td>\n",
       "      <td>1.593570e+09</td>\n",
       "      <td>436.0</td>\n",
       "      <td>6.0</td>\n",
       "      <td>37.0</td>\n",
       "      <td>...</td>\n",
       "      <td>0.551375</td>\n",
       "      <td>-1.579956</td>\n",
       "      <td>-0.920884</td>\n",
       "      <td>-0.845002</td>\n",
       "      <td>0.871478</td>\n",
       "      <td>-0.658548</td>\n",
       "      <td>0.104746</td>\n",
       "      <td>0.614718</td>\n",
       "      <td>0.593167</td>\n",
       "      <td>0.651597</td>\n",
       "    </tr>\n",
       "    <tr>\n",
       "      <th>3</th>\n",
       "      <td>1.292703e+18</td>\n",
       "      <td>1.597039e+09</td>\n",
       "      <td>0.0</td>\n",
       "      <td>1.0</td>\n",
       "      <td>0</td>\n",
       "      <td>1.278150e+18</td>\n",
       "      <td>1.593570e+09</td>\n",
       "      <td>436.0</td>\n",
       "      <td>6.0</td>\n",
       "      <td>37.0</td>\n",
       "      <td>...</td>\n",
       "      <td>0.663971</td>\n",
       "      <td>-1.526280</td>\n",
       "      <td>-0.849526</td>\n",
       "      <td>-0.875651</td>\n",
       "      <td>0.889634</td>\n",
       "      <td>-0.648026</td>\n",
       "      <td>0.128590</td>\n",
       "      <td>0.610037</td>\n",
       "      <td>0.603848</td>\n",
       "      <td>0.642353</td>\n",
       "    </tr>\n",
       "    <tr>\n",
       "      <th>4</th>\n",
       "      <td>1.292702e+18</td>\n",
       "      <td>1.597039e+09</td>\n",
       "      <td>0.0</td>\n",
       "      <td>1.0</td>\n",
       "      <td>0</td>\n",
       "      <td>1.278150e+18</td>\n",
       "      <td>1.593570e+09</td>\n",
       "      <td>436.0</td>\n",
       "      <td>6.0</td>\n",
       "      <td>37.0</td>\n",
       "      <td>...</td>\n",
       "      <td>0.751778</td>\n",
       "      <td>-1.315647</td>\n",
       "      <td>-0.937184</td>\n",
       "      <td>-0.700678</td>\n",
       "      <td>0.937070</td>\n",
       "      <td>-0.353388</td>\n",
       "      <td>0.078405</td>\n",
       "      <td>0.766899</td>\n",
       "      <td>0.429023</td>\n",
       "      <td>0.461261</td>\n",
       "    </tr>\n",
       "  </tbody>\n",
       "</table>\n",
       "<p>5 rows × 922 columns</p>\n",
       "</div>"
      ],
      "text/plain": [
       "             id    created_at  retweet_count  favorite_count  \\\n",
       "0  1.293445e+18  1.597216e+09            0.0             1.0   \n",
       "1  1.293444e+18  1.597216e+09            0.0             1.0   \n",
       "2  1.292703e+18  1.597039e+09            0.0             1.0   \n",
       "3  1.292703e+18  1.597039e+09            0.0             1.0   \n",
       "4  1.292702e+18  1.597039e+09            0.0             1.0   \n",
       "\n",
       "   quoted_status_id       user.id  user.created_at  user.favourites_count  \\\n",
       "0                 0  1.278150e+18     1.593570e+09                  436.0   \n",
       "1                 0  1.278150e+18     1.593570e+09                  436.0   \n",
       "2                 0  1.278150e+18     1.593570e+09                  436.0   \n",
       "3                 0  1.278150e+18     1.593570e+09                  436.0   \n",
       "4                 0  1.278150e+18     1.593570e+09                  436.0   \n",
       "\n",
       "   user.followers_count  user.friends_count  ...       758       759  \\\n",
       "0                   6.0                37.0  ...  0.737977 -1.519497   \n",
       "1                   6.0                37.0  ...  0.861182 -1.498242   \n",
       "2                   6.0                37.0  ...  0.551375 -1.579956   \n",
       "3                   6.0                37.0  ...  0.663971 -1.526280   \n",
       "4                   6.0                37.0  ...  0.751778 -1.315647   \n",
       "\n",
       "        760       761       762       763       764       765       766  \\\n",
       "0 -0.897030 -0.874225  0.816732 -0.696989  0.041532  0.703107  0.431077   \n",
       "1 -0.986284 -0.829926  0.724290 -0.335812 -0.043268  0.770018  0.554564   \n",
       "2 -0.920884 -0.845002  0.871478 -0.658548  0.104746  0.614718  0.593167   \n",
       "3 -0.849526 -0.875651  0.889634 -0.648026  0.128590  0.610037  0.603848   \n",
       "4 -0.937184 -0.700678  0.937070 -0.353388  0.078405  0.766899  0.429023   \n",
       "\n",
       "        767  \n",
       "0  0.611896  \n",
       "1  0.289769  \n",
       "2  0.651597  \n",
       "3  0.642353  \n",
       "4  0.461261  \n",
       "\n",
       "[5 rows x 922 columns]"
      ]
     },
     "execution_count": 38,
     "metadata": {},
     "output_type": "execute_result"
    }
   ],
   "source": [
    "# Get embeddings for train\n",
    "p = [group for group in embeddings_tr]\n",
    "\n",
    "b = [item for sublist in [[list(t) for t in zip(sublist[0], sublist[1])] for sublist in p] for item in sublist]\n",
    "df = pd.DataFrame(b, columns = ['id', 'embeddings'])  \n",
    "\n",
    "bert_embeddings_df_train = pd.concat([df['id'], df['embeddings'].apply(pd.Series)], axis = 1)\n",
    "bert_embeddings_df_train['id'] = bert_embeddings_df_train['id'].apply(lambda x: x.item())\n",
    "#bert_embeddings_df_train = pd.merge(df_train.drop(['text'], axis=1), bert_embeddings_df_train, left_on = [\"id\"], right_on = [\"id\"])\n",
    "bert_embeddings_df_train = pd.merge(df_train.drop(['text'], axis=1), bert_embeddings_df_train.drop(['id'], axis=1), left_index=True, right_index=True)\n",
    "print('Train Embeddings Extraction and Merge DONE')\n",
    "bert_embeddings_df_train.head()"
   ]
  },
  {
   "cell_type": "code",
   "execution_count": 39,
   "metadata": {
    "execution": {
     "iopub.execute_input": "2021-05-18T11:12:47.482836Z",
     "iopub.status.busy": "2021-05-18T11:12:47.482053Z",
     "iopub.status.idle": "2021-05-18T11:12:47.854116Z",
     "shell.execute_reply": "2021-05-18T11:12:47.853569Z"
    },
    "papermill": {
     "duration": 0.452353,
     "end_time": "2021-05-18T11:12:47.854216",
     "exception": false,
     "start_time": "2021-05-18T11:12:47.401863",
     "status": "completed"
    },
    "tags": []
   },
   "outputs": [
    {
     "name": "stdout",
     "output_type": "stream",
     "text": [
      "Calculating Matthews Corr. Coef. for each batch...\n"
     ]
    },
    {
     "name": "stderr",
     "output_type": "stream",
     "text": [
      "/opt/conda/lib/python3.7/site-packages/sklearn/metrics/_classification.py:846: RuntimeWarning:\n",
      "\n",
      "invalid value encountered in double_scalars\n",
      "\n"
     ]
    }
   ],
   "source": [
    "from sklearn.metrics import matthews_corrcoef\n",
    "matthews_set = []\n",
    "# Evaluate each test batch using Matthew's correlation coefficient\n",
    "print('Calculating Matthews Corr. Coef. for each batch...')\n",
    "# For each input batch...\n",
    "for i in range(len(true_labels_train)):\n",
    "  \n",
    "    # The predictions for this batch are a 2-column ndarray (one column for \"0\" \n",
    "    # and one column for \"1\"). Pick the label with the highest value and turn this\n",
    "    # in to a list of 0s and 1s.\n",
    "    pred_labels_i = np.argmax(predictions_train[i], axis=1).flatten()\n",
    "\n",
    "    # Calculate and store the coef for this batch.  \n",
    "    matthews = matthews_corrcoef(true_labels_train[i], pred_labels_i)                \n",
    "    matthews_set.append(matthews)"
   ]
  },
  {
   "cell_type": "code",
   "execution_count": 40,
   "metadata": {
    "execution": {
     "iopub.execute_input": "2021-05-18T11:12:48.016679Z",
     "iopub.status.busy": "2021-05-18T11:12:48.015907Z",
     "iopub.status.idle": "2021-05-18T11:12:48.062333Z",
     "shell.execute_reply": "2021-05-18T11:12:48.061668Z"
    },
    "papermill": {
     "duration": 0.132035,
     "end_time": "2021-05-18T11:12:48.062465",
     "exception": false,
     "start_time": "2021-05-18T11:12:47.930430",
     "status": "completed"
    },
    "tags": []
   },
   "outputs": [
    {
     "name": "stdout",
     "output_type": "stream",
     "text": [
      "MCC: 0.754\n"
     ]
    }
   ],
   "source": [
    "# Combine the predictions for each batch into a single list of 0s and 1s.\n",
    "flat_predictions = [item for sublist in predictions_train for item in sublist]\n",
    "flat_predictions = np.argmax(flat_predictions, axis=1).flatten()\n",
    "# Combine the correct labels for each batch into a single list.\n",
    "flat_true_labels = [item for sublist in true_labels_train for item in sublist]\n",
    "# Calculate the MCC\n",
    "mcc = matthews_corrcoef(flat_true_labels, flat_predictions)\n",
    "print('MCC: %.3f' % mcc)"
   ]
  },
  {
   "cell_type": "code",
   "execution_count": 41,
   "metadata": {
    "execution": {
     "iopub.execute_input": "2021-05-18T11:12:48.228641Z",
     "iopub.status.busy": "2021-05-18T11:12:48.227864Z",
     "iopub.status.idle": "2021-05-18T11:12:48.254045Z",
     "shell.execute_reply": "2021-05-18T11:12:48.253428Z"
    },
    "papermill": {
     "duration": 0.114703,
     "end_time": "2021-05-18T11:12:48.254170",
     "exception": false,
     "start_time": "2021-05-18T11:12:48.139467",
     "status": "completed"
    },
    "tags": []
   },
   "outputs": [
    {
     "name": "stdout",
     "output_type": "stream",
     "text": [
      "              precision    recall  f1-score   support\n",
      "\n",
      "           0       0.87      0.88      0.87      7488\n",
      "           1       0.89      0.88      0.88      8342\n",
      "\n",
      "    accuracy                           0.88     15830\n",
      "   macro avg       0.88      0.88      0.88     15830\n",
      "weighted avg       0.88      0.88      0.88     15830\n",
      "\n"
     ]
    }
   ],
   "source": [
    "from sklearn.metrics import classification_report,confusion_matrix\n",
    "report = classification_report(flat_true_labels, flat_predictions)\n",
    "print(report)"
   ]
  },
  {
   "cell_type": "code",
   "execution_count": 42,
   "metadata": {
    "execution": {
     "iopub.execute_input": "2021-05-18T11:12:48.411460Z",
     "iopub.status.busy": "2021-05-18T11:12:48.410784Z",
     "iopub.status.idle": "2021-05-18T11:12:48.413217Z",
     "shell.execute_reply": "2021-05-18T11:12:48.413738Z"
    },
    "papermill": {
     "duration": 0.084077,
     "end_time": "2021-05-18T11:12:48.413839",
     "exception": false,
     "start_time": "2021-05-18T11:12:48.329762",
     "status": "completed"
    },
    "tags": []
   },
   "outputs": [],
   "source": [
    "def plot_roc_curve(fpr, tpr, label=None):\n",
    "    plt.plot(fpr, tpr, linewidth=2, label=label)\n",
    "    plt.plot([0, 1], [0, 1], 'k--') # dashed diagonal\n",
    "    plt.axis([0, 1, 0, 1])                                    # Not shown in the book\n",
    "    plt.xlabel('False Positive Rate (Fall-Out)', fontsize=16) # Not shown\n",
    "    plt.ylabel('True Positive Rate (Recall)', fontsize=16)    # Not shown\n",
    "    plt.grid(True)  "
   ]
  },
  {
   "cell_type": "code",
   "execution_count": 43,
   "metadata": {
    "execution": {
     "iopub.execute_input": "2021-05-18T11:12:48.576232Z",
     "iopub.status.busy": "2021-05-18T11:12:48.575467Z",
     "iopub.status.idle": "2021-05-18T11:12:48.739325Z",
     "shell.execute_reply": "2021-05-18T11:12:48.739732Z"
    },
    "papermill": {
     "duration": 0.25035,
     "end_time": "2021-05-18T11:12:48.739842",
     "exception": false,
     "start_time": "2021-05-18T11:12:48.489492",
     "status": "completed"
    },
    "tags": []
   },
   "outputs": [
    {
     "data": {
      "image/png": "[encoded data removed]",
      "text/plain": [
       "<Figure size 576x432 with 1 Axes>"
      ]
     },
     "metadata": {
      "needs_background": "light"
     },
     "output_type": "display_data"
    }
   ],
   "source": [
    "fpr, tpr, thresholds = roc_curve(flat_true_labels, flat_predictions)\n",
    "plt.figure(figsize=(8, 6))                         # Not shown\n",
    "plot_roc_curve(fpr, tpr)\n",
    "plt.plot([4.837e-3, 4.837e-3], [0., 0.4368], \"r:\") # Not shown\n",
    "plt.plot([0.0, 4.837e-3], [0.4368, 0.4368], \"r:\")  # Not shown\n",
    "plt.plot([4.837e-3], [0.4368], \"ro\")               # Not shown\n",
    "plt.show()"
   ]
  },
  {
   "cell_type": "code",
   "execution_count": 44,
   "metadata": {
    "execution": {
     "iopub.execute_input": "2021-05-18T11:12:48.905376Z",
     "iopub.status.busy": "2021-05-18T11:12:48.904614Z",
     "iopub.status.idle": "2021-05-18T11:12:48.914758Z",
     "shell.execute_reply": "2021-05-18T11:12:48.914188Z"
    },
    "papermill": {
     "duration": 0.096062,
     "end_time": "2021-05-18T11:12:48.914845",
     "exception": false,
     "start_time": "2021-05-18T11:12:48.818783",
     "status": "completed"
    },
    "tags": []
   },
   "outputs": [
    {
     "data": {
      "text/plain": [
       "0.8769697943625808"
      ]
     },
     "execution_count": 44,
     "metadata": {},
     "output_type": "execute_result"
    }
   ],
   "source": [
    "roc_auc_score(flat_true_labels, flat_predictions)"
   ]
  },
  {
   "cell_type": "markdown",
   "metadata": {
    "papermill": {
     "duration": 0.077565,
     "end_time": "2021-05-18T11:12:49.069555",
     "exception": false,
     "start_time": "2021-05-18T11:12:48.991990",
     "status": "completed"
    },
    "tags": []
   },
   "source": [
    "Valid"
   ]
  },
  {
   "cell_type": "code",
   "execution_count": 45,
   "metadata": {
    "execution": {
     "iopub.execute_input": "2021-05-18T11:12:49.254182Z",
     "iopub.status.busy": "2021-05-18T11:12:49.253312Z",
     "iopub.status.idle": "2021-05-18T11:12:50.896340Z",
     "shell.execute_reply": "2021-05-18T11:12:50.895722Z"
    },
    "papermill": {
     "duration": 1.749306,
     "end_time": "2021-05-18T11:12:50.896489",
     "exception": false,
     "start_time": "2021-05-18T11:12:49.147183",
     "status": "completed"
    },
    "tags": []
   },
   "outputs": [
    {
     "name": "stdout",
     "output_type": "stream",
     "text": [
      "Valid Embeddings Extraction and Merge DONE.\n"
     ]
    },
    {
     "data": {
      "text/html": [
       "<div>\n",
       "<style scoped>\n",
       "    .dataframe tbody tr th:only-of-type {\n",
       "        vertical-align: middle;\n",
       "    }\n",
       "\n",
       "    .dataframe tbody tr th {\n",
       "        vertical-align: top;\n",
       "    }\n",
       "\n",
       "    .dataframe thead th {\n",
       "        text-align: right;\n",
       "    }\n",
       "</style>\n",
       "<table border=\"1\" class=\"dataframe\">\n",
       "  <thead>\n",
       "    <tr style=\"text-align: right;\">\n",
       "      <th></th>\n",
       "      <th>id</th>\n",
       "      <th>created_at</th>\n",
       "      <th>retweet_count</th>\n",
       "      <th>favorite_count</th>\n",
       "      <th>quoted_status_id</th>\n",
       "      <th>user.id</th>\n",
       "      <th>user.created_at</th>\n",
       "      <th>user.favourites_count</th>\n",
       "      <th>user.followers_count</th>\n",
       "      <th>user.friends_count</th>\n",
       "      <th>...</th>\n",
       "      <th>758</th>\n",
       "      <th>759</th>\n",
       "      <th>760</th>\n",
       "      <th>761</th>\n",
       "      <th>762</th>\n",
       "      <th>763</th>\n",
       "      <th>764</th>\n",
       "      <th>765</th>\n",
       "      <th>766</th>\n",
       "      <th>767</th>\n",
       "    </tr>\n",
       "  </thead>\n",
       "  <tbody>\n",
       "    <tr>\n",
       "      <th>0</th>\n",
       "      <td>1.287649e+18</td>\n",
       "      <td>1.595834e+09</td>\n",
       "      <td>0.0</td>\n",
       "      <td>1.0</td>\n",
       "      <td>0</td>\n",
       "      <td>1.278120e+18</td>\n",
       "      <td>1.593563e+09</td>\n",
       "      <td>5211.0</td>\n",
       "      <td>47.0</td>\n",
       "      <td>169.0</td>\n",
       "      <td>...</td>\n",
       "      <td>0.510422</td>\n",
       "      <td>-0.540923</td>\n",
       "      <td>-0.688287</td>\n",
       "      <td>-0.292538</td>\n",
       "      <td>0.502080</td>\n",
       "      <td>0.535200</td>\n",
       "      <td>0.694390</td>\n",
       "      <td>0.169496</td>\n",
       "      <td>0.275275</td>\n",
       "      <td>2.073749</td>\n",
       "    </tr>\n",
       "    <tr>\n",
       "      <th>1</th>\n",
       "      <td>1.302709e+18</td>\n",
       "      <td>1.599425e+09</td>\n",
       "      <td>0.0</td>\n",
       "      <td>0.0</td>\n",
       "      <td>0</td>\n",
       "      <td>1.278120e+18</td>\n",
       "      <td>1.593563e+09</td>\n",
       "      <td>23233.0</td>\n",
       "      <td>348.0</td>\n",
       "      <td>737.0</td>\n",
       "      <td>...</td>\n",
       "      <td>0.197672</td>\n",
       "      <td>-0.291787</td>\n",
       "      <td>-1.352580</td>\n",
       "      <td>-0.472701</td>\n",
       "      <td>0.994203</td>\n",
       "      <td>0.481207</td>\n",
       "      <td>0.684240</td>\n",
       "      <td>0.101987</td>\n",
       "      <td>0.393295</td>\n",
       "      <td>0.685355</td>\n",
       "    </tr>\n",
       "    <tr>\n",
       "      <th>2</th>\n",
       "      <td>1.302553e+18</td>\n",
       "      <td>1.599388e+09</td>\n",
       "      <td>0.0</td>\n",
       "      <td>1.0</td>\n",
       "      <td>0</td>\n",
       "      <td>1.278120e+18</td>\n",
       "      <td>1.593563e+09</td>\n",
       "      <td>23233.0</td>\n",
       "      <td>348.0</td>\n",
       "      <td>737.0</td>\n",
       "      <td>...</td>\n",
       "      <td>0.747557</td>\n",
       "      <td>-0.741720</td>\n",
       "      <td>-1.345846</td>\n",
       "      <td>-0.867162</td>\n",
       "      <td>0.717417</td>\n",
       "      <td>0.509565</td>\n",
       "      <td>0.283418</td>\n",
       "      <td>0.337718</td>\n",
       "      <td>-0.053060</td>\n",
       "      <td>-0.557817</td>\n",
       "    </tr>\n",
       "    <tr>\n",
       "      <th>3</th>\n",
       "      <td>1.302553e+18</td>\n",
       "      <td>1.599388e+09</td>\n",
       "      <td>0.0</td>\n",
       "      <td>7.0</td>\n",
       "      <td>0</td>\n",
       "      <td>1.278120e+18</td>\n",
       "      <td>1.593563e+09</td>\n",
       "      <td>23233.0</td>\n",
       "      <td>348.0</td>\n",
       "      <td>737.0</td>\n",
       "      <td>...</td>\n",
       "      <td>0.145066</td>\n",
       "      <td>-0.940748</td>\n",
       "      <td>-0.925793</td>\n",
       "      <td>-0.380050</td>\n",
       "      <td>0.285736</td>\n",
       "      <td>0.201445</td>\n",
       "      <td>0.467340</td>\n",
       "      <td>0.708095</td>\n",
       "      <td>1.058968</td>\n",
       "      <td>0.369080</td>\n",
       "    </tr>\n",
       "    <tr>\n",
       "      <th>4</th>\n",
       "      <td>1.302553e+18</td>\n",
       "      <td>1.599388e+09</td>\n",
       "      <td>0.0</td>\n",
       "      <td>16.0</td>\n",
       "      <td>0</td>\n",
       "      <td>1.278120e+18</td>\n",
       "      <td>1.593563e+09</td>\n",
       "      <td>23233.0</td>\n",
       "      <td>348.0</td>\n",
       "      <td>737.0</td>\n",
       "      <td>...</td>\n",
       "      <td>1.094413</td>\n",
       "      <td>-1.028014</td>\n",
       "      <td>-0.934832</td>\n",
       "      <td>-0.676618</td>\n",
       "      <td>0.710402</td>\n",
       "      <td>1.030629</td>\n",
       "      <td>-0.407604</td>\n",
       "      <td>0.662823</td>\n",
       "      <td>1.455221</td>\n",
       "      <td>0.141986</td>\n",
       "    </tr>\n",
       "  </tbody>\n",
       "</table>\n",
       "<p>5 rows × 922 columns</p>\n",
       "</div>"
      ],
      "text/plain": [
       "             id    created_at  retweet_count  favorite_count  \\\n",
       "0  1.287649e+18  1.595834e+09            0.0             1.0   \n",
       "1  1.302709e+18  1.599425e+09            0.0             0.0   \n",
       "2  1.302553e+18  1.599388e+09            0.0             1.0   \n",
       "3  1.302553e+18  1.599388e+09            0.0             7.0   \n",
       "4  1.302553e+18  1.599388e+09            0.0            16.0   \n",
       "\n",
       "   quoted_status_id       user.id  user.created_at  user.favourites_count  \\\n",
       "0                 0  1.278120e+18     1.593563e+09                 5211.0   \n",
       "1                 0  1.278120e+18     1.593563e+09                23233.0   \n",
       "2                 0  1.278120e+18     1.593563e+09                23233.0   \n",
       "3                 0  1.278120e+18     1.593563e+09                23233.0   \n",
       "4                 0  1.278120e+18     1.593563e+09                23233.0   \n",
       "\n",
       "   user.followers_count  user.friends_count  ...       758       759  \\\n",
       "0                  47.0               169.0  ...  0.510422 -0.540923   \n",
       "1                 348.0               737.0  ...  0.197672 -0.291787   \n",
       "2                 348.0               737.0  ...  0.747557 -0.741720   \n",
       "3                 348.0               737.0  ...  0.145066 -0.940748   \n",
       "4                 348.0               737.0  ...  1.094413 -1.028014   \n",
       "\n",
       "        760       761       762       763       764       765       766  \\\n",
       "0 -0.688287 -0.292538  0.502080  0.535200  0.694390  0.169496  0.275275   \n",
       "1 -1.352580 -0.472701  0.994203  0.481207  0.684240  0.101987  0.393295   \n",
       "2 -1.345846 -0.867162  0.717417  0.509565  0.283418  0.337718 -0.053060   \n",
       "3 -0.925793 -0.380050  0.285736  0.201445  0.467340  0.708095  1.058968   \n",
       "4 -0.934832 -0.676618  0.710402  1.030629 -0.407604  0.662823  1.455221   \n",
       "\n",
       "        767  \n",
       "0  2.073749  \n",
       "1  0.685355  \n",
       "2 -0.557817  \n",
       "3  0.369080  \n",
       "4  0.141986  \n",
       "\n",
       "[5 rows x 922 columns]"
      ]
     },
     "execution_count": 45,
     "metadata": {},
     "output_type": "execute_result"
    }
   ],
   "source": [
    "# Get embeddings for valid\n",
    "p = [group for group in embeddings_vl]\n",
    "\n",
    "b = [item for sublist in [[list(t) for t in zip(sublist[0], sublist[1])] for sublist in p] for item in sublist]\n",
    "df = pd.DataFrame(b, columns = ['id', 'embeddings'])  \n",
    "\n",
    "bert_embeddings_df_valid = pd.concat([df['id'], df['embeddings'].apply(pd.Series)], axis = 1)\n",
    "bert_embeddings_df_valid['id'] = bert_embeddings_df_valid['id'].apply(lambda x: x.item())\n",
    "#bert_embeddings_df_valid = pd.merge(df_valid.drop(['text'], axis=1), bert_embeddings_df_valid, left_on = [\"id\"], right_on = [\"id\"])\n",
    "bert_embeddings_df_valid = pd.merge(df_valid.drop(['text'], axis=1), bert_embeddings_df_valid.drop(['id'], axis=1), left_index=True, right_index=True)\n",
    "print('Valid Embeddings Extraction and Merge DONE.')\n",
    "bert_embeddings_df_valid.head()"
   ]
  },
  {
   "cell_type": "code",
   "execution_count": 46,
   "metadata": {
    "execution": {
     "iopub.execute_input": "2021-05-18T11:12:51.077216Z",
     "iopub.status.busy": "2021-05-18T11:12:51.068836Z",
     "iopub.status.idle": "2021-05-18T11:12:51.252566Z",
     "shell.execute_reply": "2021-05-18T11:12:51.252143Z"
    },
    "papermill": {
     "duration": 0.275527,
     "end_time": "2021-05-18T11:12:51.252659",
     "exception": false,
     "start_time": "2021-05-18T11:12:50.977132",
     "status": "completed"
    },
    "tags": []
   },
   "outputs": [
    {
     "name": "stdout",
     "output_type": "stream",
     "text": [
      "Calculating Matthews Corr. Coef. for each batch...\n"
     ]
    },
    {
     "name": "stderr",
     "output_type": "stream",
     "text": [
      "/opt/conda/lib/python3.7/site-packages/sklearn/metrics/_classification.py:846: RuntimeWarning:\n",
      "\n",
      "invalid value encountered in double_scalars\n",
      "\n"
     ]
    }
   ],
   "source": [
    "from sklearn.metrics import matthews_corrcoef\n",
    "matthews_set = []\n",
    "# Evaluate each test batch using Matthew's correlation coefficient\n",
    "print('Calculating Matthews Corr. Coef. for each batch...')\n",
    "# For each input batch...\n",
    "for i in range(len(true_labels_valid)):\n",
    "  \n",
    "    # The predictions for this batch are a 2-column ndarray (one column for \"0\" \n",
    "    # and one column for \"1\"). Pick the label with the highest value and turn this\n",
    "    # in to a list of 0s and 1s.\n",
    "    pred_labels_i = np.argmax(predictions_valid[i], axis=1).flatten()\n",
    "\n",
    "    # Calculate and store the coef for this batch.  \n",
    "    matthews = matthews_corrcoef(true_labels_valid[i], pred_labels_i)                \n",
    "    matthews_set.append(matthews)"
   ]
  },
  {
   "cell_type": "code",
   "execution_count": 47,
   "metadata": {
    "execution": {
     "iopub.execute_input": "2021-05-18T11:12:51.427784Z",
     "iopub.status.busy": "2021-05-18T11:12:51.426973Z",
     "iopub.status.idle": "2021-05-18T11:12:51.455987Z",
     "shell.execute_reply": "2021-05-18T11:12:51.455519Z"
    },
    "papermill": {
     "duration": 0.11854,
     "end_time": "2021-05-18T11:12:51.456114",
     "exception": false,
     "start_time": "2021-05-18T11:12:51.337574",
     "status": "completed"
    },
    "tags": []
   },
   "outputs": [
    {
     "name": "stdout",
     "output_type": "stream",
     "text": [
      "MCC: 0.112\n"
     ]
    }
   ],
   "source": [
    "# Combine the predictions for each batch into a single list of 0s and 1s.\n",
    "flat_predictions = [item for sublist in predictions_valid for item in sublist]\n",
    "flat_predictions = np.argmax(flat_predictions, axis=1).flatten()\n",
    "# Combine the correct labels for each batch into a single list.\n",
    "flat_true_labels = [item for sublist in true_labels_valid for item in sublist]\n",
    "# Calculate the MCC\n",
    "mcc = matthews_corrcoef(flat_true_labels, flat_predictions)\n",
    "print('MCC: %.3f' % mcc)"
   ]
  },
  {
   "cell_type": "code",
   "execution_count": 48,
   "metadata": {
    "execution": {
     "iopub.execute_input": "2021-05-18T11:12:51.637166Z",
     "iopub.status.busy": "2021-05-18T11:12:51.636436Z",
     "iopub.status.idle": "2021-05-18T11:12:51.653034Z",
     "shell.execute_reply": "2021-05-18T11:12:51.652583Z"
    },
    "papermill": {
     "duration": 0.107982,
     "end_time": "2021-05-18T11:12:51.653139",
     "exception": false,
     "start_time": "2021-05-18T11:12:51.545157",
     "status": "completed"
    },
    "tags": []
   },
   "outputs": [
    {
     "name": "stdout",
     "output_type": "stream",
     "text": [
      "              precision    recall  f1-score   support\n",
      "\n",
      "           0       0.57      0.43      0.49      3634\n",
      "           1       0.54      0.68      0.60      3613\n",
      "\n",
      "    accuracy                           0.55      7247\n",
      "   macro avg       0.56      0.55      0.55      7247\n",
      "weighted avg       0.56      0.55      0.55      7247\n",
      "\n"
     ]
    }
   ],
   "source": [
    "from sklearn.metrics import classification_report,confusion_matrix\n",
    "report = classification_report(flat_true_labels, flat_predictions)\n",
    "print(report)"
   ]
  },
  {
   "cell_type": "code",
   "execution_count": 49,
   "metadata": {
    "execution": {
     "iopub.execute_input": "2021-05-18T11:12:51.824397Z",
     "iopub.status.busy": "2021-05-18T11:12:51.823587Z",
     "iopub.status.idle": "2021-05-18T11:12:51.968613Z",
     "shell.execute_reply": "2021-05-18T11:12:51.969045Z"
    },
    "papermill": {
     "duration": 0.234669,
     "end_time": "2021-05-18T11:12:51.969162",
     "exception": false,
     "start_time": "2021-05-18T11:12:51.734493",
     "status": "completed"
    },
    "tags": []
   },
   "outputs": [
    {
     "data": {
      "image/png": "[encoded data removed]",
      "text/plain": [
       "<Figure size 576x432 with 1 Axes>"
      ]
     },
     "metadata": {
      "needs_background": "light"
     },
     "output_type": "display_data"
    }
   ],
   "source": [
    "fpr, tpr, thresholds = roc_curve(flat_true_labels, flat_predictions)\n",
    "plt.figure(figsize=(8, 6))                         # Not shown\n",
    "plot_roc_curve(fpr, tpr)\n",
    "plt.plot([4.837e-3, 4.837e-3], [0., 0.4368], \"r:\") # Not shown\n",
    "plt.plot([0.0, 4.837e-3], [0.4368, 0.4368], \"r:\")  # Not shown\n",
    "plt.plot([4.837e-3], [0.4368], \"ro\")               # Not shown\n",
    "plt.show()"
   ]
  },
  {
   "cell_type": "code",
   "execution_count": 50,
   "metadata": {
    "execution": {
     "iopub.execute_input": "2021-05-18T11:12:52.140998Z",
     "iopub.status.busy": "2021-05-18T11:12:52.140176Z",
     "iopub.status.idle": "2021-05-18T11:12:52.146963Z",
     "shell.execute_reply": "2021-05-18T11:12:52.146551Z"
    },
    "papermill": {
     "duration": 0.096165,
     "end_time": "2021-05-18T11:12:52.147068",
     "exception": false,
     "start_time": "2021-05-18T11:12:52.050903",
     "status": "completed"
    },
    "tags": []
   },
   "outputs": [
    {
     "data": {
      "text/plain": [
       "0.5543744833255926"
      ]
     },
     "execution_count": 50,
     "metadata": {},
     "output_type": "execute_result"
    }
   ],
   "source": [
    "roc_auc_score(flat_true_labels, flat_predictions)"
   ]
  },
  {
   "cell_type": "markdown",
   "metadata": {
    "papermill": {
     "duration": 0.08221,
     "end_time": "2021-05-18T11:12:52.311311",
     "exception": false,
     "start_time": "2021-05-18T11:12:52.229101",
     "status": "completed"
    },
    "tags": []
   },
   "source": [
    "### Export Models and Embeddings"
   ]
  },
  {
   "cell_type": "code",
   "execution_count": 51,
   "metadata": {
    "execution": {
     "iopub.execute_input": "2021-05-18T11:12:52.481742Z",
     "iopub.status.busy": "2021-05-18T11:12:52.480951Z",
     "iopub.status.idle": "2021-05-18T11:12:52.526235Z",
     "shell.execute_reply": "2021-05-18T11:12:52.525812Z"
    },
    "papermill": {
     "duration": 0.132407,
     "end_time": "2021-05-18T11:12:52.526325",
     "exception": false,
     "start_time": "2021-05-18T11:12:52.393918",
     "status": "completed"
    },
    "tags": []
   },
   "outputs": [],
   "source": [
    "bert_embeddings_df_train['id'] = bert_embeddings_df_train['id'].astype('str')\n",
    "bert_embeddings_df_train['id'] = bert_embeddings_df_train['id'].apply(lambda x: \"'\" + x + \"'\")\n",
    "bert_embeddings_df_valid['id'] = bert_embeddings_df_valid['id'].astype('str')\n",
    "bert_embeddings_df_valid['id'] = bert_embeddings_df_valid['id'].apply(lambda x: \"'\" + x + \"'\")"
   ]
  },
  {
   "cell_type": "code",
   "execution_count": 52,
   "metadata": {
    "execution": {
     "iopub.execute_input": "2021-05-18T11:12:52.695548Z",
     "iopub.status.busy": "2021-05-18T11:12:52.694672Z",
     "iopub.status.idle": "2021-05-18T11:12:52.705163Z",
     "shell.execute_reply": "2021-05-18T11:12:52.704514Z"
    },
    "papermill": {
     "duration": 0.097648,
     "end_time": "2021-05-18T11:12:52.705279",
     "exception": false,
     "start_time": "2021-05-18T11:12:52.607631",
     "status": "completed"
    },
    "tags": []
   },
   "outputs": [
    {
     "name": "stdout",
     "output_type": "stream",
     "text": [
      "full train: 15830 unique ids train: 15830 full valid: 7247 unique ids valid: 7247\n"
     ]
    }
   ],
   "source": [
    "print(\"full train:\", len(bert_embeddings_df_train), \"unique ids train:\", len(bert_embeddings_df_train['id'].unique()), \n",
    "      \"full valid:\", len(bert_embeddings_df_valid), \"unique ids valid:\", len(bert_embeddings_df_valid['id'].unique()))"
   ]
  },
  {
   "cell_type": "markdown",
   "metadata": {
    "papermill": {
     "duration": 0.082128,
     "end_time": "2021-05-18T11:12:52.869663",
     "exception": false,
     "start_time": "2021-05-18T11:12:52.787535",
     "status": "completed"
    },
    "tags": []
   },
   "source": [
    "Save"
   ]
  },
  {
   "cell_type": "code",
   "execution_count": 53,
   "metadata": {
    "execution": {
     "iopub.execute_input": "2021-05-18T11:12:53.037743Z",
     "iopub.status.busy": "2021-05-18T11:12:53.036953Z",
     "iopub.status.idle": "2021-05-18T11:12:55.097275Z",
     "shell.execute_reply": "2021-05-18T11:12:55.096240Z"
    },
    "papermill": {
     "duration": 2.145764,
     "end_time": "2021-05-18T11:12:55.097436",
     "exception": false,
     "start_time": "2021-05-18T11:12:52.951672",
     "status": "completed"
    },
    "tags": []
   },
   "outputs": [
    {
     "data": {
      "text/plain": [
       "('./Multilingual_Tweettext_mode/tokenizer_config.json',\n",
       " './Multilingual_Tweettext_mode/special_tokens_map.json',\n",
       " './Multilingual_Tweettext_mode/vocab.txt',\n",
       " './Multilingual_Tweettext_mode/added_tokens.json')"
      ]
     },
     "execution_count": 53,
     "metadata": {},
     "output_type": "execute_result"
    }
   ],
   "source": [
    "model_to_save = model.module if hasattr(model, \"module\") else model # Take care of distributed/parallel training\n",
    "model_to_save.save_pretrained('./Multilingual_Tweettext_mode/')\n",
    "tokenizer.save_pretrained('./Multilingual_Tweettext_mode/')"
   ]
  },
  {
   "cell_type": "code",
   "execution_count": 54,
   "metadata": {
    "execution": {
     "iopub.execute_input": "2021-05-18T11:12:55.266366Z",
     "iopub.status.busy": "2021-05-18T11:12:55.265682Z",
     "iopub.status.idle": "2021-05-18T11:13:26.174420Z",
     "shell.execute_reply": "2021-05-18T11:13:26.173319Z"
    },
    "papermill": {
     "duration": 30.994941,
     "end_time": "2021-05-18T11:13:26.174543",
     "exception": false,
     "start_time": "2021-05-18T11:12:55.179602",
     "status": "completed"
    },
    "tags": []
   },
   "outputs": [],
   "source": [
    "bert_embeddings_df_train.to_csv('ml_training_embeddings_df_full.csv', index=False, encoding = \"utf_8_sig\")\n",
    "bert_embeddings_df_valid.to_csv('ml_valid_embeddings_df_full.csv', index=False, encoding = \"utf_8_sig\")"
   ]
  },
  {
   "cell_type": "markdown",
   "metadata": {
    "papermill": {
     "duration": 0.083004,
     "end_time": "2021-05-18T11:13:26.341489",
     "exception": false,
     "start_time": "2021-05-18T11:13:26.258485",
     "status": "completed"
    },
    "tags": []
   },
   "source": [
    "### Evaluate on Test"
   ]
  },
  {
   "cell_type": "markdown",
   "metadata": {
    "papermill": {
     "duration": 0.082527,
     "end_time": "2021-05-18T11:13:26.507770",
     "exception": false,
     "start_time": "2021-05-18T11:13:26.425243",
     "status": "completed"
    },
    "tags": []
   },
   "source": [
    "Let’s take a look at our training loss over all batches:"
   ]
  },
  {
   "cell_type": "markdown",
   "metadata": {
    "papermill": {
     "duration": 0.082121,
     "end_time": "2021-05-18T11:13:26.672636",
     "exception": false,
     "start_time": "2021-05-18T11:13:26.590515",
     "status": "completed"
    },
    "tags": []
   },
   "source": [
    "Now we’ll load the holdout dataset and prepare inputs just as we did with the training set. Then we’ll evaluate predictions using Matthews correlation coefficient (MCC wiki)because this is the metric used by the wider NLP community to evaluate performance on CoLA. With this metric, +1 is the best score, and -1 is the worst score. This way, we can see how well we perform against the state of the art models for this specific task.\n"
   ]
  },
  {
   "cell_type": "code",
   "execution_count": 55,
   "metadata": {
    "execution": {
     "iopub.execute_input": "2021-05-18T11:13:26.846203Z",
     "iopub.status.busy": "2021-05-18T11:13:26.844634Z",
     "iopub.status.idle": "2021-05-18T11:13:27.097263Z",
     "shell.execute_reply": "2021-05-18T11:13:27.096772Z"
    },
    "papermill": {
     "duration": 0.342408,
     "end_time": "2021-05-18T11:13:27.097370",
     "exception": false,
     "start_time": "2021-05-18T11:13:26.754962",
     "status": "completed"
    },
    "tags": []
   },
   "outputs": [],
   "source": [
    "# Convert to tensors.\n",
    "prediction_inputs = torch.tensor(test_inputs)\n",
    "prediction_masks = torch.tensor(test_masks)\n",
    "prediction_labels = torch.tensor(test_labels)\n",
    "prediction_ids = torch.tensor(ids_test)\n",
    "\n",
    "# Set the batch size.  \n",
    "batch_size = 8 \n",
    "# Create the DataLoader.\n",
    "prediction_data = TensorDataset(prediction_inputs, prediction_masks, prediction_labels, prediction_ids)\n",
    "prediction_sampler = SequentialSampler(prediction_data)\n",
    "prediction_dataloader = DataLoader(prediction_data, sampler=prediction_sampler, batch_size=batch_size)"
   ]
  },
  {
   "cell_type": "code",
   "execution_count": 56,
   "metadata": {
    "execution": {
     "iopub.execute_input": "2021-05-18T11:13:27.269363Z",
     "iopub.status.busy": "2021-05-18T11:13:27.268575Z",
     "iopub.status.idle": "2021-05-18T11:13:27.271813Z",
     "shell.execute_reply": "2021-05-18T11:13:27.272284Z"
    },
    "papermill": {
     "duration": 0.091078,
     "end_time": "2021-05-18T11:13:27.272399",
     "exception": false,
     "start_time": "2021-05-18T11:13:27.181321",
     "status": "completed"
    },
    "tags": []
   },
   "outputs": [
    {
     "data": {
      "text/plain": [
       "torch.Size([20518, 120])"
      ]
     },
     "execution_count": 56,
     "metadata": {},
     "output_type": "execute_result"
    }
   ],
   "source": [
    "prediction_inputs.shape"
   ]
  },
  {
   "cell_type": "markdown",
   "metadata": {
    "papermill": {
     "duration": 0.083427,
     "end_time": "2021-05-18T11:13:27.439296",
     "exception": false,
     "start_time": "2021-05-18T11:13:27.355869",
     "status": "completed"
    },
    "tags": []
   },
   "source": [
    "With the test set prepared, we can apply our fine-tuned model to generate predictions on the test set"
   ]
  },
  {
   "cell_type": "code",
   "execution_count": 57,
   "metadata": {
    "execution": {
     "iopub.execute_input": "2021-05-18T11:13:27.618756Z",
     "iopub.status.busy": "2021-05-18T11:13:27.617963Z",
     "iopub.status.idle": "2021-05-18T11:14:55.075006Z",
     "shell.execute_reply": "2021-05-18T11:14:55.073958Z"
    },
    "papermill": {
     "duration": 87.552533,
     "end_time": "2021-05-18T11:14:55.075165",
     "exception": false,
     "start_time": "2021-05-18T11:13:27.522632",
     "status": "completed"
    },
    "tags": []
   },
   "outputs": [
    {
     "name": "stdout",
     "output_type": "stream",
     "text": [
      "Predicting labels for 20,518 test sentences...\n"
     ]
    }
   ],
   "source": [
    "embeddings_te = []\n",
    "# Prediction on test set\n",
    "print('Predicting labels for {:,} test sentences...'.format(len(prediction_inputs)))\n",
    "# Put model in evaluation mode\n",
    "model.eval()\n",
    "# Tracking variables \n",
    "predictions , true_labels = [], []\n",
    "# Predict \n",
    "for batch in prediction_dataloader:\n",
    "    b_input_ids = batch[0].to(device)\n",
    "    b_input_mask = batch[1].to(device)\n",
    "    b_labels = batch[2].to(device)\n",
    "  \n",
    "  # Telling the model not to compute or store gradients, saving memory and \n",
    "  # speeding up prediction\n",
    "    with torch.no_grad():\n",
    "        # Forward pass, calculate logit predictions\n",
    "        outputs = model(b_input_ids, token_type_ids=None, \n",
    "                      attention_mask=b_input_mask, labels=b_labels)\n",
    "    logits = outputs[1]\n",
    "    # Embeddings extraction approach is to average the second to last hiden layer of each token producing a single 768 length vector\n",
    "    # https://mccormickml.com/2019/05/14/BERT-word-embeddings-tutorial/\n",
    "    hidden_state_te = outputs[2]\n",
    "    token_vecs = hidden_state_te[-2]\n",
    "    token_vecs_sentvecs = []\n",
    "    for token in token_vecs:\n",
    "        sentvecs = torch.mean(token, dim=0).detach().cpu().numpy()\n",
    "        token_vecs_sentvecs.append(sentvecs)\n",
    "    # features = hidden_state_te[12][:,0,:].detach().cpu().numpy()\n",
    "    embeddings_te.append([batch[3], token_vecs_sentvecs])\n",
    "    # Move logits and labels to CPU\n",
    "    logits = logits.detach().cpu().numpy()\n",
    "    label_ids = b_labels.to('cpu').numpy()\n",
    "\n",
    "    # Store predictions and true labels\n",
    "    predictions.append(logits)\n",
    "    true_labels.append(label_ids)\n",
    "    \n"
   ]
  },
  {
   "cell_type": "markdown",
   "metadata": {
    "papermill": {
     "duration": 0.085582,
     "end_time": "2021-05-18T11:14:55.245800",
     "exception": false,
     "start_time": "2021-05-18T11:14:55.160218",
     "status": "completed"
    },
    "tags": []
   },
   "source": [
    "Extract Embeddings"
   ]
  },
  {
   "cell_type": "code",
   "execution_count": 58,
   "metadata": {
    "execution": {
     "iopub.execute_input": "2021-05-18T11:14:55.423475Z",
     "iopub.status.busy": "2021-05-18T11:14:55.422618Z",
     "iopub.status.idle": "2021-05-18T11:14:59.932903Z",
     "shell.execute_reply": "2021-05-18T11:14:59.933409Z"
    },
    "papermill": {
     "duration": 4.604038,
     "end_time": "2021-05-18T11:14:59.933557",
     "exception": false,
     "start_time": "2021-05-18T11:14:55.329519",
     "status": "completed"
    },
    "tags": []
   },
   "outputs": [
    {
     "name": "stdout",
     "output_type": "stream",
     "text": [
      "DONE.\n"
     ]
    },
    {
     "data": {
      "text/html": [
       "<div>\n",
       "<style scoped>\n",
       "    .dataframe tbody tr th:only-of-type {\n",
       "        vertical-align: middle;\n",
       "    }\n",
       "\n",
       "    .dataframe tbody tr th {\n",
       "        vertical-align: top;\n",
       "    }\n",
       "\n",
       "    .dataframe thead th {\n",
       "        text-align: right;\n",
       "    }\n",
       "</style>\n",
       "<table border=\"1\" class=\"dataframe\">\n",
       "  <thead>\n",
       "    <tr style=\"text-align: right;\">\n",
       "      <th></th>\n",
       "      <th>id</th>\n",
       "      <th>created_at</th>\n",
       "      <th>retweet_count</th>\n",
       "      <th>favorite_count</th>\n",
       "      <th>quoted_status_id</th>\n",
       "      <th>user.id</th>\n",
       "      <th>user.created_at</th>\n",
       "      <th>user.favourites_count</th>\n",
       "      <th>user.followers_count</th>\n",
       "      <th>user.friends_count</th>\n",
       "      <th>...</th>\n",
       "      <th>758</th>\n",
       "      <th>759</th>\n",
       "      <th>760</th>\n",
       "      <th>761</th>\n",
       "      <th>762</th>\n",
       "      <th>763</th>\n",
       "      <th>764</th>\n",
       "      <th>765</th>\n",
       "      <th>766</th>\n",
       "      <th>767</th>\n",
       "    </tr>\n",
       "  </thead>\n",
       "  <tbody>\n",
       "    <tr>\n",
       "      <th>0</th>\n",
       "      <td>1.278734e+18</td>\n",
       "      <td>1.593709e+09</td>\n",
       "      <td>0.0</td>\n",
       "      <td>0.0</td>\n",
       "      <td>0</td>\n",
       "      <td>1.278130e+18</td>\n",
       "      <td>1.593565e+09</td>\n",
       "      <td>5.0</td>\n",
       "      <td>1.0</td>\n",
       "      <td>58.0</td>\n",
       "      <td>...</td>\n",
       "      <td>-0.142673</td>\n",
       "      <td>-1.042128</td>\n",
       "      <td>-0.910912</td>\n",
       "      <td>0.180891</td>\n",
       "      <td>0.470747</td>\n",
       "      <td>0.830846</td>\n",
       "      <td>-0.392933</td>\n",
       "      <td>0.256906</td>\n",
       "      <td>-0.708513</td>\n",
       "      <td>-0.341661</td>\n",
       "    </tr>\n",
       "    <tr>\n",
       "      <th>1</th>\n",
       "      <td>1.278147e+18</td>\n",
       "      <td>1.593569e+09</td>\n",
       "      <td>0.0</td>\n",
       "      <td>1.0</td>\n",
       "      <td>0</td>\n",
       "      <td>1.278145e+18</td>\n",
       "      <td>1.593569e+09</td>\n",
       "      <td>0.0</td>\n",
       "      <td>0.0</td>\n",
       "      <td>47.0</td>\n",
       "      <td>...</td>\n",
       "      <td>-0.371905</td>\n",
       "      <td>-0.806160</td>\n",
       "      <td>-0.801864</td>\n",
       "      <td>-0.946877</td>\n",
       "      <td>0.850127</td>\n",
       "      <td>-0.372728</td>\n",
       "      <td>-1.017822</td>\n",
       "      <td>0.496281</td>\n",
       "      <td>-0.093471</td>\n",
       "      <td>0.325262</td>\n",
       "    </tr>\n",
       "    <tr>\n",
       "      <th>2</th>\n",
       "      <td>1.278298e+18</td>\n",
       "      <td>1.593605e+09</td>\n",
       "      <td>0.0</td>\n",
       "      <td>0.0</td>\n",
       "      <td>0</td>\n",
       "      <td>1.278155e+18</td>\n",
       "      <td>1.593571e+09</td>\n",
       "      <td>4.0</td>\n",
       "      <td>0.0</td>\n",
       "      <td>19.0</td>\n",
       "      <td>...</td>\n",
       "      <td>0.349072</td>\n",
       "      <td>-0.833518</td>\n",
       "      <td>-0.706822</td>\n",
       "      <td>-0.755300</td>\n",
       "      <td>0.326127</td>\n",
       "      <td>-0.756239</td>\n",
       "      <td>-0.027424</td>\n",
       "      <td>0.208459</td>\n",
       "      <td>-0.096769</td>\n",
       "      <td>-0.406162</td>\n",
       "    </tr>\n",
       "    <tr>\n",
       "      <th>3</th>\n",
       "      <td>1.303307e+18</td>\n",
       "      <td>1.599568e+09</td>\n",
       "      <td>0.0</td>\n",
       "      <td>0.0</td>\n",
       "      <td>0</td>\n",
       "      <td>1.278155e+18</td>\n",
       "      <td>1.593571e+09</td>\n",
       "      <td>4.0</td>\n",
       "      <td>0.0</td>\n",
       "      <td>19.0</td>\n",
       "      <td>...</td>\n",
       "      <td>0.155613</td>\n",
       "      <td>-0.892932</td>\n",
       "      <td>-1.060376</td>\n",
       "      <td>0.208525</td>\n",
       "      <td>0.624211</td>\n",
       "      <td>0.549591</td>\n",
       "      <td>-0.360893</td>\n",
       "      <td>0.596410</td>\n",
       "      <td>0.166530</td>\n",
       "      <td>0.811554</td>\n",
       "    </tr>\n",
       "    <tr>\n",
       "      <th>4</th>\n",
       "      <td>1.303307e+18</td>\n",
       "      <td>1.599568e+09</td>\n",
       "      <td>0.0</td>\n",
       "      <td>0.0</td>\n",
       "      <td>0</td>\n",
       "      <td>1.278155e+18</td>\n",
       "      <td>1.593571e+09</td>\n",
       "      <td>4.0</td>\n",
       "      <td>0.0</td>\n",
       "      <td>19.0</td>\n",
       "      <td>...</td>\n",
       "      <td>0.155613</td>\n",
       "      <td>-0.892932</td>\n",
       "      <td>-1.060376</td>\n",
       "      <td>0.208525</td>\n",
       "      <td>0.624211</td>\n",
       "      <td>0.549591</td>\n",
       "      <td>-0.360893</td>\n",
       "      <td>0.596410</td>\n",
       "      <td>0.166530</td>\n",
       "      <td>0.811554</td>\n",
       "    </tr>\n",
       "  </tbody>\n",
       "</table>\n",
       "<p>5 rows × 922 columns</p>\n",
       "</div>"
      ],
      "text/plain": [
       "             id    created_at  retweet_count  favorite_count  \\\n",
       "0  1.278734e+18  1.593709e+09            0.0             0.0   \n",
       "1  1.278147e+18  1.593569e+09            0.0             1.0   \n",
       "2  1.278298e+18  1.593605e+09            0.0             0.0   \n",
       "3  1.303307e+18  1.599568e+09            0.0             0.0   \n",
       "4  1.303307e+18  1.599568e+09            0.0             0.0   \n",
       "\n",
       "   quoted_status_id       user.id  user.created_at  user.favourites_count  \\\n",
       "0                 0  1.278130e+18     1.593565e+09                    5.0   \n",
       "1                 0  1.278145e+18     1.593569e+09                    0.0   \n",
       "2                 0  1.278155e+18     1.593571e+09                    4.0   \n",
       "3                 0  1.278155e+18     1.593571e+09                    4.0   \n",
       "4                 0  1.278155e+18     1.593571e+09                    4.0   \n",
       "\n",
       "   user.followers_count  user.friends_count  ...       758       759  \\\n",
       "0                   1.0                58.0  ... -0.142673 -1.042128   \n",
       "1                   0.0                47.0  ... -0.371905 -0.806160   \n",
       "2                   0.0                19.0  ...  0.349072 -0.833518   \n",
       "3                   0.0                19.0  ...  0.155613 -0.892932   \n",
       "4                   0.0                19.0  ...  0.155613 -0.892932   \n",
       "\n",
       "        760       761       762       763       764       765       766  \\\n",
       "0 -0.910912  0.180891  0.470747  0.830846 -0.392933  0.256906 -0.708513   \n",
       "1 -0.801864 -0.946877  0.850127 -0.372728 -1.017822  0.496281 -0.093471   \n",
       "2 -0.706822 -0.755300  0.326127 -0.756239 -0.027424  0.208459 -0.096769   \n",
       "3 -1.060376  0.208525  0.624211  0.549591 -0.360893  0.596410  0.166530   \n",
       "4 -1.060376  0.208525  0.624211  0.549591 -0.360893  0.596410  0.166530   \n",
       "\n",
       "        767  \n",
       "0 -0.341661  \n",
       "1  0.325262  \n",
       "2 -0.406162  \n",
       "3  0.811554  \n",
       "4  0.811554  \n",
       "\n",
       "[5 rows x 922 columns]"
      ]
     },
     "execution_count": 58,
     "metadata": {},
     "output_type": "execute_result"
    }
   ],
   "source": [
    "# Get embeddings for test\n",
    "p = [group for group in embeddings_te]\n",
    "\n",
    "b = [item for sublist in [[list(t) for t in zip(sublist[0], sublist[1])] for sublist in p] for item in sublist]\n",
    "df = pd.DataFrame(b, columns = ['id', 'embeddings'])  \n",
    "\n",
    "bert_embeddings_df_test = pd.concat([df['id'], df['embeddings'].apply(pd.Series)], axis = 1)\n",
    "bert_embeddings_df_test['id'] = bert_embeddings_df_test['id'].apply(lambda x: x.item())\n",
    "#bert_embeddings_df_test = pd.merge(df_test.drop(['text'], axis=1), bert_embeddings_df_test, left_on = [\"id\"], right_on = [\"id\"])\n",
    "bert_embeddings_df_test = pd.merge(df_test.drop(['text'], axis=1), bert_embeddings_df_test.drop(['id'], axis=1), left_index=True, right_index=True)\n",
    "print('DONE.')\n",
    "bert_embeddings_df_test.head()"
   ]
  },
  {
   "cell_type": "code",
   "execution_count": 59,
   "metadata": {
    "execution": {
     "iopub.execute_input": "2021-05-18T11:15:00.110823Z",
     "iopub.status.busy": "2021-05-18T11:15:00.110065Z",
     "iopub.status.idle": "2021-05-18T11:15:00.152401Z",
     "shell.execute_reply": "2021-05-18T11:15:00.151943Z"
    },
    "papermill": {
     "duration": 0.133004,
     "end_time": "2021-05-18T11:15:00.152522",
     "exception": false,
     "start_time": "2021-05-18T11:15:00.019518",
     "status": "completed"
    },
    "tags": []
   },
   "outputs": [],
   "source": [
    "bert_embeddings_df_test['id'] = bert_embeddings_df_test['id'].astype('str')\n",
    "bert_embeddings_df_test['id'] = bert_embeddings_df_test['id'].apply(lambda x: \"'\" + x + \"'\")"
   ]
  },
  {
   "cell_type": "code",
   "execution_count": 60,
   "metadata": {
    "execution": {
     "iopub.execute_input": "2021-05-18T11:15:00.341971Z",
     "iopub.status.busy": "2021-05-18T11:15:00.341113Z",
     "iopub.status.idle": "2021-05-18T11:15:00.348913Z",
     "shell.execute_reply": "2021-05-18T11:15:00.348500Z"
    },
    "papermill": {
     "duration": 0.099911,
     "end_time": "2021-05-18T11:15:00.349005",
     "exception": false,
     "start_time": "2021-05-18T11:15:00.249094",
     "status": "completed"
    },
    "tags": []
   },
   "outputs": [
    {
     "name": "stdout",
     "output_type": "stream",
     "text": [
      "full train: 20518 unique ids train: 20518\n"
     ]
    }
   ],
   "source": [
    "print(\"full train:\", len(bert_embeddings_df_test), \"unique ids train:\", len(bert_embeddings_df_test['id'].unique()))"
   ]
  },
  {
   "cell_type": "markdown",
   "metadata": {
    "papermill": {
     "duration": 0.085291,
     "end_time": "2021-05-18T11:15:00.520525",
     "exception": false,
     "start_time": "2021-05-18T11:15:00.435234",
     "status": "completed"
    },
    "tags": []
   },
   "source": [
    "Save"
   ]
  },
  {
   "cell_type": "code",
   "execution_count": 61,
   "metadata": {
    "execution": {
     "iopub.execute_input": "2021-05-18T11:15:00.699338Z",
     "iopub.status.busy": "2021-05-18T11:15:00.698208Z",
     "iopub.status.idle": "2021-05-18T11:15:28.361981Z",
     "shell.execute_reply": "2021-05-18T11:15:28.360806Z"
    },
    "papermill": {
     "duration": 27.75617,
     "end_time": "2021-05-18T11:15:28.362152",
     "exception": false,
     "start_time": "2021-05-18T11:15:00.605982",
     "status": "completed"
    },
    "tags": []
   },
   "outputs": [],
   "source": [
    "bert_embeddings_df_test.to_csv('ml_test_embeddings_df_full.csv', index=False, encoding = \"utf_8_sig\")"
   ]
  },
  {
   "cell_type": "markdown",
   "metadata": {
    "papermill": {
     "duration": 0.088097,
     "end_time": "2021-05-18T11:15:28.538927",
     "exception": false,
     "start_time": "2021-05-18T11:15:28.450830",
     "status": "completed"
    },
    "tags": []
   },
   "source": [
    "Look at imbalance. "
   ]
  },
  {
   "cell_type": "code",
   "execution_count": 62,
   "metadata": {
    "execution": {
     "iopub.execute_input": "2021-05-18T11:15:28.722078Z",
     "iopub.status.busy": "2021-05-18T11:15:28.720862Z",
     "iopub.status.idle": "2021-05-18T11:15:28.725077Z",
     "shell.execute_reply": "2021-05-18T11:15:28.724465Z"
    },
    "papermill": {
     "duration": 0.09839,
     "end_time": "2021-05-18T11:15:28.725201",
     "exception": false,
     "start_time": "2021-05-18T11:15:28.626811",
     "status": "completed"
    },
    "tags": []
   },
   "outputs": [
    {
     "name": "stdout",
     "output_type": "stream",
     "text": [
      "Positive samples: 8342 of 15830 (52.70%)\n"
     ]
    }
   ],
   "source": [
    "print('Positive samples: %d of %d (%.2f%%)' % (df_train.suspended.sum(), len(df_train.suspended), (df_train.suspended.sum() / len(df_train.suspended) * 100.0)))"
   ]
  },
  {
   "cell_type": "code",
   "execution_count": 63,
   "metadata": {
    "execution": {
     "iopub.execute_input": "2021-05-18T11:15:28.913773Z",
     "iopub.status.busy": "2021-05-18T11:15:28.912330Z",
     "iopub.status.idle": "2021-05-18T11:15:30.916271Z",
     "shell.execute_reply": "2021-05-18T11:15:30.915449Z"
    },
    "papermill": {
     "duration": 2.10186,
     "end_time": "2021-05-18T11:15:30.916399",
     "exception": false,
     "start_time": "2021-05-18T11:15:28.814539",
     "status": "completed"
    },
    "tags": []
   },
   "outputs": [
    {
     "name": "stdout",
     "output_type": "stream",
     "text": [
      "Calculating Matthews Corr. Coef. for each batch...\n"
     ]
    },
    {
     "name": "stderr",
     "output_type": "stream",
     "text": [
      "/opt/conda/lib/python3.7/site-packages/sklearn/metrics/_classification.py:846: RuntimeWarning:\n",
      "\n",
      "invalid value encountered in double_scalars\n",
      "\n"
     ]
    }
   ],
   "source": [
    "from sklearn.metrics import matthews_corrcoef\n",
    "matthews_set = []\n",
    "# Evaluate each test batch using Matthew's correlation coefficient\n",
    "print('Calculating Matthews Corr. Coef. for each batch...')\n",
    "# For each input batch...\n",
    "for i in range(len(true_labels)):\n",
    "  \n",
    "    # The predictions for this batch are a 2-column ndarray (one column for \"0\" \n",
    "    # and one column for \"1\"). Pick the label with the highest value and turn this\n",
    "    # in to a list of 0s and 1s.\n",
    "    pred_labels_i = np.argmax(predictions[i], axis=1).flatten()\n",
    "\n",
    "    # Calculate and store the coef for this batch.  \n",
    "    matthews = matthews_corrcoef(true_labels[i], pred_labels_i)                \n",
    "    matthews_set.append(matthews)"
   ]
  },
  {
   "cell_type": "code",
   "execution_count": 64,
   "metadata": {
    "execution": {
     "iopub.execute_input": "2021-05-18T11:15:31.413309Z",
     "iopub.status.busy": "2021-05-18T11:15:31.412501Z",
     "iopub.status.idle": "2021-05-18T11:15:31.480211Z",
     "shell.execute_reply": "2021-05-18T11:15:31.479506Z"
    },
    "papermill": {
     "duration": 0.466004,
     "end_time": "2021-05-18T11:15:31.480342",
     "exception": false,
     "start_time": "2021-05-18T11:15:31.014338",
     "status": "completed"
    },
    "tags": []
   },
   "outputs": [
    {
     "name": "stdout",
     "output_type": "stream",
     "text": [
      "MCC: -0.038\n"
     ]
    }
   ],
   "source": [
    "# Combine the predictions for each batch into a single list of 0s and 1s.\n",
    "flat_predictions = [item for sublist in predictions for item in sublist]\n",
    "flat_predictions = np.argmax(flat_predictions, axis=1).flatten()\n",
    "# Combine the correct labels for each batch into a single list.\n",
    "flat_true_labels = [item for sublist in true_labels for item in sublist]\n",
    "# Calculate the MCC\n",
    "mcc = matthews_corrcoef(flat_true_labels, flat_predictions)\n",
    "print('MCC: %.3f' % mcc)"
   ]
  },
  {
   "cell_type": "code",
   "execution_count": 65,
   "metadata": {
    "execution": {
     "iopub.execute_input": "2021-05-18T11:15:31.679000Z",
     "iopub.status.busy": "2021-05-18T11:15:31.678171Z",
     "iopub.status.idle": "2021-05-18T11:15:31.712858Z",
     "shell.execute_reply": "2021-05-18T11:15:31.713274Z"
    },
    "papermill": {
     "duration": 0.13383,
     "end_time": "2021-05-18T11:15:31.713399",
     "exception": false,
     "start_time": "2021-05-18T11:15:31.579569",
     "status": "completed"
    },
    "tags": []
   },
   "outputs": [
    {
     "name": "stdout",
     "output_type": "stream",
     "text": [
      "              precision    recall  f1-score   support\n",
      "\n",
      "           0       0.89      0.49      0.63     18480\n",
      "           1       0.09      0.45      0.15      2038\n",
      "\n",
      "    accuracy                           0.48     20518\n",
      "   macro avg       0.49      0.47      0.39     20518\n",
      "weighted avg       0.81      0.48      0.58     20518\n",
      "\n"
     ]
    }
   ],
   "source": [
    "report = classification_report(flat_true_labels, flat_predictions)\n",
    "print(report)"
   ]
  },
  {
   "cell_type": "code",
   "execution_count": 66,
   "metadata": {
    "execution": {
     "iopub.execute_input": "2021-05-18T11:15:31.901109Z",
     "iopub.status.busy": "2021-05-18T11:15:31.900319Z",
     "iopub.status.idle": "2021-05-18T11:15:32.046875Z",
     "shell.execute_reply": "2021-05-18T11:15:32.047308Z"
    },
    "papermill": {
     "duration": 0.247478,
     "end_time": "2021-05-18T11:15:32.047442",
     "exception": false,
     "start_time": "2021-05-18T11:15:31.799964",
     "status": "completed"
    },
    "tags": []
   },
   "outputs": [
    {
     "data": {
      "image/png": "[encoded data removed]",
      "text/plain": [
       "<Figure size 576x432 with 1 Axes>"
      ]
     },
     "metadata": {
      "needs_background": "light"
     },
     "output_type": "display_data"
    }
   ],
   "source": [
    "fpr, tpr, thresholds = roc_curve(flat_true_labels, flat_predictions)\n",
    "plt.figure(figsize=(8, 6))                         # Not shown\n",
    "plot_roc_curve(fpr, tpr)\n",
    "plt.plot([4.837e-3, 4.837e-3], [0., 0.4368], \"r:\") # Not shown\n",
    "plt.plot([0.0, 4.837e-3], [0.4368, 0.4368], \"r:\")  # Not shown\n",
    "plt.plot([4.837e-3], [0.4368], \"ro\")               # Not shown\n",
    "plt.show()"
   ]
  },
  {
   "cell_type": "code",
   "execution_count": 67,
   "metadata": {
    "execution": {
     "iopub.execute_input": "2021-05-18T11:15:32.237916Z",
     "iopub.status.busy": "2021-05-18T11:15:32.237152Z",
     "iopub.status.idle": "2021-05-18T11:15:32.249083Z",
     "shell.execute_reply": "2021-05-18T11:15:32.248628Z"
    },
    "papermill": {
     "duration": 0.112542,
     "end_time": "2021-05-18T11:15:32.249183",
     "exception": false,
     "start_time": "2021-05-18T11:15:32.136641",
     "status": "completed"
    },
    "tags": []
   },
   "outputs": [
    {
     "data": {
      "text/plain": [
       "0.4684837917234874"
      ]
     },
     "execution_count": 67,
     "metadata": {},
     "output_type": "execute_result"
    }
   ],
   "source": [
    "roc_auc_score(flat_true_labels, flat_predictions)"
   ]
  },
  {
   "cell_type": "markdown",
   "metadata": {
    "papermill": {
     "duration": 0.089759,
     "end_time": "2021-05-18T11:15:32.429423",
     "exception": false,
     "start_time": "2021-05-18T11:15:32.339664",
     "status": "completed"
    },
    "tags": []
   },
   "source": [
    "### Aggregate Predictions to Account Level"
   ]
  },
  {
   "cell_type": "code",
   "execution_count": 68,
   "metadata": {
    "execution": {
     "iopub.execute_input": "2021-05-18T11:15:32.616866Z",
     "iopub.status.busy": "2021-05-18T11:15:32.616059Z",
     "iopub.status.idle": "2021-05-18T11:15:32.618373Z",
     "shell.execute_reply": "2021-05-18T11:15:32.618797Z"
    },
    "papermill": {
     "duration": 0.099775,
     "end_time": "2021-05-18T11:15:32.618907",
     "exception": false,
     "start_time": "2021-05-18T11:15:32.519132",
     "status": "completed"
    },
    "tags": []
   },
   "outputs": [],
   "source": [
    "def predict_tweet_text(predictions, df_bert, df_full):\n",
    "    df = pd.DataFrame(predictions, columns = ['pred'])\n",
    "    df_2 = pd.merge(df_bert['id'], df, left_index=True, right_index=True)\n",
    "    df_fm = df_full[['id', 'text','user.screen_name','user.id', 'suspended']].drop_duplicates(subset=['user.screen_name','user.id'])\n",
    "    df_fm['id'] = df_fm['id'].astype('str')\n",
    "    df_fm['id'] = df_fm['id'].apply(lambda x: \"'\" + x + \"'\")\n",
    "    df_3 = pd.merge(df_fm, df_2, left_on='id', right_on='id')\n",
    "    df_3.columns = [\"id\", \"text\", \"user.screen_name\", \"user.id\", \"suspended_label\", \"pred\"]\n",
    "    df_3 = df_3.sort_values(by=['pred'], ascending=False)\n",
    "\n",
    "    return df_3"
   ]
  },
  {
   "cell_type": "code",
   "execution_count": 69,
   "metadata": {
    "execution": {
     "iopub.execute_input": "2021-05-18T11:15:32.805382Z",
     "iopub.status.busy": "2021-05-18T11:15:32.804719Z",
     "iopub.status.idle": "2021-05-18T11:15:32.807759Z",
     "shell.execute_reply": "2021-05-18T11:15:32.807250Z"
    },
    "papermill": {
     "duration": 0.101015,
     "end_time": "2021-05-18T11:15:32.807844",
     "exception": false,
     "start_time": "2021-05-18T11:15:32.706829",
     "status": "completed"
    },
    "tags": []
   },
   "outputs": [],
   "source": [
    "# Generate class predictions at the account level \n",
    "def predict_account(predictions, df_bert, df_full):\n",
    "    df = pd.DataFrame(predictions, columns = ['pred'])\n",
    "    df_2 = pd.merge(df_bert['user.id'], df, left_index=True, right_index=True)\n",
    "    df_fm = df_full[['user.screen_name','user.id', 'suspended']].drop_duplicates(subset=['user.screen_name','user.id'])\n",
    "    df_3 = pd.merge(df_fm, df_2, left_on='user.id', right_on='user.id')\n",
    "    df_4 = df_3[['user.screen_name', 'suspended','pred']].groupby('user.screen_name').agg(['sum', 'mean'])\n",
    "    df_4.drop(('suspended', 'sum'), axis = 1, inplace = True)\n",
    "    df_4.columns = df_4.columns = [' '.join(col).strip() for col in df_4.columns.values]\n",
    "    df_4.reset_index(level=0, inplace=True)\n",
    "    df_4.columns = [\"user.screen_name\",\"suspended_label\", \"total_pre_prob\",\"mean_pred_prob\"]\n",
    "    df_4['pred_class'] = np.where(df_4['mean_pred_prob'] > 0.25, 1,0) # Use lighter threshold as not all tweets get an account suspended. \n",
    "    df_4 = df_4.sort_values(by=['total_pre_prob'], ascending=False)\n",
    "\n",
    "    return df_4"
   ]
  },
  {
   "cell_type": "code",
   "execution_count": 70,
   "metadata": {
    "execution": {
     "iopub.execute_input": "2021-05-18T11:15:32.992984Z",
     "iopub.status.busy": "2021-05-18T11:15:32.992037Z",
     "iopub.status.idle": "2021-05-18T11:15:33.021684Z",
     "shell.execute_reply": "2021-05-18T11:15:33.021198Z"
    },
    "papermill": {
     "duration": 0.125685,
     "end_time": "2021-05-18T11:15:33.021783",
     "exception": false,
     "start_time": "2021-05-18T11:15:32.896098",
     "status": "completed"
    },
    "tags": []
   },
   "outputs": [
    {
     "data": {
      "text/html": [
       "<div>\n",
       "<style scoped>\n",
       "    .dataframe tbody tr th:only-of-type {\n",
       "        vertical-align: middle;\n",
       "    }\n",
       "\n",
       "    .dataframe tbody tr th {\n",
       "        vertical-align: top;\n",
       "    }\n",
       "\n",
       "    .dataframe thead th {\n",
       "        text-align: right;\n",
       "    }\n",
       "</style>\n",
       "<table border=\"1\" class=\"dataframe\">\n",
       "  <thead>\n",
       "    <tr style=\"text-align: right;\">\n",
       "      <th></th>\n",
       "      <th>id</th>\n",
       "      <th>text</th>\n",
       "      <th>user.screen_name</th>\n",
       "      <th>user.id</th>\n",
       "      <th>suspended_label</th>\n",
       "      <th>pred</th>\n",
       "    </tr>\n",
       "  </thead>\n",
       "  <tbody>\n",
       "    <tr>\n",
       "      <th>153</th>\n",
       "      <td>'1.303044259780518e+18'</td>\n",
       "      <td>@AwaidBhatti Welcome to Skardu.</td>\n",
       "      <td>RidaAzi03404528</td>\n",
       "      <td>1.279893e+18</td>\n",
       "      <td>0</td>\n",
       "      <td>1</td>\n",
       "    </tr>\n",
       "    <tr>\n",
       "      <th>166</th>\n",
       "      <td>'1.2814931950633083e+18'</td>\n",
       "      <td>@cnliziqi 我最喜欢的仙女姐姐~</td>\n",
       "      <td>Amy19400475</td>\n",
       "      <td>1.280014e+18</td>\n",
       "      <td>0</td>\n",
       "      <td>1</td>\n",
       "    </tr>\n",
       "    <tr>\n",
       "      <th>389</th>\n",
       "      <td>'1.2842921697007862e+18'</td>\n",
       "      <td>@JamAlpin 还不是和香港一样，丑国推波助澜，脑残跟风向往。</td>\n",
       "      <td>UwG5kCzKE3xGnIK</td>\n",
       "      <td>1.283938e+18</td>\n",
       "      <td>1</td>\n",
       "      <td>1</td>\n",
       "    </tr>\n",
       "    <tr>\n",
       "      <th>173</th>\n",
       "      <td>'1.2890194283366277e+18'</td>\n",
       "      <td>@taylorswift13 I missing 《love story》now😜</td>\n",
       "      <td>chenshu37075664</td>\n",
       "      <td>1.280113e+18</td>\n",
       "      <td>0</td>\n",
       "      <td>1</td>\n",
       "    </tr>\n",
       "    <tr>\n",
       "      <th>386</th>\n",
       "      <td>'1.292137431177687e+18'</td>\n",
       "      <td>@Renxinbugu_ 留个联系方式一起玩</td>\n",
       "      <td>bVBzUujCwAGyIIS</td>\n",
       "      <td>1.283822e+18</td>\n",
       "      <td>0</td>\n",
       "      <td>1</td>\n",
       "    </tr>\n",
       "  </tbody>\n",
       "</table>\n",
       "</div>"
      ],
      "text/plain": [
       "                           id                                       text  \\\n",
       "153   '1.303044259780518e+18'            @AwaidBhatti Welcome to Skardu.   \n",
       "166  '1.2814931950633083e+18'                       @cnliziqi 我最喜欢的仙女姐姐~   \n",
       "389  '1.2842921697007862e+18'          @JamAlpin 还不是和香港一样，丑国推波助澜，脑残跟风向往。   \n",
       "173  '1.2890194283366277e+18'  @taylorswift13 I missing 《love story》now😜   \n",
       "386   '1.292137431177687e+18'                     @Renxinbugu_ 留个联系方式一起玩   \n",
       "\n",
       "    user.screen_name       user.id  suspended_label  pred  \n",
       "153  RidaAzi03404528  1.279893e+18                0     1  \n",
       "166      Amy19400475  1.280014e+18                0     1  \n",
       "389  UwG5kCzKE3xGnIK  1.283938e+18                1     1  \n",
       "173  chenshu37075664  1.280113e+18                0     1  \n",
       "386  bVBzUujCwAGyIIS  1.283822e+18                0     1  "
      ]
     },
     "execution_count": 70,
     "metadata": {},
     "output_type": "execute_result"
    }
   ],
   "source": [
    "test_preds_tweets = predict_tweet_text(flat_predictions, bert_embeddings_df_test, df_test_f)\n",
    "test_preds_tweets.head()"
   ]
  },
  {
   "cell_type": "code",
   "execution_count": 71,
   "metadata": {
    "execution": {
     "iopub.execute_input": "2021-05-18T11:15:33.209951Z",
     "iopub.status.busy": "2021-05-18T11:15:33.209209Z",
     "iopub.status.idle": "2021-05-18T11:15:33.217852Z",
     "shell.execute_reply": "2021-05-18T11:15:33.217440Z"
    },
    "papermill": {
     "duration": 0.105886,
     "end_time": "2021-05-18T11:15:33.217941",
     "exception": false,
     "start_time": "2021-05-18T11:15:33.112055",
     "status": "completed"
    },
    "tags": []
   },
   "outputs": [],
   "source": [
    "test_preds_tweets.to_csv('test_preds_tweets.csv', index=False, encoding = \"utf_8_sig\")"
   ]
  },
  {
   "cell_type": "code",
   "execution_count": 72,
   "metadata": {
    "execution": {
     "iopub.execute_input": "2021-05-18T11:15:33.406166Z",
     "iopub.status.busy": "2021-05-18T11:15:33.405299Z",
     "iopub.status.idle": "2021-05-18T11:15:33.463785Z",
     "shell.execute_reply": "2021-05-18T11:15:33.464220Z"
    },
    "papermill": {
     "duration": 0.15652,
     "end_time": "2021-05-18T11:15:33.464338",
     "exception": false,
     "start_time": "2021-05-18T11:15:33.307818",
     "status": "completed"
    },
    "tags": []
   },
   "outputs": [
    {
     "data": {
      "text/html": [
       "<div>\n",
       "<style scoped>\n",
       "    .dataframe tbody tr th:only-of-type {\n",
       "        vertical-align: middle;\n",
       "    }\n",
       "\n",
       "    .dataframe tbody tr th {\n",
       "        vertical-align: top;\n",
       "    }\n",
       "\n",
       "    .dataframe thead th {\n",
       "        text-align: right;\n",
       "    }\n",
       "</style>\n",
       "<table border=\"1\" class=\"dataframe\">\n",
       "  <thead>\n",
       "    <tr style=\"text-align: right;\">\n",
       "      <th></th>\n",
       "      <th>user.screen_name</th>\n",
       "      <th>suspended_label</th>\n",
       "      <th>total_pre_prob</th>\n",
       "      <th>mean_pred_prob</th>\n",
       "      <th>pred_class</th>\n",
       "    </tr>\n",
       "  </thead>\n",
       "  <tbody>\n",
       "    <tr>\n",
       "      <th>476</th>\n",
       "      <td>wishworld_peace</td>\n",
       "      <td>0</td>\n",
       "      <td>656</td>\n",
       "      <td>0.720088</td>\n",
       "      <td>1</td>\n",
       "    </tr>\n",
       "    <tr>\n",
       "      <th>148</th>\n",
       "      <td>John97242303</td>\n",
       "      <td>0</td>\n",
       "      <td>579</td>\n",
       "      <td>0.571570</td>\n",
       "      <td>1</td>\n",
       "    </tr>\n",
       "    <tr>\n",
       "      <th>232</th>\n",
       "      <td>R_F_fangfang</td>\n",
       "      <td>0</td>\n",
       "      <td>508</td>\n",
       "      <td>0.768533</td>\n",
       "      <td>1</td>\n",
       "    </tr>\n",
       "    <tr>\n",
       "      <th>447</th>\n",
       "      <td>sharelingnan</td>\n",
       "      <td>0</td>\n",
       "      <td>506</td>\n",
       "      <td>0.645408</td>\n",
       "      <td>1</td>\n",
       "    </tr>\n",
       "    <tr>\n",
       "      <th>59</th>\n",
       "      <td>BuzzCurated</td>\n",
       "      <td>0</td>\n",
       "      <td>354</td>\n",
       "      <td>0.579378</td>\n",
       "      <td>1</td>\n",
       "    </tr>\n",
       "    <tr>\n",
       "      <th>...</th>\n",
       "      <td>...</td>\n",
       "      <td>...</td>\n",
       "      <td>...</td>\n",
       "      <td>...</td>\n",
       "      <td>...</td>\n",
       "    </tr>\n",
       "    <tr>\n",
       "      <th>155</th>\n",
       "      <td>Kashif76443648</td>\n",
       "      <td>0</td>\n",
       "      <td>0</td>\n",
       "      <td>0.000000</td>\n",
       "      <td>0</td>\n",
       "    </tr>\n",
       "    <tr>\n",
       "      <th>154</th>\n",
       "      <td>KashanMehmood5</td>\n",
       "      <td>0</td>\n",
       "      <td>0</td>\n",
       "      <td>0.000000</td>\n",
       "      <td>0</td>\n",
       "    </tr>\n",
       "    <tr>\n",
       "      <th>152</th>\n",
       "      <td>Junmin11</td>\n",
       "      <td>0</td>\n",
       "      <td>0</td>\n",
       "      <td>0.000000</td>\n",
       "      <td>0</td>\n",
       "    </tr>\n",
       "    <tr>\n",
       "      <th>356</th>\n",
       "      <td>candy30062037</td>\n",
       "      <td>0</td>\n",
       "      <td>0</td>\n",
       "      <td>0.000000</td>\n",
       "      <td>0</td>\n",
       "    </tr>\n",
       "    <tr>\n",
       "      <th>0</th>\n",
       "      <td>2ebRkaTgSVMcGrl</td>\n",
       "      <td>0</td>\n",
       "      <td>0</td>\n",
       "      <td>0.000000</td>\n",
       "      <td>0</td>\n",
       "    </tr>\n",
       "  </tbody>\n",
       "</table>\n",
       "<p>498 rows × 5 columns</p>\n",
       "</div>"
      ],
      "text/plain": [
       "    user.screen_name  suspended_label  total_pre_prob  mean_pred_prob  \\\n",
       "476  wishworld_peace                0             656        0.720088   \n",
       "148     John97242303                0             579        0.571570   \n",
       "232     R_F_fangfang                0             508        0.768533   \n",
       "447     sharelingnan                0             506        0.645408   \n",
       "59       BuzzCurated                0             354        0.579378   \n",
       "..               ...              ...             ...             ...   \n",
       "155   Kashif76443648                0               0        0.000000   \n",
       "154   KashanMehmood5                0               0        0.000000   \n",
       "152         Junmin11                0               0        0.000000   \n",
       "356    candy30062037                0               0        0.000000   \n",
       "0    2ebRkaTgSVMcGrl                0               0        0.000000   \n",
       "\n",
       "     pred_class  \n",
       "476           1  \n",
       "148           1  \n",
       "232           1  \n",
       "447           1  \n",
       "59            1  \n",
       "..          ...  \n",
       "155           0  \n",
       "154           0  \n",
       "152           0  \n",
       "356           0  \n",
       "0             0  \n",
       "\n",
       "[498 rows x 5 columns]"
      ]
     },
     "execution_count": 72,
     "metadata": {},
     "output_type": "execute_result"
    }
   ],
   "source": [
    "test_account_preds_tweettext = predict_account(flat_predictions, bert_embeddings_df_test, df_test_f)\n",
    "test_account_preds_tweettext"
   ]
  },
  {
   "cell_type": "markdown",
   "metadata": {
    "papermill": {
     "duration": 0.090974,
     "end_time": "2021-05-18T11:15:33.646331",
     "exception": false,
     "start_time": "2021-05-18T11:15:33.555357",
     "status": "completed"
    },
    "tags": []
   },
   "source": [
    "### Confusion Matrix for Account Classification"
   ]
  },
  {
   "cell_type": "code",
   "execution_count": 73,
   "metadata": {
    "execution": {
     "iopub.execute_input": "2021-05-18T11:15:33.833828Z",
     "iopub.status.busy": "2021-05-18T11:15:33.832950Z",
     "iopub.status.idle": "2021-05-18T11:15:33.841590Z",
     "shell.execute_reply": "2021-05-18T11:15:33.842250Z"
    },
    "papermill": {
     "duration": 0.105235,
     "end_time": "2021-05-18T11:15:33.842402",
     "exception": false,
     "start_time": "2021-05-18T11:15:33.737167",
     "status": "completed"
    },
    "tags": []
   },
   "outputs": [
    {
     "name": "stdout",
     "output_type": "stream",
     "text": [
      "              precision    recall  f1-score   support\n",
      "\n",
      "           0       0.96      0.39      0.55       460\n",
      "           1       0.10      0.79      0.17        38\n",
      "\n",
      "    accuracy                           0.42       498\n",
      "   macro avg       0.53      0.59      0.36       498\n",
      "weighted avg       0.89      0.42      0.52       498\n",
      "\n"
     ]
    }
   ],
   "source": [
    "#report = classification_report(np.array(test_labels), predictions)\n",
    "report_te = classification_report(np.array(test_account_preds_tweettext['suspended_label']), np.array(test_account_preds_tweettext['pred_class']))\n",
    "print(report_te)"
   ]
  },
  {
   "cell_type": "code",
   "execution_count": 74,
   "metadata": {
    "execution": {
     "iopub.execute_input": "2021-05-18T11:15:34.035456Z",
     "iopub.status.busy": "2021-05-18T11:15:34.034504Z",
     "iopub.status.idle": "2021-05-18T11:15:34.178247Z",
     "shell.execute_reply": "2021-05-18T11:15:34.177741Z"
    },
    "papermill": {
     "duration": 0.243162,
     "end_time": "2021-05-18T11:15:34.178349",
     "exception": false,
     "start_time": "2021-05-18T11:15:33.935187",
     "status": "completed"
    },
    "tags": []
   },
   "outputs": [
    {
     "data": {
      "image/png": "[encoded data removed]",
      "text/plain": [
       "<Figure size 576x432 with 1 Axes>"
      ]
     },
     "metadata": {
      "needs_background": "light"
     },
     "output_type": "display_data"
    }
   ],
   "source": [
    "fpr, tpr, thresholds = roc_curve(np.array(test_account_preds_tweettext['suspended_label']), np.array(test_account_preds_tweettext['pred_class']))\n",
    "plt.figure(figsize=(8, 6))                         # Not shown\n",
    "plot_roc_curve(fpr, tpr)\n",
    "plt.plot([4.837e-3, 4.837e-3], [0., 0.4368], \"r:\") # Not shown\n",
    "plt.plot([0.0, 4.837e-3], [0.4368, 0.4368], \"r:\")  # Not shown\n",
    "plt.plot([4.837e-3], [0.4368], \"ro\")               # Not shown\n",
    "plt.show()"
   ]
  },
  {
   "cell_type": "code",
   "execution_count": 75,
   "metadata": {
    "execution": {
     "iopub.execute_input": "2021-05-18T11:15:34.554228Z",
     "iopub.status.busy": "2021-05-18T11:15:34.552500Z",
     "iopub.status.idle": "2021-05-18T11:15:34.560497Z",
     "shell.execute_reply": "2021-05-18T11:15:34.561168Z"
    },
    "papermill": {
     "duration": 0.209013,
     "end_time": "2021-05-18T11:15:34.561342",
     "exception": false,
     "start_time": "2021-05-18T11:15:34.352329",
     "status": "completed"
    },
    "tags": []
   },
   "outputs": [
    {
     "data": {
      "text/plain": [
       "0.5893020594965676"
      ]
     },
     "execution_count": 75,
     "metadata": {},
     "output_type": "execute_result"
    }
   ],
   "source": [
    "roc_auc_score(np.array(test_account_preds_tweettext['suspended_label']), np.array(test_account_preds_tweettext['pred_class']))"
   ]
  },
  {
   "cell_type": "code",
   "execution_count": 76,
   "metadata": {
    "execution": {
     "iopub.execute_input": "2021-05-18T11:15:34.853915Z",
     "iopub.status.busy": "2021-05-18T11:15:34.853113Z",
     "iopub.status.idle": "2021-05-18T11:15:34.859311Z",
     "shell.execute_reply": "2021-05-18T11:15:34.858852Z"
    },
    "papermill": {
     "duration": 0.128426,
     "end_time": "2021-05-18T11:15:34.859419",
     "exception": false,
     "start_time": "2021-05-18T11:15:34.730993",
     "status": "completed"
    },
    "tags": []
   },
   "outputs": [],
   "source": [
    "test_account_preds_tweettext.to_csv('test_account_preds_tweettext.csv', index=False, encoding = \"utf_8_sig\")"
   ]
  }
 ],
 "metadata": {
  "kernelspec": {
   "display_name": "Python 3",
   "language": "python",
   "name": "python3"
  },
  "language_info": {
   "codemirror_mode": {
    "name": "ipython",
    "version": 3
   },
   "file_extension": ".py",
   "mimetype": "text/x-python",
   "name": "python",
   "nbconvert_exporter": "python",
   "pygments_lexer": "ipython3",
   "version": "3.7.6"
  },
  "papermill": {
   "duration": 802.051355,
   "end_time": "2021-05-18T11:15:35.160683",
   "environment_variables": {},
   "exception": null,
   "input_path": "__notebook__.ipynb",
   "output_path": "__notebook__.ipynb",
   "parameters": {},
   "start_time": "2021-05-18T11:02:13.109328",
   "version": "2.1.0"
  },
  "widgets": {
   "application/vnd.jupyter.widget-state+json": {
    "state": {
     "05b7fc4663404dfcb16dc29b704668d0": {
      "model_module": "@jupyter-widgets/base",
      "model_module_version": "1.2.0",
      "model_name": "LayoutModel",
      "state": {
       "_model_module": "@jupyter-widgets/base",
       "_model_module_version": "1.2.0",
       "_model_name": "LayoutModel",
       "_view_count": null,
       "_view_module": "@jupyter-widgets/base",
       "_view_module_version": "1.2.0",
       "_view_name": "LayoutView",
       "align_content": null,
       "align_items": null,
       "align_self": null,
       "border": null,
       "bottom": null,
       "display": null,
       "flex": null,
       "flex_flow": null,
       "grid_area": null,
       "grid_auto_columns": null,
       "grid_auto_flow": null,
       "grid_auto_rows": null,
       "grid_column": null,
       "grid_gap": null,
       "grid_row": null,
       "grid_template_areas": null,
       "grid_template_columns": null,
       "grid_template_rows": null,
       "height": null,
       "justify_content": null,
       "justify_items": null,
       "left": null,
       "margin": null,
       "max_height": null,
       "max_width": null,
       "min_height": null,
       "min_width": null,
       "object_fit": null,
       "object_position": null,
       "order": null,
       "overflow": null,
       "overflow_x": null,
       "overflow_y": null,
       "padding": null,
       "right": null,
       "top": null,
       "visibility": null,
       "width": null
      }
     },
     "19b7737a4b85499f980e78352366bc08": {
      "model_module": "@jupyter-widgets/controls",
      "model_module_version": "1.5.0",
      "model_name": "HBoxModel",
      "state": {
       "_dom_classes": [],
       "_model_module": "@jupyter-widgets/controls",
       "_model_module_version": "1.5.0",
       "_model_name": "HBoxModel",
       "_view_count": null,
       "_view_module": "@jupyter-widgets/controls",
       "_view_module_version": "1.5.0",
       "_view_name": "HBoxView",
       "box_style": "",
       "children": [
        "IPY_MODEL_5695c403a57b4c56b63de11725a1bc80",
        "IPY_MODEL_fc5d89b974024aaa826d288bfc459ab7"
       ],
       "layout": "IPY_MODEL_8ac3ad76beae48c4be2ab5ef01e71f4e"
      }
     },
     "1f4e2d89d2df467d896998cc6c5716b7": {
      "model_module": "@jupyter-widgets/controls",
      "model_module_version": "1.5.0",
      "model_name": "ProgressStyleModel",
      "state": {
       "_model_module": "@jupyter-widgets/controls",
       "_model_module_version": "1.5.0",
       "_model_name": "ProgressStyleModel",
       "_view_count": null,
       "_view_module": "@jupyter-widgets/base",
       "_view_module_version": "1.2.0",
       "_view_name": "StyleView",
       "bar_color": null,
       "description_width": "initial"
      }
     },
     "24dd249ae7814f7aaae8404b1d79a4aa": {
      "model_module": "@jupyter-widgets/controls",
      "model_module_version": "1.5.0",
      "model_name": "DescriptionStyleModel",
      "state": {
       "_model_module": "@jupyter-widgets/controls",
       "_model_module_version": "1.5.0",
       "_model_name": "DescriptionStyleModel",
       "_view_count": null,
       "_view_module": "@jupyter-widgets/base",
       "_view_module_version": "1.2.0",
       "_view_name": "StyleView",
       "description_width": ""
      }
     },
     "31433c111ddd480aabb185a8d835f633": {
      "model_module": "@jupyter-widgets/base",
      "model_module_version": "1.2.0",
      "model_name": "LayoutModel",
      "state": {
       "_model_module": "@jupyter-widgets/base",
       "_model_module_version": "1.2.0",
       "_model_name": "LayoutModel",
       "_view_count": null,
       "_view_module": "@jupyter-widgets/base",
       "_view_module_version": "1.2.0",
       "_view_name": "LayoutView",
       "align_content": null,
       "align_items": null,
       "align_self": null,
       "border": null,
       "bottom": null,
       "display": null,
       "flex": null,
       "flex_flow": null,
       "grid_area": null,
       "grid_auto_columns": null,
       "grid_auto_flow": null,
       "grid_auto_rows": null,
       "grid_column": null,
       "grid_gap": null,
       "grid_row": null,
       "grid_template_areas": null,
       "grid_template_columns": null,
       "grid_template_rows": null,
       "height": null,
       "justify_content": null,
       "justify_items": null,
       "left": null,
       "margin": null,
       "max_height": null,
       "max_width": null,
       "min_height": null,
       "min_width": null,
       "object_fit": null,
       "object_position": null,
       "order": null,
       "overflow": null,
       "overflow_x": null,
       "overflow_y": null,
       "padding": null,
       "right": null,
       "top": null,
       "visibility": null,
       "width": null
      }
     },
     "3859720462ef47db96ca2380df449e29": {
      "model_module": "@jupyter-widgets/base",
      "model_module_version": "1.2.0",
      "model_name": "LayoutModel",
      "state": {
       "_model_module": "@jupyter-widgets/base",
       "_model_module_version": "1.2.0",
       "_model_name": "LayoutModel",
       "_view_count": null,
       "_view_module": "@jupyter-widgets/base",
       "_view_module_version": "1.2.0",
       "_view_name": "LayoutView",
       "align_content": null,
       "align_items": null,
       "align_self": null,
       "border": null,
       "bottom": null,
       "display": null,
       "flex": null,
       "flex_flow": null,
       "grid_area": null,
       "grid_auto_columns": null,
       "grid_auto_flow": null,
       "grid_auto_rows": null,
       "grid_column": null,
       "grid_gap": null,
       "grid_row": null,
       "grid_template_areas": null,
       "grid_template_columns": null,
       "grid_template_rows": null,
       "height": null,
       "justify_content": null,
       "justify_items": null,
       "left": null,
       "margin": null,
       "max_height": null,
       "max_width": null,
       "min_height": null,
       "min_width": null,
       "object_fit": null,
       "object_position": null,
       "order": null,
       "overflow": null,
       "overflow_x": null,
       "overflow_y": null,
       "padding": null,
       "right": null,
       "top": null,
       "visibility": null,
       "width": null
      }
     },
     "420822a52034463faf61abd49f429f11": {
      "model_module": "@jupyter-widgets/controls",
      "model_module_version": "1.5.0",
      "model_name": "HBoxModel",
      "state": {
       "_dom_classes": [],
       "_model_module": "@jupyter-widgets/controls",
       "_model_module_version": "1.5.0",
       "_model_name": "HBoxModel",
       "_view_count": null,
       "_view_module": "@jupyter-widgets/controls",
       "_view_module_version": "1.5.0",
       "_view_name": "HBoxView",
       "box_style": "",
       "children": [
        "IPY_MODEL_b2b59ccfb3f947a79b412945c1aa375a",
        "IPY_MODEL_e738a8ecc42a4c8ab21f32c44387f74d"
       ],
       "layout": "IPY_MODEL_9d500a3150d14f38aacd1af2999a85a0"
      }
     },
     "4bb00ed179ae469ab2b0a3a8378d5edd": {
      "model_module": "@jupyter-widgets/controls",
      "model_module_version": "1.5.0",
      "model_name": "FloatProgressModel",
      "state": {
       "_dom_classes": [],
       "_model_module": "@jupyter-widgets/controls",
       "_model_module_version": "1.5.0",
       "_model_name": "FloatProgressModel",
       "_view_count": null,
       "_view_module": "@jupyter-widgets/controls",
       "_view_module_version": "1.5.0",
       "_view_name": "ProgressView",
       "bar_style": "success",
       "description": "Downloading: 100%",
       "description_tooltip": null,
       "layout": "IPY_MODEL_3859720462ef47db96ca2380df449e29",
       "max": 714314041.0,
       "min": 0.0,
       "orientation": "horizontal",
       "style": "IPY_MODEL_fd11a6630ae84c2580648645615e8cb6",
       "value": 714314041.0
      }
     },
     "5695c403a57b4c56b63de11725a1bc80": {
      "model_module": "@jupyter-widgets/controls",
      "model_module_version": "1.5.0",
      "model_name": "FloatProgressModel",
      "state": {
       "_dom_classes": [],
       "_model_module": "@jupyter-widgets/controls",
       "_model_module_version": "1.5.0",
       "_model_name": "FloatProgressModel",
       "_view_count": null,
       "_view_module": "@jupyter-widgets/controls",
       "_view_module_version": "1.5.0",
       "_view_name": "ProgressView",
       "bar_style": "success",
       "description": "Downloading: 100%",
       "description_tooltip": null,
       "layout": "IPY_MODEL_9d725aefe4f741c6b8ec67254b95fd35",
       "max": 625.0,
       "min": 0.0,
       "orientation": "horizontal",
       "style": "IPY_MODEL_1f4e2d89d2df467d896998cc6c5716b7",
       "value": 625.0
      }
     },
     "685292915efd409abe7776eb1e5b1d25": {
      "model_module": "@jupyter-widgets/controls",
      "model_module_version": "1.5.0",
      "model_name": "HBoxModel",
      "state": {
       "_dom_classes": [],
       "_model_module": "@jupyter-widgets/controls",
       "_model_module_version": "1.5.0",
       "_model_name": "HBoxModel",
       "_view_count": null,
       "_view_module": "@jupyter-widgets/controls",
       "_view_module_version": "1.5.0",
       "_view_name": "HBoxView",
       "box_style": "",
       "children": [
        "IPY_MODEL_4bb00ed179ae469ab2b0a3a8378d5edd",
        "IPY_MODEL_69675149d7c44d8a917eb1ca51f07486"
       ],
       "layout": "IPY_MODEL_99487544a6de44e79d46bae1d3cd7cf3"
      }
     },
     "69675149d7c44d8a917eb1ca51f07486": {
      "model_module": "@jupyter-widgets/controls",
      "model_module_version": "1.5.0",
      "model_name": "HTMLModel",
      "state": {
       "_dom_classes": [],
       "_model_module": "@jupyter-widgets/controls",
       "_model_module_version": "1.5.0",
       "_model_name": "HTMLModel",
       "_view_count": null,
       "_view_module": "@jupyter-widgets/controls",
       "_view_module_version": "1.5.0",
       "_view_name": "HTMLView",
       "description": "",
       "description_tooltip": null,
       "layout": "IPY_MODEL_f20280dc7d0c4d308c12fc81aae4c182",
       "placeholder": "​",
       "style": "IPY_MODEL_24dd249ae7814f7aaae8404b1d79a4aa",
       "value": " 714M/714M [00:19&lt;00:00, 35.9MB/s]"
      }
     },
     "8ac3ad76beae48c4be2ab5ef01e71f4e": {
      "model_module": "@jupyter-widgets/base",
      "model_module_version": "1.2.0",
      "model_name": "LayoutModel",
      "state": {
       "_model_module": "@jupyter-widgets/base",
       "_model_module_version": "1.2.0",
       "_model_name": "LayoutModel",
       "_view_count": null,
       "_view_module": "@jupyter-widgets/base",
       "_view_module_version": "1.2.0",
       "_view_name": "LayoutView",
       "align_content": null,
       "align_items": null,
       "align_self": null,
       "border": null,
       "bottom": null,
       "display": null,
       "flex": null,
       "flex_flow": null,
       "grid_area": null,
       "grid_auto_columns": null,
       "grid_auto_flow": null,
       "grid_auto_rows": null,
       "grid_column": null,
       "grid_gap": null,
       "grid_row": null,
       "grid_template_areas": null,
       "grid_template_columns": null,
       "grid_template_rows": null,
       "height": null,
       "justify_content": null,
       "justify_items": null,
       "left": null,
       "margin": null,
       "max_height": null,
       "max_width": null,
       "min_height": null,
       "min_width": null,
       "object_fit": null,
       "object_position": null,
       "order": null,
       "overflow": null,
       "overflow_x": null,
       "overflow_y": null,
       "padding": null,
       "right": null,
       "top": null,
       "visibility": null,
       "width": null
      }
     },
     "99487544a6de44e79d46bae1d3cd7cf3": {
      "model_module": "@jupyter-widgets/base",
      "model_module_version": "1.2.0",
      "model_name": "LayoutModel",
      "state": {
       "_model_module": "@jupyter-widgets/base",
       "_model_module_version": "1.2.0",
       "_model_name": "LayoutModel",
       "_view_count": null,
       "_view_module": "@jupyter-widgets/base",
       "_view_module_version": "1.2.0",
       "_view_name": "LayoutView",
       "align_content": null,
       "align_items": null,
       "align_self": null,
       "border": null,
       "bottom": null,
       "display": null,
       "flex": null,
       "flex_flow": null,
       "grid_area": null,
       "grid_auto_columns": null,
       "grid_auto_flow": null,
       "grid_auto_rows": null,
       "grid_column": null,
       "grid_gap": null,
       "grid_row": null,
       "grid_template_areas": null,
       "grid_template_columns": null,
       "grid_template_rows": null,
       "height": null,
       "justify_content": null,
       "justify_items": null,
       "left": null,
       "margin": null,
       "max_height": null,
       "max_width": null,
       "min_height": null,
       "min_width": null,
       "object_fit": null,
       "object_position": null,
       "order": null,
       "overflow": null,
       "overflow_x": null,
       "overflow_y": null,
       "padding": null,
       "right": null,
       "top": null,
       "visibility": null,
       "width": null
      }
     },
     "9d500a3150d14f38aacd1af2999a85a0": {
      "model_module": "@jupyter-widgets/base",
      "model_module_version": "1.2.0",
      "model_name": "LayoutModel",
      "state": {
       "_model_module": "@jupyter-widgets/base",
       "_model_module_version": "1.2.0",
       "_model_name": "LayoutModel",
       "_view_count": null,
       "_view_module": "@jupyter-widgets/base",
       "_view_module_version": "1.2.0",
       "_view_name": "LayoutView",
       "align_content": null,
       "align_items": null,
       "align_self": null,
       "border": null,
       "bottom": null,
       "display": null,
       "flex": null,
       "flex_flow": null,
       "grid_area": null,
       "grid_auto_columns": null,
       "grid_auto_flow": null,
       "grid_auto_rows": null,
       "grid_column": null,
       "grid_gap": null,
       "grid_row": null,
       "grid_template_areas": null,
       "grid_template_columns": null,
       "grid_template_rows": null,
       "height": null,
       "justify_content": null,
       "justify_items": null,
       "left": null,
       "margin": null,
       "max_height": null,
       "max_width": null,
       "min_height": null,
       "min_width": null,
       "object_fit": null,
       "object_position": null,
       "order": null,
       "overflow": null,
       "overflow_x": null,
       "overflow_y": null,
       "padding": null,
       "right": null,
       "top": null,
       "visibility": null,
       "width": null
      }
     },
     "9d725aefe4f741c6b8ec67254b95fd35": {
      "model_module": "@jupyter-widgets/base",
      "model_module_version": "1.2.0",
      "model_name": "LayoutModel",
      "state": {
       "_model_module": "@jupyter-widgets/base",
       "_model_module_version": "1.2.0",
       "_model_name": "LayoutModel",
       "_view_count": null,
       "_view_module": "@jupyter-widgets/base",
       "_view_module_version": "1.2.0",
       "_view_name": "LayoutView",
       "align_content": null,
       "align_items": null,
       "align_self": null,
       "border": null,
       "bottom": null,
       "display": null,
       "flex": null,
       "flex_flow": null,
       "grid_area": null,
       "grid_auto_columns": null,
       "grid_auto_flow": null,
       "grid_auto_rows": null,
       "grid_column": null,
       "grid_gap": null,
       "grid_row": null,
       "grid_template_areas": null,
       "grid_template_columns": null,
       "grid_template_rows": null,
       "height": null,
       "justify_content": null,
       "justify_items": null,
       "left": null,
       "margin": null,
       "max_height": null,
       "max_width": null,
       "min_height": null,
       "min_width": null,
       "object_fit": null,
       "object_position": null,
       "order": null,
       "overflow": null,
       "overflow_x": null,
       "overflow_y": null,
       "padding": null,
       "right": null,
       "top": null,
       "visibility": null,
       "width": null
      }
     },
     "b2b59ccfb3f947a79b412945c1aa375a": {
      "model_module": "@jupyter-widgets/controls",
      "model_module_version": "1.5.0",
      "model_name": "FloatProgressModel",
      "state": {
       "_dom_classes": [],
       "_model_module": "@jupyter-widgets/controls",
       "_model_module_version": "1.5.0",
       "_model_name": "FloatProgressModel",
       "_view_count": null,
       "_view_module": "@jupyter-widgets/controls",
       "_view_module_version": "1.5.0",
       "_view_name": "ProgressView",
       "bar_style": "success",
       "description": "Downloading: 100%",
       "description_tooltip": null,
       "layout": "IPY_MODEL_ff300e81d34b410ba520484862cc2f05",
       "max": 995526.0,
       "min": 0.0,
       "orientation": "horizontal",
       "style": "IPY_MODEL_fd172388a11b4d66b8a06607724664ef",
       "value": 995526.0
      }
     },
     "c06d3adae2794eecab08bd3a24750e0f": {
      "model_module": "@jupyter-widgets/controls",
      "model_module_version": "1.5.0",
      "model_name": "DescriptionStyleModel",
      "state": {
       "_model_module": "@jupyter-widgets/controls",
       "_model_module_version": "1.5.0",
       "_model_name": "DescriptionStyleModel",
       "_view_count": null,
       "_view_module": "@jupyter-widgets/base",
       "_view_module_version": "1.2.0",
       "_view_name": "StyleView",
       "description_width": ""
      }
     },
     "c228e533bfa842ad9cf0d671e0ddbe94": {
      "model_module": "@jupyter-widgets/controls",
      "model_module_version": "1.5.0",
      "model_name": "DescriptionStyleModel",
      "state": {
       "_model_module": "@jupyter-widgets/controls",
       "_model_module_version": "1.5.0",
       "_model_name": "DescriptionStyleModel",
       "_view_count": null,
       "_view_module": "@jupyter-widgets/base",
       "_view_module_version": "1.2.0",
       "_view_name": "StyleView",
       "description_width": ""
      }
     },
     "e738a8ecc42a4c8ab21f32c44387f74d": {
      "model_module": "@jupyter-widgets/controls",
      "model_module_version": "1.5.0",
      "model_name": "HTMLModel",
      "state": {
       "_dom_classes": [],
       "_model_module": "@jupyter-widgets/controls",
       "_model_module_version": "1.5.0",
       "_model_name": "HTMLModel",
       "_view_count": null,
       "_view_module": "@jupyter-widgets/controls",
       "_view_module_version": "1.5.0",
       "_view_name": "HTMLView",
       "description": "",
       "description_tooltip": null,
       "layout": "IPY_MODEL_31433c111ddd480aabb185a8d835f633",
       "placeholder": "​",
       "style": "IPY_MODEL_c228e533bfa842ad9cf0d671e0ddbe94",
       "value": " 996k/996k [00:00&lt;00:00, 4.55MB/s]"
      }
     },
     "f20280dc7d0c4d308c12fc81aae4c182": {
      "model_module": "@jupyter-widgets/base",
      "model_module_version": "1.2.0",
      "model_name": "LayoutModel",
      "state": {
       "_model_module": "@jupyter-widgets/base",
       "_model_module_version": "1.2.0",
       "_model_name": "LayoutModel",
       "_view_count": null,
       "_view_module": "@jupyter-widgets/base",
       "_view_module_version": "1.2.0",
       "_view_name": "LayoutView",
       "align_content": null,
       "align_items": null,
       "align_self": null,
       "border": null,
       "bottom": null,
       "display": null,
       "flex": null,
       "flex_flow": null,
       "grid_area": null,
       "grid_auto_columns": null,
       "grid_auto_flow": null,
       "grid_auto_rows": null,
       "grid_column": null,
       "grid_gap": null,
       "grid_row": null,
       "grid_template_areas": null,
       "grid_template_columns": null,
       "grid_template_rows": null,
       "height": null,
       "justify_content": null,
       "justify_items": null,
       "left": null,
       "margin": null,
       "max_height": null,
       "max_width": null,
       "min_height": null,
       "min_width": null,
       "object_fit": null,
       "object_position": null,
       "order": null,
       "overflow": null,
       "overflow_x": null,
       "overflow_y": null,
       "padding": null,
       "right": null,
       "top": null,
       "visibility": null,
       "width": null
      }
     },
     "fc5d89b974024aaa826d288bfc459ab7": {
      "model_module": "@jupyter-widgets/controls",
      "model_module_version": "1.5.0",
      "model_name": "HTMLModel",
      "state": {
       "_dom_classes": [],
       "_model_module": "@jupyter-widgets/controls",
       "_model_module_version": "1.5.0",
       "_model_name": "HTMLModel",
       "_view_count": null,
       "_view_module": "@jupyter-widgets/controls",
       "_view_module_version": "1.5.0",
       "_view_name": "HTMLView",
       "description": "",
       "description_tooltip": null,
       "layout": "IPY_MODEL_05b7fc4663404dfcb16dc29b704668d0",
       "placeholder": "​",
       "style": "IPY_MODEL_c06d3adae2794eecab08bd3a24750e0f",
       "value": " 625/625 [00:00&lt;00:00, 7.87kB/s]"
      }
     },
     "fd11a6630ae84c2580648645615e8cb6": {
      "model_module": "@jupyter-widgets/controls",
      "model_module_version": "1.5.0",
      "model_name": "ProgressStyleModel",
      "state": {
       "_model_module": "@jupyter-widgets/controls",
       "_model_module_version": "1.5.0",
       "_model_name": "ProgressStyleModel",
       "_view_count": null,
       "_view_module": "@jupyter-widgets/base",
       "_view_module_version": "1.2.0",
       "_view_name": "StyleView",
       "bar_color": null,
       "description_width": "initial"
      }
     },
     "fd172388a11b4d66b8a06607724664ef": {
      "model_module": "@jupyter-widgets/controls",
      "model_module_version": "1.5.0",
      "model_name": "ProgressStyleModel",
      "state": {
       "_model_module": "@jupyter-widgets/controls",
       "_model_module_version": "1.5.0",
       "_model_name": "ProgressStyleModel",
       "_view_count": null,
       "_view_module": "@jupyter-widgets/base",
       "_view_module_version": "1.2.0",
       "_view_name": "StyleView",
       "bar_color": null,
       "description_width": "initial"
      }
     },
     "ff300e81d34b410ba520484862cc2f05": {
      "model_module": "@jupyter-widgets/base",
      "model_module_version": "1.2.0",
      "model_name": "LayoutModel",
      "state": {
       "_model_module": "@jupyter-widgets/base",
       "_model_module_version": "1.2.0",
       "_model_name": "LayoutModel",
       "_view_count": null,
       "_view_module": "@jupyter-widgets/base",
       "_view_module_version": "1.2.0",
       "_view_name": "LayoutView",
       "align_content": null,
       "align_items": null,
       "align_self": null,
       "border": null,
       "bottom": null,
       "display": null,
       "flex": null,
       "flex_flow": null,
       "grid_area": null,
       "grid_auto_columns": null,
       "grid_auto_flow": null,
       "grid_auto_rows": null,
       "grid_column": null,
       "grid_gap": null,
       "grid_row": null,
       "grid_template_areas": null,
       "grid_template_columns": null,
       "grid_template_rows": null,
       "height": null,
       "justify_content": null,
       "justify_items": null,
       "left": null,
       "margin": null,
       "max_height": null,
       "max_width": null,
       "min_height": null,
       "min_width": null,
       "object_fit": null,
       "object_position": null,
       "order": null,
       "overflow": null,
       "overflow_x": null,
       "overflow_y": null,
       "padding": null,
       "right": null,
       "top": null,
       "visibility": null,
       "width": null
      }
     }
    },
    "version_major": 2,
    "version_minor": 0
   }
  }
 },
 "nbformat": 4,
 "nbformat_minor": 4
}
