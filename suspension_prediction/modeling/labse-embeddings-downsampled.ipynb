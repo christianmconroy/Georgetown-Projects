{
 "cells": [
  {
   "cell_type": "markdown",
   "metadata": {
    "papermill": {
     "duration": 0.046867,
     "end_time": "2021-05-17T13:06:32.977390",
     "exception": false,
     "start_time": "2021-05-17T13:06:32.930523",
     "status": "completed"
    },
    "tags": []
   },
   "source": [
    "### Load in Packages and Set Up Parameters"
   ]
  },
  {
   "cell_type": "code",
   "execution_count": 1,
   "metadata": {
    "_cell_guid": "b1076dfc-b9ad-4769-8c92-a6c4dae69d19",
    "_uuid": "8f2839f25d086af736a60e9eeb907d3b93b6e0e5",
    "execution": {
     "iopub.execute_input": "2021-05-17T13:06:33.078213Z",
     "iopub.status.busy": "2021-05-17T13:06:33.077503Z",
     "iopub.status.idle": "2021-05-17T13:06:37.962396Z",
     "shell.execute_reply": "2021-05-17T13:06:37.963400Z"
    },
    "papermill": {
     "duration": 4.939677,
     "end_time": "2021-05-17T13:06:37.963623",
     "exception": false,
     "start_time": "2021-05-17T13:06:33.023946",
     "status": "completed"
    },
    "tags": []
   },
   "outputs": [],
   "source": [
    "import pandas as pd\n",
    "from keras.preprocessing.sequence import pad_sequences\n",
    "\n",
    "import matplotlib.pyplot as plt\n",
    "%matplotlib inline"
   ]
  },
  {
   "cell_type": "code",
   "execution_count": 2,
   "metadata": {
    "execution": {
     "iopub.execute_input": "2021-05-17T13:06:40.106853Z",
     "iopub.status.busy": "2021-05-17T13:06:40.105253Z",
     "iopub.status.idle": "2021-05-17T13:06:40.110956Z",
     "shell.execute_reply": "2021-05-17T13:06:40.111583Z"
    },
    "papermill": {
     "duration": 2.036806,
     "end_time": "2021-05-17T13:06:40.111760",
     "exception": false,
     "start_time": "2021-05-17T13:06:38.074954",
     "status": "completed"
    },
    "tags": []
   },
   "outputs": [
    {
     "name": "stdout",
     "output_type": "stream",
     "text": [
      "Found GPU at: /device:GPU:0\n"
     ]
    }
   ],
   "source": [
    "import tensorflow as tf\n",
    "# Get the GPU device name.\n",
    "device_name = tf.test.gpu_device_name()\n",
    "# The device name should look like the following:\n",
    "if device_name == '/device:GPU:0':\n",
    "    print('Found GPU at: {}'.format(device_name))\n",
    "else:\n",
    "    raise SystemError('GPU device not found')"
   ]
  },
  {
   "cell_type": "markdown",
   "metadata": {
    "papermill": {
     "duration": 0.081116,
     "end_time": "2021-05-17T13:06:40.283298",
     "exception": false,
     "start_time": "2021-05-17T13:06:40.202182",
     "status": "completed"
    },
    "tags": []
   },
   "source": [
    "In order for torch to use the GPU, we need to identify and specify the GPU as the device. Later, in our training loop, we will load data onto the device"
   ]
  },
  {
   "cell_type": "code",
   "execution_count": 3,
   "metadata": {
    "execution": {
     "iopub.execute_input": "2021-05-17T13:06:40.443850Z",
     "iopub.status.busy": "2021-05-17T13:06:40.443034Z",
     "iopub.status.idle": "2021-05-17T13:06:41.582988Z",
     "shell.execute_reply": "2021-05-17T13:06:41.583596Z"
    },
    "papermill": {
     "duration": 1.224098,
     "end_time": "2021-05-17T13:06:41.583757",
     "exception": false,
     "start_time": "2021-05-17T13:06:40.359659",
     "status": "completed"
    },
    "tags": []
   },
   "outputs": [
    {
     "name": "stdout",
     "output_type": "stream",
     "text": [
      "There are 1 GPU(s) available.\n",
      "We will use the GPU: Tesla P100-PCIE-16GB\n"
     ]
    }
   ],
   "source": [
    "import torch\n",
    "# If there's a GPU available...\n",
    "if torch.cuda.is_available():    \n",
    "    # Tell PyTorch to use the GPU.    \n",
    "    device = torch.device(\"cuda\")\n",
    "    print('There are %d GPU(s) available.' % torch.cuda.device_count())\n",
    "    print('We will use the GPU:', torch.cuda.get_device_name(0))\n",
    "# If not...\n",
    "else:\n",
    "    print('No GPU available, using the CPU instead.')\n",
    "    device = torch.device(\"cpu\")"
   ]
  },
  {
   "cell_type": "markdown",
   "metadata": {
    "papermill": {
     "duration": 0.045987,
     "end_time": "2021-05-17T13:06:41.677499",
     "exception": false,
     "start_time": "2021-05-17T13:06:41.631512",
     "status": "completed"
    },
    "tags": []
   },
   "source": [
    "[link text](https://)Next, let’s install the transformers package from Hugging Face which will give us a pytorch interface for working with BERT. (This library contains interfaces for other pretrained language models like OpenAI’s GPT and GPT-2.) We’ve selected the pytorch interface because it strikes a nice balance between the high-level APIs (which are easy to use but don’t provide insight into how things work) and tensorflow code (which contains lots of details but often sidetracks us into lessons about tensorflow, when the purpose here is BERT!)."
   ]
  },
  {
   "cell_type": "code",
   "execution_count": 4,
   "metadata": {
    "execution": {
     "iopub.execute_input": "2021-05-17T13:06:41.774435Z",
     "iopub.status.busy": "2021-05-17T13:06:41.773842Z",
     "iopub.status.idle": "2021-05-17T13:06:49.180450Z",
     "shell.execute_reply": "2021-05-17T13:06:49.179994Z"
    },
    "papermill": {
     "duration": 7.456831,
     "end_time": "2021-05-17T13:06:49.180554",
     "exception": false,
     "start_time": "2021-05-17T13:06:41.723723",
     "status": "completed"
    },
    "tags": []
   },
   "outputs": [
    {
     "name": "stdout",
     "output_type": "stream",
     "text": [
      "Requirement already satisfied: transformers in /opt/conda/lib/python3.7/site-packages (3.5.1)\r\n",
      "Requirement already satisfied: packaging in /opt/conda/lib/python3.7/site-packages (from transformers) (20.1)\r\n",
      "Requirement already satisfied: sentencepiece==0.1.91 in /opt/conda/lib/python3.7/site-packages (from transformers) (0.1.91)\r\n",
      "Requirement already satisfied: tqdm>=4.27 in /opt/conda/lib/python3.7/site-packages (from transformers) (4.45.0)\r\n",
      "Requirement already satisfied: regex!=2019.12.17 in /opt/conda/lib/python3.7/site-packages (from transformers) (2020.4.4)\r\n",
      "Requirement already satisfied: numpy in /opt/conda/lib/python3.7/site-packages (from transformers) (1.18.5)\r\n",
      "Requirement already satisfied: protobuf in /opt/conda/lib/python3.7/site-packages (from transformers) (3.14.0)\r\n",
      "Requirement already satisfied: tokenizers==0.9.3 in /opt/conda/lib/python3.7/site-packages (from transformers) (0.9.3)\r\n",
      "Requirement already satisfied: filelock in /opt/conda/lib/python3.7/site-packages (from transformers) (3.0.10)\r\n",
      "Requirement already satisfied: requests in /opt/conda/lib/python3.7/site-packages (from transformers) (2.23.0)\r\n",
      "Requirement already satisfied: sacremoses in /opt/conda/lib/python3.7/site-packages (from transformers) (0.0.43)\r\n",
      "Requirement already satisfied: pyparsing>=2.0.2 in /opt/conda/lib/python3.7/site-packages (from packaging->transformers) (2.4.7)\r\n",
      "Requirement already satisfied: six in /opt/conda/lib/python3.7/site-packages (from packaging->transformers) (1.14.0)\r\n",
      "Requirement already satisfied: six in /opt/conda/lib/python3.7/site-packages (from packaging->transformers) (1.14.0)\r\n",
      "Requirement already satisfied: idna<3,>=2.5 in /opt/conda/lib/python3.7/site-packages (from requests->transformers) (2.9)\r\n",
      "Requirement already satisfied: chardet<4,>=3.0.2 in /opt/conda/lib/python3.7/site-packages (from requests->transformers) (3.0.4)\r\n",
      "Requirement already satisfied: certifi>=2017.4.17 in /opt/conda/lib/python3.7/site-packages (from requests->transformers) (2020.12.5)\r\n",
      "Requirement already satisfied: urllib3!=1.25.0,!=1.25.1,<1.26,>=1.21.1 in /opt/conda/lib/python3.7/site-packages (from requests->transformers) (1.25.9)\r\n",
      "Requirement already satisfied: regex!=2019.12.17 in /opt/conda/lib/python3.7/site-packages (from transformers) (2020.4.4)\r\n",
      "Requirement already satisfied: joblib in /opt/conda/lib/python3.7/site-packages (from sacremoses->transformers) (0.14.1)\r\n",
      "Requirement already satisfied: six in /opt/conda/lib/python3.7/site-packages (from packaging->transformers) (1.14.0)\r\n",
      "Requirement already satisfied: click in /opt/conda/lib/python3.7/site-packages (from sacremoses->transformers) (7.1.1)\r\n",
      "Requirement already satisfied: tqdm>=4.27 in /opt/conda/lib/python3.7/site-packages (from transformers) (4.45.0)\r\n",
      "\u001b[33mWARNING: You are using pip version 20.3.1; however, version 21.1.1 is available.\r\n",
      "You should consider upgrading via the '/opt/conda/bin/python3.7 -m pip install --upgrade pip' command.\u001b[0m\r\n"
     ]
    }
   ],
   "source": [
    "!pip install transformers"
   ]
  },
  {
   "cell_type": "markdown",
   "metadata": {
    "papermill": {
     "duration": 0.047667,
     "end_time": "2021-05-17T13:06:49.276842",
     "exception": false,
     "start_time": "2021-05-17T13:06:49.229175",
     "status": "completed"
    },
    "tags": []
   },
   "source": [
    "### Load in Data"
   ]
  },
  {
   "cell_type": "code",
   "execution_count": 5,
   "metadata": {
    "execution": {
     "iopub.execute_input": "2021-05-17T13:06:49.379402Z",
     "iopub.status.busy": "2021-05-17T13:06:49.378881Z",
     "iopub.status.idle": "2021-05-17T13:06:51.503934Z",
     "shell.execute_reply": "2021-05-17T13:06:51.502527Z"
    },
    "papermill": {
     "duration": 2.17911,
     "end_time": "2021-05-17T13:06:51.504047",
     "exception": false,
     "start_time": "2021-05-17T13:06:49.324937",
     "status": "completed"
    },
    "tags": []
   },
   "outputs": [],
   "source": [
    "#### Load in data from S3\n",
    "\n",
    "# Import Train and Measure Balance\n",
    "# Import Flattened Data\n",
    "df_train_f = pd.read_csv(\"/kaggle/input/downsampled-suspended-full/downsamp_df_train_full_cleaned_pe.csv\", error_bad_lines=False, encoding='utf-8', low_memory=False)\n",
    "\n",
    "# Import Test and Measure Balance\n",
    "\n",
    "df_test_f = pd.read_csv(\"/kaggle/input/downsampled-suspended-full/downsamp_df_test_full_cleaned_pe.csv\", error_bad_lines=False, encoding='utf-8', low_memory=False)\n",
    "\n",
    "# Import Validation and Measure Balance\n",
    "# Import Flattened Data\n",
    "df_valid_f = pd.read_csv(\"/kaggle/input/downsampled-suspended-full/downsamp_df_valid_full_cleaned_pe.csv\", error_bad_lines=False, encoding='utf-8', low_memory=False)\n"
   ]
  },
  {
   "cell_type": "code",
   "execution_count": 6,
   "metadata": {
    "execution": {
     "iopub.execute_input": "2021-05-17T13:06:51.627516Z",
     "iopub.status.busy": "2021-05-17T13:06:51.626598Z",
     "iopub.status.idle": "2021-05-17T13:06:51.640175Z",
     "shell.execute_reply": "2021-05-17T13:06:51.640573Z"
    },
    "papermill": {
     "duration": 0.087586,
     "end_time": "2021-05-17T13:06:51.640693",
     "exception": false,
     "start_time": "2021-05-17T13:06:51.553107",
     "status": "completed"
    },
    "tags": []
   },
   "outputs": [
    {
     "data": {
      "text/html": [
       "<div>\n",
       "<style scoped>\n",
       "    .dataframe tbody tr th:only-of-type {\n",
       "        vertical-align: middle;\n",
       "    }\n",
       "\n",
       "    .dataframe tbody tr th {\n",
       "        vertical-align: top;\n",
       "    }\n",
       "\n",
       "    .dataframe thead th {\n",
       "        text-align: right;\n",
       "    }\n",
       "</style>\n",
       "<table border=\"1\" class=\"dataframe\">\n",
       "  <thead>\n",
       "    <tr style=\"text-align: right;\">\n",
       "      <th></th>\n",
       "      <th>id</th>\n",
       "      <th>created_at</th>\n",
       "      <th>text</th>\n",
       "      <th>retweet_count</th>\n",
       "      <th>favorite_count</th>\n",
       "      <th>quoted_status_id</th>\n",
       "      <th>user.id</th>\n",
       "      <th>user.created_at</th>\n",
       "      <th>user.description</th>\n",
       "      <th>user.favourites_count</th>\n",
       "      <th>...</th>\n",
       "      <th>user.geo_enabled_False</th>\n",
       "      <th>user.geo_enabled_True</th>\n",
       "      <th>user.verified_False</th>\n",
       "      <th>user.has_extended_profile_False</th>\n",
       "      <th>user.has_extended_profile_True</th>\n",
       "      <th>user.protected_False</th>\n",
       "      <th>user.verified_False.1</th>\n",
       "      <th>user.default_profile_True</th>\n",
       "      <th>is_quote_status_False</th>\n",
       "      <th>is_quote_status_True</th>\n",
       "    </tr>\n",
       "  </thead>\n",
       "  <tbody>\n",
       "    <tr>\n",
       "      <th>0</th>\n",
       "      <td>'1.2785081185953874e+18'</td>\n",
       "      <td>1.593655e+09</td>\n",
       "      <td>DC18RE 互換充電器 2口充電器 適合マキタ 10.8V/14.4V/18V リチウムイ...</td>\n",
       "      <td>0.0</td>\n",
       "      <td>1.0</td>\n",
       "      <td>0</td>\n",
       "      <td>1.278150e+18</td>\n",
       "      <td>1.593570e+09</td>\n",
       "      <td>あなたは、すべてを手に入れられる。ただ、一度には手に入れられないだけ。</td>\n",
       "      <td>436.0</td>\n",
       "      <td>...</td>\n",
       "      <td>1</td>\n",
       "      <td>0</td>\n",
       "      <td>1</td>\n",
       "      <td>0</td>\n",
       "      <td>1</td>\n",
       "      <td>1</td>\n",
       "      <td>1</td>\n",
       "      <td>1</td>\n",
       "      <td>1</td>\n",
       "      <td>0</td>\n",
       "    </tr>\n",
       "    <tr>\n",
       "      <th>1</th>\n",
       "      <td>'1.2786038758098043e+18'</td>\n",
       "      <td>1.593678e+09</td>\n",
       "      <td>@utu_panic マキタ　充電器　マキタ　18v　バッテリー　DC18RC バッテリー ...</td>\n",
       "      <td>0.0</td>\n",
       "      <td>0.0</td>\n",
       "      <td>0</td>\n",
       "      <td>1.278150e+18</td>\n",
       "      <td>1.593570e+09</td>\n",
       "      <td>あなたは、すべてを手に入れられる。ただ、一度には手に入れられないだけ。</td>\n",
       "      <td>436.0</td>\n",
       "      <td>...</td>\n",
       "      <td>1</td>\n",
       "      <td>0</td>\n",
       "      <td>1</td>\n",
       "      <td>0</td>\n",
       "      <td>1</td>\n",
       "      <td>1</td>\n",
       "      <td>1</td>\n",
       "      <td>1</td>\n",
       "      <td>1</td>\n",
       "      <td>0</td>\n",
       "    </tr>\n",
       "    <tr>\n",
       "      <th>2</th>\n",
       "      <td>'1.2786038147281306e+18'</td>\n",
       "      <td>1.593678e+09</td>\n",
       "      <td>@kasugasan43 マキタ　充電器　マキタ　18v　バッテリー　DC18RC バッテリ...</td>\n",
       "      <td>0.0</td>\n",
       "      <td>0.0</td>\n",
       "      <td>0</td>\n",
       "      <td>1.278150e+18</td>\n",
       "      <td>1.593570e+09</td>\n",
       "      <td>あなたは、すべてを手に入れられる。ただ、一度には手に入れられないだけ。</td>\n",
       "      <td>436.0</td>\n",
       "      <td>...</td>\n",
       "      <td>1</td>\n",
       "      <td>0</td>\n",
       "      <td>1</td>\n",
       "      <td>0</td>\n",
       "      <td>1</td>\n",
       "      <td>1</td>\n",
       "      <td>1</td>\n",
       "      <td>1</td>\n",
       "      <td>1</td>\n",
       "      <td>0</td>\n",
       "    </tr>\n",
       "    <tr>\n",
       "      <th>3</th>\n",
       "      <td>'1.2786037790094787e+18'</td>\n",
       "      <td>1.593678e+09</td>\n",
       "      <td>@tkam07471392 マキタ　充電器　マキタ　18v　バッテリー　DC18RC バッテ...</td>\n",
       "      <td>0.0</td>\n",
       "      <td>0.0</td>\n",
       "      <td>0</td>\n",
       "      <td>1.278150e+18</td>\n",
       "      <td>1.593570e+09</td>\n",
       "      <td>あなたは、すべてを手に入れられる。ただ、一度には手に入れられないだけ。</td>\n",
       "      <td>436.0</td>\n",
       "      <td>...</td>\n",
       "      <td>1</td>\n",
       "      <td>0</td>\n",
       "      <td>1</td>\n",
       "      <td>0</td>\n",
       "      <td>1</td>\n",
       "      <td>1</td>\n",
       "      <td>1</td>\n",
       "      <td>1</td>\n",
       "      <td>1</td>\n",
       "      <td>0</td>\n",
       "    </tr>\n",
       "    <tr>\n",
       "      <th>4</th>\n",
       "      <td>'1.2786037445700403e+18'</td>\n",
       "      <td>1.593678e+09</td>\n",
       "      <td>@norikonaqz マキタ　充電器　マキタ　18v　バッテリー　DC18RC バッテリー...</td>\n",
       "      <td>0.0</td>\n",
       "      <td>0.0</td>\n",
       "      <td>0</td>\n",
       "      <td>1.278150e+18</td>\n",
       "      <td>1.593570e+09</td>\n",
       "      <td>あなたは、すべてを手に入れられる。ただ、一度には手に入れられないだけ。</td>\n",
       "      <td>436.0</td>\n",
       "      <td>...</td>\n",
       "      <td>1</td>\n",
       "      <td>0</td>\n",
       "      <td>1</td>\n",
       "      <td>0</td>\n",
       "      <td>1</td>\n",
       "      <td>1</td>\n",
       "      <td>1</td>\n",
       "      <td>1</td>\n",
       "      <td>1</td>\n",
       "      <td>0</td>\n",
       "    </tr>\n",
       "    <tr>\n",
       "      <th>5</th>\n",
       "      <td>'1.2786028903370834e+18'</td>\n",
       "      <td>1.593678e+09</td>\n",
       "      <td>@gdbamboo 互換　マキタ　充電器　マキタ　18v　バッテリー　DC18RC バッテリ...</td>\n",
       "      <td>0.0</td>\n",
       "      <td>0.0</td>\n",
       "      <td>0</td>\n",
       "      <td>1.278150e+18</td>\n",
       "      <td>1.593570e+09</td>\n",
       "      <td>あなたは、すべてを手に入れられる。ただ、一度には手に入れられないだけ。</td>\n",
       "      <td>436.0</td>\n",
       "      <td>...</td>\n",
       "      <td>1</td>\n",
       "      <td>0</td>\n",
       "      <td>1</td>\n",
       "      <td>0</td>\n",
       "      <td>1</td>\n",
       "      <td>1</td>\n",
       "      <td>1</td>\n",
       "      <td>1</td>\n",
       "      <td>1</td>\n",
       "      <td>0</td>\n",
       "    </tr>\n",
       "  </tbody>\n",
       "</table>\n",
       "<p>6 rows × 167 columns</p>\n",
       "</div>"
      ],
      "text/plain": [
       "                         id    created_at  \\\n",
       "0  '1.2785081185953874e+18'  1.593655e+09   \n",
       "1  '1.2786038758098043e+18'  1.593678e+09   \n",
       "2  '1.2786038147281306e+18'  1.593678e+09   \n",
       "3  '1.2786037790094787e+18'  1.593678e+09   \n",
       "4  '1.2786037445700403e+18'  1.593678e+09   \n",
       "5  '1.2786028903370834e+18'  1.593678e+09   \n",
       "\n",
       "                                                text  retweet_count  \\\n",
       "0  DC18RE 互換充電器 2口充電器 適合マキタ 10.8V/14.4V/18V リチウムイ...            0.0   \n",
       "1  @utu_panic マキタ　充電器　マキタ　18v　バッテリー　DC18RC バッテリー ...            0.0   \n",
       "2  @kasugasan43 マキタ　充電器　マキタ　18v　バッテリー　DC18RC バッテリ...            0.0   \n",
       "3  @tkam07471392 マキタ　充電器　マキタ　18v　バッテリー　DC18RC バッテ...            0.0   \n",
       "4  @norikonaqz マキタ　充電器　マキタ　18v　バッテリー　DC18RC バッテリー...            0.0   \n",
       "5  @gdbamboo 互換　マキタ　充電器　マキタ　18v　バッテリー　DC18RC バッテリ...            0.0   \n",
       "\n",
       "   favorite_count  quoted_status_id       user.id  user.created_at  \\\n",
       "0             1.0                 0  1.278150e+18     1.593570e+09   \n",
       "1             0.0                 0  1.278150e+18     1.593570e+09   \n",
       "2             0.0                 0  1.278150e+18     1.593570e+09   \n",
       "3             0.0                 0  1.278150e+18     1.593570e+09   \n",
       "4             0.0                 0  1.278150e+18     1.593570e+09   \n",
       "5             0.0                 0  1.278150e+18     1.593570e+09   \n",
       "\n",
       "                      user.description  user.favourites_count  ...  \\\n",
       "0  あなたは、すべてを手に入れられる。ただ、一度には手に入れられないだけ。                  436.0  ...   \n",
       "1  あなたは、すべてを手に入れられる。ただ、一度には手に入れられないだけ。                  436.0  ...   \n",
       "2  あなたは、すべてを手に入れられる。ただ、一度には手に入れられないだけ。                  436.0  ...   \n",
       "3  あなたは、すべてを手に入れられる。ただ、一度には手に入れられないだけ。                  436.0  ...   \n",
       "4  あなたは、すべてを手に入れられる。ただ、一度には手に入れられないだけ。                  436.0  ...   \n",
       "5  あなたは、すべてを手に入れられる。ただ、一度には手に入れられないだけ。                  436.0  ...   \n",
       "\n",
       "   user.geo_enabled_False  user.geo_enabled_True  user.verified_False  \\\n",
       "0                       1                      0                    1   \n",
       "1                       1                      0                    1   \n",
       "2                       1                      0                    1   \n",
       "3                       1                      0                    1   \n",
       "4                       1                      0                    1   \n",
       "5                       1                      0                    1   \n",
       "\n",
       "  user.has_extended_profile_False user.has_extended_profile_True  \\\n",
       "0                               0                              1   \n",
       "1                               0                              1   \n",
       "2                               0                              1   \n",
       "3                               0                              1   \n",
       "4                               0                              1   \n",
       "5                               0                              1   \n",
       "\n",
       "  user.protected_False  user.verified_False.1  user.default_profile_True  \\\n",
       "0                    1                      1                          1   \n",
       "1                    1                      1                          1   \n",
       "2                    1                      1                          1   \n",
       "3                    1                      1                          1   \n",
       "4                    1                      1                          1   \n",
       "5                    1                      1                          1   \n",
       "\n",
       "   is_quote_status_False  is_quote_status_True  \n",
       "0                      1                     0  \n",
       "1                      1                     0  \n",
       "2                      1                     0  \n",
       "3                      1                     0  \n",
       "4                      1                     0  \n",
       "5                      1                     0  \n",
       "\n",
       "[6 rows x 167 columns]"
      ]
     },
     "execution_count": 6,
     "metadata": {},
     "output_type": "execute_result"
    }
   ],
   "source": [
    "df_train_f.head(6)"
   ]
  },
  {
   "cell_type": "code",
   "execution_count": 7,
   "metadata": {
    "execution": {
     "iopub.execute_input": "2021-05-17T13:06:51.758132Z",
     "iopub.status.busy": "2021-05-17T13:06:51.749154Z",
     "iopub.status.idle": "2021-05-17T13:06:51.802544Z",
     "shell.execute_reply": "2021-05-17T13:06:51.802074Z"
    },
    "papermill": {
     "duration": 0.113304,
     "end_time": "2021-05-17T13:06:51.802639",
     "exception": false,
     "start_time": "2021-05-17T13:06:51.689335",
     "status": "completed"
    },
    "tags": []
   },
   "outputs": [],
   "source": [
    "df_train_f['id'] = df_train_f['id'].apply(lambda x: x.replace(\"'\", ''))\n",
    "df_train_f['id'] = df_train_f['id'].astype('float')\n",
    "df_valid_f['id'] = df_valid_f['id'].apply(lambda x: x.replace(\"'\", ''))\n",
    "df_valid_f['id'] = df_valid_f['id'].astype('float')\n",
    "df_test_f['id'] = df_test_f['id'].apply(lambda x: x.replace(\"'\", ''))\n",
    "df_test_f['id'] = df_test_f['id'].astype('float')"
   ]
  },
  {
   "cell_type": "code",
   "execution_count": 8,
   "metadata": {
    "execution": {
     "iopub.execute_input": "2021-05-17T13:06:51.907260Z",
     "iopub.status.busy": "2021-05-17T13:06:51.906512Z",
     "iopub.status.idle": "2021-05-17T13:06:51.915408Z",
     "shell.execute_reply": "2021-05-17T13:06:51.915837Z"
    },
    "papermill": {
     "duration": 0.063864,
     "end_time": "2021-05-17T13:06:51.915949",
     "exception": false,
     "start_time": "2021-05-17T13:06:51.852085",
     "status": "completed"
    },
    "tags": []
   },
   "outputs": [
    {
     "name": "stdout",
     "output_type": "stream",
     "text": [
      "full train: 17615 unique ids train: 17615 full valid: 12410 unique ids valid: 12410 full test: 34839 unique ids test: 34839\n"
     ]
    }
   ],
   "source": [
    "print(\"full train:\", len(df_train_f), \"unique ids train:\", len(df_train_f['id'].unique()), \n",
    "      \"full valid:\", len(df_valid_f), \"unique ids valid:\", len(df_valid_f['id'].unique()), \n",
    "      \"full test:\", len(df_test_f), \"unique ids test:\", len(df_test_f['id'].unique()))\n",
    "\n",
    "#print(\"Train:\", len(sentences_train), \"Valid:\", len(sentences_valid), \"Test\", len(sentences_test))"
   ]
  },
  {
   "cell_type": "code",
   "execution_count": 9,
   "metadata": {
    "execution": {
     "iopub.execute_input": "2021-05-17T13:06:52.020718Z",
     "iopub.status.busy": "2021-05-17T13:06:52.019895Z",
     "iopub.status.idle": "2021-05-17T13:06:52.059447Z",
     "shell.execute_reply": "2021-05-17T13:06:52.058964Z"
    },
    "papermill": {
     "duration": 0.094731,
     "end_time": "2021-05-17T13:06:52.059542",
     "exception": false,
     "start_time": "2021-05-17T13:06:51.964811",
     "status": "completed"
    },
    "tags": []
   },
   "outputs": [],
   "source": [
    "df_train = df_train_f.drop(['user.description', \"user.location\", \"user.name\", \"user.screen_name\", \"split\"], axis=1)\n",
    "df_valid = df_valid_f.drop(['user.description', \"user.location\", \"user.name\", \"user.screen_name\", \"split\"], axis=1)\n",
    "df_test = df_test_f.drop(['user.description', \"user.location\", \"user.name\", \"user.screen_name\", \"split\"], axis=1)"
   ]
  },
  {
   "cell_type": "code",
   "execution_count": 10,
   "metadata": {
    "execution": {
     "iopub.execute_input": "2021-05-17T13:06:52.164693Z",
     "iopub.status.busy": "2021-05-17T13:06:52.162867Z",
     "iopub.status.idle": "2021-05-17T13:06:52.165306Z",
     "shell.execute_reply": "2021-05-17T13:06:52.165733Z"
    },
    "papermill": {
     "duration": 0.056409,
     "end_time": "2021-05-17T13:06:52.165862",
     "exception": false,
     "start_time": "2021-05-17T13:06:52.109453",
     "status": "completed"
    },
    "tags": []
   },
   "outputs": [],
   "source": [
    "# FOR TESING OUT CODE PURPOSE ONLY. REMOVE ONCE ALL IS WORKING. \n",
    "#df_train = df_train[:2000]\n",
    "#df_valid = df_valid[:2000]\n",
    "#df_test = df_test[:2000]\n"
   ]
  },
  {
   "cell_type": "code",
   "execution_count": 11,
   "metadata": {
    "execution": {
     "iopub.execute_input": "2021-05-17T13:06:52.271152Z",
     "iopub.status.busy": "2021-05-17T13:06:52.270529Z",
     "iopub.status.idle": "2021-05-17T13:06:55.602312Z",
     "shell.execute_reply": "2021-05-17T13:06:55.602742Z"
    },
    "papermill": {
     "duration": 3.38699,
     "end_time": "2021-05-17T13:06:55.602899",
     "exception": false,
     "start_time": "2021-05-17T13:06:52.215909",
     "status": "completed"
    },
    "tags": []
   },
   "outputs": [],
   "source": [
    "import numpy as np\n",
    "import pandas as pd\n",
    "import torch\n",
    "import transformers as ppb # pytorch transformers\n",
    "from sklearn.linear_model import LogisticRegression\n",
    "from sklearn.model_selection import cross_val_score\n",
    "from sklearn.model_selection import train_test_split\n",
    "from numba import cuda \n",
    "import gc\n",
    "\n",
    "from sklearn.metrics import roc_auc_score\n",
    "from sklearn.metrics import roc_curve"
   ]
  },
  {
   "cell_type": "code",
   "execution_count": 12,
   "metadata": {
    "execution": {
     "iopub.execute_input": "2021-05-17T13:06:55.868812Z",
     "iopub.status.busy": "2021-05-17T13:06:55.867597Z",
     "iopub.status.idle": "2021-05-17T13:06:55.870752Z",
     "shell.execute_reply": "2021-05-17T13:06:55.870308Z"
    },
    "papermill": {
     "duration": 0.217478,
     "end_time": "2021-05-17T13:06:55.870882",
     "exception": false,
     "start_time": "2021-05-17T13:06:55.653404",
     "status": "completed"
    },
    "tags": []
   },
   "outputs": [],
   "source": [
    "gc.collect()\n",
    "torch.cuda.empty_cache()"
   ]
  },
  {
   "cell_type": "code",
   "execution_count": 13,
   "metadata": {
    "execution": {
     "iopub.execute_input": "2021-05-17T13:06:55.978084Z",
     "iopub.status.busy": "2021-05-17T13:06:55.977305Z",
     "iopub.status.idle": "2021-05-17T13:06:55.980234Z",
     "shell.execute_reply": "2021-05-17T13:06:55.979811Z"
    },
    "papermill": {
     "duration": 0.05948,
     "end_time": "2021-05-17T13:06:55.980328",
     "exception": false,
     "start_time": "2021-05-17T13:06:55.920848",
     "status": "completed"
    },
    "tags": []
   },
   "outputs": [],
   "source": [
    "# Get the lists of sentences and their labels.\n",
    "sentences_train = df_train.text.values\n",
    "train_labels = df_train.suspended.values\n",
    "ids_train = df_train.id.values\n",
    "\n",
    "sentences_valid = df_valid.text.values\n",
    "validation_labels = df_valid.suspended.values\n",
    "ids_validation = df_valid.id.values\n",
    "\n",
    "sentences_test = df_test.text.values\n",
    "test_labels = df_test.suspended.values\n",
    "ids_test = df_test.id.values"
   ]
  },
  {
   "cell_type": "code",
   "execution_count": 14,
   "metadata": {
    "execution": {
     "iopub.execute_input": "2021-05-17T13:06:56.088241Z",
     "iopub.status.busy": "2021-05-17T13:06:56.087385Z",
     "iopub.status.idle": "2021-05-17T13:06:56.091621Z",
     "shell.execute_reply": "2021-05-17T13:06:56.092183Z"
    },
    "papermill": {
     "duration": 0.059049,
     "end_time": "2021-05-17T13:06:56.092328",
     "exception": false,
     "start_time": "2021-05-17T13:06:56.033279",
     "status": "completed"
    },
    "tags": []
   },
   "outputs": [
    {
     "name": "stdout",
     "output_type": "stream",
     "text": [
      "Train: 17615 Valid: 12410 Test 34839\n"
     ]
    }
   ],
   "source": [
    "print(\"Train:\", len(sentences_train), \"Valid:\", len(sentences_valid), \"Test\", len(sentences_test))"
   ]
  },
  {
   "cell_type": "markdown",
   "metadata": {
    "papermill": {
     "duration": 0.050597,
     "end_time": "2021-05-17T13:06:56.193983",
     "exception": false,
     "start_time": "2021-05-17T13:06:56.143386",
     "status": "completed"
    },
    "tags": []
   },
   "source": [
    "### Load in Model and Tokenizer"
   ]
  },
  {
   "cell_type": "code",
   "execution_count": 15,
   "metadata": {
    "execution": {
     "iopub.execute_input": "2021-05-17T13:06:56.300340Z",
     "iopub.status.busy": "2021-05-17T13:06:56.299461Z",
     "iopub.status.idle": "2021-05-17T13:07:00.082614Z",
     "shell.execute_reply": "2021-05-17T13:07:00.081709Z"
    },
    "papermill": {
     "duration": 3.838363,
     "end_time": "2021-05-17T13:07:00.082796",
     "exception": false,
     "start_time": "2021-05-17T13:06:56.244433",
     "status": "completed"
    },
    "tags": []
   },
   "outputs": [
    {
     "data": {
      "application/vnd.jupyter.widget-view+json": {
       "model_id": "244a7337882b4665b4769fbd24e0e6a7",
       "version_major": 2,
       "version_minor": 0
      },
      "text/plain": [
       "HBox(children=(FloatProgress(value=0.0, description='Downloading', max=5220781.0, style=ProgressStyle(descript…"
      ]
     },
     "metadata": {},
     "output_type": "display_data"
    },
    {
     "name": "stdout",
     "output_type": "stream",
     "text": [
      "\n"
     ]
    },
    {
     "data": {
      "application/vnd.jupyter.widget-view+json": {
       "model_id": "84ac778deaf6494c8b70e9f7dae7a073",
       "version_major": 2,
       "version_minor": 0
      },
      "text/plain": [
       "HBox(children=(FloatProgress(value=0.0, description='Downloading', max=112.0, style=ProgressStyle(description_…"
      ]
     },
     "metadata": {},
     "output_type": "display_data"
    },
    {
     "name": "stdout",
     "output_type": "stream",
     "text": [
      "\n"
     ]
    },
    {
     "data": {
      "application/vnd.jupyter.widget-view+json": {
       "model_id": "1674315d7a614ac8a2c4fc5df889f30d",
       "version_major": 2,
       "version_minor": 0
      },
      "text/plain": [
       "HBox(children=(FloatProgress(value=0.0, description='Downloading', max=62.0, style=ProgressStyle(description_w…"
      ]
     },
     "metadata": {},
     "output_type": "display_data"
    },
    {
     "name": "stdout",
     "output_type": "stream",
     "text": [
      "\n"
     ]
    }
   ],
   "source": [
    "# https://huggingface.co/pvl/labse_bert\n",
    "model_class, tokenizer_class, pretrained_weights = (ppb.BertModel, ppb.BertTokenizer, 'pvl/labse_bert')\n",
    "\n",
    "# Load pretrained model/tokenizer\n",
    "tokenizer = tokenizer_class.from_pretrained(pretrained_weights)\n",
    "#model = model_class.from_pretrained(pretrained_weights)"
   ]
  },
  {
   "cell_type": "code",
   "execution_count": 16,
   "metadata": {
    "execution": {
     "iopub.execute_input": "2021-05-17T13:07:00.409246Z",
     "iopub.status.busy": "2021-05-17T13:07:00.408486Z",
     "iopub.status.idle": "2021-05-17T13:07:00.412743Z",
     "shell.execute_reply": "2021-05-17T13:07:00.412312Z"
    },
    "papermill": {
     "duration": 0.273123,
     "end_time": "2021-05-17T13:07:00.412860",
     "exception": false,
     "start_time": "2021-05-17T13:07:00.139737",
     "status": "completed"
    },
    "tags": []
   },
   "outputs": [],
   "source": [
    "gc.collect()\n",
    "torch.cuda.empty_cache()"
   ]
  },
  {
   "cell_type": "code",
   "execution_count": 17,
   "metadata": {
    "execution": {
     "iopub.execute_input": "2021-05-17T13:07:00.524153Z",
     "iopub.status.busy": "2021-05-17T13:07:00.523592Z",
     "iopub.status.idle": "2021-05-17T13:07:02.675503Z",
     "shell.execute_reply": "2021-05-17T13:07:02.674774Z"
    },
    "papermill": {
     "duration": 2.209899,
     "end_time": "2021-05-17T13:07:02.675614",
     "exception": false,
     "start_time": "2021-05-17T13:07:00.465715",
     "status": "completed"
    },
    "tags": []
   },
   "outputs": [
    {
     "name": "stdout",
     "output_type": "stream",
     "text": [
      "Loading BERT tokenizer...\n"
     ]
    }
   ],
   "source": [
    "from transformers import BertTokenizer\n",
    "# Load the BERT tokenizer.\n",
    "print('Loading BERT tokenizer...')\n",
    "tokenizer = BertTokenizer.from_pretrained('pvl/labse_bert', do_lower_case=True)"
   ]
  },
  {
   "cell_type": "markdown",
   "metadata": {
    "papermill": {
     "duration": 0.052919,
     "end_time": "2021-05-17T13:07:02.781519",
     "exception": false,
     "start_time": "2021-05-17T13:07:02.728600",
     "status": "completed"
    },
    "tags": []
   },
   "source": [
    "### Prep Data for Model"
   ]
  },
  {
   "cell_type": "code",
   "execution_count": 18,
   "metadata": {
    "execution": {
     "iopub.execute_input": "2021-05-17T13:07:02.893485Z",
     "iopub.status.busy": "2021-05-17T13:07:02.892953Z",
     "iopub.status.idle": "2021-05-17T13:07:02.897114Z",
     "shell.execute_reply": "2021-05-17T13:07:02.896678Z"
    },
    "papermill": {
     "duration": 0.06304,
     "end_time": "2021-05-17T13:07:02.897206",
     "exception": false,
     "start_time": "2021-05-17T13:07:02.834166",
     "status": "completed"
    },
    "tags": []
   },
   "outputs": [],
   "source": [
    "def sent_to_ids(sentences): \n",
    "    # Tokenize all of the sentences and map the tokens to thier word IDs.\n",
    "    input_ids = []\n",
    "    # For every sentence...\n",
    "    for sent in sentences:\n",
    "        # `encode` will:\n",
    "        #   (1) Tokenize the sentence.\n",
    "        #   (2) Prepend the `[CLS]` token to the start.\n",
    "        #   (3) Append the `[SEP]` token to the end.\n",
    "        #   (4) Map tokens to their IDs.\n",
    "        encoded_sent = tokenizer.encode(\n",
    "            sent,                      # Sentence to encode.\n",
    "            add_special_tokens = True, # Add '[CLS]' and '[SEP]'\n",
    "                          # This function also supports truncation and conversion\n",
    "                          # to pytorch tensors, but we need to do padding, so we\n",
    "                          # can't use these features :( .\n",
    "                          #max_length = 128,          # Truncate all sentences.\n",
    "                          #return_tensors = 'pt',     # Return pytorch tensors.\n",
    "        )\n",
    "      \n",
    "        # Add the encoded sentence to the list.\n",
    "        input_ids.append(encoded_sent)\n",
    "    # Pad and truncate our sequences so that they all have the same length\n",
    "    input_ids = pad_sequences(input_ids, maxlen=120, dtype=\"long\", \n",
    "                            value=0, truncating=\"post\", padding=\"post\")\n",
    "    # Print sentence 0, now as a list of IDs.\n",
    "    return input_ids\n",
    "\n",
    "# SWIMMING STEMMED INTO SWIM AND M AND ING (SO LEN IS FOR EACH OF THOSE)"
   ]
  },
  {
   "cell_type": "code",
   "execution_count": 19,
   "metadata": {
    "execution": {
     "iopub.execute_input": "2021-05-17T13:07:03.016711Z",
     "iopub.status.busy": "2021-05-17T13:07:03.011584Z",
     "iopub.status.idle": "2021-05-17T13:07:16.512936Z",
     "shell.execute_reply": "2021-05-17T13:07:16.511928Z"
    },
    "papermill": {
     "duration": 13.562281,
     "end_time": "2021-05-17T13:07:16.513058",
     "exception": false,
     "start_time": "2021-05-17T13:07:02.950777",
     "status": "completed"
    },
    "tags": []
   },
   "outputs": [],
   "source": [
    "train_inputs = sent_to_ids(sentences_train)"
   ]
  },
  {
   "cell_type": "code",
   "execution_count": 20,
   "metadata": {
    "execution": {
     "iopub.execute_input": "2021-05-17T13:07:16.669408Z",
     "iopub.status.busy": "2021-05-17T13:07:16.659272Z",
     "iopub.status.idle": "2021-05-17T13:07:25.477348Z",
     "shell.execute_reply": "2021-05-17T13:07:25.476364Z"
    },
    "papermill": {
     "duration": 8.910313,
     "end_time": "2021-05-17T13:07:25.477469",
     "exception": false,
     "start_time": "2021-05-17T13:07:16.567156",
     "status": "completed"
    },
    "tags": []
   },
   "outputs": [],
   "source": [
    "validation_inputs = sent_to_ids(sentences_valid)"
   ]
  },
  {
   "cell_type": "code",
   "execution_count": 21,
   "metadata": {
    "execution": {
     "iopub.execute_input": "2021-05-17T13:07:25.604320Z",
     "iopub.status.busy": "2021-05-17T13:07:25.603432Z",
     "iopub.status.idle": "2021-05-17T13:07:52.365155Z",
     "shell.execute_reply": "2021-05-17T13:07:52.364619Z"
    },
    "papermill": {
     "duration": 26.833995,
     "end_time": "2021-05-17T13:07:52.365286",
     "exception": false,
     "start_time": "2021-05-17T13:07:25.531291",
     "status": "completed"
    },
    "tags": []
   },
   "outputs": [],
   "source": [
    "test_inputs = sent_to_ids(sentences_test)"
   ]
  },
  {
   "cell_type": "code",
   "execution_count": 22,
   "metadata": {
    "execution": {
     "iopub.execute_input": "2021-05-17T13:07:52.478205Z",
     "iopub.status.busy": "2021-05-17T13:07:52.477371Z",
     "iopub.status.idle": "2021-05-17T13:07:52.481637Z",
     "shell.execute_reply": "2021-05-17T13:07:52.482200Z"
    },
    "papermill": {
     "duration": 0.063266,
     "end_time": "2021-05-17T13:07:52.482355",
     "exception": false,
     "start_time": "2021-05-17T13:07:52.419089",
     "status": "completed"
    },
    "tags": []
   },
   "outputs": [
    {
     "name": "stdout",
     "output_type": "stream",
     "text": [
      "Train: 17615 Valid: 12410 Test 34839\n"
     ]
    }
   ],
   "source": [
    "print(\"Train:\", len(train_inputs), \"Valid:\", len(validation_inputs), \"Test\", len(test_inputs))"
   ]
  },
  {
   "cell_type": "code",
   "execution_count": 23,
   "metadata": {
    "execution": {
     "iopub.execute_input": "2021-05-17T13:07:52.595624Z",
     "iopub.status.busy": "2021-05-17T13:07:52.594939Z",
     "iopub.status.idle": "2021-05-17T13:07:52.597362Z",
     "shell.execute_reply": "2021-05-17T13:07:52.597911Z"
    },
    "papermill": {
     "duration": 0.061564,
     "end_time": "2021-05-17T13:07:52.598014",
     "exception": false,
     "start_time": "2021-05-17T13:07:52.536450",
     "status": "completed"
    },
    "tags": []
   },
   "outputs": [],
   "source": [
    "def get_attn_msks(input_ids):\n",
    "  # Create attention masks\n",
    "    attention_masks = []\n",
    "  # For each sentence...\n",
    "    for sent in input_ids:\n",
    "        # Create the attention mask.\n",
    "        #   - If a token ID is 0, then it's padding, set the mask to 0.\n",
    "        #   - If a token ID is > 0, then it's a real token, set the mask to 1.\n",
    "        att_mask = [int(token_id > 0) for token_id in sent]\n",
    "      \n",
    "        # Store the attention mask for this sentence.\n",
    "        attention_masks.append(att_mask)\n",
    "    return attention_masks"
   ]
  },
  {
   "cell_type": "code",
   "execution_count": 24,
   "metadata": {
    "execution": {
     "iopub.execute_input": "2021-05-17T13:07:52.743113Z",
     "iopub.status.busy": "2021-05-17T13:07:52.727721Z",
     "iopub.status.idle": "2021-05-17T13:07:54.539006Z",
     "shell.execute_reply": "2021-05-17T13:07:54.538519Z"
    },
    "papermill": {
     "duration": 1.887949,
     "end_time": "2021-05-17T13:07:54.539112",
     "exception": false,
     "start_time": "2021-05-17T13:07:52.651163",
     "status": "completed"
    },
    "tags": []
   },
   "outputs": [],
   "source": [
    "train_masks = get_attn_msks(train_inputs)"
   ]
  },
  {
   "cell_type": "code",
   "execution_count": 25,
   "metadata": {
    "execution": {
     "iopub.execute_input": "2021-05-17T13:07:54.712241Z",
     "iopub.status.busy": "2021-05-17T13:07:54.711410Z",
     "iopub.status.idle": "2021-05-17T13:07:56.180742Z",
     "shell.execute_reply": "2021-05-17T13:07:56.180295Z"
    },
    "papermill": {
     "duration": 1.578932,
     "end_time": "2021-05-17T13:07:56.180860",
     "exception": false,
     "start_time": "2021-05-17T13:07:54.601928",
     "status": "completed"
    },
    "tags": []
   },
   "outputs": [],
   "source": [
    "validation_masks = get_attn_msks(validation_inputs)"
   ]
  },
  {
   "cell_type": "code",
   "execution_count": 26,
   "metadata": {
    "execution": {
     "iopub.execute_input": "2021-05-17T13:07:56.312044Z",
     "iopub.status.busy": "2021-05-17T13:07:56.301846Z",
     "iopub.status.idle": "2021-05-17T13:08:00.244175Z",
     "shell.execute_reply": "2021-05-17T13:08:00.243551Z"
    },
    "papermill": {
     "duration": 4.009101,
     "end_time": "2021-05-17T13:08:00.244274",
     "exception": false,
     "start_time": "2021-05-17T13:07:56.235173",
     "status": "completed"
    },
    "tags": []
   },
   "outputs": [],
   "source": [
    "test_masks = get_attn_msks(test_inputs)"
   ]
  },
  {
   "cell_type": "code",
   "execution_count": 27,
   "metadata": {
    "execution": {
     "iopub.execute_input": "2021-05-17T13:08:00.364555Z",
     "iopub.status.busy": "2021-05-17T13:08:00.363904Z",
     "iopub.status.idle": "2021-05-17T13:08:00.716936Z",
     "shell.execute_reply": "2021-05-17T13:08:00.716468Z"
    },
    "papermill": {
     "duration": 0.418536,
     "end_time": "2021-05-17T13:08:00.717042",
     "exception": false,
     "start_time": "2021-05-17T13:08:00.298506",
     "status": "completed"
    },
    "tags": []
   },
   "outputs": [],
   "source": [
    "# Convert all inputs and labels into torch tensors, the required datatype \n",
    "# for our model.\n",
    "train_inputs = torch.tensor(train_inputs)\n",
    "validation_inputs = torch.tensor(validation_inputs)\n",
    "train_labels = torch.tensor(train_labels)\n",
    "validation_labels = torch.tensor(validation_labels)\n",
    "train_masks = torch.tensor(train_masks)\n",
    "validation_masks = torch.tensor(validation_masks)\n",
    "\n",
    "train_ids = torch.tensor(ids_train)\n",
    "valid_ids = torch.tensor(ids_validation)"
   ]
  },
  {
   "cell_type": "code",
   "execution_count": 28,
   "metadata": {
    "execution": {
     "iopub.execute_input": "2021-05-17T13:08:00.830241Z",
     "iopub.status.busy": "2021-05-17T13:08:00.829414Z",
     "iopub.status.idle": "2021-05-17T13:08:00.833913Z",
     "shell.execute_reply": "2021-05-17T13:08:00.834330Z"
    },
    "papermill": {
     "duration": 0.063158,
     "end_time": "2021-05-17T13:08:00.834435",
     "exception": false,
     "start_time": "2021-05-17T13:08:00.771277",
     "status": "completed"
    },
    "tags": []
   },
   "outputs": [
    {
     "name": "stdout",
     "output_type": "stream",
     "text": [
      "Train: 17615 Valid: 12410 Test 34839\n"
     ]
    }
   ],
   "source": [
    "print(\"Train:\", len(train_inputs), \"Valid:\", len(validation_inputs), \"Test\", len(test_inputs))"
   ]
  },
  {
   "cell_type": "code",
   "execution_count": 29,
   "metadata": {
    "execution": {
     "iopub.execute_input": "2021-05-17T13:08:00.953465Z",
     "iopub.status.busy": "2021-05-17T13:08:00.952661Z",
     "iopub.status.idle": "2021-05-17T13:08:00.955366Z",
     "shell.execute_reply": "2021-05-17T13:08:00.954951Z"
    },
    "papermill": {
     "duration": 0.066912,
     "end_time": "2021-05-17T13:08:00.955457",
     "exception": false,
     "start_time": "2021-05-17T13:08:00.888545",
     "status": "completed"
    },
    "tags": []
   },
   "outputs": [],
   "source": [
    "from torch.utils.data import TensorDataset, DataLoader, RandomSampler, SequentialSampler\n",
    "# The DataLoader needs to know our batch size for training, so we specify it \n",
    "# here.\n",
    "# For fine-tuning BERT on a specific task, the authors recommend a batch size of\n",
    "# 16 or 32.\n",
    "batch_size = 32 # try 32, and then move down to 16 and 8. \n",
    "# Create the DataLoader for our training set.\n",
    "train_data = TensorDataset(train_inputs, train_masks, train_labels, train_ids)\n",
    "train_sampler = RandomSampler(train_data) # CHANGE TO SEQUENTIAL (TRAIN_SEQUENTIAL_SAMPLER - BUT DO SEQUENTIALLY FOR HIDDEN STATES)\n",
    "train_dataloader = DataLoader(train_data, sampler=train_sampler, batch_size=batch_size)\n",
    "# Create the DataLoader for our validation set.\n",
    "validation_data = TensorDataset(validation_inputs, validation_masks, validation_labels, valid_ids)\n",
    "validation_sampler = SequentialSampler(validation_data)\n",
    "validation_dataloader = DataLoader(validation_data, sampler=validation_sampler, batch_size=batch_size)\n",
    "\n",
    "# Create the DataLoader for our training set for the embedding extraction.\n",
    "train_sampler_sequential = SequentialSampler(train_data) # CHANGE TO SEQUENTIAL (TRAIN_SEQUENTIAL_SAMPLER - BUT DO SEQUENTIALLY FOR HIDDEN STATES)\n",
    "train_dataloader_sequential = DataLoader(train_data, sampler=train_sampler_sequential, batch_size=batch_size)"
   ]
  },
  {
   "cell_type": "code",
   "execution_count": 30,
   "metadata": {
    "execution": {
     "iopub.execute_input": "2021-05-17T13:08:01.071344Z",
     "iopub.status.busy": "2021-05-17T13:08:01.070700Z",
     "iopub.status.idle": "2021-05-17T13:09:11.980397Z",
     "shell.execute_reply": "2021-05-17T13:09:11.981498Z"
    },
    "papermill": {
     "duration": 70.971657,
     "end_time": "2021-05-17T13:09:11.981676",
     "exception": false,
     "start_time": "2021-05-17T13:08:01.010019",
     "status": "completed"
    },
    "tags": []
   },
   "outputs": [
    {
     "data": {
      "application/vnd.jupyter.widget-view+json": {
       "model_id": "ccf37dbfaa5a4bfe943ed2a54aadb532",
       "version_major": 2,
       "version_minor": 0
      },
      "text/plain": [
       "HBox(children=(FloatProgress(value=0.0, description='Downloading', max=472.0, style=ProgressStyle(description_…"
      ]
     },
     "metadata": {},
     "output_type": "display_data"
    },
    {
     "name": "stdout",
     "output_type": "stream",
     "text": [
      "\n"
     ]
    },
    {
     "data": {
      "application/vnd.jupyter.widget-view+json": {
       "model_id": "6dd4a3fe2de64f20b6bc74923601a0e9",
       "version_major": 2,
       "version_minor": 0
      },
      "text/plain": [
       "HBox(children=(FloatProgress(value=0.0, description='Downloading', max=1888168867.0, style=ProgressStyle(descr…"
      ]
     },
     "metadata": {},
     "output_type": "display_data"
    },
    {
     "name": "stdout",
     "output_type": "stream",
     "text": [
      "\n"
     ]
    },
    {
     "name": "stderr",
     "output_type": "stream",
     "text": [
      "Some weights of the model checkpoint at pvl/labse_bert were not used when initializing BertForSequenceClassification: ['cls.predictions.bias', 'cls.predictions.transform.dense.weight', 'cls.predictions.transform.dense.bias', 'cls.predictions.transform.LayerNorm.weight', 'cls.predictions.transform.LayerNorm.bias', 'cls.predictions.decoder.weight', 'cls.predictions.decoder.bias', 'cls.seq_relationship.weight', 'cls.seq_relationship.bias']\n",
      "- This IS expected if you are initializing BertForSequenceClassification from the checkpoint of a model trained on another task or with another architecture (e.g. initializing a BertForSequenceClassification model from a BertForPreTraining model).\n",
      "- This IS NOT expected if you are initializing BertForSequenceClassification from the checkpoint of a model that you expect to be exactly identical (initializing a BertForSequenceClassification model from a BertForSequenceClassification model).\n",
      "Some weights of BertForSequenceClassification were not initialized from the model checkpoint at pvl/labse_bert and are newly initialized: ['classifier.weight', 'classifier.bias']\n",
      "You should probably TRAIN this model on a down-stream task to be able to use it for predictions and inference.\n"
     ]
    },
    {
     "data": {
      "text/plain": [
       "BertForSequenceClassification(\n",
       "  (bert): BertModel(\n",
       "    (embeddings): BertEmbeddings(\n",
       "      (word_embeddings): Embedding(501153, 768, padding_idx=0)\n",
       "      (position_embeddings): Embedding(512, 768)\n",
       "      (token_type_embeddings): Embedding(2, 768)\n",
       "      (LayerNorm): LayerNorm((768,), eps=1e-12, elementwise_affine=True)\n",
       "      (dropout): Dropout(p=0.1, inplace=False)\n",
       "    )\n",
       "    (encoder): BertEncoder(\n",
       "      (layer): ModuleList(\n",
       "        (0): BertLayer(\n",
       "          (attention): BertAttention(\n",
       "            (self): BertSelfAttention(\n",
       "              (query): Linear(in_features=768, out_features=768, bias=True)\n",
       "              (key): Linear(in_features=768, out_features=768, bias=True)\n",
       "              (value): Linear(in_features=768, out_features=768, bias=True)\n",
       "              (dropout): Dropout(p=0.1, inplace=False)\n",
       "            )\n",
       "            (output): BertSelfOutput(\n",
       "              (dense): Linear(in_features=768, out_features=768, bias=True)\n",
       "              (LayerNorm): LayerNorm((768,), eps=1e-12, elementwise_affine=True)\n",
       "              (dropout): Dropout(p=0.1, inplace=False)\n",
       "            )\n",
       "          )\n",
       "          (intermediate): BertIntermediate(\n",
       "            (dense): Linear(in_features=768, out_features=3072, bias=True)\n",
       "          )\n",
       "          (output): BertOutput(\n",
       "            (dense): Linear(in_features=3072, out_features=768, bias=True)\n",
       "            (LayerNorm): LayerNorm((768,), eps=1e-12, elementwise_affine=True)\n",
       "            (dropout): Dropout(p=0.1, inplace=False)\n",
       "          )\n",
       "        )\n",
       "        (1): BertLayer(\n",
       "          (attention): BertAttention(\n",
       "            (self): BertSelfAttention(\n",
       "              (query): Linear(in_features=768, out_features=768, bias=True)\n",
       "              (key): Linear(in_features=768, out_features=768, bias=True)\n",
       "              (value): Linear(in_features=768, out_features=768, bias=True)\n",
       "              (dropout): Dropout(p=0.1, inplace=False)\n",
       "            )\n",
       "            (output): BertSelfOutput(\n",
       "              (dense): Linear(in_features=768, out_features=768, bias=True)\n",
       "              (LayerNorm): LayerNorm((768,), eps=1e-12, elementwise_affine=True)\n",
       "              (dropout): Dropout(p=0.1, inplace=False)\n",
       "            )\n",
       "          )\n",
       "          (intermediate): BertIntermediate(\n",
       "            (dense): Linear(in_features=768, out_features=3072, bias=True)\n",
       "          )\n",
       "          (output): BertOutput(\n",
       "            (dense): Linear(in_features=3072, out_features=768, bias=True)\n",
       "            (LayerNorm): LayerNorm((768,), eps=1e-12, elementwise_affine=True)\n",
       "            (dropout): Dropout(p=0.1, inplace=False)\n",
       "          )\n",
       "        )\n",
       "        (2): BertLayer(\n",
       "          (attention): BertAttention(\n",
       "            (self): BertSelfAttention(\n",
       "              (query): Linear(in_features=768, out_features=768, bias=True)\n",
       "              (key): Linear(in_features=768, out_features=768, bias=True)\n",
       "              (value): Linear(in_features=768, out_features=768, bias=True)\n",
       "              (dropout): Dropout(p=0.1, inplace=False)\n",
       "            )\n",
       "            (output): BertSelfOutput(\n",
       "              (dense): Linear(in_features=768, out_features=768, bias=True)\n",
       "              (LayerNorm): LayerNorm((768,), eps=1e-12, elementwise_affine=True)\n",
       "              (dropout): Dropout(p=0.1, inplace=False)\n",
       "            )\n",
       "          )\n",
       "          (intermediate): BertIntermediate(\n",
       "            (dense): Linear(in_features=768, out_features=3072, bias=True)\n",
       "          )\n",
       "          (output): BertOutput(\n",
       "            (dense): Linear(in_features=3072, out_features=768, bias=True)\n",
       "            (LayerNorm): LayerNorm((768,), eps=1e-12, elementwise_affine=True)\n",
       "            (dropout): Dropout(p=0.1, inplace=False)\n",
       "          )\n",
       "        )\n",
       "        (3): BertLayer(\n",
       "          (attention): BertAttention(\n",
       "            (self): BertSelfAttention(\n",
       "              (query): Linear(in_features=768, out_features=768, bias=True)\n",
       "              (key): Linear(in_features=768, out_features=768, bias=True)\n",
       "              (value): Linear(in_features=768, out_features=768, bias=True)\n",
       "              (dropout): Dropout(p=0.1, inplace=False)\n",
       "            )\n",
       "            (output): BertSelfOutput(\n",
       "              (dense): Linear(in_features=768, out_features=768, bias=True)\n",
       "              (LayerNorm): LayerNorm((768,), eps=1e-12, elementwise_affine=True)\n",
       "              (dropout): Dropout(p=0.1, inplace=False)\n",
       "            )\n",
       "          )\n",
       "          (intermediate): BertIntermediate(\n",
       "            (dense): Linear(in_features=768, out_features=3072, bias=True)\n",
       "          )\n",
       "          (output): BertOutput(\n",
       "            (dense): Linear(in_features=3072, out_features=768, bias=True)\n",
       "            (LayerNorm): LayerNorm((768,), eps=1e-12, elementwise_affine=True)\n",
       "            (dropout): Dropout(p=0.1, inplace=False)\n",
       "          )\n",
       "        )\n",
       "        (4): BertLayer(\n",
       "          (attention): BertAttention(\n",
       "            (self): BertSelfAttention(\n",
       "              (query): Linear(in_features=768, out_features=768, bias=True)\n",
       "              (key): Linear(in_features=768, out_features=768, bias=True)\n",
       "              (value): Linear(in_features=768, out_features=768, bias=True)\n",
       "              (dropout): Dropout(p=0.1, inplace=False)\n",
       "            )\n",
       "            (output): BertSelfOutput(\n",
       "              (dense): Linear(in_features=768, out_features=768, bias=True)\n",
       "              (LayerNorm): LayerNorm((768,), eps=1e-12, elementwise_affine=True)\n",
       "              (dropout): Dropout(p=0.1, inplace=False)\n",
       "            )\n",
       "          )\n",
       "          (intermediate): BertIntermediate(\n",
       "            (dense): Linear(in_features=768, out_features=3072, bias=True)\n",
       "          )\n",
       "          (output): BertOutput(\n",
       "            (dense): Linear(in_features=3072, out_features=768, bias=True)\n",
       "            (LayerNorm): LayerNorm((768,), eps=1e-12, elementwise_affine=True)\n",
       "            (dropout): Dropout(p=0.1, inplace=False)\n",
       "          )\n",
       "        )\n",
       "        (5): BertLayer(\n",
       "          (attention): BertAttention(\n",
       "            (self): BertSelfAttention(\n",
       "              (query): Linear(in_features=768, out_features=768, bias=True)\n",
       "              (key): Linear(in_features=768, out_features=768, bias=True)\n",
       "              (value): Linear(in_features=768, out_features=768, bias=True)\n",
       "              (dropout): Dropout(p=0.1, inplace=False)\n",
       "            )\n",
       "            (output): BertSelfOutput(\n",
       "              (dense): Linear(in_features=768, out_features=768, bias=True)\n",
       "              (LayerNorm): LayerNorm((768,), eps=1e-12, elementwise_affine=True)\n",
       "              (dropout): Dropout(p=0.1, inplace=False)\n",
       "            )\n",
       "          )\n",
       "          (intermediate): BertIntermediate(\n",
       "            (dense): Linear(in_features=768, out_features=3072, bias=True)\n",
       "          )\n",
       "          (output): BertOutput(\n",
       "            (dense): Linear(in_features=3072, out_features=768, bias=True)\n",
       "            (LayerNorm): LayerNorm((768,), eps=1e-12, elementwise_affine=True)\n",
       "            (dropout): Dropout(p=0.1, inplace=False)\n",
       "          )\n",
       "        )\n",
       "        (6): BertLayer(\n",
       "          (attention): BertAttention(\n",
       "            (self): BertSelfAttention(\n",
       "              (query): Linear(in_features=768, out_features=768, bias=True)\n",
       "              (key): Linear(in_features=768, out_features=768, bias=True)\n",
       "              (value): Linear(in_features=768, out_features=768, bias=True)\n",
       "              (dropout): Dropout(p=0.1, inplace=False)\n",
       "            )\n",
       "            (output): BertSelfOutput(\n",
       "              (dense): Linear(in_features=768, out_features=768, bias=True)\n",
       "              (LayerNorm): LayerNorm((768,), eps=1e-12, elementwise_affine=True)\n",
       "              (dropout): Dropout(p=0.1, inplace=False)\n",
       "            )\n",
       "          )\n",
       "          (intermediate): BertIntermediate(\n",
       "            (dense): Linear(in_features=768, out_features=3072, bias=True)\n",
       "          )\n",
       "          (output): BertOutput(\n",
       "            (dense): Linear(in_features=3072, out_features=768, bias=True)\n",
       "            (LayerNorm): LayerNorm((768,), eps=1e-12, elementwise_affine=True)\n",
       "            (dropout): Dropout(p=0.1, inplace=False)\n",
       "          )\n",
       "        )\n",
       "        (7): BertLayer(\n",
       "          (attention): BertAttention(\n",
       "            (self): BertSelfAttention(\n",
       "              (query): Linear(in_features=768, out_features=768, bias=True)\n",
       "              (key): Linear(in_features=768, out_features=768, bias=True)\n",
       "              (value): Linear(in_features=768, out_features=768, bias=True)\n",
       "              (dropout): Dropout(p=0.1, inplace=False)\n",
       "            )\n",
       "            (output): BertSelfOutput(\n",
       "              (dense): Linear(in_features=768, out_features=768, bias=True)\n",
       "              (LayerNorm): LayerNorm((768,), eps=1e-12, elementwise_affine=True)\n",
       "              (dropout): Dropout(p=0.1, inplace=False)\n",
       "            )\n",
       "          )\n",
       "          (intermediate): BertIntermediate(\n",
       "            (dense): Linear(in_features=768, out_features=3072, bias=True)\n",
       "          )\n",
       "          (output): BertOutput(\n",
       "            (dense): Linear(in_features=3072, out_features=768, bias=True)\n",
       "            (LayerNorm): LayerNorm((768,), eps=1e-12, elementwise_affine=True)\n",
       "            (dropout): Dropout(p=0.1, inplace=False)\n",
       "          )\n",
       "        )\n",
       "        (8): BertLayer(\n",
       "          (attention): BertAttention(\n",
       "            (self): BertSelfAttention(\n",
       "              (query): Linear(in_features=768, out_features=768, bias=True)\n",
       "              (key): Linear(in_features=768, out_features=768, bias=True)\n",
       "              (value): Linear(in_features=768, out_features=768, bias=True)\n",
       "              (dropout): Dropout(p=0.1, inplace=False)\n",
       "            )\n",
       "            (output): BertSelfOutput(\n",
       "              (dense): Linear(in_features=768, out_features=768, bias=True)\n",
       "              (LayerNorm): LayerNorm((768,), eps=1e-12, elementwise_affine=True)\n",
       "              (dropout): Dropout(p=0.1, inplace=False)\n",
       "            )\n",
       "          )\n",
       "          (intermediate): BertIntermediate(\n",
       "            (dense): Linear(in_features=768, out_features=3072, bias=True)\n",
       "          )\n",
       "          (output): BertOutput(\n",
       "            (dense): Linear(in_features=3072, out_features=768, bias=True)\n",
       "            (LayerNorm): LayerNorm((768,), eps=1e-12, elementwise_affine=True)\n",
       "            (dropout): Dropout(p=0.1, inplace=False)\n",
       "          )\n",
       "        )\n",
       "        (9): BertLayer(\n",
       "          (attention): BertAttention(\n",
       "            (self): BertSelfAttention(\n",
       "              (query): Linear(in_features=768, out_features=768, bias=True)\n",
       "              (key): Linear(in_features=768, out_features=768, bias=True)\n",
       "              (value): Linear(in_features=768, out_features=768, bias=True)\n",
       "              (dropout): Dropout(p=0.1, inplace=False)\n",
       "            )\n",
       "            (output): BertSelfOutput(\n",
       "              (dense): Linear(in_features=768, out_features=768, bias=True)\n",
       "              (LayerNorm): LayerNorm((768,), eps=1e-12, elementwise_affine=True)\n",
       "              (dropout): Dropout(p=0.1, inplace=False)\n",
       "            )\n",
       "          )\n",
       "          (intermediate): BertIntermediate(\n",
       "            (dense): Linear(in_features=768, out_features=3072, bias=True)\n",
       "          )\n",
       "          (output): BertOutput(\n",
       "            (dense): Linear(in_features=3072, out_features=768, bias=True)\n",
       "            (LayerNorm): LayerNorm((768,), eps=1e-12, elementwise_affine=True)\n",
       "            (dropout): Dropout(p=0.1, inplace=False)\n",
       "          )\n",
       "        )\n",
       "        (10): BertLayer(\n",
       "          (attention): BertAttention(\n",
       "            (self): BertSelfAttention(\n",
       "              (query): Linear(in_features=768, out_features=768, bias=True)\n",
       "              (key): Linear(in_features=768, out_features=768, bias=True)\n",
       "              (value): Linear(in_features=768, out_features=768, bias=True)\n",
       "              (dropout): Dropout(p=0.1, inplace=False)\n",
       "            )\n",
       "            (output): BertSelfOutput(\n",
       "              (dense): Linear(in_features=768, out_features=768, bias=True)\n",
       "              (LayerNorm): LayerNorm((768,), eps=1e-12, elementwise_affine=True)\n",
       "              (dropout): Dropout(p=0.1, inplace=False)\n",
       "            )\n",
       "          )\n",
       "          (intermediate): BertIntermediate(\n",
       "            (dense): Linear(in_features=768, out_features=3072, bias=True)\n",
       "          )\n",
       "          (output): BertOutput(\n",
       "            (dense): Linear(in_features=3072, out_features=768, bias=True)\n",
       "            (LayerNorm): LayerNorm((768,), eps=1e-12, elementwise_affine=True)\n",
       "            (dropout): Dropout(p=0.1, inplace=False)\n",
       "          )\n",
       "        )\n",
       "        (11): BertLayer(\n",
       "          (attention): BertAttention(\n",
       "            (self): BertSelfAttention(\n",
       "              (query): Linear(in_features=768, out_features=768, bias=True)\n",
       "              (key): Linear(in_features=768, out_features=768, bias=True)\n",
       "              (value): Linear(in_features=768, out_features=768, bias=True)\n",
       "              (dropout): Dropout(p=0.1, inplace=False)\n",
       "            )\n",
       "            (output): BertSelfOutput(\n",
       "              (dense): Linear(in_features=768, out_features=768, bias=True)\n",
       "              (LayerNorm): LayerNorm((768,), eps=1e-12, elementwise_affine=True)\n",
       "              (dropout): Dropout(p=0.1, inplace=False)\n",
       "            )\n",
       "          )\n",
       "          (intermediate): BertIntermediate(\n",
       "            (dense): Linear(in_features=768, out_features=3072, bias=True)\n",
       "          )\n",
       "          (output): BertOutput(\n",
       "            (dense): Linear(in_features=3072, out_features=768, bias=True)\n",
       "            (LayerNorm): LayerNorm((768,), eps=1e-12, elementwise_affine=True)\n",
       "            (dropout): Dropout(p=0.1, inplace=False)\n",
       "          )\n",
       "        )\n",
       "      )\n",
       "    )\n",
       "    (pooler): BertPooler(\n",
       "      (dense): Linear(in_features=768, out_features=768, bias=True)\n",
       "      (activation): Tanh()\n",
       "    )\n",
       "  )\n",
       "  (dropout): Dropout(p=0.1, inplace=False)\n",
       "  (classifier): Linear(in_features=768, out_features=2, bias=True)\n",
       ")"
      ]
     },
     "execution_count": 30,
     "metadata": {},
     "output_type": "execute_result"
    }
   ],
   "source": [
    "from transformers import BertForSequenceClassification, AdamW, BertConfig\n",
    "# Load BertForSequenceClassification, the pretrained BERT model with a single \n",
    "# linear classification layer on top. \n",
    "model = BertForSequenceClassification.from_pretrained(\n",
    "    \"pvl/labse_bert\", # Use the 12-layer BERT model, with an uncased vocab.\n",
    "    num_labels = 2, # The number of output labels--2 for binary classification.\n",
    "                    # You can increase this for multi-class tasks.   \n",
    "    output_attentions = False, # Whether the model returns attentions weights.\n",
    "    output_hidden_states = True, # Whether the model returns all hidden-states.\n",
    ")\n",
    "# Tell pytorch to run this model on the GPU.\n",
    "model.cuda()"
   ]
  },
  {
   "cell_type": "code",
   "execution_count": 31,
   "metadata": {
    "execution": {
     "iopub.execute_input": "2021-05-17T13:09:12.175999Z",
     "iopub.status.busy": "2021-05-17T13:09:12.173726Z",
     "iopub.status.idle": "2021-05-17T13:09:12.178975Z",
     "shell.execute_reply": "2021-05-17T13:09:12.176796Z"
    },
    "papermill": {
     "duration": 0.102248,
     "end_time": "2021-05-17T13:09:12.179076",
     "exception": false,
     "start_time": "2021-05-17T13:09:12.076828",
     "status": "completed"
    },
    "tags": []
   },
   "outputs": [
    {
     "name": "stdout",
     "output_type": "stream",
     "text": [
      "The BERT model has 201 different named parameters.\n",
      "\n",
      "==== Embedding Layer ====\n",
      "\n",
      "bert.embeddings.word_embeddings.weight                  (501153, 768)\n",
      "bert.embeddings.position_embeddings.weight                (512, 768)\n",
      "bert.embeddings.token_type_embeddings.weight                (2, 768)\n",
      "bert.embeddings.LayerNorm.weight                              (768,)\n",
      "bert.embeddings.LayerNorm.bias                                (768,)\n",
      "\n",
      "==== First Transformer ====\n",
      "\n",
      "bert.encoder.layer.0.attention.self.query.weight          (768, 768)\n",
      "bert.encoder.layer.0.attention.self.query.bias                (768,)\n",
      "bert.encoder.layer.0.attention.self.key.weight            (768, 768)\n",
      "bert.encoder.layer.0.attention.self.key.bias                  (768,)\n",
      "bert.encoder.layer.0.attention.self.value.weight          (768, 768)\n",
      "bert.encoder.layer.0.attention.self.value.bias                (768,)\n",
      "bert.encoder.layer.0.attention.output.dense.weight        (768, 768)\n",
      "bert.encoder.layer.0.attention.output.dense.bias              (768,)\n",
      "bert.encoder.layer.0.attention.output.LayerNorm.weight        (768,)\n",
      "bert.encoder.layer.0.attention.output.LayerNorm.bias          (768,)\n",
      "bert.encoder.layer.0.intermediate.dense.weight           (3072, 768)\n",
      "bert.encoder.layer.0.intermediate.dense.bias                 (3072,)\n",
      "bert.encoder.layer.0.output.dense.weight                 (768, 3072)\n",
      "bert.encoder.layer.0.output.dense.bias                        (768,)\n",
      "bert.encoder.layer.0.output.LayerNorm.weight                  (768,)\n",
      "bert.encoder.layer.0.output.LayerNorm.bias                    (768,)\n",
      "\n",
      "==== Output Layer ====\n",
      "\n",
      "bert.pooler.dense.weight                                  (768, 768)\n",
      "bert.pooler.dense.bias                                        (768,)\n",
      "classifier.weight                                           (2, 768)\n",
      "classifier.bias                                                 (2,)\n"
     ]
    }
   ],
   "source": [
    "# Get all of the model's parameters as a list of tuples.\n",
    "params = list(model.named_parameters())\n",
    "print('The BERT model has {:} different named parameters.\\n'.format(len(params)))\n",
    "print('==== Embedding Layer ====\\n')\n",
    "for p in params[0:5]:\n",
    "    print(\"{:<55} {:>12}\".format(p[0], str(tuple(p[1].size()))))\n",
    "print('\\n==== First Transformer ====\\n')\n",
    "for p in params[5:21]:\n",
    "    print(\"{:<55} {:>12}\".format(p[0], str(tuple(p[1].size()))))\n",
    "print('\\n==== Output Layer ====\\n')\n",
    "for p in params[-4:]:\n",
    "    print(\"{:<55} {:>12}\".format(p[0], str(tuple(p[1].size()))))"
   ]
  },
  {
   "cell_type": "code",
   "execution_count": 32,
   "metadata": {
    "execution": {
     "iopub.execute_input": "2021-05-17T13:09:12.304935Z",
     "iopub.status.busy": "2021-05-17T13:09:12.304392Z",
     "iopub.status.idle": "2021-05-17T13:09:12.308590Z",
     "shell.execute_reply": "2021-05-17T13:09:12.307731Z"
    },
    "papermill": {
     "duration": 0.071649,
     "end_time": "2021-05-17T13:09:12.308694",
     "exception": false,
     "start_time": "2021-05-17T13:09:12.237045",
     "status": "completed"
    },
    "tags": []
   },
   "outputs": [],
   "source": [
    "# Note: AdamW is a class from the huggingface library (as opposed to pytorch) \n",
    "# I believe the 'W' stands for 'Weight Decay fix\"\n",
    "optimizer = AdamW(model.parameters(),\n",
    "                  lr = 2e-5, # args.learning_rate - default is 5e-5, our notebook had 2e-5\n",
    "                  eps = 1e-8 # args.adam_epsilon  - default is 1e-8.\n",
    "                )\n",
    "from transformers import get_linear_schedule_with_warmup\n",
    "# Number of training epochs (authors recommend between 2 and 4)\n",
    "epochs = 2\n",
    "# Total number of training steps is number of batches * number of epochs.\n",
    "total_steps = len(train_dataloader) * epochs\n",
    "# Create the learning rate scheduler.\n",
    "scheduler = get_linear_schedule_with_warmup(optimizer, \n",
    "                                            num_warmup_steps = 0, # Default value in run_glue.py\n",
    "                                            num_training_steps = total_steps)"
   ]
  },
  {
   "cell_type": "code",
   "execution_count": 33,
   "metadata": {
    "execution": {
     "iopub.execute_input": "2021-05-17T13:09:12.433276Z",
     "iopub.status.busy": "2021-05-17T13:09:12.431502Z",
     "iopub.status.idle": "2021-05-17T13:09:12.433861Z",
     "shell.execute_reply": "2021-05-17T13:09:12.434281Z"
    },
    "papermill": {
     "duration": 0.066447,
     "end_time": "2021-05-17T13:09:12.434388",
     "exception": false,
     "start_time": "2021-05-17T13:09:12.367941",
     "status": "completed"
    },
    "tags": []
   },
   "outputs": [],
   "source": [
    "import numpy as np\n",
    "# Function to calculate the accuracy of our predictions vs labels\n",
    "def flat_accuracy(preds, labels):\n",
    "    pred_flat = np.argmax(preds, axis=1).flatten()\n",
    "    labels_flat = labels.flatten()\n",
    "    return np.sum(pred_flat == labels_flat) / len(labels_flat)"
   ]
  },
  {
   "cell_type": "code",
   "execution_count": 34,
   "metadata": {
    "execution": {
     "iopub.execute_input": "2021-05-17T13:09:12.555823Z",
     "iopub.status.busy": "2021-05-17T13:09:12.555296Z",
     "iopub.status.idle": "2021-05-17T13:09:12.559365Z",
     "shell.execute_reply": "2021-05-17T13:09:12.558902Z"
    },
    "papermill": {
     "duration": 0.067013,
     "end_time": "2021-05-17T13:09:12.559451",
     "exception": false,
     "start_time": "2021-05-17T13:09:12.492438",
     "status": "completed"
    },
    "tags": []
   },
   "outputs": [],
   "source": [
    "import time\n",
    "import datetime\n",
    "def format_time(elapsed):\n",
    "    '''\n",
    "    Takes a time in seconds and returns a string hh:mm:ss\n",
    "    '''\n",
    "    # Round to the nearest second.\n",
    "    elapsed_rounded = int(round((elapsed)))\n",
    "    \n",
    "    # Format as hh:mm:ss\n",
    "    return str(datetime.timedelta(seconds=elapsed_rounded))"
   ]
  },
  {
   "cell_type": "markdown",
   "metadata": {
    "papermill": {
     "duration": 0.059056,
     "end_time": "2021-05-17T13:09:12.676945",
     "exception": false,
     "start_time": "2021-05-17T13:09:12.617889",
     "status": "completed"
    },
    "tags": []
   },
   "source": [
    "### Train Model"
   ]
  },
  {
   "cell_type": "code",
   "execution_count": 35,
   "metadata": {
    "execution": {
     "iopub.execute_input": "2021-05-17T13:09:12.798737Z",
     "iopub.status.busy": "2021-05-17T13:09:12.797864Z",
     "iopub.status.idle": "2021-05-17T13:18:51.941130Z",
     "shell.execute_reply": "2021-05-17T13:18:51.941596Z"
    },
    "papermill": {
     "duration": 579.20616,
     "end_time": "2021-05-17T13:18:51.941737",
     "exception": false,
     "start_time": "2021-05-17T13:09:12.735577",
     "status": "completed"
    },
    "tags": []
   },
   "outputs": [
    {
     "name": "stdout",
     "output_type": "stream",
     "text": [
      "\n",
      "======== Epoch 1 / 2 ========\n",
      "Training...\n",
      "  Batch    40  of    551.    Elapsed: 0:00:18.\n",
      "  Batch    80  of    551.    Elapsed: 0:00:36.\n",
      "  Batch   120  of    551.    Elapsed: 0:00:54.\n",
      "  Batch   160  of    551.    Elapsed: 0:01:11.\n",
      "  Batch   200  of    551.    Elapsed: 0:01:29.\n",
      "  Batch   240  of    551.    Elapsed: 0:01:46.\n",
      "  Batch   280  of    551.    Elapsed: 0:02:04.\n",
      "  Batch   320  of    551.    Elapsed: 0:02:22.\n",
      "  Batch   360  of    551.    Elapsed: 0:02:39.\n",
      "  Batch   400  of    551.    Elapsed: 0:02:57.\n",
      "  Batch   440  of    551.    Elapsed: 0:03:14.\n",
      "  Batch   480  of    551.    Elapsed: 0:03:32.\n",
      "  Batch   520  of    551.    Elapsed: 0:03:50.\n",
      "\n",
      "  Average training loss: 0.54\n",
      "  Training epcoh took: 0:04:03\n",
      "\n",
      "Running Validation...\n",
      "  Accuracy: 0.48\n",
      "  Average validation loss: 0.93\n",
      "  Validation took: 0:00:47\n",
      "\n",
      "======== Epoch 2 / 2 ========\n",
      "Training...\n",
      "  Batch    40  of    551.    Elapsed: 0:00:18.\n",
      "  Batch    80  of    551.    Elapsed: 0:00:35.\n",
      "  Batch   120  of    551.    Elapsed: 0:00:53.\n",
      "  Batch   160  of    551.    Elapsed: 0:01:10.\n",
      "  Batch   200  of    551.    Elapsed: 0:01:28.\n",
      "  Batch   240  of    551.    Elapsed: 0:01:46.\n",
      "  Batch   280  of    551.    Elapsed: 0:02:03.\n",
      "  Batch   320  of    551.    Elapsed: 0:02:21.\n",
      "  Batch   360  of    551.    Elapsed: 0:02:39.\n",
      "  Batch   400  of    551.    Elapsed: 0:02:56.\n",
      "  Batch   440  of    551.    Elapsed: 0:03:14.\n",
      "  Batch   480  of    551.    Elapsed: 0:03:31.\n",
      "  Batch   520  of    551.    Elapsed: 0:03:49.\n",
      "\n",
      "  Average training loss: 0.38\n",
      "  Training epcoh took: 0:04:02\n",
      "\n",
      "Running Validation...\n",
      "  Accuracy: 0.48\n",
      "  Average validation loss: 1.09\n",
      "  Validation took: 0:00:47\n",
      "\n",
      "Training complete!\n"
     ]
    }
   ],
   "source": [
    "import random\n",
    "# This training code is based on the `run_glue.py` script here:\n",
    "# https://github.com/huggingface/transformers/blob/5bfcd0485ece086ebcbed2d008813037968a9e58/examples/run_glue.py#L128\n",
    "# Set the seed value all over the place to make this reproducible.\n",
    "seed_val = 42\n",
    "random.seed(seed_val)\n",
    "np.random.seed(seed_val)\n",
    "torch.manual_seed(seed_val)\n",
    "torch.cuda.manual_seed_all(seed_val)\n",
    "# Store the average loss after each epoch so we can plot them.\n",
    "loss_values = []\n",
    "loss_values_valid = []\n",
    "#embeddings_tr, embeddings_vl = [], []\n",
    "train_predictions, valid_predictions = [], []\n",
    "train_true_labels, valid_true_labels = [], []\n",
    "# Store the hidden states for embedding extraction\n",
    "\n",
    "# For each epoch...\n",
    "for epoch_i in range(0, epochs):\n",
    "    \n",
    "    # ========================================\n",
    "    #               Training\n",
    "    # ========================================\n",
    "    \n",
    "    # Perform one full pass over the training set.\n",
    "    print(\"\")\n",
    "    print('======== Epoch {:} / {:} ========'.format(epoch_i + 1, epochs))\n",
    "    print('Training...')\n",
    "    # Measure how long the training epoch takes.\n",
    "    t0 = time.time()\n",
    "    # Reset the total loss for this epoch.\n",
    "    total_loss = 0\n",
    "    # Put the model into training mode. Don't be mislead--the call to \n",
    "    # `train` just changes the *mode*, it doesn't *perform* the training.\n",
    "    # `dropout` and `batchnorm` layers behave differently during training\n",
    "    # vs. test (source: https://stackoverflow.com/questions/51433378/what-does-model-train-do-in-pytorch)\n",
    "    model.train()\n",
    "    # For each batch of training data...\n",
    "    for step, batch in enumerate(train_dataloader):\n",
    "        # Progress update every 40 batches.\n",
    "        if step % 40 == 0 and not step == 0:\n",
    "            # Calculate elapsed time in minutes.\n",
    "            elapsed = format_time(time.time() - t0)\n",
    "            \n",
    "            # Report progress.\n",
    "            print('  Batch {:>5,}  of  {:>5,}.    Elapsed: {:}.'.format(step, len(train_dataloader), elapsed))\n",
    "        # Unpack this training batch from our dataloader. \n",
    "        #\n",
    "        # As we unpack the batch, we'll also copy each tensor to the GPU using the \n",
    "        # `to` method.\n",
    "        #\n",
    "        # `batch` contains three pytorch tensors:\n",
    "        #   [0]: input ids \n",
    "        #   [1]: attention masks\n",
    "        #   [2]: labels \n",
    "        b_input_ids = batch[0].to(device)\n",
    "        b_input_mask = batch[1].to(device)\n",
    "        b_labels = batch[2].to(device)\n",
    "        # Always clear any previously calculated gradients before performing a\n",
    "        # backward pass. PyTorch doesn't do this automatically because \n",
    "        # accumulating the gradients is \"convenient while training RNNs\". \n",
    "        # (source: https://stackoverflow.com/questions/48001598/why-do-we-need-to-call-zero-grad-in-pytorch)\n",
    "        model.zero_grad()        \n",
    "        # Perform a forward pass (evaluate the model on this training batch).\n",
    "        # This will return the loss (rather than the model output) because we\n",
    "        # have provided the `labels`.\n",
    "        # The documentation for this `model` function is here: \n",
    "        # https://huggingface.co/transformers/v2.2.0/model_doc/bert.html#transformers.BertForSequenceClassification\n",
    "        outputs_a = model(b_input_ids, \n",
    "                    token_type_ids=None, \n",
    "                    attention_mask=b_input_mask, \n",
    "                    labels=b_labels)\n",
    "        \n",
    "        # The call to `model` always returns a tuple, so we need to pull the \n",
    "        # loss value out of the tuple.\n",
    "        loss = outputs_a[0]\n",
    "        logits_tr = outputs_a[1]\n",
    "        #hidden_state_tr = outputs_a[2]\n",
    "        #features = hidden_state_tr[0][:,0,:].detach().cpu().numpy()\n",
    "        #embeddings_tr.append([epoch_i,batch[3], features]) # FIX AS NO BACKPROP WEIGHT ADJUSTED\n",
    "        # Accumulate the training loss over all of the batches so that we can\n",
    "        # calculate the average loss at the end. `loss` is a Tensor containing a\n",
    "        # single value; the `.item()` function just returns the Python value \n",
    "        # from the tensor.\n",
    "        # Move logits, hidden states, and labels to CPU\n",
    "        logits_tr = logits_tr.detach().cpu().numpy()\n",
    "        label_ids = b_labels.to('cpu').numpy()\n",
    "        #train_predictions.append([epoch_i,logits_tr])\n",
    "        #train_true_labels.append([epoch_i,label_ids])\n",
    "\n",
    "        total_loss += loss.item()\n",
    "        # Perform a backward pass to calculate the gradients.\n",
    "        loss.backward()\n",
    "        # Clip the norm of the gradients to 1.0.\n",
    "        # This is to help prevent the \"exploding gradients\" problem.\n",
    "        torch.nn.utils.clip_grad_norm_(model.parameters(), 1.0)\n",
    "        # Update parameters and take a step using the computed gradient.\n",
    "        # The optimizer dictates the \"update rule\"--how the parameters are\n",
    "        # modified based on their gradients, the learning rate, etc.\n",
    "        optimizer.step()\n",
    "        # Update the learning rate.\n",
    "        scheduler.step()\n",
    "    # Calculate the average loss over the training data.\n",
    "    avg_train_loss = total_loss / len(train_dataloader)            \n",
    "\n",
    "    # Store the loss value for plotting the learning curve.\n",
    "    loss_values.append(avg_train_loss)\n",
    "    print(\"\")\n",
    "    print(\"  Average training loss: {0:.2f}\".format(avg_train_loss))\n",
    "    print(\"  Training epcoh took: {:}\".format(format_time(time.time() - t0)))\n",
    "    \n",
    "    # ========================================\n",
    "    #               Validation\n",
    "    # ========================================\n",
    "    # After the completion of each training epoch, measure our performance on\n",
    "    # our validation set.\n",
    "    print(\"\")\n",
    "    print(\"Running Validation...\")\n",
    "    t0 = time.time()\n",
    "    # Put the model in evaluation mode--the dropout layers behave differently\n",
    "    # during evaluation.\n",
    "    model.eval()\n",
    "    # Tracking variables \n",
    "    eval_loss, eval_accuracy = 0, 0\n",
    "    nb_eval_steps, nb_eval_examples = 0, 0\n",
    "    # Evaluate data for one epoch\n",
    "    for batch in validation_dataloader:\n",
    "        \n",
    "        # Add batch to GPU\n",
    "        b_input_ids = batch[0].to(device)\n",
    "        b_input_mask = batch[1].to(device)\n",
    "        b_labels = batch[2].to(device)\n",
    "        \n",
    "        # Telling the model not to compute or store gradients, saving memory and\n",
    "        # speeding up validation\n",
    "        with torch.no_grad():        \n",
    "            # Forward pass, calculate logit predictions.\n",
    "            # This will return the logits rather than the loss because we have\n",
    "            # not provided labels.\n",
    "            # token_type_ids is the same as the \"segment ids\", which \n",
    "            # differentiates sentence 1 and 2 in 2-sentence tasks.\n",
    "            # The documentation for this `model` function is here: \n",
    "            # https://huggingface.co/transformers/v2.2.0/model_doc/bert.html#transformers.BertForSequenceClassification\n",
    "            outputs = model(b_input_ids, \n",
    "                            token_type_ids=None, \n",
    "                            attention_mask=b_input_mask,\n",
    "                            labels=b_labels)\n",
    "        \n",
    "        # Get the \"logits\" output by the model. The \"logits\" are the output\n",
    "        # values prior to applying an activation function like the softmax.\n",
    "        loss = outputs[0]\n",
    "        logits = outputs[1]\n",
    "        #hidden_state_vl = outputs[2]\n",
    "        #features = hidden_state_vl[0][:,0,:].detach().cpu().numpy()\n",
    "        #embeddings_vl.append([epoch_i,batch[3], features])\n",
    "        \n",
    "        # Track Loss\n",
    "        eval_loss += loss.item()\n",
    "\n",
    "        # Move logits, hidden states, and labels to CPU\n",
    "        logits = logits.detach().cpu().numpy()\n",
    "        #hidden_state_vl = hidden_state_vl.detach().cpu().numpy()\n",
    "        label_ids = b_labels.to('cpu').numpy()\n",
    "\n",
    "        valid_predictions.append([epoch_i,logits])\n",
    "        valid_true_labels.append([epoch_i,label_ids])\n",
    "        \n",
    "        # Calculate the accuracy for this batch of test sentences.\n",
    "        tmp_eval_accuracy = flat_accuracy(logits, label_ids)\n",
    "        \n",
    "        # Accumulate the total accuracy.\n",
    "        eval_accuracy += tmp_eval_accuracy\n",
    "        # Track the number of batches\n",
    "        nb_eval_steps += 1\n",
    "    \n",
    "    # Calculate the average loss over the training data.\n",
    "    avg_valid_loss = eval_loss / len(validation_dataloader)   \n",
    "\n",
    "    # Report the final accuracy for this validation run.\n",
    "    loss_values_valid.append(avg_valid_loss)\n",
    "    print(\"  Accuracy: {0:.2f}\".format(eval_accuracy/nb_eval_steps))\n",
    "    print(\"  Average validation loss: {0:.2f}\".format(avg_valid_loss))\n",
    "    print(\"  Validation took: {:}\".format(format_time(time.time() - t0)))\n",
    "    \n",
    "print(\"\")\n",
    "print(\"Training complete!\")        "
   ]
  },
  {
   "cell_type": "markdown",
   "metadata": {
    "papermill": {
     "duration": 0.066908,
     "end_time": "2021-05-17T13:18:52.077979",
     "exception": false,
     "start_time": "2021-05-17T13:18:52.011071",
     "status": "completed"
    },
    "tags": []
   },
   "source": [
    "### Plot Training and Validation Loss"
   ]
  },
  {
   "cell_type": "code",
   "execution_count": 36,
   "metadata": {
    "execution": {
     "iopub.execute_input": "2021-05-17T13:18:52.228375Z",
     "iopub.status.busy": "2021-05-17T13:18:52.227589Z",
     "iopub.status.idle": "2021-05-17T13:18:52.231209Z",
     "shell.execute_reply": "2021-05-17T13:18:52.230800Z"
    },
    "papermill": {
     "duration": 0.086557,
     "end_time": "2021-05-17T13:18:52.231301",
     "exception": false,
     "start_time": "2021-05-17T13:18:52.144744",
     "status": "completed"
    },
    "tags": []
   },
   "outputs": [
    {
     "data": {
      "text/html": [
       "<div>\n",
       "<style scoped>\n",
       "    .dataframe tbody tr th:only-of-type {\n",
       "        vertical-align: middle;\n",
       "    }\n",
       "\n",
       "    .dataframe tbody tr th {\n",
       "        vertical-align: top;\n",
       "    }\n",
       "\n",
       "    .dataframe thead th {\n",
       "        text-align: right;\n",
       "    }\n",
       "</style>\n",
       "<table border=\"1\" class=\"dataframe\">\n",
       "  <thead>\n",
       "    <tr style=\"text-align: right;\">\n",
       "      <th></th>\n",
       "      <th>epoch</th>\n",
       "      <th>variable</th>\n",
       "      <th>value</th>\n",
       "    </tr>\n",
       "  </thead>\n",
       "  <tbody>\n",
       "    <tr>\n",
       "      <th>0</th>\n",
       "      <td>0</td>\n",
       "      <td>Train Loss</td>\n",
       "      <td>0.535952</td>\n",
       "    </tr>\n",
       "    <tr>\n",
       "      <th>1</th>\n",
       "      <td>1</td>\n",
       "      <td>Train Loss</td>\n",
       "      <td>0.383036</td>\n",
       "    </tr>\n",
       "    <tr>\n",
       "      <th>2</th>\n",
       "      <td>0</td>\n",
       "      <td>Valid Loss</td>\n",
       "      <td>0.925872</td>\n",
       "    </tr>\n",
       "    <tr>\n",
       "      <th>3</th>\n",
       "      <td>1</td>\n",
       "      <td>Valid Loss</td>\n",
       "      <td>1.092061</td>\n",
       "    </tr>\n",
       "  </tbody>\n",
       "</table>\n",
       "</div>"
      ],
      "text/plain": [
       "   epoch    variable     value\n",
       "0      0  Train Loss  0.535952\n",
       "1      1  Train Loss  0.383036\n",
       "2      0  Valid Loss  0.925872\n",
       "3      1  Valid Loss  1.092061"
      ]
     },
     "execution_count": 36,
     "metadata": {},
     "output_type": "execute_result"
    }
   ],
   "source": [
    "df= pd.DataFrame({'epoch': range(0, epochs), 'Train Loss': loss_values, 'Valid Loss': loss_values_valid})\n",
    "df = pd.melt(df, id_vars=['epoch'], value_vars=['Train Loss', 'Valid Loss'])\n",
    "df"
   ]
  },
  {
   "cell_type": "code",
   "execution_count": 37,
   "metadata": {
    "execution": {
     "iopub.execute_input": "2021-05-17T13:18:52.372296Z",
     "iopub.status.busy": "2021-05-17T13:18:52.371629Z",
     "iopub.status.idle": "2021-05-17T13:18:54.570469Z",
     "shell.execute_reply": "2021-05-17T13:18:54.569342Z"
    },
    "papermill": {
     "duration": 2.271449,
     "end_time": "2021-05-17T13:18:54.570575",
     "exception": false,
     "start_time": "2021-05-17T13:18:52.299126",
     "status": "completed"
    },
    "tags": []
   },
   "outputs": [
    {
     "data": {
      "text/html": [
       "        <script type=\"text/javascript\">\n",
       "        window.PlotlyConfig = {MathJaxConfig: 'local'};\n",
       "        if (window.MathJax) {MathJax.Hub.Config({SVG: {font: \"STIX-Web\"}});}\n",
       "        if (typeof require !== 'undefined') {\n",
       "        require.undef(\"plotly\");\n",
       "        requirejs.config({\n",
       "            paths: {\n",
       "                'plotly': ['https://cdn.plot.ly/plotly-latest.min']\n",
       "            }\n",
       "        });\n",
       "        require(['plotly'], function(Plotly) {\n",
       "            window._Plotly = Plotly;\n",
       "        });\n",
       "        }\n",
       "        </script>\n",
       "        "
      ]
     },
     "metadata": {},
     "output_type": "display_data"
    },
    {
     "data": {
      "text/html": [
       "<div>                            <div id=\"a056bcb5-ba31-40d2-a242-0a8cba0693b7\" class=\"plotly-graph-div\" style=\"height:525px; width:100%;\"></div>            <script type=\"text/javascript\">                require([\"plotly\"], function(Plotly) {                    window.PLOTLYENV=window.PLOTLYENV || {};                                    if (document.getElementById(\"a056bcb5-ba31-40d2-a242-0a8cba0693b7\")) {                    Plotly.newPlot(                        \"a056bcb5-ba31-40d2-a242-0a8cba0693b7\",                        [{\"hovertemplate\": \"variable=Train Loss<br>epoch=%{x}<br>value=%{y}<extra></extra>\", \"legendgroup\": \"Train Loss\", \"line\": {\"color\": \"#636efa\", \"dash\": \"solid\"}, \"mode\": \"lines\", \"name\": \"Train Loss\", \"orientation\": \"v\", \"showlegend\": true, \"type\": \"scatter\", \"x\": [0, 1], \"xaxis\": \"x\", \"y\": [0.5359520506783103, 0.3830362068871188], \"yaxis\": \"y\"}, {\"hovertemplate\": \"variable=Valid Loss<br>epoch=%{x}<br>value=%{y}<extra></extra>\", \"legendgroup\": \"Valid Loss\", \"line\": {\"color\": \"#EF553B\", \"dash\": \"solid\"}, \"mode\": \"lines\", \"name\": \"Valid Loss\", \"orientation\": \"v\", \"showlegend\": true, \"type\": \"scatter\", \"x\": [0, 1], \"xaxis\": \"x\", \"y\": [0.9258724646930842, 1.0920609816447975], \"yaxis\": \"y\"}],                        {\"legend\": {\"title\": {\"text\": \"variable\"}, \"tracegroupgap\": 0}, \"margin\": {\"t\": 60}, \"template\": {\"data\": {\"bar\": [{\"error_x\": {\"color\": \"#2a3f5f\"}, \"error_y\": {\"color\": \"#2a3f5f\"}, \"marker\": {\"line\": {\"color\": \"#E5ECF6\", \"width\": 0.5}}, \"type\": \"bar\"}], \"barpolar\": [{\"marker\": {\"line\": {\"color\": \"#E5ECF6\", \"width\": 0.5}}, \"type\": \"barpolar\"}], \"carpet\": [{\"aaxis\": {\"endlinecolor\": \"#2a3f5f\", \"gridcolor\": \"white\", \"linecolor\": \"white\", \"minorgridcolor\": \"white\", \"startlinecolor\": \"#2a3f5f\"}, \"baxis\": {\"endlinecolor\": \"#2a3f5f\", \"gridcolor\": \"white\", \"linecolor\": \"white\", \"minorgridcolor\": \"white\", \"startlinecolor\": \"#2a3f5f\"}, \"type\": \"carpet\"}], \"choropleth\": [{\"colorbar\": {\"outlinewidth\": 0, \"ticks\": \"\"}, \"type\": \"choropleth\"}], \"contour\": [{\"colorbar\": {\"outlinewidth\": 0, \"ticks\": \"\"}, \"colorscale\": [[0.0, \"#0d0887\"], [0.1111111111111111, \"#46039f\"], [0.2222222222222222, \"#7201a8\"], [0.3333333333333333, \"#9c179e\"], [0.4444444444444444, \"#bd3786\"], [0.5555555555555556, \"#d8576b\"], [0.6666666666666666, \"#ed7953\"], [0.7777777777777778, \"#fb9f3a\"], [0.8888888888888888, \"#fdca26\"], [1.0, \"#f0f921\"]], \"type\": \"contour\"}], \"contourcarpet\": [{\"colorbar\": {\"outlinewidth\": 0, \"ticks\": \"\"}, \"type\": \"contourcarpet\"}], \"heatmap\": [{\"colorbar\": {\"outlinewidth\": 0, \"ticks\": \"\"}, \"colorscale\": [[0.0, \"#0d0887\"], [0.1111111111111111, \"#46039f\"], [0.2222222222222222, \"#7201a8\"], [0.3333333333333333, \"#9c179e\"], [0.4444444444444444, \"#bd3786\"], [0.5555555555555556, \"#d8576b\"], [0.6666666666666666, \"#ed7953\"], [0.7777777777777778, \"#fb9f3a\"], [0.8888888888888888, \"#fdca26\"], [1.0, \"#f0f921\"]], \"type\": \"heatmap\"}], \"heatmapgl\": [{\"colorbar\": {\"outlinewidth\": 0, \"ticks\": \"\"}, \"colorscale\": [[0.0, \"#0d0887\"], [0.1111111111111111, \"#46039f\"], [0.2222222222222222, \"#7201a8\"], [0.3333333333333333, \"#9c179e\"], [0.4444444444444444, \"#bd3786\"], [0.5555555555555556, \"#d8576b\"], [0.6666666666666666, \"#ed7953\"], [0.7777777777777778, \"#fb9f3a\"], [0.8888888888888888, \"#fdca26\"], [1.0, \"#f0f921\"]], \"type\": \"heatmapgl\"}], \"histogram\": [{\"marker\": {\"colorbar\": {\"outlinewidth\": 0, \"ticks\": \"\"}}, \"type\": \"histogram\"}], \"histogram2d\": [{\"colorbar\": {\"outlinewidth\": 0, \"ticks\": \"\"}, \"colorscale\": [[0.0, \"#0d0887\"], [0.1111111111111111, \"#46039f\"], [0.2222222222222222, \"#7201a8\"], [0.3333333333333333, \"#9c179e\"], [0.4444444444444444, \"#bd3786\"], [0.5555555555555556, \"#d8576b\"], [0.6666666666666666, \"#ed7953\"], [0.7777777777777778, \"#fb9f3a\"], [0.8888888888888888, \"#fdca26\"], [1.0, \"#f0f921\"]], \"type\": \"histogram2d\"}], \"histogram2dcontour\": [{\"colorbar\": {\"outlinewidth\": 0, \"ticks\": \"\"}, \"colorscale\": [[0.0, \"#0d0887\"], [0.1111111111111111, \"#46039f\"], [0.2222222222222222, \"#7201a8\"], [0.3333333333333333, \"#9c179e\"], [0.4444444444444444, \"#bd3786\"], [0.5555555555555556, \"#d8576b\"], [0.6666666666666666, \"#ed7953\"], [0.7777777777777778, \"#fb9f3a\"], [0.8888888888888888, \"#fdca26\"], [1.0, \"#f0f921\"]], \"type\": \"histogram2dcontour\"}], \"mesh3d\": [{\"colorbar\": {\"outlinewidth\": 0, \"ticks\": \"\"}, \"type\": \"mesh3d\"}], \"parcoords\": [{\"line\": {\"colorbar\": {\"outlinewidth\": 0, \"ticks\": \"\"}}, \"type\": \"parcoords\"}], \"pie\": [{\"automargin\": true, \"type\": \"pie\"}], \"scatter\": [{\"marker\": {\"colorbar\": {\"outlinewidth\": 0, \"ticks\": \"\"}}, \"type\": \"scatter\"}], \"scatter3d\": [{\"line\": {\"colorbar\": {\"outlinewidth\": 0, \"ticks\": \"\"}}, \"marker\": {\"colorbar\": {\"outlinewidth\": 0, \"ticks\": \"\"}}, \"type\": \"scatter3d\"}], \"scattercarpet\": [{\"marker\": {\"colorbar\": {\"outlinewidth\": 0, \"ticks\": \"\"}}, \"type\": \"scattercarpet\"}], \"scattergeo\": [{\"marker\": {\"colorbar\": {\"outlinewidth\": 0, \"ticks\": \"\"}}, \"type\": \"scattergeo\"}], \"scattergl\": [{\"marker\": {\"colorbar\": {\"outlinewidth\": 0, \"ticks\": \"\"}}, \"type\": \"scattergl\"}], \"scattermapbox\": [{\"marker\": {\"colorbar\": {\"outlinewidth\": 0, \"ticks\": \"\"}}, \"type\": \"scattermapbox\"}], \"scatterpolar\": [{\"marker\": {\"colorbar\": {\"outlinewidth\": 0, \"ticks\": \"\"}}, \"type\": \"scatterpolar\"}], \"scatterpolargl\": [{\"marker\": {\"colorbar\": {\"outlinewidth\": 0, \"ticks\": \"\"}}, \"type\": \"scatterpolargl\"}], \"scatterternary\": [{\"marker\": {\"colorbar\": {\"outlinewidth\": 0, \"ticks\": \"\"}}, \"type\": \"scatterternary\"}], \"surface\": [{\"colorbar\": {\"outlinewidth\": 0, \"ticks\": \"\"}, \"colorscale\": [[0.0, \"#0d0887\"], [0.1111111111111111, \"#46039f\"], [0.2222222222222222, \"#7201a8\"], [0.3333333333333333, \"#9c179e\"], [0.4444444444444444, \"#bd3786\"], [0.5555555555555556, \"#d8576b\"], [0.6666666666666666, \"#ed7953\"], [0.7777777777777778, \"#fb9f3a\"], [0.8888888888888888, \"#fdca26\"], [1.0, \"#f0f921\"]], \"type\": \"surface\"}], \"table\": [{\"cells\": {\"fill\": {\"color\": \"#EBF0F8\"}, \"line\": {\"color\": \"white\"}}, \"header\": {\"fill\": {\"color\": \"#C8D4E3\"}, \"line\": {\"color\": \"white\"}}, \"type\": \"table\"}]}, \"layout\": {\"annotationdefaults\": {\"arrowcolor\": \"#2a3f5f\", \"arrowhead\": 0, \"arrowwidth\": 1}, \"autotypenumbers\": \"strict\", \"coloraxis\": {\"colorbar\": {\"outlinewidth\": 0, \"ticks\": \"\"}}, \"colorscale\": {\"diverging\": [[0, \"#8e0152\"], [0.1, \"#c51b7d\"], [0.2, \"#de77ae\"], [0.3, \"#f1b6da\"], [0.4, \"#fde0ef\"], [0.5, \"#f7f7f7\"], [0.6, \"#e6f5d0\"], [0.7, \"#b8e186\"], [0.8, \"#7fbc41\"], [0.9, \"#4d9221\"], [1, \"#276419\"]], \"sequential\": [[0.0, \"#0d0887\"], [0.1111111111111111, \"#46039f\"], [0.2222222222222222, \"#7201a8\"], [0.3333333333333333, \"#9c179e\"], [0.4444444444444444, \"#bd3786\"], [0.5555555555555556, \"#d8576b\"], [0.6666666666666666, \"#ed7953\"], [0.7777777777777778, \"#fb9f3a\"], [0.8888888888888888, \"#fdca26\"], [1.0, \"#f0f921\"]], \"sequentialminus\": [[0.0, \"#0d0887\"], [0.1111111111111111, \"#46039f\"], [0.2222222222222222, \"#7201a8\"], [0.3333333333333333, \"#9c179e\"], [0.4444444444444444, \"#bd3786\"], [0.5555555555555556, \"#d8576b\"], [0.6666666666666666, \"#ed7953\"], [0.7777777777777778, \"#fb9f3a\"], [0.8888888888888888, \"#fdca26\"], [1.0, \"#f0f921\"]]}, \"colorway\": [\"#636efa\", \"#EF553B\", \"#00cc96\", \"#ab63fa\", \"#FFA15A\", \"#19d3f3\", \"#FF6692\", \"#B6E880\", \"#FF97FF\", \"#FECB52\"], \"font\": {\"color\": \"#2a3f5f\"}, \"geo\": {\"bgcolor\": \"white\", \"lakecolor\": \"white\", \"landcolor\": \"#E5ECF6\", \"showlakes\": true, \"showland\": true, \"subunitcolor\": \"white\"}, \"hoverlabel\": {\"align\": \"left\"}, \"hovermode\": \"closest\", \"mapbox\": {\"style\": \"light\"}, \"paper_bgcolor\": \"white\", \"plot_bgcolor\": \"#E5ECF6\", \"polar\": {\"angularaxis\": {\"gridcolor\": \"white\", \"linecolor\": \"white\", \"ticks\": \"\"}, \"bgcolor\": \"#E5ECF6\", \"radialaxis\": {\"gridcolor\": \"white\", \"linecolor\": \"white\", \"ticks\": \"\"}}, \"scene\": {\"xaxis\": {\"backgroundcolor\": \"#E5ECF6\", \"gridcolor\": \"white\", \"gridwidth\": 2, \"linecolor\": \"white\", \"showbackground\": true, \"ticks\": \"\", \"zerolinecolor\": \"white\"}, \"yaxis\": {\"backgroundcolor\": \"#E5ECF6\", \"gridcolor\": \"white\", \"gridwidth\": 2, \"linecolor\": \"white\", \"showbackground\": true, \"ticks\": \"\", \"zerolinecolor\": \"white\"}, \"zaxis\": {\"backgroundcolor\": \"#E5ECF6\", \"gridcolor\": \"white\", \"gridwidth\": 2, \"linecolor\": \"white\", \"showbackground\": true, \"ticks\": \"\", \"zerolinecolor\": \"white\"}}, \"shapedefaults\": {\"line\": {\"color\": \"#2a3f5f\"}}, \"ternary\": {\"aaxis\": {\"gridcolor\": \"white\", \"linecolor\": \"white\", \"ticks\": \"\"}, \"baxis\": {\"gridcolor\": \"white\", \"linecolor\": \"white\", \"ticks\": \"\"}, \"bgcolor\": \"#E5ECF6\", \"caxis\": {\"gridcolor\": \"white\", \"linecolor\": \"white\", \"ticks\": \"\"}}, \"title\": {\"x\": 0.05}, \"xaxis\": {\"automargin\": true, \"gridcolor\": \"white\", \"linecolor\": \"white\", \"ticks\": \"\", \"title\": {\"standoff\": 15}, \"zerolinecolor\": \"white\", \"zerolinewidth\": 2}, \"yaxis\": {\"automargin\": true, \"gridcolor\": \"white\", \"linecolor\": \"white\", \"ticks\": \"\", \"title\": {\"standoff\": 15}, \"zerolinecolor\": \"white\", \"zerolinewidth\": 2}}}, \"title\": {\"text\": \"Training loss of the Model\"}, \"xaxis\": {\"anchor\": \"y\", \"domain\": [0.0, 1.0], \"title\": {\"text\": \"Epoch\"}}, \"yaxis\": {\"anchor\": \"x\", \"domain\": [0.0, 1.0], \"title\": {\"text\": \"Loss\"}}},                        {\"responsive\": true}                    ).then(function(){\n",
       "                            \n",
       "var gd = document.getElementById('a056bcb5-ba31-40d2-a242-0a8cba0693b7');\n",
       "var x = new MutationObserver(function (mutations, observer) {{\n",
       "        var display = window.getComputedStyle(gd).display;\n",
       "        if (!display || display === 'none') {{\n",
       "            console.log([gd, 'removed!']);\n",
       "            Plotly.purge(gd);\n",
       "            observer.disconnect();\n",
       "        }}\n",
       "}});\n",
       "\n",
       "// Listen for the removal of the full notebook cells\n",
       "var notebookContainer = gd.closest('#notebook-container');\n",
       "if (notebookContainer) {{\n",
       "    x.observe(notebookContainer, {childList: true});\n",
       "}}\n",
       "\n",
       "// Listen for the clearing of the current output cell\n",
       "var outputEl = gd.closest('.output');\n",
       "if (outputEl) {{\n",
       "    x.observe(outputEl, {childList: true});\n",
       "}}\n",
       "\n",
       "                        })                };                });            </script>        </div>"
      ]
     },
     "metadata": {},
     "output_type": "display_data"
    }
   ],
   "source": [
    "import plotly.express as px\n",
    "\n",
    "fig = px.line(df, x='epoch', y='value', color = 'variable')\n",
    "fig.update_layout(title='Training loss of the Model',\n",
    "                   xaxis_title='Epoch',\n",
    "                   yaxis_title='Loss')\n",
    "fig.show()"
   ]
  },
  {
   "cell_type": "markdown",
   "metadata": {
    "papermill": {
     "duration": 0.112856,
     "end_time": "2021-05-17T13:18:54.793775",
     "exception": false,
     "start_time": "2021-05-17T13:18:54.680919",
     "status": "completed"
    },
    "tags": []
   },
   "source": [
    "### Extract embeddings"
   ]
  },
  {
   "cell_type": "code",
   "execution_count": 38,
   "metadata": {
    "execution": {
     "iopub.execute_input": "2021-05-17T13:18:55.032050Z",
     "iopub.status.busy": "2021-05-17T13:18:55.030833Z",
     "iopub.status.idle": "2021-05-17T13:20:49.174338Z",
     "shell.execute_reply": "2021-05-17T13:20:49.173598Z"
    },
    "papermill": {
     "duration": 114.267392,
     "end_time": "2021-05-17T13:20:49.174463",
     "exception": false,
     "start_time": "2021-05-17T13:18:54.907071",
     "status": "completed"
    },
    "tags": []
   },
   "outputs": [
    {
     "name": "stdout",
     "output_type": "stream",
     "text": [
      "Extracting embeddinga for 17,615 train sentences...\n",
      "Extracting embeddinga for 12,410 validation sentences...\n"
     ]
    }
   ],
   "source": [
    "embeddings_tr, embeddings_vl = [], []\n",
    "# ========================================\n",
    "#               Train\n",
    "# ========================================\n",
    "# Extract embeddinga on train set\n",
    "print('Extracting embeddinga for {:,} train sentences...'.format(len(train_inputs)))\n",
    "# Put model in evaluation mode\n",
    "model.eval()\n",
    "# Tracking variables \n",
    "predictions_train , true_labels_train = [], []\n",
    "# Predict \n",
    "for batch in train_dataloader_sequential:\n",
    "    b_input_ids = batch[0].to(device)\n",
    "    b_input_mask = batch[1].to(device)\n",
    "    b_labels = batch[2].to(device)\n",
    "  \n",
    "  # Telling the model not to compute or store gradients, saving memory and \n",
    "  # speeding up prediction\n",
    "    with torch.no_grad():\n",
    "        # Forward pass, calculate logit predictions\n",
    "        outputs = model(b_input_ids, token_type_ids=None, \n",
    "                      attention_mask=b_input_mask, labels=b_labels)\n",
    "    logits = outputs[1]\n",
    "    # Embeddings extraction approach is to average the second to last hiden layer of each token producing a single 768 length vector\n",
    "    # https://mccormickml.com/2019/05/14/BERT-word-embeddings-tutorial/\n",
    "    hidden_state_tr = outputs[2]\n",
    "    token_vecs = hidden_state_tr[-2]\n",
    "    token_vecs_sentvecs = []\n",
    "    for token in token_vecs:\n",
    "        sentvecs = torch.mean(token, dim=0).detach().cpu().numpy()\n",
    "        token_vecs_sentvecs.append(sentvecs)\n",
    "    #features = hidden_state_tr[0][:,0,:].detach().cpu().numpy()\n",
    "    embeddings_tr.append([batch[3], token_vecs_sentvecs])\n",
    "    # Move logits and labels to CPU\n",
    "    logits = logits.detach().cpu().numpy()\n",
    "    label_ids = b_labels.to('cpu').numpy()\n",
    "\n",
    "    # Store predictions and true labels\n",
    "    predictions_train.append(logits)\n",
    "    true_labels_train.append(label_ids)\n",
    "# ========================================\n",
    "#               Validation\n",
    "# ========================================\n",
    "# Extract embeddinga on train set\n",
    "print('Extracting embeddinga for {:,} validation sentences...'.format(len(validation_inputs)))\n",
    "# Put model in evaluation mode\n",
    "model.eval()\n",
    "# Tracking variables \n",
    "predictions_valid, true_labels_valid = [], []\n",
    "# Predict \n",
    "for batch in validation_dataloader:\n",
    "    b_input_ids = batch[0].to(device)\n",
    "    b_input_mask = batch[1].to(device)\n",
    "    b_labels = batch[2].to(device)\n",
    "  \n",
    "  # Telling the model not to compute or store gradients, saving memory and \n",
    "  # speeding up prediction\n",
    "    with torch.no_grad():\n",
    "        # Forward pass, calculate logit predictions\n",
    "        outputs = model(b_input_ids, token_type_ids=None, \n",
    "                      attention_mask=b_input_mask, labels=b_labels)\n",
    "    logits = outputs[1]\n",
    "    # Embeddings extraction approach is to average the second to last hiden layer of each token producing a single 768 length vector\n",
    "    # https://mccormickml.com/2019/05/14/BERT-word-embeddings-tutorial/\n",
    "    hidden_state_vl = outputs[2]\n",
    "    token_vecs = hidden_state_vl[-2]\n",
    "    token_vecs_sentvecs = []\n",
    "    for token in token_vecs:\n",
    "        sentvecs = torch.mean(token, dim=0).detach().cpu().numpy()\n",
    "        token_vecs_sentvecs.append(sentvecs)\n",
    "    #features = hidden_state_vl[0][:,0,:].detach().cpu().numpy()\n",
    "    embeddings_vl.append([batch[3], token_vecs_sentvecs])\n",
    "    # Move logits and labels to CPU\n",
    "    logits = logits.detach().cpu().numpy()\n",
    "    label_ids = b_labels.to('cpu').numpy()\n",
    "\n",
    "    # Store predictions and true labels\n",
    "    predictions_valid.append(logits)\n",
    "    true_labels_valid.append(label_ids)"
   ]
  },
  {
   "cell_type": "markdown",
   "metadata": {
    "papermill": {
     "duration": 0.06901,
     "end_time": "2021-05-17T13:20:49.313602",
     "exception": false,
     "start_time": "2021-05-17T13:20:49.244592",
     "status": "completed"
    },
    "tags": []
   },
   "source": [
    "### Combine Embeddings with original DF and Output CM"
   ]
  },
  {
   "cell_type": "markdown",
   "metadata": {
    "papermill": {
     "duration": 0.08097,
     "end_time": "2021-05-17T13:20:49.463489",
     "exception": false,
     "start_time": "2021-05-17T13:20:49.382519",
     "status": "completed"
    },
    "tags": []
   },
   "source": [
    "Train"
   ]
  },
  {
   "cell_type": "code",
   "execution_count": 39,
   "metadata": {
    "execution": {
     "iopub.execute_input": "2021-05-17T13:20:49.725643Z",
     "iopub.status.busy": "2021-05-17T13:20:49.724776Z",
     "iopub.status.idle": "2021-05-17T13:20:54.370522Z",
     "shell.execute_reply": "2021-05-17T13:20:54.370098Z"
    },
    "papermill": {
     "duration": 4.784685,
     "end_time": "2021-05-17T13:20:54.370618",
     "exception": false,
     "start_time": "2021-05-17T13:20:49.585933",
     "status": "completed"
    },
    "tags": []
   },
   "outputs": [
    {
     "name": "stdout",
     "output_type": "stream",
     "text": [
      "Train Embeddings Extraction and Merge DONE\n"
     ]
    }
   ],
   "source": [
    "# Get embeddings for train\n",
    "p = [group for group in embeddings_tr]\n",
    "\n",
    "b = [item for sublist in [[list(t) for t in zip(sublist[0], sublist[1])] for sublist in p] for item in sublist]\n",
    "df = pd.DataFrame(b, columns = ['id', 'embeddings'])  \n",
    "\n",
    "bert_embeddings_df_train = pd.concat([df['id'], df['embeddings'].apply(pd.Series)], axis = 1)\n",
    "bert_embeddings_df_train['id'] = bert_embeddings_df_train['id'].apply(lambda x: x.item())\n",
    "bert_embeddings_df_train = pd.merge(df_train.drop(['text'], axis=1), bert_embeddings_df_train, left_on = [\"id\"], right_on = [\"id\"])\n",
    "print('Train Embeddings Extraction and Merge DONE')\n"
   ]
  },
  {
   "cell_type": "code",
   "execution_count": 40,
   "metadata": {
    "execution": {
     "iopub.execute_input": "2021-05-17T13:20:54.520541Z",
     "iopub.status.busy": "2021-05-17T13:20:54.519863Z",
     "iopub.status.idle": "2021-05-17T13:20:54.924438Z",
     "shell.execute_reply": "2021-05-17T13:20:54.923430Z"
    },
    "papermill": {
     "duration": 0.483788,
     "end_time": "2021-05-17T13:20:54.924550",
     "exception": false,
     "start_time": "2021-05-17T13:20:54.440762",
     "status": "completed"
    },
    "tags": []
   },
   "outputs": [
    {
     "name": "stdout",
     "output_type": "stream",
     "text": [
      "Calculating Matthews Corr. Coef. for each batch...\n"
     ]
    },
    {
     "name": "stderr",
     "output_type": "stream",
     "text": [
      "/opt/conda/lib/python3.7/site-packages/sklearn/metrics/_classification.py:846: RuntimeWarning:\n",
      "\n",
      "invalid value encountered in double_scalars\n",
      "\n"
     ]
    }
   ],
   "source": [
    "from sklearn.metrics import matthews_corrcoef\n",
    "matthews_set = []\n",
    "# Evaluate each test batch using Matthew's correlation coefficient\n",
    "print('Calculating Matthews Corr. Coef. for each batch...')\n",
    "# For each input batch...\n",
    "for i in range(len(true_labels_train)):\n",
    "  \n",
    "    # The predictions for this batch are a 2-column ndarray (one column for \"0\" \n",
    "    # and one column for \"1\"). Pick the label with the highest value and turn this\n",
    "    # in to a list of 0s and 1s.\n",
    "    pred_labels_i = np.argmax(predictions_train[i], axis=1).flatten()\n",
    "\n",
    "    # Calculate and store the coef for this batch.  \n",
    "    matthews = matthews_corrcoef(true_labels_train[i], pred_labels_i)                \n",
    "    matthews_set.append(matthews)"
   ]
  },
  {
   "cell_type": "code",
   "execution_count": 41,
   "metadata": {
    "execution": {
     "iopub.execute_input": "2021-05-17T13:20:55.079680Z",
     "iopub.status.busy": "2021-05-17T13:20:55.078919Z",
     "iopub.status.idle": "2021-05-17T13:20:55.127639Z",
     "shell.execute_reply": "2021-05-17T13:20:55.126960Z"
    },
    "papermill": {
     "duration": 0.131585,
     "end_time": "2021-05-17T13:20:55.127804",
     "exception": false,
     "start_time": "2021-05-17T13:20:54.996219",
     "status": "completed"
    },
    "tags": []
   },
   "outputs": [
    {
     "name": "stdout",
     "output_type": "stream",
     "text": [
      "MCC: 0.733\n"
     ]
    }
   ],
   "source": [
    "# Combine the predictions for each batch into a single list of 0s and 1s.\n",
    "flat_predictions = [item for sublist in predictions_train for item in sublist]\n",
    "flat_predictions = np.argmax(flat_predictions, axis=1).flatten()\n",
    "# Combine the correct labels for each batch into a single list.\n",
    "flat_true_labels = [item for sublist in true_labels_train for item in sublist]\n",
    "# Calculate the MCC\n",
    "mcc = matthews_corrcoef(flat_true_labels, flat_predictions)\n",
    "print('MCC: %.3f' % mcc)"
   ]
  },
  {
   "cell_type": "code",
   "execution_count": 42,
   "metadata": {
    "execution": {
     "iopub.execute_input": "2021-05-17T13:20:55.288677Z",
     "iopub.status.busy": "2021-05-17T13:20:55.287883Z",
     "iopub.status.idle": "2021-05-17T13:20:55.312749Z",
     "shell.execute_reply": "2021-05-17T13:20:55.312035Z"
    },
    "papermill": {
     "duration": 0.106486,
     "end_time": "2021-05-17T13:20:55.312883",
     "exception": false,
     "start_time": "2021-05-17T13:20:55.206397",
     "status": "completed"
    },
    "tags": []
   },
   "outputs": [
    {
     "name": "stdout",
     "output_type": "stream",
     "text": [
      "              precision    recall  f1-score   support\n",
      "\n",
      "           0       0.87      0.86      0.86      8719\n",
      "           1       0.87      0.87      0.87      8896\n",
      "\n",
      "    accuracy                           0.87     17615\n",
      "   macro avg       0.87      0.87      0.87     17615\n",
      "weighted avg       0.87      0.87      0.87     17615\n",
      "\n"
     ]
    }
   ],
   "source": [
    "from sklearn.metrics import classification_report,confusion_matrix\n",
    "report = classification_report(flat_true_labels, flat_predictions)\n",
    "print(report)"
   ]
  },
  {
   "cell_type": "code",
   "execution_count": 43,
   "metadata": {
    "execution": {
     "iopub.execute_input": "2021-05-17T13:20:55.463307Z",
     "iopub.status.busy": "2021-05-17T13:20:55.462570Z",
     "iopub.status.idle": "2021-05-17T13:20:55.464939Z",
     "shell.execute_reply": "2021-05-17T13:20:55.465442Z"
    },
    "papermill": {
     "duration": 0.080138,
     "end_time": "2021-05-17T13:20:55.465552",
     "exception": false,
     "start_time": "2021-05-17T13:20:55.385414",
     "status": "completed"
    },
    "tags": []
   },
   "outputs": [],
   "source": [
    "def plot_roc_curve(fpr, tpr, label=None):\n",
    "    plt.plot(fpr, tpr, linewidth=2, label=label)\n",
    "    plt.plot([0, 1], [0, 1], 'k--') # dashed diagonal\n",
    "    plt.axis([0, 1, 0, 1])                                    # Not shown in the book\n",
    "    plt.xlabel('False Positive Rate (Fall-Out)', fontsize=16) # Not shown\n",
    "    plt.ylabel('True Positive Rate (Recall)', fontsize=16)    # Not shown\n",
    "    plt.grid(True)  "
   ]
  },
  {
   "cell_type": "code",
   "execution_count": 44,
   "metadata": {
    "execution": {
     "iopub.execute_input": "2021-05-17T13:20:55.644131Z",
     "iopub.status.busy": "2021-05-17T13:20:55.643303Z",
     "iopub.status.idle": "2021-05-17T13:20:55.925699Z",
     "shell.execute_reply": "2021-05-17T13:20:55.926717Z"
    },
    "papermill": {
     "duration": 0.389159,
     "end_time": "2021-05-17T13:20:55.926906",
     "exception": false,
     "start_time": "2021-05-17T13:20:55.537747",
     "status": "completed"
    },
    "tags": []
   },
   "outputs": [
    {
     "data": {
      "image/png": "[encoded data removed]",
      "text/plain": [
       "<Figure size 576x432 with 1 Axes>"
      ]
     },
     "metadata": {
      "needs_background": "light"
     },
     "output_type": "display_data"
    }
   ],
   "source": [
    "fpr, tpr, thresholds = roc_curve(flat_true_labels, flat_predictions)\n",
    "plt.figure(figsize=(8, 6))                         # Not shown\n",
    "plot_roc_curve(fpr, tpr)\n",
    "plt.plot([4.837e-3, 4.837e-3], [0., 0.4368], \"r:\") # Not shown\n",
    "plt.plot([0.0, 4.837e-3], [0.4368, 0.4368], \"r:\")  # Not shown\n",
    "plt.plot([4.837e-3], [0.4368], \"ro\")               # Not shown\n",
    "plt.show()"
   ]
  },
  {
   "cell_type": "code",
   "execution_count": 45,
   "metadata": {
    "execution": {
     "iopub.execute_input": "2021-05-17T13:20:56.169117Z",
     "iopub.status.busy": "2021-05-17T13:20:56.168211Z",
     "iopub.status.idle": "2021-05-17T13:20:56.178354Z",
     "shell.execute_reply": "2021-05-17T13:20:56.178734Z"
    },
    "papermill": {
     "duration": 0.116762,
     "end_time": "2021-05-17T13:20:56.178866",
     "exception": false,
     "start_time": "2021-05-17T13:20:56.062104",
     "status": "completed"
    },
    "tags": []
   },
   "outputs": [
    {
     "data": {
      "text/plain": [
       "0.8663746574709494"
      ]
     },
     "execution_count": 45,
     "metadata": {},
     "output_type": "execute_result"
    }
   ],
   "source": [
    "roc_auc_score(flat_true_labels, flat_predictions)"
   ]
  },
  {
   "cell_type": "markdown",
   "metadata": {
    "papermill": {
     "duration": 0.072829,
     "end_time": "2021-05-17T13:20:56.324728",
     "exception": false,
     "start_time": "2021-05-17T13:20:56.251899",
     "status": "completed"
    },
    "tags": []
   },
   "source": [
    "Valid"
   ]
  },
  {
   "cell_type": "code",
   "execution_count": 46,
   "metadata": {
    "execution": {
     "iopub.execute_input": "2021-05-17T13:20:56.478226Z",
     "iopub.status.busy": "2021-05-17T13:20:56.477518Z",
     "iopub.status.idle": "2021-05-17T13:20:59.455150Z",
     "shell.execute_reply": "2021-05-17T13:20:59.454481Z"
    },
    "papermill": {
     "duration": 3.058155,
     "end_time": "2021-05-17T13:20:59.455309",
     "exception": false,
     "start_time": "2021-05-17T13:20:56.397154",
     "status": "completed"
    },
    "tags": []
   },
   "outputs": [
    {
     "name": "stdout",
     "output_type": "stream",
     "text": [
      "Valid Embeddings Extraction and Merge DONE.\n"
     ]
    }
   ],
   "source": [
    "# Get embeddings for valid\n",
    "p = [group for group in embeddings_vl]\n",
    "\n",
    "b = [item for sublist in [[list(t) for t in zip(sublist[0], sublist[1])] for sublist in p] for item in sublist]\n",
    "df = pd.DataFrame(b, columns = ['id', 'embeddings'])  \n",
    "\n",
    "bert_embeddings_df_valid = pd.concat([df['id'], df['embeddings'].apply(pd.Series)], axis = 1)\n",
    "bert_embeddings_df_valid['id'] = bert_embeddings_df_valid['id'].apply(lambda x: x.item())\n",
    "bert_embeddings_df_valid = pd.merge(df_valid.drop(['text'], axis=1), bert_embeddings_df_valid, left_on = [\"id\"], right_on = [\"id\"])\n",
    "print('Valid Embeddings Extraction and Merge DONE.')"
   ]
  },
  {
   "cell_type": "code",
   "execution_count": 47,
   "metadata": {
    "execution": {
     "iopub.execute_input": "2021-05-17T13:20:59.612816Z",
     "iopub.status.busy": "2021-05-17T13:20:59.611853Z",
     "iopub.status.idle": "2021-05-17T13:20:59.894668Z",
     "shell.execute_reply": "2021-05-17T13:20:59.894211Z"
    },
    "papermill": {
     "duration": 0.365063,
     "end_time": "2021-05-17T13:20:59.894771",
     "exception": false,
     "start_time": "2021-05-17T13:20:59.529708",
     "status": "completed"
    },
    "tags": []
   },
   "outputs": [
    {
     "name": "stdout",
     "output_type": "stream",
     "text": [
      "Calculating Matthews Corr. Coef. for each batch...\n"
     ]
    },
    {
     "name": "stderr",
     "output_type": "stream",
     "text": [
      "/opt/conda/lib/python3.7/site-packages/sklearn/metrics/_classification.py:846: RuntimeWarning:\n",
      "\n",
      "invalid value encountered in double_scalars\n",
      "\n"
     ]
    }
   ],
   "source": [
    "from sklearn.metrics import matthews_corrcoef\n",
    "matthews_set = []\n",
    "# Evaluate each test batch using Matthew's correlation coefficient\n",
    "print('Calculating Matthews Corr. Coef. for each batch...')\n",
    "# For each input batch...\n",
    "for i in range(len(true_labels_valid)):\n",
    "  \n",
    "    # The predictions for this batch are a 2-column ndarray (one column for \"0\" \n",
    "    # and one column for \"1\"). Pick the label with the highest value and turn this\n",
    "    # in to a list of 0s and 1s.\n",
    "    pred_labels_i = np.argmax(predictions_valid[i], axis=1).flatten()\n",
    "\n",
    "    # Calculate and store the coef for this batch.  \n",
    "    matthews = matthews_corrcoef(true_labels_valid[i], pred_labels_i)                \n",
    "    matthews_set.append(matthews)"
   ]
  },
  {
   "cell_type": "code",
   "execution_count": 48,
   "metadata": {
    "execution": {
     "iopub.execute_input": "2021-05-17T13:21:00.054160Z",
     "iopub.status.busy": "2021-05-17T13:21:00.053380Z",
     "iopub.status.idle": "2021-05-17T13:21:00.092569Z",
     "shell.execute_reply": "2021-05-17T13:21:00.091945Z"
    },
    "papermill": {
     "duration": 0.123928,
     "end_time": "2021-05-17T13:21:00.092693",
     "exception": false,
     "start_time": "2021-05-17T13:20:59.968765",
     "status": "completed"
    },
    "tags": []
   },
   "outputs": [
    {
     "name": "stdout",
     "output_type": "stream",
     "text": [
      "MCC: -0.034\n"
     ]
    }
   ],
   "source": [
    "# Combine the predictions for each batch into a single list of 0s and 1s.\n",
    "flat_predictions = [item for sublist in predictions_valid for item in sublist]\n",
    "flat_predictions = np.argmax(flat_predictions, axis=1).flatten()\n",
    "# Combine the correct labels for each batch into a single list.\n",
    "flat_true_labels = [item for sublist in true_labels_valid for item in sublist]\n",
    "# Calculate the MCC\n",
    "mcc = matthews_corrcoef(flat_true_labels, flat_predictions)\n",
    "print('MCC: %.3f' % mcc)"
   ]
  },
  {
   "cell_type": "code",
   "execution_count": 49,
   "metadata": {
    "execution": {
     "iopub.execute_input": "2021-05-17T13:21:00.249888Z",
     "iopub.status.busy": "2021-05-17T13:21:00.249117Z",
     "iopub.status.idle": "2021-05-17T13:21:00.270231Z",
     "shell.execute_reply": "2021-05-17T13:21:00.270950Z"
    },
    "papermill": {
     "duration": 0.10307,
     "end_time": "2021-05-17T13:21:00.271109",
     "exception": false,
     "start_time": "2021-05-17T13:21:00.168039",
     "status": "completed"
    },
    "tags": []
   },
   "outputs": [
    {
     "name": "stdout",
     "output_type": "stream",
     "text": [
      "              precision    recall  f1-score   support\n",
      "\n",
      "           0       0.48      0.43      0.45      6213\n",
      "           1       0.48      0.54      0.51      6197\n",
      "\n",
      "    accuracy                           0.48     12410\n",
      "   macro avg       0.48      0.48      0.48     12410\n",
      "weighted avg       0.48      0.48      0.48     12410\n",
      "\n"
     ]
    }
   ],
   "source": [
    "from sklearn.metrics import classification_report,confusion_matrix\n",
    "report = classification_report(flat_true_labels, flat_predictions)\n",
    "print(report)"
   ]
  },
  {
   "cell_type": "code",
   "execution_count": 50,
   "metadata": {
    "execution": {
     "iopub.execute_input": "2021-05-17T13:21:00.434322Z",
     "iopub.status.busy": "2021-05-17T13:21:00.433561Z",
     "iopub.status.idle": "2021-05-17T13:21:00.565469Z",
     "shell.execute_reply": "2021-05-17T13:21:00.565922Z"
    },
    "papermill": {
     "duration": 0.215665,
     "end_time": "2021-05-17T13:21:00.566056",
     "exception": false,
     "start_time": "2021-05-17T13:21:00.350391",
     "status": "completed"
    },
    "tags": []
   },
   "outputs": [
    {
     "data": {
      "image/png": "[encoded data removed]",
      "text/plain": [
       "<Figure size 576x432 with 1 Axes>"
      ]
     },
     "metadata": {
      "needs_background": "light"
     },
     "output_type": "display_data"
    }
   ],
   "source": [
    "fpr, tpr, thresholds = roc_curve(flat_true_labels, flat_predictions)\n",
    "plt.figure(figsize=(8, 6))                         # Not shown\n",
    "plot_roc_curve(fpr, tpr)\n",
    "plt.plot([4.837e-3, 4.837e-3], [0., 0.4368], \"r:\") # Not shown\n",
    "plt.plot([0.0, 4.837e-3], [0.4368, 0.4368], \"r:\")  # Not shown\n",
    "plt.plot([4.837e-3], [0.4368], \"ro\")               # Not shown\n",
    "plt.show()"
   ]
  },
  {
   "cell_type": "code",
   "execution_count": 51,
   "metadata": {
    "execution": {
     "iopub.execute_input": "2021-05-17T13:21:00.724459Z",
     "iopub.status.busy": "2021-05-17T13:21:00.723674Z",
     "iopub.status.idle": "2021-05-17T13:21:00.732618Z",
     "shell.execute_reply": "2021-05-17T13:21:00.732108Z"
    },
    "papermill": {
     "duration": 0.090881,
     "end_time": "2021-05-17T13:21:00.732714",
     "exception": false,
     "start_time": "2021-05-17T13:21:00.641833",
     "status": "completed"
    },
    "tags": []
   },
   "outputs": [
    {
     "data": {
      "text/plain": [
       "0.4833071359663993"
      ]
     },
     "execution_count": 51,
     "metadata": {},
     "output_type": "execute_result"
    }
   ],
   "source": [
    "roc_auc_score(flat_true_labels, flat_predictions)"
   ]
  },
  {
   "cell_type": "markdown",
   "metadata": {
    "papermill": {
     "duration": 0.075843,
     "end_time": "2021-05-17T13:21:00.884588",
     "exception": false,
     "start_time": "2021-05-17T13:21:00.808745",
     "status": "completed"
    },
    "tags": []
   },
   "source": [
    "#### Export model and embeddings"
   ]
  },
  {
   "cell_type": "code",
   "execution_count": 52,
   "metadata": {
    "execution": {
     "iopub.execute_input": "2021-05-17T13:21:01.044136Z",
     "iopub.status.busy": "2021-05-17T13:21:01.043281Z",
     "iopub.status.idle": "2021-05-17T13:21:01.099039Z",
     "shell.execute_reply": "2021-05-17T13:21:01.098564Z"
    },
    "papermill": {
     "duration": 0.137532,
     "end_time": "2021-05-17T13:21:01.099131",
     "exception": false,
     "start_time": "2021-05-17T13:21:00.961599",
     "status": "completed"
    },
    "tags": []
   },
   "outputs": [],
   "source": [
    "bert_embeddings_df_train['id'] = bert_embeddings_df_train['id'].astype('str')\n",
    "bert_embeddings_df_train['id'] = bert_embeddings_df_train['id'].apply(lambda x: \"'\" + x + \"'\")\n",
    "bert_embeddings_df_valid['id'] = bert_embeddings_df_valid['id'].astype('str')\n",
    "bert_embeddings_df_valid['id'] = bert_embeddings_df_valid['id'].apply(lambda x: \"'\" + x + \"'\")"
   ]
  },
  {
   "cell_type": "code",
   "execution_count": 53,
   "metadata": {
    "execution": {
     "iopub.execute_input": "2021-05-17T13:21:01.261263Z",
     "iopub.status.busy": "2021-05-17T13:21:01.260403Z",
     "iopub.status.idle": "2021-05-17T13:21:01.270121Z",
     "shell.execute_reply": "2021-05-17T13:21:01.270842Z"
    },
    "papermill": {
     "duration": 0.095352,
     "end_time": "2021-05-17T13:21:01.270991",
     "exception": false,
     "start_time": "2021-05-17T13:21:01.175639",
     "status": "completed"
    },
    "tags": []
   },
   "outputs": [
    {
     "name": "stdout",
     "output_type": "stream",
     "text": [
      "full train: 17615 unique ids train: 17615 full valid: 12410 unique ids valid: 12410\n"
     ]
    }
   ],
   "source": [
    "print(\"full train:\", len(bert_embeddings_df_train), \"unique ids train:\", len(bert_embeddings_df_train['id'].unique()), \n",
    "      \"full valid:\", len(bert_embeddings_df_valid), \"unique ids valid:\", len(bert_embeddings_df_valid['id'].unique()))"
   ]
  },
  {
   "cell_type": "code",
   "execution_count": 54,
   "metadata": {
    "execution": {
     "iopub.execute_input": "2021-05-17T13:21:01.429614Z",
     "iopub.status.busy": "2021-05-17T13:21:01.428851Z",
     "iopub.status.idle": "2021-05-17T13:21:10.081312Z",
     "shell.execute_reply": "2021-05-17T13:21:10.081726Z"
    },
    "papermill": {
     "duration": 8.734215,
     "end_time": "2021-05-17T13:21:10.081900",
     "exception": false,
     "start_time": "2021-05-17T13:21:01.347685",
     "status": "completed"
    },
    "tags": []
   },
   "outputs": [
    {
     "data": {
      "text/plain": [
       "('./Labse_Tweettext_mode/tokenizer_config.json',\n",
       " './Labse_Tweettext_mode/special_tokens_map.json',\n",
       " './Labse_Tweettext_mode/vocab.txt',\n",
       " './Labse_Tweettext_mode/added_tokens.json')"
      ]
     },
     "execution_count": 54,
     "metadata": {},
     "output_type": "execute_result"
    }
   ],
   "source": [
    "model_to_save = model.module if hasattr(model, \"module\") else model # Take care of distributed/parallel training\n",
    "model_to_save.save_pretrained('./Labse_Tweettext_mode/')\n",
    "tokenizer.save_pretrained('./Labse_Tweettext_mode/')"
   ]
  },
  {
   "cell_type": "code",
   "execution_count": 55,
   "metadata": {
    "execution": {
     "iopub.execute_input": "2021-05-17T13:21:10.251393Z",
     "iopub.status.busy": "2021-05-17T13:21:10.250818Z",
     "iopub.status.idle": "2021-05-17T13:21:49.822774Z",
     "shell.execute_reply": "2021-05-17T13:21:49.821581Z"
    },
    "papermill": {
     "duration": 39.657971,
     "end_time": "2021-05-17T13:21:49.822936",
     "exception": false,
     "start_time": "2021-05-17T13:21:10.164965",
     "status": "completed"
    },
    "tags": []
   },
   "outputs": [],
   "source": [
    "bert_embeddings_df_train.to_csv('labse_train_embeddings_df.csv', index=False, encoding = \"utf_8_sig\")\n",
    "bert_embeddings_df_valid.to_csv('labse_valid_embeddings_df.csv', index=False, encoding = \"utf_8_sig\")"
   ]
  },
  {
   "cell_type": "markdown",
   "metadata": {
    "papermill": {
     "duration": 0.091402,
     "end_time": "2021-05-17T13:21:50.008166",
     "exception": false,
     "start_time": "2021-05-17T13:21:49.916764",
     "status": "completed"
    },
    "tags": []
   },
   "source": [
    "### Evaluate on Test"
   ]
  },
  {
   "cell_type": "markdown",
   "metadata": {
    "papermill": {
     "duration": 0.163857,
     "end_time": "2021-05-17T13:21:50.256960",
     "exception": false,
     "start_time": "2021-05-17T13:21:50.093103",
     "status": "completed"
    },
    "tags": []
   },
   "source": [
    "Now we’ll load the holdout dataset and prepare inputs just as we did with the training set. Then we’ll evaluate predictions using Matthews correlation coefficient (MCC wiki)because this is the metric used by the wider NLP community to evaluate performance on CoLA. With this metric, +1 is the best score, and -1 is the worst score. This way, we can see how well we perform against the state of the art models for this specific task.\n"
   ]
  },
  {
   "cell_type": "code",
   "execution_count": 56,
   "metadata": {
    "execution": {
     "iopub.execute_input": "2021-05-17T13:21:50.420509Z",
     "iopub.status.busy": "2021-05-17T13:21:50.419235Z",
     "iopub.status.idle": "2021-05-17T13:21:50.914605Z",
     "shell.execute_reply": "2021-05-17T13:21:50.915519Z"
    },
    "papermill": {
     "duration": 0.580765,
     "end_time": "2021-05-17T13:21:50.915705",
     "exception": false,
     "start_time": "2021-05-17T13:21:50.334940",
     "status": "completed"
    },
    "tags": []
   },
   "outputs": [],
   "source": [
    "# Convert to tensors.\n",
    "prediction_inputs = torch.tensor(test_inputs)\n",
    "prediction_masks = torch.tensor(test_masks)\n",
    "prediction_labels = torch.tensor(test_labels)\n",
    "prediction_ids = torch.tensor(ids_test)\n",
    "\n",
    "# Set the batch size.  \n",
    "batch_size = 8 \n",
    "# Create the DataLoader.\n",
    "prediction_data = TensorDataset(prediction_inputs, prediction_masks, prediction_labels, prediction_ids)\n",
    "prediction_sampler = SequentialSampler(prediction_data)\n",
    "prediction_dataloader = DataLoader(prediction_data, sampler=prediction_sampler, batch_size=batch_size)"
   ]
  },
  {
   "cell_type": "markdown",
   "metadata": {
    "papermill": {
     "duration": 0.099462,
     "end_time": "2021-05-17T13:21:51.147798",
     "exception": false,
     "start_time": "2021-05-17T13:21:51.048336",
     "status": "completed"
    },
    "tags": []
   },
   "source": [
    "With the test set prepared, we can apply our fine-tuned model to generate predictions on the test set"
   ]
  },
  {
   "cell_type": "code",
   "execution_count": 57,
   "metadata": {
    "execution": {
     "iopub.execute_input": "2021-05-17T13:21:51.315358Z",
     "iopub.status.busy": "2021-05-17T13:21:51.314567Z",
     "iopub.status.idle": "2021-05-17T13:24:20.255137Z",
     "shell.execute_reply": "2021-05-17T13:24:20.254159Z"
    },
    "papermill": {
     "duration": 149.029033,
     "end_time": "2021-05-17T13:24:20.255276",
     "exception": false,
     "start_time": "2021-05-17T13:21:51.226243",
     "status": "completed"
    },
    "tags": []
   },
   "outputs": [
    {
     "name": "stdout",
     "output_type": "stream",
     "text": [
      "Predicting labels for 34,839 test sentences...\n"
     ]
    }
   ],
   "source": [
    "embeddings_te = []\n",
    "# Prediction on test set\n",
    "print('Predicting labels for {:,} test sentences...'.format(len(prediction_inputs)))\n",
    "# Put model in evaluation mode\n",
    "model.eval()\n",
    "# Tracking variables \n",
    "predictions , true_labels = [], []\n",
    "# Predict \n",
    "for batch in prediction_dataloader:\n",
    "    b_input_ids = batch[0].to(device)\n",
    "    b_input_mask = batch[1].to(device)\n",
    "    b_labels = batch[2].to(device)\n",
    "  \n",
    "  # Telling the model not to compute or store gradients, saving memory and \n",
    "  # speeding up prediction\n",
    "    with torch.no_grad():\n",
    "        # Forward pass, calculate logit predictions\n",
    "        outputs = model(b_input_ids, token_type_ids=None, \n",
    "                      attention_mask=b_input_mask, labels=b_labels)\n",
    "    logits = outputs[1]\n",
    "    # Embeddings extraction approach is to average the second to last hiden layer of each token producing a single 768 length vector\n",
    "    # https://mccormickml.com/2019/05/14/BERT-word-embeddings-tutorial/\n",
    "    hidden_state_te = outputs[2]\n",
    "    token_vecs = hidden_state_te[-2]\n",
    "    token_vecs_sentvecs = []\n",
    "    for token in token_vecs:\n",
    "        sentvecs = torch.mean(token, dim=0).detach().cpu().numpy()\n",
    "        token_vecs_sentvecs.append(sentvecs)\n",
    "    # features = hidden_state_te[12][:,0,:].detach().cpu().numpy()\n",
    "    embeddings_te.append([batch[3], token_vecs_sentvecs])\n",
    "    # Move logits and labels to CPU\n",
    "    logits = logits.detach().cpu().numpy()\n",
    "    label_ids = b_labels.to('cpu').numpy()\n",
    "\n",
    "    # Store predictions and true labels\n",
    "    predictions.append(logits)\n",
    "    true_labels.append(label_ids)\n"
   ]
  },
  {
   "cell_type": "markdown",
   "metadata": {
    "papermill": {
     "duration": 0.077952,
     "end_time": "2021-05-17T13:24:20.411545",
     "exception": false,
     "start_time": "2021-05-17T13:24:20.333593",
     "status": "completed"
    },
    "tags": []
   },
   "source": [
    "### Extract Embeddings for Test"
   ]
  },
  {
   "cell_type": "code",
   "execution_count": 58,
   "metadata": {
    "execution": {
     "iopub.execute_input": "2021-05-17T13:24:20.576473Z",
     "iopub.status.busy": "2021-05-17T13:24:20.575659Z",
     "iopub.status.idle": "2021-05-17T13:24:30.896303Z",
     "shell.execute_reply": "2021-05-17T13:24:30.896935Z"
    },
    "papermill": {
     "duration": 10.407577,
     "end_time": "2021-05-17T13:24:30.897123",
     "exception": false,
     "start_time": "2021-05-17T13:24:20.489546",
     "status": "completed"
    },
    "tags": []
   },
   "outputs": [
    {
     "name": "stdout",
     "output_type": "stream",
     "text": [
      "DONE.\n"
     ]
    }
   ],
   "source": [
    "# Get embeddings for test\n",
    "p = [group for group in embeddings_te]\n",
    "\n",
    "b = [item for sublist in [[list(t) for t in zip(sublist[0], sublist[1])] for sublist in p] for item in sublist]\n",
    "df = pd.DataFrame(b, columns = ['id', 'embeddings'])  \n",
    "\n",
    "bert_embeddings_df_test = pd.concat([df['id'], df['embeddings'].apply(pd.Series)], axis = 1)\n",
    "bert_embeddings_df_test['id'] = bert_embeddings_df_test['id'].apply(lambda x: x.item())\n",
    "bert_embeddings_df_test = pd.merge(df_test.drop(['text'], axis=1), bert_embeddings_df_test, left_on = [\"id\"], right_on = [\"id\"])\n",
    "print('DONE.')"
   ]
  },
  {
   "cell_type": "code",
   "execution_count": 59,
   "metadata": {
    "execution": {
     "iopub.execute_input": "2021-05-17T13:24:31.115131Z",
     "iopub.status.busy": "2021-05-17T13:24:31.114010Z",
     "iopub.status.idle": "2021-05-17T13:24:31.132119Z",
     "shell.execute_reply": "2021-05-17T13:24:31.131637Z"
    },
    "papermill": {
     "duration": 0.150042,
     "end_time": "2021-05-17T13:24:31.132225",
     "exception": false,
     "start_time": "2021-05-17T13:24:30.982183",
     "status": "completed"
    },
    "tags": []
   },
   "outputs": [],
   "source": [
    "bert_embeddings_df_test['id'] = bert_embeddings_df_test['id'].astype('str')\n",
    "bert_embeddings_df_test['id'] = bert_embeddings_df_test['id'].apply(lambda x: \"'\" + x + \"'\")"
   ]
  },
  {
   "cell_type": "code",
   "execution_count": 60,
   "metadata": {
    "execution": {
     "iopub.execute_input": "2021-05-17T13:24:31.297225Z",
     "iopub.status.busy": "2021-05-17T13:24:31.296410Z",
     "iopub.status.idle": "2021-05-17T13:24:31.304377Z",
     "shell.execute_reply": "2021-05-17T13:24:31.303856Z"
    },
    "papermill": {
     "duration": 0.093851,
     "end_time": "2021-05-17T13:24:31.304466",
     "exception": false,
     "start_time": "2021-05-17T13:24:31.210615",
     "status": "completed"
    },
    "tags": []
   },
   "outputs": [
    {
     "name": "stdout",
     "output_type": "stream",
     "text": [
      "full train: 34839 unique ids train: 34839\n"
     ]
    }
   ],
   "source": [
    "print(\"full train:\", len(bert_embeddings_df_test), \"unique ids train:\", len(bert_embeddings_df_test['id'].unique()))"
   ]
  },
  {
   "cell_type": "code",
   "execution_count": 61,
   "metadata": {
    "execution": {
     "iopub.execute_input": "2021-05-17T13:24:31.467500Z",
     "iopub.status.busy": "2021-05-17T13:24:31.466629Z",
     "iopub.status.idle": "2021-05-17T13:25:18.754767Z",
     "shell.execute_reply": "2021-05-17T13:25:18.753416Z"
    },
    "papermill": {
     "duration": 47.371291,
     "end_time": "2021-05-17T13:25:18.754895",
     "exception": false,
     "start_time": "2021-05-17T13:24:31.383604",
     "status": "completed"
    },
    "tags": []
   },
   "outputs": [],
   "source": [
    "bert_embeddings_df_test.to_csv('labse_test_embeddings_df_full.csv', index=False, encoding = \"utf_8_sig\")"
   ]
  },
  {
   "cell_type": "code",
   "execution_count": 62,
   "metadata": {
    "execution": {
     "iopub.execute_input": "2021-05-17T13:25:18.918646Z",
     "iopub.status.busy": "2021-05-17T13:25:18.917876Z",
     "iopub.status.idle": "2021-05-17T13:25:18.921980Z",
     "shell.execute_reply": "2021-05-17T13:25:18.921224Z"
    },
    "papermill": {
     "duration": 0.088198,
     "end_time": "2021-05-17T13:25:18.922107",
     "exception": false,
     "start_time": "2021-05-17T13:25:18.833909",
     "status": "completed"
    },
    "tags": []
   },
   "outputs": [
    {
     "name": "stdout",
     "output_type": "stream",
     "text": [
      "Positive samples: 8896 of 17615 (50.50%)\n"
     ]
    }
   ],
   "source": [
    "print('Positive samples: %d of %d (%.2f%%)' % (df_train.suspended.sum(), len(df_train.suspended), (df_train.suspended.sum() / len(df_train.suspended) * 100.0)))"
   ]
  },
  {
   "cell_type": "code",
   "execution_count": 63,
   "metadata": {
    "execution": {
     "iopub.execute_input": "2021-05-17T13:25:19.090389Z",
     "iopub.status.busy": "2021-05-17T13:25:19.089509Z",
     "iopub.status.idle": "2021-05-17T13:25:22.334322Z",
     "shell.execute_reply": "2021-05-17T13:25:22.333391Z"
    },
    "papermill": {
     "duration": 3.331359,
     "end_time": "2021-05-17T13:25:22.334433",
     "exception": false,
     "start_time": "2021-05-17T13:25:19.003074",
     "status": "completed"
    },
    "tags": []
   },
   "outputs": [
    {
     "name": "stdout",
     "output_type": "stream",
     "text": [
      "Calculating Matthews Corr. Coef. for each batch...\n"
     ]
    },
    {
     "name": "stderr",
     "output_type": "stream",
     "text": [
      "/opt/conda/lib/python3.7/site-packages/sklearn/metrics/_classification.py:846: RuntimeWarning:\n",
      "\n",
      "invalid value encountered in double_scalars\n",
      "\n"
     ]
    }
   ],
   "source": [
    "from sklearn.metrics import matthews_corrcoef\n",
    "matthews_set = []\n",
    "# Evaluate each test batch using Matthew's correlation coefficient\n",
    "print('Calculating Matthews Corr. Coef. for each batch...')\n",
    "# For each input batch...\n",
    "for i in range(len(true_labels)):\n",
    "  \n",
    "    # The predictions for this batch are a 2-column ndarray (one column for \"0\" \n",
    "    # and one column for \"1\"). Pick the label with the highest value and turn this\n",
    "    # in to a list of 0s and 1s.\n",
    "    pred_labels_i = np.argmax(predictions[i], axis=1).flatten()\n",
    "\n",
    "    # Calculate and store the coef for this batch.  \n",
    "    matthews = matthews_corrcoef(true_labels[i], pred_labels_i)                \n",
    "    matthews_set.append(matthews)"
   ]
  },
  {
   "cell_type": "code",
   "execution_count": 64,
   "metadata": {
    "execution": {
     "iopub.execute_input": "2021-05-17T13:25:22.522039Z",
     "iopub.status.busy": "2021-05-17T13:25:22.515629Z",
     "iopub.status.idle": "2021-05-17T13:25:22.621213Z",
     "shell.execute_reply": "2021-05-17T13:25:22.621631Z"
    },
    "papermill": {
     "duration": 0.204403,
     "end_time": "2021-05-17T13:25:22.621751",
     "exception": false,
     "start_time": "2021-05-17T13:25:22.417348",
     "status": "completed"
    },
    "tags": []
   },
   "outputs": [
    {
     "name": "stdout",
     "output_type": "stream",
     "text": [
      "MCC: 0.000\n"
     ]
    }
   ],
   "source": [
    "# Combine the predictions for each batch into a single list of 0s and 1s.\n",
    "flat_predictions = [item for sublist in predictions for item in sublist]\n",
    "flat_predictions = np.argmax(flat_predictions, axis=1).flatten()\n",
    "# Combine the correct labels for each batch into a single list.\n",
    "flat_true_labels = [item for sublist in true_labels for item in sublist]\n",
    "# Calculate the MCC\n",
    "mcc = matthews_corrcoef(flat_true_labels, flat_predictions)\n",
    "print('MCC: %.3f' % mcc)"
   ]
  },
  {
   "cell_type": "code",
   "execution_count": 65,
   "metadata": {
    "execution": {
     "iopub.execute_input": "2021-05-17T13:25:22.797283Z",
     "iopub.status.busy": "2021-05-17T13:25:22.796412Z",
     "iopub.status.idle": "2021-05-17T13:25:22.842007Z",
     "shell.execute_reply": "2021-05-17T13:25:22.842473Z"
    },
    "papermill": {
     "duration": 0.139276,
     "end_time": "2021-05-17T13:25:22.842592",
     "exception": false,
     "start_time": "2021-05-17T13:25:22.703316",
     "status": "completed"
    },
    "tags": []
   },
   "outputs": [
    {
     "name": "stdout",
     "output_type": "stream",
     "text": [
      "              precision    recall  f1-score   support\n",
      "\n",
      "           0       0.91      0.45      0.61     31795\n",
      "           1       0.09      0.55      0.15      3044\n",
      "\n",
      "    accuracy                           0.46     34839\n",
      "   macro avg       0.50      0.50      0.38     34839\n",
      "weighted avg       0.84      0.46      0.57     34839\n",
      "\n"
     ]
    }
   ],
   "source": [
    "report = classification_report(flat_true_labels, flat_predictions)\n",
    "print(report)"
   ]
  },
  {
   "cell_type": "code",
   "execution_count": 66,
   "metadata": {
    "execution": {
     "iopub.execute_input": "2021-05-17T13:25:23.021803Z",
     "iopub.status.busy": "2021-05-17T13:25:23.021028Z",
     "iopub.status.idle": "2021-05-17T13:25:23.158670Z",
     "shell.execute_reply": "2021-05-17T13:25:23.159108Z"
    },
    "papermill": {
     "duration": 0.235343,
     "end_time": "2021-05-17T13:25:23.159242",
     "exception": false,
     "start_time": "2021-05-17T13:25:22.923899",
     "status": "completed"
    },
    "tags": []
   },
   "outputs": [
    {
     "data": {
      "image/png": "[encoded data removed]",
      "text/plain": [
       "<Figure size 576x432 with 1 Axes>"
      ]
     },
     "metadata": {
      "needs_background": "light"
     },
     "output_type": "display_data"
    }
   ],
   "source": [
    "fpr, tpr, thresholds = roc_curve(flat_true_labels, flat_predictions)\n",
    "plt.figure(figsize=(8, 6))                         # Not shown\n",
    "plot_roc_curve(fpr, tpr)\n",
    "plt.plot([4.837e-3, 4.837e-3], [0., 0.4368], \"r:\") # Not shown\n",
    "plt.plot([0.0, 4.837e-3], [0.4368, 0.4368], \"r:\")  # Not shown\n",
    "plt.plot([4.837e-3], [0.4368], \"ro\")               # Not shown\n",
    "plt.show()"
   ]
  },
  {
   "cell_type": "code",
   "execution_count": 67,
   "metadata": {
    "execution": {
     "iopub.execute_input": "2021-05-17T13:25:23.338296Z",
     "iopub.status.busy": "2021-05-17T13:25:23.337484Z",
     "iopub.status.idle": "2021-05-17T13:25:23.351663Z",
     "shell.execute_reply": "2021-05-17T13:25:23.351134Z"
    },
    "papermill": {
     "duration": 0.108699,
     "end_time": "2021-05-17T13:25:23.351752",
     "exception": false,
     "start_time": "2021-05-17T13:25:23.243053",
     "status": "completed"
    },
    "tags": []
   },
   "outputs": [
    {
     "data": {
      "text/plain": [
       "0.5000356102321892"
      ]
     },
     "execution_count": 67,
     "metadata": {},
     "output_type": "execute_result"
    }
   ],
   "source": [
    "roc_auc_score(flat_true_labels, flat_predictions)"
   ]
  },
  {
   "cell_type": "markdown",
   "metadata": {
    "papermill": {
     "duration": 0.081794,
     "end_time": "2021-05-17T13:25:23.515779",
     "exception": false,
     "start_time": "2021-05-17T13:25:23.433985",
     "status": "completed"
    },
    "tags": []
   },
   "source": [
    "### Aggregate Predictions to Account Level"
   ]
  },
  {
   "cell_type": "code",
   "execution_count": 68,
   "metadata": {
    "execution": {
     "iopub.execute_input": "2021-05-17T13:25:23.688619Z",
     "iopub.status.busy": "2021-05-17T13:25:23.687797Z",
     "iopub.status.idle": "2021-05-17T13:25:23.690672Z",
     "shell.execute_reply": "2021-05-17T13:25:23.690268Z"
    },
    "papermill": {
     "duration": 0.092925,
     "end_time": "2021-05-17T13:25:23.690779",
     "exception": false,
     "start_time": "2021-05-17T13:25:23.597854",
     "status": "completed"
    },
    "tags": []
   },
   "outputs": [],
   "source": [
    "def predict_tweet_text(predictions, df_bert, df_full):\n",
    "    df = pd.DataFrame(predictions, columns = ['pred'])\n",
    "    df_2 = pd.merge(df_bert['id'], df, left_index=True, right_index=True)\n",
    "    df_fm = df_full[['id', 'text','user.screen_name','user.id', 'suspended']].drop_duplicates(subset=['user.screen_name','user.id'])\n",
    "    df_fm['id'] = df_fm['id'].astype('str')\n",
    "    df_fm['id'] = df_fm['id'].apply(lambda x: \"'\" + x + \"'\")\n",
    "    df_3 = pd.merge(df_fm, df_2, left_on='id', right_on='id')\n",
    "    df_3.columns = [\"id\", \"text\", \"user.screen_name\", \"user.id\", \"suspended_label\", \"pred\"]\n",
    "    df_3 = df_3.sort_values(by=['pred'], ascending=False)\n",
    "\n",
    "    return df_3"
   ]
  },
  {
   "cell_type": "code",
   "execution_count": 69,
   "metadata": {
    "execution": {
     "iopub.execute_input": "2021-05-17T13:25:23.866397Z",
     "iopub.status.busy": "2021-05-17T13:25:23.865583Z",
     "iopub.status.idle": "2021-05-17T13:25:23.868382Z",
     "shell.execute_reply": "2021-05-17T13:25:23.867951Z"
    },
    "papermill": {
     "duration": 0.095114,
     "end_time": "2021-05-17T13:25:23.868474",
     "exception": false,
     "start_time": "2021-05-17T13:25:23.773360",
     "status": "completed"
    },
    "tags": []
   },
   "outputs": [],
   "source": [
    "# Generate class predictions at the account level \n",
    "def predict_account(predictions, df_bert, df_full):\n",
    "    df = pd.DataFrame(predictions, columns = ['pred'])\n",
    "    df_2 = pd.merge(df_bert['user.id'], df, left_index=True, right_index=True)\n",
    "    df_fm = df_full[['user.screen_name','user.id', 'suspended']].drop_duplicates(subset=['user.screen_name','user.id'])\n",
    "    df_3 = pd.merge(df_fm, df_2, left_on='user.id', right_on='user.id')\n",
    "    df_4 = df_3[['user.screen_name', 'suspended','pred']].groupby('user.screen_name').agg(['sum', 'mean'])\n",
    "    df_4.drop(('suspended', 'sum'), axis = 1, inplace = True)\n",
    "    df_4.columns = df_4.columns = [' '.join(col).strip() for col in df_4.columns.values]\n",
    "    df_4.reset_index(level=0, inplace=True)\n",
    "    df_4.columns = [\"user.screen_name\",\"suspended_label\", \"total_pre_prob\",\"mean_pred_prob\"]\n",
    "    df_4['pred_class'] = np.where(df_4['mean_pred_prob'] > 0.25, 1,0) # Use lighter threshold as not all tweets get an account suspended. \n",
    "    df_4 = df_4.sort_values(by=['total_pre_prob'], ascending=False)\n",
    "\n",
    "    return df_4"
   ]
  },
  {
   "cell_type": "code",
   "execution_count": 70,
   "metadata": {
    "execution": {
     "iopub.execute_input": "2021-05-17T13:25:24.040006Z",
     "iopub.status.busy": "2021-05-17T13:25:24.039349Z",
     "iopub.status.idle": "2021-05-17T13:25:24.076180Z",
     "shell.execute_reply": "2021-05-17T13:25:24.076559Z"
    },
    "papermill": {
     "duration": 0.126153,
     "end_time": "2021-05-17T13:25:24.076680",
     "exception": false,
     "start_time": "2021-05-17T13:25:23.950527",
     "status": "completed"
    },
    "tags": []
   },
   "outputs": [
    {
     "data": {
      "text/html": [
       "<div>\n",
       "<style scoped>\n",
       "    .dataframe tbody tr th:only-of-type {\n",
       "        vertical-align: middle;\n",
       "    }\n",
       "\n",
       "    .dataframe tbody tr th {\n",
       "        vertical-align: top;\n",
       "    }\n",
       "\n",
       "    .dataframe thead th {\n",
       "        text-align: right;\n",
       "    }\n",
       "</style>\n",
       "<table border=\"1\" class=\"dataframe\">\n",
       "  <thead>\n",
       "    <tr style=\"text-align: right;\">\n",
       "      <th></th>\n",
       "      <th>id</th>\n",
       "      <th>text</th>\n",
       "      <th>user.screen_name</th>\n",
       "      <th>user.id</th>\n",
       "      <th>suspended_label</th>\n",
       "      <th>pred</th>\n",
       "    </tr>\n",
       "  </thead>\n",
       "  <tbody>\n",
       "    <tr>\n",
       "      <th>0</th>\n",
       "      <td>'1.2781248368924918e+18'</td>\n",
       "      <td>今天第一次上推特，看看世界</td>\n",
       "      <td>NJ8f7eaXxguK5os</td>\n",
       "      <td>1.278122e+18</td>\n",
       "      <td>0</td>\n",
       "      <td>1</td>\n",
       "    </tr>\n",
       "    <tr>\n",
       "      <th>229</th>\n",
       "      <td>'1.286667753525588e+18'</td>\n",
       "      <td>@SEEDinPakistan Seminar 'Property tax and urba...</td>\n",
       "      <td>irfanselina</td>\n",
       "      <td>1.281245e+18</td>\n",
       "      <td>0</td>\n",
       "      <td>1</td>\n",
       "    </tr>\n",
       "    <tr>\n",
       "      <th>226</th>\n",
       "      <td>'1.2914819362890301e+18'</td>\n",
       "      <td>@iVeenaKhan @diljaanabbas1 No india no Pakista...</td>\n",
       "      <td>AwaisBinHaqNaw1</td>\n",
       "      <td>1.281192e+18</td>\n",
       "      <td>0</td>\n",
       "      <td>1</td>\n",
       "    </tr>\n",
       "    <tr>\n",
       "      <th>224</th>\n",
       "      <td>'1.2815925207330775e+18'</td>\n",
       "      <td>@SAMAATV Lagta hy Government ko pubg ban kar k...</td>\n",
       "      <td>aka_BQ</td>\n",
       "      <td>1.281178e+18</td>\n",
       "      <td>0</td>\n",
       "      <td>1</td>\n",
       "    </tr>\n",
       "    <tr>\n",
       "      <th>223</th>\n",
       "      <td>'1.2811713207855514e+18'</td>\n",
       "      <td>ہمارے سیاستدانوں کو بھی یاد نہیں کہ 9 جولائی 1...</td>\n",
       "      <td>NewsLoona</td>\n",
       "      <td>1.281161e+18</td>\n",
       "      <td>0</td>\n",
       "      <td>1</td>\n",
       "    </tr>\n",
       "  </tbody>\n",
       "</table>\n",
       "</div>"
      ],
      "text/plain": [
       "                           id  \\\n",
       "0    '1.2781248368924918e+18'   \n",
       "229   '1.286667753525588e+18'   \n",
       "226  '1.2914819362890301e+18'   \n",
       "224  '1.2815925207330775e+18'   \n",
       "223  '1.2811713207855514e+18'   \n",
       "\n",
       "                                                  text user.screen_name  \\\n",
       "0                                        今天第一次上推特，看看世界  NJ8f7eaXxguK5os   \n",
       "229  @SEEDinPakistan Seminar 'Property tax and urba...      irfanselina   \n",
       "226  @iVeenaKhan @diljaanabbas1 No india no Pakista...  AwaisBinHaqNaw1   \n",
       "224  @SAMAATV Lagta hy Government ko pubg ban kar k...           aka_BQ   \n",
       "223  ہمارے سیاستدانوں کو بھی یاد نہیں کہ 9 جولائی 1...        NewsLoona   \n",
       "\n",
       "          user.id  suspended_label  pred  \n",
       "0    1.278122e+18                0     1  \n",
       "229  1.281245e+18                0     1  \n",
       "226  1.281192e+18                0     1  \n",
       "224  1.281178e+18                0     1  \n",
       "223  1.281161e+18                0     1  "
      ]
     },
     "execution_count": 70,
     "metadata": {},
     "output_type": "execute_result"
    }
   ],
   "source": [
    "test_preds_tweets = predict_tweet_text(flat_predictions, bert_embeddings_df_test, df_test_f)\n",
    "test_preds_tweets.head()"
   ]
  },
  {
   "cell_type": "code",
   "execution_count": 71,
   "metadata": {
    "execution": {
     "iopub.execute_input": "2021-05-17T13:25:24.249842Z",
     "iopub.status.busy": "2021-05-17T13:25:24.249071Z",
     "iopub.status.idle": "2021-05-17T13:25:24.257606Z",
     "shell.execute_reply": "2021-05-17T13:25:24.257153Z"
    },
    "papermill": {
     "duration": 0.097525,
     "end_time": "2021-05-17T13:25:24.257694",
     "exception": false,
     "start_time": "2021-05-17T13:25:24.160169",
     "status": "completed"
    },
    "tags": []
   },
   "outputs": [],
   "source": [
    "test_preds_tweets.to_csv('test_preds_tweets_labse.csv', index=False, encoding = \"utf_8_sig\")"
   ]
  },
  {
   "cell_type": "code",
   "execution_count": 72,
   "metadata": {
    "execution": {
     "iopub.execute_input": "2021-05-17T13:25:24.430584Z",
     "iopub.status.busy": "2021-05-17T13:25:24.429621Z",
     "iopub.status.idle": "2021-05-17T13:25:24.501134Z",
     "shell.execute_reply": "2021-05-17T13:25:24.501559Z"
    },
    "papermill": {
     "duration": 0.160055,
     "end_time": "2021-05-17T13:25:24.501675",
     "exception": false,
     "start_time": "2021-05-17T13:25:24.341620",
     "status": "completed"
    },
    "tags": []
   },
   "outputs": [
    {
     "data": {
      "text/html": [
       "<div>\n",
       "<style scoped>\n",
       "    .dataframe tbody tr th:only-of-type {\n",
       "        vertical-align: middle;\n",
       "    }\n",
       "\n",
       "    .dataframe tbody tr th {\n",
       "        vertical-align: top;\n",
       "    }\n",
       "\n",
       "    .dataframe thead th {\n",
       "        text-align: right;\n",
       "    }\n",
       "</style>\n",
       "<table border=\"1\" class=\"dataframe\">\n",
       "  <thead>\n",
       "    <tr style=\"text-align: right;\">\n",
       "      <th></th>\n",
       "      <th>user.screen_name</th>\n",
       "      <th>suspended_label</th>\n",
       "      <th>total_pre_prob</th>\n",
       "      <th>mean_pred_prob</th>\n",
       "      <th>pred_class</th>\n",
       "    </tr>\n",
       "  </thead>\n",
       "  <tbody>\n",
       "    <tr>\n",
       "      <th>100</th>\n",
       "      <td>GPJb9VHo6PbSu2W</td>\n",
       "      <td>0</td>\n",
       "      <td>1366</td>\n",
       "      <td>0.617820</td>\n",
       "      <td>1</td>\n",
       "    </tr>\n",
       "    <tr>\n",
       "      <th>367</th>\n",
       "      <td>fullaheadspeed</td>\n",
       "      <td>0</td>\n",
       "      <td>1125</td>\n",
       "      <td>0.558590</td>\n",
       "      <td>1</td>\n",
       "    </tr>\n",
       "    <tr>\n",
       "      <th>71</th>\n",
       "      <td>DanishHK90</td>\n",
       "      <td>0</td>\n",
       "      <td>1001</td>\n",
       "      <td>0.661162</td>\n",
       "      <td>1</td>\n",
       "    </tr>\n",
       "    <tr>\n",
       "      <th>204</th>\n",
       "      <td>MustafaKhan1313</td>\n",
       "      <td>0</td>\n",
       "      <td>975</td>\n",
       "      <td>0.729245</td>\n",
       "      <td>1</td>\n",
       "    </tr>\n",
       "    <tr>\n",
       "      <th>124</th>\n",
       "      <td>Interservicein2</td>\n",
       "      <td>0</td>\n",
       "      <td>911</td>\n",
       "      <td>0.752893</td>\n",
       "      <td>1</td>\n",
       "    </tr>\n",
       "    <tr>\n",
       "      <th>...</th>\n",
       "      <td>...</td>\n",
       "      <td>...</td>\n",
       "      <td>...</td>\n",
       "      <td>...</td>\n",
       "      <td>...</td>\n",
       "    </tr>\n",
       "    <tr>\n",
       "      <th>99</th>\n",
       "      <td>GJia2000</td>\n",
       "      <td>0</td>\n",
       "      <td>0</td>\n",
       "      <td>0.000000</td>\n",
       "      <td>0</td>\n",
       "    </tr>\n",
       "    <tr>\n",
       "      <th>432</th>\n",
       "      <td>oqPQ2Pw5D30yTn7</td>\n",
       "      <td>0</td>\n",
       "      <td>0</td>\n",
       "      <td>0.000000</td>\n",
       "      <td>0</td>\n",
       "    </tr>\n",
       "    <tr>\n",
       "      <th>346</th>\n",
       "      <td>chuangjianguod1</td>\n",
       "      <td>0</td>\n",
       "      <td>0</td>\n",
       "      <td>0.000000</td>\n",
       "      <td>0</td>\n",
       "    </tr>\n",
       "    <tr>\n",
       "      <th>107</th>\n",
       "      <td>HW_Aloha</td>\n",
       "      <td>0</td>\n",
       "      <td>0</td>\n",
       "      <td>0.000000</td>\n",
       "      <td>0</td>\n",
       "    </tr>\n",
       "    <tr>\n",
       "      <th>292</th>\n",
       "      <td>WangBo79892543</td>\n",
       "      <td>0</td>\n",
       "      <td>0</td>\n",
       "      <td>0.000000</td>\n",
       "      <td>0</td>\n",
       "    </tr>\n",
       "  </tbody>\n",
       "</table>\n",
       "<p>513 rows × 5 columns</p>\n",
       "</div>"
      ],
      "text/plain": [
       "    user.screen_name  suspended_label  total_pre_prob  mean_pred_prob  \\\n",
       "100  GPJb9VHo6PbSu2W                0            1366        0.617820   \n",
       "367   fullaheadspeed                0            1125        0.558590   \n",
       "71        DanishHK90                0            1001        0.661162   \n",
       "204  MustafaKhan1313                0             975        0.729245   \n",
       "124  Interservicein2                0             911        0.752893   \n",
       "..               ...              ...             ...             ...   \n",
       "99          GJia2000                0               0        0.000000   \n",
       "432  oqPQ2Pw5D30yTn7                0               0        0.000000   \n",
       "346  chuangjianguod1                0               0        0.000000   \n",
       "107         HW_Aloha                0               0        0.000000   \n",
       "292   WangBo79892543                0               0        0.000000   \n",
       "\n",
       "     pred_class  \n",
       "100           1  \n",
       "367           1  \n",
       "71            1  \n",
       "204           1  \n",
       "124           1  \n",
       "..          ...  \n",
       "99            0  \n",
       "432           0  \n",
       "346           0  \n",
       "107           0  \n",
       "292           0  \n",
       "\n",
       "[513 rows x 5 columns]"
      ]
     },
     "execution_count": 72,
     "metadata": {},
     "output_type": "execute_result"
    }
   ],
   "source": [
    "test_account_preds_tweettext = predict_account(flat_predictions, bert_embeddings_df_test, df_test_f)\n",
    "test_account_preds_tweettext"
   ]
  },
  {
   "cell_type": "code",
   "execution_count": 73,
   "metadata": {
    "execution": {
     "iopub.execute_input": "2021-05-17T13:25:24.675951Z",
     "iopub.status.busy": "2021-05-17T13:25:24.675090Z",
     "iopub.status.idle": "2021-05-17T13:25:24.687553Z",
     "shell.execute_reply": "2021-05-17T13:25:24.687135Z"
    },
    "papermill": {
     "duration": 0.102506,
     "end_time": "2021-05-17T13:25:24.687646",
     "exception": false,
     "start_time": "2021-05-17T13:25:24.585140",
     "status": "completed"
    },
    "tags": []
   },
   "outputs": [
    {
     "data": {
      "text/html": [
       "<div>\n",
       "<style scoped>\n",
       "    .dataframe tbody tr th:only-of-type {\n",
       "        vertical-align: middle;\n",
       "    }\n",
       "\n",
       "    .dataframe tbody tr th {\n",
       "        vertical-align: top;\n",
       "    }\n",
       "\n",
       "    .dataframe thead th {\n",
       "        text-align: right;\n",
       "    }\n",
       "</style>\n",
       "<table border=\"1\" class=\"dataframe\">\n",
       "  <thead>\n",
       "    <tr style=\"text-align: right;\">\n",
       "      <th></th>\n",
       "      <th>user.screen_name</th>\n",
       "      <th>suspended_label</th>\n",
       "      <th>total_pre_prob</th>\n",
       "      <th>mean_pred_prob</th>\n",
       "      <th>pred_class</th>\n",
       "    </tr>\n",
       "  </thead>\n",
       "  <tbody>\n",
       "    <tr>\n",
       "      <th>100</th>\n",
       "      <td>GPJb9VHo6PbSu2W</td>\n",
       "      <td>0</td>\n",
       "      <td>1366</td>\n",
       "      <td>0.617820</td>\n",
       "      <td>1</td>\n",
       "    </tr>\n",
       "    <tr>\n",
       "      <th>367</th>\n",
       "      <td>fullaheadspeed</td>\n",
       "      <td>0</td>\n",
       "      <td>1125</td>\n",
       "      <td>0.558590</td>\n",
       "      <td>1</td>\n",
       "    </tr>\n",
       "    <tr>\n",
       "      <th>71</th>\n",
       "      <td>DanishHK90</td>\n",
       "      <td>0</td>\n",
       "      <td>1001</td>\n",
       "      <td>0.661162</td>\n",
       "      <td>1</td>\n",
       "    </tr>\n",
       "    <tr>\n",
       "      <th>204</th>\n",
       "      <td>MustafaKhan1313</td>\n",
       "      <td>0</td>\n",
       "      <td>975</td>\n",
       "      <td>0.729245</td>\n",
       "      <td>1</td>\n",
       "    </tr>\n",
       "    <tr>\n",
       "      <th>124</th>\n",
       "      <td>Interservicein2</td>\n",
       "      <td>0</td>\n",
       "      <td>911</td>\n",
       "      <td>0.752893</td>\n",
       "      <td>1</td>\n",
       "    </tr>\n",
       "    <tr>\n",
       "      <th>...</th>\n",
       "      <td>...</td>\n",
       "      <td>...</td>\n",
       "      <td>...</td>\n",
       "      <td>...</td>\n",
       "      <td>...</td>\n",
       "    </tr>\n",
       "    <tr>\n",
       "      <th>295</th>\n",
       "      <td>WaqasGurmani6</td>\n",
       "      <td>0</td>\n",
       "      <td>1</td>\n",
       "      <td>0.500000</td>\n",
       "      <td>1</td>\n",
       "    </tr>\n",
       "    <tr>\n",
       "      <th>196</th>\n",
       "      <td>Muhamma15936014</td>\n",
       "      <td>0</td>\n",
       "      <td>1</td>\n",
       "      <td>1.000000</td>\n",
       "      <td>1</td>\n",
       "    </tr>\n",
       "    <tr>\n",
       "      <th>194</th>\n",
       "      <td>Msufyan25814391</td>\n",
       "      <td>0</td>\n",
       "      <td>1</td>\n",
       "      <td>0.333333</td>\n",
       "      <td>1</td>\n",
       "    </tr>\n",
       "    <tr>\n",
       "      <th>375</th>\n",
       "      <td>hgt55352930</td>\n",
       "      <td>0</td>\n",
       "      <td>1</td>\n",
       "      <td>1.000000</td>\n",
       "      <td>1</td>\n",
       "    </tr>\n",
       "    <tr>\n",
       "      <th>245</th>\n",
       "      <td>SShahsani</td>\n",
       "      <td>0</td>\n",
       "      <td>1</td>\n",
       "      <td>0.500000</td>\n",
       "      <td>1</td>\n",
       "    </tr>\n",
       "  </tbody>\n",
       "</table>\n",
       "<p>387 rows × 5 columns</p>\n",
       "</div>"
      ],
      "text/plain": [
       "    user.screen_name  suspended_label  total_pre_prob  mean_pred_prob  \\\n",
       "100  GPJb9VHo6PbSu2W                0            1366        0.617820   \n",
       "367   fullaheadspeed                0            1125        0.558590   \n",
       "71        DanishHK90                0            1001        0.661162   \n",
       "204  MustafaKhan1313                0             975        0.729245   \n",
       "124  Interservicein2                0             911        0.752893   \n",
       "..               ...              ...             ...             ...   \n",
       "295    WaqasGurmani6                0               1        0.500000   \n",
       "196  Muhamma15936014                0               1        1.000000   \n",
       "194  Msufyan25814391                0               1        0.333333   \n",
       "375      hgt55352930                0               1        1.000000   \n",
       "245        SShahsani                0               1        0.500000   \n",
       "\n",
       "     pred_class  \n",
       "100           1  \n",
       "367           1  \n",
       "71            1  \n",
       "204           1  \n",
       "124           1  \n",
       "..          ...  \n",
       "295           1  \n",
       "196           1  \n",
       "194           1  \n",
       "375           1  \n",
       "245           1  \n",
       "\n",
       "[387 rows x 5 columns]"
      ]
     },
     "execution_count": 73,
     "metadata": {},
     "output_type": "execute_result"
    }
   ],
   "source": [
    "test_account_preds_tweettext[test_account_preds_tweettext['pred_class'] == 1]"
   ]
  },
  {
   "cell_type": "markdown",
   "metadata": {
    "papermill": {
     "duration": 0.08407,
     "end_time": "2021-05-17T13:25:24.855661",
     "exception": false,
     "start_time": "2021-05-17T13:25:24.771591",
     "status": "completed"
    },
    "tags": []
   },
   "source": [
    "### Confusion Matrix for Account Classification"
   ]
  },
  {
   "cell_type": "code",
   "execution_count": 74,
   "metadata": {
    "execution": {
     "iopub.execute_input": "2021-05-17T13:25:25.030272Z",
     "iopub.status.busy": "2021-05-17T13:25:25.029387Z",
     "iopub.status.idle": "2021-05-17T13:25:25.038392Z",
     "shell.execute_reply": "2021-05-17T13:25:25.039109Z"
    },
    "papermill": {
     "duration": 0.099791,
     "end_time": "2021-05-17T13:25:25.039264",
     "exception": false,
     "start_time": "2021-05-17T13:25:24.939473",
     "status": "completed"
    },
    "tags": []
   },
   "outputs": [
    {
     "name": "stdout",
     "output_type": "stream",
     "text": [
      "              precision    recall  f1-score   support\n",
      "\n",
      "           0       0.91      0.24      0.38       479\n",
      "           1       0.06      0.68      0.11        34\n",
      "\n",
      "    accuracy                           0.27       513\n",
      "   macro avg       0.49      0.46      0.24       513\n",
      "weighted avg       0.86      0.27      0.36       513\n",
      "\n"
     ]
    }
   ],
   "source": [
    "#report = classification_report(np.array(test_labels), predictions)\n",
    "report_te = classification_report(np.array(test_account_preds_tweettext['suspended_label']), np.array(test_account_preds_tweettext['pred_class']))\n",
    "print(report_te)"
   ]
  },
  {
   "cell_type": "code",
   "execution_count": 75,
   "metadata": {
    "execution": {
     "iopub.execute_input": "2021-05-17T13:25:25.217628Z",
     "iopub.status.busy": "2021-05-17T13:25:25.216817Z",
     "iopub.status.idle": "2021-05-17T13:25:25.350212Z",
     "shell.execute_reply": "2021-05-17T13:25:25.350683Z"
    },
    "papermill": {
     "duration": 0.225846,
     "end_time": "2021-05-17T13:25:25.350800",
     "exception": false,
     "start_time": "2021-05-17T13:25:25.124954",
     "status": "completed"
    },
    "tags": []
   },
   "outputs": [
    {
     "data": {
      "image/png": "[encoded data removed]",
      "text/plain": [
       "<Figure size 576x432 with 1 Axes>"
      ]
     },
     "metadata": {
      "needs_background": "light"
     },
     "output_type": "display_data"
    }
   ],
   "source": [
    "fpr, tpr, thresholds = roc_curve(np.array(test_account_preds_tweettext['suspended_label']), np.array(test_account_preds_tweettext['pred_class']))\n",
    "plt.figure(figsize=(8, 6))                         # Not shown\n",
    "plot_roc_curve(fpr, tpr)\n",
    "plt.plot([4.837e-3, 4.837e-3], [0., 0.4368], \"r:\") # Not shown\n",
    "plt.plot([0.0, 4.837e-3], [0.4368, 0.4368], \"r:\")  # Not shown\n",
    "plt.plot([4.837e-3], [0.4368], \"ro\")               # Not shown\n",
    "plt.show()"
   ]
  },
  {
   "cell_type": "code",
   "execution_count": 76,
   "metadata": {
    "execution": {
     "iopub.execute_input": "2021-05-17T13:25:25.528681Z",
     "iopub.status.busy": "2021-05-17T13:25:25.527841Z",
     "iopub.status.idle": "2021-05-17T13:25:25.534214Z",
     "shell.execute_reply": "2021-05-17T13:25:25.533774Z"
    },
    "papermill": {
     "duration": 0.096251,
     "end_time": "2021-05-17T13:25:25.534311",
     "exception": false,
     "start_time": "2021-05-17T13:25:25.438060",
     "status": "completed"
    },
    "tags": []
   },
   "outputs": [
    {
     "data": {
      "text/plain": [
       "0.45827704777109174"
      ]
     },
     "execution_count": 76,
     "metadata": {},
     "output_type": "execute_result"
    }
   ],
   "source": [
    "roc_auc_score(np.array(test_account_preds_tweettext['suspended_label']), np.array(test_account_preds_tweettext['pred_class']))"
   ]
  },
  {
   "cell_type": "code",
   "execution_count": 77,
   "metadata": {
    "execution": {
     "iopub.execute_input": "2021-05-17T13:25:25.751157Z",
     "iopub.status.busy": "2021-05-17T13:25:25.750333Z",
     "iopub.status.idle": "2021-05-17T13:25:25.756679Z",
     "shell.execute_reply": "2021-05-17T13:25:25.756150Z"
    },
    "papermill": {
     "duration": 0.09677,
     "end_time": "2021-05-17T13:25:25.756767",
     "exception": false,
     "start_time": "2021-05-17T13:25:25.659997",
     "status": "completed"
    },
    "tags": []
   },
   "outputs": [],
   "source": [
    "test_account_preds_tweettext.to_csv('test_account_preds_tweettext_labse.csv', index=False, encoding = \"utf_8_sig\")"
   ]
  }
 ],
 "metadata": {
  "kernelspec": {
   "display_name": "Python 3",
   "language": "python",
   "name": "python3"
  },
  "language_info": {
   "codemirror_mode": {
    "name": "ipython",
    "version": 3
   },
   "file_extension": ".py",
   "mimetype": "text/x-python",
   "name": "python",
   "nbconvert_exporter": "python",
   "pygments_lexer": "ipython3",
   "version": "3.7.6"
  },
  "papermill": {
   "duration": 1138.20767,
   "end_time": "2021-05-17T13:25:26.987311",
   "environment_variables": {},
   "exception": null,
   "input_path": "__notebook__.ipynb",
   "output_path": "__notebook__.ipynb",
   "parameters": {},
   "start_time": "2021-05-17T13:06:28.779641",
   "version": "2.1.0"
  },
  "widgets": {
   "application/vnd.jupyter.widget-state+json": {
    "state": {
     "113961152c7840739eccf1abe806b239": {
      "model_module": "@jupyter-widgets/controls",
      "model_module_version": "1.5.0",
      "model_name": "HTMLModel",
      "state": {
       "_dom_classes": [],
       "_model_module": "@jupyter-widgets/controls",
       "_model_module_version": "1.5.0",
       "_model_name": "HTMLModel",
       "_view_count": null,
       "_view_module": "@jupyter-widgets/controls",
       "_view_module_version": "1.5.0",
       "_view_name": "HTMLView",
       "description": "",
       "description_tooltip": null,
       "layout": "IPY_MODEL_cb57f52cb66c423d898f517541e8a906",
       "placeholder": "​",
       "style": "IPY_MODEL_284e70a0e8094a75ba77a75f1388d3b0",
       "value": " 112/112 [00:01&lt;00:00, 84.9B/s]"
      }
     },
     "1674315d7a614ac8a2c4fc5df889f30d": {
      "model_module": "@jupyter-widgets/controls",
      "model_module_version": "1.5.0",
      "model_name": "HBoxModel",
      "state": {
       "_dom_classes": [],
       "_model_module": "@jupyter-widgets/controls",
       "_model_module_version": "1.5.0",
       "_model_name": "HBoxModel",
       "_view_count": null,
       "_view_module": "@jupyter-widgets/controls",
       "_view_module_version": "1.5.0",
       "_view_name": "HBoxView",
       "box_style": "",
       "children": [
        "IPY_MODEL_4692df3bb3874f7bb1fb4b10325fcd44",
        "IPY_MODEL_d51dbe439d8747ab8ea37b586c7056da"
       ],
       "layout": "IPY_MODEL_faec3f3cb9ab4599b5ad1962b2945c0f"
      }
     },
     "1ae7f0da045f4b289fea70ef07e9d486": {
      "model_module": "@jupyter-widgets/controls",
      "model_module_version": "1.5.0",
      "model_name": "FloatProgressModel",
      "state": {
       "_dom_classes": [],
       "_model_module": "@jupyter-widgets/controls",
       "_model_module_version": "1.5.0",
       "_model_name": "FloatProgressModel",
       "_view_count": null,
       "_view_module": "@jupyter-widgets/controls",
       "_view_module_version": "1.5.0",
       "_view_name": "ProgressView",
       "bar_style": "success",
       "description": "Downloading: 100%",
       "description_tooltip": null,
       "layout": "IPY_MODEL_c5c138c8ca16403586ef7bf04b12bcef",
       "max": 112.0,
       "min": 0.0,
       "orientation": "horizontal",
       "style": "IPY_MODEL_9dc244bccbd94ff5a2e7b95426b1f32c",
       "value": 112.0
      }
     },
     "244a7337882b4665b4769fbd24e0e6a7": {
      "model_module": "@jupyter-widgets/controls",
      "model_module_version": "1.5.0",
      "model_name": "HBoxModel",
      "state": {
       "_dom_classes": [],
       "_model_module": "@jupyter-widgets/controls",
       "_model_module_version": "1.5.0",
       "_model_name": "HBoxModel",
       "_view_count": null,
       "_view_module": "@jupyter-widgets/controls",
       "_view_module_version": "1.5.0",
       "_view_name": "HBoxView",
       "box_style": "",
       "children": [
        "IPY_MODEL_f4afb183ba694685b59c0b4a28b7c38f",
        "IPY_MODEL_dc9cf2c6cf824564a1a1130d08e3bbd5"
       ],
       "layout": "IPY_MODEL_f84f883a527e4317bd8ba7fc2362407b"
      }
     },
     "284e70a0e8094a75ba77a75f1388d3b0": {
      "model_module": "@jupyter-widgets/controls",
      "model_module_version": "1.5.0",
      "model_name": "DescriptionStyleModel",
      "state": {
       "_model_module": "@jupyter-widgets/controls",
       "_model_module_version": "1.5.0",
       "_model_name": "DescriptionStyleModel",
       "_view_count": null,
       "_view_module": "@jupyter-widgets/base",
       "_view_module_version": "1.2.0",
       "_view_name": "StyleView",
       "description_width": ""
      }
     },
     "2a2116b19ebb4d7aa22983d9d69c4cfa": {
      "model_module": "@jupyter-widgets/base",
      "model_module_version": "1.2.0",
      "model_name": "LayoutModel",
      "state": {
       "_model_module": "@jupyter-widgets/base",
       "_model_module_version": "1.2.0",
       "_model_name": "LayoutModel",
       "_view_count": null,
       "_view_module": "@jupyter-widgets/base",
       "_view_module_version": "1.2.0",
       "_view_name": "LayoutView",
       "align_content": null,
       "align_items": null,
       "align_self": null,
       "border": null,
       "bottom": null,
       "display": null,
       "flex": null,
       "flex_flow": null,
       "grid_area": null,
       "grid_auto_columns": null,
       "grid_auto_flow": null,
       "grid_auto_rows": null,
       "grid_column": null,
       "grid_gap": null,
       "grid_row": null,
       "grid_template_areas": null,
       "grid_template_columns": null,
       "grid_template_rows": null,
       "height": null,
       "justify_content": null,
       "justify_items": null,
       "left": null,
       "margin": null,
       "max_height": null,
       "max_width": null,
       "min_height": null,
       "min_width": null,
       "object_fit": null,
       "object_position": null,
       "order": null,
       "overflow": null,
       "overflow_x": null,
       "overflow_y": null,
       "padding": null,
       "right": null,
       "top": null,
       "visibility": null,
       "width": null
      }
     },
     "379b56a6185c499598f93d30980a94e2": {
      "model_module": "@jupyter-widgets/controls",
      "model_module_version": "1.5.0",
      "model_name": "HTMLModel",
      "state": {
       "_dom_classes": [],
       "_model_module": "@jupyter-widgets/controls",
       "_model_module_version": "1.5.0",
       "_model_name": "HTMLModel",
       "_view_count": null,
       "_view_module": "@jupyter-widgets/controls",
       "_view_module_version": "1.5.0",
       "_view_name": "HTMLView",
       "description": "",
       "description_tooltip": null,
       "layout": "IPY_MODEL_d0ccdbe62e8f4977b8f855ed20cb1909",
       "placeholder": "​",
       "style": "IPY_MODEL_4067bbe22bcc4c499f2566ebb1d99694",
       "value": " 1.89G/1.89G [00:54&lt;00:00, 34.7MB/s]"
      }
     },
     "4067bbe22bcc4c499f2566ebb1d99694": {
      "model_module": "@jupyter-widgets/controls",
      "model_module_version": "1.5.0",
      "model_name": "DescriptionStyleModel",
      "state": {
       "_model_module": "@jupyter-widgets/controls",
       "_model_module_version": "1.5.0",
       "_model_name": "DescriptionStyleModel",
       "_view_count": null,
       "_view_module": "@jupyter-widgets/base",
       "_view_module_version": "1.2.0",
       "_view_name": "StyleView",
       "description_width": ""
      }
     },
     "4692df3bb3874f7bb1fb4b10325fcd44": {
      "model_module": "@jupyter-widgets/controls",
      "model_module_version": "1.5.0",
      "model_name": "FloatProgressModel",
      "state": {
       "_dom_classes": [],
       "_model_module": "@jupyter-widgets/controls",
       "_model_module_version": "1.5.0",
       "_model_name": "FloatProgressModel",
       "_view_count": null,
       "_view_module": "@jupyter-widgets/controls",
       "_view_module_version": "1.5.0",
       "_view_name": "ProgressView",
       "bar_style": "success",
       "description": "Downloading: 100%",
       "description_tooltip": null,
       "layout": "IPY_MODEL_4ea4ec12bf724b1da6b22ec82f679e00",
       "max": 62.0,
       "min": 0.0,
       "orientation": "horizontal",
       "style": "IPY_MODEL_951c246c457f4938b3e62792cacf411b",
       "value": 62.0
      }
     },
     "4b05907ba5e64c28aed9ea5ec470a978": {
      "model_module": "@jupyter-widgets/base",
      "model_module_version": "1.2.0",
      "model_name": "LayoutModel",
      "state": {
       "_model_module": "@jupyter-widgets/base",
       "_model_module_version": "1.2.0",
       "_model_name": "LayoutModel",
       "_view_count": null,
       "_view_module": "@jupyter-widgets/base",
       "_view_module_version": "1.2.0",
       "_view_name": "LayoutView",
       "align_content": null,
       "align_items": null,
       "align_self": null,
       "border": null,
       "bottom": null,
       "display": null,
       "flex": null,
       "flex_flow": null,
       "grid_area": null,
       "grid_auto_columns": null,
       "grid_auto_flow": null,
       "grid_auto_rows": null,
       "grid_column": null,
       "grid_gap": null,
       "grid_row": null,
       "grid_template_areas": null,
       "grid_template_columns": null,
       "grid_template_rows": null,
       "height": null,
       "justify_content": null,
       "justify_items": null,
       "left": null,
       "margin": null,
       "max_height": null,
       "max_width": null,
       "min_height": null,
       "min_width": null,
       "object_fit": null,
       "object_position": null,
       "order": null,
       "overflow": null,
       "overflow_x": null,
       "overflow_y": null,
       "padding": null,
       "right": null,
       "top": null,
       "visibility": null,
       "width": null
      }
     },
     "4e227a9a5706456a9a628d30eb6d90d4": {
      "model_module": "@jupyter-widgets/base",
      "model_module_version": "1.2.0",
      "model_name": "LayoutModel",
      "state": {
       "_model_module": "@jupyter-widgets/base",
       "_model_module_version": "1.2.0",
       "_model_name": "LayoutModel",
       "_view_count": null,
       "_view_module": "@jupyter-widgets/base",
       "_view_module_version": "1.2.0",
       "_view_name": "LayoutView",
       "align_content": null,
       "align_items": null,
       "align_self": null,
       "border": null,
       "bottom": null,
       "display": null,
       "flex": null,
       "flex_flow": null,
       "grid_area": null,
       "grid_auto_columns": null,
       "grid_auto_flow": null,
       "grid_auto_rows": null,
       "grid_column": null,
       "grid_gap": null,
       "grid_row": null,
       "grid_template_areas": null,
       "grid_template_columns": null,
       "grid_template_rows": null,
       "height": null,
       "justify_content": null,
       "justify_items": null,
       "left": null,
       "margin": null,
       "max_height": null,
       "max_width": null,
       "min_height": null,
       "min_width": null,
       "object_fit": null,
       "object_position": null,
       "order": null,
       "overflow": null,
       "overflow_x": null,
       "overflow_y": null,
       "padding": null,
       "right": null,
       "top": null,
       "visibility": null,
       "width": null
      }
     },
     "4e403b4457e04c7386698d4a4db1a372": {
      "model_module": "@jupyter-widgets/controls",
      "model_module_version": "1.5.0",
      "model_name": "FloatProgressModel",
      "state": {
       "_dom_classes": [],
       "_model_module": "@jupyter-widgets/controls",
       "_model_module_version": "1.5.0",
       "_model_name": "FloatProgressModel",
       "_view_count": null,
       "_view_module": "@jupyter-widgets/controls",
       "_view_module_version": "1.5.0",
       "_view_name": "ProgressView",
       "bar_style": "success",
       "description": "Downloading: 100%",
       "description_tooltip": null,
       "layout": "IPY_MODEL_4b05907ba5e64c28aed9ea5ec470a978",
       "max": 1888168867.0,
       "min": 0.0,
       "orientation": "horizontal",
       "style": "IPY_MODEL_de72d3c4b6654c2d9e8814b4b69e4565",
       "value": 1888168867.0
      }
     },
     "4e44a9feeba947d2a4892b73a73bbf0d": {
      "model_module": "@jupyter-widgets/base",
      "model_module_version": "1.2.0",
      "model_name": "LayoutModel",
      "state": {
       "_model_module": "@jupyter-widgets/base",
       "_model_module_version": "1.2.0",
       "_model_name": "LayoutModel",
       "_view_count": null,
       "_view_module": "@jupyter-widgets/base",
       "_view_module_version": "1.2.0",
       "_view_name": "LayoutView",
       "align_content": null,
       "align_items": null,
       "align_self": null,
       "border": null,
       "bottom": null,
       "display": null,
       "flex": null,
       "flex_flow": null,
       "grid_area": null,
       "grid_auto_columns": null,
       "grid_auto_flow": null,
       "grid_auto_rows": null,
       "grid_column": null,
       "grid_gap": null,
       "grid_row": null,
       "grid_template_areas": null,
       "grid_template_columns": null,
       "grid_template_rows": null,
       "height": null,
       "justify_content": null,
       "justify_items": null,
       "left": null,
       "margin": null,
       "max_height": null,
       "max_width": null,
       "min_height": null,
       "min_width": null,
       "object_fit": null,
       "object_position": null,
       "order": null,
       "overflow": null,
       "overflow_x": null,
       "overflow_y": null,
       "padding": null,
       "right": null,
       "top": null,
       "visibility": null,
       "width": null
      }
     },
     "4ea4ec12bf724b1da6b22ec82f679e00": {
      "model_module": "@jupyter-widgets/base",
      "model_module_version": "1.2.0",
      "model_name": "LayoutModel",
      "state": {
       "_model_module": "@jupyter-widgets/base",
       "_model_module_version": "1.2.0",
       "_model_name": "LayoutModel",
       "_view_count": null,
       "_view_module": "@jupyter-widgets/base",
       "_view_module_version": "1.2.0",
       "_view_name": "LayoutView",
       "align_content": null,
       "align_items": null,
       "align_self": null,
       "border": null,
       "bottom": null,
       "display": null,
       "flex": null,
       "flex_flow": null,
       "grid_area": null,
       "grid_auto_columns": null,
       "grid_auto_flow": null,
       "grid_auto_rows": null,
       "grid_column": null,
       "grid_gap": null,
       "grid_row": null,
       "grid_template_areas": null,
       "grid_template_columns": null,
       "grid_template_rows": null,
       "height": null,
       "justify_content": null,
       "justify_items": null,
       "left": null,
       "margin": null,
       "max_height": null,
       "max_width": null,
       "min_height": null,
       "min_width": null,
       "object_fit": null,
       "object_position": null,
       "order": null,
       "overflow": null,
       "overflow_x": null,
       "overflow_y": null,
       "padding": null,
       "right": null,
       "top": null,
       "visibility": null,
       "width": null
      }
     },
     "4ff902987708433f8e313a578b7dd5ca": {
      "model_module": "@jupyter-widgets/base",
      "model_module_version": "1.2.0",
      "model_name": "LayoutModel",
      "state": {
       "_model_module": "@jupyter-widgets/base",
       "_model_module_version": "1.2.0",
       "_model_name": "LayoutModel",
       "_view_count": null,
       "_view_module": "@jupyter-widgets/base",
       "_view_module_version": "1.2.0",
       "_view_name": "LayoutView",
       "align_content": null,
       "align_items": null,
       "align_self": null,
       "border": null,
       "bottom": null,
       "display": null,
       "flex": null,
       "flex_flow": null,
       "grid_area": null,
       "grid_auto_columns": null,
       "grid_auto_flow": null,
       "grid_auto_rows": null,
       "grid_column": null,
       "grid_gap": null,
       "grid_row": null,
       "grid_template_areas": null,
       "grid_template_columns": null,
       "grid_template_rows": null,
       "height": null,
       "justify_content": null,
       "justify_items": null,
       "left": null,
       "margin": null,
       "max_height": null,
       "max_width": null,
       "min_height": null,
       "min_width": null,
       "object_fit": null,
       "object_position": null,
       "order": null,
       "overflow": null,
       "overflow_x": null,
       "overflow_y": null,
       "padding": null,
       "right": null,
       "top": null,
       "visibility": null,
       "width": null
      }
     },
     "50551a53e91948cb8c5e5b33c5649468": {
      "model_module": "@jupyter-widgets/controls",
      "model_module_version": "1.5.0",
      "model_name": "DescriptionStyleModel",
      "state": {
       "_model_module": "@jupyter-widgets/controls",
       "_model_module_version": "1.5.0",
       "_model_name": "DescriptionStyleModel",
       "_view_count": null,
       "_view_module": "@jupyter-widgets/base",
       "_view_module_version": "1.2.0",
       "_view_name": "StyleView",
       "description_width": ""
      }
     },
     "5cc7372893ca4b1b84a4653a1db0e324": {
      "model_module": "@jupyter-widgets/controls",
      "model_module_version": "1.5.0",
      "model_name": "DescriptionStyleModel",
      "state": {
       "_model_module": "@jupyter-widgets/controls",
       "_model_module_version": "1.5.0",
       "_model_name": "DescriptionStyleModel",
       "_view_count": null,
       "_view_module": "@jupyter-widgets/base",
       "_view_module_version": "1.2.0",
       "_view_name": "StyleView",
       "description_width": ""
      }
     },
     "6dd4a3fe2de64f20b6bc74923601a0e9": {
      "model_module": "@jupyter-widgets/controls",
      "model_module_version": "1.5.0",
      "model_name": "HBoxModel",
      "state": {
       "_dom_classes": [],
       "_model_module": "@jupyter-widgets/controls",
       "_model_module_version": "1.5.0",
       "_model_name": "HBoxModel",
       "_view_count": null,
       "_view_module": "@jupyter-widgets/controls",
       "_view_module_version": "1.5.0",
       "_view_name": "HBoxView",
       "box_style": "",
       "children": [
        "IPY_MODEL_4e403b4457e04c7386698d4a4db1a372",
        "IPY_MODEL_379b56a6185c499598f93d30980a94e2"
       ],
       "layout": "IPY_MODEL_cbe78440ca26444387d221c38cce866a"
      }
     },
     "84ac778deaf6494c8b70e9f7dae7a073": {
      "model_module": "@jupyter-widgets/controls",
      "model_module_version": "1.5.0",
      "model_name": "HBoxModel",
      "state": {
       "_dom_classes": [],
       "_model_module": "@jupyter-widgets/controls",
       "_model_module_version": "1.5.0",
       "_model_name": "HBoxModel",
       "_view_count": null,
       "_view_module": "@jupyter-widgets/controls",
       "_view_module_version": "1.5.0",
       "_view_name": "HBoxView",
       "box_style": "",
       "children": [
        "IPY_MODEL_1ae7f0da045f4b289fea70ef07e9d486",
        "IPY_MODEL_113961152c7840739eccf1abe806b239"
       ],
       "layout": "IPY_MODEL_4e44a9feeba947d2a4892b73a73bbf0d"
      }
     },
     "88ca8831205d4bd89f64ae828245082e": {
      "model_module": "@jupyter-widgets/controls",
      "model_module_version": "1.5.0",
      "model_name": "DescriptionStyleModel",
      "state": {
       "_model_module": "@jupyter-widgets/controls",
       "_model_module_version": "1.5.0",
       "_model_name": "DescriptionStyleModel",
       "_view_count": null,
       "_view_module": "@jupyter-widgets/base",
       "_view_module_version": "1.2.0",
       "_view_name": "StyleView",
       "description_width": ""
      }
     },
     "8c2f605cfec54ae7893ca90a74f78b4e": {
      "model_module": "@jupyter-widgets/base",
      "model_module_version": "1.2.0",
      "model_name": "LayoutModel",
      "state": {
       "_model_module": "@jupyter-widgets/base",
       "_model_module_version": "1.2.0",
       "_model_name": "LayoutModel",
       "_view_count": null,
       "_view_module": "@jupyter-widgets/base",
       "_view_module_version": "1.2.0",
       "_view_name": "LayoutView",
       "align_content": null,
       "align_items": null,
       "align_self": null,
       "border": null,
       "bottom": null,
       "display": null,
       "flex": null,
       "flex_flow": null,
       "grid_area": null,
       "grid_auto_columns": null,
       "grid_auto_flow": null,
       "grid_auto_rows": null,
       "grid_column": null,
       "grid_gap": null,
       "grid_row": null,
       "grid_template_areas": null,
       "grid_template_columns": null,
       "grid_template_rows": null,
       "height": null,
       "justify_content": null,
       "justify_items": null,
       "left": null,
       "margin": null,
       "max_height": null,
       "max_width": null,
       "min_height": null,
       "min_width": null,
       "object_fit": null,
       "object_position": null,
       "order": null,
       "overflow": null,
       "overflow_x": null,
       "overflow_y": null,
       "padding": null,
       "right": null,
       "top": null,
       "visibility": null,
       "width": null
      }
     },
     "951c246c457f4938b3e62792cacf411b": {
      "model_module": "@jupyter-widgets/controls",
      "model_module_version": "1.5.0",
      "model_name": "ProgressStyleModel",
      "state": {
       "_model_module": "@jupyter-widgets/controls",
       "_model_module_version": "1.5.0",
       "_model_name": "ProgressStyleModel",
       "_view_count": null,
       "_view_module": "@jupyter-widgets/base",
       "_view_module_version": "1.2.0",
       "_view_name": "StyleView",
       "bar_color": null,
       "description_width": "initial"
      }
     },
     "98c24613c46e44409f020a9a7214a768": {
      "model_module": "@jupyter-widgets/controls",
      "model_module_version": "1.5.0",
      "model_name": "ProgressStyleModel",
      "state": {
       "_model_module": "@jupyter-widgets/controls",
       "_model_module_version": "1.5.0",
       "_model_name": "ProgressStyleModel",
       "_view_count": null,
       "_view_module": "@jupyter-widgets/base",
       "_view_module_version": "1.2.0",
       "_view_name": "StyleView",
       "bar_color": null,
       "description_width": "initial"
      }
     },
     "9dc244bccbd94ff5a2e7b95426b1f32c": {
      "model_module": "@jupyter-widgets/controls",
      "model_module_version": "1.5.0",
      "model_name": "ProgressStyleModel",
      "state": {
       "_model_module": "@jupyter-widgets/controls",
       "_model_module_version": "1.5.0",
       "_model_name": "ProgressStyleModel",
       "_view_count": null,
       "_view_module": "@jupyter-widgets/base",
       "_view_module_version": "1.2.0",
       "_view_name": "StyleView",
       "bar_color": null,
       "description_width": "initial"
      }
     },
     "a59588ab043c475184c16203e5bfb70a": {
      "model_module": "@jupyter-widgets/controls",
      "model_module_version": "1.5.0",
      "model_name": "HTMLModel",
      "state": {
       "_dom_classes": [],
       "_model_module": "@jupyter-widgets/controls",
       "_model_module_version": "1.5.0",
       "_model_name": "HTMLModel",
       "_view_count": null,
       "_view_module": "@jupyter-widgets/controls",
       "_view_module_version": "1.5.0",
       "_view_name": "HTMLView",
       "description": "",
       "description_tooltip": null,
       "layout": "IPY_MODEL_4ff902987708433f8e313a578b7dd5ca",
       "placeholder": "​",
       "style": "IPY_MODEL_50551a53e91948cb8c5e5b33c5649468",
       "value": " 472/472 [01:11&lt;00:00, 6.63B/s]"
      }
     },
     "a626c56b561346a998b9943113fc13e7": {
      "model_module": "@jupyter-widgets/controls",
      "model_module_version": "1.5.0",
      "model_name": "ProgressStyleModel",
      "state": {
       "_model_module": "@jupyter-widgets/controls",
       "_model_module_version": "1.5.0",
       "_model_name": "ProgressStyleModel",
       "_view_count": null,
       "_view_module": "@jupyter-widgets/base",
       "_view_module_version": "1.2.0",
       "_view_name": "StyleView",
       "bar_color": null,
       "description_width": "initial"
      }
     },
     "c5c138c8ca16403586ef7bf04b12bcef": {
      "model_module": "@jupyter-widgets/base",
      "model_module_version": "1.2.0",
      "model_name": "LayoutModel",
      "state": {
       "_model_module": "@jupyter-widgets/base",
       "_model_module_version": "1.2.0",
       "_model_name": "LayoutModel",
       "_view_count": null,
       "_view_module": "@jupyter-widgets/base",
       "_view_module_version": "1.2.0",
       "_view_name": "LayoutView",
       "align_content": null,
       "align_items": null,
       "align_self": null,
       "border": null,
       "bottom": null,
       "display": null,
       "flex": null,
       "flex_flow": null,
       "grid_area": null,
       "grid_auto_columns": null,
       "grid_auto_flow": null,
       "grid_auto_rows": null,
       "grid_column": null,
       "grid_gap": null,
       "grid_row": null,
       "grid_template_areas": null,
       "grid_template_columns": null,
       "grid_template_rows": null,
       "height": null,
       "justify_content": null,
       "justify_items": null,
       "left": null,
       "margin": null,
       "max_height": null,
       "max_width": null,
       "min_height": null,
       "min_width": null,
       "object_fit": null,
       "object_position": null,
       "order": null,
       "overflow": null,
       "overflow_x": null,
       "overflow_y": null,
       "padding": null,
       "right": null,
       "top": null,
       "visibility": null,
       "width": null
      }
     },
     "cb57f52cb66c423d898f517541e8a906": {
      "model_module": "@jupyter-widgets/base",
      "model_module_version": "1.2.0",
      "model_name": "LayoutModel",
      "state": {
       "_model_module": "@jupyter-widgets/base",
       "_model_module_version": "1.2.0",
       "_model_name": "LayoutModel",
       "_view_count": null,
       "_view_module": "@jupyter-widgets/base",
       "_view_module_version": "1.2.0",
       "_view_name": "LayoutView",
       "align_content": null,
       "align_items": null,
       "align_self": null,
       "border": null,
       "bottom": null,
       "display": null,
       "flex": null,
       "flex_flow": null,
       "grid_area": null,
       "grid_auto_columns": null,
       "grid_auto_flow": null,
       "grid_auto_rows": null,
       "grid_column": null,
       "grid_gap": null,
       "grid_row": null,
       "grid_template_areas": null,
       "grid_template_columns": null,
       "grid_template_rows": null,
       "height": null,
       "justify_content": null,
       "justify_items": null,
       "left": null,
       "margin": null,
       "max_height": null,
       "max_width": null,
       "min_height": null,
       "min_width": null,
       "object_fit": null,
       "object_position": null,
       "order": null,
       "overflow": null,
       "overflow_x": null,
       "overflow_y": null,
       "padding": null,
       "right": null,
       "top": null,
       "visibility": null,
       "width": null
      }
     },
     "cbe78440ca26444387d221c38cce866a": {
      "model_module": "@jupyter-widgets/base",
      "model_module_version": "1.2.0",
      "model_name": "LayoutModel",
      "state": {
       "_model_module": "@jupyter-widgets/base",
       "_model_module_version": "1.2.0",
       "_model_name": "LayoutModel",
       "_view_count": null,
       "_view_module": "@jupyter-widgets/base",
       "_view_module_version": "1.2.0",
       "_view_name": "LayoutView",
       "align_content": null,
       "align_items": null,
       "align_self": null,
       "border": null,
       "bottom": null,
       "display": null,
       "flex": null,
       "flex_flow": null,
       "grid_area": null,
       "grid_auto_columns": null,
       "grid_auto_flow": null,
       "grid_auto_rows": null,
       "grid_column": null,
       "grid_gap": null,
       "grid_row": null,
       "grid_template_areas": null,
       "grid_template_columns": null,
       "grid_template_rows": null,
       "height": null,
       "justify_content": null,
       "justify_items": null,
       "left": null,
       "margin": null,
       "max_height": null,
       "max_width": null,
       "min_height": null,
       "min_width": null,
       "object_fit": null,
       "object_position": null,
       "order": null,
       "overflow": null,
       "overflow_x": null,
       "overflow_y": null,
       "padding": null,
       "right": null,
       "top": null,
       "visibility": null,
       "width": null
      }
     },
     "ccf37dbfaa5a4bfe943ed2a54aadb532": {
      "model_module": "@jupyter-widgets/controls",
      "model_module_version": "1.5.0",
      "model_name": "HBoxModel",
      "state": {
       "_dom_classes": [],
       "_model_module": "@jupyter-widgets/controls",
       "_model_module_version": "1.5.0",
       "_model_name": "HBoxModel",
       "_view_count": null,
       "_view_module": "@jupyter-widgets/controls",
       "_view_module_version": "1.5.0",
       "_view_name": "HBoxView",
       "box_style": "",
       "children": [
        "IPY_MODEL_de31f6e5a4064e4aa8453069d214138a",
        "IPY_MODEL_a59588ab043c475184c16203e5bfb70a"
       ],
       "layout": "IPY_MODEL_2a2116b19ebb4d7aa22983d9d69c4cfa"
      }
     },
     "d0ccdbe62e8f4977b8f855ed20cb1909": {
      "model_module": "@jupyter-widgets/base",
      "model_module_version": "1.2.0",
      "model_name": "LayoutModel",
      "state": {
       "_model_module": "@jupyter-widgets/base",
       "_model_module_version": "1.2.0",
       "_model_name": "LayoutModel",
       "_view_count": null,
       "_view_module": "@jupyter-widgets/base",
       "_view_module_version": "1.2.0",
       "_view_name": "LayoutView",
       "align_content": null,
       "align_items": null,
       "align_self": null,
       "border": null,
       "bottom": null,
       "display": null,
       "flex": null,
       "flex_flow": null,
       "grid_area": null,
       "grid_auto_columns": null,
       "grid_auto_flow": null,
       "grid_auto_rows": null,
       "grid_column": null,
       "grid_gap": null,
       "grid_row": null,
       "grid_template_areas": null,
       "grid_template_columns": null,
       "grid_template_rows": null,
       "height": null,
       "justify_content": null,
       "justify_items": null,
       "left": null,
       "margin": null,
       "max_height": null,
       "max_width": null,
       "min_height": null,
       "min_width": null,
       "object_fit": null,
       "object_position": null,
       "order": null,
       "overflow": null,
       "overflow_x": null,
       "overflow_y": null,
       "padding": null,
       "right": null,
       "top": null,
       "visibility": null,
       "width": null
      }
     },
     "d51dbe439d8747ab8ea37b586c7056da": {
      "model_module": "@jupyter-widgets/controls",
      "model_module_version": "1.5.0",
      "model_name": "HTMLModel",
      "state": {
       "_dom_classes": [],
       "_model_module": "@jupyter-widgets/controls",
       "_model_module_version": "1.5.0",
       "_model_name": "HTMLModel",
       "_view_count": null,
       "_view_module": "@jupyter-widgets/controls",
       "_view_module_version": "1.5.0",
       "_view_name": "HTMLView",
       "description": "",
       "description_tooltip": null,
       "layout": "IPY_MODEL_d66d4a9f25284e508fa417907c492807",
       "placeholder": "​",
       "style": "IPY_MODEL_5cc7372893ca4b1b84a4653a1db0e324",
       "value": " 62.0/62.0 [00:00&lt;00:00, 87.2B/s]"
      }
     },
     "d66d4a9f25284e508fa417907c492807": {
      "model_module": "@jupyter-widgets/base",
      "model_module_version": "1.2.0",
      "model_name": "LayoutModel",
      "state": {
       "_model_module": "@jupyter-widgets/base",
       "_model_module_version": "1.2.0",
       "_model_name": "LayoutModel",
       "_view_count": null,
       "_view_module": "@jupyter-widgets/base",
       "_view_module_version": "1.2.0",
       "_view_name": "LayoutView",
       "align_content": null,
       "align_items": null,
       "align_self": null,
       "border": null,
       "bottom": null,
       "display": null,
       "flex": null,
       "flex_flow": null,
       "grid_area": null,
       "grid_auto_columns": null,
       "grid_auto_flow": null,
       "grid_auto_rows": null,
       "grid_column": null,
       "grid_gap": null,
       "grid_row": null,
       "grid_template_areas": null,
       "grid_template_columns": null,
       "grid_template_rows": null,
       "height": null,
       "justify_content": null,
       "justify_items": null,
       "left": null,
       "margin": null,
       "max_height": null,
       "max_width": null,
       "min_height": null,
       "min_width": null,
       "object_fit": null,
       "object_position": null,
       "order": null,
       "overflow": null,
       "overflow_x": null,
       "overflow_y": null,
       "padding": null,
       "right": null,
       "top": null,
       "visibility": null,
       "width": null
      }
     },
     "dc9cf2c6cf824564a1a1130d08e3bbd5": {
      "model_module": "@jupyter-widgets/controls",
      "model_module_version": "1.5.0",
      "model_name": "HTMLModel",
      "state": {
       "_dom_classes": [],
       "_model_module": "@jupyter-widgets/controls",
       "_model_module_version": "1.5.0",
       "_model_name": "HTMLModel",
       "_view_count": null,
       "_view_module": "@jupyter-widgets/controls",
       "_view_module_version": "1.5.0",
       "_view_name": "HTMLView",
       "description": "",
       "description_tooltip": null,
       "layout": "IPY_MODEL_e92b783bf0df4d329de13ceead336063",
       "placeholder": "​",
       "style": "IPY_MODEL_88ca8831205d4bd89f64ae828245082e",
       "value": " 5.22M/5.22M [00:01&lt;00:00, 3.84MB/s]"
      }
     },
     "de31f6e5a4064e4aa8453069d214138a": {
      "model_module": "@jupyter-widgets/controls",
      "model_module_version": "1.5.0",
      "model_name": "FloatProgressModel",
      "state": {
       "_dom_classes": [],
       "_model_module": "@jupyter-widgets/controls",
       "_model_module_version": "1.5.0",
       "_model_name": "FloatProgressModel",
       "_view_count": null,
       "_view_module": "@jupyter-widgets/controls",
       "_view_module_version": "1.5.0",
       "_view_name": "ProgressView",
       "bar_style": "success",
       "description": "Downloading: 100%",
       "description_tooltip": null,
       "layout": "IPY_MODEL_4e227a9a5706456a9a628d30eb6d90d4",
       "max": 472.0,
       "min": 0.0,
       "orientation": "horizontal",
       "style": "IPY_MODEL_98c24613c46e44409f020a9a7214a768",
       "value": 472.0
      }
     },
     "de72d3c4b6654c2d9e8814b4b69e4565": {
      "model_module": "@jupyter-widgets/controls",
      "model_module_version": "1.5.0",
      "model_name": "ProgressStyleModel",
      "state": {
       "_model_module": "@jupyter-widgets/controls",
       "_model_module_version": "1.5.0",
       "_model_name": "ProgressStyleModel",
       "_view_count": null,
       "_view_module": "@jupyter-widgets/base",
       "_view_module_version": "1.2.0",
       "_view_name": "StyleView",
       "bar_color": null,
       "description_width": "initial"
      }
     },
     "e92b783bf0df4d329de13ceead336063": {
      "model_module": "@jupyter-widgets/base",
      "model_module_version": "1.2.0",
      "model_name": "LayoutModel",
      "state": {
       "_model_module": "@jupyter-widgets/base",
       "_model_module_version": "1.2.0",
       "_model_name": "LayoutModel",
       "_view_count": null,
       "_view_module": "@jupyter-widgets/base",
       "_view_module_version": "1.2.0",
       "_view_name": "LayoutView",
       "align_content": null,
       "align_items": null,
       "align_self": null,
       "border": null,
       "bottom": null,
       "display": null,
       "flex": null,
       "flex_flow": null,
       "grid_area": null,
       "grid_auto_columns": null,
       "grid_auto_flow": null,
       "grid_auto_rows": null,
       "grid_column": null,
       "grid_gap": null,
       "grid_row": null,
       "grid_template_areas": null,
       "grid_template_columns": null,
       "grid_template_rows": null,
       "height": null,
       "justify_content": null,
       "justify_items": null,
       "left": null,
       "margin": null,
       "max_height": null,
       "max_width": null,
       "min_height": null,
       "min_width": null,
       "object_fit": null,
       "object_position": null,
       "order": null,
       "overflow": null,
       "overflow_x": null,
       "overflow_y": null,
       "padding": null,
       "right": null,
       "top": null,
       "visibility": null,
       "width": null
      }
     },
     "f4afb183ba694685b59c0b4a28b7c38f": {
      "model_module": "@jupyter-widgets/controls",
      "model_module_version": "1.5.0",
      "model_name": "FloatProgressModel",
      "state": {
       "_dom_classes": [],
       "_model_module": "@jupyter-widgets/controls",
       "_model_module_version": "1.5.0",
       "_model_name": "FloatProgressModel",
       "_view_count": null,
       "_view_module": "@jupyter-widgets/controls",
       "_view_module_version": "1.5.0",
       "_view_name": "ProgressView",
       "bar_style": "success",
       "description": "Downloading: 100%",
       "description_tooltip": null,
       "layout": "IPY_MODEL_8c2f605cfec54ae7893ca90a74f78b4e",
       "max": 5220781.0,
       "min": 0.0,
       "orientation": "horizontal",
       "style": "IPY_MODEL_a626c56b561346a998b9943113fc13e7",
       "value": 5220781.0
      }
     },
     "f84f883a527e4317bd8ba7fc2362407b": {
      "model_module": "@jupyter-widgets/base",
      "model_module_version": "1.2.0",
      "model_name": "LayoutModel",
      "state": {
       "_model_module": "@jupyter-widgets/base",
       "_model_module_version": "1.2.0",
       "_model_name": "LayoutModel",
       "_view_count": null,
       "_view_module": "@jupyter-widgets/base",
       "_view_module_version": "1.2.0",
       "_view_name": "LayoutView",
       "align_content": null,
       "align_items": null,
       "align_self": null,
       "border": null,
       "bottom": null,
       "display": null,
       "flex": null,
       "flex_flow": null,
       "grid_area": null,
       "grid_auto_columns": null,
       "grid_auto_flow": null,
       "grid_auto_rows": null,
       "grid_column": null,
       "grid_gap": null,
       "grid_row": null,
       "grid_template_areas": null,
       "grid_template_columns": null,
       "grid_template_rows": null,
       "height": null,
       "justify_content": null,
       "justify_items": null,
       "left": null,
       "margin": null,
       "max_height": null,
       "max_width": null,
       "min_height": null,
       "min_width": null,
       "object_fit": null,
       "object_position": null,
       "order": null,
       "overflow": null,
       "overflow_x": null,
       "overflow_y": null,
       "padding": null,
       "right": null,
       "top": null,
       "visibility": null,
       "width": null
      }
     },
     "faec3f3cb9ab4599b5ad1962b2945c0f": {
      "model_module": "@jupyter-widgets/base",
      "model_module_version": "1.2.0",
      "model_name": "LayoutModel",
      "state": {
       "_model_module": "@jupyter-widgets/base",
       "_model_module_version": "1.2.0",
       "_model_name": "LayoutModel",
       "_view_count": null,
       "_view_module": "@jupyter-widgets/base",
       "_view_module_version": "1.2.0",
       "_view_name": "LayoutView",
       "align_content": null,
       "align_items": null,
       "align_self": null,
       "border": null,
       "bottom": null,
       "display": null,
       "flex": null,
       "flex_flow": null,
       "grid_area": null,
       "grid_auto_columns": null,
       "grid_auto_flow": null,
       "grid_auto_rows": null,
       "grid_column": null,
       "grid_gap": null,
       "grid_row": null,
       "grid_template_areas": null,
       "grid_template_columns": null,
       "grid_template_rows": null,
       "height": null,
       "justify_content": null,
       "justify_items": null,
       "left": null,
       "margin": null,
       "max_height": null,
       "max_width": null,
       "min_height": null,
       "min_width": null,
       "object_fit": null,
       "object_position": null,
       "order": null,
       "overflow": null,
       "overflow_x": null,
       "overflow_y": null,
       "padding": null,
       "right": null,
       "top": null,
       "visibility": null,
       "width": null
      }
     }
    },
    "version_major": 2,
    "version_minor": 0
   }
  }
 },
 "nbformat": 4,
 "nbformat_minor": 4
}
