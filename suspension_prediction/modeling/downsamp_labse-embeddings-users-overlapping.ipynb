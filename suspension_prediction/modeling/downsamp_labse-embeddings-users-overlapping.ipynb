{
 "cells": [
  {
   "cell_type": "markdown",
   "metadata": {
    "papermill": {
     "duration": 0.048485,
     "end_time": "2021-05-18T01:05:52.092475",
     "exception": false,
     "start_time": "2021-05-18T01:05:52.043990",
     "status": "completed"
    },
    "tags": []
   },
   "source": [
    "### Load in Packages and Set Up Parameters"
   ]
  },
  {
   "cell_type": "code",
   "execution_count": 1,
   "metadata": {
    "_cell_guid": "b1076dfc-b9ad-4769-8c92-a6c4dae69d19",
    "_uuid": "8f2839f25d086af736a60e9eeb907d3b93b6e0e5",
    "execution": {
     "iopub.execute_input": "2021-05-18T01:05:52.194254Z",
     "iopub.status.busy": "2021-05-18T01:05:52.193624Z",
     "iopub.status.idle": "2021-05-18T01:05:57.057959Z",
     "shell.execute_reply": "2021-05-18T01:05:57.056949Z"
    },
    "papermill": {
     "duration": 4.918853,
     "end_time": "2021-05-18T01:05:57.058076",
     "exception": false,
     "start_time": "2021-05-18T01:05:52.139223",
     "status": "completed"
    },
    "tags": []
   },
   "outputs": [],
   "source": [
    "import pandas as pd\n",
    "from keras.preprocessing.sequence import pad_sequences\n",
    "\n",
    "import matplotlib.pyplot as plt\n",
    "%matplotlib inline"
   ]
  },
  {
   "cell_type": "code",
   "execution_count": 2,
   "metadata": {
    "execution": {
     "iopub.execute_input": "2021-05-18T01:05:59.178927Z",
     "iopub.status.busy": "2021-05-18T01:05:59.178132Z",
     "iopub.status.idle": "2021-05-18T01:05:59.181623Z",
     "shell.execute_reply": "2021-05-18T01:05:59.182071Z"
    },
    "papermill": {
     "duration": 2.04487,
     "end_time": "2021-05-18T01:05:59.182194",
     "exception": false,
     "start_time": "2021-05-18T01:05:57.137324",
     "status": "completed"
    },
    "tags": []
   },
   "outputs": [
    {
     "name": "stdout",
     "output_type": "stream",
     "text": [
      "Found GPU at: /device:GPU:0\n"
     ]
    }
   ],
   "source": [
    "import tensorflow as tf\n",
    "# Get the GPU device name.\n",
    "device_name = tf.test.gpu_device_name()\n",
    "# The device name should look like the following:\n",
    "if device_name == '/device:GPU:0':\n",
    "    print('Found GPU at: {}'.format(device_name))\n",
    "else:\n",
    "    raise SystemError('GPU device not found')"
   ]
  },
  {
   "cell_type": "markdown",
   "metadata": {
    "papermill": {
     "duration": 0.047107,
     "end_time": "2021-05-18T01:05:59.277126",
     "exception": false,
     "start_time": "2021-05-18T01:05:59.230019",
     "status": "completed"
    },
    "tags": []
   },
   "source": [
    "In order for torch to use the GPU, we need to identify and specify the GPU as the device. Later, in our training loop, we will load data onto the device"
   ]
  },
  {
   "cell_type": "code",
   "execution_count": 3,
   "metadata": {
    "execution": {
     "iopub.execute_input": "2021-05-18T01:05:59.377656Z",
     "iopub.status.busy": "2021-05-18T01:05:59.376922Z",
     "iopub.status.idle": "2021-05-18T01:06:00.498904Z",
     "shell.execute_reply": "2021-05-18T01:06:00.497786Z"
    },
    "papermill": {
     "duration": 1.174917,
     "end_time": "2021-05-18T01:06:00.499039",
     "exception": false,
     "start_time": "2021-05-18T01:05:59.324122",
     "status": "completed"
    },
    "tags": []
   },
   "outputs": [
    {
     "name": "stdout",
     "output_type": "stream",
     "text": [
      "There are 1 GPU(s) available.\n",
      "We will use the GPU: Tesla P100-PCIE-16GB\n"
     ]
    }
   ],
   "source": [
    "import torch\n",
    "# If there's a GPU available...\n",
    "if torch.cuda.is_available():    \n",
    "    # Tell PyTorch to use the GPU.    \n",
    "    device = torch.device(\"cuda\")\n",
    "    print('There are %d GPU(s) available.' % torch.cuda.device_count())\n",
    "    print('We will use the GPU:', torch.cuda.get_device_name(0))\n",
    "# If not...\n",
    "else:\n",
    "    print('No GPU available, using the CPU instead.')\n",
    "    device = torch.device(\"cpu\")"
   ]
  },
  {
   "cell_type": "markdown",
   "metadata": {
    "papermill": {
     "duration": 0.047589,
     "end_time": "2021-05-18T01:06:00.594940",
     "exception": false,
     "start_time": "2021-05-18T01:06:00.547351",
     "status": "completed"
    },
    "tags": []
   },
   "source": [
    "[link text](https://)Next, let’s install the transformers package from Hugging Face which will give us a pytorch interface for working with BERT. (This library contains interfaces for other pretrained language models like OpenAI’s GPT and GPT-2.) We’ve selected the pytorch interface because it strikes a nice balance between the high-level APIs (which are easy to use but don’t provide insight into how things work) and tensorflow code (which contains lots of details but often sidetracks us into lessons about tensorflow, when the purpose here is BERT!)."
   ]
  },
  {
   "cell_type": "code",
   "execution_count": 4,
   "metadata": {
    "execution": {
     "iopub.execute_input": "2021-05-18T01:06:00.695468Z",
     "iopub.status.busy": "2021-05-18T01:06:00.694922Z",
     "iopub.status.idle": "2021-05-18T01:06:08.541332Z",
     "shell.execute_reply": "2021-05-18T01:06:08.540092Z"
    },
    "papermill": {
     "duration": 7.899224,
     "end_time": "2021-05-18T01:06:08.541481",
     "exception": false,
     "start_time": "2021-05-18T01:06:00.642257",
     "status": "completed"
    },
    "tags": []
   },
   "outputs": [
    {
     "name": "stdout",
     "output_type": "stream",
     "text": [
      "Requirement already satisfied: transformers in /opt/conda/lib/python3.7/site-packages (3.5.1)\r\n",
      "Requirement already satisfied: protobuf in /opt/conda/lib/python3.7/site-packages (from transformers) (3.14.0)\r\n",
      "Requirement already satisfied: requests in /opt/conda/lib/python3.7/site-packages (from transformers) (2.23.0)\r\n",
      "Requirement already satisfied: regex!=2019.12.17 in /opt/conda/lib/python3.7/site-packages (from transformers) (2020.4.4)\r\n",
      "Requirement already satisfied: packaging in /opt/conda/lib/python3.7/site-packages (from transformers) (20.1)\r\n",
      "Requirement already satisfied: tokenizers==0.9.3 in /opt/conda/lib/python3.7/site-packages (from transformers) (0.9.3)\r\n",
      "Requirement already satisfied: tqdm>=4.27 in /opt/conda/lib/python3.7/site-packages (from transformers) (4.45.0)\r\n",
      "Requirement already satisfied: sacremoses in /opt/conda/lib/python3.7/site-packages (from transformers) (0.0.43)\r\n",
      "Requirement already satisfied: filelock in /opt/conda/lib/python3.7/site-packages (from transformers) (3.0.10)\r\n",
      "Requirement already satisfied: sentencepiece==0.1.91 in /opt/conda/lib/python3.7/site-packages (from transformers) (0.1.91)\r\n",
      "Requirement already satisfied: numpy in /opt/conda/lib/python3.7/site-packages (from transformers) (1.18.5)\r\n",
      "Requirement already satisfied: pyparsing>=2.0.2 in /opt/conda/lib/python3.7/site-packages (from packaging->transformers) (2.4.7)\r\n",
      "Requirement already satisfied: six in /opt/conda/lib/python3.7/site-packages (from packaging->transformers) (1.14.0)\r\n",
      "Requirement already satisfied: six in /opt/conda/lib/python3.7/site-packages (from packaging->transformers) (1.14.0)\r\n",
      "Requirement already satisfied: certifi>=2017.4.17 in /opt/conda/lib/python3.7/site-packages (from requests->transformers) (2020.12.5)\r\n",
      "Requirement already satisfied: urllib3!=1.25.0,!=1.25.1,<1.26,>=1.21.1 in /opt/conda/lib/python3.7/site-packages (from requests->transformers) (1.25.9)\r\n",
      "Requirement already satisfied: idna<3,>=2.5 in /opt/conda/lib/python3.7/site-packages (from requests->transformers) (2.9)\r\n",
      "Requirement already satisfied: chardet<4,>=3.0.2 in /opt/conda/lib/python3.7/site-packages (from requests->transformers) (3.0.4)\r\n",
      "Requirement already satisfied: six in /opt/conda/lib/python3.7/site-packages (from packaging->transformers) (1.14.0)\r\n",
      "Requirement already satisfied: joblib in /opt/conda/lib/python3.7/site-packages (from sacremoses->transformers) (0.14.1)\r\n",
      "Requirement already satisfied: tqdm>=4.27 in /opt/conda/lib/python3.7/site-packages (from transformers) (4.45.0)\r\n",
      "Requirement already satisfied: click in /opt/conda/lib/python3.7/site-packages (from sacremoses->transformers) (7.1.1)\r\n",
      "Requirement already satisfied: regex!=2019.12.17 in /opt/conda/lib/python3.7/site-packages (from transformers) (2020.4.4)\r\n",
      "\u001b[33mWARNING: You are using pip version 20.3.1; however, version 21.1.1 is available.\r\n",
      "You should consider upgrading via the '/opt/conda/bin/python3.7 -m pip install --upgrade pip' command.\u001b[0m\r\n"
     ]
    }
   ],
   "source": [
    "!pip install transformers"
   ]
  },
  {
   "cell_type": "markdown",
   "metadata": {
    "papermill": {
     "duration": 0.079656,
     "end_time": "2021-05-18T01:06:08.709587",
     "exception": false,
     "start_time": "2021-05-18T01:06:08.629931",
     "status": "completed"
    },
    "tags": []
   },
   "source": [
    "### Load in Data"
   ]
  },
  {
   "cell_type": "code",
   "execution_count": 5,
   "metadata": {
    "execution": {
     "iopub.execute_input": "2021-05-18T01:06:08.815321Z",
     "iopub.status.busy": "2021-05-18T01:06:08.814775Z",
     "iopub.status.idle": "2021-05-18T01:06:09.153942Z",
     "shell.execute_reply": "2021-05-18T01:06:09.152468Z"
    },
    "papermill": {
     "duration": 0.394484,
     "end_time": "2021-05-18T01:06:09.154069",
     "exception": false,
     "start_time": "2021-05-18T01:06:08.759585",
     "status": "completed"
    },
    "tags": []
   },
   "outputs": [],
   "source": [
    "#### Load in data from S3\n",
    "\n",
    "# Import Train and Measure Balance\n",
    "# Import Flattened Data\n",
    "df_train_f = pd.read_csv(\"/kaggle/input/overlapping-downsamp/downsamp_df_train_full_cleaned_pe.csv\", encoding='utf_8_sig', low_memory=False)\n",
    "\n",
    "# Import Test and Measure Balance\n",
    "\n",
    "df_test_f = pd.read_csv(\"/kaggle/input/overlapping-downsamp/downsamp_df_test_full_cleaned_pe.csv\", encoding='utf_8_sig', low_memory=False)\n",
    "\n",
    "# Import Validation and Measure Balance\n",
    "# Import Flattened Data\n",
    "df_valid_f = pd.read_csv(\"/kaggle/input/overlapping-downsamp/downsamp_df_valid_full_cleaned_pe.csv\", encoding='utf_8_sig', low_memory=False)"
   ]
  },
  {
   "cell_type": "code",
   "execution_count": 6,
   "metadata": {
    "execution": {
     "iopub.execute_input": "2021-05-18T01:06:09.270412Z",
     "iopub.status.busy": "2021-05-18T01:06:09.269823Z",
     "iopub.status.idle": "2021-05-18T01:06:09.279144Z",
     "shell.execute_reply": "2021-05-18T01:06:09.279567Z"
    },
    "papermill": {
     "duration": 0.075331,
     "end_time": "2021-05-18T01:06:09.279676",
     "exception": false,
     "start_time": "2021-05-18T01:06:09.204345",
     "status": "completed"
    },
    "tags": []
   },
   "outputs": [
    {
     "data": {
      "text/html": [
       "<div>\n",
       "<style scoped>\n",
       "    .dataframe tbody tr th:only-of-type {\n",
       "        vertical-align: middle;\n",
       "    }\n",
       "\n",
       "    .dataframe tbody tr th {\n",
       "        vertical-align: top;\n",
       "    }\n",
       "\n",
       "    .dataframe thead th {\n",
       "        text-align: right;\n",
       "    }\n",
       "</style>\n",
       "<table border=\"1\" class=\"dataframe\">\n",
       "  <thead>\n",
       "    <tr style=\"text-align: right;\">\n",
       "      <th></th>\n",
       "      <th>id</th>\n",
       "      <th>user.screen_name</th>\n",
       "      <th>user.id</th>\n",
       "      <th>text</th>\n",
       "      <th>suspended</th>\n",
       "    </tr>\n",
       "  </thead>\n",
       "  <tbody>\n",
       "    <tr>\n",
       "      <th>0</th>\n",
       "      <td>16</td>\n",
       "      <td>AnnaAdachi4</td>\n",
       "      <td>1.278150e+18</td>\n",
       "      <td>DC18RE 互換充電器 2口充電器 適合マキタ 10.8V/14.4V/18V リチウムイ...</td>\n",
       "      <td>1</td>\n",
       "    </tr>\n",
       "    <tr>\n",
       "      <th>1</th>\n",
       "      <td>17</td>\n",
       "      <td>AnnaAdachi4</td>\n",
       "      <td>1.278150e+18</td>\n",
       "      <td>DC18RC バッテリー 充電器 https://t.co/ZJnwSOSLRG マキタ 充...</td>\n",
       "      <td>1</td>\n",
       "    </tr>\n",
       "    <tr>\n",
       "      <th>2</th>\n",
       "      <td>18</td>\n",
       "      <td>AnnaAdachi4</td>\n",
       "      <td>1.278150e+18</td>\n",
       "      <td>互換充電器 DC18RD マキタ 18v 14.4v バッテリ 対応 BL1430 BL14...</td>\n",
       "      <td>1</td>\n",
       "    </tr>\n",
       "    <tr>\n",
       "      <th>3</th>\n",
       "      <td>19</td>\n",
       "      <td>AnnaAdachi4</td>\n",
       "      <td>1.278150e+18</td>\n",
       "      <td>BL1840 BL1850… https://t.co/rfB8HlaIq3 WaxPar ...</td>\n",
       "      <td>1</td>\n",
       "    </tr>\n",
       "    <tr>\n",
       "      <th>4</th>\n",
       "      <td>20</td>\n",
       "      <td>AnnaAdachi4</td>\n",
       "      <td>1.278150e+18</td>\n",
       "      <td>14.4V 18V リチウムイオンバッテリ用 マキタ バッテリー BL1430 BL1440...</td>\n",
       "      <td>1</td>\n",
       "    </tr>\n",
       "    <tr>\n",
       "      <th>5</th>\n",
       "      <td>21</td>\n",
       "      <td>AnnaAdachi4</td>\n",
       "      <td>1.278150e+18</td>\n",
       "      <td>インパクト マキタ互換 電池 BL1830 BL1840 BL1850B BL1860B 本...</td>\n",
       "      <td>1</td>\n",
       "    </tr>\n",
       "  </tbody>\n",
       "</table>\n",
       "</div>"
      ],
      "text/plain": [
       "   id user.screen_name       user.id  \\\n",
       "0  16      AnnaAdachi4  1.278150e+18   \n",
       "1  17      AnnaAdachi4  1.278150e+18   \n",
       "2  18      AnnaAdachi4  1.278150e+18   \n",
       "3  19      AnnaAdachi4  1.278150e+18   \n",
       "4  20      AnnaAdachi4  1.278150e+18   \n",
       "5  21      AnnaAdachi4  1.278150e+18   \n",
       "\n",
       "                                                text  suspended  \n",
       "0  DC18RE 互換充電器 2口充電器 適合マキタ 10.8V/14.4V/18V リチウムイ...          1  \n",
       "1  DC18RC バッテリー 充電器 https://t.co/ZJnwSOSLRG マキタ 充...          1  \n",
       "2  互換充電器 DC18RD マキタ 18v 14.4v バッテリ 対応 BL1430 BL14...          1  \n",
       "3  BL1840 BL1850… https://t.co/rfB8HlaIq3 WaxPar ...          1  \n",
       "4  14.4V 18V リチウムイオンバッテリ用 マキタ バッテリー BL1430 BL1440...          1  \n",
       "5  インパクト マキタ互換 電池 BL1830 BL1840 BL1850B BL1860B 本...          1  "
      ]
     },
     "execution_count": 6,
     "metadata": {},
     "output_type": "execute_result"
    }
   ],
   "source": [
    "df_train_f.head(6)"
   ]
  },
  {
   "cell_type": "code",
   "execution_count": 7,
   "metadata": {
    "execution": {
     "iopub.execute_input": "2021-05-18T01:06:09.388117Z",
     "iopub.status.busy": "2021-05-18T01:06:09.385375Z",
     "iopub.status.idle": "2021-05-18T01:06:09.391158Z",
     "shell.execute_reply": "2021-05-18T01:06:09.391914Z"
    },
    "papermill": {
     "duration": 0.062133,
     "end_time": "2021-05-18T01:06:09.392065",
     "exception": false,
     "start_time": "2021-05-18T01:06:09.329932",
     "status": "completed"
    },
    "tags": []
   },
   "outputs": [
    {
     "name": "stdout",
     "output_type": "stream",
     "text": [
      "full train: 1292 unique ids train: 1292 full valid: 786 unique ids valid: 786 full test: 2779 unique ids test: 2779\n"
     ]
    }
   ],
   "source": [
    "print(\"full train:\", len(df_train_f), \"unique ids train:\", len(df_train_f['id'].unique()), \n",
    "      \"full valid:\", len(df_valid_f), \"unique ids valid:\", len(df_valid_f['id'].unique()), \n",
    "      \"full test:\", len(df_test_f), \"unique ids test:\", len(df_test_f['id'].unique()))\n",
    "\n",
    "#print(\"Train:\", len(sentences_train), \"Valid:\", len(sentences_valid), \"Test\", len(sentences_test))"
   ]
  },
  {
   "cell_type": "code",
   "execution_count": 8,
   "metadata": {
    "execution": {
     "iopub.execute_input": "2021-05-18T01:06:09.505094Z",
     "iopub.status.busy": "2021-05-18T01:06:09.504290Z",
     "iopub.status.idle": "2021-05-18T01:06:09.507185Z",
     "shell.execute_reply": "2021-05-18T01:06:09.506766Z"
    },
    "papermill": {
     "duration": 0.063931,
     "end_time": "2021-05-18T01:06:09.507284",
     "exception": false,
     "start_time": "2021-05-18T01:06:09.443353",
     "status": "completed"
    },
    "tags": []
   },
   "outputs": [],
   "source": [
    "df_train = df_train_f.drop([\"user.screen_name\"], axis=1)\n",
    "df_valid = df_valid_f.drop([\"user.screen_name\"], axis=1)\n",
    "df_test = df_test_f.drop([\"user.screen_name\"], axis=1)"
   ]
  },
  {
   "cell_type": "code",
   "execution_count": 9,
   "metadata": {
    "execution": {
     "iopub.execute_input": "2021-05-18T01:06:09.611518Z",
     "iopub.status.busy": "2021-05-18T01:06:09.610865Z",
     "iopub.status.idle": "2021-05-18T01:06:09.613726Z",
     "shell.execute_reply": "2021-05-18T01:06:09.613195Z"
    },
    "papermill": {
     "duration": 0.056614,
     "end_time": "2021-05-18T01:06:09.613868",
     "exception": false,
     "start_time": "2021-05-18T01:06:09.557254",
     "status": "completed"
    },
    "tags": []
   },
   "outputs": [],
   "source": [
    "# FOR TESING OUT CODE PURPOSE ONLY. REMOVE ONCE ALL IS WORKING. \n",
    "#df_train = df_train[:2000]\n",
    "#df_valid = df_valid[:2000]\n",
    "#df_test = df_test[:2000]\n"
   ]
  },
  {
   "cell_type": "code",
   "execution_count": 10,
   "metadata": {
    "execution": {
     "iopub.execute_input": "2021-05-18T01:06:09.724732Z",
     "iopub.status.busy": "2021-05-18T01:06:09.723691Z",
     "iopub.status.idle": "2021-05-18T01:06:09.727339Z",
     "shell.execute_reply": "2021-05-18T01:06:09.727737Z"
    },
    "papermill": {
     "duration": 0.063964,
     "end_time": "2021-05-18T01:06:09.727861",
     "exception": false,
     "start_time": "2021-05-18T01:06:09.663897",
     "status": "completed"
    },
    "tags": []
   },
   "outputs": [
    {
     "data": {
      "text/html": [
       "<div>\n",
       "<style scoped>\n",
       "    .dataframe tbody tr th:only-of-type {\n",
       "        vertical-align: middle;\n",
       "    }\n",
       "\n",
       "    .dataframe tbody tr th {\n",
       "        vertical-align: top;\n",
       "    }\n",
       "\n",
       "    .dataframe thead th {\n",
       "        text-align: right;\n",
       "    }\n",
       "</style>\n",
       "<table border=\"1\" class=\"dataframe\">\n",
       "  <thead>\n",
       "    <tr style=\"text-align: right;\">\n",
       "      <th></th>\n",
       "      <th>id</th>\n",
       "      <th>user.id</th>\n",
       "      <th>text</th>\n",
       "      <th>suspended</th>\n",
       "    </tr>\n",
       "  </thead>\n",
       "  <tbody>\n",
       "    <tr>\n",
       "      <th>0</th>\n",
       "      <td>16</td>\n",
       "      <td>1.278150e+18</td>\n",
       "      <td>DC18RE 互換充電器 2口充電器 適合マキタ 10.8V/14.4V/18V リチウムイ...</td>\n",
       "      <td>1</td>\n",
       "    </tr>\n",
       "    <tr>\n",
       "      <th>1</th>\n",
       "      <td>17</td>\n",
       "      <td>1.278150e+18</td>\n",
       "      <td>DC18RC バッテリー 充電器 https://t.co/ZJnwSOSLRG マキタ 充...</td>\n",
       "      <td>1</td>\n",
       "    </tr>\n",
       "    <tr>\n",
       "      <th>2</th>\n",
       "      <td>18</td>\n",
       "      <td>1.278150e+18</td>\n",
       "      <td>互換充電器 DC18RD マキタ 18v 14.4v バッテリ 対応 BL1430 BL14...</td>\n",
       "      <td>1</td>\n",
       "    </tr>\n",
       "    <tr>\n",
       "      <th>3</th>\n",
       "      <td>19</td>\n",
       "      <td>1.278150e+18</td>\n",
       "      <td>BL1840 BL1850… https://t.co/rfB8HlaIq3 WaxPar ...</td>\n",
       "      <td>1</td>\n",
       "    </tr>\n",
       "    <tr>\n",
       "      <th>4</th>\n",
       "      <td>20</td>\n",
       "      <td>1.278150e+18</td>\n",
       "      <td>14.4V 18V リチウムイオンバッテリ用 マキタ バッテリー BL1430 BL1440...</td>\n",
       "      <td>1</td>\n",
       "    </tr>\n",
       "  </tbody>\n",
       "</table>\n",
       "</div>"
      ],
      "text/plain": [
       "   id       user.id                                               text  \\\n",
       "0  16  1.278150e+18  DC18RE 互換充電器 2口充電器 適合マキタ 10.8V/14.4V/18V リチウムイ...   \n",
       "1  17  1.278150e+18  DC18RC バッテリー 充電器 https://t.co/ZJnwSOSLRG マキタ 充...   \n",
       "2  18  1.278150e+18  互換充電器 DC18RD マキタ 18v 14.4v バッテリ 対応 BL1430 BL14...   \n",
       "3  19  1.278150e+18  BL1840 BL1850… https://t.co/rfB8HlaIq3 WaxPar ...   \n",
       "4  20  1.278150e+18  14.4V 18V リチウムイオンバッテリ用 マキタ バッテリー BL1430 BL1440...   \n",
       "\n",
       "   suspended  \n",
       "0          1  \n",
       "1          1  \n",
       "2          1  \n",
       "3          1  \n",
       "4          1  "
      ]
     },
     "execution_count": 10,
     "metadata": {},
     "output_type": "execute_result"
    }
   ],
   "source": [
    "df_train.head()"
   ]
  },
  {
   "cell_type": "markdown",
   "metadata": {
    "papermill": {
     "duration": 0.05097,
     "end_time": "2021-05-18T01:06:09.830256",
     "exception": false,
     "start_time": "2021-05-18T01:06:09.779286",
     "status": "completed"
    },
    "tags": []
   },
   "source": [
    "Concatanate all texts to get one doc j per each user i"
   ]
  },
  {
   "cell_type": "code",
   "execution_count": 11,
   "metadata": {
    "execution": {
     "iopub.execute_input": "2021-05-18T01:06:09.938374Z",
     "iopub.status.busy": "2021-05-18T01:06:09.937800Z",
     "iopub.status.idle": "2021-05-18T01:06:13.234922Z",
     "shell.execute_reply": "2021-05-18T01:06:13.233265Z"
    },
    "papermill": {
     "duration": 3.353477,
     "end_time": "2021-05-18T01:06:13.235037",
     "exception": false,
     "start_time": "2021-05-18T01:06:09.881560",
     "status": "completed"
    },
    "tags": []
   },
   "outputs": [],
   "source": [
    "import numpy as np\n",
    "import pandas as pd\n",
    "import torch\n",
    "import transformers as ppb # pytorch transformers\n",
    "from sklearn.linear_model import LogisticRegression\n",
    "from sklearn.model_selection import cross_val_score\n",
    "from sklearn.model_selection import train_test_split\n",
    "from numba import cuda \n",
    "import gc\n",
    "\n",
    "from sklearn.metrics import roc_auc_score\n",
    "from sklearn.metrics import roc_curve"
   ]
  },
  {
   "cell_type": "code",
   "execution_count": 12,
   "metadata": {
    "execution": {
     "iopub.execute_input": "2021-05-18T01:06:13.508431Z",
     "iopub.status.busy": "2021-05-18T01:06:13.506577Z",
     "iopub.status.idle": "2021-05-18T01:06:13.509034Z",
     "shell.execute_reply": "2021-05-18T01:06:13.509455Z"
    },
    "papermill": {
     "duration": 0.222528,
     "end_time": "2021-05-18T01:06:13.509574",
     "exception": false,
     "start_time": "2021-05-18T01:06:13.287046",
     "status": "completed"
    },
    "tags": []
   },
   "outputs": [],
   "source": [
    "gc.collect()\n",
    "torch.cuda.empty_cache()"
   ]
  },
  {
   "cell_type": "code",
   "execution_count": 13,
   "metadata": {
    "execution": {
     "iopub.execute_input": "2021-05-18T01:06:13.620251Z",
     "iopub.status.busy": "2021-05-18T01:06:13.619503Z",
     "iopub.status.idle": "2021-05-18T01:06:13.622736Z",
     "shell.execute_reply": "2021-05-18T01:06:13.622321Z"
    },
    "papermill": {
     "duration": 0.061269,
     "end_time": "2021-05-18T01:06:13.622845",
     "exception": false,
     "start_time": "2021-05-18T01:06:13.561576",
     "status": "completed"
    },
    "tags": []
   },
   "outputs": [],
   "source": [
    "# Get the lists of sentences and their labels.\n",
    "sentences_train = df_train.text.values\n",
    "train_labels = df_train.suspended.values\n",
    "ids_train = df_train.index.values\n",
    "\n",
    "sentences_valid = df_valid.text.values\n",
    "validation_labels = df_valid.suspended.values\n",
    "ids_validation = df_valid.index.values\n",
    "\n",
    "sentences_test = df_test.text.values\n",
    "test_labels = df_test.suspended.values\n",
    "ids_test = df_test.index.values"
   ]
  },
  {
   "cell_type": "code",
   "execution_count": 14,
   "metadata": {
    "execution": {
     "iopub.execute_input": "2021-05-18T01:06:13.735336Z",
     "iopub.status.busy": "2021-05-18T01:06:13.734360Z",
     "iopub.status.idle": "2021-05-18T01:06:13.740572Z",
     "shell.execute_reply": "2021-05-18T01:06:13.739933Z"
    },
    "papermill": {
     "duration": 0.066258,
     "end_time": "2021-05-18T01:06:13.740704",
     "exception": false,
     "start_time": "2021-05-18T01:06:13.674446",
     "status": "completed"
    },
    "tags": []
   },
   "outputs": [
    {
     "name": "stdout",
     "output_type": "stream",
     "text": [
      "Train: 1292 Valid: 786 Test 2779\n"
     ]
    }
   ],
   "source": [
    "print(\"Train:\", len(sentences_train), \"Valid:\", len(sentences_valid), \"Test\", len(sentences_test))"
   ]
  },
  {
   "cell_type": "markdown",
   "metadata": {
    "papermill": {
     "duration": 0.05412,
     "end_time": "2021-05-18T01:06:13.850587",
     "exception": false,
     "start_time": "2021-05-18T01:06:13.796467",
     "status": "completed"
    },
    "tags": []
   },
   "source": [
    "### Load in Model and Tokenizer"
   ]
  },
  {
   "cell_type": "code",
   "execution_count": 15,
   "metadata": {
    "execution": {
     "iopub.execute_input": "2021-05-18T01:06:13.960729Z",
     "iopub.status.busy": "2021-05-18T01:06:13.959937Z",
     "iopub.status.idle": "2021-05-18T01:06:15.867103Z",
     "shell.execute_reply": "2021-05-18T01:06:15.866555Z"
    },
    "papermill": {
     "duration": 1.963285,
     "end_time": "2021-05-18T01:06:15.867212",
     "exception": false,
     "start_time": "2021-05-18T01:06:13.903927",
     "status": "completed"
    },
    "tags": []
   },
   "outputs": [
    {
     "data": {
      "application/vnd.jupyter.widget-view+json": {
       "model_id": "a992ac8a262841fb9aea2be15d375b92",
       "version_major": 2,
       "version_minor": 0
      },
      "text/plain": [
       "HBox(children=(FloatProgress(value=0.0, description='Downloading', max=5220781.0, style=ProgressStyle(descript…"
      ]
     },
     "metadata": {},
     "output_type": "display_data"
    },
    {
     "name": "stdout",
     "output_type": "stream",
     "text": [
      "\n"
     ]
    },
    {
     "data": {
      "application/vnd.jupyter.widget-view+json": {
       "model_id": "12c2432eb1274f678936a1ca29177d9c",
       "version_major": 2,
       "version_minor": 0
      },
      "text/plain": [
       "HBox(children=(FloatProgress(value=0.0, description='Downloading', max=112.0, style=ProgressStyle(description_…"
      ]
     },
     "metadata": {},
     "output_type": "display_data"
    },
    {
     "name": "stdout",
     "output_type": "stream",
     "text": [
      "\n"
     ]
    },
    {
     "data": {
      "application/vnd.jupyter.widget-view+json": {
       "model_id": "1168257e3fee43f685e0c6b6aa66b132",
       "version_major": 2,
       "version_minor": 0
      },
      "text/plain": [
       "HBox(children=(FloatProgress(value=0.0, description='Downloading', max=62.0, style=ProgressStyle(description_w…"
      ]
     },
     "metadata": {},
     "output_type": "display_data"
    },
    {
     "name": "stdout",
     "output_type": "stream",
     "text": [
      "\n"
     ]
    }
   ],
   "source": [
    "# https://huggingface.co/pvl/labse_bert\n",
    "model_class, tokenizer_class, pretrained_weights = (ppb.BertModel, ppb.BertTokenizer, 'pvl/labse_bert')\n",
    "\n",
    "# Load pretrained model/tokenizer\n",
    "tokenizer = tokenizer_class.from_pretrained(pretrained_weights)\n",
    "#model = model_class.from_pretrained(pretrained_weights)"
   ]
  },
  {
   "cell_type": "code",
   "execution_count": 16,
   "metadata": {
    "execution": {
     "iopub.execute_input": "2021-05-18T01:06:16.195007Z",
     "iopub.status.busy": "2021-05-18T01:06:16.193008Z",
     "iopub.status.idle": "2021-05-18T01:06:16.195617Z",
     "shell.execute_reply": "2021-05-18T01:06:16.196091Z"
    },
    "papermill": {
     "duration": 0.273194,
     "end_time": "2021-05-18T01:06:16.196223",
     "exception": false,
     "start_time": "2021-05-18T01:06:15.923029",
     "status": "completed"
    },
    "tags": []
   },
   "outputs": [],
   "source": [
    "gc.collect()\n",
    "torch.cuda.empty_cache()"
   ]
  },
  {
   "cell_type": "code",
   "execution_count": 17,
   "metadata": {
    "execution": {
     "iopub.execute_input": "2021-05-18T01:06:16.310257Z",
     "iopub.status.busy": "2021-05-18T01:06:16.309455Z",
     "iopub.status.idle": "2021-05-18T01:06:17.467053Z",
     "shell.execute_reply": "2021-05-18T01:06:17.466487Z"
    },
    "papermill": {
     "duration": 1.215608,
     "end_time": "2021-05-18T01:06:17.467168",
     "exception": false,
     "start_time": "2021-05-18T01:06:16.251560",
     "status": "completed"
    },
    "tags": []
   },
   "outputs": [
    {
     "name": "stdout",
     "output_type": "stream",
     "text": [
      "Loading BERT tokenizer...\n"
     ]
    }
   ],
   "source": [
    "from transformers import BertTokenizer\n",
    "# Load the BERT tokenizer.\n",
    "print('Loading BERT tokenizer...')\n",
    "tokenizer = BertTokenizer.from_pretrained('pvl/labse_bert', do_lower_case=True)"
   ]
  },
  {
   "cell_type": "markdown",
   "metadata": {
    "papermill": {
     "duration": 0.05557,
     "end_time": "2021-05-18T01:06:17.579072",
     "exception": false,
     "start_time": "2021-05-18T01:06:17.523502",
     "status": "completed"
    },
    "tags": []
   },
   "source": [
    "### Prep Data for Model"
   ]
  },
  {
   "cell_type": "code",
   "execution_count": 18,
   "metadata": {
    "execution": {
     "iopub.execute_input": "2021-05-18T01:06:17.695331Z",
     "iopub.status.busy": "2021-05-18T01:06:17.694477Z",
     "iopub.status.idle": "2021-05-18T01:06:17.697405Z",
     "shell.execute_reply": "2021-05-18T01:06:17.696977Z"
    },
    "papermill": {
     "duration": 0.063645,
     "end_time": "2021-05-18T01:06:17.697494",
     "exception": false,
     "start_time": "2021-05-18T01:06:17.633849",
     "status": "completed"
    },
    "tags": []
   },
   "outputs": [],
   "source": [
    "def sent_to_ids(sentences): \n",
    "    # Tokenize all of the sentences and map the tokens to thier word IDs.\n",
    "    input_ids = []\n",
    "    # For every sentence...\n",
    "    for sent in sentences:\n",
    "        # `encode` will:\n",
    "        #   (1) Tokenize the sentence.\n",
    "        #   (2) Prepend the `[CLS]` token to the start.\n",
    "        #   (3) Append the `[SEP]` token to the end.\n",
    "        #   (4) Map tokens to their IDs.\n",
    "        encoded_sent = tokenizer.encode(\n",
    "            sent,                      # Sentence to encode.\n",
    "            add_special_tokens = True, # Add '[CLS]' and '[SEP]'\n",
    "                          # This function also supports truncation and conversion\n",
    "                          # to pytorch tensors, but we need to do padding, so we\n",
    "                          # can't use these features :( .\n",
    "                          #max_length = 128,          # Truncate all sentences.\n",
    "                          #return_tensors = 'pt',     # Return pytorch tensors.\n",
    "        )\n",
    "      \n",
    "        # Add the encoded sentence to the list.\n",
    "        input_ids.append(encoded_sent)\n",
    "    # Pad and truncate our sequences so that they all have the same length\n",
    "    input_ids = pad_sequences(input_ids, maxlen=120, dtype=\"long\", \n",
    "                            value=0, truncating=\"post\", padding=\"post\")\n",
    "    # Print sentence 0, now as a list of IDs.\n",
    "    return input_ids\n",
    "\n",
    "# SWIMMING STEMMED INTO SWIM AND M AND ING (SO LEN IS FOR EACH OF THOSE)"
   ]
  },
  {
   "cell_type": "code",
   "execution_count": 19,
   "metadata": {
    "execution": {
     "iopub.execute_input": "2021-05-18T01:06:17.842067Z",
     "iopub.status.busy": "2021-05-18T01:06:17.831847Z",
     "iopub.status.idle": "2021-05-18T01:06:32.181029Z",
     "shell.execute_reply": "2021-05-18T01:06:32.180033Z"
    },
    "papermill": {
     "duration": 14.427154,
     "end_time": "2021-05-18T01:06:32.181151",
     "exception": false,
     "start_time": "2021-05-18T01:06:17.753997",
     "status": "completed"
    },
    "tags": []
   },
   "outputs": [],
   "source": [
    "train_inputs = sent_to_ids(sentences_train)"
   ]
  },
  {
   "cell_type": "code",
   "execution_count": 20,
   "metadata": {
    "execution": {
     "iopub.execute_input": "2021-05-18T01:06:32.305014Z",
     "iopub.status.busy": "2021-05-18T01:06:32.304215Z",
     "iopub.status.idle": "2021-05-18T01:06:40.532775Z",
     "shell.execute_reply": "2021-05-18T01:06:40.531402Z"
    },
    "papermill": {
     "duration": 8.29621,
     "end_time": "2021-05-18T01:06:40.532890",
     "exception": false,
     "start_time": "2021-05-18T01:06:32.236680",
     "status": "completed"
    },
    "tags": []
   },
   "outputs": [],
   "source": [
    "validation_inputs = sent_to_ids(sentences_valid)"
   ]
  },
  {
   "cell_type": "code",
   "execution_count": 21,
   "metadata": {
    "execution": {
     "iopub.execute_input": "2021-05-18T01:06:40.686932Z",
     "iopub.status.busy": "2021-05-18T01:06:40.666402Z",
     "iopub.status.idle": "2021-05-18T01:07:10.279228Z",
     "shell.execute_reply": "2021-05-18T01:07:10.278606Z"
    },
    "papermill": {
     "duration": 29.690799,
     "end_time": "2021-05-18T01:07:10.279355",
     "exception": false,
     "start_time": "2021-05-18T01:06:40.588556",
     "status": "completed"
    },
    "tags": []
   },
   "outputs": [],
   "source": [
    "test_inputs = sent_to_ids(sentences_test)"
   ]
  },
  {
   "cell_type": "code",
   "execution_count": 22,
   "metadata": {
    "execution": {
     "iopub.execute_input": "2021-05-18T01:07:10.396319Z",
     "iopub.status.busy": "2021-05-18T01:07:10.395569Z",
     "iopub.status.idle": "2021-05-18T01:07:10.398887Z",
     "shell.execute_reply": "2021-05-18T01:07:10.399405Z"
    },
    "papermill": {
     "duration": 0.064094,
     "end_time": "2021-05-18T01:07:10.399508",
     "exception": false,
     "start_time": "2021-05-18T01:07:10.335414",
     "status": "completed"
    },
    "tags": []
   },
   "outputs": [
    {
     "name": "stdout",
     "output_type": "stream",
     "text": [
      "Train: 1292 Valid: 786 Test 2779\n"
     ]
    }
   ],
   "source": [
    "print(\"Train:\", len(train_inputs), \"Valid:\", len(validation_inputs), \"Test\", len(test_inputs))"
   ]
  },
  {
   "cell_type": "code",
   "execution_count": 23,
   "metadata": {
    "execution": {
     "iopub.execute_input": "2021-05-18T01:07:10.516815Z",
     "iopub.status.busy": "2021-05-18T01:07:10.516015Z",
     "iopub.status.idle": "2021-05-18T01:07:10.518526Z",
     "shell.execute_reply": "2021-05-18T01:07:10.519008Z"
    },
    "papermill": {
     "duration": 0.064137,
     "end_time": "2021-05-18T01:07:10.519136",
     "exception": false,
     "start_time": "2021-05-18T01:07:10.454999",
     "status": "completed"
    },
    "tags": []
   },
   "outputs": [],
   "source": [
    "def get_attn_msks(input_ids):\n",
    "  # Create attention masks\n",
    "    attention_masks = []\n",
    "  # For each sentence...\n",
    "    for sent in input_ids:\n",
    "        # Create the attention mask.\n",
    "        #   - If a token ID is 0, then it's padding, set the mask to 0.\n",
    "        #   - If a token ID is > 0, then it's a real token, set the mask to 1.\n",
    "        att_mask = [int(token_id > 0) for token_id in sent]\n",
    "      \n",
    "        # Store the attention mask for this sentence.\n",
    "        attention_masks.append(att_mask)\n",
    "    return attention_masks"
   ]
  },
  {
   "cell_type": "code",
   "execution_count": 24,
   "metadata": {
    "execution": {
     "iopub.execute_input": "2021-05-18T01:07:10.664453Z",
     "iopub.status.busy": "2021-05-18T01:07:10.659447Z",
     "iopub.status.idle": "2021-05-18T01:07:10.788748Z",
     "shell.execute_reply": "2021-05-18T01:07:10.788277Z"
    },
    "papermill": {
     "duration": 0.213726,
     "end_time": "2021-05-18T01:07:10.788879",
     "exception": false,
     "start_time": "2021-05-18T01:07:10.575153",
     "status": "completed"
    },
    "tags": []
   },
   "outputs": [],
   "source": [
    "train_masks = get_attn_msks(train_inputs)"
   ]
  },
  {
   "cell_type": "code",
   "execution_count": 25,
   "metadata": {
    "execution": {
     "iopub.execute_input": "2021-05-18T01:07:10.924002Z",
     "iopub.status.busy": "2021-05-18T01:07:10.908719Z",
     "iopub.status.idle": "2021-05-18T01:07:10.998070Z",
     "shell.execute_reply": "2021-05-18T01:07:10.997479Z"
    },
    "papermill": {
     "duration": 0.153009,
     "end_time": "2021-05-18T01:07:10.998179",
     "exception": false,
     "start_time": "2021-05-18T01:07:10.845170",
     "status": "completed"
    },
    "tags": []
   },
   "outputs": [],
   "source": [
    "validation_masks = get_attn_msks(validation_inputs)"
   ]
  },
  {
   "cell_type": "code",
   "execution_count": 26,
   "metadata": {
    "execution": {
     "iopub.execute_input": "2021-05-18T01:07:11.136985Z",
     "iopub.status.busy": "2021-05-18T01:07:11.131826Z",
     "iopub.status.idle": "2021-05-18T01:07:11.447134Z",
     "shell.execute_reply": "2021-05-18T01:07:11.446671Z"
    },
    "papermill": {
     "duration": 0.38832,
     "end_time": "2021-05-18T01:07:11.447234",
     "exception": false,
     "start_time": "2021-05-18T01:07:11.058914",
     "status": "completed"
    },
    "tags": []
   },
   "outputs": [],
   "source": [
    "test_masks = get_attn_msks(test_inputs)"
   ]
  },
  {
   "cell_type": "code",
   "execution_count": 27,
   "metadata": {
    "execution": {
     "iopub.execute_input": "2021-05-18T01:07:11.571553Z",
     "iopub.status.busy": "2021-05-18T01:07:11.570909Z",
     "iopub.status.idle": "2021-05-18T01:07:11.614478Z",
     "shell.execute_reply": "2021-05-18T01:07:11.614066Z"
    },
    "papermill": {
     "duration": 0.11118,
     "end_time": "2021-05-18T01:07:11.614570",
     "exception": false,
     "start_time": "2021-05-18T01:07:11.503390",
     "status": "completed"
    },
    "tags": []
   },
   "outputs": [],
   "source": [
    "# Convert all inputs and labels into torch tensors, the required datatype \n",
    "# for our model.\n",
    "train_inputs = torch.tensor(train_inputs)\n",
    "validation_inputs = torch.tensor(validation_inputs)\n",
    "train_labels = torch.tensor(train_labels)\n",
    "validation_labels = torch.tensor(validation_labels)\n",
    "train_masks = torch.tensor(train_masks)\n",
    "validation_masks = torch.tensor(validation_masks)\n",
    "\n",
    "train_ids = torch.tensor(ids_train)\n",
    "valid_ids = torch.tensor(ids_validation)"
   ]
  },
  {
   "cell_type": "code",
   "execution_count": 28,
   "metadata": {
    "execution": {
     "iopub.execute_input": "2021-05-18T01:07:11.733803Z",
     "iopub.status.busy": "2021-05-18T01:07:11.732900Z",
     "iopub.status.idle": "2021-05-18T01:07:11.737392Z",
     "shell.execute_reply": "2021-05-18T01:07:11.736948Z"
    },
    "papermill": {
     "duration": 0.066538,
     "end_time": "2021-05-18T01:07:11.737487",
     "exception": false,
     "start_time": "2021-05-18T01:07:11.670949",
     "status": "completed"
    },
    "tags": []
   },
   "outputs": [
    {
     "name": "stdout",
     "output_type": "stream",
     "text": [
      "Train: 1292 Valid: 786 Test 2779\n"
     ]
    }
   ],
   "source": [
    "print(\"Train:\", len(train_inputs), \"Valid:\", len(validation_inputs), \"Test\", len(test_inputs))"
   ]
  },
  {
   "cell_type": "code",
   "execution_count": 29,
   "metadata": {
    "execution": {
     "iopub.execute_input": "2021-05-18T01:07:11.861007Z",
     "iopub.status.busy": "2021-05-18T01:07:11.860060Z",
     "iopub.status.idle": "2021-05-18T01:07:11.863683Z",
     "shell.execute_reply": "2021-05-18T01:07:11.863223Z"
    },
    "papermill": {
     "duration": 0.068226,
     "end_time": "2021-05-18T01:07:11.863784",
     "exception": false,
     "start_time": "2021-05-18T01:07:11.795558",
     "status": "completed"
    },
    "tags": []
   },
   "outputs": [],
   "source": [
    "from torch.utils.data import TensorDataset, DataLoader, RandomSampler, SequentialSampler\n",
    "# The DataLoader needs to know our batch size for training, so we specify it \n",
    "# here.\n",
    "# For fine-tuning BERT on a specific task, the authors recommend a batch size of\n",
    "# 16 or 32.\n",
    "batch_size = 32 # try 32, and then move down to 16 and 8. \n",
    "# Create the DataLoader for our training set.\n",
    "train_data = TensorDataset(train_inputs, train_masks, train_labels, train_ids)\n",
    "train_sampler = RandomSampler(train_data) # CHANGE TO SEQUENTIAL (TRAIN_SEQUENTIAL_SAMPLER - BUT DO SEQUENTIALLY FOR HIDDEN STATES)\n",
    "train_dataloader = DataLoader(train_data, sampler=train_sampler, batch_size=batch_size)\n",
    "# Create the DataLoader for our validation set.\n",
    "validation_data = TensorDataset(validation_inputs, validation_masks, validation_labels, valid_ids)\n",
    "validation_sampler = SequentialSampler(validation_data)\n",
    "validation_dataloader = DataLoader(validation_data, sampler=validation_sampler, batch_size=batch_size)\n",
    "\n",
    "# Create the DataLoader for our training set for the embedding extraction.\n",
    "train_sampler_sequential = SequentialSampler(train_data) # CHANGE TO SEQUENTIAL (TRAIN_SEQUENTIAL_SAMPLER - BUT DO SEQUENTIALLY FOR HIDDEN STATES)\n",
    "train_dataloader_sequential = DataLoader(train_data, sampler=train_sampler_sequential, batch_size=batch_size)"
   ]
  },
  {
   "cell_type": "code",
   "execution_count": 30,
   "metadata": {
    "execution": {
     "iopub.execute_input": "2021-05-18T01:07:11.983238Z",
     "iopub.status.busy": "2021-05-18T01:07:11.981291Z",
     "iopub.status.idle": "2021-05-18T01:08:26.437699Z",
     "shell.execute_reply": "2021-05-18T01:08:26.438150Z"
    },
    "papermill": {
     "duration": 74.517914,
     "end_time": "2021-05-18T01:08:26.438293",
     "exception": false,
     "start_time": "2021-05-18T01:07:11.920379",
     "status": "completed"
    },
    "tags": []
   },
   "outputs": [
    {
     "data": {
      "application/vnd.jupyter.widget-view+json": {
       "model_id": "dfa9d072afc14a5cb8a86b13caf41c85",
       "version_major": 2,
       "version_minor": 0
      },
      "text/plain": [
       "HBox(children=(FloatProgress(value=0.0, description='Downloading', max=472.0, style=ProgressStyle(description_…"
      ]
     },
     "metadata": {},
     "output_type": "display_data"
    },
    {
     "name": "stdout",
     "output_type": "stream",
     "text": [
      "\n"
     ]
    },
    {
     "data": {
      "application/vnd.jupyter.widget-view+json": {
       "model_id": "8b449bbf0d694a299059f9599972ab1c",
       "version_major": 2,
       "version_minor": 0
      },
      "text/plain": [
       "HBox(children=(FloatProgress(value=0.0, description='Downloading', max=1888168867.0, style=ProgressStyle(descr…"
      ]
     },
     "metadata": {},
     "output_type": "display_data"
    },
    {
     "name": "stdout",
     "output_type": "stream",
     "text": [
      "\n"
     ]
    },
    {
     "name": "stderr",
     "output_type": "stream",
     "text": [
      "Some weights of the model checkpoint at pvl/labse_bert were not used when initializing BertForSequenceClassification: ['cls.predictions.bias', 'cls.predictions.transform.dense.weight', 'cls.predictions.transform.dense.bias', 'cls.predictions.transform.LayerNorm.weight', 'cls.predictions.transform.LayerNorm.bias', 'cls.predictions.decoder.weight', 'cls.predictions.decoder.bias', 'cls.seq_relationship.weight', 'cls.seq_relationship.bias']\n",
      "- This IS expected if you are initializing BertForSequenceClassification from the checkpoint of a model trained on another task or with another architecture (e.g. initializing a BertForSequenceClassification model from a BertForPreTraining model).\n",
      "- This IS NOT expected if you are initializing BertForSequenceClassification from the checkpoint of a model that you expect to be exactly identical (initializing a BertForSequenceClassification model from a BertForSequenceClassification model).\n",
      "Some weights of BertForSequenceClassification were not initialized from the model checkpoint at pvl/labse_bert and are newly initialized: ['classifier.weight', 'classifier.bias']\n",
      "You should probably TRAIN this model on a down-stream task to be able to use it for predictions and inference.\n"
     ]
    },
    {
     "data": {
      "text/plain": [
       "BertForSequenceClassification(\n",
       "  (bert): BertModel(\n",
       "    (embeddings): BertEmbeddings(\n",
       "      (word_embeddings): Embedding(501153, 768, padding_idx=0)\n",
       "      (position_embeddings): Embedding(512, 768)\n",
       "      (token_type_embeddings): Embedding(2, 768)\n",
       "      (LayerNorm): LayerNorm((768,), eps=1e-12, elementwise_affine=True)\n",
       "      (dropout): Dropout(p=0.1, inplace=False)\n",
       "    )\n",
       "    (encoder): BertEncoder(\n",
       "      (layer): ModuleList(\n",
       "        (0): BertLayer(\n",
       "          (attention): BertAttention(\n",
       "            (self): BertSelfAttention(\n",
       "              (query): Linear(in_features=768, out_features=768, bias=True)\n",
       "              (key): Linear(in_features=768, out_features=768, bias=True)\n",
       "              (value): Linear(in_features=768, out_features=768, bias=True)\n",
       "              (dropout): Dropout(p=0.1, inplace=False)\n",
       "            )\n",
       "            (output): BertSelfOutput(\n",
       "              (dense): Linear(in_features=768, out_features=768, bias=True)\n",
       "              (LayerNorm): LayerNorm((768,), eps=1e-12, elementwise_affine=True)\n",
       "              (dropout): Dropout(p=0.1, inplace=False)\n",
       "            )\n",
       "          )\n",
       "          (intermediate): BertIntermediate(\n",
       "            (dense): Linear(in_features=768, out_features=3072, bias=True)\n",
       "          )\n",
       "          (output): BertOutput(\n",
       "            (dense): Linear(in_features=3072, out_features=768, bias=True)\n",
       "            (LayerNorm): LayerNorm((768,), eps=1e-12, elementwise_affine=True)\n",
       "            (dropout): Dropout(p=0.1, inplace=False)\n",
       "          )\n",
       "        )\n",
       "        (1): BertLayer(\n",
       "          (attention): BertAttention(\n",
       "            (self): BertSelfAttention(\n",
       "              (query): Linear(in_features=768, out_features=768, bias=True)\n",
       "              (key): Linear(in_features=768, out_features=768, bias=True)\n",
       "              (value): Linear(in_features=768, out_features=768, bias=True)\n",
       "              (dropout): Dropout(p=0.1, inplace=False)\n",
       "            )\n",
       "            (output): BertSelfOutput(\n",
       "              (dense): Linear(in_features=768, out_features=768, bias=True)\n",
       "              (LayerNorm): LayerNorm((768,), eps=1e-12, elementwise_affine=True)\n",
       "              (dropout): Dropout(p=0.1, inplace=False)\n",
       "            )\n",
       "          )\n",
       "          (intermediate): BertIntermediate(\n",
       "            (dense): Linear(in_features=768, out_features=3072, bias=True)\n",
       "          )\n",
       "          (output): BertOutput(\n",
       "            (dense): Linear(in_features=3072, out_features=768, bias=True)\n",
       "            (LayerNorm): LayerNorm((768,), eps=1e-12, elementwise_affine=True)\n",
       "            (dropout): Dropout(p=0.1, inplace=False)\n",
       "          )\n",
       "        )\n",
       "        (2): BertLayer(\n",
       "          (attention): BertAttention(\n",
       "            (self): BertSelfAttention(\n",
       "              (query): Linear(in_features=768, out_features=768, bias=True)\n",
       "              (key): Linear(in_features=768, out_features=768, bias=True)\n",
       "              (value): Linear(in_features=768, out_features=768, bias=True)\n",
       "              (dropout): Dropout(p=0.1, inplace=False)\n",
       "            )\n",
       "            (output): BertSelfOutput(\n",
       "              (dense): Linear(in_features=768, out_features=768, bias=True)\n",
       "              (LayerNorm): LayerNorm((768,), eps=1e-12, elementwise_affine=True)\n",
       "              (dropout): Dropout(p=0.1, inplace=False)\n",
       "            )\n",
       "          )\n",
       "          (intermediate): BertIntermediate(\n",
       "            (dense): Linear(in_features=768, out_features=3072, bias=True)\n",
       "          )\n",
       "          (output): BertOutput(\n",
       "            (dense): Linear(in_features=3072, out_features=768, bias=True)\n",
       "            (LayerNorm): LayerNorm((768,), eps=1e-12, elementwise_affine=True)\n",
       "            (dropout): Dropout(p=0.1, inplace=False)\n",
       "          )\n",
       "        )\n",
       "        (3): BertLayer(\n",
       "          (attention): BertAttention(\n",
       "            (self): BertSelfAttention(\n",
       "              (query): Linear(in_features=768, out_features=768, bias=True)\n",
       "              (key): Linear(in_features=768, out_features=768, bias=True)\n",
       "              (value): Linear(in_features=768, out_features=768, bias=True)\n",
       "              (dropout): Dropout(p=0.1, inplace=False)\n",
       "            )\n",
       "            (output): BertSelfOutput(\n",
       "              (dense): Linear(in_features=768, out_features=768, bias=True)\n",
       "              (LayerNorm): LayerNorm((768,), eps=1e-12, elementwise_affine=True)\n",
       "              (dropout): Dropout(p=0.1, inplace=False)\n",
       "            )\n",
       "          )\n",
       "          (intermediate): BertIntermediate(\n",
       "            (dense): Linear(in_features=768, out_features=3072, bias=True)\n",
       "          )\n",
       "          (output): BertOutput(\n",
       "            (dense): Linear(in_features=3072, out_features=768, bias=True)\n",
       "            (LayerNorm): LayerNorm((768,), eps=1e-12, elementwise_affine=True)\n",
       "            (dropout): Dropout(p=0.1, inplace=False)\n",
       "          )\n",
       "        )\n",
       "        (4): BertLayer(\n",
       "          (attention): BertAttention(\n",
       "            (self): BertSelfAttention(\n",
       "              (query): Linear(in_features=768, out_features=768, bias=True)\n",
       "              (key): Linear(in_features=768, out_features=768, bias=True)\n",
       "              (value): Linear(in_features=768, out_features=768, bias=True)\n",
       "              (dropout): Dropout(p=0.1, inplace=False)\n",
       "            )\n",
       "            (output): BertSelfOutput(\n",
       "              (dense): Linear(in_features=768, out_features=768, bias=True)\n",
       "              (LayerNorm): LayerNorm((768,), eps=1e-12, elementwise_affine=True)\n",
       "              (dropout): Dropout(p=0.1, inplace=False)\n",
       "            )\n",
       "          )\n",
       "          (intermediate): BertIntermediate(\n",
       "            (dense): Linear(in_features=768, out_features=3072, bias=True)\n",
       "          )\n",
       "          (output): BertOutput(\n",
       "            (dense): Linear(in_features=3072, out_features=768, bias=True)\n",
       "            (LayerNorm): LayerNorm((768,), eps=1e-12, elementwise_affine=True)\n",
       "            (dropout): Dropout(p=0.1, inplace=False)\n",
       "          )\n",
       "        )\n",
       "        (5): BertLayer(\n",
       "          (attention): BertAttention(\n",
       "            (self): BertSelfAttention(\n",
       "              (query): Linear(in_features=768, out_features=768, bias=True)\n",
       "              (key): Linear(in_features=768, out_features=768, bias=True)\n",
       "              (value): Linear(in_features=768, out_features=768, bias=True)\n",
       "              (dropout): Dropout(p=0.1, inplace=False)\n",
       "            )\n",
       "            (output): BertSelfOutput(\n",
       "              (dense): Linear(in_features=768, out_features=768, bias=True)\n",
       "              (LayerNorm): LayerNorm((768,), eps=1e-12, elementwise_affine=True)\n",
       "              (dropout): Dropout(p=0.1, inplace=False)\n",
       "            )\n",
       "          )\n",
       "          (intermediate): BertIntermediate(\n",
       "            (dense): Linear(in_features=768, out_features=3072, bias=True)\n",
       "          )\n",
       "          (output): BertOutput(\n",
       "            (dense): Linear(in_features=3072, out_features=768, bias=True)\n",
       "            (LayerNorm): LayerNorm((768,), eps=1e-12, elementwise_affine=True)\n",
       "            (dropout): Dropout(p=0.1, inplace=False)\n",
       "          )\n",
       "        )\n",
       "        (6): BertLayer(\n",
       "          (attention): BertAttention(\n",
       "            (self): BertSelfAttention(\n",
       "              (query): Linear(in_features=768, out_features=768, bias=True)\n",
       "              (key): Linear(in_features=768, out_features=768, bias=True)\n",
       "              (value): Linear(in_features=768, out_features=768, bias=True)\n",
       "              (dropout): Dropout(p=0.1, inplace=False)\n",
       "            )\n",
       "            (output): BertSelfOutput(\n",
       "              (dense): Linear(in_features=768, out_features=768, bias=True)\n",
       "              (LayerNorm): LayerNorm((768,), eps=1e-12, elementwise_affine=True)\n",
       "              (dropout): Dropout(p=0.1, inplace=False)\n",
       "            )\n",
       "          )\n",
       "          (intermediate): BertIntermediate(\n",
       "            (dense): Linear(in_features=768, out_features=3072, bias=True)\n",
       "          )\n",
       "          (output): BertOutput(\n",
       "            (dense): Linear(in_features=3072, out_features=768, bias=True)\n",
       "            (LayerNorm): LayerNorm((768,), eps=1e-12, elementwise_affine=True)\n",
       "            (dropout): Dropout(p=0.1, inplace=False)\n",
       "          )\n",
       "        )\n",
       "        (7): BertLayer(\n",
       "          (attention): BertAttention(\n",
       "            (self): BertSelfAttention(\n",
       "              (query): Linear(in_features=768, out_features=768, bias=True)\n",
       "              (key): Linear(in_features=768, out_features=768, bias=True)\n",
       "              (value): Linear(in_features=768, out_features=768, bias=True)\n",
       "              (dropout): Dropout(p=0.1, inplace=False)\n",
       "            )\n",
       "            (output): BertSelfOutput(\n",
       "              (dense): Linear(in_features=768, out_features=768, bias=True)\n",
       "              (LayerNorm): LayerNorm((768,), eps=1e-12, elementwise_affine=True)\n",
       "              (dropout): Dropout(p=0.1, inplace=False)\n",
       "            )\n",
       "          )\n",
       "          (intermediate): BertIntermediate(\n",
       "            (dense): Linear(in_features=768, out_features=3072, bias=True)\n",
       "          )\n",
       "          (output): BertOutput(\n",
       "            (dense): Linear(in_features=3072, out_features=768, bias=True)\n",
       "            (LayerNorm): LayerNorm((768,), eps=1e-12, elementwise_affine=True)\n",
       "            (dropout): Dropout(p=0.1, inplace=False)\n",
       "          )\n",
       "        )\n",
       "        (8): BertLayer(\n",
       "          (attention): BertAttention(\n",
       "            (self): BertSelfAttention(\n",
       "              (query): Linear(in_features=768, out_features=768, bias=True)\n",
       "              (key): Linear(in_features=768, out_features=768, bias=True)\n",
       "              (value): Linear(in_features=768, out_features=768, bias=True)\n",
       "              (dropout): Dropout(p=0.1, inplace=False)\n",
       "            )\n",
       "            (output): BertSelfOutput(\n",
       "              (dense): Linear(in_features=768, out_features=768, bias=True)\n",
       "              (LayerNorm): LayerNorm((768,), eps=1e-12, elementwise_affine=True)\n",
       "              (dropout): Dropout(p=0.1, inplace=False)\n",
       "            )\n",
       "          )\n",
       "          (intermediate): BertIntermediate(\n",
       "            (dense): Linear(in_features=768, out_features=3072, bias=True)\n",
       "          )\n",
       "          (output): BertOutput(\n",
       "            (dense): Linear(in_features=3072, out_features=768, bias=True)\n",
       "            (LayerNorm): LayerNorm((768,), eps=1e-12, elementwise_affine=True)\n",
       "            (dropout): Dropout(p=0.1, inplace=False)\n",
       "          )\n",
       "        )\n",
       "        (9): BertLayer(\n",
       "          (attention): BertAttention(\n",
       "            (self): BertSelfAttention(\n",
       "              (query): Linear(in_features=768, out_features=768, bias=True)\n",
       "              (key): Linear(in_features=768, out_features=768, bias=True)\n",
       "              (value): Linear(in_features=768, out_features=768, bias=True)\n",
       "              (dropout): Dropout(p=0.1, inplace=False)\n",
       "            )\n",
       "            (output): BertSelfOutput(\n",
       "              (dense): Linear(in_features=768, out_features=768, bias=True)\n",
       "              (LayerNorm): LayerNorm((768,), eps=1e-12, elementwise_affine=True)\n",
       "              (dropout): Dropout(p=0.1, inplace=False)\n",
       "            )\n",
       "          )\n",
       "          (intermediate): BertIntermediate(\n",
       "            (dense): Linear(in_features=768, out_features=3072, bias=True)\n",
       "          )\n",
       "          (output): BertOutput(\n",
       "            (dense): Linear(in_features=3072, out_features=768, bias=True)\n",
       "            (LayerNorm): LayerNorm((768,), eps=1e-12, elementwise_affine=True)\n",
       "            (dropout): Dropout(p=0.1, inplace=False)\n",
       "          )\n",
       "        )\n",
       "        (10): BertLayer(\n",
       "          (attention): BertAttention(\n",
       "            (self): BertSelfAttention(\n",
       "              (query): Linear(in_features=768, out_features=768, bias=True)\n",
       "              (key): Linear(in_features=768, out_features=768, bias=True)\n",
       "              (value): Linear(in_features=768, out_features=768, bias=True)\n",
       "              (dropout): Dropout(p=0.1, inplace=False)\n",
       "            )\n",
       "            (output): BertSelfOutput(\n",
       "              (dense): Linear(in_features=768, out_features=768, bias=True)\n",
       "              (LayerNorm): LayerNorm((768,), eps=1e-12, elementwise_affine=True)\n",
       "              (dropout): Dropout(p=0.1, inplace=False)\n",
       "            )\n",
       "          )\n",
       "          (intermediate): BertIntermediate(\n",
       "            (dense): Linear(in_features=768, out_features=3072, bias=True)\n",
       "          )\n",
       "          (output): BertOutput(\n",
       "            (dense): Linear(in_features=3072, out_features=768, bias=True)\n",
       "            (LayerNorm): LayerNorm((768,), eps=1e-12, elementwise_affine=True)\n",
       "            (dropout): Dropout(p=0.1, inplace=False)\n",
       "          )\n",
       "        )\n",
       "        (11): BertLayer(\n",
       "          (attention): BertAttention(\n",
       "            (self): BertSelfAttention(\n",
       "              (query): Linear(in_features=768, out_features=768, bias=True)\n",
       "              (key): Linear(in_features=768, out_features=768, bias=True)\n",
       "              (value): Linear(in_features=768, out_features=768, bias=True)\n",
       "              (dropout): Dropout(p=0.1, inplace=False)\n",
       "            )\n",
       "            (output): BertSelfOutput(\n",
       "              (dense): Linear(in_features=768, out_features=768, bias=True)\n",
       "              (LayerNorm): LayerNorm((768,), eps=1e-12, elementwise_affine=True)\n",
       "              (dropout): Dropout(p=0.1, inplace=False)\n",
       "            )\n",
       "          )\n",
       "          (intermediate): BertIntermediate(\n",
       "            (dense): Linear(in_features=768, out_features=3072, bias=True)\n",
       "          )\n",
       "          (output): BertOutput(\n",
       "            (dense): Linear(in_features=3072, out_features=768, bias=True)\n",
       "            (LayerNorm): LayerNorm((768,), eps=1e-12, elementwise_affine=True)\n",
       "            (dropout): Dropout(p=0.1, inplace=False)\n",
       "          )\n",
       "        )\n",
       "      )\n",
       "    )\n",
       "    (pooler): BertPooler(\n",
       "      (dense): Linear(in_features=768, out_features=768, bias=True)\n",
       "      (activation): Tanh()\n",
       "    )\n",
       "  )\n",
       "  (dropout): Dropout(p=0.1, inplace=False)\n",
       "  (classifier): Linear(in_features=768, out_features=2, bias=True)\n",
       ")"
      ]
     },
     "execution_count": 30,
     "metadata": {},
     "output_type": "execute_result"
    }
   ],
   "source": [
    "from transformers import BertForSequenceClassification, AdamW, BertConfig\n",
    "# Load BertForSequenceClassification, the pretrained BERT model with a single \n",
    "# linear classification layer on top. \n",
    "model = BertForSequenceClassification.from_pretrained(\n",
    "    \"pvl/labse_bert\", # Use the 12-layer BERT model, with an uncased vocab.\n",
    "    num_labels = 2, # The number of output labels--2 for binary classification.\n",
    "                    # You can increase this for multi-class tasks.   \n",
    "    output_attentions = False, # Whether the model returns attentions weights.\n",
    "    output_hidden_states = True, # Whether the model returns all hidden-states.\n",
    ")\n",
    "# Tell pytorch to run this model on the GPU.\n",
    "model.cuda()"
   ]
  },
  {
   "cell_type": "code",
   "execution_count": 31,
   "metadata": {
    "execution": {
     "iopub.execute_input": "2021-05-18T01:08:26.572111Z",
     "iopub.status.busy": "2021-05-18T01:08:26.571234Z",
     "iopub.status.idle": "2021-05-18T01:08:26.578178Z",
     "shell.execute_reply": "2021-05-18T01:08:26.577551Z"
    },
    "papermill": {
     "duration": 0.07916,
     "end_time": "2021-05-18T01:08:26.578284",
     "exception": false,
     "start_time": "2021-05-18T01:08:26.499124",
     "status": "completed"
    },
    "tags": []
   },
   "outputs": [
    {
     "name": "stdout",
     "output_type": "stream",
     "text": [
      "The BERT model has 201 different named parameters.\n",
      "\n",
      "==== Embedding Layer ====\n",
      "\n",
      "bert.embeddings.word_embeddings.weight                  (501153, 768)\n",
      "bert.embeddings.position_embeddings.weight                (512, 768)\n",
      "bert.embeddings.token_type_embeddings.weight                (2, 768)\n",
      "bert.embeddings.LayerNorm.weight                              (768,)\n",
      "bert.embeddings.LayerNorm.bias                                (768,)\n",
      "\n",
      "==== First Transformer ====\n",
      "\n",
      "bert.encoder.layer.0.attention.self.query.weight          (768, 768)\n",
      "bert.encoder.layer.0.attention.self.query.bias                (768,)\n",
      "bert.encoder.layer.0.attention.self.key.weight            (768, 768)\n",
      "bert.encoder.layer.0.attention.self.key.bias                  (768,)\n",
      "bert.encoder.layer.0.attention.self.value.weight          (768, 768)\n",
      "bert.encoder.layer.0.attention.self.value.bias                (768,)\n",
      "bert.encoder.layer.0.attention.output.dense.weight        (768, 768)\n",
      "bert.encoder.layer.0.attention.output.dense.bias              (768,)\n",
      "bert.encoder.layer.0.attention.output.LayerNorm.weight        (768,)\n",
      "bert.encoder.layer.0.attention.output.LayerNorm.bias          (768,)\n",
      "bert.encoder.layer.0.intermediate.dense.weight           (3072, 768)\n",
      "bert.encoder.layer.0.intermediate.dense.bias                 (3072,)\n",
      "bert.encoder.layer.0.output.dense.weight                 (768, 3072)\n",
      "bert.encoder.layer.0.output.dense.bias                        (768,)\n",
      "bert.encoder.layer.0.output.LayerNorm.weight                  (768,)\n",
      "bert.encoder.layer.0.output.LayerNorm.bias                    (768,)\n",
      "\n",
      "==== Output Layer ====\n",
      "\n",
      "bert.pooler.dense.weight                                  (768, 768)\n",
      "bert.pooler.dense.bias                                        (768,)\n",
      "classifier.weight                                           (2, 768)\n",
      "classifier.bias                                                 (2,)\n"
     ]
    }
   ],
   "source": [
    "# Get all of the model's parameters as a list of tuples.\n",
    "params = list(model.named_parameters())\n",
    "print('The BERT model has {:} different named parameters.\\n'.format(len(params)))\n",
    "print('==== Embedding Layer ====\\n')\n",
    "for p in params[0:5]:\n",
    "    print(\"{:<55} {:>12}\".format(p[0], str(tuple(p[1].size()))))\n",
    "print('\\n==== First Transformer ====\\n')\n",
    "for p in params[5:21]:\n",
    "    print(\"{:<55} {:>12}\".format(p[0], str(tuple(p[1].size()))))\n",
    "print('\\n==== Output Layer ====\\n')\n",
    "for p in params[-4:]:\n",
    "    print(\"{:<55} {:>12}\".format(p[0], str(tuple(p[1].size()))))"
   ]
  },
  {
   "cell_type": "code",
   "execution_count": 32,
   "metadata": {
    "execution": {
     "iopub.execute_input": "2021-05-18T01:08:26.709526Z",
     "iopub.status.busy": "2021-05-18T01:08:26.708736Z",
     "iopub.status.idle": "2021-05-18T01:08:26.711853Z",
     "shell.execute_reply": "2021-05-18T01:08:26.711420Z"
    },
    "papermill": {
     "duration": 0.07274,
     "end_time": "2021-05-18T01:08:26.711946",
     "exception": false,
     "start_time": "2021-05-18T01:08:26.639206",
     "status": "completed"
    },
    "tags": []
   },
   "outputs": [],
   "source": [
    "# Note: AdamW is a class from the huggingface library (as opposed to pytorch) \n",
    "# I believe the 'W' stands for 'Weight Decay fix\"\n",
    "optimizer = AdamW(model.parameters(),\n",
    "                  lr = 2e-5, # args.learning_rate - default is 5e-5, our notebook had 2e-5\n",
    "                  eps = 1e-8 # args.adam_epsilon  - default is 1e-8.\n",
    "                )\n",
    "from transformers import get_linear_schedule_with_warmup\n",
    "# Number of training epochs (authors recommend between 2 and 4)\n",
    "epochs = 2\n",
    "# Total number of training steps is number of batches * number of epochs.\n",
    "total_steps = len(train_dataloader) * epochs\n",
    "# Create the learning rate scheduler.\n",
    "scheduler = get_linear_schedule_with_warmup(optimizer, \n",
    "                                            num_warmup_steps = 0, # Default value in run_glue.py\n",
    "                                            num_training_steps = total_steps)"
   ]
  },
  {
   "cell_type": "code",
   "execution_count": 33,
   "metadata": {
    "execution": {
     "iopub.execute_input": "2021-05-18T01:08:26.839913Z",
     "iopub.status.busy": "2021-05-18T01:08:26.839229Z",
     "iopub.status.idle": "2021-05-18T01:08:26.841780Z",
     "shell.execute_reply": "2021-05-18T01:08:26.842302Z"
    },
    "papermill": {
     "duration": 0.069332,
     "end_time": "2021-05-18T01:08:26.842405",
     "exception": false,
     "start_time": "2021-05-18T01:08:26.773073",
     "status": "completed"
    },
    "tags": []
   },
   "outputs": [],
   "source": [
    "import numpy as np\n",
    "# Function to calculate the accuracy of our predictions vs labels\n",
    "def flat_accuracy(preds, labels):\n",
    "    pred_flat = np.argmax(preds, axis=1).flatten()\n",
    "    labels_flat = labels.flatten()\n",
    "    return np.sum(pred_flat == labels_flat) / len(labels_flat)"
   ]
  },
  {
   "cell_type": "code",
   "execution_count": 34,
   "metadata": {
    "execution": {
     "iopub.execute_input": "2021-05-18T01:08:26.975786Z",
     "iopub.status.busy": "2021-05-18T01:08:26.974953Z",
     "iopub.status.idle": "2021-05-18T01:08:26.977944Z",
     "shell.execute_reply": "2021-05-18T01:08:26.977460Z"
    },
    "papermill": {
     "duration": 0.074382,
     "end_time": "2021-05-18T01:08:26.978043",
     "exception": false,
     "start_time": "2021-05-18T01:08:26.903661",
     "status": "completed"
    },
    "tags": []
   },
   "outputs": [],
   "source": [
    "import time\n",
    "import datetime\n",
    "def format_time(elapsed):\n",
    "    '''\n",
    "    Takes a time in seconds and returns a string hh:mm:ss\n",
    "    '''\n",
    "    # Round to the nearest second.\n",
    "    elapsed_rounded = int(round((elapsed)))\n",
    "    \n",
    "    # Format as hh:mm:ss\n",
    "    return str(datetime.timedelta(seconds=elapsed_rounded))"
   ]
  },
  {
   "cell_type": "markdown",
   "metadata": {
    "papermill": {
     "duration": 0.061669,
     "end_time": "2021-05-18T01:08:27.103740",
     "exception": false,
     "start_time": "2021-05-18T01:08:27.042071",
     "status": "completed"
    },
    "tags": []
   },
   "source": [
    "### Train Model"
   ]
  },
  {
   "cell_type": "code",
   "execution_count": 35,
   "metadata": {
    "execution": {
     "iopub.execute_input": "2021-05-18T01:08:27.259165Z",
     "iopub.status.busy": "2021-05-18T01:08:27.241138Z",
     "iopub.status.idle": "2021-05-18T01:09:09.526894Z",
     "shell.execute_reply": "2021-05-18T01:09:09.527731Z"
    },
    "papermill": {
     "duration": 42.362529,
     "end_time": "2021-05-18T01:09:09.527910",
     "exception": false,
     "start_time": "2021-05-18T01:08:27.165381",
     "status": "completed"
    },
    "tags": []
   },
   "outputs": [
    {
     "name": "stdout",
     "output_type": "stream",
     "text": [
      "\n",
      "======== Epoch 1 / 2 ========\n",
      "Training...\n",
      "  Batch    40  of     41.    Elapsed: 0:00:18.\n",
      "\n",
      "  Average training loss: 0.52\n",
      "  Training epcoh took: 0:00:19\n",
      "\n",
      "Running Validation...\n",
      "  Accuracy: 0.38\n",
      "  Average validation loss: 1.34\n",
      "  Validation took: 0:00:03\n",
      "\n",
      "======== Epoch 2 / 2 ========\n",
      "Training...\n",
      "  Batch    40  of     41.    Elapsed: 0:00:18.\n",
      "\n",
      "  Average training loss: 0.36\n",
      "  Training epcoh took: 0:00:18\n",
      "\n",
      "Running Validation...\n",
      "  Accuracy: 0.37\n",
      "  Average validation loss: 1.37\n",
      "  Validation took: 0:00:03\n",
      "\n",
      "Training complete!\n"
     ]
    }
   ],
   "source": [
    "import random\n",
    "# This training code is based on the `run_glue.py` script here:\n",
    "# https://github.com/huggingface/transformers/blob/5bfcd0485ece086ebcbed2d008813037968a9e58/examples/run_glue.py#L128\n",
    "# Set the seed value all over the place to make this reproducible.\n",
    "seed_val = 42\n",
    "random.seed(seed_val)\n",
    "np.random.seed(seed_val)\n",
    "torch.manual_seed(seed_val)\n",
    "torch.cuda.manual_seed_all(seed_val)\n",
    "# Store the average loss after each epoch so we can plot them.\n",
    "loss_values = []\n",
    "loss_values_valid = []\n",
    "#embeddings_tr, embeddings_vl = [], []\n",
    "train_predictions, valid_predictions = [], []\n",
    "train_true_labels, valid_true_labels = [], []\n",
    "# Store the hidden states for embedding extraction\n",
    "\n",
    "# For each epoch...\n",
    "for epoch_i in range(0, epochs):\n",
    "    \n",
    "    # ========================================\n",
    "    #               Training\n",
    "    # ========================================\n",
    "    \n",
    "    # Perform one full pass over the training set.\n",
    "    print(\"\")\n",
    "    print('======== Epoch {:} / {:} ========'.format(epoch_i + 1, epochs))\n",
    "    print('Training...')\n",
    "    # Measure how long the training epoch takes.\n",
    "    t0 = time.time()\n",
    "    # Reset the total loss for this epoch.\n",
    "    total_loss = 0\n",
    "    # Put the model into training mode. Don't be mislead--the call to \n",
    "    # `train` just changes the *mode*, it doesn't *perform* the training.\n",
    "    # `dropout` and `batchnorm` layers behave differently during training\n",
    "    # vs. test (source: https://stackoverflow.com/questions/51433378/what-does-model-train-do-in-pytorch)\n",
    "    model.train()\n",
    "    # For each batch of training data...\n",
    "    for step, batch in enumerate(train_dataloader):\n",
    "        # Progress update every 40 batches.\n",
    "        if step % 40 == 0 and not step == 0:\n",
    "            # Calculate elapsed time in minutes.\n",
    "            elapsed = format_time(time.time() - t0)\n",
    "            \n",
    "            # Report progress.\n",
    "            print('  Batch {:>5,}  of  {:>5,}.    Elapsed: {:}.'.format(step, len(train_dataloader), elapsed))\n",
    "        # Unpack this training batch from our dataloader. \n",
    "        #\n",
    "        # As we unpack the batch, we'll also copy each tensor to the GPU using the \n",
    "        # `to` method.\n",
    "        #\n",
    "        # `batch` contains three pytorch tensors:\n",
    "        #   [0]: input ids \n",
    "        #   [1]: attention masks\n",
    "        #   [2]: labels \n",
    "        b_input_ids = batch[0].to(device)\n",
    "        b_input_mask = batch[1].to(device)\n",
    "        b_labels = batch[2].to(device)\n",
    "        # Always clear any previously calculated gradients before performing a\n",
    "        # backward pass. PyTorch doesn't do this automatically because \n",
    "        # accumulating the gradients is \"convenient while training RNNs\". \n",
    "        # (source: https://stackoverflow.com/questions/48001598/why-do-we-need-to-call-zero-grad-in-pytorch)\n",
    "        model.zero_grad()        \n",
    "        # Perform a forward pass (evaluate the model on this training batch).\n",
    "        # This will return the loss (rather than the model output) because we\n",
    "        # have provided the `labels`.\n",
    "        # The documentation for this `model` function is here: \n",
    "        # https://huggingface.co/transformers/v2.2.0/model_doc/bert.html#transformers.BertForSequenceClassification\n",
    "        outputs_a = model(b_input_ids, \n",
    "                    token_type_ids=None, \n",
    "                    attention_mask=b_input_mask, \n",
    "                    labels=b_labels)\n",
    "        \n",
    "        # The call to `model` always returns a tuple, so we need to pull the \n",
    "        # loss value out of the tuple.\n",
    "        loss = outputs_a[0]\n",
    "        logits_tr = outputs_a[1]\n",
    "        #hidden_state_tr = outputs_a[2]\n",
    "        #features = hidden_state_tr[0][:,0,:].detach().cpu().numpy()\n",
    "        #embeddings_tr.append([epoch_i,batch[3], features]) # FIX AS NO BACKPROP WEIGHT ADJUSTED\n",
    "        # Accumulate the training loss over all of the batches so that we can\n",
    "        # calculate the average loss at the end. `loss` is a Tensor containing a\n",
    "        # single value; the `.item()` function just returns the Python value \n",
    "        # from the tensor.\n",
    "        # Move logits, hidden states, and labels to CPU\n",
    "        logits_tr = logits_tr.detach().cpu().numpy()\n",
    "        label_ids = b_labels.to('cpu').numpy()\n",
    "        #train_predictions.append([epoch_i,logits_tr])\n",
    "        #train_true_labels.append([epoch_i,label_ids])\n",
    "\n",
    "        total_loss += loss.item()\n",
    "        # Perform a backward pass to calculate the gradients.\n",
    "        loss.backward()\n",
    "        # Clip the norm of the gradients to 1.0.\n",
    "        # This is to help prevent the \"exploding gradients\" problem.\n",
    "        torch.nn.utils.clip_grad_norm_(model.parameters(), 1.0)\n",
    "        # Update parameters and take a step using the computed gradient.\n",
    "        # The optimizer dictates the \"update rule\"--how the parameters are\n",
    "        # modified based on their gradients, the learning rate, etc.\n",
    "        optimizer.step()\n",
    "        # Update the learning rate.\n",
    "        scheduler.step()\n",
    "    # Calculate the average loss over the training data.\n",
    "    avg_train_loss = total_loss / len(train_dataloader)            \n",
    "\n",
    "    # Store the loss value for plotting the learning curve.\n",
    "    loss_values.append(avg_train_loss)\n",
    "    print(\"\")\n",
    "    print(\"  Average training loss: {0:.2f}\".format(avg_train_loss))\n",
    "    print(\"  Training epcoh took: {:}\".format(format_time(time.time() - t0)))\n",
    "    \n",
    "    # ========================================\n",
    "    #               Validation\n",
    "    # ========================================\n",
    "    # After the completion of each training epoch, measure our performance on\n",
    "    # our validation set.\n",
    "    print(\"\")\n",
    "    print(\"Running Validation...\")\n",
    "    t0 = time.time()\n",
    "    # Put the model in evaluation mode--the dropout layers behave differently\n",
    "    # during evaluation.\n",
    "    model.eval()\n",
    "    # Tracking variables \n",
    "    eval_loss, eval_accuracy = 0, 0\n",
    "    nb_eval_steps, nb_eval_examples = 0, 0\n",
    "    # Evaluate data for one epoch\n",
    "    for batch in validation_dataloader:\n",
    "        \n",
    "        # Add batch to GPU\n",
    "        b_input_ids = batch[0].to(device)\n",
    "        b_input_mask = batch[1].to(device)\n",
    "        b_labels = batch[2].to(device)\n",
    "        \n",
    "        # Telling the model not to compute or store gradients, saving memory and\n",
    "        # speeding up validation\n",
    "        with torch.no_grad():        \n",
    "            # Forward pass, calculate logit predictions.\n",
    "            # This will return the logits rather than the loss because we have\n",
    "            # not provided labels.\n",
    "            # token_type_ids is the same as the \"segment ids\", which \n",
    "            # differentiates sentence 1 and 2 in 2-sentence tasks.\n",
    "            # The documentation for this `model` function is here: \n",
    "            # https://huggingface.co/transformers/v2.2.0/model_doc/bert.html#transformers.BertForSequenceClassification\n",
    "            outputs = model(b_input_ids, \n",
    "                            token_type_ids=None, \n",
    "                            attention_mask=b_input_mask,\n",
    "                            labels=b_labels)\n",
    "        \n",
    "        # Get the \"logits\" output by the model. The \"logits\" are the output\n",
    "        # values prior to applying an activation function like the softmax.\n",
    "        loss = outputs[0]\n",
    "        logits = outputs[1]\n",
    "        #hidden_state_vl = outputs[2]\n",
    "        #features = hidden_state_vl[0][:,0,:].detach().cpu().numpy()\n",
    "        #embeddings_vl.append([epoch_i,batch[3], features])\n",
    "        \n",
    "        # Track Loss\n",
    "        eval_loss += loss.item()\n",
    "\n",
    "        # Move logits, hidden states, and labels to CPU\n",
    "        logits = logits.detach().cpu().numpy()\n",
    "        #hidden_state_vl = hidden_state_vl.detach().cpu().numpy()\n",
    "        label_ids = b_labels.to('cpu').numpy()\n",
    "\n",
    "        valid_predictions.append([epoch_i,logits])\n",
    "        valid_true_labels.append([epoch_i,label_ids])\n",
    "        \n",
    "        # Calculate the accuracy for this batch of test sentences.\n",
    "        tmp_eval_accuracy = flat_accuracy(logits, label_ids)\n",
    "        \n",
    "        # Accumulate the total accuracy.\n",
    "        eval_accuracy += tmp_eval_accuracy\n",
    "        # Track the number of batches\n",
    "        nb_eval_steps += 1\n",
    "    \n",
    "    # Calculate the average loss over the training data.\n",
    "    avg_valid_loss = eval_loss / len(validation_dataloader)   \n",
    "\n",
    "    # Report the final accuracy for this validation run.\n",
    "    loss_values_valid.append(avg_valid_loss)\n",
    "    print(\"  Accuracy: {0:.2f}\".format(eval_accuracy/nb_eval_steps))\n",
    "    print(\"  Average validation loss: {0:.2f}\".format(avg_valid_loss))\n",
    "    print(\"  Validation took: {:}\".format(format_time(time.time() - t0)))\n",
    "    \n",
    "print(\"\")\n",
    "print(\"Training complete!\")        "
   ]
  },
  {
   "cell_type": "markdown",
   "metadata": {
    "papermill": {
     "duration": 0.062548,
     "end_time": "2021-05-18T01:09:09.653513",
     "exception": false,
     "start_time": "2021-05-18T01:09:09.590965",
     "status": "completed"
    },
    "tags": []
   },
   "source": [
    "### Plot Training and Validation Loss"
   ]
  },
  {
   "cell_type": "code",
   "execution_count": 36,
   "metadata": {
    "execution": {
     "iopub.execute_input": "2021-05-18T01:09:09.798776Z",
     "iopub.status.busy": "2021-05-18T01:09:09.797676Z",
     "iopub.status.idle": "2021-05-18T01:09:09.802689Z",
     "shell.execute_reply": "2021-05-18T01:09:09.802235Z"
    },
    "papermill": {
     "duration": 0.086518,
     "end_time": "2021-05-18T01:09:09.802810",
     "exception": false,
     "start_time": "2021-05-18T01:09:09.716292",
     "status": "completed"
    },
    "tags": []
   },
   "outputs": [
    {
     "data": {
      "text/html": [
       "<div>\n",
       "<style scoped>\n",
       "    .dataframe tbody tr th:only-of-type {\n",
       "        vertical-align: middle;\n",
       "    }\n",
       "\n",
       "    .dataframe tbody tr th {\n",
       "        vertical-align: top;\n",
       "    }\n",
       "\n",
       "    .dataframe thead th {\n",
       "        text-align: right;\n",
       "    }\n",
       "</style>\n",
       "<table border=\"1\" class=\"dataframe\">\n",
       "  <thead>\n",
       "    <tr style=\"text-align: right;\">\n",
       "      <th></th>\n",
       "      <th>epoch</th>\n",
       "      <th>variable</th>\n",
       "      <th>value</th>\n",
       "    </tr>\n",
       "  </thead>\n",
       "  <tbody>\n",
       "    <tr>\n",
       "      <th>0</th>\n",
       "      <td>0</td>\n",
       "      <td>Train Loss</td>\n",
       "      <td>0.516043</td>\n",
       "    </tr>\n",
       "    <tr>\n",
       "      <th>1</th>\n",
       "      <td>1</td>\n",
       "      <td>Train Loss</td>\n",
       "      <td>0.356308</td>\n",
       "    </tr>\n",
       "    <tr>\n",
       "      <th>2</th>\n",
       "      <td>0</td>\n",
       "      <td>Valid Loss</td>\n",
       "      <td>1.341375</td>\n",
       "    </tr>\n",
       "    <tr>\n",
       "      <th>3</th>\n",
       "      <td>1</td>\n",
       "      <td>Valid Loss</td>\n",
       "      <td>1.371655</td>\n",
       "    </tr>\n",
       "  </tbody>\n",
       "</table>\n",
       "</div>"
      ],
      "text/plain": [
       "   epoch    variable     value\n",
       "0      0  Train Loss  0.516043\n",
       "1      1  Train Loss  0.356308\n",
       "2      0  Valid Loss  1.341375\n",
       "3      1  Valid Loss  1.371655"
      ]
     },
     "execution_count": 36,
     "metadata": {},
     "output_type": "execute_result"
    }
   ],
   "source": [
    "df= pd.DataFrame({'epoch': range(0, epochs), 'Train Loss': loss_values, 'Valid Loss': loss_values_valid})\n",
    "df = pd.melt(df, id_vars=['epoch'], value_vars=['Train Loss', 'Valid Loss'])\n",
    "df"
   ]
  },
  {
   "cell_type": "code",
   "execution_count": 37,
   "metadata": {
    "execution": {
     "iopub.execute_input": "2021-05-18T01:09:09.935934Z",
     "iopub.status.busy": "2021-05-18T01:09:09.935238Z",
     "iopub.status.idle": "2021-05-18T01:09:12.200858Z",
     "shell.execute_reply": "2021-05-18T01:09:12.200060Z"
    },
    "papermill": {
     "duration": 2.3346,
     "end_time": "2021-05-18T01:09:12.200960",
     "exception": false,
     "start_time": "2021-05-18T01:09:09.866360",
     "status": "completed"
    },
    "tags": []
   },
   "outputs": [
    {
     "data": {
      "text/html": [
       "        <script type=\"text/javascript\">\n",
       "        window.PlotlyConfig = {MathJaxConfig: 'local'};\n",
       "        if (window.MathJax) {MathJax.Hub.Config({SVG: {font: \"STIX-Web\"}});}\n",
       "        if (typeof require !== 'undefined') {\n",
       "        require.undef(\"plotly\");\n",
       "        requirejs.config({\n",
       "            paths: {\n",
       "                'plotly': ['https://cdn.plot.ly/plotly-latest.min']\n",
       "            }\n",
       "        });\n",
       "        require(['plotly'], function(Plotly) {\n",
       "            window._Plotly = Plotly;\n",
       "        });\n",
       "        }\n",
       "        </script>\n",
       "        "
      ]
     },
     "metadata": {},
     "output_type": "display_data"
    },
    {
     "data": {
      "text/html": [
       "<div>                            <div id=\"131aa9e2-f0d5-40e7-a683-a173d18f5748\" class=\"plotly-graph-div\" style=\"height:525px; width:100%;\"></div>            <script type=\"text/javascript\">                require([\"plotly\"], function(Plotly) {                    window.PLOTLYENV=window.PLOTLYENV || {};                                    if (document.getElementById(\"131aa9e2-f0d5-40e7-a683-a173d18f5748\")) {                    Plotly.newPlot(                        \"131aa9e2-f0d5-40e7-a683-a173d18f5748\",                        [{\"hovertemplate\": \"variable=Train Loss<br>epoch=%{x}<br>value=%{y}<extra></extra>\", \"legendgroup\": \"Train Loss\", \"line\": {\"color\": \"#636efa\", \"dash\": \"solid\"}, \"mode\": \"lines\", \"name\": \"Train Loss\", \"orientation\": \"v\", \"showlegend\": true, \"type\": \"scatter\", \"x\": [0, 1], \"xaxis\": \"x\", \"y\": [0.5160431883684019, 0.3563077769628385], \"yaxis\": \"y\"}, {\"hovertemplate\": \"variable=Valid Loss<br>epoch=%{x}<br>value=%{y}<extra></extra>\", \"legendgroup\": \"Valid Loss\", \"line\": {\"color\": \"#EF553B\", \"dash\": \"solid\"}, \"mode\": \"lines\", \"name\": \"Valid Loss\", \"orientation\": \"v\", \"showlegend\": true, \"type\": \"scatter\", \"x\": [0, 1], \"xaxis\": \"x\", \"y\": [1.341374670267105, 1.3716552364826202], \"yaxis\": \"y\"}],                        {\"legend\": {\"title\": {\"text\": \"variable\"}, \"tracegroupgap\": 0}, \"margin\": {\"t\": 60}, \"template\": {\"data\": {\"bar\": [{\"error_x\": {\"color\": \"#2a3f5f\"}, \"error_y\": {\"color\": \"#2a3f5f\"}, \"marker\": {\"line\": {\"color\": \"#E5ECF6\", \"width\": 0.5}}, \"type\": \"bar\"}], \"barpolar\": [{\"marker\": {\"line\": {\"color\": \"#E5ECF6\", \"width\": 0.5}}, \"type\": \"barpolar\"}], \"carpet\": [{\"aaxis\": {\"endlinecolor\": \"#2a3f5f\", \"gridcolor\": \"white\", \"linecolor\": \"white\", \"minorgridcolor\": \"white\", \"startlinecolor\": \"#2a3f5f\"}, \"baxis\": {\"endlinecolor\": \"#2a3f5f\", \"gridcolor\": \"white\", \"linecolor\": \"white\", \"minorgridcolor\": \"white\", \"startlinecolor\": \"#2a3f5f\"}, \"type\": \"carpet\"}], \"choropleth\": [{\"colorbar\": {\"outlinewidth\": 0, \"ticks\": \"\"}, \"type\": \"choropleth\"}], \"contour\": [{\"colorbar\": {\"outlinewidth\": 0, \"ticks\": \"\"}, \"colorscale\": [[0.0, \"#0d0887\"], [0.1111111111111111, \"#46039f\"], [0.2222222222222222, \"#7201a8\"], [0.3333333333333333, \"#9c179e\"], [0.4444444444444444, \"#bd3786\"], [0.5555555555555556, \"#d8576b\"], [0.6666666666666666, \"#ed7953\"], [0.7777777777777778, \"#fb9f3a\"], [0.8888888888888888, \"#fdca26\"], [1.0, \"#f0f921\"]], \"type\": \"contour\"}], \"contourcarpet\": [{\"colorbar\": {\"outlinewidth\": 0, \"ticks\": \"\"}, \"type\": \"contourcarpet\"}], \"heatmap\": [{\"colorbar\": {\"outlinewidth\": 0, \"ticks\": \"\"}, \"colorscale\": [[0.0, \"#0d0887\"], [0.1111111111111111, \"#46039f\"], [0.2222222222222222, \"#7201a8\"], [0.3333333333333333, \"#9c179e\"], [0.4444444444444444, \"#bd3786\"], [0.5555555555555556, \"#d8576b\"], [0.6666666666666666, \"#ed7953\"], [0.7777777777777778, \"#fb9f3a\"], [0.8888888888888888, \"#fdca26\"], [1.0, \"#f0f921\"]], \"type\": \"heatmap\"}], \"heatmapgl\": [{\"colorbar\": {\"outlinewidth\": 0, \"ticks\": \"\"}, \"colorscale\": [[0.0, \"#0d0887\"], [0.1111111111111111, \"#46039f\"], [0.2222222222222222, \"#7201a8\"], [0.3333333333333333, \"#9c179e\"], [0.4444444444444444, \"#bd3786\"], [0.5555555555555556, \"#d8576b\"], [0.6666666666666666, \"#ed7953\"], [0.7777777777777778, \"#fb9f3a\"], [0.8888888888888888, \"#fdca26\"], [1.0, \"#f0f921\"]], \"type\": \"heatmapgl\"}], \"histogram\": [{\"marker\": {\"colorbar\": {\"outlinewidth\": 0, \"ticks\": \"\"}}, \"type\": \"histogram\"}], \"histogram2d\": [{\"colorbar\": {\"outlinewidth\": 0, \"ticks\": \"\"}, \"colorscale\": [[0.0, \"#0d0887\"], [0.1111111111111111, \"#46039f\"], [0.2222222222222222, \"#7201a8\"], [0.3333333333333333, \"#9c179e\"], [0.4444444444444444, \"#bd3786\"], [0.5555555555555556, \"#d8576b\"], [0.6666666666666666, \"#ed7953\"], [0.7777777777777778, \"#fb9f3a\"], [0.8888888888888888, \"#fdca26\"], [1.0, \"#f0f921\"]], \"type\": \"histogram2d\"}], \"histogram2dcontour\": [{\"colorbar\": {\"outlinewidth\": 0, \"ticks\": \"\"}, \"colorscale\": [[0.0, \"#0d0887\"], [0.1111111111111111, \"#46039f\"], [0.2222222222222222, \"#7201a8\"], [0.3333333333333333, \"#9c179e\"], [0.4444444444444444, \"#bd3786\"], [0.5555555555555556, \"#d8576b\"], [0.6666666666666666, \"#ed7953\"], [0.7777777777777778, \"#fb9f3a\"], [0.8888888888888888, \"#fdca26\"], [1.0, \"#f0f921\"]], \"type\": \"histogram2dcontour\"}], \"mesh3d\": [{\"colorbar\": {\"outlinewidth\": 0, \"ticks\": \"\"}, \"type\": \"mesh3d\"}], \"parcoords\": [{\"line\": {\"colorbar\": {\"outlinewidth\": 0, \"ticks\": \"\"}}, \"type\": \"parcoords\"}], \"pie\": [{\"automargin\": true, \"type\": \"pie\"}], \"scatter\": [{\"marker\": {\"colorbar\": {\"outlinewidth\": 0, \"ticks\": \"\"}}, \"type\": \"scatter\"}], \"scatter3d\": [{\"line\": {\"colorbar\": {\"outlinewidth\": 0, \"ticks\": \"\"}}, \"marker\": {\"colorbar\": {\"outlinewidth\": 0, \"ticks\": \"\"}}, \"type\": \"scatter3d\"}], \"scattercarpet\": [{\"marker\": {\"colorbar\": {\"outlinewidth\": 0, \"ticks\": \"\"}}, \"type\": \"scattercarpet\"}], \"scattergeo\": [{\"marker\": {\"colorbar\": {\"outlinewidth\": 0, \"ticks\": \"\"}}, \"type\": \"scattergeo\"}], \"scattergl\": [{\"marker\": {\"colorbar\": {\"outlinewidth\": 0, \"ticks\": \"\"}}, \"type\": \"scattergl\"}], \"scattermapbox\": [{\"marker\": {\"colorbar\": {\"outlinewidth\": 0, \"ticks\": \"\"}}, \"type\": \"scattermapbox\"}], \"scatterpolar\": [{\"marker\": {\"colorbar\": {\"outlinewidth\": 0, \"ticks\": \"\"}}, \"type\": \"scatterpolar\"}], \"scatterpolargl\": [{\"marker\": {\"colorbar\": {\"outlinewidth\": 0, \"ticks\": \"\"}}, \"type\": \"scatterpolargl\"}], \"scatterternary\": [{\"marker\": {\"colorbar\": {\"outlinewidth\": 0, \"ticks\": \"\"}}, \"type\": \"scatterternary\"}], \"surface\": [{\"colorbar\": {\"outlinewidth\": 0, \"ticks\": \"\"}, \"colorscale\": [[0.0, \"#0d0887\"], [0.1111111111111111, \"#46039f\"], [0.2222222222222222, \"#7201a8\"], [0.3333333333333333, \"#9c179e\"], [0.4444444444444444, \"#bd3786\"], [0.5555555555555556, \"#d8576b\"], [0.6666666666666666, \"#ed7953\"], [0.7777777777777778, \"#fb9f3a\"], [0.8888888888888888, \"#fdca26\"], [1.0, \"#f0f921\"]], \"type\": \"surface\"}], \"table\": [{\"cells\": {\"fill\": {\"color\": \"#EBF0F8\"}, \"line\": {\"color\": \"white\"}}, \"header\": {\"fill\": {\"color\": \"#C8D4E3\"}, \"line\": {\"color\": \"white\"}}, \"type\": \"table\"}]}, \"layout\": {\"annotationdefaults\": {\"arrowcolor\": \"#2a3f5f\", \"arrowhead\": 0, \"arrowwidth\": 1}, \"autotypenumbers\": \"strict\", \"coloraxis\": {\"colorbar\": {\"outlinewidth\": 0, \"ticks\": \"\"}}, \"colorscale\": {\"diverging\": [[0, \"#8e0152\"], [0.1, \"#c51b7d\"], [0.2, \"#de77ae\"], [0.3, \"#f1b6da\"], [0.4, \"#fde0ef\"], [0.5, \"#f7f7f7\"], [0.6, \"#e6f5d0\"], [0.7, \"#b8e186\"], [0.8, \"#7fbc41\"], [0.9, \"#4d9221\"], [1, \"#276419\"]], \"sequential\": [[0.0, \"#0d0887\"], [0.1111111111111111, \"#46039f\"], [0.2222222222222222, \"#7201a8\"], [0.3333333333333333, \"#9c179e\"], [0.4444444444444444, \"#bd3786\"], [0.5555555555555556, \"#d8576b\"], [0.6666666666666666, \"#ed7953\"], [0.7777777777777778, \"#fb9f3a\"], [0.8888888888888888, \"#fdca26\"], [1.0, \"#f0f921\"]], \"sequentialminus\": [[0.0, \"#0d0887\"], [0.1111111111111111, \"#46039f\"], [0.2222222222222222, \"#7201a8\"], [0.3333333333333333, \"#9c179e\"], [0.4444444444444444, \"#bd3786\"], [0.5555555555555556, \"#d8576b\"], [0.6666666666666666, \"#ed7953\"], [0.7777777777777778, \"#fb9f3a\"], [0.8888888888888888, \"#fdca26\"], [1.0, \"#f0f921\"]]}, \"colorway\": [\"#636efa\", \"#EF553B\", \"#00cc96\", \"#ab63fa\", \"#FFA15A\", \"#19d3f3\", \"#FF6692\", \"#B6E880\", \"#FF97FF\", \"#FECB52\"], \"font\": {\"color\": \"#2a3f5f\"}, \"geo\": {\"bgcolor\": \"white\", \"lakecolor\": \"white\", \"landcolor\": \"#E5ECF6\", \"showlakes\": true, \"showland\": true, \"subunitcolor\": \"white\"}, \"hoverlabel\": {\"align\": \"left\"}, \"hovermode\": \"closest\", \"mapbox\": {\"style\": \"light\"}, \"paper_bgcolor\": \"white\", \"plot_bgcolor\": \"#E5ECF6\", \"polar\": {\"angularaxis\": {\"gridcolor\": \"white\", \"linecolor\": \"white\", \"ticks\": \"\"}, \"bgcolor\": \"#E5ECF6\", \"radialaxis\": {\"gridcolor\": \"white\", \"linecolor\": \"white\", \"ticks\": \"\"}}, \"scene\": {\"xaxis\": {\"backgroundcolor\": \"#E5ECF6\", \"gridcolor\": \"white\", \"gridwidth\": 2, \"linecolor\": \"white\", \"showbackground\": true, \"ticks\": \"\", \"zerolinecolor\": \"white\"}, \"yaxis\": {\"backgroundcolor\": \"#E5ECF6\", \"gridcolor\": \"white\", \"gridwidth\": 2, \"linecolor\": \"white\", \"showbackground\": true, \"ticks\": \"\", \"zerolinecolor\": \"white\"}, \"zaxis\": {\"backgroundcolor\": \"#E5ECF6\", \"gridcolor\": \"white\", \"gridwidth\": 2, \"linecolor\": \"white\", \"showbackground\": true, \"ticks\": \"\", \"zerolinecolor\": \"white\"}}, \"shapedefaults\": {\"line\": {\"color\": \"#2a3f5f\"}}, \"ternary\": {\"aaxis\": {\"gridcolor\": \"white\", \"linecolor\": \"white\", \"ticks\": \"\"}, \"baxis\": {\"gridcolor\": \"white\", \"linecolor\": \"white\", \"ticks\": \"\"}, \"bgcolor\": \"#E5ECF6\", \"caxis\": {\"gridcolor\": \"white\", \"linecolor\": \"white\", \"ticks\": \"\"}}, \"title\": {\"x\": 0.05}, \"xaxis\": {\"automargin\": true, \"gridcolor\": \"white\", \"linecolor\": \"white\", \"ticks\": \"\", \"title\": {\"standoff\": 15}, \"zerolinecolor\": \"white\", \"zerolinewidth\": 2}, \"yaxis\": {\"automargin\": true, \"gridcolor\": \"white\", \"linecolor\": \"white\", \"ticks\": \"\", \"title\": {\"standoff\": 15}, \"zerolinecolor\": \"white\", \"zerolinewidth\": 2}}}, \"title\": {\"text\": \"Training loss of the Model\"}, \"xaxis\": {\"anchor\": \"y\", \"domain\": [0.0, 1.0], \"title\": {\"text\": \"Epoch\"}}, \"yaxis\": {\"anchor\": \"x\", \"domain\": [0.0, 1.0], \"title\": {\"text\": \"Loss\"}}},                        {\"responsive\": true}                    ).then(function(){\n",
       "                            \n",
       "var gd = document.getElementById('131aa9e2-f0d5-40e7-a683-a173d18f5748');\n",
       "var x = new MutationObserver(function (mutations, observer) {{\n",
       "        var display = window.getComputedStyle(gd).display;\n",
       "        if (!display || display === 'none') {{\n",
       "            console.log([gd, 'removed!']);\n",
       "            Plotly.purge(gd);\n",
       "            observer.disconnect();\n",
       "        }}\n",
       "}});\n",
       "\n",
       "// Listen for the removal of the full notebook cells\n",
       "var notebookContainer = gd.closest('#notebook-container');\n",
       "if (notebookContainer) {{\n",
       "    x.observe(notebookContainer, {childList: true});\n",
       "}}\n",
       "\n",
       "// Listen for the clearing of the current output cell\n",
       "var outputEl = gd.closest('.output');\n",
       "if (outputEl) {{\n",
       "    x.observe(outputEl, {childList: true});\n",
       "}}\n",
       "\n",
       "                        })                };                });            </script>        </div>"
      ]
     },
     "metadata": {},
     "output_type": "display_data"
    }
   ],
   "source": [
    "import plotly.express as px\n",
    "\n",
    "fig = px.line(df, x='epoch', y='value', color = 'variable')\n",
    "fig.update_layout(title='Training loss of the Model',\n",
    "                   xaxis_title='Epoch',\n",
    "                   yaxis_title='Loss')\n",
    "fig.show()"
   ]
  },
  {
   "cell_type": "markdown",
   "metadata": {
    "papermill": {
     "duration": 0.064042,
     "end_time": "2021-05-18T01:09:12.332059",
     "exception": false,
     "start_time": "2021-05-18T01:09:12.268017",
     "status": "completed"
    },
    "tags": []
   },
   "source": [
    "### Extract embeddings"
   ]
  },
  {
   "cell_type": "code",
   "execution_count": 38,
   "metadata": {
    "execution": {
     "iopub.execute_input": "2021-05-18T01:09:12.482477Z",
     "iopub.status.busy": "2021-05-18T01:09:12.481459Z",
     "iopub.status.idle": "2021-05-18T01:09:20.448230Z",
     "shell.execute_reply": "2021-05-18T01:09:20.447478Z"
    },
    "papermill": {
     "duration": 8.051698,
     "end_time": "2021-05-18T01:09:20.448376",
     "exception": false,
     "start_time": "2021-05-18T01:09:12.396678",
     "status": "completed"
    },
    "tags": []
   },
   "outputs": [
    {
     "name": "stdout",
     "output_type": "stream",
     "text": [
      "Extracting embeddinga for 1,292 train sentences...\n",
      "Extracting embeddinga for 786 validation sentences...\n"
     ]
    }
   ],
   "source": [
    "embeddings_tr, embeddings_vl = [], []\n",
    "# ========================================\n",
    "#               Train\n",
    "# ========================================\n",
    "# Extract embeddinga on train set\n",
    "print('Extracting embeddinga for {:,} train sentences...'.format(len(train_inputs)))\n",
    "# Put model in evaluation mode\n",
    "model.eval()\n",
    "# Tracking variables \n",
    "predictions_train , true_labels_train = [], []\n",
    "# Predict \n",
    "for batch in train_dataloader_sequential:\n",
    "    b_input_ids = batch[0].to(device)\n",
    "    b_input_mask = batch[1].to(device)\n",
    "    b_labels = batch[2].to(device)\n",
    "  \n",
    "  # Telling the model not to compute or store gradients, saving memory and \n",
    "  # speeding up prediction\n",
    "    with torch.no_grad():\n",
    "        # Forward pass, calculate logit predictions\n",
    "        outputs = model(b_input_ids, token_type_ids=None, \n",
    "                      attention_mask=b_input_mask, labels=b_labels)\n",
    "    logits = outputs[1]\n",
    "    # Embeddings extraction approach is to average the second to last hiden layer of each token producing a single 768 length vector\n",
    "    # https://mccormickml.com/2019/05/14/BERT-word-embeddings-tutorial/\n",
    "    hidden_state_tr = outputs[2]\n",
    "    token_vecs = hidden_state_tr[-2]\n",
    "    token_vecs_sentvecs = []\n",
    "    for token in token_vecs:\n",
    "        sentvecs = torch.mean(token, dim=0).detach().cpu().numpy()\n",
    "        token_vecs_sentvecs.append(sentvecs)\n",
    "    #features = hidden_state_tr[0][:,0,:].detach().cpu().numpy()\n",
    "    embeddings_tr.append([batch[3], token_vecs_sentvecs])\n",
    "    # Move logits and labels to CPU\n",
    "    logits = logits.detach().cpu().numpy()\n",
    "    label_ids = b_labels.to('cpu').numpy()\n",
    "\n",
    "    # Store predictions and true labels\n",
    "    predictions_train.append(logits)\n",
    "    true_labels_train.append(label_ids)\n",
    "# ========================================\n",
    "#               Validation\n",
    "# ========================================\n",
    "# Extract embeddinga on train set\n",
    "print('Extracting embeddinga for {:,} validation sentences...'.format(len(validation_inputs)))\n",
    "# Put model in evaluation mode\n",
    "model.eval()\n",
    "# Tracking variables \n",
    "predictions_valid, true_labels_valid = [], []\n",
    "# Predict \n",
    "for batch in validation_dataloader:\n",
    "    b_input_ids = batch[0].to(device)\n",
    "    b_input_mask = batch[1].to(device)\n",
    "    b_labels = batch[2].to(device)\n",
    "  \n",
    "  # Telling the model not to compute or store gradients, saving memory and \n",
    "  # speeding up prediction\n",
    "    with torch.no_grad():\n",
    "        # Forward pass, calculate logit predictions\n",
    "        outputs = model(b_input_ids, token_type_ids=None, \n",
    "                      attention_mask=b_input_mask, labels=b_labels)\n",
    "    logits = outputs[1]\n",
    "    # Embeddings extraction approach is to average the second to last hiden layer of each token producing a single 768 length vector\n",
    "    # https://mccormickml.com/2019/05/14/BERT-word-embeddings-tutorial/\n",
    "    hidden_state_vl = outputs[2]\n",
    "    token_vecs = hidden_state_vl[-2]\n",
    "    token_vecs_sentvecs = []\n",
    "    for token in token_vecs:\n",
    "        sentvecs = torch.mean(token, dim=0).detach().cpu().numpy()\n",
    "        token_vecs_sentvecs.append(sentvecs)\n",
    "    #features = hidden_state_vl[0][:,0,:].detach().cpu().numpy()\n",
    "    embeddings_vl.append([batch[3], token_vecs_sentvecs])\n",
    "    # Move logits and labels to CPU\n",
    "    logits = logits.detach().cpu().numpy()\n",
    "    label_ids = b_labels.to('cpu').numpy()\n",
    "\n",
    "    # Store predictions and true labels\n",
    "    predictions_valid.append(logits)\n",
    "    true_labels_valid.append(label_ids)"
   ]
  },
  {
   "cell_type": "markdown",
   "metadata": {
    "papermill": {
     "duration": 0.065513,
     "end_time": "2021-05-18T01:09:20.580700",
     "exception": false,
     "start_time": "2021-05-18T01:09:20.515187",
     "status": "completed"
    },
    "tags": []
   },
   "source": [
    "### Combine Embeddings with original DF and Output CM"
   ]
  },
  {
   "cell_type": "markdown",
   "metadata": {
    "papermill": {
     "duration": 0.065349,
     "end_time": "2021-05-18T01:09:20.711592",
     "exception": false,
     "start_time": "2021-05-18T01:09:20.646243",
     "status": "completed"
    },
    "tags": []
   },
   "source": [
    "Train"
   ]
  },
  {
   "cell_type": "code",
   "execution_count": 39,
   "metadata": {
    "execution": {
     "iopub.execute_input": "2021-05-18T01:09:20.852031Z",
     "iopub.status.busy": "2021-05-18T01:09:20.851175Z",
     "iopub.status.idle": "2021-05-18T01:09:21.149532Z",
     "shell.execute_reply": "2021-05-18T01:09:21.150081Z"
    },
    "papermill": {
     "duration": 0.373256,
     "end_time": "2021-05-18T01:09:21.150223",
     "exception": false,
     "start_time": "2021-05-18T01:09:20.776967",
     "status": "completed"
    },
    "tags": []
   },
   "outputs": [
    {
     "name": "stdout",
     "output_type": "stream",
     "text": [
      "Train Embeddings Extraction and Merge DONE\n"
     ]
    },
    {
     "data": {
      "text/html": [
       "<div>\n",
       "<style scoped>\n",
       "    .dataframe tbody tr th:only-of-type {\n",
       "        vertical-align: middle;\n",
       "    }\n",
       "\n",
       "    .dataframe tbody tr th {\n",
       "        vertical-align: top;\n",
       "    }\n",
       "\n",
       "    .dataframe thead th {\n",
       "        text-align: right;\n",
       "    }\n",
       "</style>\n",
       "<table border=\"1\" class=\"dataframe\">\n",
       "  <thead>\n",
       "    <tr style=\"text-align: right;\">\n",
       "      <th></th>\n",
       "      <th>id</th>\n",
       "      <th>user.id</th>\n",
       "      <th>suspended</th>\n",
       "      <th>0</th>\n",
       "      <th>1</th>\n",
       "      <th>2</th>\n",
       "      <th>3</th>\n",
       "      <th>4</th>\n",
       "      <th>5</th>\n",
       "      <th>6</th>\n",
       "      <th>...</th>\n",
       "      <th>758</th>\n",
       "      <th>759</th>\n",
       "      <th>760</th>\n",
       "      <th>761</th>\n",
       "      <th>762</th>\n",
       "      <th>763</th>\n",
       "      <th>764</th>\n",
       "      <th>765</th>\n",
       "      <th>766</th>\n",
       "      <th>767</th>\n",
       "    </tr>\n",
       "  </thead>\n",
       "  <tbody>\n",
       "    <tr>\n",
       "      <th>0</th>\n",
       "      <td>16</td>\n",
       "      <td>1.278150e+18</td>\n",
       "      <td>1</td>\n",
       "      <td>0.023559</td>\n",
       "      <td>-0.016170</td>\n",
       "      <td>0.562347</td>\n",
       "      <td>0.147609</td>\n",
       "      <td>0.061726</td>\n",
       "      <td>0.259497</td>\n",
       "      <td>0.263090</td>\n",
       "      <td>...</td>\n",
       "      <td>0.124004</td>\n",
       "      <td>0.036699</td>\n",
       "      <td>0.055228</td>\n",
       "      <td>-0.078721</td>\n",
       "      <td>0.101573</td>\n",
       "      <td>-0.079321</td>\n",
       "      <td>-0.099421</td>\n",
       "      <td>0.187025</td>\n",
       "      <td>0.020334</td>\n",
       "      <td>-0.080444</td>\n",
       "    </tr>\n",
       "    <tr>\n",
       "      <th>1</th>\n",
       "      <td>17</td>\n",
       "      <td>1.278150e+18</td>\n",
       "      <td>1</td>\n",
       "      <td>-0.052049</td>\n",
       "      <td>-0.091506</td>\n",
       "      <td>0.388174</td>\n",
       "      <td>0.055891</td>\n",
       "      <td>0.157246</td>\n",
       "      <td>0.170508</td>\n",
       "      <td>0.105824</td>\n",
       "      <td>...</td>\n",
       "      <td>0.125395</td>\n",
       "      <td>-0.025339</td>\n",
       "      <td>0.007482</td>\n",
       "      <td>0.077716</td>\n",
       "      <td>-0.033005</td>\n",
       "      <td>-0.030372</td>\n",
       "      <td>0.052936</td>\n",
       "      <td>0.214639</td>\n",
       "      <td>0.026310</td>\n",
       "      <td>-0.045751</td>\n",
       "    </tr>\n",
       "    <tr>\n",
       "      <th>2</th>\n",
       "      <td>18</td>\n",
       "      <td>1.278150e+18</td>\n",
       "      <td>1</td>\n",
       "      <td>-0.057191</td>\n",
       "      <td>0.002158</td>\n",
       "      <td>0.581398</td>\n",
       "      <td>0.124219</td>\n",
       "      <td>-0.091334</td>\n",
       "      <td>0.261175</td>\n",
       "      <td>0.248585</td>\n",
       "      <td>...</td>\n",
       "      <td>0.132449</td>\n",
       "      <td>-0.034898</td>\n",
       "      <td>0.073414</td>\n",
       "      <td>0.006850</td>\n",
       "      <td>0.090963</td>\n",
       "      <td>-0.095357</td>\n",
       "      <td>-0.113932</td>\n",
       "      <td>0.189359</td>\n",
       "      <td>-0.056492</td>\n",
       "      <td>-0.029484</td>\n",
       "    </tr>\n",
       "    <tr>\n",
       "      <th>3</th>\n",
       "      <td>19</td>\n",
       "      <td>1.278150e+18</td>\n",
       "      <td>1</td>\n",
       "      <td>0.104888</td>\n",
       "      <td>-0.053899</td>\n",
       "      <td>0.574648</td>\n",
       "      <td>0.150506</td>\n",
       "      <td>-0.125817</td>\n",
       "      <td>0.214539</td>\n",
       "      <td>0.224309</td>\n",
       "      <td>...</td>\n",
       "      <td>0.094661</td>\n",
       "      <td>-0.096352</td>\n",
       "      <td>0.015288</td>\n",
       "      <td>-0.002950</td>\n",
       "      <td>0.065751</td>\n",
       "      <td>-0.140090</td>\n",
       "      <td>-0.159170</td>\n",
       "      <td>0.139709</td>\n",
       "      <td>-0.016142</td>\n",
       "      <td>-0.027872</td>\n",
       "    </tr>\n",
       "    <tr>\n",
       "      <th>4</th>\n",
       "      <td>20</td>\n",
       "      <td>1.278150e+18</td>\n",
       "      <td>1</td>\n",
       "      <td>-0.003458</td>\n",
       "      <td>0.026622</td>\n",
       "      <td>0.504273</td>\n",
       "      <td>0.072897</td>\n",
       "      <td>0.050614</td>\n",
       "      <td>0.128056</td>\n",
       "      <td>0.274594</td>\n",
       "      <td>...</td>\n",
       "      <td>0.114887</td>\n",
       "      <td>0.041159</td>\n",
       "      <td>0.102970</td>\n",
       "      <td>-0.095663</td>\n",
       "      <td>0.017207</td>\n",
       "      <td>-0.101638</td>\n",
       "      <td>-0.144809</td>\n",
       "      <td>0.192354</td>\n",
       "      <td>0.012837</td>\n",
       "      <td>-0.094808</td>\n",
       "    </tr>\n",
       "  </tbody>\n",
       "</table>\n",
       "<p>5 rows × 771 columns</p>\n",
       "</div>"
      ],
      "text/plain": [
       "   id       user.id  suspended         0         1         2         3  \\\n",
       "0  16  1.278150e+18          1  0.023559 -0.016170  0.562347  0.147609   \n",
       "1  17  1.278150e+18          1 -0.052049 -0.091506  0.388174  0.055891   \n",
       "2  18  1.278150e+18          1 -0.057191  0.002158  0.581398  0.124219   \n",
       "3  19  1.278150e+18          1  0.104888 -0.053899  0.574648  0.150506   \n",
       "4  20  1.278150e+18          1 -0.003458  0.026622  0.504273  0.072897   \n",
       "\n",
       "          4         5         6  ...       758       759       760       761  \\\n",
       "0  0.061726  0.259497  0.263090  ...  0.124004  0.036699  0.055228 -0.078721   \n",
       "1  0.157246  0.170508  0.105824  ...  0.125395 -0.025339  0.007482  0.077716   \n",
       "2 -0.091334  0.261175  0.248585  ...  0.132449 -0.034898  0.073414  0.006850   \n",
       "3 -0.125817  0.214539  0.224309  ...  0.094661 -0.096352  0.015288 -0.002950   \n",
       "4  0.050614  0.128056  0.274594  ...  0.114887  0.041159  0.102970 -0.095663   \n",
       "\n",
       "        762       763       764       765       766       767  \n",
       "0  0.101573 -0.079321 -0.099421  0.187025  0.020334 -0.080444  \n",
       "1 -0.033005 -0.030372  0.052936  0.214639  0.026310 -0.045751  \n",
       "2  0.090963 -0.095357 -0.113932  0.189359 -0.056492 -0.029484  \n",
       "3  0.065751 -0.140090 -0.159170  0.139709 -0.016142 -0.027872  \n",
       "4  0.017207 -0.101638 -0.144809  0.192354  0.012837 -0.094808  \n",
       "\n",
       "[5 rows x 771 columns]"
      ]
     },
     "execution_count": 39,
     "metadata": {},
     "output_type": "execute_result"
    }
   ],
   "source": [
    "# Get embeddings for train\n",
    "p = [group for group in embeddings_tr]\n",
    "\n",
    "b = [item for sublist in [[list(t) for t in zip(sublist[0], sublist[1])] for sublist in p] for item in sublist]\n",
    "df = pd.DataFrame(b, columns = ['id', 'embeddings'])  \n",
    "\n",
    "bert_embeddings_df_train = pd.concat([df['id'], df['embeddings'].apply(pd.Series)], axis = 1)\n",
    "bert_embeddings_df_train['id'] = bert_embeddings_df_train['id'].apply(lambda x: x.item())\n",
    "#bert_embeddings_df_train = pd.merge(df_train.drop(['text'], axis=1), bert_embeddings_df_train, left_on = [\"id\"], right_on = [\"id\"])\n",
    "bert_embeddings_df_train = pd.merge(df_train.drop(['text'], axis=1), bert_embeddings_df_train.drop(['id'], axis=1), left_index=True, right_index=True)\n",
    "print('Train Embeddings Extraction and Merge DONE')\n",
    "bert_embeddings_df_train.head()"
   ]
  },
  {
   "cell_type": "code",
   "execution_count": 40,
   "metadata": {
    "execution": {
     "iopub.execute_input": "2021-05-18T01:09:21.307987Z",
     "iopub.status.busy": "2021-05-18T01:09:21.307309Z",
     "iopub.status.idle": "2021-05-18T01:09:21.355139Z",
     "shell.execute_reply": "2021-05-18T01:09:21.355972Z"
    },
    "papermill": {
     "duration": 0.133506,
     "end_time": "2021-05-18T01:09:21.356171",
     "exception": false,
     "start_time": "2021-05-18T01:09:21.222665",
     "status": "completed"
    },
    "tags": []
   },
   "outputs": [
    {
     "name": "stdout",
     "output_type": "stream",
     "text": [
      "Calculating Matthews Corr. Coef. for each batch...\n"
     ]
    },
    {
     "name": "stderr",
     "output_type": "stream",
     "text": [
      "/opt/conda/lib/python3.7/site-packages/sklearn/metrics/_classification.py:846: RuntimeWarning:\n",
      "\n",
      "invalid value encountered in double_scalars\n",
      "\n"
     ]
    }
   ],
   "source": [
    "from sklearn.metrics import matthews_corrcoef\n",
    "matthews_set = []\n",
    "# Evaluate each test batch using Matthew's correlation coefficient\n",
    "print('Calculating Matthews Corr. Coef. for each batch...')\n",
    "# For each input batch...\n",
    "for i in range(len(true_labels_train)):\n",
    "  \n",
    "    # The predictions for this batch are a 2-column ndarray (one column for \"0\" \n",
    "    # and one column for \"1\"). Pick the label with the highest value and turn this\n",
    "    # in to a list of 0s and 1s.\n",
    "    pred_labels_i = np.argmax(predictions_train[i], axis=1).flatten()\n",
    "\n",
    "    # Calculate and store the coef for this batch.  \n",
    "    matthews = matthews_corrcoef(true_labels_train[i], pred_labels_i)                \n",
    "    matthews_set.append(matthews)"
   ]
  },
  {
   "cell_type": "code",
   "execution_count": 41,
   "metadata": {
    "execution": {
     "iopub.execute_input": "2021-05-18T01:09:21.511498Z",
     "iopub.status.busy": "2021-05-18T01:09:21.510665Z",
     "iopub.status.idle": "2021-05-18T01:09:21.520248Z",
     "shell.execute_reply": "2021-05-18T01:09:21.520866Z"
    },
    "papermill": {
     "duration": 0.085444,
     "end_time": "2021-05-18T01:09:21.520988",
     "exception": false,
     "start_time": "2021-05-18T01:09:21.435544",
     "status": "completed"
    },
    "tags": []
   },
   "outputs": [
    {
     "name": "stdout",
     "output_type": "stream",
     "text": [
      "MCC: 0.736\n"
     ]
    }
   ],
   "source": [
    "# Combine the predictions for each batch into a single list of 0s and 1s.\n",
    "flat_predictions = [item for sublist in predictions_train for item in sublist]\n",
    "flat_predictions = np.argmax(flat_predictions, axis=1).flatten()\n",
    "# Combine the correct labels for each batch into a single list.\n",
    "flat_true_labels = [item for sublist in true_labels_train for item in sublist]\n",
    "# Calculate the MCC\n",
    "mcc = matthews_corrcoef(flat_true_labels, flat_predictions)\n",
    "print('MCC: %.3f' % mcc)"
   ]
  },
  {
   "cell_type": "code",
   "execution_count": 42,
   "metadata": {
    "execution": {
     "iopub.execute_input": "2021-05-18T01:09:21.671174Z",
     "iopub.status.busy": "2021-05-18T01:09:21.670198Z",
     "iopub.status.idle": "2021-05-18T01:09:21.680571Z",
     "shell.execute_reply": "2021-05-18T01:09:21.681225Z"
    },
    "papermill": {
     "duration": 0.084,
     "end_time": "2021-05-18T01:09:21.681381",
     "exception": false,
     "start_time": "2021-05-18T01:09:21.597381",
     "status": "completed"
    },
    "tags": []
   },
   "outputs": [
    {
     "name": "stdout",
     "output_type": "stream",
     "text": [
      "              precision    recall  f1-score   support\n",
      "\n",
      "           0       0.85      0.90      0.87       653\n",
      "           1       0.89      0.84      0.86       639\n",
      "\n",
      "    accuracy                           0.87      1292\n",
      "   macro avg       0.87      0.87      0.87      1292\n",
      "weighted avg       0.87      0.87      0.87      1292\n",
      "\n"
     ]
    }
   ],
   "source": [
    "from sklearn.metrics import classification_report,confusion_matrix\n",
    "report = classification_report(flat_true_labels, flat_predictions)\n",
    "print(report)"
   ]
  },
  {
   "cell_type": "code",
   "execution_count": 43,
   "metadata": {
    "execution": {
     "iopub.execute_input": "2021-05-18T01:09:21.831922Z",
     "iopub.status.busy": "2021-05-18T01:09:21.831145Z",
     "iopub.status.idle": "2021-05-18T01:09:21.833619Z",
     "shell.execute_reply": "2021-05-18T01:09:21.834171Z"
    },
    "papermill": {
     "duration": 0.079053,
     "end_time": "2021-05-18T01:09:21.834280",
     "exception": false,
     "start_time": "2021-05-18T01:09:21.755227",
     "status": "completed"
    },
    "tags": []
   },
   "outputs": [],
   "source": [
    "def plot_roc_curve(fpr, tpr, label=None):\n",
    "    plt.plot(fpr, tpr, linewidth=2, label=label)\n",
    "    plt.plot([0, 1], [0, 1], 'k--') # dashed diagonal\n",
    "    plt.axis([0, 1, 0, 1])                                    # Not shown in the book\n",
    "    plt.xlabel('False Positive Rate (Fall-Out)', fontsize=16) # Not shown\n",
    "    plt.ylabel('True Positive Rate (Recall)', fontsize=16)    # Not shown\n",
    "    plt.grid(True)  "
   ]
  },
  {
   "cell_type": "code",
   "execution_count": 44,
   "metadata": {
    "execution": {
     "iopub.execute_input": "2021-05-18T01:09:21.977796Z",
     "iopub.status.busy": "2021-05-18T01:09:21.977252Z",
     "iopub.status.idle": "2021-05-18T01:09:22.148445Z",
     "shell.execute_reply": "2021-05-18T01:09:22.149001Z"
    },
    "papermill": {
     "duration": 0.24661,
     "end_time": "2021-05-18T01:09:22.149155",
     "exception": false,
     "start_time": "2021-05-18T01:09:21.902545",
     "status": "completed"
    },
    "tags": []
   },
   "outputs": [
    {
     "data": {
      "image/png": "[encoded data removed]",
      "text/plain": [
       "<Figure size 576x432 with 1 Axes>"
      ]
     },
     "metadata": {
      "needs_background": "light"
     },
     "output_type": "display_data"
    }
   ],
   "source": [
    "fpr, tpr, thresholds = roc_curve(flat_true_labels, flat_predictions)\n",
    "plt.figure(figsize=(8, 6))                         # Not shown\n",
    "plot_roc_curve(fpr, tpr)\n",
    "plt.plot([4.837e-3, 4.837e-3], [0., 0.4368], \"r:\") # Not shown\n",
    "plt.plot([0.0, 4.837e-3], [0.4368, 0.4368], \"r:\")  # Not shown\n",
    "plt.plot([4.837e-3], [0.4368], \"ro\")               # Not shown\n",
    "plt.show()"
   ]
  },
  {
   "cell_type": "code",
   "execution_count": 45,
   "metadata": {
    "execution": {
     "iopub.execute_input": "2021-05-18T01:09:22.311279Z",
     "iopub.status.busy": "2021-05-18T01:09:22.310294Z",
     "iopub.status.idle": "2021-05-18T01:09:22.317340Z",
     "shell.execute_reply": "2021-05-18T01:09:22.316724Z"
    },
    "papermill": {
     "duration": 0.08966,
     "end_time": "2021-05-18T01:09:22.317464",
     "exception": false,
     "start_time": "2021-05-18T01:09:22.227804",
     "status": "completed"
    },
    "tags": []
   },
   "outputs": [
    {
     "data": {
      "text/plain": [
       "0.8673379394967732"
      ]
     },
     "execution_count": 45,
     "metadata": {},
     "output_type": "execute_result"
    }
   ],
   "source": [
    "roc_auc_score(flat_true_labels, flat_predictions)"
   ]
  },
  {
   "cell_type": "markdown",
   "metadata": {
    "papermill": {
     "duration": 0.073117,
     "end_time": "2021-05-18T01:09:22.464050",
     "exception": false,
     "start_time": "2021-05-18T01:09:22.390933",
     "status": "completed"
    },
    "tags": []
   },
   "source": [
    "Valid"
   ]
  },
  {
   "cell_type": "code",
   "execution_count": 46,
   "metadata": {
    "execution": {
     "iopub.execute_input": "2021-05-18T01:09:22.623924Z",
     "iopub.status.busy": "2021-05-18T01:09:22.623006Z",
     "iopub.status.idle": "2021-05-18T01:09:22.830764Z",
     "shell.execute_reply": "2021-05-18T01:09:22.830229Z"
    },
    "papermill": {
     "duration": 0.293063,
     "end_time": "2021-05-18T01:09:22.830922",
     "exception": false,
     "start_time": "2021-05-18T01:09:22.537859",
     "status": "completed"
    },
    "tags": []
   },
   "outputs": [
    {
     "name": "stdout",
     "output_type": "stream",
     "text": [
      "Valid Embeddings Extraction and Merge DONE.\n"
     ]
    },
    {
     "data": {
      "text/html": [
       "<div>\n",
       "<style scoped>\n",
       "    .dataframe tbody tr th:only-of-type {\n",
       "        vertical-align: middle;\n",
       "    }\n",
       "\n",
       "    .dataframe tbody tr th {\n",
       "        vertical-align: top;\n",
       "    }\n",
       "\n",
       "    .dataframe thead th {\n",
       "        text-align: right;\n",
       "    }\n",
       "</style>\n",
       "<table border=\"1\" class=\"dataframe\">\n",
       "  <thead>\n",
       "    <tr style=\"text-align: right;\">\n",
       "      <th></th>\n",
       "      <th>id</th>\n",
       "      <th>user.id</th>\n",
       "      <th>suspended</th>\n",
       "      <th>0</th>\n",
       "      <th>1</th>\n",
       "      <th>2</th>\n",
       "      <th>3</th>\n",
       "      <th>4</th>\n",
       "      <th>5</th>\n",
       "      <th>6</th>\n",
       "      <th>...</th>\n",
       "      <th>758</th>\n",
       "      <th>759</th>\n",
       "      <th>760</th>\n",
       "      <th>761</th>\n",
       "      <th>762</th>\n",
       "      <th>763</th>\n",
       "      <th>764</th>\n",
       "      <th>765</th>\n",
       "      <th>766</th>\n",
       "      <th>767</th>\n",
       "    </tr>\n",
       "  </thead>\n",
       "  <tbody>\n",
       "    <tr>\n",
       "      <th>0</th>\n",
       "      <td>0</td>\n",
       "      <td>1.278120e+18</td>\n",
       "      <td>1</td>\n",
       "      <td>0.079244</td>\n",
       "      <td>-0.009241</td>\n",
       "      <td>-0.013057</td>\n",
       "      <td>0.112001</td>\n",
       "      <td>0.032663</td>\n",
       "      <td>0.018334</td>\n",
       "      <td>0.040037</td>\n",
       "      <td>...</td>\n",
       "      <td>0.015562</td>\n",
       "      <td>0.006981</td>\n",
       "      <td>0.065606</td>\n",
       "      <td>-0.117421</td>\n",
       "      <td>0.018534</td>\n",
       "      <td>-0.096587</td>\n",
       "      <td>0.074974</td>\n",
       "      <td>0.063009</td>\n",
       "      <td>-0.037766</td>\n",
       "      <td>0.037579</td>\n",
       "    </tr>\n",
       "    <tr>\n",
       "      <th>1</th>\n",
       "      <td>1</td>\n",
       "      <td>1.278120e+18</td>\n",
       "      <td>1</td>\n",
       "      <td>0.105425</td>\n",
       "      <td>-0.080913</td>\n",
       "      <td>-0.007813</td>\n",
       "      <td>-0.002000</td>\n",
       "      <td>0.084367</td>\n",
       "      <td>0.024044</td>\n",
       "      <td>0.090126</td>\n",
       "      <td>...</td>\n",
       "      <td>0.113755</td>\n",
       "      <td>-0.023559</td>\n",
       "      <td>0.024249</td>\n",
       "      <td>0.008805</td>\n",
       "      <td>-0.099506</td>\n",
       "      <td>-0.074158</td>\n",
       "      <td>0.099164</td>\n",
       "      <td>0.059641</td>\n",
       "      <td>-0.001813</td>\n",
       "      <td>0.051679</td>\n",
       "    </tr>\n",
       "    <tr>\n",
       "      <th>2</th>\n",
       "      <td>2</td>\n",
       "      <td>1.278120e+18</td>\n",
       "      <td>1</td>\n",
       "      <td>0.169328</td>\n",
       "      <td>-0.014889</td>\n",
       "      <td>0.091075</td>\n",
       "      <td>0.132621</td>\n",
       "      <td>-0.053509</td>\n",
       "      <td>0.046274</td>\n",
       "      <td>0.041360</td>\n",
       "      <td>...</td>\n",
       "      <td>0.040614</td>\n",
       "      <td>0.087885</td>\n",
       "      <td>0.014182</td>\n",
       "      <td>-0.315651</td>\n",
       "      <td>0.008962</td>\n",
       "      <td>-0.116706</td>\n",
       "      <td>0.008053</td>\n",
       "      <td>0.159298</td>\n",
       "      <td>-0.009667</td>\n",
       "      <td>0.067946</td>\n",
       "    </tr>\n",
       "    <tr>\n",
       "      <th>3</th>\n",
       "      <td>3</td>\n",
       "      <td>1.278120e+18</td>\n",
       "      <td>1</td>\n",
       "      <td>0.063861</td>\n",
       "      <td>-0.067463</td>\n",
       "      <td>0.234123</td>\n",
       "      <td>0.157513</td>\n",
       "      <td>0.038548</td>\n",
       "      <td>0.223616</td>\n",
       "      <td>0.004114</td>\n",
       "      <td>...</td>\n",
       "      <td>0.053707</td>\n",
       "      <td>0.083693</td>\n",
       "      <td>0.069985</td>\n",
       "      <td>0.001799</td>\n",
       "      <td>-0.026025</td>\n",
       "      <td>-0.105935</td>\n",
       "      <td>-0.100756</td>\n",
       "      <td>0.165675</td>\n",
       "      <td>0.051929</td>\n",
       "      <td>0.017296</td>\n",
       "    </tr>\n",
       "    <tr>\n",
       "      <th>4</th>\n",
       "      <td>4</td>\n",
       "      <td>1.278120e+18</td>\n",
       "      <td>1</td>\n",
       "      <td>0.053261</td>\n",
       "      <td>0.119202</td>\n",
       "      <td>0.090160</td>\n",
       "      <td>0.107696</td>\n",
       "      <td>0.122798</td>\n",
       "      <td>0.011894</td>\n",
       "      <td>0.026388</td>\n",
       "      <td>...</td>\n",
       "      <td>0.018284</td>\n",
       "      <td>0.082374</td>\n",
       "      <td>0.025414</td>\n",
       "      <td>-0.151661</td>\n",
       "      <td>-0.031753</td>\n",
       "      <td>-0.084281</td>\n",
       "      <td>0.099405</td>\n",
       "      <td>0.102265</td>\n",
       "      <td>0.019841</td>\n",
       "      <td>0.008911</td>\n",
       "    </tr>\n",
       "  </tbody>\n",
       "</table>\n",
       "<p>5 rows × 771 columns</p>\n",
       "</div>"
      ],
      "text/plain": [
       "   id       user.id  suspended         0         1         2         3  \\\n",
       "0   0  1.278120e+18          1  0.079244 -0.009241 -0.013057  0.112001   \n",
       "1   1  1.278120e+18          1  0.105425 -0.080913 -0.007813 -0.002000   \n",
       "2   2  1.278120e+18          1  0.169328 -0.014889  0.091075  0.132621   \n",
       "3   3  1.278120e+18          1  0.063861 -0.067463  0.234123  0.157513   \n",
       "4   4  1.278120e+18          1  0.053261  0.119202  0.090160  0.107696   \n",
       "\n",
       "          4         5         6  ...       758       759       760       761  \\\n",
       "0  0.032663  0.018334  0.040037  ...  0.015562  0.006981  0.065606 -0.117421   \n",
       "1  0.084367  0.024044  0.090126  ...  0.113755 -0.023559  0.024249  0.008805   \n",
       "2 -0.053509  0.046274  0.041360  ...  0.040614  0.087885  0.014182 -0.315651   \n",
       "3  0.038548  0.223616  0.004114  ...  0.053707  0.083693  0.069985  0.001799   \n",
       "4  0.122798  0.011894  0.026388  ...  0.018284  0.082374  0.025414 -0.151661   \n",
       "\n",
       "        762       763       764       765       766       767  \n",
       "0  0.018534 -0.096587  0.074974  0.063009 -0.037766  0.037579  \n",
       "1 -0.099506 -0.074158  0.099164  0.059641 -0.001813  0.051679  \n",
       "2  0.008962 -0.116706  0.008053  0.159298 -0.009667  0.067946  \n",
       "3 -0.026025 -0.105935 -0.100756  0.165675  0.051929  0.017296  \n",
       "4 -0.031753 -0.084281  0.099405  0.102265  0.019841  0.008911  \n",
       "\n",
       "[5 rows x 771 columns]"
      ]
     },
     "execution_count": 46,
     "metadata": {},
     "output_type": "execute_result"
    }
   ],
   "source": [
    "# Get embeddings for valid\n",
    "p = [group for group in embeddings_vl]\n",
    "\n",
    "b = [item for sublist in [[list(t) for t in zip(sublist[0], sublist[1])] for sublist in p] for item in sublist]\n",
    "df = pd.DataFrame(b, columns = ['id', 'embeddings'])  \n",
    "\n",
    "bert_embeddings_df_valid = pd.concat([df['id'], df['embeddings'].apply(pd.Series)], axis = 1)\n",
    "bert_embeddings_df_valid['id'] = bert_embeddings_df_valid['id'].apply(lambda x: x.item())\n",
    "#bert_embeddings_df_valid = pd.merge(df_valid.drop(['text'], axis=1), bert_embeddings_df_valid, left_on = [\"id\"], right_on = [\"id\"])\n",
    "bert_embeddings_df_valid = pd.merge(df_valid.drop(['text'], axis=1), bert_embeddings_df_valid.drop(['id'], axis=1), left_index=True, right_index=True)\n",
    "print('Valid Embeddings Extraction and Merge DONE.')\n",
    "bert_embeddings_df_valid.head()"
   ]
  },
  {
   "cell_type": "code",
   "execution_count": 47,
   "metadata": {
    "execution": {
     "iopub.execute_input": "2021-05-18T01:09:22.988317Z",
     "iopub.status.busy": "2021-05-18T01:09:22.987342Z",
     "iopub.status.idle": "2021-05-18T01:09:23.012214Z",
     "shell.execute_reply": "2021-05-18T01:09:23.012986Z"
    },
    "papermill": {
     "duration": 0.106596,
     "end_time": "2021-05-18T01:09:23.013144",
     "exception": false,
     "start_time": "2021-05-18T01:09:22.906548",
     "status": "completed"
    },
    "tags": []
   },
   "outputs": [
    {
     "name": "stdout",
     "output_type": "stream",
     "text": [
      "Calculating Matthews Corr. Coef. for each batch...\n"
     ]
    },
    {
     "name": "stderr",
     "output_type": "stream",
     "text": [
      "/opt/conda/lib/python3.7/site-packages/sklearn/metrics/_classification.py:846: RuntimeWarning:\n",
      "\n",
      "invalid value encountered in double_scalars\n",
      "\n"
     ]
    }
   ],
   "source": [
    "from sklearn.metrics import matthews_corrcoef\n",
    "matthews_set = []\n",
    "# Evaluate each test batch using Matthew's correlation coefficient\n",
    "print('Calculating Matthews Corr. Coef. for each batch...')\n",
    "# For each input batch...\n",
    "for i in range(len(true_labels_valid)):\n",
    "  \n",
    "    # The predictions for this batch are a 2-column ndarray (one column for \"0\" \n",
    "    # and one column for \"1\"). Pick the label with the highest value and turn this\n",
    "    # in to a list of 0s and 1s.\n",
    "    pred_labels_i = np.argmax(predictions_valid[i], axis=1).flatten()\n",
    "\n",
    "    # Calculate and store the coef for this batch.  \n",
    "    matthews = matthews_corrcoef(true_labels_valid[i], pred_labels_i)                \n",
    "    matthews_set.append(matthews)"
   ]
  },
  {
   "cell_type": "code",
   "execution_count": 48,
   "metadata": {
    "execution": {
     "iopub.execute_input": "2021-05-18T01:09:23.176034Z",
     "iopub.status.busy": "2021-05-18T01:09:23.175199Z",
     "iopub.status.idle": "2021-05-18T01:09:23.183701Z",
     "shell.execute_reply": "2021-05-18T01:09:23.184543Z"
    },
    "papermill": {
     "duration": 0.090241,
     "end_time": "2021-05-18T01:09:23.184710",
     "exception": false,
     "start_time": "2021-05-18T01:09:23.094469",
     "status": "completed"
    },
    "tags": []
   },
   "outputs": [
    {
     "name": "stdout",
     "output_type": "stream",
     "text": [
      "MCC: -0.262\n"
     ]
    }
   ],
   "source": [
    "# Combine the predictions for each batch into a single list of 0s and 1s.\n",
    "flat_predictions = [item for sublist in predictions_valid for item in sublist]\n",
    "flat_predictions = np.argmax(flat_predictions, axis=1).flatten()\n",
    "# Combine the correct labels for each batch into a single list.\n",
    "flat_true_labels = [item for sublist in true_labels_valid for item in sublist]\n",
    "# Calculate the MCC\n",
    "mcc = matthews_corrcoef(flat_true_labels, flat_predictions)\n",
    "print('MCC: %.3f' % mcc)"
   ]
  },
  {
   "cell_type": "code",
   "execution_count": 49,
   "metadata": {
    "execution": {
     "iopub.execute_input": "2021-05-18T01:09:23.336968Z",
     "iopub.status.busy": "2021-05-18T01:09:23.336082Z",
     "iopub.status.idle": "2021-05-18T01:09:23.345663Z",
     "shell.execute_reply": "2021-05-18T01:09:23.345126Z"
    },
    "papermill": {
     "duration": 0.087207,
     "end_time": "2021-05-18T01:09:23.345771",
     "exception": false,
     "start_time": "2021-05-18T01:09:23.258564",
     "status": "completed"
    },
    "tags": []
   },
   "outputs": [
    {
     "name": "stdout",
     "output_type": "stream",
     "text": [
      "              precision    recall  f1-score   support\n",
      "\n",
      "           0       0.37      0.37      0.37       393\n",
      "           1       0.37      0.36      0.37       393\n",
      "\n",
      "    accuracy                           0.37       786\n",
      "   macro avg       0.37      0.37      0.37       786\n",
      "weighted avg       0.37      0.37      0.37       786\n",
      "\n"
     ]
    }
   ],
   "source": [
    "from sklearn.metrics import classification_report,confusion_matrix\n",
    "report = classification_report(flat_true_labels, flat_predictions)\n",
    "print(report)"
   ]
  },
  {
   "cell_type": "code",
   "execution_count": 50,
   "metadata": {
    "execution": {
     "iopub.execute_input": "2021-05-18T01:09:23.505284Z",
     "iopub.status.busy": "2021-05-18T01:09:23.504377Z",
     "iopub.status.idle": "2021-05-18T01:09:23.659646Z",
     "shell.execute_reply": "2021-05-18T01:09:23.660144Z"
    },
    "papermill": {
     "duration": 0.23918,
     "end_time": "2021-05-18T01:09:23.660317",
     "exception": false,
     "start_time": "2021-05-18T01:09:23.421137",
     "status": "completed"
    },
    "tags": []
   },
   "outputs": [
    {
     "data": {
      "image/png": "[encoded data removed]",
      "text/plain": [
       "<Figure size 576x432 with 1 Axes>"
      ]
     },
     "metadata": {
      "needs_background": "light"
     },
     "output_type": "display_data"
    }
   ],
   "source": [
    "fpr, tpr, thresholds = roc_curve(flat_true_labels, flat_predictions)\n",
    "plt.figure(figsize=(8, 6))                         # Not shown\n",
    "plot_roc_curve(fpr, tpr)\n",
    "plt.plot([4.837e-3, 4.837e-3], [0., 0.4368], \"r:\") # Not shown\n",
    "plt.plot([0.0, 4.837e-3], [0.4368, 0.4368], \"r:\")  # Not shown\n",
    "plt.plot([4.837e-3], [0.4368], \"ro\")               # Not shown\n",
    "plt.show()"
   ]
  },
  {
   "cell_type": "code",
   "execution_count": 51,
   "metadata": {
    "execution": {
     "iopub.execute_input": "2021-05-18T01:09:23.844417Z",
     "iopub.status.busy": "2021-05-18T01:09:23.843327Z",
     "iopub.status.idle": "2021-05-18T01:09:23.851053Z",
     "shell.execute_reply": "2021-05-18T01:09:23.850357Z"
    },
    "papermill": {
     "duration": 0.099773,
     "end_time": "2021-05-18T01:09:23.851168",
     "exception": false,
     "start_time": "2021-05-18T01:09:23.751395",
     "status": "completed"
    },
    "tags": []
   },
   "outputs": [
    {
     "data": {
      "text/plain": [
       "0.3689567430025445"
      ]
     },
     "execution_count": 51,
     "metadata": {},
     "output_type": "execute_result"
    }
   ],
   "source": [
    "roc_auc_score(flat_true_labels, flat_predictions)"
   ]
  },
  {
   "cell_type": "markdown",
   "metadata": {
    "papermill": {
     "duration": 0.080212,
     "end_time": "2021-05-18T01:09:24.015558",
     "exception": false,
     "start_time": "2021-05-18T01:09:23.935346",
     "status": "completed"
    },
    "tags": []
   },
   "source": [
    "#### Export model and embeddings"
   ]
  },
  {
   "cell_type": "code",
   "execution_count": 52,
   "metadata": {
    "execution": {
     "iopub.execute_input": "2021-05-18T01:09:24.189025Z",
     "iopub.status.busy": "2021-05-18T01:09:24.187961Z",
     "iopub.status.idle": "2021-05-18T01:09:24.191213Z",
     "shell.execute_reply": "2021-05-18T01:09:24.190697Z"
    },
    "papermill": {
     "duration": 0.095223,
     "end_time": "2021-05-18T01:09:24.191331",
     "exception": false,
     "start_time": "2021-05-18T01:09:24.096108",
     "status": "completed"
    },
    "tags": []
   },
   "outputs": [],
   "source": [
    "bert_embeddings_df_train['user.id'] = bert_embeddings_df_train['user.id'].astype('str')\n",
    "bert_embeddings_df_train['user.id'] = bert_embeddings_df_train['user.id'].apply(lambda x: \"'\" + x + \"'\")\n",
    "bert_embeddings_df_valid['user.id'] = bert_embeddings_df_valid['user.id'].astype('str')\n",
    "bert_embeddings_df_valid['user.id'] = bert_embeddings_df_valid['user.id'].apply(lambda x: \"'\" + x + \"'\")"
   ]
  },
  {
   "cell_type": "code",
   "execution_count": 53,
   "metadata": {
    "execution": {
     "iopub.execute_input": "2021-05-18T01:09:24.348847Z",
     "iopub.status.busy": "2021-05-18T01:09:24.347882Z",
     "iopub.status.idle": "2021-05-18T01:09:24.353373Z",
     "shell.execute_reply": "2021-05-18T01:09:24.354002Z"
    },
    "papermill": {
     "duration": 0.085861,
     "end_time": "2021-05-18T01:09:24.354171",
     "exception": false,
     "start_time": "2021-05-18T01:09:24.268310",
     "status": "completed"
    },
    "tags": []
   },
   "outputs": [
    {
     "name": "stdout",
     "output_type": "stream",
     "text": [
      "full train: 1292 unique ids train: 234 full valid: 786 unique ids valid: 161\n"
     ]
    }
   ],
   "source": [
    "print(\"full train:\", len(bert_embeddings_df_train), \"unique ids train:\", len(bert_embeddings_df_train['user.id'].unique()), \n",
    "      \"full valid:\", len(bert_embeddings_df_valid), \"unique ids valid:\", len(bert_embeddings_df_valid['user.id'].unique()))"
   ]
  },
  {
   "cell_type": "code",
   "execution_count": 54,
   "metadata": {
    "execution": {
     "iopub.execute_input": "2021-05-18T01:09:24.511942Z",
     "iopub.status.busy": "2021-05-18T01:09:24.511158Z",
     "iopub.status.idle": "2021-05-18T01:09:33.373139Z",
     "shell.execute_reply": "2021-05-18T01:09:33.372561Z"
    },
    "papermill": {
     "duration": 8.941935,
     "end_time": "2021-05-18T01:09:33.373270",
     "exception": false,
     "start_time": "2021-05-18T01:09:24.431335",
     "status": "completed"
    },
    "tags": []
   },
   "outputs": [
    {
     "data": {
      "text/plain": [
       "('./Labse_Tweettext_mode/tokenizer_config.json',\n",
       " './Labse_Tweettext_mode/special_tokens_map.json',\n",
       " './Labse_Tweettext_mode/vocab.txt',\n",
       " './Labse_Tweettext_mode/added_tokens.json')"
      ]
     },
     "execution_count": 54,
     "metadata": {},
     "output_type": "execute_result"
    }
   ],
   "source": [
    "model_to_save = model.module if hasattr(model, \"module\") else model # Take care of distributed/parallel training\n",
    "model_to_save.save_pretrained('./Labse_Tweettext_mode/')\n",
    "tokenizer.save_pretrained('./Labse_Tweettext_mode/')"
   ]
  },
  {
   "cell_type": "code",
   "execution_count": 55,
   "metadata": {
    "execution": {
     "iopub.execute_input": "2021-05-18T01:09:33.544131Z",
     "iopub.status.busy": "2021-05-18T01:09:33.543429Z",
     "iopub.status.idle": "2021-05-18T01:09:37.082716Z",
     "shell.execute_reply": "2021-05-18T01:09:37.081462Z"
    },
    "papermill": {
     "duration": 3.627586,
     "end_time": "2021-05-18T01:09:37.082877",
     "exception": false,
     "start_time": "2021-05-18T01:09:33.455291",
     "status": "completed"
    },
    "tags": []
   },
   "outputs": [],
   "source": [
    "bert_embeddings_df_train.to_csv('labse_train_embeddings_df.csv', index=False, encoding = \"utf_8_sig\")\n",
    "bert_embeddings_df_valid.to_csv('labse_valid_embeddings_df.csv', index=False, encoding = \"utf_8_sig\")"
   ]
  },
  {
   "cell_type": "markdown",
   "metadata": {
    "papermill": {
     "duration": 6.818047,
     "end_time": "2021-05-18T01:09:43.980008",
     "exception": false,
     "start_time": "2021-05-18T01:09:37.161961",
     "status": "completed"
    },
    "tags": []
   },
   "source": [
    "### Evaluate on Test"
   ]
  },
  {
   "cell_type": "markdown",
   "metadata": {
    "papermill": {
     "duration": 0.074112,
     "end_time": "2021-05-18T01:09:44.131438",
     "exception": false,
     "start_time": "2021-05-18T01:09:44.057326",
     "status": "completed"
    },
    "tags": []
   },
   "source": [
    "Now we’ll load the holdout dataset and prepare inputs just as we did with the training set. Then we’ll evaluate predictions using Matthews correlation coefficient (MCC wiki)because this is the metric used by the wider NLP community to evaluate performance on CoLA. With this metric, +1 is the best score, and -1 is the worst score. This way, we can see how well we perform against the state of the art models for this specific task.\n"
   ]
  },
  {
   "cell_type": "code",
   "execution_count": 56,
   "metadata": {
    "execution": {
     "iopub.execute_input": "2021-05-18T01:09:44.286201Z",
     "iopub.status.busy": "2021-05-18T01:09:44.285474Z",
     "iopub.status.idle": "2021-05-18T01:09:44.323524Z",
     "shell.execute_reply": "2021-05-18T01:09:44.323110Z"
    },
    "papermill": {
     "duration": 0.11876,
     "end_time": "2021-05-18T01:09:44.323613",
     "exception": false,
     "start_time": "2021-05-18T01:09:44.204853",
     "status": "completed"
    },
    "tags": []
   },
   "outputs": [],
   "source": [
    "# Convert to tensors.\n",
    "prediction_inputs = torch.tensor(test_inputs)\n",
    "prediction_masks = torch.tensor(test_masks)\n",
    "prediction_labels = torch.tensor(test_labels)\n",
    "prediction_ids = torch.tensor(ids_test)\n",
    "\n",
    "# Set the batch size.  \n",
    "batch_size = 8 \n",
    "# Create the DataLoader.\n",
    "prediction_data = TensorDataset(prediction_inputs, prediction_masks, prediction_labels, prediction_ids)\n",
    "prediction_sampler = SequentialSampler(prediction_data)\n",
    "prediction_dataloader = DataLoader(prediction_data, sampler=prediction_sampler, batch_size=batch_size)"
   ]
  },
  {
   "cell_type": "markdown",
   "metadata": {
    "papermill": {
     "duration": 0.075838,
     "end_time": "2021-05-18T01:09:44.473518",
     "exception": false,
     "start_time": "2021-05-18T01:09:44.397680",
     "status": "completed"
    },
    "tags": []
   },
   "source": [
    "With the test set prepared, we can apply our fine-tuned model to generate predictions on the test set"
   ]
  },
  {
   "cell_type": "code",
   "execution_count": 57,
   "metadata": {
    "execution": {
     "iopub.execute_input": "2021-05-18T01:09:44.643960Z",
     "iopub.status.busy": "2021-05-18T01:09:44.643106Z",
     "iopub.status.idle": "2021-05-18T01:09:56.473113Z",
     "shell.execute_reply": "2021-05-18T01:09:56.472624Z"
    },
    "papermill": {
     "duration": 11.920503,
     "end_time": "2021-05-18T01:09:56.473223",
     "exception": false,
     "start_time": "2021-05-18T01:09:44.552720",
     "status": "completed"
    },
    "tags": []
   },
   "outputs": [
    {
     "name": "stdout",
     "output_type": "stream",
     "text": [
      "Predicting labels for 2,779 test sentences...\n"
     ]
    }
   ],
   "source": [
    "embeddings_te = []\n",
    "# Prediction on test set\n",
    "print('Predicting labels for {:,} test sentences...'.format(len(prediction_inputs)))\n",
    "# Put model in evaluation mode\n",
    "model.eval()\n",
    "# Tracking variables \n",
    "predictions , true_labels = [], []\n",
    "# Predict \n",
    "for batch in prediction_dataloader:\n",
    "    b_input_ids = batch[0].to(device)\n",
    "    b_input_mask = batch[1].to(device)\n",
    "    b_labels = batch[2].to(device)\n",
    "  \n",
    "  # Telling the model not to compute or store gradients, saving memory and \n",
    "  # speeding up prediction\n",
    "    with torch.no_grad():\n",
    "        # Forward pass, calculate logit predictions\n",
    "        outputs = model(b_input_ids, token_type_ids=None, \n",
    "                      attention_mask=b_input_mask, labels=b_labels)\n",
    "    logits = outputs[1]\n",
    "    # Embeddings extraction approach is to average the second to last hiden layer of each token producing a single 768 length vector\n",
    "    # https://mccormickml.com/2019/05/14/BERT-word-embeddings-tutorial/\n",
    "    hidden_state_te = outputs[2]\n",
    "    token_vecs = hidden_state_te[-2]\n",
    "    token_vecs_sentvecs = []\n",
    "    for token in token_vecs:\n",
    "        sentvecs = torch.mean(token, dim=0).detach().cpu().numpy()\n",
    "        token_vecs_sentvecs.append(sentvecs)\n",
    "    # features = hidden_state_te[12][:,0,:].detach().cpu().numpy()\n",
    "    embeddings_te.append([batch[3], token_vecs_sentvecs])\n",
    "    # Move logits and labels to CPU\n",
    "    logits = logits.detach().cpu().numpy()\n",
    "    label_ids = b_labels.to('cpu').numpy()\n",
    "\n",
    "    # Store predictions and true labels\n",
    "    predictions.append(logits)\n",
    "    true_labels.append(label_ids)\n"
   ]
  },
  {
   "cell_type": "markdown",
   "metadata": {
    "papermill": {
     "duration": 0.075358,
     "end_time": "2021-05-18T01:09:56.624188",
     "exception": false,
     "start_time": "2021-05-18T01:09:56.548830",
     "status": "completed"
    },
    "tags": []
   },
   "source": [
    "### Extract Embeddings for Test"
   ]
  },
  {
   "cell_type": "code",
   "execution_count": 58,
   "metadata": {
    "execution": {
     "iopub.execute_input": "2021-05-18T01:09:56.781521Z",
     "iopub.status.busy": "2021-05-18T01:09:56.780590Z",
     "iopub.status.idle": "2021-05-18T01:09:57.361525Z",
     "shell.execute_reply": "2021-05-18T01:09:57.360991Z"
    },
    "papermill": {
     "duration": 0.663354,
     "end_time": "2021-05-18T01:09:57.361653",
     "exception": false,
     "start_time": "2021-05-18T01:09:56.698299",
     "status": "completed"
    },
    "tags": []
   },
   "outputs": [
    {
     "name": "stdout",
     "output_type": "stream",
     "text": [
      "DONE.\n"
     ]
    },
    {
     "data": {
      "text/html": [
       "<div>\n",
       "<style scoped>\n",
       "    .dataframe tbody tr th:only-of-type {\n",
       "        vertical-align: middle;\n",
       "    }\n",
       "\n",
       "    .dataframe tbody tr th {\n",
       "        vertical-align: top;\n",
       "    }\n",
       "\n",
       "    .dataframe thead th {\n",
       "        text-align: right;\n",
       "    }\n",
       "</style>\n",
       "<table border=\"1\" class=\"dataframe\">\n",
       "  <thead>\n",
       "    <tr style=\"text-align: right;\">\n",
       "      <th></th>\n",
       "      <th>id</th>\n",
       "      <th>user.id</th>\n",
       "      <th>suspended</th>\n",
       "      <th>0</th>\n",
       "      <th>1</th>\n",
       "      <th>2</th>\n",
       "      <th>3</th>\n",
       "      <th>4</th>\n",
       "      <th>5</th>\n",
       "      <th>6</th>\n",
       "      <th>...</th>\n",
       "      <th>758</th>\n",
       "      <th>759</th>\n",
       "      <th>760</th>\n",
       "      <th>761</th>\n",
       "      <th>762</th>\n",
       "      <th>763</th>\n",
       "      <th>764</th>\n",
       "      <th>765</th>\n",
       "      <th>766</th>\n",
       "      <th>767</th>\n",
       "    </tr>\n",
       "  </thead>\n",
       "  <tbody>\n",
       "    <tr>\n",
       "      <th>0</th>\n",
       "      <td>0</td>\n",
       "      <td>1.278122e+18</td>\n",
       "      <td>0</td>\n",
       "      <td>0.071118</td>\n",
       "      <td>0.054188</td>\n",
       "      <td>0.009559</td>\n",
       "      <td>-0.024082</td>\n",
       "      <td>-0.016348</td>\n",
       "      <td>0.101715</td>\n",
       "      <td>0.012600</td>\n",
       "      <td>...</td>\n",
       "      <td>-0.006545</td>\n",
       "      <td>0.007181</td>\n",
       "      <td>0.008728</td>\n",
       "      <td>-0.045556</td>\n",
       "      <td>-0.004290</td>\n",
       "      <td>-0.035888</td>\n",
       "      <td>-0.046200</td>\n",
       "      <td>0.084249</td>\n",
       "      <td>-0.046813</td>\n",
       "      <td>0.007689</td>\n",
       "    </tr>\n",
       "    <tr>\n",
       "      <th>1</th>\n",
       "      <td>1</td>\n",
       "      <td>1.278129e+18</td>\n",
       "      <td>0</td>\n",
       "      <td>0.123989</td>\n",
       "      <td>0.014709</td>\n",
       "      <td>0.016019</td>\n",
       "      <td>-0.084183</td>\n",
       "      <td>0.073344</td>\n",
       "      <td>0.058982</td>\n",
       "      <td>0.010025</td>\n",
       "      <td>...</td>\n",
       "      <td>-0.002179</td>\n",
       "      <td>0.102528</td>\n",
       "      <td>0.084251</td>\n",
       "      <td>0.001515</td>\n",
       "      <td>-0.058091</td>\n",
       "      <td>-0.094453</td>\n",
       "      <td>-0.011711</td>\n",
       "      <td>0.136145</td>\n",
       "      <td>-0.014205</td>\n",
       "      <td>0.014381</td>\n",
       "    </tr>\n",
       "    <tr>\n",
       "      <th>2</th>\n",
       "      <td>2</td>\n",
       "      <td>1.278131e+18</td>\n",
       "      <td>0</td>\n",
       "      <td>0.023661</td>\n",
       "      <td>0.117020</td>\n",
       "      <td>0.050035</td>\n",
       "      <td>0.044466</td>\n",
       "      <td>-0.075898</td>\n",
       "      <td>0.122371</td>\n",
       "      <td>0.080756</td>\n",
       "      <td>...</td>\n",
       "      <td>-0.002788</td>\n",
       "      <td>-0.007877</td>\n",
       "      <td>-0.071185</td>\n",
       "      <td>0.052210</td>\n",
       "      <td>0.054758</td>\n",
       "      <td>-0.093113</td>\n",
       "      <td>-0.014173</td>\n",
       "      <td>0.140916</td>\n",
       "      <td>-0.047167</td>\n",
       "      <td>0.030191</td>\n",
       "    </tr>\n",
       "    <tr>\n",
       "      <th>3</th>\n",
       "      <td>3</td>\n",
       "      <td>1.278145e+18</td>\n",
       "      <td>1</td>\n",
       "      <td>0.003021</td>\n",
       "      <td>0.088789</td>\n",
       "      <td>-0.025850</td>\n",
       "      <td>-0.016202</td>\n",
       "      <td>-0.046659</td>\n",
       "      <td>0.108017</td>\n",
       "      <td>0.068166</td>\n",
       "      <td>...</td>\n",
       "      <td>0.048189</td>\n",
       "      <td>0.000449</td>\n",
       "      <td>0.026399</td>\n",
       "      <td>0.185077</td>\n",
       "      <td>0.004014</td>\n",
       "      <td>0.030877</td>\n",
       "      <td>-0.233381</td>\n",
       "      <td>0.034088</td>\n",
       "      <td>0.014233</td>\n",
       "      <td>-0.057608</td>\n",
       "    </tr>\n",
       "    <tr>\n",
       "      <th>4</th>\n",
       "      <td>4</td>\n",
       "      <td>1.278155e+18</td>\n",
       "      <td>0</td>\n",
       "      <td>0.042398</td>\n",
       "      <td>0.100660</td>\n",
       "      <td>0.138387</td>\n",
       "      <td>0.120402</td>\n",
       "      <td>0.019596</td>\n",
       "      <td>0.081141</td>\n",
       "      <td>0.026840</td>\n",
       "      <td>...</td>\n",
       "      <td>0.081994</td>\n",
       "      <td>-0.036363</td>\n",
       "      <td>0.009668</td>\n",
       "      <td>-0.249183</td>\n",
       "      <td>-0.062414</td>\n",
       "      <td>-0.089974</td>\n",
       "      <td>-0.022417</td>\n",
       "      <td>-0.012435</td>\n",
       "      <td>0.064794</td>\n",
       "      <td>0.116384</td>\n",
       "    </tr>\n",
       "  </tbody>\n",
       "</table>\n",
       "<p>5 rows × 771 columns</p>\n",
       "</div>"
      ],
      "text/plain": [
       "   id       user.id  suspended         0         1         2         3  \\\n",
       "0   0  1.278122e+18          0  0.071118  0.054188  0.009559 -0.024082   \n",
       "1   1  1.278129e+18          0  0.123989  0.014709  0.016019 -0.084183   \n",
       "2   2  1.278131e+18          0  0.023661  0.117020  0.050035  0.044466   \n",
       "3   3  1.278145e+18          1  0.003021  0.088789 -0.025850 -0.016202   \n",
       "4   4  1.278155e+18          0  0.042398  0.100660  0.138387  0.120402   \n",
       "\n",
       "          4         5         6  ...       758       759       760       761  \\\n",
       "0 -0.016348  0.101715  0.012600  ... -0.006545  0.007181  0.008728 -0.045556   \n",
       "1  0.073344  0.058982  0.010025  ... -0.002179  0.102528  0.084251  0.001515   \n",
       "2 -0.075898  0.122371  0.080756  ... -0.002788 -0.007877 -0.071185  0.052210   \n",
       "3 -0.046659  0.108017  0.068166  ...  0.048189  0.000449  0.026399  0.185077   \n",
       "4  0.019596  0.081141  0.026840  ...  0.081994 -0.036363  0.009668 -0.249183   \n",
       "\n",
       "        762       763       764       765       766       767  \n",
       "0 -0.004290 -0.035888 -0.046200  0.084249 -0.046813  0.007689  \n",
       "1 -0.058091 -0.094453 -0.011711  0.136145 -0.014205  0.014381  \n",
       "2  0.054758 -0.093113 -0.014173  0.140916 -0.047167  0.030191  \n",
       "3  0.004014  0.030877 -0.233381  0.034088  0.014233 -0.057608  \n",
       "4 -0.062414 -0.089974 -0.022417 -0.012435  0.064794  0.116384  \n",
       "\n",
       "[5 rows x 771 columns]"
      ]
     },
     "execution_count": 58,
     "metadata": {},
     "output_type": "execute_result"
    }
   ],
   "source": [
    "# Get embeddings for test\n",
    "p = [group for group in embeddings_te]\n",
    "\n",
    "b = [item for sublist in [[list(t) for t in zip(sublist[0], sublist[1])] for sublist in p] for item in sublist]\n",
    "df = pd.DataFrame(b, columns = ['id', 'embeddings'])  \n",
    "\n",
    "bert_embeddings_df_test = pd.concat([df['id'], df['embeddings'].apply(pd.Series)], axis = 1)\n",
    "bert_embeddings_df_test['id'] = bert_embeddings_df_test['id'].apply(lambda x: x.item())\n",
    "#bert_embeddings_df_test = pd.merge(df_test.drop(['text'], axis=1), bert_embeddings_df_test, left_on = [\"id\"], right_on = [\"id\"])\n",
    "bert_embeddings_df_test = pd.merge(df_test.drop(['text'], axis=1), bert_embeddings_df_test.drop(['id'], axis=1), left_index=True, right_index=True)\n",
    "print('DONE.')\n",
    "bert_embeddings_df_test.head()"
   ]
  },
  {
   "cell_type": "code",
   "execution_count": 59,
   "metadata": {
    "execution": {
     "iopub.execute_input": "2021-05-18T01:09:57.524771Z",
     "iopub.status.busy": "2021-05-18T01:09:57.524153Z",
     "iopub.status.idle": "2021-05-18T01:09:57.527453Z",
     "shell.execute_reply": "2021-05-18T01:09:57.527022Z"
    },
    "papermill": {
     "duration": 0.090321,
     "end_time": "2021-05-18T01:09:57.527539",
     "exception": false,
     "start_time": "2021-05-18T01:09:57.437218",
     "status": "completed"
    },
    "tags": []
   },
   "outputs": [],
   "source": [
    "bert_embeddings_df_test['user.id'] = bert_embeddings_df_test['user.id'].astype('str')\n",
    "bert_embeddings_df_test['user.id'] = bert_embeddings_df_test['user.id'].apply(lambda x: \"'\" + x + \"'\")"
   ]
  },
  {
   "cell_type": "code",
   "execution_count": 60,
   "metadata": {
    "execution": {
     "iopub.execute_input": "2021-05-18T01:09:57.684631Z",
     "iopub.status.busy": "2021-05-18T01:09:57.684108Z",
     "iopub.status.idle": "2021-05-18T01:09:57.690198Z",
     "shell.execute_reply": "2021-05-18T01:09:57.689700Z"
    },
    "papermill": {
     "duration": 0.086519,
     "end_time": "2021-05-18T01:09:57.690294",
     "exception": false,
     "start_time": "2021-05-18T01:09:57.603775",
     "status": "completed"
    },
    "tags": []
   },
   "outputs": [
    {
     "name": "stdout",
     "output_type": "stream",
     "text": [
      "full train: 2779 unique ids train: 513\n"
     ]
    }
   ],
   "source": [
    "print(\"full train:\", len(bert_embeddings_df_test), \"unique ids train:\", len(bert_embeddings_df_test['user.id'].unique()))"
   ]
  },
  {
   "cell_type": "code",
   "execution_count": 61,
   "metadata": {
    "execution": {
     "iopub.execute_input": "2021-05-18T01:09:57.849076Z",
     "iopub.status.busy": "2021-05-18T01:09:57.847660Z",
     "iopub.status.idle": "2021-05-18T01:10:01.588644Z",
     "shell.execute_reply": "2021-05-18T01:10:01.587642Z"
    },
    "papermill": {
     "duration": 3.821092,
     "end_time": "2021-05-18T01:10:01.588786",
     "exception": false,
     "start_time": "2021-05-18T01:09:57.767694",
     "status": "completed"
    },
    "tags": []
   },
   "outputs": [],
   "source": [
    "bert_embeddings_df_test.to_csv('labse_test_embeddings_df_full.csv', index=False, encoding = \"utf_8_sig\")"
   ]
  },
  {
   "cell_type": "code",
   "execution_count": 62,
   "metadata": {
    "execution": {
     "iopub.execute_input": "2021-05-18T01:10:01.752818Z",
     "iopub.status.busy": "2021-05-18T01:10:01.751985Z",
     "iopub.status.idle": "2021-05-18T01:10:01.755094Z",
     "shell.execute_reply": "2021-05-18T01:10:01.755526Z"
    },
    "papermill": {
     "duration": 0.089089,
     "end_time": "2021-05-18T01:10:01.755639",
     "exception": false,
     "start_time": "2021-05-18T01:10:01.666550",
     "status": "completed"
    },
    "tags": []
   },
   "outputs": [
    {
     "name": "stdout",
     "output_type": "stream",
     "text": [
      "Positive samples: 639 of 1292 (49.46%)\n"
     ]
    }
   ],
   "source": [
    "print('Positive samples: %d of %d (%.2f%%)' % (df_train.suspended.sum(), len(df_train.suspended), (df_train.suspended.sum() / len(df_train.suspended) * 100.0)))"
   ]
  },
  {
   "cell_type": "code",
   "execution_count": 63,
   "metadata": {
    "execution": {
     "iopub.execute_input": "2021-05-18T01:10:01.937364Z",
     "iopub.status.busy": "2021-05-18T01:10:01.929019Z",
     "iopub.status.idle": "2021-05-18T01:10:02.182072Z",
     "shell.execute_reply": "2021-05-18T01:10:02.181508Z"
    },
    "papermill": {
     "duration": 0.349245,
     "end_time": "2021-05-18T01:10:02.182191",
     "exception": false,
     "start_time": "2021-05-18T01:10:01.832946",
     "status": "completed"
    },
    "tags": []
   },
   "outputs": [
    {
     "name": "stdout",
     "output_type": "stream",
     "text": [
      "Calculating Matthews Corr. Coef. for each batch...\n"
     ]
    },
    {
     "name": "stderr",
     "output_type": "stream",
     "text": [
      "/opt/conda/lib/python3.7/site-packages/sklearn/metrics/_classification.py:846: RuntimeWarning:\n",
      "\n",
      "invalid value encountered in double_scalars\n",
      "\n"
     ]
    }
   ],
   "source": [
    "from sklearn.metrics import matthews_corrcoef\n",
    "matthews_set = []\n",
    "# Evaluate each test batch using Matthew's correlation coefficient\n",
    "print('Calculating Matthews Corr. Coef. for each batch...')\n",
    "# For each input batch...\n",
    "for i in range(len(true_labels)):\n",
    "  \n",
    "    # The predictions for this batch are a 2-column ndarray (one column for \"0\" \n",
    "    # and one column for \"1\"). Pick the label with the highest value and turn this\n",
    "    # in to a list of 0s and 1s.\n",
    "    pred_labels_i = np.argmax(predictions[i], axis=1).flatten()\n",
    "\n",
    "    # Calculate and store the coef for this batch.  \n",
    "    matthews = matthews_corrcoef(true_labels[i], pred_labels_i)                \n",
    "    matthews_set.append(matthews)"
   ]
  },
  {
   "cell_type": "code",
   "execution_count": 64,
   "metadata": {
    "execution": {
     "iopub.execute_input": "2021-05-18T01:10:02.349126Z",
     "iopub.status.busy": "2021-05-18T01:10:02.348350Z",
     "iopub.status.idle": "2021-05-18T01:10:02.362573Z",
     "shell.execute_reply": "2021-05-18T01:10:02.363406Z"
    },
    "papermill": {
     "duration": 0.099486,
     "end_time": "2021-05-18T01:10:02.363572",
     "exception": false,
     "start_time": "2021-05-18T01:10:02.264086",
     "status": "completed"
    },
    "tags": []
   },
   "outputs": [
    {
     "name": "stdout",
     "output_type": "stream",
     "text": [
      "MCC: -0.107\n"
     ]
    }
   ],
   "source": [
    "# Combine the predictions for each batch into a single list of 0s and 1s.\n",
    "flat_predictions = [item for sublist in predictions for item in sublist]\n",
    "flat_predictions = np.argmax(flat_predictions, axis=1).flatten()\n",
    "# Combine the correct labels for each batch into a single list.\n",
    "flat_true_labels = [item for sublist in true_labels for item in sublist]\n",
    "# Calculate the MCC\n",
    "mcc = matthews_corrcoef(flat_true_labels, flat_predictions)\n",
    "print('MCC: %.3f' % mcc)"
   ]
  },
  {
   "cell_type": "code",
   "execution_count": 65,
   "metadata": {
    "execution": {
     "iopub.execute_input": "2021-05-18T01:10:02.529328Z",
     "iopub.status.busy": "2021-05-18T01:10:02.528456Z",
     "iopub.status.idle": "2021-05-18T01:10:02.539586Z",
     "shell.execute_reply": "2021-05-18T01:10:02.539123Z"
    },
    "papermill": {
     "duration": 0.094357,
     "end_time": "2021-05-18T01:10:02.539686",
     "exception": false,
     "start_time": "2021-05-18T01:10:02.445329",
     "status": "completed"
    },
    "tags": []
   },
   "outputs": [
    {
     "name": "stdout",
     "output_type": "stream",
     "text": [
      "              precision    recall  f1-score   support\n",
      "\n",
      "           0       0.93      0.47      0.63      2655\n",
      "           1       0.02      0.27      0.04       124\n",
      "\n",
      "    accuracy                           0.47      2779\n",
      "   macro avg       0.48      0.37      0.34      2779\n",
      "weighted avg       0.89      0.47      0.60      2779\n",
      "\n"
     ]
    }
   ],
   "source": [
    "report = classification_report(flat_true_labels, flat_predictions)\n",
    "print(report)"
   ]
  },
  {
   "cell_type": "code",
   "execution_count": 66,
   "metadata": {
    "execution": {
     "iopub.execute_input": "2021-05-18T01:10:02.704186Z",
     "iopub.status.busy": "2021-05-18T01:10:02.703359Z",
     "iopub.status.idle": "2021-05-18T01:10:02.843805Z",
     "shell.execute_reply": "2021-05-18T01:10:02.844281Z"
    },
    "papermill": {
     "duration": 0.226635,
     "end_time": "2021-05-18T01:10:02.844407",
     "exception": false,
     "start_time": "2021-05-18T01:10:02.617772",
     "status": "completed"
    },
    "tags": []
   },
   "outputs": [
    {
     "data": {
      "image/png": "[encoded data removed]",
      "text/plain": [
       "<Figure size 576x432 with 1 Axes>"
      ]
     },
     "metadata": {
      "needs_background": "light"
     },
     "output_type": "display_data"
    }
   ],
   "source": [
    "fpr, tpr, thresholds = roc_curve(flat_true_labels, flat_predictions)\n",
    "plt.figure(figsize=(8, 6))                         # Not shown\n",
    "plot_roc_curve(fpr, tpr)\n",
    "plt.plot([4.837e-3, 4.837e-3], [0., 0.4368], \"r:\") # Not shown\n",
    "plt.plot([0.0, 4.837e-3], [0.4368, 0.4368], \"r:\")  # Not shown\n",
    "plt.plot([4.837e-3], [0.4368], \"ro\")               # Not shown\n",
    "plt.show()"
   ]
  },
  {
   "cell_type": "code",
   "execution_count": 67,
   "metadata": {
    "execution": {
     "iopub.execute_input": "2021-05-18T01:10:03.015547Z",
     "iopub.status.busy": "2021-05-18T01:10:03.014707Z",
     "iopub.status.idle": "2021-05-18T01:10:03.020803Z",
     "shell.execute_reply": "2021-05-18T01:10:03.021278Z"
    },
    "papermill": {
     "duration": 0.092361,
     "end_time": "2021-05-18T01:10:03.021398",
     "exception": false,
     "start_time": "2021-05-18T01:10:02.929037",
     "status": "completed"
    },
    "tags": []
   },
   "outputs": [
    {
     "data": {
      "text/plain": [
       "0.3703526517222526"
      ]
     },
     "execution_count": 67,
     "metadata": {},
     "output_type": "execute_result"
    }
   ],
   "source": [
    "roc_auc_score(flat_true_labels, flat_predictions)"
   ]
  },
  {
   "cell_type": "markdown",
   "metadata": {
    "papermill": {
     "duration": 0.079249,
     "end_time": "2021-05-18T01:10:03.179879",
     "exception": false,
     "start_time": "2021-05-18T01:10:03.100630",
     "status": "completed"
    },
    "tags": []
   },
   "source": [
    "### Aggregate Predictions to Account Level"
   ]
  },
  {
   "cell_type": "code",
   "execution_count": 68,
   "metadata": {
    "execution": {
     "iopub.execute_input": "2021-05-18T01:10:03.346074Z",
     "iopub.status.busy": "2021-05-18T01:10:03.345323Z",
     "iopub.status.idle": "2021-05-18T01:10:03.347810Z",
     "shell.execute_reply": "2021-05-18T01:10:03.348320Z"
    },
    "papermill": {
     "duration": 0.089377,
     "end_time": "2021-05-18T01:10:03.348425",
     "exception": false,
     "start_time": "2021-05-18T01:10:03.259048",
     "status": "completed"
    },
    "tags": []
   },
   "outputs": [],
   "source": [
    "# Generate class predictions at the account level \n",
    "def predict_tweet_text(predictions, df_overlap, df_full):\n",
    "    df = pd.DataFrame(predictions, columns = ['pred'])\n",
    "    df_2 = pd.merge(df_overlap, df, left_index=True, right_index=True)\n",
    "    df_fm = df_full[['user.screen_name','user.id']].drop_duplicates(subset=['user.screen_name','user.id'])\n",
    "    df_3 = pd.merge(df_fm, df_2, left_on='user.id', right_on='user.id')\n",
    "    df_3 = df_3.sort_values(by=['pred'], ascending=False)\n",
    "    return df_3"
   ]
  },
  {
   "cell_type": "code",
   "execution_count": 69,
   "metadata": {
    "execution": {
     "iopub.execute_input": "2021-05-18T01:10:03.520482Z",
     "iopub.status.busy": "2021-05-18T01:10:03.519601Z",
     "iopub.status.idle": "2021-05-18T01:10:03.544627Z",
     "shell.execute_reply": "2021-05-18T01:10:03.544102Z"
    },
    "papermill": {
     "duration": 0.116578,
     "end_time": "2021-05-18T01:10:03.544716",
     "exception": false,
     "start_time": "2021-05-18T01:10:03.428138",
     "status": "completed"
    },
    "tags": []
   },
   "outputs": [
    {
     "data": {
      "text/html": [
       "<div>\n",
       "<style scoped>\n",
       "    .dataframe tbody tr th:only-of-type {\n",
       "        vertical-align: middle;\n",
       "    }\n",
       "\n",
       "    .dataframe tbody tr th {\n",
       "        vertical-align: top;\n",
       "    }\n",
       "\n",
       "    .dataframe thead th {\n",
       "        text-align: right;\n",
       "    }\n",
       "</style>\n",
       "<table border=\"1\" class=\"dataframe\">\n",
       "  <thead>\n",
       "    <tr style=\"text-align: right;\">\n",
       "      <th></th>\n",
       "      <th>user.screen_name</th>\n",
       "      <th>user.id</th>\n",
       "      <th>id</th>\n",
       "      <th>text</th>\n",
       "      <th>suspended</th>\n",
       "      <th>pred</th>\n",
       "    </tr>\n",
       "  </thead>\n",
       "  <tbody>\n",
       "    <tr>\n",
       "      <th>2778</th>\n",
       "      <td>Alijangs3</td>\n",
       "      <td>1.287073e+18</td>\n",
       "      <td>2778</td>\n",
       "      <td>@Ms_Bukharii @SyedaItratZahra Beshaq Alii http...</td>\n",
       "      <td>0</td>\n",
       "      <td>1</td>\n",
       "    </tr>\n",
       "    <tr>\n",
       "      <th>1162</th>\n",
       "      <td>MustafaKhan1313</td>\n",
       "      <td>1.280436e+18</td>\n",
       "      <td>1162</td>\n",
       "      <td>اسسٹنٹ (شہزاد اکبر) ہے جو TV پر آکر بھونکتا ہے...</td>\n",
       "      <td>0</td>\n",
       "      <td>1</td>\n",
       "    </tr>\n",
       "    <tr>\n",
       "      <th>1188</th>\n",
       "      <td>truthseeker3731</td>\n",
       "      <td>1.280455e+18</td>\n",
       "      <td>1188</td>\n",
       "      <td>@nadeemmalik @Mustafa_PPP رات کو پیتے ہیں صبح ...</td>\n",
       "      <td>0</td>\n",
       "      <td>1</td>\n",
       "    </tr>\n",
       "    <tr>\n",
       "      <th>1187</th>\n",
       "      <td>truthseeker3731</td>\n",
       "      <td>1.280455e+18</td>\n",
       "      <td>1187</td>\n",
       "      <td>Lahore #ARYNews https://t.co/5ES2qReWJF @ARYNE...</td>\n",
       "      <td>0</td>\n",
       "      <td>1</td>\n",
       "    </tr>\n",
       "    <tr>\n",
       "      <th>1186</th>\n",
       "      <td>truthseeker3731</td>\n",
       "      <td>1.280455e+18</td>\n",
       "      <td>1186</td>\n",
       "      <td>is crazy @Shiffa_ZY @AmirMateen2 @MoeedNj @cdm...</td>\n",
       "      <td>0</td>\n",
       "      <td>1</td>\n",
       "    </tr>\n",
       "  </tbody>\n",
       "</table>\n",
       "</div>"
      ],
      "text/plain": [
       "     user.screen_name       user.id    id  \\\n",
       "2778        Alijangs3  1.287073e+18  2778   \n",
       "1162  MustafaKhan1313  1.280436e+18  1162   \n",
       "1188  truthseeker3731  1.280455e+18  1188   \n",
       "1187  truthseeker3731  1.280455e+18  1187   \n",
       "1186  truthseeker3731  1.280455e+18  1186   \n",
       "\n",
       "                                                   text  suspended  pred  \n",
       "2778  @Ms_Bukharii @SyedaItratZahra Beshaq Alii http...          0     1  \n",
       "1162  اسسٹنٹ (شہزاد اکبر) ہے جو TV پر آکر بھونکتا ہے...          0     1  \n",
       "1188  @nadeemmalik @Mustafa_PPP رات کو پیتے ہیں صبح ...          0     1  \n",
       "1187  Lahore #ARYNews https://t.co/5ES2qReWJF @ARYNE...          0     1  \n",
       "1186  is crazy @Shiffa_ZY @AmirMateen2 @MoeedNj @cdm...          0     1  "
      ]
     },
     "execution_count": 69,
     "metadata": {},
     "output_type": "execute_result"
    }
   ],
   "source": [
    "test_preds_tweets = predict_tweet_text(flat_predictions, df_test, df_test_f)\n",
    "test_preds_tweets.head()"
   ]
  },
  {
   "cell_type": "code",
   "execution_count": 70,
   "metadata": {
    "execution": {
     "iopub.execute_input": "2021-05-18T01:10:03.711947Z",
     "iopub.status.busy": "2021-05-18T01:10:03.711007Z",
     "iopub.status.idle": "2021-05-18T01:10:03.908542Z",
     "shell.execute_reply": "2021-05-18T01:10:03.908034Z"
    },
    "papermill": {
     "duration": 0.282149,
     "end_time": "2021-05-18T01:10:03.908655",
     "exception": false,
     "start_time": "2021-05-18T01:10:03.626506",
     "status": "completed"
    },
    "tags": []
   },
   "outputs": [],
   "source": [
    "test_preds_tweets.to_csv('test_preds_tweets_labse.csv', index=False, encoding = \"utf_8_sig\")"
   ]
  },
  {
   "cell_type": "code",
   "execution_count": 71,
   "metadata": {
    "execution": {
     "iopub.execute_input": "2021-05-18T01:10:04.080956Z",
     "iopub.status.busy": "2021-05-18T01:10:04.080244Z",
     "iopub.status.idle": "2021-05-18T01:10:04.083489Z",
     "shell.execute_reply": "2021-05-18T01:10:04.083054Z"
    },
    "papermill": {
     "duration": 0.093057,
     "end_time": "2021-05-18T01:10:04.083585",
     "exception": false,
     "start_time": "2021-05-18T01:10:03.990528",
     "status": "completed"
    },
    "tags": []
   },
   "outputs": [],
   "source": [
    "# Generate class predictions at the account level \n",
    "def predict_account(pred_tt):\n",
    "    df_4 = pred_tt[['user.screen_name', 'suspended','pred']].groupby('user.screen_name').agg(['sum', 'mean'])\n",
    "    df_4.drop(('suspended', 'sum'), axis = 1, inplace = True)\n",
    "    df_4.columns = [' '.join(col).strip() for col in df_4.columns.values]\n",
    "    df_4.reset_index(level=0, inplace=True)\n",
    "    df_4.columns = [\"user.screen_name\",\"suspended_label\", \"total_pre_prob\",\"mean_pred_prob\"]\n",
    "    df_4['pred_class'] = np.where(df_4['mean_pred_prob'] > 0.25, 1,0) # Use lighter threshold as not all tweets get an account suspended. \n",
    "    df_4 = df_4.sort_values(by=['total_pre_prob'], ascending=False)\n",
    "\n",
    "    return df_4"
   ]
  },
  {
   "cell_type": "code",
   "execution_count": 72,
   "metadata": {
    "execution": {
     "iopub.execute_input": "2021-05-18T01:10:04.252448Z",
     "iopub.status.busy": "2021-05-18T01:10:04.251575Z",
     "iopub.status.idle": "2021-05-18T01:10:04.295992Z",
     "shell.execute_reply": "2021-05-18T01:10:04.295538Z"
    },
    "papermill": {
     "duration": 0.131494,
     "end_time": "2021-05-18T01:10:04.296088",
     "exception": false,
     "start_time": "2021-05-18T01:10:04.164594",
     "status": "completed"
    },
    "tags": []
   },
   "outputs": [
    {
     "data": {
      "text/html": [
       "<div>\n",
       "<style scoped>\n",
       "    .dataframe tbody tr th:only-of-type {\n",
       "        vertical-align: middle;\n",
       "    }\n",
       "\n",
       "    .dataframe tbody tr th {\n",
       "        vertical-align: top;\n",
       "    }\n",
       "\n",
       "    .dataframe thead th {\n",
       "        text-align: right;\n",
       "    }\n",
       "</style>\n",
       "<table border=\"1\" class=\"dataframe\">\n",
       "  <thead>\n",
       "    <tr style=\"text-align: right;\">\n",
       "      <th></th>\n",
       "      <th>user.screen_name</th>\n",
       "      <th>suspended_label</th>\n",
       "      <th>total_pre_prob</th>\n",
       "      <th>mean_pred_prob</th>\n",
       "      <th>pred_class</th>\n",
       "    </tr>\n",
       "  </thead>\n",
       "  <tbody>\n",
       "    <tr>\n",
       "      <th>71</th>\n",
       "      <td>DanishHK90</td>\n",
       "      <td>0</td>\n",
       "      <td>178</td>\n",
       "      <td>0.994413</td>\n",
       "      <td>1</td>\n",
       "    </tr>\n",
       "    <tr>\n",
       "      <th>204</th>\n",
       "      <td>MustafaKhan1313</td>\n",
       "      <td>0</td>\n",
       "      <td>171</td>\n",
       "      <td>0.994186</td>\n",
       "      <td>1</td>\n",
       "    </tr>\n",
       "    <tr>\n",
       "      <th>124</th>\n",
       "      <td>Interservicein2</td>\n",
       "      <td>0</td>\n",
       "      <td>120</td>\n",
       "      <td>0.991736</td>\n",
       "      <td>1</td>\n",
       "    </tr>\n",
       "    <tr>\n",
       "      <th>477</th>\n",
       "      <td>truthseeker3731</td>\n",
       "      <td>0</td>\n",
       "      <td>105</td>\n",
       "      <td>0.963303</td>\n",
       "      <td>1</td>\n",
       "    </tr>\n",
       "    <tr>\n",
       "      <th>328</th>\n",
       "      <td>asif_yousafzi</td>\n",
       "      <td>0</td>\n",
       "      <td>80</td>\n",
       "      <td>0.963855</td>\n",
       "      <td>1</td>\n",
       "    </tr>\n",
       "    <tr>\n",
       "      <th>...</th>\n",
       "      <td>...</td>\n",
       "      <td>...</td>\n",
       "      <td>...</td>\n",
       "      <td>...</td>\n",
       "      <td>...</td>\n",
       "    </tr>\n",
       "    <tr>\n",
       "      <th>189</th>\n",
       "      <td>Minsik05845738</td>\n",
       "      <td>0</td>\n",
       "      <td>0</td>\n",
       "      <td>0.000000</td>\n",
       "      <td>0</td>\n",
       "    </tr>\n",
       "    <tr>\n",
       "      <th>188</th>\n",
       "      <td>MingjueH</td>\n",
       "      <td>0</td>\n",
       "      <td>0</td>\n",
       "      <td>0.000000</td>\n",
       "      <td>0</td>\n",
       "    </tr>\n",
       "    <tr>\n",
       "      <th>187</th>\n",
       "      <td>Michael48204817</td>\n",
       "      <td>1</td>\n",
       "      <td>0</td>\n",
       "      <td>0.000000</td>\n",
       "      <td>0</td>\n",
       "    </tr>\n",
       "    <tr>\n",
       "      <th>186</th>\n",
       "      <td>MethylShi</td>\n",
       "      <td>0</td>\n",
       "      <td>0</td>\n",
       "      <td>0.000000</td>\n",
       "      <td>0</td>\n",
       "    </tr>\n",
       "    <tr>\n",
       "      <th>512</th>\n",
       "      <td>zzzzzzh15</td>\n",
       "      <td>0</td>\n",
       "      <td>0</td>\n",
       "      <td>0.000000</td>\n",
       "      <td>0</td>\n",
       "    </tr>\n",
       "  </tbody>\n",
       "</table>\n",
       "<p>513 rows × 5 columns</p>\n",
       "</div>"
      ],
      "text/plain": [
       "    user.screen_name  suspended_label  total_pre_prob  mean_pred_prob  \\\n",
       "71        DanishHK90                0             178        0.994413   \n",
       "204  MustafaKhan1313                0             171        0.994186   \n",
       "124  Interservicein2                0             120        0.991736   \n",
       "477  truthseeker3731                0             105        0.963303   \n",
       "328    asif_yousafzi                0              80        0.963855   \n",
       "..               ...              ...             ...             ...   \n",
       "189   Minsik05845738                0               0        0.000000   \n",
       "188         MingjueH                0               0        0.000000   \n",
       "187  Michael48204817                1               0        0.000000   \n",
       "186        MethylShi                0               0        0.000000   \n",
       "512        zzzzzzh15                0               0        0.000000   \n",
       "\n",
       "     pred_class  \n",
       "71            1  \n",
       "204           1  \n",
       "124           1  \n",
       "477           1  \n",
       "328           1  \n",
       "..          ...  \n",
       "189           0  \n",
       "188           0  \n",
       "187           0  \n",
       "186           0  \n",
       "512           0  \n",
       "\n",
       "[513 rows x 5 columns]"
      ]
     },
     "execution_count": 72,
     "metadata": {},
     "output_type": "execute_result"
    }
   ],
   "source": [
    "test_account_preds_tweettext = predict_account(test_preds_tweets)\n",
    "test_account_preds_tweettext"
   ]
  },
  {
   "cell_type": "markdown",
   "metadata": {
    "papermill": {
     "duration": 0.083554,
     "end_time": "2021-05-18T01:10:04.466270",
     "exception": false,
     "start_time": "2021-05-18T01:10:04.382716",
     "status": "completed"
    },
    "tags": []
   },
   "source": [
    "### Confusion Matrix for Account Classification"
   ]
  },
  {
   "cell_type": "code",
   "execution_count": 73,
   "metadata": {
    "execution": {
     "iopub.execute_input": "2021-05-18T01:10:04.646202Z",
     "iopub.status.busy": "2021-05-18T01:10:04.645326Z",
     "iopub.status.idle": "2021-05-18T01:10:04.654993Z",
     "shell.execute_reply": "2021-05-18T01:10:04.654246Z"
    },
    "papermill": {
     "duration": 0.097487,
     "end_time": "2021-05-18T01:10:04.655114",
     "exception": false,
     "start_time": "2021-05-18T01:10:04.557627",
     "status": "completed"
    },
    "tags": []
   },
   "outputs": [
    {
     "name": "stdout",
     "output_type": "stream",
     "text": [
      "              precision    recall  f1-score   support\n",
      "\n",
      "           0       0.92      0.64      0.76       479\n",
      "           1       0.05      0.26      0.08        34\n",
      "\n",
      "    accuracy                           0.62       513\n",
      "   macro avg       0.49      0.45      0.42       513\n",
      "weighted avg       0.87      0.62      0.71       513\n",
      "\n"
     ]
    }
   ],
   "source": [
    "#report = classification_report(np.array(test_labels), predictions)\n",
    "report_te = classification_report(np.array(test_account_preds_tweettext['suspended_label']), np.array(test_account_preds_tweettext['pred_class']))\n",
    "print(report_te)"
   ]
  },
  {
   "cell_type": "code",
   "execution_count": 74,
   "metadata": {
    "execution": {
     "iopub.execute_input": "2021-05-18T01:10:04.826823Z",
     "iopub.status.busy": "2021-05-18T01:10:04.826003Z",
     "iopub.status.idle": "2021-05-18T01:10:04.965107Z",
     "shell.execute_reply": "2021-05-18T01:10:04.965529Z"
    },
    "papermill": {
     "duration": 0.228252,
     "end_time": "2021-05-18T01:10:04.965644",
     "exception": false,
     "start_time": "2021-05-18T01:10:04.737392",
     "status": "completed"
    },
    "tags": []
   },
   "outputs": [
    {
     "data": {
      "image/png": "[encoded data removed]",
      "text/plain": [
       "<Figure size 576x432 with 1 Axes>"
      ]
     },
     "metadata": {
      "needs_background": "light"
     },
     "output_type": "display_data"
    }
   ],
   "source": [
    "fpr, tpr, thresholds = roc_curve(np.array(test_account_preds_tweettext['suspended_label']), np.array(test_account_preds_tweettext['pred_class']))\n",
    "plt.figure(figsize=(8, 6))                         # Not shown\n",
    "plot_roc_curve(fpr, tpr)\n",
    "plt.plot([4.837e-3, 4.837e-3], [0., 0.4368], \"r:\") # Not shown\n",
    "plt.plot([0.0, 4.837e-3], [0.4368, 0.4368], \"r:\")  # Not shown\n",
    "plt.plot([4.837e-3], [0.4368], \"ro\")               # Not shown\n",
    "plt.show()"
   ]
  },
  {
   "cell_type": "code",
   "execution_count": 75,
   "metadata": {
    "execution": {
     "iopub.execute_input": "2021-05-18T01:10:05.142265Z",
     "iopub.status.busy": "2021-05-18T01:10:05.141269Z",
     "iopub.status.idle": "2021-05-18T01:10:05.147980Z",
     "shell.execute_reply": "2021-05-18T01:10:05.147540Z"
    },
    "papermill": {
     "duration": 0.094056,
     "end_time": "2021-05-18T01:10:05.148075",
     "exception": false,
     "start_time": "2021-05-18T01:10:05.054019",
     "status": "completed"
    },
    "tags": []
   },
   "outputs": [
    {
     "data": {
      "text/plain": [
       "0.452812231364362"
      ]
     },
     "execution_count": 75,
     "metadata": {},
     "output_type": "execute_result"
    }
   ],
   "source": [
    "roc_auc_score(np.array(test_account_preds_tweettext['suspended_label']), np.array(test_account_preds_tweettext['pred_class']))"
   ]
  },
  {
   "cell_type": "code",
   "execution_count": 76,
   "metadata": {
    "execution": {
     "iopub.execute_input": "2021-05-18T01:10:05.328435Z",
     "iopub.status.busy": "2021-05-18T01:10:05.327621Z",
     "iopub.status.idle": "2021-05-18T01:10:05.333907Z",
     "shell.execute_reply": "2021-05-18T01:10:05.333340Z"
    },
    "papermill": {
     "duration": 0.093499,
     "end_time": "2021-05-18T01:10:05.334001",
     "exception": false,
     "start_time": "2021-05-18T01:10:05.240502",
     "status": "completed"
    },
    "tags": []
   },
   "outputs": [],
   "source": [
    "test_account_preds_tweettext.to_csv('test_account_preds_tweettext_labse.csv', index=False, encoding = \"utf_8_sig\")"
   ]
  }
 ],
 "metadata": {
  "kernelspec": {
   "display_name": "Python 3",
   "language": "python",
   "name": "python3"
  },
  "language_info": {
   "codemirror_mode": {
    "name": "ipython",
    "version": 3
   },
   "file_extension": ".py",
   "mimetype": "text/x-python",
   "name": "python",
   "nbconvert_exporter": "python",
   "pygments_lexer": "ipython3",
   "version": "3.7.6"
  },
  "papermill": {
   "duration": 257.518579,
   "end_time": "2021-05-18T01:10:05.625925",
   "environment_variables": {},
   "exception": null,
   "input_path": "__notebook__.ipynb",
   "output_path": "__notebook__.ipynb",
   "parameters": {},
   "start_time": "2021-05-18T01:05:48.107346",
   "version": "2.1.0"
  },
  "widgets": {
   "application/vnd.jupyter.widget-state+json": {
    "state": {
     "04cbee003550442d8676ae20bafe76fc": {
      "model_module": "@jupyter-widgets/controls",
      "model_module_version": "1.5.0",
      "model_name": "HTMLModel",
      "state": {
       "_dom_classes": [],
       "_model_module": "@jupyter-widgets/controls",
       "_model_module_version": "1.5.0",
       "_model_name": "HTMLModel",
       "_view_count": null,
       "_view_module": "@jupyter-widgets/controls",
       "_view_module_version": "1.5.0",
       "_view_name": "HTMLView",
       "description": "",
       "description_tooltip": null,
       "layout": "IPY_MODEL_f1994e38331c47df950133f9c4b2602b",
       "placeholder": "​",
       "style": "IPY_MODEL_26e4e5abfd1d45f0927004fd9f7ef3e5",
       "value": " 5.22M/5.22M [00:00&lt;00:00, 11.1MB/s]"
      }
     },
     "0819892e1daf428d8ed02a007715e140": {
      "model_module": "@jupyter-widgets/base",
      "model_module_version": "1.2.0",
      "model_name": "LayoutModel",
      "state": {
       "_model_module": "@jupyter-widgets/base",
       "_model_module_version": "1.2.0",
       "_model_name": "LayoutModel",
       "_view_count": null,
       "_view_module": "@jupyter-widgets/base",
       "_view_module_version": "1.2.0",
       "_view_name": "LayoutView",
       "align_content": null,
       "align_items": null,
       "align_self": null,
       "border": null,
       "bottom": null,
       "display": null,
       "flex": null,
       "flex_flow": null,
       "grid_area": null,
       "grid_auto_columns": null,
       "grid_auto_flow": null,
       "grid_auto_rows": null,
       "grid_column": null,
       "grid_gap": null,
       "grid_row": null,
       "grid_template_areas": null,
       "grid_template_columns": null,
       "grid_template_rows": null,
       "height": null,
       "justify_content": null,
       "justify_items": null,
       "left": null,
       "margin": null,
       "max_height": null,
       "max_width": null,
       "min_height": null,
       "min_width": null,
       "object_fit": null,
       "object_position": null,
       "order": null,
       "overflow": null,
       "overflow_x": null,
       "overflow_y": null,
       "padding": null,
       "right": null,
       "top": null,
       "visibility": null,
       "width": null
      }
     },
     "0e14d8f9cb81482f8eb60492ce21f8ff": {
      "model_module": "@jupyter-widgets/controls",
      "model_module_version": "1.5.0",
      "model_name": "DescriptionStyleModel",
      "state": {
       "_model_module": "@jupyter-widgets/controls",
       "_model_module_version": "1.5.0",
       "_model_name": "DescriptionStyleModel",
       "_view_count": null,
       "_view_module": "@jupyter-widgets/base",
       "_view_module_version": "1.2.0",
       "_view_name": "StyleView",
       "description_width": ""
      }
     },
     "0fe0739d11e24a47bc1ee3dc57b1c633": {
      "model_module": "@jupyter-widgets/controls",
      "model_module_version": "1.5.0",
      "model_name": "FloatProgressModel",
      "state": {
       "_dom_classes": [],
       "_model_module": "@jupyter-widgets/controls",
       "_model_module_version": "1.5.0",
       "_model_name": "FloatProgressModel",
       "_view_count": null,
       "_view_module": "@jupyter-widgets/controls",
       "_view_module_version": "1.5.0",
       "_view_name": "ProgressView",
       "bar_style": "success",
       "description": "Downloading: 100%",
       "description_tooltip": null,
       "layout": "IPY_MODEL_1af41b23e1ab4713a3b062c5e9e790b2",
       "max": 5220781.0,
       "min": 0.0,
       "orientation": "horizontal",
       "style": "IPY_MODEL_2169d66e1ac1479ba892366440e426ed",
       "value": 5220781.0
      }
     },
     "10c22b65d9804d6c92d1270cc9ac0bf5": {
      "model_module": "@jupyter-widgets/base",
      "model_module_version": "1.2.0",
      "model_name": "LayoutModel",
      "state": {
       "_model_module": "@jupyter-widgets/base",
       "_model_module_version": "1.2.0",
       "_model_name": "LayoutModel",
       "_view_count": null,
       "_view_module": "@jupyter-widgets/base",
       "_view_module_version": "1.2.0",
       "_view_name": "LayoutView",
       "align_content": null,
       "align_items": null,
       "align_self": null,
       "border": null,
       "bottom": null,
       "display": null,
       "flex": null,
       "flex_flow": null,
       "grid_area": null,
       "grid_auto_columns": null,
       "grid_auto_flow": null,
       "grid_auto_rows": null,
       "grid_column": null,
       "grid_gap": null,
       "grid_row": null,
       "grid_template_areas": null,
       "grid_template_columns": null,
       "grid_template_rows": null,
       "height": null,
       "justify_content": null,
       "justify_items": null,
       "left": null,
       "margin": null,
       "max_height": null,
       "max_width": null,
       "min_height": null,
       "min_width": null,
       "object_fit": null,
       "object_position": null,
       "order": null,
       "overflow": null,
       "overflow_x": null,
       "overflow_y": null,
       "padding": null,
       "right": null,
       "top": null,
       "visibility": null,
       "width": null
      }
     },
     "1168257e3fee43f685e0c6b6aa66b132": {
      "model_module": "@jupyter-widgets/controls",
      "model_module_version": "1.5.0",
      "model_name": "HBoxModel",
      "state": {
       "_dom_classes": [],
       "_model_module": "@jupyter-widgets/controls",
       "_model_module_version": "1.5.0",
       "_model_name": "HBoxModel",
       "_view_count": null,
       "_view_module": "@jupyter-widgets/controls",
       "_view_module_version": "1.5.0",
       "_view_name": "HBoxView",
       "box_style": "",
       "children": [
        "IPY_MODEL_c10d2508fa1243fea6e679acc03b002d",
        "IPY_MODEL_b470b2f1a4be456a8b7f1626a0bf97fb"
       ],
       "layout": "IPY_MODEL_3e3ff670757943339535396e83410344"
      }
     },
     "126395969efa4d7caa28ca31353bc492": {
      "model_module": "@jupyter-widgets/base",
      "model_module_version": "1.2.0",
      "model_name": "LayoutModel",
      "state": {
       "_model_module": "@jupyter-widgets/base",
       "_model_module_version": "1.2.0",
       "_model_name": "LayoutModel",
       "_view_count": null,
       "_view_module": "@jupyter-widgets/base",
       "_view_module_version": "1.2.0",
       "_view_name": "LayoutView",
       "align_content": null,
       "align_items": null,
       "align_self": null,
       "border": null,
       "bottom": null,
       "display": null,
       "flex": null,
       "flex_flow": null,
       "grid_area": null,
       "grid_auto_columns": null,
       "grid_auto_flow": null,
       "grid_auto_rows": null,
       "grid_column": null,
       "grid_gap": null,
       "grid_row": null,
       "grid_template_areas": null,
       "grid_template_columns": null,
       "grid_template_rows": null,
       "height": null,
       "justify_content": null,
       "justify_items": null,
       "left": null,
       "margin": null,
       "max_height": null,
       "max_width": null,
       "min_height": null,
       "min_width": null,
       "object_fit": null,
       "object_position": null,
       "order": null,
       "overflow": null,
       "overflow_x": null,
       "overflow_y": null,
       "padding": null,
       "right": null,
       "top": null,
       "visibility": null,
       "width": null
      }
     },
     "12c2432eb1274f678936a1ca29177d9c": {
      "model_module": "@jupyter-widgets/controls",
      "model_module_version": "1.5.0",
      "model_name": "HBoxModel",
      "state": {
       "_dom_classes": [],
       "_model_module": "@jupyter-widgets/controls",
       "_model_module_version": "1.5.0",
       "_model_name": "HBoxModel",
       "_view_count": null,
       "_view_module": "@jupyter-widgets/controls",
       "_view_module_version": "1.5.0",
       "_view_name": "HBoxView",
       "box_style": "",
       "children": [
        "IPY_MODEL_28c6b1fb0f1b45888da47d56837267a5",
        "IPY_MODEL_76ed839987024a3a9c6c9dceda2c8806"
       ],
       "layout": "IPY_MODEL_8afaa31289a248779beb9db91614f468"
      }
     },
     "1a5fd465550e4acdb7901fbf5abf523e": {
      "model_module": "@jupyter-widgets/base",
      "model_module_version": "1.2.0",
      "model_name": "LayoutModel",
      "state": {
       "_model_module": "@jupyter-widgets/base",
       "_model_module_version": "1.2.0",
       "_model_name": "LayoutModel",
       "_view_count": null,
       "_view_module": "@jupyter-widgets/base",
       "_view_module_version": "1.2.0",
       "_view_name": "LayoutView",
       "align_content": null,
       "align_items": null,
       "align_self": null,
       "border": null,
       "bottom": null,
       "display": null,
       "flex": null,
       "flex_flow": null,
       "grid_area": null,
       "grid_auto_columns": null,
       "grid_auto_flow": null,
       "grid_auto_rows": null,
       "grid_column": null,
       "grid_gap": null,
       "grid_row": null,
       "grid_template_areas": null,
       "grid_template_columns": null,
       "grid_template_rows": null,
       "height": null,
       "justify_content": null,
       "justify_items": null,
       "left": null,
       "margin": null,
       "max_height": null,
       "max_width": null,
       "min_height": null,
       "min_width": null,
       "object_fit": null,
       "object_position": null,
       "order": null,
       "overflow": null,
       "overflow_x": null,
       "overflow_y": null,
       "padding": null,
       "right": null,
       "top": null,
       "visibility": null,
       "width": null
      }
     },
     "1af41b23e1ab4713a3b062c5e9e790b2": {
      "model_module": "@jupyter-widgets/base",
      "model_module_version": "1.2.0",
      "model_name": "LayoutModel",
      "state": {
       "_model_module": "@jupyter-widgets/base",
       "_model_module_version": "1.2.0",
       "_model_name": "LayoutModel",
       "_view_count": null,
       "_view_module": "@jupyter-widgets/base",
       "_view_module_version": "1.2.0",
       "_view_name": "LayoutView",
       "align_content": null,
       "align_items": null,
       "align_self": null,
       "border": null,
       "bottom": null,
       "display": null,
       "flex": null,
       "flex_flow": null,
       "grid_area": null,
       "grid_auto_columns": null,
       "grid_auto_flow": null,
       "grid_auto_rows": null,
       "grid_column": null,
       "grid_gap": null,
       "grid_row": null,
       "grid_template_areas": null,
       "grid_template_columns": null,
       "grid_template_rows": null,
       "height": null,
       "justify_content": null,
       "justify_items": null,
       "left": null,
       "margin": null,
       "max_height": null,
       "max_width": null,
       "min_height": null,
       "min_width": null,
       "object_fit": null,
       "object_position": null,
       "order": null,
       "overflow": null,
       "overflow_x": null,
       "overflow_y": null,
       "padding": null,
       "right": null,
       "top": null,
       "visibility": null,
       "width": null
      }
     },
     "2169d66e1ac1479ba892366440e426ed": {
      "model_module": "@jupyter-widgets/controls",
      "model_module_version": "1.5.0",
      "model_name": "ProgressStyleModel",
      "state": {
       "_model_module": "@jupyter-widgets/controls",
       "_model_module_version": "1.5.0",
       "_model_name": "ProgressStyleModel",
       "_view_count": null,
       "_view_module": "@jupyter-widgets/base",
       "_view_module_version": "1.2.0",
       "_view_name": "StyleView",
       "bar_color": null,
       "description_width": "initial"
      }
     },
     "26e4e5abfd1d45f0927004fd9f7ef3e5": {
      "model_module": "@jupyter-widgets/controls",
      "model_module_version": "1.5.0",
      "model_name": "DescriptionStyleModel",
      "state": {
       "_model_module": "@jupyter-widgets/controls",
       "_model_module_version": "1.5.0",
       "_model_name": "DescriptionStyleModel",
       "_view_count": null,
       "_view_module": "@jupyter-widgets/base",
       "_view_module_version": "1.2.0",
       "_view_name": "StyleView",
       "description_width": ""
      }
     },
     "28c6b1fb0f1b45888da47d56837267a5": {
      "model_module": "@jupyter-widgets/controls",
      "model_module_version": "1.5.0",
      "model_name": "FloatProgressModel",
      "state": {
       "_dom_classes": [],
       "_model_module": "@jupyter-widgets/controls",
       "_model_module_version": "1.5.0",
       "_model_name": "FloatProgressModel",
       "_view_count": null,
       "_view_module": "@jupyter-widgets/controls",
       "_view_module_version": "1.5.0",
       "_view_name": "ProgressView",
       "bar_style": "success",
       "description": "Downloading: 100%",
       "description_tooltip": null,
       "layout": "IPY_MODEL_0819892e1daf428d8ed02a007715e140",
       "max": 112.0,
       "min": 0.0,
       "orientation": "horizontal",
       "style": "IPY_MODEL_9c372018c07a4e7490e6b988e8a24d01",
       "value": 112.0
      }
     },
     "3ab0454d93fa45d2a75636d10677e58f": {
      "model_module": "@jupyter-widgets/controls",
      "model_module_version": "1.5.0",
      "model_name": "FloatProgressModel",
      "state": {
       "_dom_classes": [],
       "_model_module": "@jupyter-widgets/controls",
       "_model_module_version": "1.5.0",
       "_model_name": "FloatProgressModel",
       "_view_count": null,
       "_view_module": "@jupyter-widgets/controls",
       "_view_module_version": "1.5.0",
       "_view_name": "ProgressView",
       "bar_style": "success",
       "description": "Downloading: 100%",
       "description_tooltip": null,
       "layout": "IPY_MODEL_f60dc9f47ede4cf599d8357fff836da2",
       "max": 472.0,
       "min": 0.0,
       "orientation": "horizontal",
       "style": "IPY_MODEL_66c3efa5fa374865898752d4ba97e701",
       "value": 472.0
      }
     },
     "3e3ff670757943339535396e83410344": {
      "model_module": "@jupyter-widgets/base",
      "model_module_version": "1.2.0",
      "model_name": "LayoutModel",
      "state": {
       "_model_module": "@jupyter-widgets/base",
       "_model_module_version": "1.2.0",
       "_model_name": "LayoutModel",
       "_view_count": null,
       "_view_module": "@jupyter-widgets/base",
       "_view_module_version": "1.2.0",
       "_view_name": "LayoutView",
       "align_content": null,
       "align_items": null,
       "align_self": null,
       "border": null,
       "bottom": null,
       "display": null,
       "flex": null,
       "flex_flow": null,
       "grid_area": null,
       "grid_auto_columns": null,
       "grid_auto_flow": null,
       "grid_auto_rows": null,
       "grid_column": null,
       "grid_gap": null,
       "grid_row": null,
       "grid_template_areas": null,
       "grid_template_columns": null,
       "grid_template_rows": null,
       "height": null,
       "justify_content": null,
       "justify_items": null,
       "left": null,
       "margin": null,
       "max_height": null,
       "max_width": null,
       "min_height": null,
       "min_width": null,
       "object_fit": null,
       "object_position": null,
       "order": null,
       "overflow": null,
       "overflow_x": null,
       "overflow_y": null,
       "padding": null,
       "right": null,
       "top": null,
       "visibility": null,
       "width": null
      }
     },
     "42c4a76a92e34ffeb48ae61048a2402b": {
      "model_module": "@jupyter-widgets/base",
      "model_module_version": "1.2.0",
      "model_name": "LayoutModel",
      "state": {
       "_model_module": "@jupyter-widgets/base",
       "_model_module_version": "1.2.0",
       "_model_name": "LayoutModel",
       "_view_count": null,
       "_view_module": "@jupyter-widgets/base",
       "_view_module_version": "1.2.0",
       "_view_name": "LayoutView",
       "align_content": null,
       "align_items": null,
       "align_self": null,
       "border": null,
       "bottom": null,
       "display": null,
       "flex": null,
       "flex_flow": null,
       "grid_area": null,
       "grid_auto_columns": null,
       "grid_auto_flow": null,
       "grid_auto_rows": null,
       "grid_column": null,
       "grid_gap": null,
       "grid_row": null,
       "grid_template_areas": null,
       "grid_template_columns": null,
       "grid_template_rows": null,
       "height": null,
       "justify_content": null,
       "justify_items": null,
       "left": null,
       "margin": null,
       "max_height": null,
       "max_width": null,
       "min_height": null,
       "min_width": null,
       "object_fit": null,
       "object_position": null,
       "order": null,
       "overflow": null,
       "overflow_x": null,
       "overflow_y": null,
       "padding": null,
       "right": null,
       "top": null,
       "visibility": null,
       "width": null
      }
     },
     "4669be08fb6447ec906838785e061561": {
      "model_module": "@jupyter-widgets/controls",
      "model_module_version": "1.5.0",
      "model_name": "DescriptionStyleModel",
      "state": {
       "_model_module": "@jupyter-widgets/controls",
       "_model_module_version": "1.5.0",
       "_model_name": "DescriptionStyleModel",
       "_view_count": null,
       "_view_module": "@jupyter-widgets/base",
       "_view_module_version": "1.2.0",
       "_view_name": "StyleView",
       "description_width": ""
      }
     },
     "66c3efa5fa374865898752d4ba97e701": {
      "model_module": "@jupyter-widgets/controls",
      "model_module_version": "1.5.0",
      "model_name": "ProgressStyleModel",
      "state": {
       "_model_module": "@jupyter-widgets/controls",
       "_model_module_version": "1.5.0",
       "_model_name": "ProgressStyleModel",
       "_view_count": null,
       "_view_module": "@jupyter-widgets/base",
       "_view_module_version": "1.2.0",
       "_view_name": "StyleView",
       "bar_color": null,
       "description_width": "initial"
      }
     },
     "70c2c9f80b14401696fe6a55328ab843": {
      "model_module": "@jupyter-widgets/base",
      "model_module_version": "1.2.0",
      "model_name": "LayoutModel",
      "state": {
       "_model_module": "@jupyter-widgets/base",
       "_model_module_version": "1.2.0",
       "_model_name": "LayoutModel",
       "_view_count": null,
       "_view_module": "@jupyter-widgets/base",
       "_view_module_version": "1.2.0",
       "_view_name": "LayoutView",
       "align_content": null,
       "align_items": null,
       "align_self": null,
       "border": null,
       "bottom": null,
       "display": null,
       "flex": null,
       "flex_flow": null,
       "grid_area": null,
       "grid_auto_columns": null,
       "grid_auto_flow": null,
       "grid_auto_rows": null,
       "grid_column": null,
       "grid_gap": null,
       "grid_row": null,
       "grid_template_areas": null,
       "grid_template_columns": null,
       "grid_template_rows": null,
       "height": null,
       "justify_content": null,
       "justify_items": null,
       "left": null,
       "margin": null,
       "max_height": null,
       "max_width": null,
       "min_height": null,
       "min_width": null,
       "object_fit": null,
       "object_position": null,
       "order": null,
       "overflow": null,
       "overflow_x": null,
       "overflow_y": null,
       "padding": null,
       "right": null,
       "top": null,
       "visibility": null,
       "width": null
      }
     },
     "745874d24a1e4610bbb189036afe13c1": {
      "model_module": "@jupyter-widgets/controls",
      "model_module_version": "1.5.0",
      "model_name": "ProgressStyleModel",
      "state": {
       "_model_module": "@jupyter-widgets/controls",
       "_model_module_version": "1.5.0",
       "_model_name": "ProgressStyleModel",
       "_view_count": null,
       "_view_module": "@jupyter-widgets/base",
       "_view_module_version": "1.2.0",
       "_view_name": "StyleView",
       "bar_color": null,
       "description_width": "initial"
      }
     },
     "76ed839987024a3a9c6c9dceda2c8806": {
      "model_module": "@jupyter-widgets/controls",
      "model_module_version": "1.5.0",
      "model_name": "HTMLModel",
      "state": {
       "_dom_classes": [],
       "_model_module": "@jupyter-widgets/controls",
       "_model_module_version": "1.5.0",
       "_model_name": "HTMLModel",
       "_view_count": null,
       "_view_module": "@jupyter-widgets/controls",
       "_view_module_version": "1.5.0",
       "_view_name": "HTMLView",
       "description": "",
       "description_tooltip": null,
       "layout": "IPY_MODEL_10c22b65d9804d6c92d1270cc9ac0bf5",
       "placeholder": "​",
       "style": "IPY_MODEL_4669be08fb6447ec906838785e061561",
       "value": " 112/112 [00:00&lt;00:00, 154B/s]"
      }
     },
     "7bf29d01cebc4e8f871988d50aa832b7": {
      "model_module": "@jupyter-widgets/controls",
      "model_module_version": "1.5.0",
      "model_name": "DescriptionStyleModel",
      "state": {
       "_model_module": "@jupyter-widgets/controls",
       "_model_module_version": "1.5.0",
       "_model_name": "DescriptionStyleModel",
       "_view_count": null,
       "_view_module": "@jupyter-widgets/base",
       "_view_module_version": "1.2.0",
       "_view_name": "StyleView",
       "description_width": ""
      }
     },
     "8afaa31289a248779beb9db91614f468": {
      "model_module": "@jupyter-widgets/base",
      "model_module_version": "1.2.0",
      "model_name": "LayoutModel",
      "state": {
       "_model_module": "@jupyter-widgets/base",
       "_model_module_version": "1.2.0",
       "_model_name": "LayoutModel",
       "_view_count": null,
       "_view_module": "@jupyter-widgets/base",
       "_view_module_version": "1.2.0",
       "_view_name": "LayoutView",
       "align_content": null,
       "align_items": null,
       "align_self": null,
       "border": null,
       "bottom": null,
       "display": null,
       "flex": null,
       "flex_flow": null,
       "grid_area": null,
       "grid_auto_columns": null,
       "grid_auto_flow": null,
       "grid_auto_rows": null,
       "grid_column": null,
       "grid_gap": null,
       "grid_row": null,
       "grid_template_areas": null,
       "grid_template_columns": null,
       "grid_template_rows": null,
       "height": null,
       "justify_content": null,
       "justify_items": null,
       "left": null,
       "margin": null,
       "max_height": null,
       "max_width": null,
       "min_height": null,
       "min_width": null,
       "object_fit": null,
       "object_position": null,
       "order": null,
       "overflow": null,
       "overflow_x": null,
       "overflow_y": null,
       "padding": null,
       "right": null,
       "top": null,
       "visibility": null,
       "width": null
      }
     },
     "8b449bbf0d694a299059f9599972ab1c": {
      "model_module": "@jupyter-widgets/controls",
      "model_module_version": "1.5.0",
      "model_name": "HBoxModel",
      "state": {
       "_dom_classes": [],
       "_model_module": "@jupyter-widgets/controls",
       "_model_module_version": "1.5.0",
       "_model_name": "HBoxModel",
       "_view_count": null,
       "_view_module": "@jupyter-widgets/controls",
       "_view_module_version": "1.5.0",
       "_view_name": "HBoxView",
       "box_style": "",
       "children": [
        "IPY_MODEL_ea7b427293d445cfbe31c8237a43f89c",
        "IPY_MODEL_e8f0e1fb2812415fb84c32fb3f293525"
       ],
       "layout": "IPY_MODEL_42c4a76a92e34ffeb48ae61048a2402b"
      }
     },
     "8edb544510df473db58c1ec049e70c97": {
      "model_module": "@jupyter-widgets/base",
      "model_module_version": "1.2.0",
      "model_name": "LayoutModel",
      "state": {
       "_model_module": "@jupyter-widgets/base",
       "_model_module_version": "1.2.0",
       "_model_name": "LayoutModel",
       "_view_count": null,
       "_view_module": "@jupyter-widgets/base",
       "_view_module_version": "1.2.0",
       "_view_name": "LayoutView",
       "align_content": null,
       "align_items": null,
       "align_self": null,
       "border": null,
       "bottom": null,
       "display": null,
       "flex": null,
       "flex_flow": null,
       "grid_area": null,
       "grid_auto_columns": null,
       "grid_auto_flow": null,
       "grid_auto_rows": null,
       "grid_column": null,
       "grid_gap": null,
       "grid_row": null,
       "grid_template_areas": null,
       "grid_template_columns": null,
       "grid_template_rows": null,
       "height": null,
       "justify_content": null,
       "justify_items": null,
       "left": null,
       "margin": null,
       "max_height": null,
       "max_width": null,
       "min_height": null,
       "min_width": null,
       "object_fit": null,
       "object_position": null,
       "order": null,
       "overflow": null,
       "overflow_x": null,
       "overflow_y": null,
       "padding": null,
       "right": null,
       "top": null,
       "visibility": null,
       "width": null
      }
     },
     "9c372018c07a4e7490e6b988e8a24d01": {
      "model_module": "@jupyter-widgets/controls",
      "model_module_version": "1.5.0",
      "model_name": "ProgressStyleModel",
      "state": {
       "_model_module": "@jupyter-widgets/controls",
       "_model_module_version": "1.5.0",
       "_model_name": "ProgressStyleModel",
       "_view_count": null,
       "_view_module": "@jupyter-widgets/base",
       "_view_module_version": "1.2.0",
       "_view_name": "StyleView",
       "bar_color": null,
       "description_width": "initial"
      }
     },
     "a992ac8a262841fb9aea2be15d375b92": {
      "model_module": "@jupyter-widgets/controls",
      "model_module_version": "1.5.0",
      "model_name": "HBoxModel",
      "state": {
       "_dom_classes": [],
       "_model_module": "@jupyter-widgets/controls",
       "_model_module_version": "1.5.0",
       "_model_name": "HBoxModel",
       "_view_count": null,
       "_view_module": "@jupyter-widgets/controls",
       "_view_module_version": "1.5.0",
       "_view_name": "HBoxView",
       "box_style": "",
       "children": [
        "IPY_MODEL_0fe0739d11e24a47bc1ee3dc57b1c633",
        "IPY_MODEL_04cbee003550442d8676ae20bafe76fc"
       ],
       "layout": "IPY_MODEL_e1f3d847efa540138c5aec50b24969f6"
      }
     },
     "b470b2f1a4be456a8b7f1626a0bf97fb": {
      "model_module": "@jupyter-widgets/controls",
      "model_module_version": "1.5.0",
      "model_name": "HTMLModel",
      "state": {
       "_dom_classes": [],
       "_model_module": "@jupyter-widgets/controls",
       "_model_module_version": "1.5.0",
       "_model_name": "HTMLModel",
       "_view_count": null,
       "_view_module": "@jupyter-widgets/controls",
       "_view_module_version": "1.5.0",
       "_view_name": "HTMLView",
       "description": "",
       "description_tooltip": null,
       "layout": "IPY_MODEL_b609a79ab1f84755b6b89597ef4e961c",
       "placeholder": "​",
       "style": "IPY_MODEL_7bf29d01cebc4e8f871988d50aa832b7",
       "value": " 62.0/62.0 [00:00&lt;00:00, 117B/s]"
      }
     },
     "b609a79ab1f84755b6b89597ef4e961c": {
      "model_module": "@jupyter-widgets/base",
      "model_module_version": "1.2.0",
      "model_name": "LayoutModel",
      "state": {
       "_model_module": "@jupyter-widgets/base",
       "_model_module_version": "1.2.0",
       "_model_name": "LayoutModel",
       "_view_count": null,
       "_view_module": "@jupyter-widgets/base",
       "_view_module_version": "1.2.0",
       "_view_name": "LayoutView",
       "align_content": null,
       "align_items": null,
       "align_self": null,
       "border": null,
       "bottom": null,
       "display": null,
       "flex": null,
       "flex_flow": null,
       "grid_area": null,
       "grid_auto_columns": null,
       "grid_auto_flow": null,
       "grid_auto_rows": null,
       "grid_column": null,
       "grid_gap": null,
       "grid_row": null,
       "grid_template_areas": null,
       "grid_template_columns": null,
       "grid_template_rows": null,
       "height": null,
       "justify_content": null,
       "justify_items": null,
       "left": null,
       "margin": null,
       "max_height": null,
       "max_width": null,
       "min_height": null,
       "min_width": null,
       "object_fit": null,
       "object_position": null,
       "order": null,
       "overflow": null,
       "overflow_x": null,
       "overflow_y": null,
       "padding": null,
       "right": null,
       "top": null,
       "visibility": null,
       "width": null
      }
     },
     "be5d382d6c704efcb10effa84a724955": {
      "model_module": "@jupyter-widgets/base",
      "model_module_version": "1.2.0",
      "model_name": "LayoutModel",
      "state": {
       "_model_module": "@jupyter-widgets/base",
       "_model_module_version": "1.2.0",
       "_model_name": "LayoutModel",
       "_view_count": null,
       "_view_module": "@jupyter-widgets/base",
       "_view_module_version": "1.2.0",
       "_view_name": "LayoutView",
       "align_content": null,
       "align_items": null,
       "align_self": null,
       "border": null,
       "bottom": null,
       "display": null,
       "flex": null,
       "flex_flow": null,
       "grid_area": null,
       "grid_auto_columns": null,
       "grid_auto_flow": null,
       "grid_auto_rows": null,
       "grid_column": null,
       "grid_gap": null,
       "grid_row": null,
       "grid_template_areas": null,
       "grid_template_columns": null,
       "grid_template_rows": null,
       "height": null,
       "justify_content": null,
       "justify_items": null,
       "left": null,
       "margin": null,
       "max_height": null,
       "max_width": null,
       "min_height": null,
       "min_width": null,
       "object_fit": null,
       "object_position": null,
       "order": null,
       "overflow": null,
       "overflow_x": null,
       "overflow_y": null,
       "padding": null,
       "right": null,
       "top": null,
       "visibility": null,
       "width": null
      }
     },
     "c10d2508fa1243fea6e679acc03b002d": {
      "model_module": "@jupyter-widgets/controls",
      "model_module_version": "1.5.0",
      "model_name": "FloatProgressModel",
      "state": {
       "_dom_classes": [],
       "_model_module": "@jupyter-widgets/controls",
       "_model_module_version": "1.5.0",
       "_model_name": "FloatProgressModel",
       "_view_count": null,
       "_view_module": "@jupyter-widgets/controls",
       "_view_module_version": "1.5.0",
       "_view_name": "ProgressView",
       "bar_style": "success",
       "description": "Downloading: 100%",
       "description_tooltip": null,
       "layout": "IPY_MODEL_be5d382d6c704efcb10effa84a724955",
       "max": 62.0,
       "min": 0.0,
       "orientation": "horizontal",
       "style": "IPY_MODEL_e071fd0667724b12bdb71f2393b24455",
       "value": 62.0
      }
     },
     "c703b41f69434b5e916d7c79bf7c368b": {
      "model_module": "@jupyter-widgets/controls",
      "model_module_version": "1.5.0",
      "model_name": "DescriptionStyleModel",
      "state": {
       "_model_module": "@jupyter-widgets/controls",
       "_model_module_version": "1.5.0",
       "_model_name": "DescriptionStyleModel",
       "_view_count": null,
       "_view_module": "@jupyter-widgets/base",
       "_view_module_version": "1.2.0",
       "_view_name": "StyleView",
       "description_width": ""
      }
     },
     "dfa9d072afc14a5cb8a86b13caf41c85": {
      "model_module": "@jupyter-widgets/controls",
      "model_module_version": "1.5.0",
      "model_name": "HBoxModel",
      "state": {
       "_dom_classes": [],
       "_model_module": "@jupyter-widgets/controls",
       "_model_module_version": "1.5.0",
       "_model_name": "HBoxModel",
       "_view_count": null,
       "_view_module": "@jupyter-widgets/controls",
       "_view_module_version": "1.5.0",
       "_view_name": "HBoxView",
       "box_style": "",
       "children": [
        "IPY_MODEL_3ab0454d93fa45d2a75636d10677e58f",
        "IPY_MODEL_f158f66ccd9346a1a8b5f5d53026d05c"
       ],
       "layout": "IPY_MODEL_126395969efa4d7caa28ca31353bc492"
      }
     },
     "e071fd0667724b12bdb71f2393b24455": {
      "model_module": "@jupyter-widgets/controls",
      "model_module_version": "1.5.0",
      "model_name": "ProgressStyleModel",
      "state": {
       "_model_module": "@jupyter-widgets/controls",
       "_model_module_version": "1.5.0",
       "_model_name": "ProgressStyleModel",
       "_view_count": null,
       "_view_module": "@jupyter-widgets/base",
       "_view_module_version": "1.2.0",
       "_view_name": "StyleView",
       "bar_color": null,
       "description_width": "initial"
      }
     },
     "e1f3d847efa540138c5aec50b24969f6": {
      "model_module": "@jupyter-widgets/base",
      "model_module_version": "1.2.0",
      "model_name": "LayoutModel",
      "state": {
       "_model_module": "@jupyter-widgets/base",
       "_model_module_version": "1.2.0",
       "_model_name": "LayoutModel",
       "_view_count": null,
       "_view_module": "@jupyter-widgets/base",
       "_view_module_version": "1.2.0",
       "_view_name": "LayoutView",
       "align_content": null,
       "align_items": null,
       "align_self": null,
       "border": null,
       "bottom": null,
       "display": null,
       "flex": null,
       "flex_flow": null,
       "grid_area": null,
       "grid_auto_columns": null,
       "grid_auto_flow": null,
       "grid_auto_rows": null,
       "grid_column": null,
       "grid_gap": null,
       "grid_row": null,
       "grid_template_areas": null,
       "grid_template_columns": null,
       "grid_template_rows": null,
       "height": null,
       "justify_content": null,
       "justify_items": null,
       "left": null,
       "margin": null,
       "max_height": null,
       "max_width": null,
       "min_height": null,
       "min_width": null,
       "object_fit": null,
       "object_position": null,
       "order": null,
       "overflow": null,
       "overflow_x": null,
       "overflow_y": null,
       "padding": null,
       "right": null,
       "top": null,
       "visibility": null,
       "width": null
      }
     },
     "e8f0e1fb2812415fb84c32fb3f293525": {
      "model_module": "@jupyter-widgets/controls",
      "model_module_version": "1.5.0",
      "model_name": "HTMLModel",
      "state": {
       "_dom_classes": [],
       "_model_module": "@jupyter-widgets/controls",
       "_model_module_version": "1.5.0",
       "_model_name": "HTMLModel",
       "_view_count": null,
       "_view_module": "@jupyter-widgets/controls",
       "_view_module_version": "1.5.0",
       "_view_name": "HTMLView",
       "description": "",
       "description_tooltip": null,
       "layout": "IPY_MODEL_70c2c9f80b14401696fe6a55328ab843",
       "placeholder": "​",
       "style": "IPY_MODEL_c703b41f69434b5e916d7c79bf7c368b",
       "value": " 1.89G/1.89G [00:58&lt;00:00, 32.5MB/s]"
      }
     },
     "ea7b427293d445cfbe31c8237a43f89c": {
      "model_module": "@jupyter-widgets/controls",
      "model_module_version": "1.5.0",
      "model_name": "FloatProgressModel",
      "state": {
       "_dom_classes": [],
       "_model_module": "@jupyter-widgets/controls",
       "_model_module_version": "1.5.0",
       "_model_name": "FloatProgressModel",
       "_view_count": null,
       "_view_module": "@jupyter-widgets/controls",
       "_view_module_version": "1.5.0",
       "_view_name": "ProgressView",
       "bar_style": "success",
       "description": "Downloading: 100%",
       "description_tooltip": null,
       "layout": "IPY_MODEL_1a5fd465550e4acdb7901fbf5abf523e",
       "max": 1888168867.0,
       "min": 0.0,
       "orientation": "horizontal",
       "style": "IPY_MODEL_745874d24a1e4610bbb189036afe13c1",
       "value": 1888168867.0
      }
     },
     "f158f66ccd9346a1a8b5f5d53026d05c": {
      "model_module": "@jupyter-widgets/controls",
      "model_module_version": "1.5.0",
      "model_name": "HTMLModel",
      "state": {
       "_dom_classes": [],
       "_model_module": "@jupyter-widgets/controls",
       "_model_module_version": "1.5.0",
       "_model_name": "HTMLModel",
       "_view_count": null,
       "_view_module": "@jupyter-widgets/controls",
       "_view_module_version": "1.5.0",
       "_view_name": "HTMLView",
       "description": "",
       "description_tooltip": null,
       "layout": "IPY_MODEL_8edb544510df473db58c1ec049e70c97",
       "placeholder": "​",
       "style": "IPY_MODEL_0e14d8f9cb81482f8eb60492ce21f8ff",
       "value": " 472/472 [00:00&lt;00:00, 5.95kB/s]"
      }
     },
     "f1994e38331c47df950133f9c4b2602b": {
      "model_module": "@jupyter-widgets/base",
      "model_module_version": "1.2.0",
      "model_name": "LayoutModel",
      "state": {
       "_model_module": "@jupyter-widgets/base",
       "_model_module_version": "1.2.0",
       "_model_name": "LayoutModel",
       "_view_count": null,
       "_view_module": "@jupyter-widgets/base",
       "_view_module_version": "1.2.0",
       "_view_name": "LayoutView",
       "align_content": null,
       "align_items": null,
       "align_self": null,
       "border": null,
       "bottom": null,
       "display": null,
       "flex": null,
       "flex_flow": null,
       "grid_area": null,
       "grid_auto_columns": null,
       "grid_auto_flow": null,
       "grid_auto_rows": null,
       "grid_column": null,
       "grid_gap": null,
       "grid_row": null,
       "grid_template_areas": null,
       "grid_template_columns": null,
       "grid_template_rows": null,
       "height": null,
       "justify_content": null,
       "justify_items": null,
       "left": null,
       "margin": null,
       "max_height": null,
       "max_width": null,
       "min_height": null,
       "min_width": null,
       "object_fit": null,
       "object_position": null,
       "order": null,
       "overflow": null,
       "overflow_x": null,
       "overflow_y": null,
       "padding": null,
       "right": null,
       "top": null,
       "visibility": null,
       "width": null
      }
     },
     "f60dc9f47ede4cf599d8357fff836da2": {
      "model_module": "@jupyter-widgets/base",
      "model_module_version": "1.2.0",
      "model_name": "LayoutModel",
      "state": {
       "_model_module": "@jupyter-widgets/base",
       "_model_module_version": "1.2.0",
       "_model_name": "LayoutModel",
       "_view_count": null,
       "_view_module": "@jupyter-widgets/base",
       "_view_module_version": "1.2.0",
       "_view_name": "LayoutView",
       "align_content": null,
       "align_items": null,
       "align_self": null,
       "border": null,
       "bottom": null,
       "display": null,
       "flex": null,
       "flex_flow": null,
       "grid_area": null,
       "grid_auto_columns": null,
       "grid_auto_flow": null,
       "grid_auto_rows": null,
       "grid_column": null,
       "grid_gap": null,
       "grid_row": null,
       "grid_template_areas": null,
       "grid_template_columns": null,
       "grid_template_rows": null,
       "height": null,
       "justify_content": null,
       "justify_items": null,
       "left": null,
       "margin": null,
       "max_height": null,
       "max_width": null,
       "min_height": null,
       "min_width": null,
       "object_fit": null,
       "object_position": null,
       "order": null,
       "overflow": null,
       "overflow_x": null,
       "overflow_y": null,
       "padding": null,
       "right": null,
       "top": null,
       "visibility": null,
       "width": null
      }
     }
    },
    "version_major": 2,
    "version_minor": 0
   }
  }
 },
 "nbformat": 4,
 "nbformat_minor": 4
}
