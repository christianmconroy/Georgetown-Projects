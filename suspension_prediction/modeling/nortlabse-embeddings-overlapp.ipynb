{
 "cells": [
  {
   "cell_type": "markdown",
   "metadata": {
    "papermill": {
     "duration": 0.058403,
     "end_time": "2021-05-18T11:54:28.607744",
     "exception": false,
     "start_time": "2021-05-18T11:54:28.549341",
     "status": "completed"
    },
    "tags": []
   },
   "source": [
    "### Load in Packages and Set Up Parameters"
   ]
  },
  {
   "cell_type": "code",
   "execution_count": 1,
   "metadata": {
    "_cell_guid": "b1076dfc-b9ad-4769-8c92-a6c4dae69d19",
    "_uuid": "8f2839f25d086af736a60e9eeb907d3b93b6e0e5",
    "execution": {
     "iopub.execute_input": "2021-05-18T11:54:28.764842Z",
     "iopub.status.busy": "2021-05-18T11:54:28.764189Z",
     "iopub.status.idle": "2021-05-18T11:54:34.594012Z",
     "shell.execute_reply": "2021-05-18T11:54:34.593466Z"
    },
    "papermill": {
     "duration": 5.892172,
     "end_time": "2021-05-18T11:54:34.594128",
     "exception": false,
     "start_time": "2021-05-18T11:54:28.701956",
     "status": "completed"
    },
    "tags": []
   },
   "outputs": [],
   "source": [
    "import pandas as pd\n",
    "from keras.preprocessing.sequence import pad_sequences\n",
    "\n",
    "import matplotlib.pyplot as plt\n",
    "%matplotlib inline"
   ]
  },
  {
   "cell_type": "code",
   "execution_count": 2,
   "metadata": {
    "execution": {
     "iopub.execute_input": "2021-05-18T11:54:37.052085Z",
     "iopub.status.busy": "2021-05-18T11:54:37.051448Z",
     "iopub.status.idle": "2021-05-18T11:54:37.055387Z",
     "shell.execute_reply": "2021-05-18T11:54:37.055872Z"
    },
    "papermill": {
     "duration": 2.40452,
     "end_time": "2021-05-18T11:54:37.055991",
     "exception": false,
     "start_time": "2021-05-18T11:54:34.651471",
     "status": "completed"
    },
    "tags": []
   },
   "outputs": [
    {
     "name": "stdout",
     "output_type": "stream",
     "text": [
      "Found GPU at: /device:GPU:0\n"
     ]
    }
   ],
   "source": [
    "import tensorflow as tf\n",
    "# Get the GPU device name.\n",
    "device_name = tf.test.gpu_device_name()\n",
    "# The device name should look like the following:\n",
    "if device_name == '/device:GPU:0':\n",
    "    print('Found GPU at: {}'.format(device_name))\n",
    "else:\n",
    "    raise SystemError('GPU device not found')"
   ]
  },
  {
   "cell_type": "markdown",
   "metadata": {
    "papermill": {
     "duration": 0.059628,
     "end_time": "2021-05-18T11:54:37.174802",
     "exception": false,
     "start_time": "2021-05-18T11:54:37.115174",
     "status": "completed"
    },
    "tags": []
   },
   "source": [
    "In order for torch to use the GPU, we need to identify and specify the GPU as the device. Later, in our training loop, we will load data onto the device"
   ]
  },
  {
   "cell_type": "code",
   "execution_count": 3,
   "metadata": {
    "execution": {
     "iopub.execute_input": "2021-05-18T11:54:37.301300Z",
     "iopub.status.busy": "2021-05-18T11:54:37.300620Z",
     "iopub.status.idle": "2021-05-18T11:54:38.657773Z",
     "shell.execute_reply": "2021-05-18T11:54:38.658177Z"
    },
    "papermill": {
     "duration": 1.422649,
     "end_time": "2021-05-18T11:54:38.658331",
     "exception": false,
     "start_time": "2021-05-18T11:54:37.235682",
     "status": "completed"
    },
    "tags": []
   },
   "outputs": [
    {
     "name": "stdout",
     "output_type": "stream",
     "text": [
      "There are 1 GPU(s) available.\n",
      "We will use the GPU: Tesla P100-PCIE-16GB\n"
     ]
    }
   ],
   "source": [
    "import torch\n",
    "# If there's a GPU available...\n",
    "if torch.cuda.is_available():    \n",
    "    # Tell PyTorch to use the GPU.    \n",
    "    device = torch.device(\"cuda\")\n",
    "    print('There are %d GPU(s) available.' % torch.cuda.device_count())\n",
    "    print('We will use the GPU:', torch.cuda.get_device_name(0))\n",
    "# If not...\n",
    "else:\n",
    "    print('No GPU available, using the CPU instead.')\n",
    "    device = torch.device(\"cpu\")"
   ]
  },
  {
   "cell_type": "markdown",
   "metadata": {
    "papermill": {
     "duration": 0.059213,
     "end_time": "2021-05-18T11:54:38.775242",
     "exception": false,
     "start_time": "2021-05-18T11:54:38.716029",
     "status": "completed"
    },
    "tags": []
   },
   "source": [
    "[link text](https://)Next, let’s install the transformers package from Hugging Face which will give us a pytorch interface for working with BERT. (This library contains interfaces for other pretrained language models like OpenAI’s GPT and GPT-2.) We’ve selected the pytorch interface because it strikes a nice balance between the high-level APIs (which are easy to use but don’t provide insight into how things work) and tensorflow code (which contains lots of details but often sidetracks us into lessons about tensorflow, when the purpose here is BERT!)."
   ]
  },
  {
   "cell_type": "code",
   "execution_count": 4,
   "metadata": {
    "execution": {
     "iopub.execute_input": "2021-05-18T11:54:38.899847Z",
     "iopub.status.busy": "2021-05-18T11:54:38.899072Z",
     "iopub.status.idle": "2021-05-18T11:54:47.157729Z",
     "shell.execute_reply": "2021-05-18T11:54:47.157166Z"
    },
    "papermill": {
     "duration": 8.323526,
     "end_time": "2021-05-18T11:54:47.157836",
     "exception": false,
     "start_time": "2021-05-18T11:54:38.834310",
     "status": "completed"
    },
    "tags": []
   },
   "outputs": [
    {
     "name": "stdout",
     "output_type": "stream",
     "text": [
      "Requirement already satisfied: transformers in /opt/conda/lib/python3.7/site-packages (3.5.1)\r\n",
      "Requirement already satisfied: requests in /opt/conda/lib/python3.7/site-packages (from transformers) (2.23.0)\r\n",
      "Requirement already satisfied: protobuf in /opt/conda/lib/python3.7/site-packages (from transformers) (3.14.0)\r\n",
      "Requirement already satisfied: numpy in /opt/conda/lib/python3.7/site-packages (from transformers) (1.18.5)\r\n",
      "Requirement already satisfied: packaging in /opt/conda/lib/python3.7/site-packages (from transformers) (20.1)\r\n",
      "Requirement already satisfied: sentencepiece==0.1.91 in /opt/conda/lib/python3.7/site-packages (from transformers) (0.1.91)\r\n",
      "Requirement already satisfied: tqdm>=4.27 in /opt/conda/lib/python3.7/site-packages (from transformers) (4.45.0)\r\n",
      "Requirement already satisfied: regex!=2019.12.17 in /opt/conda/lib/python3.7/site-packages (from transformers) (2020.4.4)\r\n",
      "Requirement already satisfied: tokenizers==0.9.3 in /opt/conda/lib/python3.7/site-packages (from transformers) (0.9.3)\r\n",
      "Requirement already satisfied: sacremoses in /opt/conda/lib/python3.7/site-packages (from transformers) (0.0.43)\r\n",
      "Requirement already satisfied: filelock in /opt/conda/lib/python3.7/site-packages (from transformers) (3.0.10)\r\n",
      "Requirement already satisfied: six in /opt/conda/lib/python3.7/site-packages (from packaging->transformers) (1.14.0)\r\n",
      "Requirement already satisfied: pyparsing>=2.0.2 in /opt/conda/lib/python3.7/site-packages (from packaging->transformers) (2.4.7)\r\n",
      "Requirement already satisfied: six in /opt/conda/lib/python3.7/site-packages (from packaging->transformers) (1.14.0)\r\n",
      "Requirement already satisfied: idna<3,>=2.5 in /opt/conda/lib/python3.7/site-packages (from requests->transformers) (2.9)\r\n",
      "Requirement already satisfied: chardet<4,>=3.0.2 in /opt/conda/lib/python3.7/site-packages (from requests->transformers) (3.0.4)\r\n",
      "Requirement already satisfied: urllib3!=1.25.0,!=1.25.1,<1.26,>=1.21.1 in /opt/conda/lib/python3.7/site-packages (from requests->transformers) (1.25.9)\r\n",
      "Requirement already satisfied: certifi>=2017.4.17 in /opt/conda/lib/python3.7/site-packages (from requests->transformers) (2020.12.5)\r\n",
      "Requirement already satisfied: regex!=2019.12.17 in /opt/conda/lib/python3.7/site-packages (from transformers) (2020.4.4)\r\n",
      "Requirement already satisfied: joblib in /opt/conda/lib/python3.7/site-packages (from sacremoses->transformers) (0.14.1)\r\n",
      "Requirement already satisfied: tqdm>=4.27 in /opt/conda/lib/python3.7/site-packages (from transformers) (4.45.0)\r\n",
      "Requirement already satisfied: six in /opt/conda/lib/python3.7/site-packages (from packaging->transformers) (1.14.0)\r\n",
      "Requirement already satisfied: click in /opt/conda/lib/python3.7/site-packages (from sacremoses->transformers) (7.1.1)\r\n",
      "\u001b[33mWARNING: You are using pip version 20.3.1; however, version 21.1.1 is available.\r\n",
      "You should consider upgrading via the '/opt/conda/bin/python3.7 -m pip install --upgrade pip' command.\u001b[0m\r\n"
     ]
    }
   ],
   "source": [
    "!pip install transformers"
   ]
  },
  {
   "cell_type": "markdown",
   "metadata": {
    "papermill": {
     "duration": 0.059293,
     "end_time": "2021-05-18T11:54:47.278002",
     "exception": false,
     "start_time": "2021-05-18T11:54:47.218709",
     "status": "completed"
    },
    "tags": []
   },
   "source": [
    "### Load in Data"
   ]
  },
  {
   "cell_type": "code",
   "execution_count": 5,
   "metadata": {
    "execution": {
     "iopub.execute_input": "2021-05-18T11:54:47.411440Z",
     "iopub.status.busy": "2021-05-18T11:54:47.410742Z",
     "iopub.status.idle": "2021-05-18T11:54:51.569286Z",
     "shell.execute_reply": "2021-05-18T11:54:51.568395Z"
    },
    "papermill": {
     "duration": 4.232385,
     "end_time": "2021-05-18T11:54:51.569435",
     "exception": false,
     "start_time": "2021-05-18T11:54:47.337050",
     "status": "completed"
    },
    "tags": []
   },
   "outputs": [],
   "source": [
    "#### Load in data from S3\n",
    "\n",
    "# Import Train and Measure Balance\n",
    "# Import Flattened Data\n",
    "df_train_f = pd.read_csv(\"/kaggle/input/nort-bert-datasets/df_train_full_cleaned_pe.csv\", error_bad_lines=False, low_memory=False, encoding='utf-8')\n",
    "\n",
    "# Import Test and Measure Balance\n",
    "\n",
    "df_test_f = pd.read_csv(\"/kaggle/input/nort-bert-datasets/df_test_full_cleaned_pe.csv\", error_bad_lines=False, low_memory=False, encoding='utf-8')\n",
    "\n",
    "# Import Validation and Measure Balance\n",
    "# Import Flattened Data\n",
    "df_valid_f = pd.read_csv(\"/kaggle/input/nort-bert-datasets/df_valid_full_cleaned_pe.csv\", error_bad_lines=False, low_memory=False, encoding='utf-8')\n"
   ]
  },
  {
   "cell_type": "code",
   "execution_count": 6,
   "metadata": {
    "execution": {
     "iopub.execute_input": "2021-05-18T11:54:51.725966Z",
     "iopub.status.busy": "2021-05-18T11:54:51.724992Z",
     "iopub.status.idle": "2021-05-18T11:54:51.740116Z",
     "shell.execute_reply": "2021-05-18T11:54:51.740605Z"
    },
    "papermill": {
     "duration": 0.109531,
     "end_time": "2021-05-18T11:54:51.740732",
     "exception": false,
     "start_time": "2021-05-18T11:54:51.631201",
     "status": "completed"
    },
    "tags": []
   },
   "outputs": [
    {
     "data": {
      "text/html": [
       "<div>\n",
       "<style scoped>\n",
       "    .dataframe tbody tr th:only-of-type {\n",
       "        vertical-align: middle;\n",
       "    }\n",
       "\n",
       "    .dataframe tbody tr th {\n",
       "        vertical-align: top;\n",
       "    }\n",
       "\n",
       "    .dataframe thead th {\n",
       "        text-align: right;\n",
       "    }\n",
       "</style>\n",
       "<table border=\"1\" class=\"dataframe\">\n",
       "  <thead>\n",
       "    <tr style=\"text-align: right;\">\n",
       "      <th></th>\n",
       "      <th>id</th>\n",
       "      <th>created_at</th>\n",
       "      <th>text</th>\n",
       "      <th>retweet_count</th>\n",
       "      <th>favorite_count</th>\n",
       "      <th>quoted_status_id</th>\n",
       "      <th>user.id</th>\n",
       "      <th>user.created_at</th>\n",
       "      <th>user.description</th>\n",
       "      <th>user.favourites_count</th>\n",
       "      <th>...</th>\n",
       "      <th>user.geo_enabled_False</th>\n",
       "      <th>user.geo_enabled_True</th>\n",
       "      <th>user.verified_False</th>\n",
       "      <th>user.has_extended_profile_False</th>\n",
       "      <th>user.has_extended_profile_True</th>\n",
       "      <th>user.protected_False</th>\n",
       "      <th>user.verified_False.1</th>\n",
       "      <th>user.default_profile_True</th>\n",
       "      <th>is_quote_status_False</th>\n",
       "      <th>is_quote_status_True</th>\n",
       "    </tr>\n",
       "  </thead>\n",
       "  <tbody>\n",
       "    <tr>\n",
       "      <th>0</th>\n",
       "      <td>'1.2781248368924918e+18'</td>\n",
       "      <td>1.593564e+09</td>\n",
       "      <td>今天第一次上推特，看看世界</td>\n",
       "      <td>0.0</td>\n",
       "      <td>1.0</td>\n",
       "      <td>0</td>\n",
       "      <td>1.278122e+18</td>\n",
       "      <td>1.593563e+09</td>\n",
       "      <td>关心政治</td>\n",
       "      <td>0.0</td>\n",
       "      <td>...</td>\n",
       "      <td>1</td>\n",
       "      <td>0</td>\n",
       "      <td>1</td>\n",
       "      <td>0</td>\n",
       "      <td>1</td>\n",
       "      <td>1</td>\n",
       "      <td>1</td>\n",
       "      <td>1</td>\n",
       "      <td>1</td>\n",
       "      <td>0</td>\n",
       "    </tr>\n",
       "    <tr>\n",
       "      <th>1</th>\n",
       "      <td>'1.2797572269916938e+18'</td>\n",
       "      <td>1.593953e+09</td>\n",
       "      <td>@ttingxiao 胡说八道</td>\n",
       "      <td>0.0</td>\n",
       "      <td>0.0</td>\n",
       "      <td>0</td>\n",
       "      <td>1.278122e+18</td>\n",
       "      <td>1.593563e+09</td>\n",
       "      <td>关心政治</td>\n",
       "      <td>0.0</td>\n",
       "      <td>...</td>\n",
       "      <td>1</td>\n",
       "      <td>0</td>\n",
       "      <td>1</td>\n",
       "      <td>0</td>\n",
       "      <td>1</td>\n",
       "      <td>1</td>\n",
       "      <td>1</td>\n",
       "      <td>1</td>\n",
       "      <td>1</td>\n",
       "      <td>0</td>\n",
       "    </tr>\n",
       "    <tr>\n",
       "      <th>2</th>\n",
       "      <td>'1.2818699475099935e+18'</td>\n",
       "      <td>1.594457e+09</td>\n",
       "      <td>@VijayShankarKu1 @zlj517 Are you describing In...</td>\n",
       "      <td>0.0</td>\n",
       "      <td>0.0</td>\n",
       "      <td>0</td>\n",
       "      <td>1.278129e+18</td>\n",
       "      <td>1.593565e+09</td>\n",
       "      <td>中华人民共和国战略忽悠局北美司情资一处国家二级忽悠师</td>\n",
       "      <td>41.0</td>\n",
       "      <td>...</td>\n",
       "      <td>1</td>\n",
       "      <td>0</td>\n",
       "      <td>1</td>\n",
       "      <td>0</td>\n",
       "      <td>1</td>\n",
       "      <td>1</td>\n",
       "      <td>1</td>\n",
       "      <td>1</td>\n",
       "      <td>1</td>\n",
       "      <td>0</td>\n",
       "    </tr>\n",
       "    <tr>\n",
       "      <th>3</th>\n",
       "      <td>'1.2803084709364818e+18'</td>\n",
       "      <td>1.594084e+09</td>\n",
       "      <td>@auighur @realDonaldTrump just like Trump,with...</td>\n",
       "      <td>0.0</td>\n",
       "      <td>0.0</td>\n",
       "      <td>0</td>\n",
       "      <td>1.278129e+18</td>\n",
       "      <td>1.593565e+09</td>\n",
       "      <td>中华人民共和国战略忽悠局北美司情资一处国家二级忽悠师</td>\n",
       "      <td>41.0</td>\n",
       "      <td>...</td>\n",
       "      <td>1</td>\n",
       "      <td>0</td>\n",
       "      <td>1</td>\n",
       "      <td>0</td>\n",
       "      <td>1</td>\n",
       "      <td>1</td>\n",
       "      <td>1</td>\n",
       "      <td>1</td>\n",
       "      <td>1</td>\n",
       "      <td>0</td>\n",
       "    </tr>\n",
       "    <tr>\n",
       "      <th>4</th>\n",
       "      <td>'1.2818669493543813e+18'</td>\n",
       "      <td>1.594456e+09</td>\n",
       "      <td>@USA_China_Talk 不依法治国，难道还以推治国？美国鼓吹的宪法精神又到哪了？</td>\n",
       "      <td>0.0</td>\n",
       "      <td>0.0</td>\n",
       "      <td>0</td>\n",
       "      <td>1.278129e+18</td>\n",
       "      <td>1.593565e+09</td>\n",
       "      <td>中华人民共和国战略忽悠局北美司情资一处国家二级忽悠师</td>\n",
       "      <td>41.0</td>\n",
       "      <td>...</td>\n",
       "      <td>1</td>\n",
       "      <td>0</td>\n",
       "      <td>1</td>\n",
       "      <td>0</td>\n",
       "      <td>1</td>\n",
       "      <td>1</td>\n",
       "      <td>1</td>\n",
       "      <td>1</td>\n",
       "      <td>1</td>\n",
       "      <td>0</td>\n",
       "    </tr>\n",
       "    <tr>\n",
       "      <th>5</th>\n",
       "      <td>'1.2811047401018737e+18'</td>\n",
       "      <td>1.594274e+09</td>\n",
       "      <td>@grass9fish @SUMANsaurabh07 +1</td>\n",
       "      <td>0.0</td>\n",
       "      <td>0.0</td>\n",
       "      <td>0</td>\n",
       "      <td>1.278129e+18</td>\n",
       "      <td>1.593565e+09</td>\n",
       "      <td>中华人民共和国战略忽悠局北美司情资一处国家二级忽悠师</td>\n",
       "      <td>41.0</td>\n",
       "      <td>...</td>\n",
       "      <td>1</td>\n",
       "      <td>0</td>\n",
       "      <td>1</td>\n",
       "      <td>0</td>\n",
       "      <td>1</td>\n",
       "      <td>1</td>\n",
       "      <td>1</td>\n",
       "      <td>1</td>\n",
       "      <td>1</td>\n",
       "      <td>0</td>\n",
       "    </tr>\n",
       "  </tbody>\n",
       "</table>\n",
       "<p>6 rows × 160 columns</p>\n",
       "</div>"
      ],
      "text/plain": [
       "                         id    created_at  \\\n",
       "0  '1.2781248368924918e+18'  1.593564e+09   \n",
       "1  '1.2797572269916938e+18'  1.593953e+09   \n",
       "2  '1.2818699475099935e+18'  1.594457e+09   \n",
       "3  '1.2803084709364818e+18'  1.594084e+09   \n",
       "4  '1.2818669493543813e+18'  1.594456e+09   \n",
       "5  '1.2811047401018737e+18'  1.594274e+09   \n",
       "\n",
       "                                                text  retweet_count  \\\n",
       "0                                      今天第一次上推特，看看世界            0.0   \n",
       "1                                    @ttingxiao 胡说八道            0.0   \n",
       "2  @VijayShankarKu1 @zlj517 Are you describing In...            0.0   \n",
       "3  @auighur @realDonaldTrump just like Trump,with...            0.0   \n",
       "4       @USA_China_Talk 不依法治国，难道还以推治国？美国鼓吹的宪法精神又到哪了？            0.0   \n",
       "5                     @grass9fish @SUMANsaurabh07 +1            0.0   \n",
       "\n",
       "   favorite_count  quoted_status_id       user.id  user.created_at  \\\n",
       "0             1.0                 0  1.278122e+18     1.593563e+09   \n",
       "1             0.0                 0  1.278122e+18     1.593563e+09   \n",
       "2             0.0                 0  1.278129e+18     1.593565e+09   \n",
       "3             0.0                 0  1.278129e+18     1.593565e+09   \n",
       "4             0.0                 0  1.278129e+18     1.593565e+09   \n",
       "5             0.0                 0  1.278129e+18     1.593565e+09   \n",
       "\n",
       "             user.description  user.favourites_count  ...  \\\n",
       "0                        关心政治                    0.0  ...   \n",
       "1                        关心政治                    0.0  ...   \n",
       "2  中华人民共和国战略忽悠局北美司情资一处国家二级忽悠师                   41.0  ...   \n",
       "3  中华人民共和国战略忽悠局北美司情资一处国家二级忽悠师                   41.0  ...   \n",
       "4  中华人民共和国战略忽悠局北美司情资一处国家二级忽悠师                   41.0  ...   \n",
       "5  中华人民共和国战略忽悠局北美司情资一处国家二级忽悠师                   41.0  ...   \n",
       "\n",
       "   user.geo_enabled_False  user.geo_enabled_True  user.verified_False  \\\n",
       "0                       1                      0                    1   \n",
       "1                       1                      0                    1   \n",
       "2                       1                      0                    1   \n",
       "3                       1                      0                    1   \n",
       "4                       1                      0                    1   \n",
       "5                       1                      0                    1   \n",
       "\n",
       "  user.has_extended_profile_False user.has_extended_profile_True  \\\n",
       "0                               0                              1   \n",
       "1                               0                              1   \n",
       "2                               0                              1   \n",
       "3                               0                              1   \n",
       "4                               0                              1   \n",
       "5                               0                              1   \n",
       "\n",
       "  user.protected_False  user.verified_False.1  user.default_profile_True  \\\n",
       "0                    1                      1                          1   \n",
       "1                    1                      1                          1   \n",
       "2                    1                      1                          1   \n",
       "3                    1                      1                          1   \n",
       "4                    1                      1                          1   \n",
       "5                    1                      1                          1   \n",
       "\n",
       "   is_quote_status_False  is_quote_status_True  \n",
       "0                      1                     0  \n",
       "1                      1                     0  \n",
       "2                      1                     0  \n",
       "3                      1                     0  \n",
       "4                      1                     0  \n",
       "5                      1                     0  \n",
       "\n",
       "[6 rows x 160 columns]"
      ]
     },
     "execution_count": 6,
     "metadata": {},
     "output_type": "execute_result"
    }
   ],
   "source": [
    "df_train_f.head(6)"
   ]
  },
  {
   "cell_type": "code",
   "execution_count": 7,
   "metadata": {
    "execution": {
     "iopub.execute_input": "2021-05-18T11:54:51.871439Z",
     "iopub.status.busy": "2021-05-18T11:54:51.870857Z",
     "iopub.status.idle": "2021-05-18T11:54:51.988304Z",
     "shell.execute_reply": "2021-05-18T11:54:51.987452Z"
    },
    "papermill": {
     "duration": 0.185334,
     "end_time": "2021-05-18T11:54:51.988433",
     "exception": false,
     "start_time": "2021-05-18T11:54:51.803099",
     "status": "completed"
    },
    "tags": []
   },
   "outputs": [],
   "source": [
    "df_train_f['id'] = df_train_f['id'].apply(lambda x: x.replace(\"'\", ''))\n",
    "df_train_f['id'] = df_train_f['id'].astype('float')\n",
    "df_valid_f['id'] = df_valid_f['id'].apply(lambda x: x.replace(\"'\", ''))\n",
    "df_valid_f['id'] = df_valid_f['id'].astype('float')\n",
    "df_test_f['id'] = df_test_f['id'].apply(lambda x: x.replace(\"'\", ''))\n",
    "df_test_f['id'] = df_test_f['id'].astype('float')"
   ]
  },
  {
   "cell_type": "code",
   "execution_count": 8,
   "metadata": {
    "execution": {
     "iopub.execute_input": "2021-05-18T11:54:52.127257Z",
     "iopub.status.busy": "2021-05-18T11:54:52.126697Z",
     "iopub.status.idle": "2021-05-18T11:54:52.139578Z",
     "shell.execute_reply": "2021-05-18T11:54:52.138447Z"
    },
    "papermill": {
     "duration": 0.085577,
     "end_time": "2021-05-18T11:54:52.139704",
     "exception": false,
     "start_time": "2021-05-18T11:54:52.054127",
     "status": "completed"
    },
    "tags": []
   },
   "outputs": [
    {
     "name": "stdout",
     "output_type": "stream",
     "text": [
      "full train: 81286 unique ids train: 81286 full valid: 27835 unique ids valid: 27835 full test: 20518 unique ids test: 20518\n"
     ]
    }
   ],
   "source": [
    "print(\"full train:\", len(df_train_f), \"unique ids train:\", len(df_train_f['id'].unique()), \n",
    "      \"full valid:\", len(df_valid_f), \"unique ids valid:\", len(df_valid_f['id'].unique()), \n",
    "      \"full test:\", len(df_test_f), \"unique ids test:\", len(df_test_f['id'].unique()))\n",
    "\n",
    "#print(\"Train:\", len(sentences_train), \"Valid:\", len(sentences_valid), \"Test\", len(sentences_test))"
   ]
  },
  {
   "cell_type": "code",
   "execution_count": 9,
   "metadata": {
    "execution": {
     "iopub.execute_input": "2021-05-18T11:54:52.272610Z",
     "iopub.status.busy": "2021-05-18T11:54:52.270980Z",
     "iopub.status.idle": "2021-05-18T11:54:52.335428Z",
     "shell.execute_reply": "2021-05-18T11:54:52.334940Z"
    },
    "papermill": {
     "duration": 0.133607,
     "end_time": "2021-05-18T11:54:52.335546",
     "exception": false,
     "start_time": "2021-05-18T11:54:52.201939",
     "status": "completed"
    },
    "tags": []
   },
   "outputs": [],
   "source": [
    "df_train = df_train_f.drop(['user.description', \"user.location\", \"user.name\", \"user.screen_name\", \"split\"], axis=1)\n",
    "df_valid = df_valid_f.drop(['user.description', \"user.location\", \"user.name\", \"user.screen_name\", \"split\"], axis=1)\n",
    "df_test = df_test_f.drop(['user.description', \"user.location\", \"user.name\", \"user.screen_name\", \"split\"], axis=1)"
   ]
  },
  {
   "cell_type": "code",
   "execution_count": 10,
   "metadata": {
    "execution": {
     "iopub.execute_input": "2021-05-18T11:54:52.462136Z",
     "iopub.status.busy": "2021-05-18T11:54:52.461553Z",
     "iopub.status.idle": "2021-05-18T11:54:52.465625Z",
     "shell.execute_reply": "2021-05-18T11:54:52.465189Z"
    },
    "papermill": {
     "duration": 0.068918,
     "end_time": "2021-05-18T11:54:52.465718",
     "exception": false,
     "start_time": "2021-05-18T11:54:52.396800",
     "status": "completed"
    },
    "tags": []
   },
   "outputs": [],
   "source": [
    "# FOR TESING OUT CODE PURPOSE ONLY. REMOVE ONCE ALL IS WORKING. \n",
    "#df_train = df_train[:2000]\n",
    "#df_valid = df_valid[:2000]\n",
    "#df_test = df_test[:2000]\n"
   ]
  },
  {
   "cell_type": "code",
   "execution_count": 11,
   "metadata": {
    "execution": {
     "iopub.execute_input": "2021-05-18T11:54:52.610783Z",
     "iopub.status.busy": "2021-05-18T11:54:52.609334Z",
     "iopub.status.idle": "2021-05-18T11:54:52.613840Z",
     "shell.execute_reply": "2021-05-18T11:54:52.614242Z"
    },
    "papermill": {
     "duration": 0.086904,
     "end_time": "2021-05-18T11:54:52.614368",
     "exception": false,
     "start_time": "2021-05-18T11:54:52.527464",
     "status": "completed"
    },
    "tags": []
   },
   "outputs": [
    {
     "data": {
      "text/html": [
       "<div>\n",
       "<style scoped>\n",
       "    .dataframe tbody tr th:only-of-type {\n",
       "        vertical-align: middle;\n",
       "    }\n",
       "\n",
       "    .dataframe tbody tr th {\n",
       "        vertical-align: top;\n",
       "    }\n",
       "\n",
       "    .dataframe thead th {\n",
       "        text-align: right;\n",
       "    }\n",
       "</style>\n",
       "<table border=\"1\" class=\"dataframe\">\n",
       "  <thead>\n",
       "    <tr style=\"text-align: right;\">\n",
       "      <th></th>\n",
       "      <th>id</th>\n",
       "      <th>created_at</th>\n",
       "      <th>text</th>\n",
       "      <th>retweet_count</th>\n",
       "      <th>favorite_count</th>\n",
       "      <th>quoted_status_id</th>\n",
       "      <th>user.id</th>\n",
       "      <th>user.created_at</th>\n",
       "      <th>user.favourites_count</th>\n",
       "      <th>user.followers_count</th>\n",
       "      <th>...</th>\n",
       "      <th>user.geo_enabled_False</th>\n",
       "      <th>user.geo_enabled_True</th>\n",
       "      <th>user.verified_False</th>\n",
       "      <th>user.has_extended_profile_False</th>\n",
       "      <th>user.has_extended_profile_True</th>\n",
       "      <th>user.protected_False</th>\n",
       "      <th>user.verified_False.1</th>\n",
       "      <th>user.default_profile_True</th>\n",
       "      <th>is_quote_status_False</th>\n",
       "      <th>is_quote_status_True</th>\n",
       "    </tr>\n",
       "  </thead>\n",
       "  <tbody>\n",
       "    <tr>\n",
       "      <th>0</th>\n",
       "      <td>1.278125e+18</td>\n",
       "      <td>1.593564e+09</td>\n",
       "      <td>今天第一次上推特，看看世界</td>\n",
       "      <td>0.0</td>\n",
       "      <td>1.0</td>\n",
       "      <td>0</td>\n",
       "      <td>1.278122e+18</td>\n",
       "      <td>1.593563e+09</td>\n",
       "      <td>0.0</td>\n",
       "      <td>6.0</td>\n",
       "      <td>...</td>\n",
       "      <td>1</td>\n",
       "      <td>0</td>\n",
       "      <td>1</td>\n",
       "      <td>0</td>\n",
       "      <td>1</td>\n",
       "      <td>1</td>\n",
       "      <td>1</td>\n",
       "      <td>1</td>\n",
       "      <td>1</td>\n",
       "      <td>0</td>\n",
       "    </tr>\n",
       "    <tr>\n",
       "      <th>1</th>\n",
       "      <td>1.279757e+18</td>\n",
       "      <td>1.593953e+09</td>\n",
       "      <td>@ttingxiao 胡说八道</td>\n",
       "      <td>0.0</td>\n",
       "      <td>0.0</td>\n",
       "      <td>0</td>\n",
       "      <td>1.278122e+18</td>\n",
       "      <td>1.593563e+09</td>\n",
       "      <td>0.0</td>\n",
       "      <td>2.0</td>\n",
       "      <td>...</td>\n",
       "      <td>1</td>\n",
       "      <td>0</td>\n",
       "      <td>1</td>\n",
       "      <td>0</td>\n",
       "      <td>1</td>\n",
       "      <td>1</td>\n",
       "      <td>1</td>\n",
       "      <td>1</td>\n",
       "      <td>1</td>\n",
       "      <td>0</td>\n",
       "    </tr>\n",
       "    <tr>\n",
       "      <th>2</th>\n",
       "      <td>1.281870e+18</td>\n",
       "      <td>1.594457e+09</td>\n",
       "      <td>@VijayShankarKu1 @zlj517 Are you describing In...</td>\n",
       "      <td>0.0</td>\n",
       "      <td>0.0</td>\n",
       "      <td>0</td>\n",
       "      <td>1.278129e+18</td>\n",
       "      <td>1.593565e+09</td>\n",
       "      <td>41.0</td>\n",
       "      <td>1.0</td>\n",
       "      <td>...</td>\n",
       "      <td>1</td>\n",
       "      <td>0</td>\n",
       "      <td>1</td>\n",
       "      <td>0</td>\n",
       "      <td>1</td>\n",
       "      <td>1</td>\n",
       "      <td>1</td>\n",
       "      <td>1</td>\n",
       "      <td>1</td>\n",
       "      <td>0</td>\n",
       "    </tr>\n",
       "    <tr>\n",
       "      <th>3</th>\n",
       "      <td>1.280308e+18</td>\n",
       "      <td>1.594084e+09</td>\n",
       "      <td>@auighur @realDonaldTrump just like Trump,with...</td>\n",
       "      <td>0.0</td>\n",
       "      <td>0.0</td>\n",
       "      <td>0</td>\n",
       "      <td>1.278129e+18</td>\n",
       "      <td>1.593565e+09</td>\n",
       "      <td>41.0</td>\n",
       "      <td>1.0</td>\n",
       "      <td>...</td>\n",
       "      <td>1</td>\n",
       "      <td>0</td>\n",
       "      <td>1</td>\n",
       "      <td>0</td>\n",
       "      <td>1</td>\n",
       "      <td>1</td>\n",
       "      <td>1</td>\n",
       "      <td>1</td>\n",
       "      <td>1</td>\n",
       "      <td>0</td>\n",
       "    </tr>\n",
       "    <tr>\n",
       "      <th>4</th>\n",
       "      <td>1.281867e+18</td>\n",
       "      <td>1.594456e+09</td>\n",
       "      <td>@USA_China_Talk 不依法治国，难道还以推治国？美国鼓吹的宪法精神又到哪了？</td>\n",
       "      <td>0.0</td>\n",
       "      <td>0.0</td>\n",
       "      <td>0</td>\n",
       "      <td>1.278129e+18</td>\n",
       "      <td>1.593565e+09</td>\n",
       "      <td>41.0</td>\n",
       "      <td>1.0</td>\n",
       "      <td>...</td>\n",
       "      <td>1</td>\n",
       "      <td>0</td>\n",
       "      <td>1</td>\n",
       "      <td>0</td>\n",
       "      <td>1</td>\n",
       "      <td>1</td>\n",
       "      <td>1</td>\n",
       "      <td>1</td>\n",
       "      <td>1</td>\n",
       "      <td>0</td>\n",
       "    </tr>\n",
       "  </tbody>\n",
       "</table>\n",
       "<p>5 rows × 155 columns</p>\n",
       "</div>"
      ],
      "text/plain": [
       "             id    created_at  \\\n",
       "0  1.278125e+18  1.593564e+09   \n",
       "1  1.279757e+18  1.593953e+09   \n",
       "2  1.281870e+18  1.594457e+09   \n",
       "3  1.280308e+18  1.594084e+09   \n",
       "4  1.281867e+18  1.594456e+09   \n",
       "\n",
       "                                                text  retweet_count  \\\n",
       "0                                      今天第一次上推特，看看世界            0.0   \n",
       "1                                    @ttingxiao 胡说八道            0.0   \n",
       "2  @VijayShankarKu1 @zlj517 Are you describing In...            0.0   \n",
       "3  @auighur @realDonaldTrump just like Trump,with...            0.0   \n",
       "4       @USA_China_Talk 不依法治国，难道还以推治国？美国鼓吹的宪法精神又到哪了？            0.0   \n",
       "\n",
       "   favorite_count  quoted_status_id       user.id  user.created_at  \\\n",
       "0             1.0                 0  1.278122e+18     1.593563e+09   \n",
       "1             0.0                 0  1.278122e+18     1.593563e+09   \n",
       "2             0.0                 0  1.278129e+18     1.593565e+09   \n",
       "3             0.0                 0  1.278129e+18     1.593565e+09   \n",
       "4             0.0                 0  1.278129e+18     1.593565e+09   \n",
       "\n",
       "   user.favourites_count  user.followers_count  ...  user.geo_enabled_False  \\\n",
       "0                    0.0                   6.0  ...                       1   \n",
       "1                    0.0                   2.0  ...                       1   \n",
       "2                   41.0                   1.0  ...                       1   \n",
       "3                   41.0                   1.0  ...                       1   \n",
       "4                   41.0                   1.0  ...                       1   \n",
       "\n",
       "   user.geo_enabled_True  user.verified_False  \\\n",
       "0                      0                    1   \n",
       "1                      0                    1   \n",
       "2                      0                    1   \n",
       "3                      0                    1   \n",
       "4                      0                    1   \n",
       "\n",
       "   user.has_extended_profile_False  user.has_extended_profile_True  \\\n",
       "0                                0                               1   \n",
       "1                                0                               1   \n",
       "2                                0                               1   \n",
       "3                                0                               1   \n",
       "4                                0                               1   \n",
       "\n",
       "   user.protected_False  user.verified_False.1  user.default_profile_True  \\\n",
       "0                     1                      1                          1   \n",
       "1                     1                      1                          1   \n",
       "2                     1                      1                          1   \n",
       "3                     1                      1                          1   \n",
       "4                     1                      1                          1   \n",
       "\n",
       "   is_quote_status_False  is_quote_status_True  \n",
       "0                      1                     0  \n",
       "1                      1                     0  \n",
       "2                      1                     0  \n",
       "3                      1                     0  \n",
       "4                      1                     0  \n",
       "\n",
       "[5 rows x 155 columns]"
      ]
     },
     "execution_count": 11,
     "metadata": {},
     "output_type": "execute_result"
    }
   ],
   "source": [
    "df_train.head()"
   ]
  },
  {
   "cell_type": "markdown",
   "metadata": {
    "papermill": {
     "duration": 0.06465,
     "end_time": "2021-05-18T11:54:52.741731",
     "exception": false,
     "start_time": "2021-05-18T11:54:52.677081",
     "status": "completed"
    },
    "tags": []
   },
   "source": [
    "Concatanate all texts to get one doc j per each user i"
   ]
  },
  {
   "cell_type": "code",
   "execution_count": 12,
   "metadata": {
    "execution": {
     "iopub.execute_input": "2021-05-18T11:54:52.871628Z",
     "iopub.status.busy": "2021-05-18T11:54:52.870774Z",
     "iopub.status.idle": "2021-05-18T11:54:53.016233Z",
     "shell.execute_reply": "2021-05-18T11:54:53.015237Z"
    },
    "papermill": {
     "duration": 0.212983,
     "end_time": "2021-05-18T11:54:53.016362",
     "exception": false,
     "start_time": "2021-05-18T11:54:52.803379",
     "status": "completed"
    },
    "tags": []
   },
   "outputs": [
    {
     "data": {
      "text/html": [
       "<div>\n",
       "<style scoped>\n",
       "    .dataframe tbody tr th:only-of-type {\n",
       "        vertical-align: middle;\n",
       "    }\n",
       "\n",
       "    .dataframe tbody tr th {\n",
       "        vertical-align: top;\n",
       "    }\n",
       "\n",
       "    .dataframe thead th {\n",
       "        text-align: right;\n",
       "    }\n",
       "</style>\n",
       "<table border=\"1\" class=\"dataframe\">\n",
       "  <thead>\n",
       "    <tr style=\"text-align: right;\">\n",
       "      <th></th>\n",
       "      <th>user.id</th>\n",
       "      <th>suspended</th>\n",
       "      <th>text</th>\n",
       "    </tr>\n",
       "  </thead>\n",
       "  <tbody>\n",
       "    <tr>\n",
       "      <th>0</th>\n",
       "      <td>1.278122e+18</td>\n",
       "      <td>0</td>\n",
       "      <td>今天第一次上推特，看看世界 @ttingxiao 胡说八道</td>\n",
       "    </tr>\n",
       "    <tr>\n",
       "      <th>1</th>\n",
       "      <td>1.278129e+18</td>\n",
       "      <td>0</td>\n",
       "      <td>@VijayShankarKu1 @zlj517 Are you describing In...</td>\n",
       "    </tr>\n",
       "    <tr>\n",
       "      <th>2</th>\n",
       "      <td>1.278132e+18</td>\n",
       "      <td>0</td>\n",
       "      <td>https://t.co/x6PEeWW48S #3qex https://t.co/eez...</td>\n",
       "    </tr>\n",
       "    <tr>\n",
       "      <th>3</th>\n",
       "      <td>1.278138e+18</td>\n",
       "      <td>0</td>\n",
       "      <td>@getput @zhanglifan 为什么西方所谓的双标的平等，自由就是对的？这就是典型...</td>\n",
       "    </tr>\n",
       "    <tr>\n",
       "      <th>4</th>\n",
       "      <td>1.278150e+18</td>\n",
       "      <td>1</td>\n",
       "      <td>WaxPar DC18RC 互換充電器 対応 マキタ 14.4V 18V リチウムイオンバッ...</td>\n",
       "    </tr>\n",
       "  </tbody>\n",
       "</table>\n",
       "</div>"
      ],
      "text/plain": [
       "        user.id  suspended                                               text\n",
       "0  1.278122e+18          0                      今天第一次上推特，看看世界 @ttingxiao 胡说八道\n",
       "1  1.278129e+18          0  @VijayShankarKu1 @zlj517 Are you describing In...\n",
       "2  1.278132e+18          0  https://t.co/x6PEeWW48S #3qex https://t.co/eez...\n",
       "3  1.278138e+18          0  @getput @zhanglifan 为什么西方所谓的双标的平等，自由就是对的？这就是典型...\n",
       "4  1.278150e+18          1  WaxPar DC18RC 互換充電器 対応 マキタ 14.4V 18V リチウムイオンバッ..."
      ]
     },
     "execution_count": 12,
     "metadata": {},
     "output_type": "execute_result"
    }
   ],
   "source": [
    "df_train = df_train.groupby(['user.id', 'suspended'])['text'].apply(lambda x: ' '.join(x)).reset_index()\n",
    "df_train.head()"
   ]
  },
  {
   "cell_type": "code",
   "execution_count": 13,
   "metadata": {
    "execution": {
     "iopub.execute_input": "2021-05-18T11:54:53.151835Z",
     "iopub.status.busy": "2021-05-18T11:54:53.150707Z",
     "iopub.status.idle": "2021-05-18T11:54:53.203984Z",
     "shell.execute_reply": "2021-05-18T11:54:53.204411Z"
    },
    "papermill": {
     "duration": 0.123724,
     "end_time": "2021-05-18T11:54:53.204539",
     "exception": false,
     "start_time": "2021-05-18T11:54:53.080815",
     "status": "completed"
    },
    "tags": []
   },
   "outputs": [
    {
     "data": {
      "text/html": [
       "<div>\n",
       "<style scoped>\n",
       "    .dataframe tbody tr th:only-of-type {\n",
       "        vertical-align: middle;\n",
       "    }\n",
       "\n",
       "    .dataframe tbody tr th {\n",
       "        vertical-align: top;\n",
       "    }\n",
       "\n",
       "    .dataframe thead th {\n",
       "        text-align: right;\n",
       "    }\n",
       "</style>\n",
       "<table border=\"1\" class=\"dataframe\">\n",
       "  <thead>\n",
       "    <tr style=\"text-align: right;\">\n",
       "      <th></th>\n",
       "      <th>user.id</th>\n",
       "      <th>suspended</th>\n",
       "      <th>text</th>\n",
       "    </tr>\n",
       "  </thead>\n",
       "  <tbody>\n",
       "    <tr>\n",
       "      <th>0</th>\n",
       "      <td>1.278120e+18</td>\n",
       "      <td>1</td>\n",
       "      <td>@RFS_China 窝扪终锅震的是胎🍐害🌶 @SunZiyang2002 @kairun_...</td>\n",
       "    </tr>\n",
       "    <tr>\n",
       "      <th>1</th>\n",
       "      <td>1.278131e+18</td>\n",
       "      <td>0</td>\n",
       "      <td>@mian050715 @91porm 🤓</td>\n",
       "    </tr>\n",
       "    <tr>\n",
       "      <th>2</th>\n",
       "      <td>1.278136e+18</td>\n",
       "      <td>0</td>\n",
       "      <td>https://t.co/2tSmlYkG4v</td>\n",
       "    </tr>\n",
       "    <tr>\n",
       "      <th>3</th>\n",
       "      <td>1.278143e+18</td>\n",
       "      <td>0</td>\n",
       "      <td>@Kana_Momonogi I can't wait to Japan to have a...</td>\n",
       "    </tr>\n",
       "    <tr>\n",
       "      <th>4</th>\n",
       "      <td>1.278154e+18</td>\n",
       "      <td>0</td>\n",
       "      <td>@SpokespersonCHN 華姐辛苦了！明天國慶🇨🇳放假好好休息吧 @HuXijin_...</td>\n",
       "    </tr>\n",
       "  </tbody>\n",
       "</table>\n",
       "</div>"
      ],
      "text/plain": [
       "        user.id  suspended                                               text\n",
       "0  1.278120e+18          1  @RFS_China 窝扪终锅震的是胎🍐害🌶 @SunZiyang2002 @kairun_...\n",
       "1  1.278131e+18          0                              @mian050715 @91porm 🤓\n",
       "2  1.278136e+18          0                            https://t.co/2tSmlYkG4v\n",
       "3  1.278143e+18          0  @Kana_Momonogi I can't wait to Japan to have a...\n",
       "4  1.278154e+18          0  @SpokespersonCHN 華姐辛苦了！明天國慶🇨🇳放假好好休息吧 @HuXijin_..."
      ]
     },
     "execution_count": 13,
     "metadata": {},
     "output_type": "execute_result"
    }
   ],
   "source": [
    "df_valid = df_valid.groupby(['user.id', 'suspended'])['text'].apply(lambda x: ' '.join(x)).reset_index()\n",
    "df_valid.head()"
   ]
  },
  {
   "cell_type": "code",
   "execution_count": 14,
   "metadata": {
    "execution": {
     "iopub.execute_input": "2021-05-18T11:54:53.347890Z",
     "iopub.status.busy": "2021-05-18T11:54:53.346801Z",
     "iopub.status.idle": "2021-05-18T11:54:53.394721Z",
     "shell.execute_reply": "2021-05-18T11:54:53.394227Z"
    },
    "papermill": {
     "duration": 0.122514,
     "end_time": "2021-05-18T11:54:53.394821",
     "exception": false,
     "start_time": "2021-05-18T11:54:53.272307",
     "status": "completed"
    },
    "tags": []
   },
   "outputs": [
    {
     "data": {
      "text/html": [
       "<div>\n",
       "<style scoped>\n",
       "    .dataframe tbody tr th:only-of-type {\n",
       "        vertical-align: middle;\n",
       "    }\n",
       "\n",
       "    .dataframe tbody tr th {\n",
       "        vertical-align: top;\n",
       "    }\n",
       "\n",
       "    .dataframe thead th {\n",
       "        text-align: right;\n",
       "    }\n",
       "</style>\n",
       "<table border=\"1\" class=\"dataframe\">\n",
       "  <thead>\n",
       "    <tr style=\"text-align: right;\">\n",
       "      <th></th>\n",
       "      <th>user.id</th>\n",
       "      <th>suspended</th>\n",
       "      <th>text</th>\n",
       "    </tr>\n",
       "  </thead>\n",
       "  <tbody>\n",
       "    <tr>\n",
       "      <th>0</th>\n",
       "      <td>1.278130e+18</td>\n",
       "      <td>0</td>\n",
       "      <td>@ImranKhanPTI me mazor adme ho</td>\n",
       "    </tr>\n",
       "    <tr>\n",
       "      <th>1</th>\n",
       "      <td>1.278145e+18</td>\n",
       "      <td>1</td>\n",
       "      <td>join amazon</td>\n",
       "    </tr>\n",
       "    <tr>\n",
       "      <th>2</th>\n",
       "      <td>1.278155e+18</td>\n",
       "      <td>0</td>\n",
       "      <td>@joshuawongcf jail is well prepared for you @c...</td>\n",
       "    </tr>\n",
       "    <tr>\n",
       "      <th>3</th>\n",
       "      <td>1.278156e+18</td>\n",
       "      <td>0</td>\n",
       "      <td>#SindhIsNotColonyIK Our message is clear that ...</td>\n",
       "    </tr>\n",
       "    <tr>\n",
       "      <th>4</th>\n",
       "      <td>1.278181e+18</td>\n",
       "      <td>0</td>\n",
       "      <td>Sentences have power.</td>\n",
       "    </tr>\n",
       "  </tbody>\n",
       "</table>\n",
       "</div>"
      ],
      "text/plain": [
       "        user.id  suspended                                               text\n",
       "0  1.278130e+18          0                     @ImranKhanPTI me mazor adme ho\n",
       "1  1.278145e+18          1                                        join amazon\n",
       "2  1.278155e+18          0  @joshuawongcf jail is well prepared for you @c...\n",
       "3  1.278156e+18          0  #SindhIsNotColonyIK Our message is clear that ...\n",
       "4  1.278181e+18          0                              Sentences have power."
      ]
     },
     "execution_count": 14,
     "metadata": {},
     "output_type": "execute_result"
    }
   ],
   "source": [
    "df_test = df_test.groupby(['user.id', 'suspended'])['text'].apply(lambda x: ' '.join(x)).reset_index()\n",
    "df_test.head()"
   ]
  },
  {
   "cell_type": "markdown",
   "metadata": {
    "papermill": {
     "duration": 0.065246,
     "end_time": "2021-05-18T11:54:53.523864",
     "exception": false,
     "start_time": "2021-05-18T11:54:53.458618",
     "status": "completed"
    },
    "tags": []
   },
   "source": [
    "### Split out text"
   ]
  },
  {
   "cell_type": "code",
   "execution_count": 15,
   "metadata": {
    "execution": {
     "iopub.execute_input": "2021-05-18T11:54:53.659060Z",
     "iopub.status.busy": "2021-05-18T11:54:53.658307Z",
     "iopub.status.idle": "2021-05-18T11:54:53.661836Z",
     "shell.execute_reply": "2021-05-18T11:54:53.661395Z"
    },
    "papermill": {
     "duration": 0.073904,
     "end_time": "2021-05-18T11:54:53.661932",
     "exception": false,
     "start_time": "2021-05-18T11:54:53.588028",
     "status": "completed"
    },
    "tags": []
   },
   "outputs": [],
   "source": [
    "def get_split(text1):\n",
    "    l_total = []\n",
    "    l_parcial = []\n",
    "    if len(text1.split())//150 >0:\n",
    "        n = len(text1.split())//150\n",
    "    else: \n",
    "        n = 1\n",
    "    for w in range(n):\n",
    "        if w == 0:\n",
    "            l_parcial = text1.split()[:200]\n",
    "            l_total.append(\" \".join(l_parcial))\n",
    "        else:\n",
    "            l_parcial = text1.split()[w*150:w*150 + 200]\n",
    "            l_total.append(\" \".join(l_parcial))\n",
    "    return l_total"
   ]
  },
  {
   "cell_type": "code",
   "execution_count": 16,
   "metadata": {
    "execution": {
     "iopub.execute_input": "2021-05-18T11:54:53.849550Z",
     "iopub.status.busy": "2021-05-18T11:54:53.833852Z",
     "iopub.status.idle": "2021-05-18T11:54:55.941617Z",
     "shell.execute_reply": "2021-05-18T11:54:55.942010Z"
    },
    "papermill": {
     "duration": 2.214984,
     "end_time": "2021-05-18T11:54:55.942137",
     "exception": false,
     "start_time": "2021-05-18T11:54:53.727153",
     "status": "completed"
    },
    "tags": []
   },
   "outputs": [
    {
     "data": {
      "text/html": [
       "<div>\n",
       "<style scoped>\n",
       "    .dataframe tbody tr th:only-of-type {\n",
       "        vertical-align: middle;\n",
       "    }\n",
       "\n",
       "    .dataframe tbody tr th {\n",
       "        vertical-align: top;\n",
       "    }\n",
       "\n",
       "    .dataframe thead th {\n",
       "        text-align: right;\n",
       "    }\n",
       "</style>\n",
       "<table border=\"1\" class=\"dataframe\">\n",
       "  <thead>\n",
       "    <tr style=\"text-align: right;\">\n",
       "      <th></th>\n",
       "      <th>user.id</th>\n",
       "      <th>suspended</th>\n",
       "      <th>text</th>\n",
       "      <th>text_split</th>\n",
       "    </tr>\n",
       "  </thead>\n",
       "  <tbody>\n",
       "    <tr>\n",
       "      <th>0</th>\n",
       "      <td>1.278122e+18</td>\n",
       "      <td>0</td>\n",
       "      <td>今天第一次上推特，看看世界 @ttingxiao 胡说八道</td>\n",
       "      <td>[今天第一次上推特，看看世界 @ttingxiao 胡说八道]</td>\n",
       "    </tr>\n",
       "    <tr>\n",
       "      <th>1</th>\n",
       "      <td>1.278129e+18</td>\n",
       "      <td>0</td>\n",
       "      <td>@VijayShankarKu1 @zlj517 Are you describing In...</td>\n",
       "      <td>[@VijayShankarKu1 @zlj517 Are you describing I...</td>\n",
       "    </tr>\n",
       "    <tr>\n",
       "      <th>2</th>\n",
       "      <td>1.278132e+18</td>\n",
       "      <td>0</td>\n",
       "      <td>https://t.co/x6PEeWW48S #3qex https://t.co/eez...</td>\n",
       "      <td>[https://t.co/x6PEeWW48S #3qex https://t.co/ee...</td>\n",
       "    </tr>\n",
       "    <tr>\n",
       "      <th>3</th>\n",
       "      <td>1.278138e+18</td>\n",
       "      <td>0</td>\n",
       "      <td>@getput @zhanglifan 为什么西方所谓的双标的平等，自由就是对的？这就是典型...</td>\n",
       "      <td>[@getput @zhanglifan 为什么西方所谓的双标的平等，自由就是对的？这就是典...</td>\n",
       "    </tr>\n",
       "    <tr>\n",
       "      <th>4</th>\n",
       "      <td>1.278150e+18</td>\n",
       "      <td>1</td>\n",
       "      <td>WaxPar DC18RC 互換充電器 対応 マキタ 14.4V 18V リチウムイオンバッ...</td>\n",
       "      <td>[WaxPar DC18RC 互換充電器 対応 マキタ 14.4V 18V リチウムイオンバ...</td>\n",
       "    </tr>\n",
       "  </tbody>\n",
       "</table>\n",
       "</div>"
      ],
      "text/plain": [
       "        user.id  suspended                                               text  \\\n",
       "0  1.278122e+18          0                      今天第一次上推特，看看世界 @ttingxiao 胡说八道   \n",
       "1  1.278129e+18          0  @VijayShankarKu1 @zlj517 Are you describing In...   \n",
       "2  1.278132e+18          0  https://t.co/x6PEeWW48S #3qex https://t.co/eez...   \n",
       "3  1.278138e+18          0  @getput @zhanglifan 为什么西方所谓的双标的平等，自由就是对的？这就是典型...   \n",
       "4  1.278150e+18          1  WaxPar DC18RC 互換充電器 対応 マキタ 14.4V 18V リチウムイオンバッ...   \n",
       "\n",
       "                                          text_split  \n",
       "0                    [今天第一次上推特，看看世界 @ttingxiao 胡说八道]  \n",
       "1  [@VijayShankarKu1 @zlj517 Are you describing I...  \n",
       "2  [https://t.co/x6PEeWW48S #3qex https://t.co/ee...  \n",
       "3  [@getput @zhanglifan 为什么西方所谓的双标的平等，自由就是对的？这就是典...  \n",
       "4  [WaxPar DC18RC 互換充電器 対応 マキタ 14.4V 18V リチウムイオンバ...  "
      ]
     },
     "execution_count": 16,
     "metadata": {},
     "output_type": "execute_result"
    }
   ],
   "source": [
    "df_train['text_split'] = df_train['text'].apply(get_split)\n",
    "df_train.head()"
   ]
  },
  {
   "cell_type": "code",
   "execution_count": 17,
   "metadata": {
    "execution": {
     "iopub.execute_input": "2021-05-18T11:54:56.075682Z",
     "iopub.status.busy": "2021-05-18T11:54:56.075096Z",
     "iopub.status.idle": "2021-05-18T11:54:56.080962Z",
     "shell.execute_reply": "2021-05-18T11:54:56.080524Z"
    },
    "papermill": {
     "duration": 0.074919,
     "end_time": "2021-05-18T11:54:56.081052",
     "exception": false,
     "start_time": "2021-05-18T11:54:56.006133",
     "status": "completed"
    },
    "tags": []
   },
   "outputs": [
    {
     "data": {
      "text/plain": [
       "1516"
      ]
     },
     "execution_count": 17,
     "metadata": {},
     "output_type": "execute_result"
    }
   ],
   "source": [
    "len(df_train)"
   ]
  },
  {
   "cell_type": "code",
   "execution_count": 18,
   "metadata": {
    "execution": {
     "iopub.execute_input": "2021-05-18T11:54:56.243135Z",
     "iopub.status.busy": "2021-05-18T11:54:56.238119Z",
     "iopub.status.idle": "2021-05-18T11:54:56.391977Z",
     "shell.execute_reply": "2021-05-18T11:54:56.391516Z"
    },
    "papermill": {
     "duration": 0.246459,
     "end_time": "2021-05-18T11:54:56.392075",
     "exception": false,
     "start_time": "2021-05-18T11:54:56.145616",
     "status": "completed"
    },
    "tags": []
   },
   "outputs": [
    {
     "data": {
      "text/plain": [
       "(4771, 4771, 4771, 4771)"
      ]
     },
     "execution_count": 18,
     "metadata": {},
     "output_type": "execute_result"
    }
   ],
   "source": [
    "train_l = []\n",
    "label_l = []\n",
    "index_l =[]\n",
    "userid_l = []\n",
    "for idx,row in df_train.iterrows():\n",
    "    for l in row['text_split']:\n",
    "        train_l.append(l)\n",
    "        label_l.append(row['suspended'])\n",
    "        index_l.append(idx)\n",
    "        userid_l.append(row['user.id'])\n",
    "len(train_l), len(label_l), len(index_l), len(userid_l)"
   ]
  },
  {
   "cell_type": "code",
   "execution_count": 19,
   "metadata": {
    "execution": {
     "iopub.execute_input": "2021-05-18T11:54:56.537969Z",
     "iopub.status.busy": "2021-05-18T11:54:56.537113Z",
     "iopub.status.idle": "2021-05-18T11:54:56.540473Z",
     "shell.execute_reply": "2021-05-18T11:54:56.540929Z"
    },
    "papermill": {
     "duration": 0.083808,
     "end_time": "2021-05-18T11:54:56.541045",
     "exception": false,
     "start_time": "2021-05-18T11:54:56.457237",
     "status": "completed"
    },
    "tags": []
   },
   "outputs": [
    {
     "data": {
      "text/html": [
       "<div>\n",
       "<style scoped>\n",
       "    .dataframe tbody tr th:only-of-type {\n",
       "        vertical-align: middle;\n",
       "    }\n",
       "\n",
       "    .dataframe tbody tr th {\n",
       "        vertical-align: top;\n",
       "    }\n",
       "\n",
       "    .dataframe thead th {\n",
       "        text-align: right;\n",
       "    }\n",
       "</style>\n",
       "<table border=\"1\" class=\"dataframe\">\n",
       "  <thead>\n",
       "    <tr style=\"text-align: right;\">\n",
       "      <th></th>\n",
       "      <th>user.id</th>\n",
       "      <th>text</th>\n",
       "      <th>suspended</th>\n",
       "    </tr>\n",
       "  </thead>\n",
       "  <tbody>\n",
       "    <tr>\n",
       "      <th>0</th>\n",
       "      <td>1.278122e+18</td>\n",
       "      <td>今天第一次上推特，看看世界 @ttingxiao 胡说八道</td>\n",
       "      <td>0</td>\n",
       "    </tr>\n",
       "    <tr>\n",
       "      <th>1</th>\n",
       "      <td>1.278129e+18</td>\n",
       "      <td>@VijayShankarKu1 @zlj517 Are you describing In...</td>\n",
       "      <td>0</td>\n",
       "    </tr>\n",
       "    <tr>\n",
       "      <th>2</th>\n",
       "      <td>1.278132e+18</td>\n",
       "      <td>https://t.co/x6PEeWW48S #3qex https://t.co/eez...</td>\n",
       "      <td>0</td>\n",
       "    </tr>\n",
       "    <tr>\n",
       "      <th>3</th>\n",
       "      <td>1.278132e+18</td>\n",
       "      <td>the founding 5 for getting this out to the wor...</td>\n",
       "      <td>0</td>\n",
       "    </tr>\n",
       "    <tr>\n",
       "      <th>4</th>\n",
       "      <td>1.278138e+18</td>\n",
       "      <td>@getput @zhanglifan 为什么西方所谓的双标的平等，自由就是对的？这就是典型...</td>\n",
       "      <td>0</td>\n",
       "    </tr>\n",
       "  </tbody>\n",
       "</table>\n",
       "</div>"
      ],
      "text/plain": [
       "        user.id                                               text  suspended\n",
       "0  1.278122e+18                      今天第一次上推特，看看世界 @ttingxiao 胡说八道          0\n",
       "1  1.278129e+18  @VijayShankarKu1 @zlj517 Are you describing In...          0\n",
       "2  1.278132e+18  https://t.co/x6PEeWW48S #3qex https://t.co/eez...          0\n",
       "3  1.278132e+18  the founding 5 for getting this out to the wor...          0\n",
       "4  1.278138e+18  @getput @zhanglifan 为什么西方所谓的双标的平等，自由就是对的？这就是典型...          0"
      ]
     },
     "execution_count": 19,
     "metadata": {},
     "output_type": "execute_result"
    }
   ],
   "source": [
    "df_train = pd.DataFrame({'user.id':userid_l, 'text':train_l, 'suspended':label_l})\n",
    "df_train.head()"
   ]
  },
  {
   "cell_type": "code",
   "execution_count": 20,
   "metadata": {
    "execution": {
     "iopub.execute_input": "2021-05-18T11:54:56.694272Z",
     "iopub.status.busy": "2021-05-18T11:54:56.693711Z",
     "iopub.status.idle": "2021-05-18T11:54:57.313540Z",
     "shell.execute_reply": "2021-05-18T11:54:57.314238Z"
    },
    "papermill": {
     "duration": 0.705818,
     "end_time": "2021-05-18T11:54:57.314444",
     "exception": false,
     "start_time": "2021-05-18T11:54:56.608626",
     "status": "completed"
    },
    "tags": []
   },
   "outputs": [],
   "source": [
    "df_train_2 = df_train.copy()\n",
    "df_train_2['user.id'] = df_train_2['user.id'].astype('str')\n",
    "df_train_2['user.id'] = df_train_2['user.id'].apply(lambda x: \"'\" + x + \"'\")\n",
    "df_train_2['user.id'] = df_train_2['user.id'].astype('str')\n",
    "df_train_2['user.id'] = df_train_2['user.id'].apply(lambda x: \"'\" + x + \"'\")\n",
    "\n",
    "df_train_2.to_csv('df_train_2_overlap.csv', index=False, encoding = \"utf_8_sig\")"
   ]
  },
  {
   "cell_type": "code",
   "execution_count": 21,
   "metadata": {
    "execution": {
     "iopub.execute_input": "2021-05-18T11:54:57.563231Z",
     "iopub.status.busy": "2021-05-18T11:54:57.562270Z",
     "iopub.status.idle": "2021-05-18T11:54:58.886561Z",
     "shell.execute_reply": "2021-05-18T11:54:58.887055Z"
    },
    "papermill": {
     "duration": 1.45507,
     "end_time": "2021-05-18T11:54:58.887191",
     "exception": false,
     "start_time": "2021-05-18T11:54:57.432121",
     "status": "completed"
    },
    "tags": []
   },
   "outputs": [
    {
     "data": {
      "text/html": [
       "<div>\n",
       "<style scoped>\n",
       "    .dataframe tbody tr th:only-of-type {\n",
       "        vertical-align: middle;\n",
       "    }\n",
       "\n",
       "    .dataframe tbody tr th {\n",
       "        vertical-align: top;\n",
       "    }\n",
       "\n",
       "    .dataframe thead th {\n",
       "        text-align: right;\n",
       "    }\n",
       "</style>\n",
       "<table border=\"1\" class=\"dataframe\">\n",
       "  <thead>\n",
       "    <tr style=\"text-align: right;\">\n",
       "      <th></th>\n",
       "      <th>user.id</th>\n",
       "      <th>suspended</th>\n",
       "      <th>text</th>\n",
       "      <th>text_split</th>\n",
       "    </tr>\n",
       "  </thead>\n",
       "  <tbody>\n",
       "    <tr>\n",
       "      <th>0</th>\n",
       "      <td>1.278120e+18</td>\n",
       "      <td>1</td>\n",
       "      <td>@RFS_China 窝扪终锅震的是胎🍐害🌶 @SunZiyang2002 @kairun_...</td>\n",
       "      <td>[@RFS_China 窝扪终锅震的是胎🍐害🌶 @SunZiyang2002 @kairun...</td>\n",
       "    </tr>\n",
       "    <tr>\n",
       "      <th>1</th>\n",
       "      <td>1.278131e+18</td>\n",
       "      <td>0</td>\n",
       "      <td>@mian050715 @91porm 🤓</td>\n",
       "      <td>[@mian050715 @91porm 🤓]</td>\n",
       "    </tr>\n",
       "    <tr>\n",
       "      <th>2</th>\n",
       "      <td>1.278136e+18</td>\n",
       "      <td>0</td>\n",
       "      <td>https://t.co/2tSmlYkG4v</td>\n",
       "      <td>[https://t.co/2tSmlYkG4v]</td>\n",
       "    </tr>\n",
       "    <tr>\n",
       "      <th>3</th>\n",
       "      <td>1.278143e+18</td>\n",
       "      <td>0</td>\n",
       "      <td>@Kana_Momonogi I can't wait to Japan to have a...</td>\n",
       "      <td>[@Kana_Momonogi I can't wait to Japan to have ...</td>\n",
       "    </tr>\n",
       "    <tr>\n",
       "      <th>4</th>\n",
       "      <td>1.278154e+18</td>\n",
       "      <td>0</td>\n",
       "      <td>@SpokespersonCHN 華姐辛苦了！明天國慶🇨🇳放假好好休息吧 @HuXijin_...</td>\n",
       "      <td>[@SpokespersonCHN 華姐辛苦了！明天國慶🇨🇳放假好好休息吧 @HuXijin...</td>\n",
       "    </tr>\n",
       "  </tbody>\n",
       "</table>\n",
       "</div>"
      ],
      "text/plain": [
       "        user.id  suspended                                               text  \\\n",
       "0  1.278120e+18          1  @RFS_China 窝扪终锅震的是胎🍐害🌶 @SunZiyang2002 @kairun_...   \n",
       "1  1.278131e+18          0                              @mian050715 @91porm 🤓   \n",
       "2  1.278136e+18          0                            https://t.co/2tSmlYkG4v   \n",
       "3  1.278143e+18          0  @Kana_Momonogi I can't wait to Japan to have a...   \n",
       "4  1.278154e+18          0  @SpokespersonCHN 華姐辛苦了！明天國慶🇨🇳放假好好休息吧 @HuXijin_...   \n",
       "\n",
       "                                          text_split  \n",
       "0  [@RFS_China 窝扪终锅震的是胎🍐害🌶 @SunZiyang2002 @kairun...  \n",
       "1                            [@mian050715 @91porm 🤓]  \n",
       "2                          [https://t.co/2tSmlYkG4v]  \n",
       "3  [@Kana_Momonogi I can't wait to Japan to have ...  \n",
       "4  [@SpokespersonCHN 華姐辛苦了！明天國慶🇨🇳放假好好休息吧 @HuXijin...  "
      ]
     },
     "execution_count": 21,
     "metadata": {},
     "output_type": "execute_result"
    }
   ],
   "source": [
    "df_valid['text_split'] = df_valid['text'].apply(get_split)\n",
    "df_valid.head()"
   ]
  },
  {
   "cell_type": "code",
   "execution_count": 22,
   "metadata": {
    "execution": {
     "iopub.execute_input": "2021-05-18T11:54:59.053121Z",
     "iopub.status.busy": "2021-05-18T11:54:59.048032Z",
     "iopub.status.idle": "2021-05-18T11:54:59.104103Z",
     "shell.execute_reply": "2021-05-18T11:54:59.103643Z"
    },
    "papermill": {
     "duration": 0.147914,
     "end_time": "2021-05-18T11:54:59.104201",
     "exception": false,
     "start_time": "2021-05-18T11:54:58.956287",
     "status": "completed"
    },
    "tags": []
   },
   "outputs": [
    {
     "data": {
      "text/plain": [
       "(1957, 1957, 1957, 1957)"
      ]
     },
     "execution_count": 22,
     "metadata": {},
     "output_type": "execute_result"
    }
   ],
   "source": [
    "val_l = []\n",
    "val_label_l = []\n",
    "val_index_l =[]\n",
    "val_userid_l = []\n",
    "for idx,row in df_valid.iterrows():\n",
    "    for l in row['text_split']:\n",
    "        val_l.append(l)\n",
    "        val_label_l.append(row['suspended'])\n",
    "        val_index_l.append(idx)\n",
    "        val_userid_l.append(row['user.id'])\n",
    "len(val_l), len(val_label_l), len(val_index_l),  len(val_userid_l)"
   ]
  },
  {
   "cell_type": "code",
   "execution_count": 23,
   "metadata": {
    "execution": {
     "iopub.execute_input": "2021-05-18T11:54:59.256818Z",
     "iopub.status.busy": "2021-05-18T11:54:59.255817Z",
     "iopub.status.idle": "2021-05-18T11:54:59.259880Z",
     "shell.execute_reply": "2021-05-18T11:54:59.260273Z"
    },
    "papermill": {
     "duration": 0.087245,
     "end_time": "2021-05-18T11:54:59.260416",
     "exception": false,
     "start_time": "2021-05-18T11:54:59.173171",
     "status": "completed"
    },
    "tags": []
   },
   "outputs": [
    {
     "data": {
      "text/html": [
       "<div>\n",
       "<style scoped>\n",
       "    .dataframe tbody tr th:only-of-type {\n",
       "        vertical-align: middle;\n",
       "    }\n",
       "\n",
       "    .dataframe tbody tr th {\n",
       "        vertical-align: top;\n",
       "    }\n",
       "\n",
       "    .dataframe thead th {\n",
       "        text-align: right;\n",
       "    }\n",
       "</style>\n",
       "<table border=\"1\" class=\"dataframe\">\n",
       "  <thead>\n",
       "    <tr style=\"text-align: right;\">\n",
       "      <th></th>\n",
       "      <th>user.id</th>\n",
       "      <th>text</th>\n",
       "      <th>suspended</th>\n",
       "    </tr>\n",
       "  </thead>\n",
       "  <tbody>\n",
       "    <tr>\n",
       "      <th>0</th>\n",
       "      <td>1.278120e+18</td>\n",
       "      <td>@RFS_China 窝扪终锅震的是胎🍐害🌶 @SunZiyang2002 @kairun_...</td>\n",
       "      <td>1</td>\n",
       "    </tr>\n",
       "    <tr>\n",
       "      <th>1</th>\n",
       "      <td>1.278120e+18</td>\n",
       "      <td>she has american citizenship @dw_chinese 你们之前不...</td>\n",
       "      <td>1</td>\n",
       "    </tr>\n",
       "    <tr>\n",
       "      <th>2</th>\n",
       "      <td>1.278120e+18</td>\n",
       "      <td>@ZhenTeMeBZDHanS 🍋🔒💧👉⑩什🐎❀呢？草履虫💧鞭毛蠕动🐎？ 曱由发野爹证一直...</td>\n",
       "      <td>1</td>\n",
       "    </tr>\n",
       "    <tr>\n",
       "      <th>3</th>\n",
       "      <td>1.278120e+18</td>\n",
       "      <td>@cortez_22_ @NXOnNetflix @CixinLiu For fuck's ...</td>\n",
       "      <td>1</td>\n",
       "    </tr>\n",
       "    <tr>\n",
       "      <th>4</th>\n",
       "      <td>1.278120e+18</td>\n",
       "      <td>@fenqudousha @Sovimath @ding_gang 你不会真的以为发这些颅内...</td>\n",
       "      <td>1</td>\n",
       "    </tr>\n",
       "  </tbody>\n",
       "</table>\n",
       "</div>"
      ],
      "text/plain": [
       "        user.id                                               text  suspended\n",
       "0  1.278120e+18  @RFS_China 窝扪终锅震的是胎🍐害🌶 @SunZiyang2002 @kairun_...          1\n",
       "1  1.278120e+18  she has american citizenship @dw_chinese 你们之前不...          1\n",
       "2  1.278120e+18  @ZhenTeMeBZDHanS 🍋🔒💧👉⑩什🐎❀呢？草履虫💧鞭毛蠕动🐎？ 曱由发野爹证一直...          1\n",
       "3  1.278120e+18  @cortez_22_ @NXOnNetflix @CixinLiu For fuck's ...          1\n",
       "4  1.278120e+18  @fenqudousha @Sovimath @ding_gang 你不会真的以为发这些颅内...          1"
      ]
     },
     "execution_count": 23,
     "metadata": {},
     "output_type": "execute_result"
    }
   ],
   "source": [
    "df_valid = pd.DataFrame({'user.id':val_userid_l, 'text':val_l, 'suspended':val_label_l})\n",
    "df_valid.head()"
   ]
  },
  {
   "cell_type": "code",
   "execution_count": 24,
   "metadata": {
    "execution": {
     "iopub.execute_input": "2021-05-18T11:54:59.417521Z",
     "iopub.status.busy": "2021-05-18T11:54:59.412540Z",
     "iopub.status.idle": "2021-05-18T11:54:59.540076Z",
     "shell.execute_reply": "2021-05-18T11:54:59.539532Z"
    },
    "papermill": {
     "duration": 0.211664,
     "end_time": "2021-05-18T11:54:59.540177",
     "exception": false,
     "start_time": "2021-05-18T11:54:59.328513",
     "status": "completed"
    },
    "tags": []
   },
   "outputs": [],
   "source": [
    "df_valid_2 = df_valid.copy()\n",
    "df_valid_2['user.id'] = df_valid_2['user.id'].astype('str')\n",
    "df_valid_2['user.id'] = df_valid_2['user.id'].apply(lambda x: \"'\" + x + \"'\")\n",
    "df_valid_2['user.id'] = df_valid_2['user.id'].astype('str')\n",
    "df_valid_2['user.id'] = df_valid_2['user.id'].apply(lambda x: \"'\" + x + \"'\")\n",
    "\n",
    "df_valid_2.to_csv('df_valid_2_overlap.csv', index=False, encoding = \"utf_8_sig\")"
   ]
  },
  {
   "cell_type": "code",
   "execution_count": 25,
   "metadata": {
    "execution": {
     "iopub.execute_input": "2021-05-18T11:54:59.724441Z",
     "iopub.status.busy": "2021-05-18T11:54:59.702999Z",
     "iopub.status.idle": "2021-05-18T11:55:00.009935Z",
     "shell.execute_reply": "2021-05-18T11:55:00.010368Z"
    },
    "papermill": {
     "duration": 0.401552,
     "end_time": "2021-05-18T11:55:00.010489",
     "exception": false,
     "start_time": "2021-05-18T11:54:59.608937",
     "status": "completed"
    },
    "tags": []
   },
   "outputs": [
    {
     "data": {
      "text/html": [
       "<div>\n",
       "<style scoped>\n",
       "    .dataframe tbody tr th:only-of-type {\n",
       "        vertical-align: middle;\n",
       "    }\n",
       "\n",
       "    .dataframe tbody tr th {\n",
       "        vertical-align: top;\n",
       "    }\n",
       "\n",
       "    .dataframe thead th {\n",
       "        text-align: right;\n",
       "    }\n",
       "</style>\n",
       "<table border=\"1\" class=\"dataframe\">\n",
       "  <thead>\n",
       "    <tr style=\"text-align: right;\">\n",
       "      <th></th>\n",
       "      <th>user.id</th>\n",
       "      <th>suspended</th>\n",
       "      <th>text</th>\n",
       "      <th>text_split</th>\n",
       "    </tr>\n",
       "  </thead>\n",
       "  <tbody>\n",
       "    <tr>\n",
       "      <th>0</th>\n",
       "      <td>1.278130e+18</td>\n",
       "      <td>0</td>\n",
       "      <td>@ImranKhanPTI me mazor adme ho</td>\n",
       "      <td>[@ImranKhanPTI me mazor adme ho]</td>\n",
       "    </tr>\n",
       "    <tr>\n",
       "      <th>1</th>\n",
       "      <td>1.278145e+18</td>\n",
       "      <td>1</td>\n",
       "      <td>join amazon</td>\n",
       "      <td>[join amazon]</td>\n",
       "    </tr>\n",
       "    <tr>\n",
       "      <th>2</th>\n",
       "      <td>1.278155e+18</td>\n",
       "      <td>0</td>\n",
       "      <td>@joshuawongcf jail is well prepared for you @c...</td>\n",
       "      <td>[@joshuawongcf jail is well prepared for you @...</td>\n",
       "    </tr>\n",
       "    <tr>\n",
       "      <th>3</th>\n",
       "      <td>1.278156e+18</td>\n",
       "      <td>0</td>\n",
       "      <td>#SindhIsNotColonyIK Our message is clear that ...</td>\n",
       "      <td>[#SindhIsNotColonyIK Our message is clear that...</td>\n",
       "    </tr>\n",
       "    <tr>\n",
       "      <th>4</th>\n",
       "      <td>1.278181e+18</td>\n",
       "      <td>0</td>\n",
       "      <td>Sentences have power.</td>\n",
       "      <td>[Sentences have power.]</td>\n",
       "    </tr>\n",
       "  </tbody>\n",
       "</table>\n",
       "</div>"
      ],
      "text/plain": [
       "        user.id  suspended                                               text  \\\n",
       "0  1.278130e+18          0                     @ImranKhanPTI me mazor adme ho   \n",
       "1  1.278145e+18          1                                        join amazon   \n",
       "2  1.278155e+18          0  @joshuawongcf jail is well prepared for you @c...   \n",
       "3  1.278156e+18          0  #SindhIsNotColonyIK Our message is clear that ...   \n",
       "4  1.278181e+18          0                              Sentences have power.   \n",
       "\n",
       "                                          text_split  \n",
       "0                   [@ImranKhanPTI me mazor adme ho]  \n",
       "1                                      [join amazon]  \n",
       "2  [@joshuawongcf jail is well prepared for you @...  \n",
       "3  [#SindhIsNotColonyIK Our message is clear that...  \n",
       "4                            [Sentences have power.]  "
      ]
     },
     "execution_count": 25,
     "metadata": {},
     "output_type": "execute_result"
    }
   ],
   "source": [
    "df_test['text_split'] = df_test['text'].apply(get_split)\n",
    "df_test.head()"
   ]
  },
  {
   "cell_type": "code",
   "execution_count": 26,
   "metadata": {
    "execution": {
     "iopub.execute_input": "2021-05-18T11:55:00.172352Z",
     "iopub.status.busy": "2021-05-18T11:55:00.167431Z",
     "iopub.status.idle": "2021-05-18T11:55:00.217856Z",
     "shell.execute_reply": "2021-05-18T11:55:00.218275Z"
    },
    "papermill": {
     "duration": 0.138357,
     "end_time": "2021-05-18T11:55:00.218413",
     "exception": false,
     "start_time": "2021-05-18T11:55:00.080056",
     "status": "completed"
    },
    "tags": []
   },
   "outputs": [
    {
     "data": {
      "text/plain": [
       "(1306, 1306, 1306, 1306)"
      ]
     },
     "execution_count": 26,
     "metadata": {},
     "output_type": "execute_result"
    }
   ],
   "source": [
    "test_l = []\n",
    "test_label_l = []\n",
    "test_index_l =[]\n",
    "test_userid_l = []\n",
    "for idx,row in df_test.iterrows():\n",
    "    for l in row['text_split']:\n",
    "        test_l.append(l)\n",
    "        test_label_l.append(row['suspended'])\n",
    "        test_index_l.append(idx)\n",
    "        test_userid_l.append(row['user.id'])\n",
    "len(test_l), len(test_label_l), len(test_index_l), len(test_userid_l) "
   ]
  },
  {
   "cell_type": "code",
   "execution_count": 27,
   "metadata": {
    "execution": {
     "iopub.execute_input": "2021-05-18T11:55:00.369873Z",
     "iopub.status.busy": "2021-05-18T11:55:00.369072Z",
     "iopub.status.idle": "2021-05-18T11:55:00.372355Z",
     "shell.execute_reply": "2021-05-18T11:55:00.372822Z"
    },
    "papermill": {
     "duration": 0.085371,
     "end_time": "2021-05-18T11:55:00.372943",
     "exception": false,
     "start_time": "2021-05-18T11:55:00.287572",
     "status": "completed"
    },
    "tags": []
   },
   "outputs": [
    {
     "data": {
      "text/html": [
       "<div>\n",
       "<style scoped>\n",
       "    .dataframe tbody tr th:only-of-type {\n",
       "        vertical-align: middle;\n",
       "    }\n",
       "\n",
       "    .dataframe tbody tr th {\n",
       "        vertical-align: top;\n",
       "    }\n",
       "\n",
       "    .dataframe thead th {\n",
       "        text-align: right;\n",
       "    }\n",
       "</style>\n",
       "<table border=\"1\" class=\"dataframe\">\n",
       "  <thead>\n",
       "    <tr style=\"text-align: right;\">\n",
       "      <th></th>\n",
       "      <th>user.id</th>\n",
       "      <th>text</th>\n",
       "      <th>suspended</th>\n",
       "    </tr>\n",
       "  </thead>\n",
       "  <tbody>\n",
       "    <tr>\n",
       "      <th>0</th>\n",
       "      <td>1.278130e+18</td>\n",
       "      <td>@ImranKhanPTI me mazor adme ho</td>\n",
       "      <td>0</td>\n",
       "    </tr>\n",
       "    <tr>\n",
       "      <th>1</th>\n",
       "      <td>1.278145e+18</td>\n",
       "      <td>join amazon</td>\n",
       "      <td>1</td>\n",
       "    </tr>\n",
       "    <tr>\n",
       "      <th>2</th>\n",
       "      <td>1.278155e+18</td>\n",
       "      <td>@joshuawongcf jail is well prepared for you @c...</td>\n",
       "      <td>0</td>\n",
       "    </tr>\n",
       "    <tr>\n",
       "      <th>3</th>\n",
       "      <td>1.278156e+18</td>\n",
       "      <td>#SindhIsNotColonyIK Our message is clear that ...</td>\n",
       "      <td>0</td>\n",
       "    </tr>\n",
       "    <tr>\n",
       "      <th>4</th>\n",
       "      <td>1.278181e+18</td>\n",
       "      <td>Sentences have power.</td>\n",
       "      <td>0</td>\n",
       "    </tr>\n",
       "  </tbody>\n",
       "</table>\n",
       "</div>"
      ],
      "text/plain": [
       "        user.id                                               text  suspended\n",
       "0  1.278130e+18                     @ImranKhanPTI me mazor adme ho          0\n",
       "1  1.278145e+18                                        join amazon          1\n",
       "2  1.278155e+18  @joshuawongcf jail is well prepared for you @c...          0\n",
       "3  1.278156e+18  #SindhIsNotColonyIK Our message is clear that ...          0\n",
       "4  1.278181e+18                              Sentences have power.          0"
      ]
     },
     "execution_count": 27,
     "metadata": {},
     "output_type": "execute_result"
    }
   ],
   "source": [
    "df_test = pd.DataFrame({'user.id':test_userid_l,'text':test_l, 'suspended':test_label_l})\n",
    "df_test.head()"
   ]
  },
  {
   "cell_type": "code",
   "execution_count": 28,
   "metadata": {
    "execution": {
     "iopub.execute_input": "2021-05-18T11:55:00.528363Z",
     "iopub.status.busy": "2021-05-18T11:55:00.527391Z",
     "iopub.status.idle": "2021-05-18T11:55:00.606631Z",
     "shell.execute_reply": "2021-05-18T11:55:00.606135Z"
    },
    "papermill": {
     "duration": 0.162376,
     "end_time": "2021-05-18T11:55:00.606743",
     "exception": false,
     "start_time": "2021-05-18T11:55:00.444367",
     "status": "completed"
    },
    "tags": []
   },
   "outputs": [],
   "source": [
    "df_test_2 = df_test.copy()\n",
    "df_test_2['user.id'] = df_test_2['user.id'].astype('str')\n",
    "df_test_2['user.id'] = df_test_2['user.id'].apply(lambda x: \"'\" + x + \"'\")\n",
    "df_test_2['user.id'] = df_test_2['user.id'].astype('str')\n",
    "df_test_2['user.id'] = df_test_2['user.id'].apply(lambda x: \"'\" + x + \"'\")\n",
    "\n",
    "df_test_2.to_csv('df_test_2_overlap.csv', index=False, encoding = \"utf_8_sig\")"
   ]
  },
  {
   "cell_type": "code",
   "execution_count": 29,
   "metadata": {
    "execution": {
     "iopub.execute_input": "2021-05-18T11:55:00.755810Z",
     "iopub.status.busy": "2021-05-18T11:55:00.755046Z",
     "iopub.status.idle": "2021-05-18T11:55:04.761392Z",
     "shell.execute_reply": "2021-05-18T11:55:04.760321Z"
    },
    "papermill": {
     "duration": 4.085274,
     "end_time": "2021-05-18T11:55:04.761524",
     "exception": false,
     "start_time": "2021-05-18T11:55:00.676250",
     "status": "completed"
    },
    "tags": []
   },
   "outputs": [],
   "source": [
    "import numpy as np\n",
    "import pandas as pd\n",
    "import torch\n",
    "import transformers as ppb # pytorch transformers\n",
    "from sklearn.linear_model import LogisticRegression\n",
    "from sklearn.model_selection import cross_val_score\n",
    "from sklearn.model_selection import train_test_split\n",
    "from numba import cuda \n",
    "import gc\n",
    "\n",
    "from sklearn.metrics import roc_auc_score\n",
    "from sklearn.metrics import roc_curve"
   ]
  },
  {
   "cell_type": "code",
   "execution_count": 30,
   "metadata": {
    "execution": {
     "iopub.execute_input": "2021-05-18T11:55:05.141738Z",
     "iopub.status.busy": "2021-05-18T11:55:05.140861Z",
     "iopub.status.idle": "2021-05-18T11:55:05.146526Z",
     "shell.execute_reply": "2021-05-18T11:55:05.145806Z"
    },
    "papermill": {
     "duration": 0.313445,
     "end_time": "2021-05-18T11:55:05.146676",
     "exception": false,
     "start_time": "2021-05-18T11:55:04.833231",
     "status": "completed"
    },
    "tags": []
   },
   "outputs": [],
   "source": [
    "gc.collect()\n",
    "torch.cuda.empty_cache()"
   ]
  },
  {
   "cell_type": "code",
   "execution_count": 31,
   "metadata": {
    "execution": {
     "iopub.execute_input": "2021-05-18T11:55:05.408958Z",
     "iopub.status.busy": "2021-05-18T11:55:05.408039Z",
     "iopub.status.idle": "2021-05-18T11:55:05.413886Z",
     "shell.execute_reply": "2021-05-18T11:55:05.414530Z"
    },
    "papermill": {
     "duration": 0.132895,
     "end_time": "2021-05-18T11:55:05.414734",
     "exception": false,
     "start_time": "2021-05-18T11:55:05.281839",
     "status": "completed"
    },
    "tags": []
   },
   "outputs": [],
   "source": [
    "# Get the lists of sentences and their labels.\n",
    "sentences_train = df_train.text.values\n",
    "train_labels = df_train.suspended.values\n",
    "ids_train = df_train.index.values\n",
    "\n",
    "sentences_valid = df_valid.text.values\n",
    "validation_labels = df_valid.suspended.values\n",
    "ids_validation = df_valid.index.values\n",
    "\n",
    "sentences_test = df_test.text.values\n",
    "test_labels = df_test.suspended.values\n",
    "ids_test = df_test.index.values"
   ]
  },
  {
   "cell_type": "code",
   "execution_count": 32,
   "metadata": {
    "execution": {
     "iopub.execute_input": "2021-05-18T11:55:05.607790Z",
     "iopub.status.busy": "2021-05-18T11:55:05.607005Z",
     "iopub.status.idle": "2021-05-18T11:55:05.610847Z",
     "shell.execute_reply": "2021-05-18T11:55:05.610241Z"
    },
    "papermill": {
     "duration": 0.081936,
     "end_time": "2021-05-18T11:55:05.610948",
     "exception": false,
     "start_time": "2021-05-18T11:55:05.529012",
     "status": "completed"
    },
    "tags": []
   },
   "outputs": [
    {
     "name": "stdout",
     "output_type": "stream",
     "text": [
      "Train: 4771 Valid: 1957 Test 1306\n"
     ]
    }
   ],
   "source": [
    "print(\"Train:\", len(sentences_train), \"Valid:\", len(sentences_valid), \"Test\", len(sentences_test))"
   ]
  },
  {
   "cell_type": "markdown",
   "metadata": {
    "papermill": {
     "duration": 0.071031,
     "end_time": "2021-05-18T11:55:05.751927",
     "exception": false,
     "start_time": "2021-05-18T11:55:05.680896",
     "status": "completed"
    },
    "tags": []
   },
   "source": [
    "### Load in Model and Tokenizer"
   ]
  },
  {
   "cell_type": "code",
   "execution_count": 33,
   "metadata": {
    "execution": {
     "iopub.execute_input": "2021-05-18T11:55:05.896732Z",
     "iopub.status.busy": "2021-05-18T11:55:05.896015Z",
     "iopub.status.idle": "2021-05-18T11:55:08.180205Z",
     "shell.execute_reply": "2021-05-18T11:55:08.179675Z"
    },
    "papermill": {
     "duration": 2.359396,
     "end_time": "2021-05-18T11:55:08.180345",
     "exception": false,
     "start_time": "2021-05-18T11:55:05.820949",
     "status": "completed"
    },
    "tags": []
   },
   "outputs": [
    {
     "data": {
      "application/vnd.jupyter.widget-view+json": {
       "model_id": "267607141d964e8a80862fca936a507e",
       "version_major": 2,
       "version_minor": 0
      },
      "text/plain": [
       "HBox(children=(FloatProgress(value=0.0, description='Downloading', max=5220781.0, style=ProgressStyle(descript…"
      ]
     },
     "metadata": {},
     "output_type": "display_data"
    },
    {
     "name": "stdout",
     "output_type": "stream",
     "text": [
      "\n"
     ]
    },
    {
     "data": {
      "application/vnd.jupyter.widget-view+json": {
       "model_id": "2674d99f138b420ba5d71f748b9ce1b8",
       "version_major": 2,
       "version_minor": 0
      },
      "text/plain": [
       "HBox(children=(FloatProgress(value=0.0, description='Downloading', max=112.0, style=ProgressStyle(description_…"
      ]
     },
     "metadata": {},
     "output_type": "display_data"
    },
    {
     "name": "stdout",
     "output_type": "stream",
     "text": [
      "\n"
     ]
    },
    {
     "data": {
      "application/vnd.jupyter.widget-view+json": {
       "model_id": "449ab83e2d994f3c965944120e76a5ca",
       "version_major": 2,
       "version_minor": 0
      },
      "text/plain": [
       "HBox(children=(FloatProgress(value=0.0, description='Downloading', max=62.0, style=ProgressStyle(description_w…"
      ]
     },
     "metadata": {},
     "output_type": "display_data"
    },
    {
     "name": "stdout",
     "output_type": "stream",
     "text": [
      "\n"
     ]
    }
   ],
   "source": [
    "# https://huggingface.co/pvl/labse_bert\n",
    "model_class, tokenizer_class, pretrained_weights = (ppb.BertModel, ppb.BertTokenizer, 'pvl/labse_bert')\n",
    "\n",
    "# Load pretrained model/tokenizer\n",
    "tokenizer = tokenizer_class.from_pretrained(pretrained_weights)\n",
    "#model = model_class.from_pretrained(pretrained_weights)"
   ]
  },
  {
   "cell_type": "code",
   "execution_count": 34,
   "metadata": {
    "execution": {
     "iopub.execute_input": "2021-05-18T11:55:08.560272Z",
     "iopub.status.busy": "2021-05-18T11:55:08.559309Z",
     "iopub.status.idle": "2021-05-18T11:55:08.561732Z",
     "shell.execute_reply": "2021-05-18T11:55:08.562115Z"
    },
    "papermill": {
     "duration": 0.30817,
     "end_time": "2021-05-18T11:55:08.562240",
     "exception": false,
     "start_time": "2021-05-18T11:55:08.254070",
     "status": "completed"
    },
    "tags": []
   },
   "outputs": [],
   "source": [
    "gc.collect()\n",
    "torch.cuda.empty_cache()"
   ]
  },
  {
   "cell_type": "code",
   "execution_count": 35,
   "metadata": {
    "execution": {
     "iopub.execute_input": "2021-05-18T11:55:08.715149Z",
     "iopub.status.busy": "2021-05-18T11:55:08.714496Z",
     "iopub.status.idle": "2021-05-18T11:55:10.254082Z",
     "shell.execute_reply": "2021-05-18T11:55:10.253113Z"
    },
    "papermill": {
     "duration": 1.619142,
     "end_time": "2021-05-18T11:55:10.254196",
     "exception": false,
     "start_time": "2021-05-18T11:55:08.635054",
     "status": "completed"
    },
    "tags": []
   },
   "outputs": [
    {
     "name": "stdout",
     "output_type": "stream",
     "text": [
      "Loading BERT tokenizer...\n"
     ]
    }
   ],
   "source": [
    "from transformers import BertTokenizer\n",
    "# Load the BERT tokenizer.\n",
    "print('Loading BERT tokenizer...')\n",
    "tokenizer = BertTokenizer.from_pretrained('pvl/labse_bert', do_lower_case=True)"
   ]
  },
  {
   "cell_type": "markdown",
   "metadata": {
    "papermill": {
     "duration": 0.073194,
     "end_time": "2021-05-18T11:55:10.401821",
     "exception": false,
     "start_time": "2021-05-18T11:55:10.328627",
     "status": "completed"
    },
    "tags": []
   },
   "source": [
    "### Prep Data for Model"
   ]
  },
  {
   "cell_type": "code",
   "execution_count": 36,
   "metadata": {
    "execution": {
     "iopub.execute_input": "2021-05-18T11:55:10.554216Z",
     "iopub.status.busy": "2021-05-18T11:55:10.553423Z",
     "iopub.status.idle": "2021-05-18T11:55:10.556235Z",
     "shell.execute_reply": "2021-05-18T11:55:10.555809Z"
    },
    "papermill": {
     "duration": 0.082087,
     "end_time": "2021-05-18T11:55:10.556343",
     "exception": false,
     "start_time": "2021-05-18T11:55:10.474256",
     "status": "completed"
    },
    "tags": []
   },
   "outputs": [],
   "source": [
    "def sent_to_ids(sentences): \n",
    "    # Tokenize all of the sentences and map the tokens to thier word IDs.\n",
    "    input_ids = []\n",
    "    # For every sentence...\n",
    "    for sent in sentences:\n",
    "        # `encode` will:\n",
    "        #   (1) Tokenize the sentence.\n",
    "        #   (2) Prepend the `[CLS]` token to the start.\n",
    "        #   (3) Append the `[SEP]` token to the end.\n",
    "        #   (4) Map tokens to their IDs.\n",
    "        encoded_sent = tokenizer.encode(\n",
    "            sent,                      # Sentence to encode.\n",
    "            add_special_tokens = True, # Add '[CLS]' and '[SEP]'\n",
    "                          # This function also supports truncation and conversion\n",
    "                          # to pytorch tensors, but we need to do padding, so we\n",
    "                          # can't use these features :( .\n",
    "                          #max_length = 128,          # Truncate all sentences.\n",
    "                          #return_tensors = 'pt',     # Return pytorch tensors.\n",
    "        )\n",
    "      \n",
    "        # Add the encoded sentence to the list.\n",
    "        input_ids.append(encoded_sent)\n",
    "    # Pad and truncate our sequences so that they all have the same length\n",
    "    input_ids = pad_sequences(input_ids, maxlen=120, dtype=\"long\", \n",
    "                            value=0, truncating=\"post\", padding=\"post\")\n",
    "    # Print sentence 0, now as a list of IDs.\n",
    "    return input_ids\n",
    "\n",
    "# SWIMMING STEMMED INTO SWIM AND M AND ING (SO LEN IS FOR EACH OF THOSE)"
   ]
  },
  {
   "cell_type": "code",
   "execution_count": 37,
   "metadata": {
    "execution": {
     "iopub.execute_input": "2021-05-18T11:55:10.730196Z",
     "iopub.status.busy": "2021-05-18T11:55:10.714999Z",
     "iopub.status.idle": "2021-05-18T11:56:05.822601Z",
     "shell.execute_reply": "2021-05-18T11:56:05.821888Z"
    },
    "papermill": {
     "duration": 55.194588,
     "end_time": "2021-05-18T11:56:05.822713",
     "exception": false,
     "start_time": "2021-05-18T11:55:10.628125",
     "status": "completed"
    },
    "tags": []
   },
   "outputs": [],
   "source": [
    "train_inputs = sent_to_ids(sentences_train)"
   ]
  },
  {
   "cell_type": "code",
   "execution_count": 38,
   "metadata": {
    "execution": {
     "iopub.execute_input": "2021-05-18T11:56:06.010107Z",
     "iopub.status.busy": "2021-05-18T11:56:05.989260Z",
     "iopub.status.idle": "2021-05-18T11:56:24.935564Z",
     "shell.execute_reply": "2021-05-18T11:56:24.935056Z"
    },
    "papermill": {
     "duration": 19.038511,
     "end_time": "2021-05-18T11:56:24.935682",
     "exception": false,
     "start_time": "2021-05-18T11:56:05.897171",
     "status": "completed"
    },
    "tags": []
   },
   "outputs": [],
   "source": [
    "validation_inputs = sent_to_ids(sentences_valid)"
   ]
  },
  {
   "cell_type": "code",
   "execution_count": 39,
   "metadata": {
    "execution": {
     "iopub.execute_input": "2021-05-18T11:56:25.134352Z",
     "iopub.status.busy": "2021-05-18T11:56:25.124022Z",
     "iopub.status.idle": "2021-05-18T11:56:38.488906Z",
     "shell.execute_reply": "2021-05-18T11:56:38.489868Z"
    },
    "papermill": {
     "duration": 13.479894,
     "end_time": "2021-05-18T11:56:38.490034",
     "exception": false,
     "start_time": "2021-05-18T11:56:25.010140",
     "status": "completed"
    },
    "tags": []
   },
   "outputs": [],
   "source": [
    "test_inputs = sent_to_ids(sentences_test)"
   ]
  },
  {
   "cell_type": "code",
   "execution_count": 40,
   "metadata": {
    "execution": {
     "iopub.execute_input": "2021-05-18T11:56:38.653413Z",
     "iopub.status.busy": "2021-05-18T11:56:38.652491Z",
     "iopub.status.idle": "2021-05-18T11:56:38.655506Z",
     "shell.execute_reply": "2021-05-18T11:56:38.655966Z"
    },
    "papermill": {
     "duration": 0.086363,
     "end_time": "2021-05-18T11:56:38.656100",
     "exception": false,
     "start_time": "2021-05-18T11:56:38.569737",
     "status": "completed"
    },
    "tags": []
   },
   "outputs": [
    {
     "name": "stdout",
     "output_type": "stream",
     "text": [
      "Train: 4771 Valid: 1957 Test 1306\n"
     ]
    }
   ],
   "source": [
    "print(\"Train:\", len(train_inputs), \"Valid:\", len(validation_inputs), \"Test\", len(test_inputs))"
   ]
  },
  {
   "cell_type": "code",
   "execution_count": 41,
   "metadata": {
    "execution": {
     "iopub.execute_input": "2021-05-18T11:56:38.820318Z",
     "iopub.status.busy": "2021-05-18T11:56:38.819348Z",
     "iopub.status.idle": "2021-05-18T11:56:38.822452Z",
     "shell.execute_reply": "2021-05-18T11:56:38.821981Z"
    },
    "papermill": {
     "duration": 0.087123,
     "end_time": "2021-05-18T11:56:38.822557",
     "exception": false,
     "start_time": "2021-05-18T11:56:38.735434",
     "status": "completed"
    },
    "tags": []
   },
   "outputs": [],
   "source": [
    "def get_attn_msks(input_ids):\n",
    "  # Create attention masks\n",
    "    attention_masks = []\n",
    "  # For each sentence...\n",
    "    for sent in input_ids:\n",
    "        # Create the attention mask.\n",
    "        #   - If a token ID is 0, then it's padding, set the mask to 0.\n",
    "        #   - If a token ID is > 0, then it's a real token, set the mask to 1.\n",
    "        att_mask = [int(token_id > 0) for token_id in sent]\n",
    "      \n",
    "        # Store the attention mask for this sentence.\n",
    "        attention_masks.append(att_mask)\n",
    "    return attention_masks"
   ]
  },
  {
   "cell_type": "code",
   "execution_count": 42,
   "metadata": {
    "execution": {
     "iopub.execute_input": "2021-05-18T11:56:38.992908Z",
     "iopub.status.busy": "2021-05-18T11:56:38.987948Z",
     "iopub.status.idle": "2021-05-18T11:56:39.536472Z",
     "shell.execute_reply": "2021-05-18T11:56:39.535915Z"
    },
    "papermill": {
     "duration": 0.638176,
     "end_time": "2021-05-18T11:56:39.536584",
     "exception": false,
     "start_time": "2021-05-18T11:56:38.898408",
     "status": "completed"
    },
    "tags": []
   },
   "outputs": [],
   "source": [
    "train_masks = get_attn_msks(train_inputs)"
   ]
  },
  {
   "cell_type": "code",
   "execution_count": 43,
   "metadata": {
    "execution": {
     "iopub.execute_input": "2021-05-18T11:56:39.719205Z",
     "iopub.status.busy": "2021-05-18T11:56:39.703834Z",
     "iopub.status.idle": "2021-05-18T11:56:39.926830Z",
     "shell.execute_reply": "2021-05-18T11:56:39.926309Z"
    },
    "papermill": {
     "duration": 0.31348,
     "end_time": "2021-05-18T11:56:39.926946",
     "exception": false,
     "start_time": "2021-05-18T11:56:39.613466",
     "status": "completed"
    },
    "tags": []
   },
   "outputs": [],
   "source": [
    "validation_masks = get_attn_msks(validation_inputs)"
   ]
  },
  {
   "cell_type": "code",
   "execution_count": 44,
   "metadata": {
    "execution": {
     "iopub.execute_input": "2021-05-18T11:56:40.112702Z",
     "iopub.status.busy": "2021-05-18T11:56:40.097278Z",
     "iopub.status.idle": "2021-05-18T11:56:40.252607Z",
     "shell.execute_reply": "2021-05-18T11:56:40.252121Z"
    },
    "papermill": {
     "duration": 0.239327,
     "end_time": "2021-05-18T11:56:40.252743",
     "exception": false,
     "start_time": "2021-05-18T11:56:40.013416",
     "status": "completed"
    },
    "tags": []
   },
   "outputs": [],
   "source": [
    "test_masks = get_attn_msks(test_inputs)"
   ]
  },
  {
   "cell_type": "code",
   "execution_count": 45,
   "metadata": {
    "execution": {
     "iopub.execute_input": "2021-05-18T11:56:40.423922Z",
     "iopub.status.busy": "2021-05-18T11:56:40.423087Z",
     "iopub.status.idle": "2021-05-18T11:56:40.536204Z",
     "shell.execute_reply": "2021-05-18T11:56:40.535680Z"
    },
    "papermill": {
     "duration": 0.206377,
     "end_time": "2021-05-18T11:56:40.536339",
     "exception": false,
     "start_time": "2021-05-18T11:56:40.329962",
     "status": "completed"
    },
    "tags": []
   },
   "outputs": [],
   "source": [
    "# Convert all inputs and labels into torch tensors, the required datatype \n",
    "# for our model.\n",
    "train_inputs = torch.tensor(train_inputs)\n",
    "validation_inputs = torch.tensor(validation_inputs)\n",
    "train_labels = torch.tensor(train_labels)\n",
    "validation_labels = torch.tensor(validation_labels)\n",
    "train_masks = torch.tensor(train_masks)\n",
    "validation_masks = torch.tensor(validation_masks)\n",
    "\n",
    "train_ids = torch.tensor(ids_train)\n",
    "valid_ids = torch.tensor(ids_validation)"
   ]
  },
  {
   "cell_type": "code",
   "execution_count": 46,
   "metadata": {
    "execution": {
     "iopub.execute_input": "2021-05-18T11:56:40.696798Z",
     "iopub.status.busy": "2021-05-18T11:56:40.695935Z",
     "iopub.status.idle": "2021-05-18T11:56:40.700628Z",
     "shell.execute_reply": "2021-05-18T11:56:40.701350Z"
    },
    "papermill": {
     "duration": 0.088075,
     "end_time": "2021-05-18T11:56:40.701518",
     "exception": false,
     "start_time": "2021-05-18T11:56:40.613443",
     "status": "completed"
    },
    "tags": []
   },
   "outputs": [
    {
     "name": "stdout",
     "output_type": "stream",
     "text": [
      "Train: 4771 Valid: 1957 Test 1306\n"
     ]
    }
   ],
   "source": [
    "print(\"Train:\", len(train_inputs), \"Valid:\", len(validation_inputs), \"Test\", len(test_inputs))"
   ]
  },
  {
   "cell_type": "code",
   "execution_count": 47,
   "metadata": {
    "execution": {
     "iopub.execute_input": "2021-05-18T11:56:40.873383Z",
     "iopub.status.busy": "2021-05-18T11:56:40.872350Z",
     "iopub.status.idle": "2021-05-18T11:56:40.874783Z",
     "shell.execute_reply": "2021-05-18T11:56:40.875222Z"
    },
    "papermill": {
     "duration": 0.092879,
     "end_time": "2021-05-18T11:56:40.875360",
     "exception": false,
     "start_time": "2021-05-18T11:56:40.782481",
     "status": "completed"
    },
    "tags": []
   },
   "outputs": [],
   "source": [
    "from torch.utils.data import TensorDataset, DataLoader, RandomSampler, SequentialSampler\n",
    "# The DataLoader needs to know our batch size for training, so we specify it \n",
    "# here.\n",
    "# For fine-tuning BERT on a specific task, the authors recommend a batch size of\n",
    "# 16 or 32.\n",
    "batch_size = 32 # try 32, and then move down to 16 and 8. \n",
    "# Create the DataLoader for our training set.\n",
    "train_data = TensorDataset(train_inputs, train_masks, train_labels, train_ids)\n",
    "train_sampler = RandomSampler(train_data) # CHANGE TO SEQUENTIAL (TRAIN_SEQUENTIAL_SAMPLER - BUT DO SEQUENTIALLY FOR HIDDEN STATES)\n",
    "train_dataloader = DataLoader(train_data, sampler=train_sampler, batch_size=batch_size)\n",
    "# Create the DataLoader for our validation set.\n",
    "validation_data = TensorDataset(validation_inputs, validation_masks, validation_labels, valid_ids)\n",
    "validation_sampler = SequentialSampler(validation_data)\n",
    "validation_dataloader = DataLoader(validation_data, sampler=validation_sampler, batch_size=batch_size)\n",
    "\n",
    "# Create the DataLoader for our training set for the embedding extraction.\n",
    "train_sampler_sequential = SequentialSampler(train_data) # CHANGE TO SEQUENTIAL (TRAIN_SEQUENTIAL_SAMPLER - BUT DO SEQUENTIALLY FOR HIDDEN STATES)\n",
    "train_dataloader_sequential = DataLoader(train_data, sampler=train_sampler_sequential, batch_size=batch_size)"
   ]
  },
  {
   "cell_type": "code",
   "execution_count": 48,
   "metadata": {
    "execution": {
     "iopub.execute_input": "2021-05-18T11:56:41.039222Z",
     "iopub.status.busy": "2021-05-18T11:56:41.038557Z",
     "iopub.status.idle": "2021-05-18T11:57:57.425219Z",
     "shell.execute_reply": "2021-05-18T11:57:57.424257Z"
    },
    "papermill": {
     "duration": 76.471759,
     "end_time": "2021-05-18T11:57:57.425349",
     "exception": false,
     "start_time": "2021-05-18T11:56:40.953590",
     "status": "completed"
    },
    "tags": []
   },
   "outputs": [
    {
     "data": {
      "application/vnd.jupyter.widget-view+json": {
       "model_id": "427218d040074856af212be5a1d9528c",
       "version_major": 2,
       "version_minor": 0
      },
      "text/plain": [
       "HBox(children=(FloatProgress(value=0.0, description='Downloading', max=472.0, style=ProgressStyle(description_…"
      ]
     },
     "metadata": {},
     "output_type": "display_data"
    },
    {
     "name": "stdout",
     "output_type": "stream",
     "text": [
      "\n"
     ]
    },
    {
     "data": {
      "application/vnd.jupyter.widget-view+json": {
       "model_id": "d4e86ec6368f4337bda95d1351bc7f75",
       "version_major": 2,
       "version_minor": 0
      },
      "text/plain": [
       "HBox(children=(FloatProgress(value=0.0, description='Downloading', max=1888168867.0, style=ProgressStyle(descr…"
      ]
     },
     "metadata": {},
     "output_type": "display_data"
    },
    {
     "name": "stdout",
     "output_type": "stream",
     "text": [
      "\n"
     ]
    },
    {
     "name": "stderr",
     "output_type": "stream",
     "text": [
      "Some weights of the model checkpoint at pvl/labse_bert were not used when initializing BertForSequenceClassification: ['cls.predictions.bias', 'cls.predictions.transform.dense.weight', 'cls.predictions.transform.dense.bias', 'cls.predictions.transform.LayerNorm.weight', 'cls.predictions.transform.LayerNorm.bias', 'cls.predictions.decoder.weight', 'cls.predictions.decoder.bias', 'cls.seq_relationship.weight', 'cls.seq_relationship.bias']\n",
      "- This IS expected if you are initializing BertForSequenceClassification from the checkpoint of a model trained on another task or with another architecture (e.g. initializing a BertForSequenceClassification model from a BertForPreTraining model).\n",
      "- This IS NOT expected if you are initializing BertForSequenceClassification from the checkpoint of a model that you expect to be exactly identical (initializing a BertForSequenceClassification model from a BertForSequenceClassification model).\n",
      "Some weights of BertForSequenceClassification were not initialized from the model checkpoint at pvl/labse_bert and are newly initialized: ['classifier.weight', 'classifier.bias']\n",
      "You should probably TRAIN this model on a down-stream task to be able to use it for predictions and inference.\n"
     ]
    },
    {
     "data": {
      "text/plain": [
       "BertForSequenceClassification(\n",
       "  (bert): BertModel(\n",
       "    (embeddings): BertEmbeddings(\n",
       "      (word_embeddings): Embedding(501153, 768, padding_idx=0)\n",
       "      (position_embeddings): Embedding(512, 768)\n",
       "      (token_type_embeddings): Embedding(2, 768)\n",
       "      (LayerNorm): LayerNorm((768,), eps=1e-12, elementwise_affine=True)\n",
       "      (dropout): Dropout(p=0.1, inplace=False)\n",
       "    )\n",
       "    (encoder): BertEncoder(\n",
       "      (layer): ModuleList(\n",
       "        (0): BertLayer(\n",
       "          (attention): BertAttention(\n",
       "            (self): BertSelfAttention(\n",
       "              (query): Linear(in_features=768, out_features=768, bias=True)\n",
       "              (key): Linear(in_features=768, out_features=768, bias=True)\n",
       "              (value): Linear(in_features=768, out_features=768, bias=True)\n",
       "              (dropout): Dropout(p=0.1, inplace=False)\n",
       "            )\n",
       "            (output): BertSelfOutput(\n",
       "              (dense): Linear(in_features=768, out_features=768, bias=True)\n",
       "              (LayerNorm): LayerNorm((768,), eps=1e-12, elementwise_affine=True)\n",
       "              (dropout): Dropout(p=0.1, inplace=False)\n",
       "            )\n",
       "          )\n",
       "          (intermediate): BertIntermediate(\n",
       "            (dense): Linear(in_features=768, out_features=3072, bias=True)\n",
       "          )\n",
       "          (output): BertOutput(\n",
       "            (dense): Linear(in_features=3072, out_features=768, bias=True)\n",
       "            (LayerNorm): LayerNorm((768,), eps=1e-12, elementwise_affine=True)\n",
       "            (dropout): Dropout(p=0.1, inplace=False)\n",
       "          )\n",
       "        )\n",
       "        (1): BertLayer(\n",
       "          (attention): BertAttention(\n",
       "            (self): BertSelfAttention(\n",
       "              (query): Linear(in_features=768, out_features=768, bias=True)\n",
       "              (key): Linear(in_features=768, out_features=768, bias=True)\n",
       "              (value): Linear(in_features=768, out_features=768, bias=True)\n",
       "              (dropout): Dropout(p=0.1, inplace=False)\n",
       "            )\n",
       "            (output): BertSelfOutput(\n",
       "              (dense): Linear(in_features=768, out_features=768, bias=True)\n",
       "              (LayerNorm): LayerNorm((768,), eps=1e-12, elementwise_affine=True)\n",
       "              (dropout): Dropout(p=0.1, inplace=False)\n",
       "            )\n",
       "          )\n",
       "          (intermediate): BertIntermediate(\n",
       "            (dense): Linear(in_features=768, out_features=3072, bias=True)\n",
       "          )\n",
       "          (output): BertOutput(\n",
       "            (dense): Linear(in_features=3072, out_features=768, bias=True)\n",
       "            (LayerNorm): LayerNorm((768,), eps=1e-12, elementwise_affine=True)\n",
       "            (dropout): Dropout(p=0.1, inplace=False)\n",
       "          )\n",
       "        )\n",
       "        (2): BertLayer(\n",
       "          (attention): BertAttention(\n",
       "            (self): BertSelfAttention(\n",
       "              (query): Linear(in_features=768, out_features=768, bias=True)\n",
       "              (key): Linear(in_features=768, out_features=768, bias=True)\n",
       "              (value): Linear(in_features=768, out_features=768, bias=True)\n",
       "              (dropout): Dropout(p=0.1, inplace=False)\n",
       "            )\n",
       "            (output): BertSelfOutput(\n",
       "              (dense): Linear(in_features=768, out_features=768, bias=True)\n",
       "              (LayerNorm): LayerNorm((768,), eps=1e-12, elementwise_affine=True)\n",
       "              (dropout): Dropout(p=0.1, inplace=False)\n",
       "            )\n",
       "          )\n",
       "          (intermediate): BertIntermediate(\n",
       "            (dense): Linear(in_features=768, out_features=3072, bias=True)\n",
       "          )\n",
       "          (output): BertOutput(\n",
       "            (dense): Linear(in_features=3072, out_features=768, bias=True)\n",
       "            (LayerNorm): LayerNorm((768,), eps=1e-12, elementwise_affine=True)\n",
       "            (dropout): Dropout(p=0.1, inplace=False)\n",
       "          )\n",
       "        )\n",
       "        (3): BertLayer(\n",
       "          (attention): BertAttention(\n",
       "            (self): BertSelfAttention(\n",
       "              (query): Linear(in_features=768, out_features=768, bias=True)\n",
       "              (key): Linear(in_features=768, out_features=768, bias=True)\n",
       "              (value): Linear(in_features=768, out_features=768, bias=True)\n",
       "              (dropout): Dropout(p=0.1, inplace=False)\n",
       "            )\n",
       "            (output): BertSelfOutput(\n",
       "              (dense): Linear(in_features=768, out_features=768, bias=True)\n",
       "              (LayerNorm): LayerNorm((768,), eps=1e-12, elementwise_affine=True)\n",
       "              (dropout): Dropout(p=0.1, inplace=False)\n",
       "            )\n",
       "          )\n",
       "          (intermediate): BertIntermediate(\n",
       "            (dense): Linear(in_features=768, out_features=3072, bias=True)\n",
       "          )\n",
       "          (output): BertOutput(\n",
       "            (dense): Linear(in_features=3072, out_features=768, bias=True)\n",
       "            (LayerNorm): LayerNorm((768,), eps=1e-12, elementwise_affine=True)\n",
       "            (dropout): Dropout(p=0.1, inplace=False)\n",
       "          )\n",
       "        )\n",
       "        (4): BertLayer(\n",
       "          (attention): BertAttention(\n",
       "            (self): BertSelfAttention(\n",
       "              (query): Linear(in_features=768, out_features=768, bias=True)\n",
       "              (key): Linear(in_features=768, out_features=768, bias=True)\n",
       "              (value): Linear(in_features=768, out_features=768, bias=True)\n",
       "              (dropout): Dropout(p=0.1, inplace=False)\n",
       "            )\n",
       "            (output): BertSelfOutput(\n",
       "              (dense): Linear(in_features=768, out_features=768, bias=True)\n",
       "              (LayerNorm): LayerNorm((768,), eps=1e-12, elementwise_affine=True)\n",
       "              (dropout): Dropout(p=0.1, inplace=False)\n",
       "            )\n",
       "          )\n",
       "          (intermediate): BertIntermediate(\n",
       "            (dense): Linear(in_features=768, out_features=3072, bias=True)\n",
       "          )\n",
       "          (output): BertOutput(\n",
       "            (dense): Linear(in_features=3072, out_features=768, bias=True)\n",
       "            (LayerNorm): LayerNorm((768,), eps=1e-12, elementwise_affine=True)\n",
       "            (dropout): Dropout(p=0.1, inplace=False)\n",
       "          )\n",
       "        )\n",
       "        (5): BertLayer(\n",
       "          (attention): BertAttention(\n",
       "            (self): BertSelfAttention(\n",
       "              (query): Linear(in_features=768, out_features=768, bias=True)\n",
       "              (key): Linear(in_features=768, out_features=768, bias=True)\n",
       "              (value): Linear(in_features=768, out_features=768, bias=True)\n",
       "              (dropout): Dropout(p=0.1, inplace=False)\n",
       "            )\n",
       "            (output): BertSelfOutput(\n",
       "              (dense): Linear(in_features=768, out_features=768, bias=True)\n",
       "              (LayerNorm): LayerNorm((768,), eps=1e-12, elementwise_affine=True)\n",
       "              (dropout): Dropout(p=0.1, inplace=False)\n",
       "            )\n",
       "          )\n",
       "          (intermediate): BertIntermediate(\n",
       "            (dense): Linear(in_features=768, out_features=3072, bias=True)\n",
       "          )\n",
       "          (output): BertOutput(\n",
       "            (dense): Linear(in_features=3072, out_features=768, bias=True)\n",
       "            (LayerNorm): LayerNorm((768,), eps=1e-12, elementwise_affine=True)\n",
       "            (dropout): Dropout(p=0.1, inplace=False)\n",
       "          )\n",
       "        )\n",
       "        (6): BertLayer(\n",
       "          (attention): BertAttention(\n",
       "            (self): BertSelfAttention(\n",
       "              (query): Linear(in_features=768, out_features=768, bias=True)\n",
       "              (key): Linear(in_features=768, out_features=768, bias=True)\n",
       "              (value): Linear(in_features=768, out_features=768, bias=True)\n",
       "              (dropout): Dropout(p=0.1, inplace=False)\n",
       "            )\n",
       "            (output): BertSelfOutput(\n",
       "              (dense): Linear(in_features=768, out_features=768, bias=True)\n",
       "              (LayerNorm): LayerNorm((768,), eps=1e-12, elementwise_affine=True)\n",
       "              (dropout): Dropout(p=0.1, inplace=False)\n",
       "            )\n",
       "          )\n",
       "          (intermediate): BertIntermediate(\n",
       "            (dense): Linear(in_features=768, out_features=3072, bias=True)\n",
       "          )\n",
       "          (output): BertOutput(\n",
       "            (dense): Linear(in_features=3072, out_features=768, bias=True)\n",
       "            (LayerNorm): LayerNorm((768,), eps=1e-12, elementwise_affine=True)\n",
       "            (dropout): Dropout(p=0.1, inplace=False)\n",
       "          )\n",
       "        )\n",
       "        (7): BertLayer(\n",
       "          (attention): BertAttention(\n",
       "            (self): BertSelfAttention(\n",
       "              (query): Linear(in_features=768, out_features=768, bias=True)\n",
       "              (key): Linear(in_features=768, out_features=768, bias=True)\n",
       "              (value): Linear(in_features=768, out_features=768, bias=True)\n",
       "              (dropout): Dropout(p=0.1, inplace=False)\n",
       "            )\n",
       "            (output): BertSelfOutput(\n",
       "              (dense): Linear(in_features=768, out_features=768, bias=True)\n",
       "              (LayerNorm): LayerNorm((768,), eps=1e-12, elementwise_affine=True)\n",
       "              (dropout): Dropout(p=0.1, inplace=False)\n",
       "            )\n",
       "          )\n",
       "          (intermediate): BertIntermediate(\n",
       "            (dense): Linear(in_features=768, out_features=3072, bias=True)\n",
       "          )\n",
       "          (output): BertOutput(\n",
       "            (dense): Linear(in_features=3072, out_features=768, bias=True)\n",
       "            (LayerNorm): LayerNorm((768,), eps=1e-12, elementwise_affine=True)\n",
       "            (dropout): Dropout(p=0.1, inplace=False)\n",
       "          )\n",
       "        )\n",
       "        (8): BertLayer(\n",
       "          (attention): BertAttention(\n",
       "            (self): BertSelfAttention(\n",
       "              (query): Linear(in_features=768, out_features=768, bias=True)\n",
       "              (key): Linear(in_features=768, out_features=768, bias=True)\n",
       "              (value): Linear(in_features=768, out_features=768, bias=True)\n",
       "              (dropout): Dropout(p=0.1, inplace=False)\n",
       "            )\n",
       "            (output): BertSelfOutput(\n",
       "              (dense): Linear(in_features=768, out_features=768, bias=True)\n",
       "              (LayerNorm): LayerNorm((768,), eps=1e-12, elementwise_affine=True)\n",
       "              (dropout): Dropout(p=0.1, inplace=False)\n",
       "            )\n",
       "          )\n",
       "          (intermediate): BertIntermediate(\n",
       "            (dense): Linear(in_features=768, out_features=3072, bias=True)\n",
       "          )\n",
       "          (output): BertOutput(\n",
       "            (dense): Linear(in_features=3072, out_features=768, bias=True)\n",
       "            (LayerNorm): LayerNorm((768,), eps=1e-12, elementwise_affine=True)\n",
       "            (dropout): Dropout(p=0.1, inplace=False)\n",
       "          )\n",
       "        )\n",
       "        (9): BertLayer(\n",
       "          (attention): BertAttention(\n",
       "            (self): BertSelfAttention(\n",
       "              (query): Linear(in_features=768, out_features=768, bias=True)\n",
       "              (key): Linear(in_features=768, out_features=768, bias=True)\n",
       "              (value): Linear(in_features=768, out_features=768, bias=True)\n",
       "              (dropout): Dropout(p=0.1, inplace=False)\n",
       "            )\n",
       "            (output): BertSelfOutput(\n",
       "              (dense): Linear(in_features=768, out_features=768, bias=True)\n",
       "              (LayerNorm): LayerNorm((768,), eps=1e-12, elementwise_affine=True)\n",
       "              (dropout): Dropout(p=0.1, inplace=False)\n",
       "            )\n",
       "          )\n",
       "          (intermediate): BertIntermediate(\n",
       "            (dense): Linear(in_features=768, out_features=3072, bias=True)\n",
       "          )\n",
       "          (output): BertOutput(\n",
       "            (dense): Linear(in_features=3072, out_features=768, bias=True)\n",
       "            (LayerNorm): LayerNorm((768,), eps=1e-12, elementwise_affine=True)\n",
       "            (dropout): Dropout(p=0.1, inplace=False)\n",
       "          )\n",
       "        )\n",
       "        (10): BertLayer(\n",
       "          (attention): BertAttention(\n",
       "            (self): BertSelfAttention(\n",
       "              (query): Linear(in_features=768, out_features=768, bias=True)\n",
       "              (key): Linear(in_features=768, out_features=768, bias=True)\n",
       "              (value): Linear(in_features=768, out_features=768, bias=True)\n",
       "              (dropout): Dropout(p=0.1, inplace=False)\n",
       "            )\n",
       "            (output): BertSelfOutput(\n",
       "              (dense): Linear(in_features=768, out_features=768, bias=True)\n",
       "              (LayerNorm): LayerNorm((768,), eps=1e-12, elementwise_affine=True)\n",
       "              (dropout): Dropout(p=0.1, inplace=False)\n",
       "            )\n",
       "          )\n",
       "          (intermediate): BertIntermediate(\n",
       "            (dense): Linear(in_features=768, out_features=3072, bias=True)\n",
       "          )\n",
       "          (output): BertOutput(\n",
       "            (dense): Linear(in_features=3072, out_features=768, bias=True)\n",
       "            (LayerNorm): LayerNorm((768,), eps=1e-12, elementwise_affine=True)\n",
       "            (dropout): Dropout(p=0.1, inplace=False)\n",
       "          )\n",
       "        )\n",
       "        (11): BertLayer(\n",
       "          (attention): BertAttention(\n",
       "            (self): BertSelfAttention(\n",
       "              (query): Linear(in_features=768, out_features=768, bias=True)\n",
       "              (key): Linear(in_features=768, out_features=768, bias=True)\n",
       "              (value): Linear(in_features=768, out_features=768, bias=True)\n",
       "              (dropout): Dropout(p=0.1, inplace=False)\n",
       "            )\n",
       "            (output): BertSelfOutput(\n",
       "              (dense): Linear(in_features=768, out_features=768, bias=True)\n",
       "              (LayerNorm): LayerNorm((768,), eps=1e-12, elementwise_affine=True)\n",
       "              (dropout): Dropout(p=0.1, inplace=False)\n",
       "            )\n",
       "          )\n",
       "          (intermediate): BertIntermediate(\n",
       "            (dense): Linear(in_features=768, out_features=3072, bias=True)\n",
       "          )\n",
       "          (output): BertOutput(\n",
       "            (dense): Linear(in_features=3072, out_features=768, bias=True)\n",
       "            (LayerNorm): LayerNorm((768,), eps=1e-12, elementwise_affine=True)\n",
       "            (dropout): Dropout(p=0.1, inplace=False)\n",
       "          )\n",
       "        )\n",
       "      )\n",
       "    )\n",
       "    (pooler): BertPooler(\n",
       "      (dense): Linear(in_features=768, out_features=768, bias=True)\n",
       "      (activation): Tanh()\n",
       "    )\n",
       "  )\n",
       "  (dropout): Dropout(p=0.1, inplace=False)\n",
       "  (classifier): Linear(in_features=768, out_features=2, bias=True)\n",
       ")"
      ]
     },
     "execution_count": 48,
     "metadata": {},
     "output_type": "execute_result"
    }
   ],
   "source": [
    "from transformers import BertForSequenceClassification, AdamW, BertConfig\n",
    "# Load BertForSequenceClassification, the pretrained BERT model with a single \n",
    "# linear classification layer on top. \n",
    "model = BertForSequenceClassification.from_pretrained(\n",
    "    \"pvl/labse_bert\", # Use the 12-layer BERT model, with an uncased vocab.\n",
    "    num_labels = 2, # The number of output labels--2 for binary classification.\n",
    "                    # You can increase this for multi-class tasks.   \n",
    "    output_attentions = False, # Whether the model returns attentions weights.\n",
    "    output_hidden_states = True, # Whether the model returns all hidden-states.\n",
    ")\n",
    "# Tell pytorch to run this model on the GPU.\n",
    "model.cuda()"
   ]
  },
  {
   "cell_type": "code",
   "execution_count": 49,
   "metadata": {
    "execution": {
     "iopub.execute_input": "2021-05-18T11:57:57.596709Z",
     "iopub.status.busy": "2021-05-18T11:57:57.595813Z",
     "iopub.status.idle": "2021-05-18T11:57:57.605277Z",
     "shell.execute_reply": "2021-05-18T11:57:57.604853Z"
    },
    "papermill": {
     "duration": 0.099542,
     "end_time": "2021-05-18T11:57:57.605391",
     "exception": false,
     "start_time": "2021-05-18T11:57:57.505849",
     "status": "completed"
    },
    "tags": []
   },
   "outputs": [
    {
     "name": "stdout",
     "output_type": "stream",
     "text": [
      "The BERT model has 201 different named parameters.\n",
      "\n",
      "==== Embedding Layer ====\n",
      "\n",
      "bert.embeddings.word_embeddings.weight                  (501153, 768)\n",
      "bert.embeddings.position_embeddings.weight                (512, 768)\n",
      "bert.embeddings.token_type_embeddings.weight                (2, 768)\n",
      "bert.embeddings.LayerNorm.weight                              (768,)\n",
      "bert.embeddings.LayerNorm.bias                                (768,)\n",
      "\n",
      "==== First Transformer ====\n",
      "\n",
      "bert.encoder.layer.0.attention.self.query.weight          (768, 768)\n",
      "bert.encoder.layer.0.attention.self.query.bias                (768,)\n",
      "bert.encoder.layer.0.attention.self.key.weight            (768, 768)\n",
      "bert.encoder.layer.0.attention.self.key.bias                  (768,)\n",
      "bert.encoder.layer.0.attention.self.value.weight          (768, 768)\n",
      "bert.encoder.layer.0.attention.self.value.bias                (768,)\n",
      "bert.encoder.layer.0.attention.output.dense.weight        (768, 768)\n",
      "bert.encoder.layer.0.attention.output.dense.bias              (768,)\n",
      "bert.encoder.layer.0.attention.output.LayerNorm.weight        (768,)\n",
      "bert.encoder.layer.0.attention.output.LayerNorm.bias          (768,)\n",
      "bert.encoder.layer.0.intermediate.dense.weight           (3072, 768)\n",
      "bert.encoder.layer.0.intermediate.dense.bias                 (3072,)\n",
      "bert.encoder.layer.0.output.dense.weight                 (768, 3072)\n",
      "bert.encoder.layer.0.output.dense.bias                        (768,)\n",
      "bert.encoder.layer.0.output.LayerNorm.weight                  (768,)\n",
      "bert.encoder.layer.0.output.LayerNorm.bias                    (768,)\n",
      "\n",
      "==== Output Layer ====\n",
      "\n",
      "bert.pooler.dense.weight                                  (768, 768)\n",
      "bert.pooler.dense.bias                                        (768,)\n",
      "classifier.weight                                           (2, 768)\n",
      "classifier.bias                                                 (2,)\n"
     ]
    }
   ],
   "source": [
    "# Get all of the model's parameters as a list of tuples.\n",
    "params = list(model.named_parameters())\n",
    "print('The BERT model has {:} different named parameters.\\n'.format(len(params)))\n",
    "print('==== Embedding Layer ====\\n')\n",
    "for p in params[0:5]:\n",
    "    print(\"{:<55} {:>12}\".format(p[0], str(tuple(p[1].size()))))\n",
    "print('\\n==== First Transformer ====\\n')\n",
    "for p in params[5:21]:\n",
    "    print(\"{:<55} {:>12}\".format(p[0], str(tuple(p[1].size()))))\n",
    "print('\\n==== Output Layer ====\\n')\n",
    "for p in params[-4:]:\n",
    "    print(\"{:<55} {:>12}\".format(p[0], str(tuple(p[1].size()))))"
   ]
  },
  {
   "cell_type": "code",
   "execution_count": 50,
   "metadata": {
    "execution": {
     "iopub.execute_input": "2021-05-18T11:57:57.776721Z",
     "iopub.status.busy": "2021-05-18T11:57:57.775688Z",
     "iopub.status.idle": "2021-05-18T11:57:57.778286Z",
     "shell.execute_reply": "2021-05-18T11:57:57.778843Z"
    },
    "papermill": {
     "duration": 0.093245,
     "end_time": "2021-05-18T11:57:57.778984",
     "exception": false,
     "start_time": "2021-05-18T11:57:57.685739",
     "status": "completed"
    },
    "tags": []
   },
   "outputs": [],
   "source": [
    "# Note: AdamW is a class from the huggingface library (as opposed to pytorch) \n",
    "# I believe the 'W' stands for 'Weight Decay fix\"\n",
    "optimizer = AdamW(model.parameters(),\n",
    "                  lr = 2e-5, # args.learning_rate - default is 5e-5, our notebook had 2e-5\n",
    "                  eps = 1e-8 # args.adam_epsilon  - default is 1e-8.\n",
    "                )\n",
    "from transformers import get_linear_schedule_with_warmup\n",
    "# Number of training epochs (authors recommend between 2 and 4)\n",
    "epochs = 2\n",
    "# Total number of training steps is number of batches * number of epochs.\n",
    "total_steps = len(train_dataloader) * epochs\n",
    "# Create the learning rate scheduler.\n",
    "scheduler = get_linear_schedule_with_warmup(optimizer, \n",
    "                                            num_warmup_steps = 0, # Default value in run_glue.py\n",
    "                                            num_training_steps = total_steps)"
   ]
  },
  {
   "cell_type": "code",
   "execution_count": 51,
   "metadata": {
    "execution": {
     "iopub.execute_input": "2021-05-18T11:57:57.946047Z",
     "iopub.status.busy": "2021-05-18T11:57:57.945165Z",
     "iopub.status.idle": "2021-05-18T11:57:57.948340Z",
     "shell.execute_reply": "2021-05-18T11:57:57.947798Z"
    },
    "papermill": {
     "duration": 0.088172,
     "end_time": "2021-05-18T11:57:57.948433",
     "exception": false,
     "start_time": "2021-05-18T11:57:57.860261",
     "status": "completed"
    },
    "tags": []
   },
   "outputs": [],
   "source": [
    "import numpy as np\n",
    "# Function to calculate the accuracy of our predictions vs labels\n",
    "def flat_accuracy(preds, labels):\n",
    "    pred_flat = np.argmax(preds, axis=1).flatten()\n",
    "    labels_flat = labels.flatten()\n",
    "    return np.sum(pred_flat == labels_flat) / len(labels_flat)"
   ]
  },
  {
   "cell_type": "code",
   "execution_count": 52,
   "metadata": {
    "execution": {
     "iopub.execute_input": "2021-05-18T11:57:58.118238Z",
     "iopub.status.busy": "2021-05-18T11:57:58.117348Z",
     "iopub.status.idle": "2021-05-18T11:57:58.120819Z",
     "shell.execute_reply": "2021-05-18T11:57:58.119885Z"
    },
    "papermill": {
     "duration": 0.091311,
     "end_time": "2021-05-18T11:57:58.120942",
     "exception": false,
     "start_time": "2021-05-18T11:57:58.029631",
     "status": "completed"
    },
    "tags": []
   },
   "outputs": [],
   "source": [
    "import time\n",
    "import datetime\n",
    "def format_time(elapsed):\n",
    "    '''\n",
    "    Takes a time in seconds and returns a string hh:mm:ss\n",
    "    '''\n",
    "    # Round to the nearest second.\n",
    "    elapsed_rounded = int(round((elapsed)))\n",
    "    \n",
    "    # Format as hh:mm:ss\n",
    "    return str(datetime.timedelta(seconds=elapsed_rounded))"
   ]
  },
  {
   "cell_type": "markdown",
   "metadata": {
    "papermill": {
     "duration": 0.08136,
     "end_time": "2021-05-18T11:57:58.283916",
     "exception": false,
     "start_time": "2021-05-18T11:57:58.202556",
     "status": "completed"
    },
    "tags": []
   },
   "source": [
    "### Train Model"
   ]
  },
  {
   "cell_type": "code",
   "execution_count": 53,
   "metadata": {
    "execution": {
     "iopub.execute_input": "2021-05-18T11:57:58.479572Z",
     "iopub.status.busy": "2021-05-18T11:57:58.461223Z",
     "iopub.status.idle": "2021-05-18T12:00:25.677014Z",
     "shell.execute_reply": "2021-05-18T12:00:25.675810Z"
    },
    "papermill": {
     "duration": 147.31117,
     "end_time": "2021-05-18T12:00:25.677158",
     "exception": false,
     "start_time": "2021-05-18T11:57:58.365988",
     "status": "completed"
    },
    "tags": []
   },
   "outputs": [
    {
     "name": "stdout",
     "output_type": "stream",
     "text": [
      "\n",
      "======== Epoch 1 / 2 ========\n",
      "Training...\n",
      "  Batch    40  of    150.    Elapsed: 0:00:18.\n",
      "  Batch    80  of    150.    Elapsed: 0:00:36.\n",
      "  Batch   120  of    150.    Elapsed: 0:00:54.\n",
      "\n",
      "  Average training loss: 0.28\n",
      "  Training epcoh took: 0:01:07\n",
      "\n",
      "Running Validation...\n",
      "  Accuracy: 0.92\n",
      "  Average validation loss: 0.26\n",
      "  Validation took: 0:00:07\n",
      "\n",
      "======== Epoch 2 / 2 ========\n",
      "Training...\n",
      "  Batch    40  of    150.    Elapsed: 0:00:18.\n",
      "  Batch    80  of    150.    Elapsed: 0:00:35.\n",
      "  Batch   120  of    150.    Elapsed: 0:00:53.\n",
      "\n",
      "  Average training loss: 0.23\n",
      "  Training epcoh took: 0:01:06\n",
      "\n",
      "Running Validation...\n",
      "  Accuracy: 0.92\n",
      "  Average validation loss: 0.29\n",
      "  Validation took: 0:00:07\n",
      "\n",
      "Training complete!\n"
     ]
    }
   ],
   "source": [
    "import random\n",
    "# This training code is based on the `run_glue.py` script here:\n",
    "# https://github.com/huggingface/transformers/blob/5bfcd0485ece086ebcbed2d008813037968a9e58/examples/run_glue.py#L128\n",
    "# Set the seed value all over the place to make this reproducible.\n",
    "seed_val = 42\n",
    "random.seed(seed_val)\n",
    "np.random.seed(seed_val)\n",
    "torch.manual_seed(seed_val)\n",
    "torch.cuda.manual_seed_all(seed_val)\n",
    "# Store the average loss after each epoch so we can plot them.\n",
    "loss_values = []\n",
    "loss_values_valid = []\n",
    "#embeddings_tr, embeddings_vl = [], []\n",
    "train_predictions, valid_predictions = [], []\n",
    "train_true_labels, valid_true_labels = [], []\n",
    "# Store the hidden states for embedding extraction\n",
    "\n",
    "# For each epoch...\n",
    "for epoch_i in range(0, epochs):\n",
    "    \n",
    "    # ========================================\n",
    "    #               Training\n",
    "    # ========================================\n",
    "    \n",
    "    # Perform one full pass over the training set.\n",
    "    print(\"\")\n",
    "    print('======== Epoch {:} / {:} ========'.format(epoch_i + 1, epochs))\n",
    "    print('Training...')\n",
    "    # Measure how long the training epoch takes.\n",
    "    t0 = time.time()\n",
    "    # Reset the total loss for this epoch.\n",
    "    total_loss = 0\n",
    "    # Put the model into training mode. Don't be mislead--the call to \n",
    "    # `train` just changes the *mode*, it doesn't *perform* the training.\n",
    "    # `dropout` and `batchnorm` layers behave differently during training\n",
    "    # vs. test (source: https://stackoverflow.com/questions/51433378/what-does-model-train-do-in-pytorch)\n",
    "    model.train()\n",
    "    # For each batch of training data...\n",
    "    for step, batch in enumerate(train_dataloader):\n",
    "        # Progress update every 40 batches.\n",
    "        if step % 40 == 0 and not step == 0:\n",
    "            # Calculate elapsed time in minutes.\n",
    "            elapsed = format_time(time.time() - t0)\n",
    "            \n",
    "            # Report progress.\n",
    "            print('  Batch {:>5,}  of  {:>5,}.    Elapsed: {:}.'.format(step, len(train_dataloader), elapsed))\n",
    "        # Unpack this training batch from our dataloader. \n",
    "        #\n",
    "        # As we unpack the batch, we'll also copy each tensor to the GPU using the \n",
    "        # `to` method.\n",
    "        #\n",
    "        # `batch` contains three pytorch tensors:\n",
    "        #   [0]: input ids \n",
    "        #   [1]: attention masks\n",
    "        #   [2]: labels \n",
    "        b_input_ids = batch[0].to(device)\n",
    "        b_input_mask = batch[1].to(device)\n",
    "        b_labels = batch[2].to(device)\n",
    "        # Always clear any previously calculated gradients before performing a\n",
    "        # backward pass. PyTorch doesn't do this automatically because \n",
    "        # accumulating the gradients is \"convenient while training RNNs\". \n",
    "        # (source: https://stackoverflow.com/questions/48001598/why-do-we-need-to-call-zero-grad-in-pytorch)\n",
    "        model.zero_grad()        \n",
    "        # Perform a forward pass (evaluate the model on this training batch).\n",
    "        # This will return the loss (rather than the model output) because we\n",
    "        # have provided the `labels`.\n",
    "        # The documentation for this `model` function is here: \n",
    "        # https://huggingface.co/transformers/v2.2.0/model_doc/bert.html#transformers.BertForSequenceClassification\n",
    "        outputs_a = model(b_input_ids, \n",
    "                    token_type_ids=None, \n",
    "                    attention_mask=b_input_mask, \n",
    "                    labels=b_labels)\n",
    "        \n",
    "        # The call to `model` always returns a tuple, so we need to pull the \n",
    "        # loss value out of the tuple.\n",
    "        loss = outputs_a[0]\n",
    "        logits_tr = outputs_a[1]\n",
    "        #hidden_state_tr = outputs_a[2]\n",
    "        #features = hidden_state_tr[0][:,0,:].detach().cpu().numpy()\n",
    "        #embeddings_tr.append([epoch_i,batch[3], features]) # FIX AS NO BACKPROP WEIGHT ADJUSTED\n",
    "        # Accumulate the training loss over all of the batches so that we can\n",
    "        # calculate the average loss at the end. `loss` is a Tensor containing a\n",
    "        # single value; the `.item()` function just returns the Python value \n",
    "        # from the tensor.\n",
    "        # Move logits, hidden states, and labels to CPU\n",
    "        logits_tr = logits_tr.detach().cpu().numpy()\n",
    "        label_ids = b_labels.to('cpu').numpy()\n",
    "        #train_predictions.append([epoch_i,logits_tr])\n",
    "        #train_true_labels.append([epoch_i,label_ids])\n",
    "\n",
    "        total_loss += loss.item()\n",
    "        # Perform a backward pass to calculate the gradients.\n",
    "        loss.backward()\n",
    "        # Clip the norm of the gradients to 1.0.\n",
    "        # This is to help prevent the \"exploding gradients\" problem.\n",
    "        torch.nn.utils.clip_grad_norm_(model.parameters(), 1.0)\n",
    "        # Update parameters and take a step using the computed gradient.\n",
    "        # The optimizer dictates the \"update rule\"--how the parameters are\n",
    "        # modified based on their gradients, the learning rate, etc.\n",
    "        optimizer.step()\n",
    "        # Update the learning rate.\n",
    "        scheduler.step()\n",
    "    # Calculate the average loss over the training data.\n",
    "    avg_train_loss = total_loss / len(train_dataloader)            \n",
    "\n",
    "    # Store the loss value for plotting the learning curve.\n",
    "    loss_values.append(avg_train_loss)\n",
    "    print(\"\")\n",
    "    print(\"  Average training loss: {0:.2f}\".format(avg_train_loss))\n",
    "    print(\"  Training epcoh took: {:}\".format(format_time(time.time() - t0)))\n",
    "    \n",
    "    # ========================================\n",
    "    #               Validation\n",
    "    # ========================================\n",
    "    # After the completion of each training epoch, measure our performance on\n",
    "    # our validation set.\n",
    "    print(\"\")\n",
    "    print(\"Running Validation...\")\n",
    "    t0 = time.time()\n",
    "    # Put the model in evaluation mode--the dropout layers behave differently\n",
    "    # during evaluation.\n",
    "    model.eval()\n",
    "    # Tracking variables \n",
    "    eval_loss, eval_accuracy = 0, 0\n",
    "    nb_eval_steps, nb_eval_examples = 0, 0\n",
    "    # Evaluate data for one epoch\n",
    "    for batch in validation_dataloader:\n",
    "        \n",
    "        # Add batch to GPU\n",
    "        b_input_ids = batch[0].to(device)\n",
    "        b_input_mask = batch[1].to(device)\n",
    "        b_labels = batch[2].to(device)\n",
    "        \n",
    "        # Telling the model not to compute or store gradients, saving memory and\n",
    "        # speeding up validation\n",
    "        with torch.no_grad():        \n",
    "            # Forward pass, calculate logit predictions.\n",
    "            # This will return the logits rather than the loss because we have\n",
    "            # not provided labels.\n",
    "            # token_type_ids is the same as the \"segment ids\", which \n",
    "            # differentiates sentence 1 and 2 in 2-sentence tasks.\n",
    "            # The documentation for this `model` function is here: \n",
    "            # https://huggingface.co/transformers/v2.2.0/model_doc/bert.html#transformers.BertForSequenceClassification\n",
    "            outputs = model(b_input_ids, \n",
    "                            token_type_ids=None, \n",
    "                            attention_mask=b_input_mask,\n",
    "                            labels=b_labels)\n",
    "        \n",
    "        # Get the \"logits\" output by the model. The \"logits\" are the output\n",
    "        # values prior to applying an activation function like the softmax.\n",
    "        loss = outputs[0]\n",
    "        logits = outputs[1]\n",
    "        #hidden_state_vl = outputs[2]\n",
    "        #features = hidden_state_vl[0][:,0,:].detach().cpu().numpy()\n",
    "        #embeddings_vl.append([epoch_i,batch[3], features])\n",
    "        \n",
    "        # Track Loss\n",
    "        eval_loss += loss.item()\n",
    "\n",
    "        # Move logits, hidden states, and labels to CPU\n",
    "        logits = logits.detach().cpu().numpy()\n",
    "        #hidden_state_vl = hidden_state_vl.detach().cpu().numpy()\n",
    "        label_ids = b_labels.to('cpu').numpy()\n",
    "\n",
    "        valid_predictions.append([epoch_i,logits])\n",
    "        valid_true_labels.append([epoch_i,label_ids])\n",
    "        \n",
    "        # Calculate the accuracy for this batch of test sentences.\n",
    "        tmp_eval_accuracy = flat_accuracy(logits, label_ids)\n",
    "        \n",
    "        # Accumulate the total accuracy.\n",
    "        eval_accuracy += tmp_eval_accuracy\n",
    "        # Track the number of batches\n",
    "        nb_eval_steps += 1\n",
    "    \n",
    "    # Calculate the average loss over the training data.\n",
    "    avg_valid_loss = eval_loss / len(validation_dataloader)   \n",
    "\n",
    "    # Report the final accuracy for this validation run.\n",
    "    loss_values_valid.append(avg_valid_loss)\n",
    "    print(\"  Accuracy: {0:.2f}\".format(eval_accuracy/nb_eval_steps))\n",
    "    print(\"  Average validation loss: {0:.2f}\".format(avg_valid_loss))\n",
    "    print(\"  Validation took: {:}\".format(format_time(time.time() - t0)))\n",
    "    \n",
    "print(\"\")\n",
    "print(\"Training complete!\")        "
   ]
  },
  {
   "cell_type": "markdown",
   "metadata": {
    "papermill": {
     "duration": 0.083066,
     "end_time": "2021-05-18T12:00:25.843125",
     "exception": false,
     "start_time": "2021-05-18T12:00:25.760059",
     "status": "completed"
    },
    "tags": []
   },
   "source": [
    "### Plot Training and Validation Loss"
   ]
  },
  {
   "cell_type": "code",
   "execution_count": 54,
   "metadata": {
    "execution": {
     "iopub.execute_input": "2021-05-18T12:00:26.028932Z",
     "iopub.status.busy": "2021-05-18T12:00:26.028091Z",
     "iopub.status.idle": "2021-05-18T12:00:26.033261Z",
     "shell.execute_reply": "2021-05-18T12:00:26.032855Z"
    },
    "papermill": {
     "duration": 0.108087,
     "end_time": "2021-05-18T12:00:26.033373",
     "exception": false,
     "start_time": "2021-05-18T12:00:25.925286",
     "status": "completed"
    },
    "tags": []
   },
   "outputs": [
    {
     "data": {
      "text/html": [
       "<div>\n",
       "<style scoped>\n",
       "    .dataframe tbody tr th:only-of-type {\n",
       "        vertical-align: middle;\n",
       "    }\n",
       "\n",
       "    .dataframe tbody tr th {\n",
       "        vertical-align: top;\n",
       "    }\n",
       "\n",
       "    .dataframe thead th {\n",
       "        text-align: right;\n",
       "    }\n",
       "</style>\n",
       "<table border=\"1\" class=\"dataframe\">\n",
       "  <thead>\n",
       "    <tr style=\"text-align: right;\">\n",
       "      <th></th>\n",
       "      <th>epoch</th>\n",
       "      <th>variable</th>\n",
       "      <th>value</th>\n",
       "    </tr>\n",
       "  </thead>\n",
       "  <tbody>\n",
       "    <tr>\n",
       "      <th>0</th>\n",
       "      <td>0</td>\n",
       "      <td>Train Loss</td>\n",
       "      <td>0.284940</td>\n",
       "    </tr>\n",
       "    <tr>\n",
       "      <th>1</th>\n",
       "      <td>1</td>\n",
       "      <td>Train Loss</td>\n",
       "      <td>0.226401</td>\n",
       "    </tr>\n",
       "    <tr>\n",
       "      <th>2</th>\n",
       "      <td>0</td>\n",
       "      <td>Valid Loss</td>\n",
       "      <td>0.264512</td>\n",
       "    </tr>\n",
       "    <tr>\n",
       "      <th>3</th>\n",
       "      <td>1</td>\n",
       "      <td>Valid Loss</td>\n",
       "      <td>0.286764</td>\n",
       "    </tr>\n",
       "  </tbody>\n",
       "</table>\n",
       "</div>"
      ],
      "text/plain": [
       "   epoch    variable     value\n",
       "0      0  Train Loss  0.284940\n",
       "1      1  Train Loss  0.226401\n",
       "2      0  Valid Loss  0.264512\n",
       "3      1  Valid Loss  0.286764"
      ]
     },
     "execution_count": 54,
     "metadata": {},
     "output_type": "execute_result"
    }
   ],
   "source": [
    "df= pd.DataFrame({'epoch': range(0, epochs), 'Train Loss': loss_values, 'Valid Loss': loss_values_valid})\n",
    "df = pd.melt(df, id_vars=['epoch'], value_vars=['Train Loss', 'Valid Loss'])\n",
    "df"
   ]
  },
  {
   "cell_type": "code",
   "execution_count": 55,
   "metadata": {
    "execution": {
     "iopub.execute_input": "2021-05-18T12:00:26.207203Z",
     "iopub.status.busy": "2021-05-18T12:00:26.206621Z",
     "iopub.status.idle": "2021-05-18T12:00:28.985984Z",
     "shell.execute_reply": "2021-05-18T12:00:28.985021Z"
    },
    "papermill": {
     "duration": 2.868422,
     "end_time": "2021-05-18T12:00:28.986100",
     "exception": false,
     "start_time": "2021-05-18T12:00:26.117678",
     "status": "completed"
    },
    "tags": []
   },
   "outputs": [
    {
     "data": {
      "text/html": [
       "        <script type=\"text/javascript\">\n",
       "        window.PlotlyConfig = {MathJaxConfig: 'local'};\n",
       "        if (window.MathJax) {MathJax.Hub.Config({SVG: {font: \"STIX-Web\"}});}\n",
       "        if (typeof require !== 'undefined') {\n",
       "        require.undef(\"plotly\");\n",
       "        requirejs.config({\n",
       "            paths: {\n",
       "                'plotly': ['https://cdn.plot.ly/plotly-latest.min']\n",
       "            }\n",
       "        });\n",
       "        require(['plotly'], function(Plotly) {\n",
       "            window._Plotly = Plotly;\n",
       "        });\n",
       "        }\n",
       "        </script>\n",
       "        "
      ]
     },
     "metadata": {},
     "output_type": "display_data"
    },
    {
     "data": {
      "text/html": [
       "<div>                            <div id=\"85af0797-3fa7-4476-b387-d215c8dd7497\" class=\"plotly-graph-div\" style=\"height:525px; width:100%;\"></div>            <script type=\"text/javascript\">                require([\"plotly\"], function(Plotly) {                    window.PLOTLYENV=window.PLOTLYENV || {};                                    if (document.getElementById(\"85af0797-3fa7-4476-b387-d215c8dd7497\")) {                    Plotly.newPlot(                        \"85af0797-3fa7-4476-b387-d215c8dd7497\",                        [{\"hovertemplate\": \"variable=Train Loss<br>epoch=%{x}<br>value=%{y}<extra></extra>\", \"legendgroup\": \"Train Loss\", \"line\": {\"color\": \"#636efa\", \"dash\": \"solid\"}, \"mode\": \"lines\", \"name\": \"Train Loss\", \"orientation\": \"v\", \"showlegend\": true, \"type\": \"scatter\", \"x\": [0, 1], \"xaxis\": \"x\", \"y\": [0.28494004098077613, 0.22640096385031938], \"yaxis\": \"y\"}, {\"hovertemplate\": \"variable=Valid Loss<br>epoch=%{x}<br>value=%{y}<extra></extra>\", \"legendgroup\": \"Valid Loss\", \"line\": {\"color\": \"#EF553B\", \"dash\": \"solid\"}, \"mode\": \"lines\", \"name\": \"Valid Loss\", \"orientation\": \"v\", \"showlegend\": true, \"type\": \"scatter\", \"x\": [0, 1], \"xaxis\": \"x\", \"y\": [0.2645124001128058, 0.2867635006024953], \"yaxis\": \"y\"}],                        {\"legend\": {\"title\": {\"text\": \"variable\"}, \"tracegroupgap\": 0}, \"margin\": {\"t\": 60}, \"template\": {\"data\": {\"bar\": [{\"error_x\": {\"color\": \"#2a3f5f\"}, \"error_y\": {\"color\": \"#2a3f5f\"}, \"marker\": {\"line\": {\"color\": \"#E5ECF6\", \"width\": 0.5}}, \"type\": \"bar\"}], \"barpolar\": [{\"marker\": {\"line\": {\"color\": \"#E5ECF6\", \"width\": 0.5}}, \"type\": \"barpolar\"}], \"carpet\": [{\"aaxis\": {\"endlinecolor\": \"#2a3f5f\", \"gridcolor\": \"white\", \"linecolor\": \"white\", \"minorgridcolor\": \"white\", \"startlinecolor\": \"#2a3f5f\"}, \"baxis\": {\"endlinecolor\": \"#2a3f5f\", \"gridcolor\": \"white\", \"linecolor\": \"white\", \"minorgridcolor\": \"white\", \"startlinecolor\": \"#2a3f5f\"}, \"type\": \"carpet\"}], \"choropleth\": [{\"colorbar\": {\"outlinewidth\": 0, \"ticks\": \"\"}, \"type\": \"choropleth\"}], \"contour\": [{\"colorbar\": {\"outlinewidth\": 0, \"ticks\": \"\"}, \"colorscale\": [[0.0, \"#0d0887\"], [0.1111111111111111, \"#46039f\"], [0.2222222222222222, \"#7201a8\"], [0.3333333333333333, \"#9c179e\"], [0.4444444444444444, \"#bd3786\"], [0.5555555555555556, \"#d8576b\"], [0.6666666666666666, \"#ed7953\"], [0.7777777777777778, \"#fb9f3a\"], [0.8888888888888888, \"#fdca26\"], [1.0, \"#f0f921\"]], \"type\": \"contour\"}], \"contourcarpet\": [{\"colorbar\": {\"outlinewidth\": 0, \"ticks\": \"\"}, \"type\": \"contourcarpet\"}], \"heatmap\": [{\"colorbar\": {\"outlinewidth\": 0, \"ticks\": \"\"}, \"colorscale\": [[0.0, \"#0d0887\"], [0.1111111111111111, \"#46039f\"], [0.2222222222222222, \"#7201a8\"], [0.3333333333333333, \"#9c179e\"], [0.4444444444444444, \"#bd3786\"], [0.5555555555555556, \"#d8576b\"], [0.6666666666666666, \"#ed7953\"], [0.7777777777777778, \"#fb9f3a\"], [0.8888888888888888, \"#fdca26\"], [1.0, \"#f0f921\"]], \"type\": \"heatmap\"}], \"heatmapgl\": [{\"colorbar\": {\"outlinewidth\": 0, \"ticks\": \"\"}, \"colorscale\": [[0.0, \"#0d0887\"], [0.1111111111111111, \"#46039f\"], [0.2222222222222222, \"#7201a8\"], [0.3333333333333333, \"#9c179e\"], [0.4444444444444444, \"#bd3786\"], [0.5555555555555556, \"#d8576b\"], [0.6666666666666666, \"#ed7953\"], [0.7777777777777778, \"#fb9f3a\"], [0.8888888888888888, \"#fdca26\"], [1.0, \"#f0f921\"]], \"type\": \"heatmapgl\"}], \"histogram\": [{\"marker\": {\"colorbar\": {\"outlinewidth\": 0, \"ticks\": \"\"}}, \"type\": \"histogram\"}], \"histogram2d\": [{\"colorbar\": {\"outlinewidth\": 0, \"ticks\": \"\"}, \"colorscale\": [[0.0, \"#0d0887\"], [0.1111111111111111, \"#46039f\"], [0.2222222222222222, \"#7201a8\"], [0.3333333333333333, \"#9c179e\"], [0.4444444444444444, \"#bd3786\"], [0.5555555555555556, \"#d8576b\"], [0.6666666666666666, \"#ed7953\"], [0.7777777777777778, \"#fb9f3a\"], [0.8888888888888888, \"#fdca26\"], [1.0, \"#f0f921\"]], \"type\": \"histogram2d\"}], \"histogram2dcontour\": [{\"colorbar\": {\"outlinewidth\": 0, \"ticks\": \"\"}, \"colorscale\": [[0.0, \"#0d0887\"], [0.1111111111111111, \"#46039f\"], [0.2222222222222222, \"#7201a8\"], [0.3333333333333333, \"#9c179e\"], [0.4444444444444444, \"#bd3786\"], [0.5555555555555556, \"#d8576b\"], [0.6666666666666666, \"#ed7953\"], [0.7777777777777778, \"#fb9f3a\"], [0.8888888888888888, \"#fdca26\"], [1.0, \"#f0f921\"]], \"type\": \"histogram2dcontour\"}], \"mesh3d\": [{\"colorbar\": {\"outlinewidth\": 0, \"ticks\": \"\"}, \"type\": \"mesh3d\"}], \"parcoords\": [{\"line\": {\"colorbar\": {\"outlinewidth\": 0, \"ticks\": \"\"}}, \"type\": \"parcoords\"}], \"pie\": [{\"automargin\": true, \"type\": \"pie\"}], \"scatter\": [{\"marker\": {\"colorbar\": {\"outlinewidth\": 0, \"ticks\": \"\"}}, \"type\": \"scatter\"}], \"scatter3d\": [{\"line\": {\"colorbar\": {\"outlinewidth\": 0, \"ticks\": \"\"}}, \"marker\": {\"colorbar\": {\"outlinewidth\": 0, \"ticks\": \"\"}}, \"type\": \"scatter3d\"}], \"scattercarpet\": [{\"marker\": {\"colorbar\": {\"outlinewidth\": 0, \"ticks\": \"\"}}, \"type\": \"scattercarpet\"}], \"scattergeo\": [{\"marker\": {\"colorbar\": {\"outlinewidth\": 0, \"ticks\": \"\"}}, \"type\": \"scattergeo\"}], \"scattergl\": [{\"marker\": {\"colorbar\": {\"outlinewidth\": 0, \"ticks\": \"\"}}, \"type\": \"scattergl\"}], \"scattermapbox\": [{\"marker\": {\"colorbar\": {\"outlinewidth\": 0, \"ticks\": \"\"}}, \"type\": \"scattermapbox\"}], \"scatterpolar\": [{\"marker\": {\"colorbar\": {\"outlinewidth\": 0, \"ticks\": \"\"}}, \"type\": \"scatterpolar\"}], \"scatterpolargl\": [{\"marker\": {\"colorbar\": {\"outlinewidth\": 0, \"ticks\": \"\"}}, \"type\": \"scatterpolargl\"}], \"scatterternary\": [{\"marker\": {\"colorbar\": {\"outlinewidth\": 0, \"ticks\": \"\"}}, \"type\": \"scatterternary\"}], \"surface\": [{\"colorbar\": {\"outlinewidth\": 0, \"ticks\": \"\"}, \"colorscale\": [[0.0, \"#0d0887\"], [0.1111111111111111, \"#46039f\"], [0.2222222222222222, \"#7201a8\"], [0.3333333333333333, \"#9c179e\"], [0.4444444444444444, \"#bd3786\"], [0.5555555555555556, \"#d8576b\"], [0.6666666666666666, \"#ed7953\"], [0.7777777777777778, \"#fb9f3a\"], [0.8888888888888888, \"#fdca26\"], [1.0, \"#f0f921\"]], \"type\": \"surface\"}], \"table\": [{\"cells\": {\"fill\": {\"color\": \"#EBF0F8\"}, \"line\": {\"color\": \"white\"}}, \"header\": {\"fill\": {\"color\": \"#C8D4E3\"}, \"line\": {\"color\": \"white\"}}, \"type\": \"table\"}]}, \"layout\": {\"annotationdefaults\": {\"arrowcolor\": \"#2a3f5f\", \"arrowhead\": 0, \"arrowwidth\": 1}, \"autotypenumbers\": \"strict\", \"coloraxis\": {\"colorbar\": {\"outlinewidth\": 0, \"ticks\": \"\"}}, \"colorscale\": {\"diverging\": [[0, \"#8e0152\"], [0.1, \"#c51b7d\"], [0.2, \"#de77ae\"], [0.3, \"#f1b6da\"], [0.4, \"#fde0ef\"], [0.5, \"#f7f7f7\"], [0.6, \"#e6f5d0\"], [0.7, \"#b8e186\"], [0.8, \"#7fbc41\"], [0.9, \"#4d9221\"], [1, \"#276419\"]], \"sequential\": [[0.0, \"#0d0887\"], [0.1111111111111111, \"#46039f\"], [0.2222222222222222, \"#7201a8\"], [0.3333333333333333, \"#9c179e\"], [0.4444444444444444, \"#bd3786\"], [0.5555555555555556, \"#d8576b\"], [0.6666666666666666, \"#ed7953\"], [0.7777777777777778, \"#fb9f3a\"], [0.8888888888888888, \"#fdca26\"], [1.0, \"#f0f921\"]], \"sequentialminus\": [[0.0, \"#0d0887\"], [0.1111111111111111, \"#46039f\"], [0.2222222222222222, \"#7201a8\"], [0.3333333333333333, \"#9c179e\"], [0.4444444444444444, \"#bd3786\"], [0.5555555555555556, \"#d8576b\"], [0.6666666666666666, \"#ed7953\"], [0.7777777777777778, \"#fb9f3a\"], [0.8888888888888888, \"#fdca26\"], [1.0, \"#f0f921\"]]}, \"colorway\": [\"#636efa\", \"#EF553B\", \"#00cc96\", \"#ab63fa\", \"#FFA15A\", \"#19d3f3\", \"#FF6692\", \"#B6E880\", \"#FF97FF\", \"#FECB52\"], \"font\": {\"color\": \"#2a3f5f\"}, \"geo\": {\"bgcolor\": \"white\", \"lakecolor\": \"white\", \"landcolor\": \"#E5ECF6\", \"showlakes\": true, \"showland\": true, \"subunitcolor\": \"white\"}, \"hoverlabel\": {\"align\": \"left\"}, \"hovermode\": \"closest\", \"mapbox\": {\"style\": \"light\"}, \"paper_bgcolor\": \"white\", \"plot_bgcolor\": \"#E5ECF6\", \"polar\": {\"angularaxis\": {\"gridcolor\": \"white\", \"linecolor\": \"white\", \"ticks\": \"\"}, \"bgcolor\": \"#E5ECF6\", \"radialaxis\": {\"gridcolor\": \"white\", \"linecolor\": \"white\", \"ticks\": \"\"}}, \"scene\": {\"xaxis\": {\"backgroundcolor\": \"#E5ECF6\", \"gridcolor\": \"white\", \"gridwidth\": 2, \"linecolor\": \"white\", \"showbackground\": true, \"ticks\": \"\", \"zerolinecolor\": \"white\"}, \"yaxis\": {\"backgroundcolor\": \"#E5ECF6\", \"gridcolor\": \"white\", \"gridwidth\": 2, \"linecolor\": \"white\", \"showbackground\": true, \"ticks\": \"\", \"zerolinecolor\": \"white\"}, \"zaxis\": {\"backgroundcolor\": \"#E5ECF6\", \"gridcolor\": \"white\", \"gridwidth\": 2, \"linecolor\": \"white\", \"showbackground\": true, \"ticks\": \"\", \"zerolinecolor\": \"white\"}}, \"shapedefaults\": {\"line\": {\"color\": \"#2a3f5f\"}}, \"ternary\": {\"aaxis\": {\"gridcolor\": \"white\", \"linecolor\": \"white\", \"ticks\": \"\"}, \"baxis\": {\"gridcolor\": \"white\", \"linecolor\": \"white\", \"ticks\": \"\"}, \"bgcolor\": \"#E5ECF6\", \"caxis\": {\"gridcolor\": \"white\", \"linecolor\": \"white\", \"ticks\": \"\"}}, \"title\": {\"x\": 0.05}, \"xaxis\": {\"automargin\": true, \"gridcolor\": \"white\", \"linecolor\": \"white\", \"ticks\": \"\", \"title\": {\"standoff\": 15}, \"zerolinecolor\": \"white\", \"zerolinewidth\": 2}, \"yaxis\": {\"automargin\": true, \"gridcolor\": \"white\", \"linecolor\": \"white\", \"ticks\": \"\", \"title\": {\"standoff\": 15}, \"zerolinecolor\": \"white\", \"zerolinewidth\": 2}}}, \"title\": {\"text\": \"Training loss of the Model\"}, \"xaxis\": {\"anchor\": \"y\", \"domain\": [0.0, 1.0], \"title\": {\"text\": \"Epoch\"}}, \"yaxis\": {\"anchor\": \"x\", \"domain\": [0.0, 1.0], \"title\": {\"text\": \"Loss\"}}},                        {\"responsive\": true}                    ).then(function(){\n",
       "                            \n",
       "var gd = document.getElementById('85af0797-3fa7-4476-b387-d215c8dd7497');\n",
       "var x = new MutationObserver(function (mutations, observer) {{\n",
       "        var display = window.getComputedStyle(gd).display;\n",
       "        if (!display || display === 'none') {{\n",
       "            console.log([gd, 'removed!']);\n",
       "            Plotly.purge(gd);\n",
       "            observer.disconnect();\n",
       "        }}\n",
       "}});\n",
       "\n",
       "// Listen for the removal of the full notebook cells\n",
       "var notebookContainer = gd.closest('#notebook-container');\n",
       "if (notebookContainer) {{\n",
       "    x.observe(notebookContainer, {childList: true});\n",
       "}}\n",
       "\n",
       "// Listen for the clearing of the current output cell\n",
       "var outputEl = gd.closest('.output');\n",
       "if (outputEl) {{\n",
       "    x.observe(outputEl, {childList: true});\n",
       "}}\n",
       "\n",
       "                        })                };                });            </script>        </div>"
      ]
     },
     "metadata": {},
     "output_type": "display_data"
    }
   ],
   "source": [
    "import plotly.express as px\n",
    "\n",
    "fig = px.line(df, x='epoch', y='value', color = 'variable')\n",
    "fig.update_layout(title='Training loss of the Model',\n",
    "                   xaxis_title='Epoch',\n",
    "                   yaxis_title='Loss')\n",
    "fig.show()"
   ]
  },
  {
   "cell_type": "markdown",
   "metadata": {
    "papermill": {
     "duration": 0.091336,
     "end_time": "2021-05-18T12:00:29.165693",
     "exception": false,
     "start_time": "2021-05-18T12:00:29.074357",
     "status": "completed"
    },
    "tags": []
   },
   "source": [
    "### Extract embeddings"
   ]
  },
  {
   "cell_type": "code",
   "execution_count": 56,
   "metadata": {
    "execution": {
     "iopub.execute_input": "2021-05-18T12:00:29.361447Z",
     "iopub.status.busy": "2021-05-18T12:00:29.358495Z",
     "iopub.status.idle": "2021-05-18T12:00:54.981285Z",
     "shell.execute_reply": "2021-05-18T12:00:54.980694Z"
    },
    "papermill": {
     "duration": 25.726842,
     "end_time": "2021-05-18T12:00:54.981415",
     "exception": false,
     "start_time": "2021-05-18T12:00:29.254573",
     "status": "completed"
    },
    "tags": []
   },
   "outputs": [
    {
     "name": "stdout",
     "output_type": "stream",
     "text": [
      "Extracting embeddinga for 4,771 train sentences...\n",
      "Extracting embeddinga for 1,957 validation sentences...\n"
     ]
    }
   ],
   "source": [
    "embeddings_tr, embeddings_vl = [], []\n",
    "# ========================================\n",
    "#               Train\n",
    "# ========================================\n",
    "# Extract embeddinga on train set\n",
    "print('Extracting embeddinga for {:,} train sentences...'.format(len(train_inputs)))\n",
    "# Put model in evaluation mode\n",
    "model.eval()\n",
    "# Tracking variables \n",
    "predictions_train , true_labels_train = [], []\n",
    "# Predict \n",
    "for batch in train_dataloader_sequential:\n",
    "    b_input_ids = batch[0].to(device)\n",
    "    b_input_mask = batch[1].to(device)\n",
    "    b_labels = batch[2].to(device)\n",
    "  \n",
    "  # Telling the model not to compute or store gradients, saving memory and \n",
    "  # speeding up prediction\n",
    "    with torch.no_grad():\n",
    "        # Forward pass, calculate logit predictions\n",
    "        outputs = model(b_input_ids, token_type_ids=None, \n",
    "                      attention_mask=b_input_mask, labels=b_labels)\n",
    "    logits = outputs[1]\n",
    "    # Embeddings extraction approach is to average the second to last hiden layer of each token producing a single 768 length vector\n",
    "    # https://mccormickml.com/2019/05/14/BERT-word-embeddings-tutorial/\n",
    "    hidden_state_tr = outputs[2]\n",
    "    token_vecs = hidden_state_tr[-2]\n",
    "    token_vecs_sentvecs = []\n",
    "    for token in token_vecs:\n",
    "        sentvecs = torch.mean(token, dim=0).detach().cpu().numpy()\n",
    "        token_vecs_sentvecs.append(sentvecs)\n",
    "    #features = hidden_state_tr[0][:,0,:].detach().cpu().numpy()\n",
    "    embeddings_tr.append([batch[3], token_vecs_sentvecs])\n",
    "    # Move logits and labels to CPU\n",
    "    logits = logits.detach().cpu().numpy()\n",
    "    label_ids = b_labels.to('cpu').numpy()\n",
    "\n",
    "    # Store predictions and true labels\n",
    "    predictions_train.append(logits)\n",
    "    true_labels_train.append(label_ids)\n",
    "# ========================================\n",
    "#               Validation\n",
    "# ========================================\n",
    "# Extract embeddinga on train set\n",
    "print('Extracting embeddinga for {:,} validation sentences...'.format(len(validation_inputs)))\n",
    "# Put model in evaluation mode\n",
    "model.eval()\n",
    "# Tracking variables \n",
    "predictions_valid, true_labels_valid = [], []\n",
    "# Predict \n",
    "for batch in validation_dataloader:\n",
    "    b_input_ids = batch[0].to(device)\n",
    "    b_input_mask = batch[1].to(device)\n",
    "    b_labels = batch[2].to(device)\n",
    "  \n",
    "  # Telling the model not to compute or store gradients, saving memory and \n",
    "  # speeding up prediction\n",
    "    with torch.no_grad():\n",
    "        # Forward pass, calculate logit predictions\n",
    "        outputs = model(b_input_ids, token_type_ids=None, \n",
    "                      attention_mask=b_input_mask, labels=b_labels)\n",
    "    logits = outputs[1]\n",
    "    # Embeddings extraction approach is to average the second to last hiden layer of each token producing a single 768 length vector\n",
    "    # https://mccormickml.com/2019/05/14/BERT-word-embeddings-tutorial/\n",
    "    hidden_state_vl = outputs[2]\n",
    "    token_vecs = hidden_state_vl[-2]\n",
    "    token_vecs_sentvecs = []\n",
    "    for token in token_vecs:\n",
    "        sentvecs = torch.mean(token, dim=0).detach().cpu().numpy()\n",
    "        token_vecs_sentvecs.append(sentvecs)\n",
    "    #features = hidden_state_vl[0][:,0,:].detach().cpu().numpy()\n",
    "    embeddings_vl.append([batch[3], token_vecs_sentvecs])\n",
    "    # Move logits and labels to CPU\n",
    "    logits = logits.detach().cpu().numpy()\n",
    "    label_ids = b_labels.to('cpu').numpy()\n",
    "\n",
    "    # Store predictions and true labels\n",
    "    predictions_valid.append(logits)\n",
    "    true_labels_valid.append(label_ids)"
   ]
  },
  {
   "cell_type": "markdown",
   "metadata": {
    "papermill": {
     "duration": 0.087792,
     "end_time": "2021-05-18T12:00:55.155528",
     "exception": false,
     "start_time": "2021-05-18T12:00:55.067736",
     "status": "completed"
    },
    "tags": []
   },
   "source": [
    "### Combine Embeddings with original DF and Output CM"
   ]
  },
  {
   "cell_type": "markdown",
   "metadata": {
    "papermill": {
     "duration": 0.085264,
     "end_time": "2021-05-18T12:00:55.329787",
     "exception": false,
     "start_time": "2021-05-18T12:00:55.244523",
     "status": "completed"
    },
    "tags": []
   },
   "source": [
    "Train"
   ]
  },
  {
   "cell_type": "code",
   "execution_count": 57,
   "metadata": {
    "execution": {
     "iopub.execute_input": "2021-05-18T12:00:55.510493Z",
     "iopub.status.busy": "2021-05-18T12:00:55.509642Z",
     "iopub.status.idle": "2021-05-18T12:00:57.037180Z",
     "shell.execute_reply": "2021-05-18T12:00:57.036256Z"
    },
    "papermill": {
     "duration": 1.622375,
     "end_time": "2021-05-18T12:00:57.037372",
     "exception": false,
     "start_time": "2021-05-18T12:00:55.414997",
     "status": "completed"
    },
    "tags": []
   },
   "outputs": [
    {
     "name": "stdout",
     "output_type": "stream",
     "text": [
      "Train Embeddings Extraction and Merge DONE\n"
     ]
    },
    {
     "data": {
      "text/html": [
       "<div>\n",
       "<style scoped>\n",
       "    .dataframe tbody tr th:only-of-type {\n",
       "        vertical-align: middle;\n",
       "    }\n",
       "\n",
       "    .dataframe tbody tr th {\n",
       "        vertical-align: top;\n",
       "    }\n",
       "\n",
       "    .dataframe thead th {\n",
       "        text-align: right;\n",
       "    }\n",
       "</style>\n",
       "<table border=\"1\" class=\"dataframe\">\n",
       "  <thead>\n",
       "    <tr style=\"text-align: right;\">\n",
       "      <th></th>\n",
       "      <th>user.id</th>\n",
       "      <th>suspended</th>\n",
       "      <th>0</th>\n",
       "      <th>1</th>\n",
       "      <th>2</th>\n",
       "      <th>3</th>\n",
       "      <th>4</th>\n",
       "      <th>5</th>\n",
       "      <th>6</th>\n",
       "      <th>7</th>\n",
       "      <th>...</th>\n",
       "      <th>758</th>\n",
       "      <th>759</th>\n",
       "      <th>760</th>\n",
       "      <th>761</th>\n",
       "      <th>762</th>\n",
       "      <th>763</th>\n",
       "      <th>764</th>\n",
       "      <th>765</th>\n",
       "      <th>766</th>\n",
       "      <th>767</th>\n",
       "    </tr>\n",
       "  </thead>\n",
       "  <tbody>\n",
       "    <tr>\n",
       "      <th>0</th>\n",
       "      <td>1.278122e+18</td>\n",
       "      <td>0</td>\n",
       "      <td>0.046610</td>\n",
       "      <td>0.020898</td>\n",
       "      <td>-0.022532</td>\n",
       "      <td>-0.006640</td>\n",
       "      <td>-0.107654</td>\n",
       "      <td>0.276069</td>\n",
       "      <td>0.030149</td>\n",
       "      <td>-0.054184</td>\n",
       "      <td>...</td>\n",
       "      <td>-0.081605</td>\n",
       "      <td>0.020870</td>\n",
       "      <td>-0.023222</td>\n",
       "      <td>-0.025072</td>\n",
       "      <td>0.014875</td>\n",
       "      <td>-0.039322</td>\n",
       "      <td>-0.053001</td>\n",
       "      <td>0.067552</td>\n",
       "      <td>-0.108939</td>\n",
       "      <td>0.024718</td>\n",
       "    </tr>\n",
       "    <tr>\n",
       "      <th>1</th>\n",
       "      <td>1.278129e+18</td>\n",
       "      <td>0</td>\n",
       "      <td>-0.052408</td>\n",
       "      <td>0.305231</td>\n",
       "      <td>-0.195436</td>\n",
       "      <td>0.042841</td>\n",
       "      <td>0.011304</td>\n",
       "      <td>0.280702</td>\n",
       "      <td>0.092690</td>\n",
       "      <td>0.172850</td>\n",
       "      <td>...</td>\n",
       "      <td>-0.225963</td>\n",
       "      <td>0.172594</td>\n",
       "      <td>0.047113</td>\n",
       "      <td>0.014383</td>\n",
       "      <td>-0.075412</td>\n",
       "      <td>-0.050905</td>\n",
       "      <td>0.058306</td>\n",
       "      <td>-0.108825</td>\n",
       "      <td>-0.126849</td>\n",
       "      <td>0.091072</td>\n",
       "    </tr>\n",
       "    <tr>\n",
       "      <th>2</th>\n",
       "      <td>1.278132e+18</td>\n",
       "      <td>0</td>\n",
       "      <td>0.012771</td>\n",
       "      <td>0.333036</td>\n",
       "      <td>0.176189</td>\n",
       "      <td>-0.053035</td>\n",
       "      <td>-0.042577</td>\n",
       "      <td>0.340084</td>\n",
       "      <td>0.114790</td>\n",
       "      <td>-0.297765</td>\n",
       "      <td>...</td>\n",
       "      <td>-0.153460</td>\n",
       "      <td>0.210094</td>\n",
       "      <td>-0.001862</td>\n",
       "      <td>0.005657</td>\n",
       "      <td>-0.132393</td>\n",
       "      <td>-0.067234</td>\n",
       "      <td>0.078292</td>\n",
       "      <td>0.246322</td>\n",
       "      <td>-0.186385</td>\n",
       "      <td>0.029853</td>\n",
       "    </tr>\n",
       "    <tr>\n",
       "      <th>3</th>\n",
       "      <td>1.278132e+18</td>\n",
       "      <td>0</td>\n",
       "      <td>0.160074</td>\n",
       "      <td>0.129054</td>\n",
       "      <td>0.080459</td>\n",
       "      <td>0.299211</td>\n",
       "      <td>-0.015947</td>\n",
       "      <td>0.305542</td>\n",
       "      <td>0.062128</td>\n",
       "      <td>0.010599</td>\n",
       "      <td>...</td>\n",
       "      <td>-0.030698</td>\n",
       "      <td>0.237886</td>\n",
       "      <td>-0.100268</td>\n",
       "      <td>-0.089056</td>\n",
       "      <td>0.027476</td>\n",
       "      <td>-0.046742</td>\n",
       "      <td>-0.276393</td>\n",
       "      <td>0.222162</td>\n",
       "      <td>-0.071978</td>\n",
       "      <td>0.092656</td>\n",
       "    </tr>\n",
       "    <tr>\n",
       "      <th>4</th>\n",
       "      <td>1.278138e+18</td>\n",
       "      <td>0</td>\n",
       "      <td>0.010421</td>\n",
       "      <td>0.014035</td>\n",
       "      <td>-0.067847</td>\n",
       "      <td>0.021346</td>\n",
       "      <td>-0.020050</td>\n",
       "      <td>0.200578</td>\n",
       "      <td>0.067287</td>\n",
       "      <td>0.077797</td>\n",
       "      <td>...</td>\n",
       "      <td>-0.026961</td>\n",
       "      <td>-0.058278</td>\n",
       "      <td>-0.037287</td>\n",
       "      <td>0.043755</td>\n",
       "      <td>0.058266</td>\n",
       "      <td>-0.038832</td>\n",
       "      <td>-0.068646</td>\n",
       "      <td>0.030743</td>\n",
       "      <td>-0.083484</td>\n",
       "      <td>0.033954</td>\n",
       "    </tr>\n",
       "  </tbody>\n",
       "</table>\n",
       "<p>5 rows × 770 columns</p>\n",
       "</div>"
      ],
      "text/plain": [
       "        user.id  suspended         0         1         2         3         4  \\\n",
       "0  1.278122e+18          0  0.046610  0.020898 -0.022532 -0.006640 -0.107654   \n",
       "1  1.278129e+18          0 -0.052408  0.305231 -0.195436  0.042841  0.011304   \n",
       "2  1.278132e+18          0  0.012771  0.333036  0.176189 -0.053035 -0.042577   \n",
       "3  1.278132e+18          0  0.160074  0.129054  0.080459  0.299211 -0.015947   \n",
       "4  1.278138e+18          0  0.010421  0.014035 -0.067847  0.021346 -0.020050   \n",
       "\n",
       "          5         6         7  ...       758       759       760       761  \\\n",
       "0  0.276069  0.030149 -0.054184  ... -0.081605  0.020870 -0.023222 -0.025072   \n",
       "1  0.280702  0.092690  0.172850  ... -0.225963  0.172594  0.047113  0.014383   \n",
       "2  0.340084  0.114790 -0.297765  ... -0.153460  0.210094 -0.001862  0.005657   \n",
       "3  0.305542  0.062128  0.010599  ... -0.030698  0.237886 -0.100268 -0.089056   \n",
       "4  0.200578  0.067287  0.077797  ... -0.026961 -0.058278 -0.037287  0.043755   \n",
       "\n",
       "        762       763       764       765       766       767  \n",
       "0  0.014875 -0.039322 -0.053001  0.067552 -0.108939  0.024718  \n",
       "1 -0.075412 -0.050905  0.058306 -0.108825 -0.126849  0.091072  \n",
       "2 -0.132393 -0.067234  0.078292  0.246322 -0.186385  0.029853  \n",
       "3  0.027476 -0.046742 -0.276393  0.222162 -0.071978  0.092656  \n",
       "4  0.058266 -0.038832 -0.068646  0.030743 -0.083484  0.033954  \n",
       "\n",
       "[5 rows x 770 columns]"
      ]
     },
     "execution_count": 57,
     "metadata": {},
     "output_type": "execute_result"
    }
   ],
   "source": [
    "# Get embeddings for train\n",
    "p = [group for group in embeddings_tr]\n",
    "\n",
    "b = [item for sublist in [[list(t) for t in zip(sublist[0], sublist[1])] for sublist in p] for item in sublist]\n",
    "df = pd.DataFrame(b, columns = ['id', 'embeddings'])  \n",
    "\n",
    "bert_embeddings_df_train = pd.concat([df['id'], df['embeddings'].apply(pd.Series)], axis = 1)\n",
    "bert_embeddings_df_train['id'] = bert_embeddings_df_train['id'].apply(lambda x: x.item())\n",
    "#bert_embeddings_df_train = pd.merge(df_train.drop(['text'], axis=1), bert_embeddings_df_train, left_on = [\"id\"], right_on = [\"id\"])\n",
    "bert_embeddings_df_train = pd.merge(df_train.drop(['text'], axis=1), bert_embeddings_df_train.drop(['id'], axis=1), left_index=True, right_index=True)\n",
    "print('Train Embeddings Extraction and Merge DONE')\n",
    "bert_embeddings_df_train.head()"
   ]
  },
  {
   "cell_type": "code",
   "execution_count": 58,
   "metadata": {
    "execution": {
     "iopub.execute_input": "2021-05-18T12:00:57.626249Z",
     "iopub.status.busy": "2021-05-18T12:00:57.625238Z",
     "iopub.status.idle": "2021-05-18T12:00:57.893843Z",
     "shell.execute_reply": "2021-05-18T12:00:57.895087Z"
    },
    "papermill": {
     "duration": 0.585809,
     "end_time": "2021-05-18T12:00:57.895292",
     "exception": false,
     "start_time": "2021-05-18T12:00:57.309483",
     "status": "completed"
    },
    "tags": []
   },
   "outputs": [
    {
     "name": "stdout",
     "output_type": "stream",
     "text": [
      "Calculating Matthews Corr. Coef. for each batch...\n"
     ]
    },
    {
     "name": "stderr",
     "output_type": "stream",
     "text": [
      "/opt/conda/lib/python3.7/site-packages/sklearn/metrics/_classification.py:846: RuntimeWarning:\n",
      "\n",
      "invalid value encountered in double_scalars\n",
      "\n"
     ]
    }
   ],
   "source": [
    "from sklearn.metrics import matthews_corrcoef\n",
    "matthews_set = []\n",
    "# Evaluate each test batch using Matthew's correlation coefficient\n",
    "print('Calculating Matthews Corr. Coef. for each batch...')\n",
    "# For each input batch...\n",
    "for i in range(len(true_labels_train)):\n",
    "  \n",
    "    # The predictions for this batch are a 2-column ndarray (one column for \"0\" \n",
    "    # and one column for \"1\"). Pick the label with the highest value and turn this\n",
    "    # in to a list of 0s and 1s.\n",
    "    pred_labels_i = np.argmax(predictions_train[i], axis=1).flatten()\n",
    "\n",
    "    # Calculate and store the coef for this batch.  \n",
    "    matthews = matthews_corrcoef(true_labels_train[i], pred_labels_i)                \n",
    "    matthews_set.append(matthews)"
   ]
  },
  {
   "cell_type": "code",
   "execution_count": 59,
   "metadata": {
    "execution": {
     "iopub.execute_input": "2021-05-18T12:00:58.109257Z",
     "iopub.status.busy": "2021-05-18T12:00:58.108450Z",
     "iopub.status.idle": "2021-05-18T12:00:58.128342Z",
     "shell.execute_reply": "2021-05-18T12:00:58.127531Z"
    },
    "papermill": {
     "duration": 0.120283,
     "end_time": "2021-05-18T12:00:58.128491",
     "exception": false,
     "start_time": "2021-05-18T12:00:58.008208",
     "status": "completed"
    },
    "tags": []
   },
   "outputs": [
    {
     "name": "stdout",
     "output_type": "stream",
     "text": [
      "MCC: 0.389\n"
     ]
    }
   ],
   "source": [
    "# Combine the predictions for each batch into a single list of 0s and 1s.\n",
    "flat_predictions = [item for sublist in predictions_train for item in sublist]\n",
    "flat_predictions = np.argmax(flat_predictions, axis=1).flatten()\n",
    "# Combine the correct labels for each batch into a single list.\n",
    "flat_true_labels = [item for sublist in true_labels_train for item in sublist]\n",
    "# Calculate the MCC\n",
    "mcc = matthews_corrcoef(flat_true_labels, flat_predictions)\n",
    "print('MCC: %.3f' % mcc)"
   ]
  },
  {
   "cell_type": "code",
   "execution_count": 60,
   "metadata": {
    "execution": {
     "iopub.execute_input": "2021-05-18T12:00:58.342605Z",
     "iopub.status.busy": "2021-05-18T12:00:58.341354Z",
     "iopub.status.idle": "2021-05-18T12:00:58.357987Z",
     "shell.execute_reply": "2021-05-18T12:00:58.357299Z"
    },
    "papermill": {
     "duration": 0.127738,
     "end_time": "2021-05-18T12:00:58.358110",
     "exception": false,
     "start_time": "2021-05-18T12:00:58.230372",
     "status": "completed"
    },
    "tags": []
   },
   "outputs": [
    {
     "name": "stdout",
     "output_type": "stream",
     "text": [
      "              precision    recall  f1-score   support\n",
      "\n",
      "           0       0.93      1.00      0.96      4374\n",
      "           1       0.92      0.18      0.30       397\n",
      "\n",
      "    accuracy                           0.93      4771\n",
      "   macro avg       0.93      0.59      0.63      4771\n",
      "weighted avg       0.93      0.93      0.91      4771\n",
      "\n"
     ]
    }
   ],
   "source": [
    "from sklearn.metrics import classification_report,confusion_matrix\n",
    "report = classification_report(flat_true_labels, flat_predictions)\n",
    "print(report)"
   ]
  },
  {
   "cell_type": "code",
   "execution_count": 61,
   "metadata": {
    "execution": {
     "iopub.execute_input": "2021-05-18T12:00:58.568859Z",
     "iopub.status.busy": "2021-05-18T12:00:58.567957Z",
     "iopub.status.idle": "2021-05-18T12:00:58.572239Z",
     "shell.execute_reply": "2021-05-18T12:00:58.571533Z"
    },
    "papermill": {
     "duration": 0.110673,
     "end_time": "2021-05-18T12:00:58.572378",
     "exception": false,
     "start_time": "2021-05-18T12:00:58.461705",
     "status": "completed"
    },
    "tags": []
   },
   "outputs": [],
   "source": [
    "def plot_roc_curve(fpr, tpr, label=None):\n",
    "    plt.plot(fpr, tpr, linewidth=2, label=label)\n",
    "    plt.plot([0, 1], [0, 1], 'k--') # dashed diagonal\n",
    "    plt.axis([0, 1, 0, 1])                                    # Not shown in the book\n",
    "    plt.xlabel('False Positive Rate (Fall-Out)', fontsize=16) # Not shown\n",
    "    plt.ylabel('True Positive Rate (Recall)', fontsize=16)    # Not shown\n",
    "    plt.grid(True)  "
   ]
  },
  {
   "cell_type": "code",
   "execution_count": 62,
   "metadata": {
    "execution": {
     "iopub.execute_input": "2021-05-18T12:00:58.779531Z",
     "iopub.status.busy": "2021-05-18T12:00:58.778652Z",
     "iopub.status.idle": "2021-05-18T12:00:58.980652Z",
     "shell.execute_reply": "2021-05-18T12:00:58.981147Z"
    },
    "papermill": {
     "duration": 0.303573,
     "end_time": "2021-05-18T12:00:58.981284",
     "exception": false,
     "start_time": "2021-05-18T12:00:58.677711",
     "status": "completed"
    },
    "tags": []
   },
   "outputs": [
    {
     "data": {
      "image/png": "[encoded data removed]",
      "text/plain": [
       "<Figure size 576x432 with 1 Axes>"
      ]
     },
     "metadata": {
      "needs_background": "light"
     },
     "output_type": "display_data"
    }
   ],
   "source": [
    "fpr, tpr, thresholds = roc_curve(flat_true_labels, flat_predictions)\n",
    "plt.figure(figsize=(8, 6))                         # Not shown\n",
    "plot_roc_curve(fpr, tpr)\n",
    "plt.plot([4.837e-3, 4.837e-3], [0., 0.4368], \"r:\") # Not shown\n",
    "plt.plot([0.0, 4.837e-3], [0.4368, 0.4368], \"r:\")  # Not shown\n",
    "plt.plot([4.837e-3], [0.4368], \"ro\")               # Not shown\n",
    "plt.show()"
   ]
  },
  {
   "cell_type": "code",
   "execution_count": 63,
   "metadata": {
    "execution": {
     "iopub.execute_input": "2021-05-18T12:00:59.190595Z",
     "iopub.status.busy": "2021-05-18T12:00:59.189682Z",
     "iopub.status.idle": "2021-05-18T12:00:59.197148Z",
     "shell.execute_reply": "2021-05-18T12:00:59.196562Z"
    },
    "papermill": {
     "duration": 0.112798,
     "end_time": "2021-05-18T12:00:59.197263",
     "exception": false,
     "start_time": "2021-05-18T12:00:59.084465",
     "status": "completed"
    },
    "tags": []
   },
   "outputs": [
    {
     "data": {
      "text/plain": [
       "0.5887347838555974"
      ]
     },
     "execution_count": 63,
     "metadata": {},
     "output_type": "execute_result"
    }
   ],
   "source": [
    "roc_auc_score(flat_true_labels, flat_predictions)"
   ]
  },
  {
   "cell_type": "markdown",
   "metadata": {
    "papermill": {
     "duration": 0.091106,
     "end_time": "2021-05-18T12:00:59.380393",
     "exception": false,
     "start_time": "2021-05-18T12:00:59.289287",
     "status": "completed"
    },
    "tags": []
   },
   "source": [
    "Valid"
   ]
  },
  {
   "cell_type": "code",
   "execution_count": 64,
   "metadata": {
    "execution": {
     "iopub.execute_input": "2021-05-18T12:00:59.569185Z",
     "iopub.status.busy": "2021-05-18T12:00:59.568618Z",
     "iopub.status.idle": "2021-05-18T12:01:00.010358Z",
     "shell.execute_reply": "2021-05-18T12:01:00.011178Z"
    },
    "papermill": {
     "duration": 0.541108,
     "end_time": "2021-05-18T12:01:00.011377",
     "exception": false,
     "start_time": "2021-05-18T12:00:59.470269",
     "status": "completed"
    },
    "tags": []
   },
   "outputs": [
    {
     "name": "stdout",
     "output_type": "stream",
     "text": [
      "Valid Embeddings Extraction and Merge DONE.\n"
     ]
    },
    {
     "data": {
      "text/html": [
       "<div>\n",
       "<style scoped>\n",
       "    .dataframe tbody tr th:only-of-type {\n",
       "        vertical-align: middle;\n",
       "    }\n",
       "\n",
       "    .dataframe tbody tr th {\n",
       "        vertical-align: top;\n",
       "    }\n",
       "\n",
       "    .dataframe thead th {\n",
       "        text-align: right;\n",
       "    }\n",
       "</style>\n",
       "<table border=\"1\" class=\"dataframe\">\n",
       "  <thead>\n",
       "    <tr style=\"text-align: right;\">\n",
       "      <th></th>\n",
       "      <th>user.id</th>\n",
       "      <th>suspended</th>\n",
       "      <th>0</th>\n",
       "      <th>1</th>\n",
       "      <th>2</th>\n",
       "      <th>3</th>\n",
       "      <th>4</th>\n",
       "      <th>5</th>\n",
       "      <th>6</th>\n",
       "      <th>7</th>\n",
       "      <th>...</th>\n",
       "      <th>758</th>\n",
       "      <th>759</th>\n",
       "      <th>760</th>\n",
       "      <th>761</th>\n",
       "      <th>762</th>\n",
       "      <th>763</th>\n",
       "      <th>764</th>\n",
       "      <th>765</th>\n",
       "      <th>766</th>\n",
       "      <th>767</th>\n",
       "    </tr>\n",
       "  </thead>\n",
       "  <tbody>\n",
       "    <tr>\n",
       "      <th>0</th>\n",
       "      <td>1.278120e+18</td>\n",
       "      <td>1</td>\n",
       "      <td>-0.011223</td>\n",
       "      <td>0.255820</td>\n",
       "      <td>-0.172341</td>\n",
       "      <td>0.044769</td>\n",
       "      <td>-0.080109</td>\n",
       "      <td>0.384937</td>\n",
       "      <td>0.080740</td>\n",
       "      <td>0.293240</td>\n",
       "      <td>...</td>\n",
       "      <td>-0.156360</td>\n",
       "      <td>0.201728</td>\n",
       "      <td>0.040180</td>\n",
       "      <td>-0.189817</td>\n",
       "      <td>-0.035686</td>\n",
       "      <td>-0.061312</td>\n",
       "      <td>0.064372</td>\n",
       "      <td>-0.003398</td>\n",
       "      <td>-0.150104</td>\n",
       "      <td>0.053318</td>\n",
       "    </tr>\n",
       "    <tr>\n",
       "      <th>1</th>\n",
       "      <td>1.278120e+18</td>\n",
       "      <td>1</td>\n",
       "      <td>0.030726</td>\n",
       "      <td>0.192853</td>\n",
       "      <td>-0.171727</td>\n",
       "      <td>0.023986</td>\n",
       "      <td>0.000216</td>\n",
       "      <td>0.277899</td>\n",
       "      <td>0.119524</td>\n",
       "      <td>0.409350</td>\n",
       "      <td>...</td>\n",
       "      <td>-0.178702</td>\n",
       "      <td>0.166780</td>\n",
       "      <td>0.024258</td>\n",
       "      <td>-0.043776</td>\n",
       "      <td>-0.041250</td>\n",
       "      <td>-0.012893</td>\n",
       "      <td>-0.002620</td>\n",
       "      <td>-0.002070</td>\n",
       "      <td>-0.070195</td>\n",
       "      <td>0.074838</td>\n",
       "    </tr>\n",
       "    <tr>\n",
       "      <th>2</th>\n",
       "      <td>1.278120e+18</td>\n",
       "      <td>1</td>\n",
       "      <td>-0.036338</td>\n",
       "      <td>0.221714</td>\n",
       "      <td>-0.059664</td>\n",
       "      <td>0.063651</td>\n",
       "      <td>-0.052342</td>\n",
       "      <td>0.392083</td>\n",
       "      <td>0.112569</td>\n",
       "      <td>0.150254</td>\n",
       "      <td>...</td>\n",
       "      <td>-0.131630</td>\n",
       "      <td>0.237061</td>\n",
       "      <td>-0.032327</td>\n",
       "      <td>-0.131936</td>\n",
       "      <td>0.034665</td>\n",
       "      <td>-0.035206</td>\n",
       "      <td>0.003722</td>\n",
       "      <td>0.133027</td>\n",
       "      <td>-0.145463</td>\n",
       "      <td>0.057453</td>\n",
       "    </tr>\n",
       "    <tr>\n",
       "      <th>3</th>\n",
       "      <td>1.278120e+18</td>\n",
       "      <td>1</td>\n",
       "      <td>0.055759</td>\n",
       "      <td>0.300820</td>\n",
       "      <td>-0.149310</td>\n",
       "      <td>0.096670</td>\n",
       "      <td>0.018987</td>\n",
       "      <td>0.302969</td>\n",
       "      <td>0.216810</td>\n",
       "      <td>0.095935</td>\n",
       "      <td>...</td>\n",
       "      <td>-0.234246</td>\n",
       "      <td>0.178186</td>\n",
       "      <td>0.057546</td>\n",
       "      <td>-0.055866</td>\n",
       "      <td>-0.085369</td>\n",
       "      <td>-0.073151</td>\n",
       "      <td>0.062803</td>\n",
       "      <td>0.011178</td>\n",
       "      <td>-0.152838</td>\n",
       "      <td>0.080862</td>\n",
       "    </tr>\n",
       "    <tr>\n",
       "      <th>4</th>\n",
       "      <td>1.278120e+18</td>\n",
       "      <td>1</td>\n",
       "      <td>0.048272</td>\n",
       "      <td>0.271169</td>\n",
       "      <td>-0.114371</td>\n",
       "      <td>-0.041405</td>\n",
       "      <td>-0.025393</td>\n",
       "      <td>0.355706</td>\n",
       "      <td>0.143762</td>\n",
       "      <td>0.159999</td>\n",
       "      <td>...</td>\n",
       "      <td>-0.247536</td>\n",
       "      <td>0.187162</td>\n",
       "      <td>0.096134</td>\n",
       "      <td>-0.082156</td>\n",
       "      <td>-0.130238</td>\n",
       "      <td>-0.072257</td>\n",
       "      <td>0.128118</td>\n",
       "      <td>0.067744</td>\n",
       "      <td>-0.172304</td>\n",
       "      <td>0.102889</td>\n",
       "    </tr>\n",
       "  </tbody>\n",
       "</table>\n",
       "<p>5 rows × 770 columns</p>\n",
       "</div>"
      ],
      "text/plain": [
       "        user.id  suspended         0         1         2         3         4  \\\n",
       "0  1.278120e+18          1 -0.011223  0.255820 -0.172341  0.044769 -0.080109   \n",
       "1  1.278120e+18          1  0.030726  0.192853 -0.171727  0.023986  0.000216   \n",
       "2  1.278120e+18          1 -0.036338  0.221714 -0.059664  0.063651 -0.052342   \n",
       "3  1.278120e+18          1  0.055759  0.300820 -0.149310  0.096670  0.018987   \n",
       "4  1.278120e+18          1  0.048272  0.271169 -0.114371 -0.041405 -0.025393   \n",
       "\n",
       "          5         6         7  ...       758       759       760       761  \\\n",
       "0  0.384937  0.080740  0.293240  ... -0.156360  0.201728  0.040180 -0.189817   \n",
       "1  0.277899  0.119524  0.409350  ... -0.178702  0.166780  0.024258 -0.043776   \n",
       "2  0.392083  0.112569  0.150254  ... -0.131630  0.237061 -0.032327 -0.131936   \n",
       "3  0.302969  0.216810  0.095935  ... -0.234246  0.178186  0.057546 -0.055866   \n",
       "4  0.355706  0.143762  0.159999  ... -0.247536  0.187162  0.096134 -0.082156   \n",
       "\n",
       "        762       763       764       765       766       767  \n",
       "0 -0.035686 -0.061312  0.064372 -0.003398 -0.150104  0.053318  \n",
       "1 -0.041250 -0.012893 -0.002620 -0.002070 -0.070195  0.074838  \n",
       "2  0.034665 -0.035206  0.003722  0.133027 -0.145463  0.057453  \n",
       "3 -0.085369 -0.073151  0.062803  0.011178 -0.152838  0.080862  \n",
       "4 -0.130238 -0.072257  0.128118  0.067744 -0.172304  0.102889  \n",
       "\n",
       "[5 rows x 770 columns]"
      ]
     },
     "execution_count": 64,
     "metadata": {},
     "output_type": "execute_result"
    }
   ],
   "source": [
    "# Get embeddings for valid\n",
    "p = [group for group in embeddings_vl]\n",
    "\n",
    "b = [item for sublist in [[list(t) for t in zip(sublist[0], sublist[1])] for sublist in p] for item in sublist]\n",
    "df = pd.DataFrame(b, columns = ['id', 'embeddings'])  \n",
    "\n",
    "bert_embeddings_df_valid = pd.concat([df['id'], df['embeddings'].apply(pd.Series)], axis = 1)\n",
    "bert_embeddings_df_valid['id'] = bert_embeddings_df_valid['id'].apply(lambda x: x.item())\n",
    "#bert_embeddings_df_valid = pd.merge(df_valid.drop(['text'], axis=1), bert_embeddings_df_valid, left_on = [\"id\"], right_on = [\"id\"])\n",
    "bert_embeddings_df_valid = pd.merge(df_valid.drop(['text'], axis=1), bert_embeddings_df_valid.drop(['id'], axis=1), left_index=True, right_index=True)\n",
    "print('Valid Embeddings Extraction and Merge DONE.')\n",
    "bert_embeddings_df_valid.head()"
   ]
  },
  {
   "cell_type": "code",
   "execution_count": 65,
   "metadata": {
    "execution": {
     "iopub.execute_input": "2021-05-18T12:01:00.222378Z",
     "iopub.status.busy": "2021-05-18T12:01:00.221195Z",
     "iopub.status.idle": "2021-05-18T12:01:00.278421Z",
     "shell.execute_reply": "2021-05-18T12:01:00.277587Z"
    },
    "papermill": {
     "duration": 0.167191,
     "end_time": "2021-05-18T12:01:00.278577",
     "exception": false,
     "start_time": "2021-05-18T12:01:00.111386",
     "status": "completed"
    },
    "tags": []
   },
   "outputs": [
    {
     "name": "stdout",
     "output_type": "stream",
     "text": [
      "Calculating Matthews Corr. Coef. for each batch...\n"
     ]
    },
    {
     "name": "stderr",
     "output_type": "stream",
     "text": [
      "/opt/conda/lib/python3.7/site-packages/sklearn/metrics/_classification.py:846: RuntimeWarning:\n",
      "\n",
      "invalid value encountered in double_scalars\n",
      "\n"
     ]
    }
   ],
   "source": [
    "from sklearn.metrics import matthews_corrcoef\n",
    "matthews_set = []\n",
    "# Evaluate each test batch using Matthew's correlation coefficient\n",
    "print('Calculating Matthews Corr. Coef. for each batch...')\n",
    "# For each input batch...\n",
    "for i in range(len(true_labels_valid)):\n",
    "  \n",
    "    # The predictions for this batch are a 2-column ndarray (one column for \"0\" \n",
    "    # and one column for \"1\"). Pick the label with the highest value and turn this\n",
    "    # in to a list of 0s and 1s.\n",
    "    pred_labels_i = np.argmax(predictions_valid[i], axis=1).flatten()\n",
    "\n",
    "    # Calculate and store the coef for this batch.  \n",
    "    matthews = matthews_corrcoef(true_labels_valid[i], pred_labels_i)                \n",
    "    matthews_set.append(matthews)"
   ]
  },
  {
   "cell_type": "code",
   "execution_count": 66,
   "metadata": {
    "execution": {
     "iopub.execute_input": "2021-05-18T12:01:00.491825Z",
     "iopub.status.busy": "2021-05-18T12:01:00.491033Z",
     "iopub.status.idle": "2021-05-18T12:01:00.504617Z",
     "shell.execute_reply": "2021-05-18T12:01:00.503893Z"
    },
    "papermill": {
     "duration": 0.121091,
     "end_time": "2021-05-18T12:01:00.504761",
     "exception": false,
     "start_time": "2021-05-18T12:01:00.383670",
     "status": "completed"
    },
    "tags": []
   },
   "outputs": [
    {
     "name": "stdout",
     "output_type": "stream",
     "text": [
      "MCC: 0.006\n"
     ]
    }
   ],
   "source": [
    "# Combine the predictions for each batch into a single list of 0s and 1s.\n",
    "flat_predictions = [item for sublist in predictions_valid for item in sublist]\n",
    "flat_predictions = np.argmax(flat_predictions, axis=1).flatten()\n",
    "# Combine the correct labels for each batch into a single list.\n",
    "flat_true_labels = [item for sublist in true_labels_valid for item in sublist]\n",
    "# Calculate the MCC\n",
    "mcc = matthews_corrcoef(flat_true_labels, flat_predictions)\n",
    "print('MCC: %.3f' % mcc)"
   ]
  },
  {
   "cell_type": "code",
   "execution_count": 67,
   "metadata": {
    "execution": {
     "iopub.execute_input": "2021-05-18T12:01:00.708304Z",
     "iopub.status.busy": "2021-05-18T12:01:00.707734Z",
     "iopub.status.idle": "2021-05-18T12:01:00.718501Z",
     "shell.execute_reply": "2021-05-18T12:01:00.718907Z"
    },
    "papermill": {
     "duration": 0.109936,
     "end_time": "2021-05-18T12:01:00.719053",
     "exception": false,
     "start_time": "2021-05-18T12:01:00.609117",
     "status": "completed"
    },
    "tags": []
   },
   "outputs": [
    {
     "name": "stdout",
     "output_type": "stream",
     "text": [
      "              precision    recall  f1-score   support\n",
      "\n",
      "           0       0.92      1.00      0.96      1805\n",
      "           1       0.10      0.01      0.01       152\n",
      "\n",
      "    accuracy                           0.92      1957\n",
      "   macro avg       0.51      0.50      0.48      1957\n",
      "weighted avg       0.86      0.92      0.88      1957\n",
      "\n"
     ]
    }
   ],
   "source": [
    "from sklearn.metrics import classification_report,confusion_matrix\n",
    "report = classification_report(flat_true_labels, flat_predictions)\n",
    "print(report)"
   ]
  },
  {
   "cell_type": "code",
   "execution_count": 68,
   "metadata": {
    "execution": {
     "iopub.execute_input": "2021-05-18T12:01:00.913407Z",
     "iopub.status.busy": "2021-05-18T12:01:00.912320Z",
     "iopub.status.idle": "2021-05-18T12:01:01.056538Z",
     "shell.execute_reply": "2021-05-18T12:01:01.056966Z"
    },
    "papermill": {
     "duration": 0.244703,
     "end_time": "2021-05-18T12:01:01.057116",
     "exception": false,
     "start_time": "2021-05-18T12:01:00.812413",
     "status": "completed"
    },
    "tags": []
   },
   "outputs": [
    {
     "data": {
      "image/png": "[encoded data removed]",
      "text/plain": [
       "<Figure size 576x432 with 1 Axes>"
      ]
     },
     "metadata": {
      "needs_background": "light"
     },
     "output_type": "display_data"
    }
   ],
   "source": [
    "fpr, tpr, thresholds = roc_curve(flat_true_labels, flat_predictions)\n",
    "plt.figure(figsize=(8, 6))                         # Not shown\n",
    "plot_roc_curve(fpr, tpr)\n",
    "plt.plot([4.837e-3, 4.837e-3], [0., 0.4368], \"r:\") # Not shown\n",
    "plt.plot([0.0, 4.837e-3], [0.4368, 0.4368], \"r:\")  # Not shown\n",
    "plt.plot([4.837e-3], [0.4368], \"ro\")               # Not shown\n",
    "plt.show()"
   ]
  },
  {
   "cell_type": "code",
   "execution_count": 69,
   "metadata": {
    "execution": {
     "iopub.execute_input": "2021-05-18T12:01:01.261227Z",
     "iopub.status.busy": "2021-05-18T12:01:01.260238Z",
     "iopub.status.idle": "2021-05-18T12:01:01.266801Z",
     "shell.execute_reply": "2021-05-18T12:01:01.266307Z"
    },
    "papermill": {
     "duration": 0.105049,
     "end_time": "2021-05-18T12:01:01.266897",
     "exception": false,
     "start_time": "2021-05-18T12:01:01.161848",
     "status": "completed"
    },
    "tags": []
   },
   "outputs": [
    {
     "data": {
      "text/plain": [
       "0.5007963988919667"
      ]
     },
     "execution_count": 69,
     "metadata": {},
     "output_type": "execute_result"
    }
   ],
   "source": [
    "roc_auc_score(flat_true_labels, flat_predictions)"
   ]
  },
  {
   "cell_type": "markdown",
   "metadata": {
    "papermill": {
     "duration": 0.103575,
     "end_time": "2021-05-18T12:01:01.467101",
     "exception": false,
     "start_time": "2021-05-18T12:01:01.363526",
     "status": "completed"
    },
    "tags": []
   },
   "source": [
    "#### Export model and embeddings"
   ]
  },
  {
   "cell_type": "code",
   "execution_count": 70,
   "metadata": {
    "execution": {
     "iopub.execute_input": "2021-05-18T12:01:01.685847Z",
     "iopub.status.busy": "2021-05-18T12:01:01.684892Z",
     "iopub.status.idle": "2021-05-18T12:01:01.704944Z",
     "shell.execute_reply": "2021-05-18T12:01:01.704469Z"
    },
    "papermill": {
     "duration": 0.132432,
     "end_time": "2021-05-18T12:01:01.705061",
     "exception": false,
     "start_time": "2021-05-18T12:01:01.572629",
     "status": "completed"
    },
    "tags": []
   },
   "outputs": [],
   "source": [
    "bert_embeddings_df_train['user.id'] = bert_embeddings_df_train['user.id'].astype('str')\n",
    "bert_embeddings_df_train['user.id'] = bert_embeddings_df_train['user.id'].apply(lambda x: \"'\" + x + \"'\")\n",
    "bert_embeddings_df_valid['user.id'] = bert_embeddings_df_valid['user.id'].astype('str')\n",
    "bert_embeddings_df_valid['user.id'] = bert_embeddings_df_valid['user.id'].apply(lambda x: \"'\" + x + \"'\")"
   ]
  },
  {
   "cell_type": "code",
   "execution_count": 71,
   "metadata": {
    "execution": {
     "iopub.execute_input": "2021-05-18T12:01:01.933107Z",
     "iopub.status.busy": "2021-05-18T12:01:01.931787Z",
     "iopub.status.idle": "2021-05-18T12:01:01.938583Z",
     "shell.execute_reply": "2021-05-18T12:01:01.939466Z"
    },
    "papermill": {
     "duration": 0.129801,
     "end_time": "2021-05-18T12:01:01.939804",
     "exception": false,
     "start_time": "2021-05-18T12:01:01.810003",
     "status": "completed"
    },
    "tags": []
   },
   "outputs": [
    {
     "name": "stdout",
     "output_type": "stream",
     "text": [
      "full train: 4771 unique ids train: 1516 full valid: 1957 unique ids valid: 550\n"
     ]
    }
   ],
   "source": [
    "print(\"full train:\", len(bert_embeddings_df_train), \"unique ids train:\", len(bert_embeddings_df_train['user.id'].unique()), \n",
    "      \"full valid:\", len(bert_embeddings_df_valid), \"unique ids valid:\", len(bert_embeddings_df_valid['user.id'].unique()))"
   ]
  },
  {
   "cell_type": "code",
   "execution_count": 72,
   "metadata": {
    "execution": {
     "iopub.execute_input": "2021-05-18T12:01:02.152857Z",
     "iopub.status.busy": "2021-05-18T12:01:02.152067Z",
     "iopub.status.idle": "2021-05-18T12:01:11.219677Z",
     "shell.execute_reply": "2021-05-18T12:01:11.219195Z"
    },
    "papermill": {
     "duration": 9.171419,
     "end_time": "2021-05-18T12:01:11.219807",
     "exception": false,
     "start_time": "2021-05-18T12:01:02.048388",
     "status": "completed"
    },
    "tags": []
   },
   "outputs": [
    {
     "data": {
      "text/plain": [
       "('./Labse_Tweettext_mode/tokenizer_config.json',\n",
       " './Labse_Tweettext_mode/special_tokens_map.json',\n",
       " './Labse_Tweettext_mode/vocab.txt',\n",
       " './Labse_Tweettext_mode/added_tokens.json')"
      ]
     },
     "execution_count": 72,
     "metadata": {},
     "output_type": "execute_result"
    }
   ],
   "source": [
    "model_to_save = model.module if hasattr(model, \"module\") else model # Take care of distributed/parallel training\n",
    "model_to_save.save_pretrained('./Labse_Tweettext_mode/')\n",
    "tokenizer.save_pretrained('./Labse_Tweettext_mode/')"
   ]
  },
  {
   "cell_type": "code",
   "execution_count": 73,
   "metadata": {
    "execution": {
     "iopub.execute_input": "2021-05-18T12:01:11.440937Z",
     "iopub.status.busy": "2021-05-18T12:01:11.439737Z",
     "iopub.status.idle": "2021-05-18T12:01:21.168561Z",
     "shell.execute_reply": "2021-05-18T12:01:21.167603Z"
    },
    "papermill": {
     "duration": 9.841807,
     "end_time": "2021-05-18T12:01:21.168673",
     "exception": false,
     "start_time": "2021-05-18T12:01:11.326866",
     "status": "completed"
    },
    "tags": []
   },
   "outputs": [],
   "source": [
    "bert_embeddings_df_train.to_csv('labse_train_embeddings_df.csv', index=False, encoding = \"utf_8_sig\")\n",
    "bert_embeddings_df_valid.to_csv('labse_valid_embeddings_df.csv', index=False, encoding = \"utf_8_sig\")"
   ]
  },
  {
   "cell_type": "markdown",
   "metadata": {
    "papermill": {
     "duration": 0.344899,
     "end_time": "2021-05-18T12:01:21.616132",
     "exception": false,
     "start_time": "2021-05-18T12:01:21.271233",
     "status": "completed"
    },
    "tags": []
   },
   "source": [
    "### Evaluate on Test"
   ]
  },
  {
   "cell_type": "markdown",
   "metadata": {
    "papermill": {
     "duration": 0.096206,
     "end_time": "2021-05-18T12:01:21.810562",
     "exception": false,
     "start_time": "2021-05-18T12:01:21.714356",
     "status": "completed"
    },
    "tags": []
   },
   "source": [
    "Now we’ll load the holdout dataset and prepare inputs just as we did with the training set. Then we’ll evaluate predictions using Matthews correlation coefficient (MCC wiki)because this is the metric used by the wider NLP community to evaluate performance on CoLA. With this metric, +1 is the best score, and -1 is the worst score. This way, we can see how well we perform against the state of the art models for this specific task.\n"
   ]
  },
  {
   "cell_type": "code",
   "execution_count": 74,
   "metadata": {
    "execution": {
     "iopub.execute_input": "2021-05-18T12:01:22.012768Z",
     "iopub.status.busy": "2021-05-18T12:01:22.011990Z",
     "iopub.status.idle": "2021-05-18T12:01:22.033769Z",
     "shell.execute_reply": "2021-05-18T12:01:22.033232Z"
    },
    "papermill": {
     "duration": 0.127487,
     "end_time": "2021-05-18T12:01:22.033881",
     "exception": false,
     "start_time": "2021-05-18T12:01:21.906394",
     "status": "completed"
    },
    "tags": []
   },
   "outputs": [],
   "source": [
    "# Convert to tensors.\n",
    "prediction_inputs = torch.tensor(test_inputs)\n",
    "prediction_masks = torch.tensor(test_masks)\n",
    "prediction_labels = torch.tensor(test_labels)\n",
    "prediction_ids = torch.tensor(ids_test)\n",
    "\n",
    "# Set the batch size.  \n",
    "batch_size = 8 \n",
    "# Create the DataLoader.\n",
    "prediction_data = TensorDataset(prediction_inputs, prediction_masks, prediction_labels, prediction_ids)\n",
    "prediction_sampler = SequentialSampler(prediction_data)\n",
    "prediction_dataloader = DataLoader(prediction_data, sampler=prediction_sampler, batch_size=batch_size)"
   ]
  },
  {
   "cell_type": "markdown",
   "metadata": {
    "papermill": {
     "duration": 0.0938,
     "end_time": "2021-05-18T12:01:22.223387",
     "exception": false,
     "start_time": "2021-05-18T12:01:22.129587",
     "status": "completed"
    },
    "tags": []
   },
   "source": [
    "With the test set prepared, we can apply our fine-tuned model to generate predictions on the test set"
   ]
  },
  {
   "cell_type": "code",
   "execution_count": 75,
   "metadata": {
    "execution": {
     "iopub.execute_input": "2021-05-18T12:01:22.429786Z",
     "iopub.status.busy": "2021-05-18T12:01:22.428875Z",
     "iopub.status.idle": "2021-05-18T12:01:28.058882Z",
     "shell.execute_reply": "2021-05-18T12:01:28.058255Z"
    },
    "papermill": {
     "duration": 5.73643,
     "end_time": "2021-05-18T12:01:28.058995",
     "exception": false,
     "start_time": "2021-05-18T12:01:22.322565",
     "status": "completed"
    },
    "tags": []
   },
   "outputs": [
    {
     "name": "stdout",
     "output_type": "stream",
     "text": [
      "Predicting labels for 1,306 test sentences...\n"
     ]
    }
   ],
   "source": [
    "embeddings_te = []\n",
    "# Prediction on test set\n",
    "print('Predicting labels for {:,} test sentences...'.format(len(prediction_inputs)))\n",
    "# Put model in evaluation mode\n",
    "model.eval()\n",
    "# Tracking variables \n",
    "predictions , true_labels = [], []\n",
    "# Predict \n",
    "for batch in prediction_dataloader:\n",
    "    b_input_ids = batch[0].to(device)\n",
    "    b_input_mask = batch[1].to(device)\n",
    "    b_labels = batch[2].to(device)\n",
    "  \n",
    "  # Telling the model not to compute or store gradients, saving memory and \n",
    "  # speeding up prediction\n",
    "    with torch.no_grad():\n",
    "        # Forward pass, calculate logit predictions\n",
    "        outputs = model(b_input_ids, token_type_ids=None, \n",
    "                      attention_mask=b_input_mask, labels=b_labels)\n",
    "    logits = outputs[1]\n",
    "    # Embeddings extraction approach is to average the second to last hiden layer of each token producing a single 768 length vector\n",
    "    # https://mccormickml.com/2019/05/14/BERT-word-embeddings-tutorial/\n",
    "    hidden_state_te = outputs[2]\n",
    "    token_vecs = hidden_state_te[-2]\n",
    "    token_vecs_sentvecs = []\n",
    "    for token in token_vecs:\n",
    "        sentvecs = torch.mean(token, dim=0).detach().cpu().numpy()\n",
    "        token_vecs_sentvecs.append(sentvecs)\n",
    "    # features = hidden_state_te[12][:,0,:].detach().cpu().numpy()\n",
    "    embeddings_te.append([batch[3], token_vecs_sentvecs])\n",
    "    # Move logits and labels to CPU\n",
    "    logits = logits.detach().cpu().numpy()\n",
    "    label_ids = b_labels.to('cpu').numpy()\n",
    "\n",
    "    # Store predictions and true labels\n",
    "    predictions.append(logits)\n",
    "    true_labels.append(label_ids)\n"
   ]
  },
  {
   "cell_type": "markdown",
   "metadata": {
    "papermill": {
     "duration": 0.097129,
     "end_time": "2021-05-18T12:01:28.251304",
     "exception": false,
     "start_time": "2021-05-18T12:01:28.154175",
     "status": "completed"
    },
    "tags": []
   },
   "source": [
    "### Extract Embeddings for Test"
   ]
  },
  {
   "cell_type": "code",
   "execution_count": 76,
   "metadata": {
    "execution": {
     "iopub.execute_input": "2021-05-18T12:01:28.454447Z",
     "iopub.status.busy": "2021-05-18T12:01:28.453557Z",
     "iopub.status.idle": "2021-05-18T12:01:28.759047Z",
     "shell.execute_reply": "2021-05-18T12:01:28.758323Z"
    },
    "papermill": {
     "duration": 0.412476,
     "end_time": "2021-05-18T12:01:28.759161",
     "exception": false,
     "start_time": "2021-05-18T12:01:28.346685",
     "status": "completed"
    },
    "tags": []
   },
   "outputs": [
    {
     "name": "stdout",
     "output_type": "stream",
     "text": [
      "DONE.\n"
     ]
    },
    {
     "data": {
      "text/html": [
       "<div>\n",
       "<style scoped>\n",
       "    .dataframe tbody tr th:only-of-type {\n",
       "        vertical-align: middle;\n",
       "    }\n",
       "\n",
       "    .dataframe tbody tr th {\n",
       "        vertical-align: top;\n",
       "    }\n",
       "\n",
       "    .dataframe thead th {\n",
       "        text-align: right;\n",
       "    }\n",
       "</style>\n",
       "<table border=\"1\" class=\"dataframe\">\n",
       "  <thead>\n",
       "    <tr style=\"text-align: right;\">\n",
       "      <th></th>\n",
       "      <th>user.id</th>\n",
       "      <th>suspended</th>\n",
       "      <th>0</th>\n",
       "      <th>1</th>\n",
       "      <th>2</th>\n",
       "      <th>3</th>\n",
       "      <th>4</th>\n",
       "      <th>5</th>\n",
       "      <th>6</th>\n",
       "      <th>7</th>\n",
       "      <th>...</th>\n",
       "      <th>758</th>\n",
       "      <th>759</th>\n",
       "      <th>760</th>\n",
       "      <th>761</th>\n",
       "      <th>762</th>\n",
       "      <th>763</th>\n",
       "      <th>764</th>\n",
       "      <th>765</th>\n",
       "      <th>766</th>\n",
       "      <th>767</th>\n",
       "    </tr>\n",
       "  </thead>\n",
       "  <tbody>\n",
       "    <tr>\n",
       "      <th>0</th>\n",
       "      <td>1.278130e+18</td>\n",
       "      <td>0</td>\n",
       "      <td>-0.001446</td>\n",
       "      <td>0.020159</td>\n",
       "      <td>-0.049137</td>\n",
       "      <td>0.103440</td>\n",
       "      <td>-0.169133</td>\n",
       "      <td>0.206349</td>\n",
       "      <td>0.176765</td>\n",
       "      <td>-0.115062</td>\n",
       "      <td>...</td>\n",
       "      <td>0.032523</td>\n",
       "      <td>-0.013024</td>\n",
       "      <td>-0.109243</td>\n",
       "      <td>0.193370</td>\n",
       "      <td>0.082095</td>\n",
       "      <td>-0.025084</td>\n",
       "      <td>-0.106947</td>\n",
       "      <td>0.075557</td>\n",
       "      <td>-0.066215</td>\n",
       "      <td>0.028533</td>\n",
       "    </tr>\n",
       "    <tr>\n",
       "      <th>1</th>\n",
       "      <td>1.278145e+18</td>\n",
       "      <td>1</td>\n",
       "      <td>-0.002421</td>\n",
       "      <td>0.043602</td>\n",
       "      <td>-0.070569</td>\n",
       "      <td>0.011489</td>\n",
       "      <td>-0.071190</td>\n",
       "      <td>0.191892</td>\n",
       "      <td>0.089799</td>\n",
       "      <td>-0.191459</td>\n",
       "      <td>...</td>\n",
       "      <td>0.045633</td>\n",
       "      <td>0.015089</td>\n",
       "      <td>0.016193</td>\n",
       "      <td>0.242644</td>\n",
       "      <td>0.014788</td>\n",
       "      <td>0.038445</td>\n",
       "      <td>-0.283235</td>\n",
       "      <td>-0.005206</td>\n",
       "      <td>-0.017115</td>\n",
       "      <td>-0.069379</td>\n",
       "    </tr>\n",
       "    <tr>\n",
       "      <th>2</th>\n",
       "      <td>1.278155e+18</td>\n",
       "      <td>0</td>\n",
       "      <td>0.061371</td>\n",
       "      <td>-0.036196</td>\n",
       "      <td>-0.131550</td>\n",
       "      <td>0.074832</td>\n",
       "      <td>-0.131282</td>\n",
       "      <td>0.293017</td>\n",
       "      <td>0.166226</td>\n",
       "      <td>0.067929</td>\n",
       "      <td>...</td>\n",
       "      <td>-0.009080</td>\n",
       "      <td>-0.036797</td>\n",
       "      <td>-0.143516</td>\n",
       "      <td>0.117621</td>\n",
       "      <td>0.078933</td>\n",
       "      <td>-0.047341</td>\n",
       "      <td>-0.052929</td>\n",
       "      <td>0.103962</td>\n",
       "      <td>-0.027702</td>\n",
       "      <td>0.028242</td>\n",
       "    </tr>\n",
       "    <tr>\n",
       "      <th>3</th>\n",
       "      <td>1.278156e+18</td>\n",
       "      <td>0</td>\n",
       "      <td>0.022501</td>\n",
       "      <td>0.006936</td>\n",
       "      <td>-0.032664</td>\n",
       "      <td>0.067460</td>\n",
       "      <td>-0.041189</td>\n",
       "      <td>0.156716</td>\n",
       "      <td>0.020084</td>\n",
       "      <td>-0.125073</td>\n",
       "      <td>...</td>\n",
       "      <td>0.060243</td>\n",
       "      <td>-0.021589</td>\n",
       "      <td>-0.116024</td>\n",
       "      <td>0.055728</td>\n",
       "      <td>0.026217</td>\n",
       "      <td>-0.021712</td>\n",
       "      <td>-0.030805</td>\n",
       "      <td>-0.040692</td>\n",
       "      <td>-0.025358</td>\n",
       "      <td>0.012125</td>\n",
       "    </tr>\n",
       "    <tr>\n",
       "      <th>4</th>\n",
       "      <td>1.278181e+18</td>\n",
       "      <td>0</td>\n",
       "      <td>0.060355</td>\n",
       "      <td>-0.037173</td>\n",
       "      <td>-0.049433</td>\n",
       "      <td>-0.065809</td>\n",
       "      <td>-0.177179</td>\n",
       "      <td>0.103379</td>\n",
       "      <td>0.097245</td>\n",
       "      <td>-0.234150</td>\n",
       "      <td>...</td>\n",
       "      <td>0.149591</td>\n",
       "      <td>-0.279872</td>\n",
       "      <td>-0.044954</td>\n",
       "      <td>0.204857</td>\n",
       "      <td>0.069083</td>\n",
       "      <td>0.017891</td>\n",
       "      <td>0.001221</td>\n",
       "      <td>0.042535</td>\n",
       "      <td>-0.015379</td>\n",
       "      <td>-0.030814</td>\n",
       "    </tr>\n",
       "  </tbody>\n",
       "</table>\n",
       "<p>5 rows × 770 columns</p>\n",
       "</div>"
      ],
      "text/plain": [
       "        user.id  suspended         0         1         2         3         4  \\\n",
       "0  1.278130e+18          0 -0.001446  0.020159 -0.049137  0.103440 -0.169133   \n",
       "1  1.278145e+18          1 -0.002421  0.043602 -0.070569  0.011489 -0.071190   \n",
       "2  1.278155e+18          0  0.061371 -0.036196 -0.131550  0.074832 -0.131282   \n",
       "3  1.278156e+18          0  0.022501  0.006936 -0.032664  0.067460 -0.041189   \n",
       "4  1.278181e+18          0  0.060355 -0.037173 -0.049433 -0.065809 -0.177179   \n",
       "\n",
       "          5         6         7  ...       758       759       760       761  \\\n",
       "0  0.206349  0.176765 -0.115062  ...  0.032523 -0.013024 -0.109243  0.193370   \n",
       "1  0.191892  0.089799 -0.191459  ...  0.045633  0.015089  0.016193  0.242644   \n",
       "2  0.293017  0.166226  0.067929  ... -0.009080 -0.036797 -0.143516  0.117621   \n",
       "3  0.156716  0.020084 -0.125073  ...  0.060243 -0.021589 -0.116024  0.055728   \n",
       "4  0.103379  0.097245 -0.234150  ...  0.149591 -0.279872 -0.044954  0.204857   \n",
       "\n",
       "        762       763       764       765       766       767  \n",
       "0  0.082095 -0.025084 -0.106947  0.075557 -0.066215  0.028533  \n",
       "1  0.014788  0.038445 -0.283235 -0.005206 -0.017115 -0.069379  \n",
       "2  0.078933 -0.047341 -0.052929  0.103962 -0.027702  0.028242  \n",
       "3  0.026217 -0.021712 -0.030805 -0.040692 -0.025358  0.012125  \n",
       "4  0.069083  0.017891  0.001221  0.042535 -0.015379 -0.030814  \n",
       "\n",
       "[5 rows x 770 columns]"
      ]
     },
     "execution_count": 76,
     "metadata": {},
     "output_type": "execute_result"
    }
   ],
   "source": [
    "# Get embeddings for test\n",
    "p = [group for group in embeddings_te]\n",
    "\n",
    "b = [item for sublist in [[list(t) for t in zip(sublist[0], sublist[1])] for sublist in p] for item in sublist]\n",
    "df = pd.DataFrame(b, columns = ['id', 'embeddings'])  \n",
    "\n",
    "bert_embeddings_df_test = pd.concat([df['id'], df['embeddings'].apply(pd.Series)], axis = 1)\n",
    "bert_embeddings_df_test['id'] = bert_embeddings_df_test['id'].apply(lambda x: x.item())\n",
    "#bert_embeddings_df_test = pd.merge(df_test.drop(['text'], axis=1), bert_embeddings_df_test, left_on = [\"id\"], right_on = [\"id\"])\n",
    "bert_embeddings_df_test = pd.merge(df_test.drop(['text'], axis=1), bert_embeddings_df_test.drop(['id'], axis=1), left_index=True, right_index=True)\n",
    "print('DONE.')\n",
    "bert_embeddings_df_test.head()"
   ]
  },
  {
   "cell_type": "code",
   "execution_count": 77,
   "metadata": {
    "execution": {
     "iopub.execute_input": "2021-05-18T12:01:28.969223Z",
     "iopub.status.busy": "2021-05-18T12:01:28.968678Z",
     "iopub.status.idle": "2021-05-18T12:01:28.972832Z",
     "shell.execute_reply": "2021-05-18T12:01:28.972170Z"
    },
    "papermill": {
     "duration": 0.114807,
     "end_time": "2021-05-18T12:01:28.972937",
     "exception": false,
     "start_time": "2021-05-18T12:01:28.858130",
     "status": "completed"
    },
    "tags": []
   },
   "outputs": [],
   "source": [
    "bert_embeddings_df_test['user.id'] = bert_embeddings_df_test['user.id'].astype('str')\n",
    "bert_embeddings_df_test['user.id'] = bert_embeddings_df_test['user.id'].apply(lambda x: \"'\" + x + \"'\")"
   ]
  },
  {
   "cell_type": "code",
   "execution_count": 78,
   "metadata": {
    "execution": {
     "iopub.execute_input": "2021-05-18T12:01:29.175666Z",
     "iopub.status.busy": "2021-05-18T12:01:29.174895Z",
     "iopub.status.idle": "2021-05-18T12:01:29.179931Z",
     "shell.execute_reply": "2021-05-18T12:01:29.180900Z"
    },
    "papermill": {
     "duration": 0.109361,
     "end_time": "2021-05-18T12:01:29.181106",
     "exception": false,
     "start_time": "2021-05-18T12:01:29.071745",
     "status": "completed"
    },
    "tags": []
   },
   "outputs": [
    {
     "name": "stdout",
     "output_type": "stream",
     "text": [
      "full train: 1306 unique ids train: 498\n"
     ]
    }
   ],
   "source": [
    "print(\"full train:\", len(bert_embeddings_df_test), \"unique ids train:\", len(bert_embeddings_df_test['user.id'].unique()))"
   ]
  },
  {
   "cell_type": "code",
   "execution_count": 79,
   "metadata": {
    "execution": {
     "iopub.execute_input": "2021-05-18T12:01:29.386627Z",
     "iopub.status.busy": "2021-05-18T12:01:29.385491Z",
     "iopub.status.idle": "2021-05-18T12:01:31.840518Z",
     "shell.execute_reply": "2021-05-18T12:01:31.839428Z"
    },
    "papermill": {
     "duration": 2.559239,
     "end_time": "2021-05-18T12:01:31.840642",
     "exception": false,
     "start_time": "2021-05-18T12:01:29.281403",
     "status": "completed"
    },
    "tags": []
   },
   "outputs": [],
   "source": [
    "bert_embeddings_df_test.to_csv('labse_test_embeddings_df_full.csv', index=False, encoding = \"utf_8_sig\")"
   ]
  },
  {
   "cell_type": "code",
   "execution_count": 80,
   "metadata": {
    "execution": {
     "iopub.execute_input": "2021-05-18T12:01:32.042304Z",
     "iopub.status.busy": "2021-05-18T12:01:32.041766Z",
     "iopub.status.idle": "2021-05-18T12:01:32.047055Z",
     "shell.execute_reply": "2021-05-18T12:01:32.046599Z"
    },
    "papermill": {
     "duration": 0.105785,
     "end_time": "2021-05-18T12:01:32.047144",
     "exception": false,
     "start_time": "2021-05-18T12:01:31.941359",
     "status": "completed"
    },
    "tags": []
   },
   "outputs": [
    {
     "name": "stdout",
     "output_type": "stream",
     "text": [
      "Positive samples: 397 of 4771 (8.32%)\n"
     ]
    }
   ],
   "source": [
    "print('Positive samples: %d of %d (%.2f%%)' % (df_train.suspended.sum(), len(df_train.suspended), (df_train.suspended.sum() / len(df_train.suspended) * 100.0)))"
   ]
  },
  {
   "cell_type": "code",
   "execution_count": 81,
   "metadata": {
    "execution": {
     "iopub.execute_input": "2021-05-18T12:01:32.261920Z",
     "iopub.status.busy": "2021-05-18T12:01:32.260751Z",
     "iopub.status.idle": "2021-05-18T12:01:32.397813Z",
     "shell.execute_reply": "2021-05-18T12:01:32.396768Z"
    },
    "papermill": {
     "duration": 0.251777,
     "end_time": "2021-05-18T12:01:32.397929",
     "exception": false,
     "start_time": "2021-05-18T12:01:32.146152",
     "status": "completed"
    },
    "tags": []
   },
   "outputs": [
    {
     "name": "stdout",
     "output_type": "stream",
     "text": [
      "Calculating Matthews Corr. Coef. for each batch...\n"
     ]
    },
    {
     "name": "stderr",
     "output_type": "stream",
     "text": [
      "/opt/conda/lib/python3.7/site-packages/sklearn/metrics/_classification.py:846: RuntimeWarning:\n",
      "\n",
      "invalid value encountered in double_scalars\n",
      "\n"
     ]
    }
   ],
   "source": [
    "from sklearn.metrics import matthews_corrcoef\n",
    "matthews_set = []\n",
    "# Evaluate each test batch using Matthew's correlation coefficient\n",
    "print('Calculating Matthews Corr. Coef. for each batch...')\n",
    "# For each input batch...\n",
    "for i in range(len(true_labels)):\n",
    "  \n",
    "    # The predictions for this batch are a 2-column ndarray (one column for \"0\" \n",
    "    # and one column for \"1\"). Pick the label with the highest value and turn this\n",
    "    # in to a list of 0s and 1s.\n",
    "    pred_labels_i = np.argmax(predictions[i], axis=1).flatten()\n",
    "\n",
    "    # Calculate and store the coef for this batch.  \n",
    "    matthews = matthews_corrcoef(true_labels[i], pred_labels_i)                \n",
    "    matthews_set.append(matthews)"
   ]
  },
  {
   "cell_type": "code",
   "execution_count": 82,
   "metadata": {
    "execution": {
     "iopub.execute_input": "2021-05-18T12:01:32.616580Z",
     "iopub.status.busy": "2021-05-18T12:01:32.613516Z",
     "iopub.status.idle": "2021-05-18T12:01:32.624788Z",
     "shell.execute_reply": "2021-05-18T12:01:32.625617Z"
    },
    "papermill": {
     "duration": 0.124875,
     "end_time": "2021-05-18T12:01:32.625798",
     "exception": false,
     "start_time": "2021-05-18T12:01:32.500923",
     "status": "completed"
    },
    "tags": []
   },
   "outputs": [
    {
     "name": "stdout",
     "output_type": "stream",
     "text": [
      "MCC: 0.000\n"
     ]
    }
   ],
   "source": [
    "# Combine the predictions for each batch into a single list of 0s and 1s.\n",
    "flat_predictions = [item for sublist in predictions for item in sublist]\n",
    "flat_predictions = np.argmax(flat_predictions, axis=1).flatten()\n",
    "# Combine the correct labels for each batch into a single list.\n",
    "flat_true_labels = [item for sublist in true_labels for item in sublist]\n",
    "# Calculate the MCC\n",
    "mcc = matthews_corrcoef(flat_true_labels, flat_predictions)\n",
    "print('MCC: %.3f' % mcc)"
   ]
  },
  {
   "cell_type": "code",
   "execution_count": 83,
   "metadata": {
    "execution": {
     "iopub.execute_input": "2021-05-18T12:01:32.840464Z",
     "iopub.status.busy": "2021-05-18T12:01:32.835042Z",
     "iopub.status.idle": "2021-05-18T12:01:32.846881Z",
     "shell.execute_reply": "2021-05-18T12:01:32.846442Z"
    },
    "papermill": {
     "duration": 0.116601,
     "end_time": "2021-05-18T12:01:32.846983",
     "exception": false,
     "start_time": "2021-05-18T12:01:32.730382",
     "status": "completed"
    },
    "tags": []
   },
   "outputs": [
    {
     "name": "stdout",
     "output_type": "stream",
     "text": [
      "              precision    recall  f1-score   support\n",
      "\n",
      "           0       0.90      1.00      0.95      1175\n",
      "           1       0.00      0.00      0.00       131\n",
      "\n",
      "    accuracy                           0.90      1306\n",
      "   macro avg       0.45      0.50      0.47      1306\n",
      "weighted avg       0.81      0.90      0.85      1306\n",
      "\n"
     ]
    },
    {
     "name": "stderr",
     "output_type": "stream",
     "text": [
      "/opt/conda/lib/python3.7/site-packages/sklearn/metrics/_classification.py:1221: UndefinedMetricWarning:\n",
      "\n",
      "Precision and F-score are ill-defined and being set to 0.0 in labels with no predicted samples. Use `zero_division` parameter to control this behavior.\n",
      "\n"
     ]
    }
   ],
   "source": [
    "report = classification_report(flat_true_labels, flat_predictions)\n",
    "print(report)"
   ]
  },
  {
   "cell_type": "code",
   "execution_count": 84,
   "metadata": {
    "execution": {
     "iopub.execute_input": "2021-05-18T12:01:33.052650Z",
     "iopub.status.busy": "2021-05-18T12:01:33.051736Z",
     "iopub.status.idle": "2021-05-18T12:01:33.207158Z",
     "shell.execute_reply": "2021-05-18T12:01:33.207661Z"
    },
    "papermill": {
     "duration": 0.260528,
     "end_time": "2021-05-18T12:01:33.207812",
     "exception": false,
     "start_time": "2021-05-18T12:01:32.947284",
     "status": "completed"
    },
    "tags": []
   },
   "outputs": [
    {
     "data": {
      "image/png": "[encoded data removed]",
      "text/plain": [
       "<Figure size 576x432 with 1 Axes>"
      ]
     },
     "metadata": {
      "needs_background": "light"
     },
     "output_type": "display_data"
    }
   ],
   "source": [
    "fpr, tpr, thresholds = roc_curve(flat_true_labels, flat_predictions)\n",
    "plt.figure(figsize=(8, 6))                         # Not shown\n",
    "plot_roc_curve(fpr, tpr)\n",
    "plt.plot([4.837e-3, 4.837e-3], [0., 0.4368], \"r:\") # Not shown\n",
    "plt.plot([0.0, 4.837e-3], [0.4368, 0.4368], \"r:\")  # Not shown\n",
    "plt.plot([4.837e-3], [0.4368], \"ro\")               # Not shown\n",
    "plt.show()"
   ]
  },
  {
   "cell_type": "code",
   "execution_count": 85,
   "metadata": {
    "execution": {
     "iopub.execute_input": "2021-05-18T12:01:33.426577Z",
     "iopub.status.busy": "2021-05-18T12:01:33.425622Z",
     "iopub.status.idle": "2021-05-18T12:01:33.432066Z",
     "shell.execute_reply": "2021-05-18T12:01:33.431641Z"
    },
    "papermill": {
     "duration": 0.119088,
     "end_time": "2021-05-18T12:01:33.432163",
     "exception": false,
     "start_time": "2021-05-18T12:01:33.313075",
     "status": "completed"
    },
    "tags": []
   },
   "outputs": [
    {
     "data": {
      "text/plain": [
       "0.5"
      ]
     },
     "execution_count": 85,
     "metadata": {},
     "output_type": "execute_result"
    }
   ],
   "source": [
    "roc_auc_score(flat_true_labels, flat_predictions)"
   ]
  },
  {
   "cell_type": "markdown",
   "metadata": {
    "papermill": {
     "duration": 0.103099,
     "end_time": "2021-05-18T12:01:33.640940",
     "exception": false,
     "start_time": "2021-05-18T12:01:33.537841",
     "status": "completed"
    },
    "tags": []
   },
   "source": [
    "### Aggregate Predictions to Account Level"
   ]
  },
  {
   "cell_type": "code",
   "execution_count": 86,
   "metadata": {
    "execution": {
     "iopub.execute_input": "2021-05-18T12:01:33.855441Z",
     "iopub.status.busy": "2021-05-18T12:01:33.854653Z",
     "iopub.status.idle": "2021-05-18T12:01:33.857197Z",
     "shell.execute_reply": "2021-05-18T12:01:33.857589Z"
    },
    "papermill": {
     "duration": 0.112032,
     "end_time": "2021-05-18T12:01:33.857705",
     "exception": false,
     "start_time": "2021-05-18T12:01:33.745673",
     "status": "completed"
    },
    "tags": []
   },
   "outputs": [],
   "source": [
    "# Generate class predictions at the account level \n",
    "def predict_tweet_text(predictions, df_overlap, df_full):\n",
    "    df = pd.DataFrame(predictions, columns = ['pred'])\n",
    "    df_2 = pd.merge(df_overlap, df, left_index=True, right_index=True)\n",
    "    df_fm = df_full[['user.screen_name','user.id']].drop_duplicates(subset=['user.screen_name','user.id'])\n",
    "    df_3 = pd.merge(df_fm, df_2, left_on='user.id', right_on='user.id')\n",
    "    df_3 = df_3.sort_values(by=['pred'], ascending=False)\n",
    "    return df_3"
   ]
  },
  {
   "cell_type": "code",
   "execution_count": 87,
   "metadata": {
    "execution": {
     "iopub.execute_input": "2021-05-18T12:01:34.072597Z",
     "iopub.status.busy": "2021-05-18T12:01:34.071585Z",
     "iopub.status.idle": "2021-05-18T12:01:34.102291Z",
     "shell.execute_reply": "2021-05-18T12:01:34.101755Z"
    },
    "papermill": {
     "duration": 0.143421,
     "end_time": "2021-05-18T12:01:34.102404",
     "exception": false,
     "start_time": "2021-05-18T12:01:33.958983",
     "status": "completed"
    },
    "tags": []
   },
   "outputs": [
    {
     "data": {
      "text/html": [
       "<div>\n",
       "<style scoped>\n",
       "    .dataframe tbody tr th:only-of-type {\n",
       "        vertical-align: middle;\n",
       "    }\n",
       "\n",
       "    .dataframe tbody tr th {\n",
       "        vertical-align: top;\n",
       "    }\n",
       "\n",
       "    .dataframe thead th {\n",
       "        text-align: right;\n",
       "    }\n",
       "</style>\n",
       "<table border=\"1\" class=\"dataframe\">\n",
       "  <thead>\n",
       "    <tr style=\"text-align: right;\">\n",
       "      <th></th>\n",
       "      <th>user.screen_name</th>\n",
       "      <th>user.id</th>\n",
       "      <th>text</th>\n",
       "      <th>suspended</th>\n",
       "      <th>pred</th>\n",
       "    </tr>\n",
       "  </thead>\n",
       "  <tbody>\n",
       "    <tr>\n",
       "      <th>0</th>\n",
       "      <td>MMunir50647063</td>\n",
       "      <td>1.278130e+18</td>\n",
       "      <td>@ImranKhanPTI me mazor adme ho</td>\n",
       "      <td>0</td>\n",
       "      <td>0</td>\n",
       "    </tr>\n",
       "    <tr>\n",
       "      <th>857</th>\n",
       "      <td>BuzzCurated</td>\n",
       "      <td>1.282178e+18</td>\n",
       "      <td>A lot of other priorities as well. Sign Roca i...</td>\n",
       "      <td>0</td>\n",
       "      <td>0</td>\n",
       "    </tr>\n",
       "    <tr>\n",
       "      <th>875</th>\n",
       "      <td>BuzzCurated</td>\n",
       "      <td>1.282178e+18</td>\n",
       "      <td>We hope you'll be around for long. @AFTVMedia ...</td>\n",
       "      <td>0</td>\n",
       "      <td>0</td>\n",
       "    </tr>\n",
       "    <tr>\n",
       "      <th>874</th>\n",
       "      <td>BuzzCurated</td>\n",
       "      <td>1.282178e+18</td>\n",
       "      <td>remember the last FA Cup final he played in? B...</td>\n",
       "      <td>0</td>\n",
       "      <td>0</td>\n",
       "    </tr>\n",
       "    <tr>\n",
       "      <th>873</th>\n",
       "      <td>BuzzCurated</td>\n",
       "      <td>1.282178e+18</td>\n",
       "      <td>@HuXijin_GT I can only say this to your mental...</td>\n",
       "      <td>0</td>\n",
       "      <td>0</td>\n",
       "    </tr>\n",
       "  </tbody>\n",
       "</table>\n",
       "</div>"
      ],
      "text/plain": [
       "    user.screen_name       user.id  \\\n",
       "0     MMunir50647063  1.278130e+18   \n",
       "857      BuzzCurated  1.282178e+18   \n",
       "875      BuzzCurated  1.282178e+18   \n",
       "874      BuzzCurated  1.282178e+18   \n",
       "873      BuzzCurated  1.282178e+18   \n",
       "\n",
       "                                                  text  suspended  pred  \n",
       "0                       @ImranKhanPTI me mazor adme ho          0     0  \n",
       "857  A lot of other priorities as well. Sign Roca i...          0     0  \n",
       "875  We hope you'll be around for long. @AFTVMedia ...          0     0  \n",
       "874  remember the last FA Cup final he played in? B...          0     0  \n",
       "873  @HuXijin_GT I can only say this to your mental...          0     0  "
      ]
     },
     "execution_count": 87,
     "metadata": {},
     "output_type": "execute_result"
    }
   ],
   "source": [
    "test_preds_tweets = predict_tweet_text(flat_predictions, df_test, df_test_f)\n",
    "test_preds_tweets.head()"
   ]
  },
  {
   "cell_type": "code",
   "execution_count": 88,
   "metadata": {
    "execution": {
     "iopub.execute_input": "2021-05-18T12:01:34.319985Z",
     "iopub.status.busy": "2021-05-18T12:01:34.317243Z",
     "iopub.status.idle": "2021-05-18T12:01:34.399545Z",
     "shell.execute_reply": "2021-05-18T12:01:34.398958Z"
    },
    "papermill": {
     "duration": 0.189733,
     "end_time": "2021-05-18T12:01:34.399653",
     "exception": false,
     "start_time": "2021-05-18T12:01:34.209920",
     "status": "completed"
    },
    "tags": []
   },
   "outputs": [],
   "source": [
    "test_preds_tweets.to_csv('test_preds_tweets_labse.csv', index=False, encoding = \"utf_8_sig\")"
   ]
  },
  {
   "cell_type": "code",
   "execution_count": 89,
   "metadata": {
    "execution": {
     "iopub.execute_input": "2021-05-18T12:01:34.616606Z",
     "iopub.status.busy": "2021-05-18T12:01:34.615680Z",
     "iopub.status.idle": "2021-05-18T12:01:34.618737Z",
     "shell.execute_reply": "2021-05-18T12:01:34.618250Z"
    },
    "papermill": {
     "duration": 0.11665,
     "end_time": "2021-05-18T12:01:34.618852",
     "exception": false,
     "start_time": "2021-05-18T12:01:34.502202",
     "status": "completed"
    },
    "tags": []
   },
   "outputs": [],
   "source": [
    "# Generate class predictions at the account level \n",
    "def predict_account(pred_tt):\n",
    "    df_4 = pred_tt[['user.screen_name', 'suspended','pred']].groupby('user.screen_name').agg(['sum', 'mean'])\n",
    "    df_4.drop(('suspended', 'sum'), axis = 1, inplace = True)\n",
    "    df_4.columns = [' '.join(col).strip() for col in df_4.columns.values]\n",
    "    df_4.reset_index(level=0, inplace=True)\n",
    "    df_4.columns = [\"user.screen_name\",\"suspended_label\", \"total_pre_prob\",\"mean_pred_prob\"]\n",
    "    df_4['pred_class'] = np.where(df_4['mean_pred_prob'] > 0.25, 1,0) # Use lighter threshold as not all tweets get an account suspended. \n",
    "    df_4 = df_4.sort_values(by=['total_pre_prob'], ascending=False)\n",
    "\n",
    "    return df_4"
   ]
  },
  {
   "cell_type": "code",
   "execution_count": 90,
   "metadata": {
    "execution": {
     "iopub.execute_input": "2021-05-18T12:01:34.836272Z",
     "iopub.status.busy": "2021-05-18T12:01:34.835292Z",
     "iopub.status.idle": "2021-05-18T12:01:34.884683Z",
     "shell.execute_reply": "2021-05-18T12:01:34.885183Z"
    },
    "papermill": {
     "duration": 0.160791,
     "end_time": "2021-05-18T12:01:34.885333",
     "exception": false,
     "start_time": "2021-05-18T12:01:34.724542",
     "status": "completed"
    },
    "tags": []
   },
   "outputs": [
    {
     "data": {
      "text/html": [
       "<div>\n",
       "<style scoped>\n",
       "    .dataframe tbody tr th:only-of-type {\n",
       "        vertical-align: middle;\n",
       "    }\n",
       "\n",
       "    .dataframe tbody tr th {\n",
       "        vertical-align: top;\n",
       "    }\n",
       "\n",
       "    .dataframe thead th {\n",
       "        text-align: right;\n",
       "    }\n",
       "</style>\n",
       "<table border=\"1\" class=\"dataframe\">\n",
       "  <thead>\n",
       "    <tr style=\"text-align: right;\">\n",
       "      <th></th>\n",
       "      <th>user.screen_name</th>\n",
       "      <th>suspended_label</th>\n",
       "      <th>total_pre_prob</th>\n",
       "      <th>mean_pred_prob</th>\n",
       "      <th>pred_class</th>\n",
       "    </tr>\n",
       "  </thead>\n",
       "  <tbody>\n",
       "    <tr>\n",
       "      <th>0</th>\n",
       "      <td>2ebRkaTgSVMcGrl</td>\n",
       "      <td>0</td>\n",
       "      <td>0</td>\n",
       "      <td>0</td>\n",
       "      <td>0</td>\n",
       "    </tr>\n",
       "    <tr>\n",
       "      <th>327</th>\n",
       "      <td>ZiaKhan07341037</td>\n",
       "      <td>1</td>\n",
       "      <td>0</td>\n",
       "      <td>0</td>\n",
       "      <td>0</td>\n",
       "    </tr>\n",
       "    <tr>\n",
       "      <th>340</th>\n",
       "      <td>anwang98338943</td>\n",
       "      <td>0</td>\n",
       "      <td>0</td>\n",
       "      <td>0</td>\n",
       "      <td>0</td>\n",
       "    </tr>\n",
       "    <tr>\n",
       "      <th>339</th>\n",
       "      <td>anan48860464</td>\n",
       "      <td>0</td>\n",
       "      <td>0</td>\n",
       "      <td>0</td>\n",
       "      <td>0</td>\n",
       "    </tr>\n",
       "    <tr>\n",
       "      <th>338</th>\n",
       "      <td>aksuizen</td>\n",
       "      <td>0</td>\n",
       "      <td>0</td>\n",
       "      <td>0</td>\n",
       "      <td>0</td>\n",
       "    </tr>\n",
       "    <tr>\n",
       "      <th>...</th>\n",
       "      <td>...</td>\n",
       "      <td>...</td>\n",
       "      <td>...</td>\n",
       "      <td>...</td>\n",
       "      <td>...</td>\n",
       "    </tr>\n",
       "    <tr>\n",
       "      <th>161</th>\n",
       "      <td>Khansial12</td>\n",
       "      <td>0</td>\n",
       "      <td>0</td>\n",
       "      <td>0</td>\n",
       "      <td>0</td>\n",
       "    </tr>\n",
       "    <tr>\n",
       "      <th>160</th>\n",
       "      <td>KhanSha42957509</td>\n",
       "      <td>0</td>\n",
       "      <td>0</td>\n",
       "      <td>0</td>\n",
       "      <td>0</td>\n",
       "    </tr>\n",
       "    <tr>\n",
       "      <th>159</th>\n",
       "      <td>KhanKha27106664</td>\n",
       "      <td>0</td>\n",
       "      <td>0</td>\n",
       "      <td>0</td>\n",
       "      <td>0</td>\n",
       "    </tr>\n",
       "    <tr>\n",
       "      <th>158</th>\n",
       "      <td>Khairul96801635</td>\n",
       "      <td>0</td>\n",
       "      <td>0</td>\n",
       "      <td>0</td>\n",
       "      <td>0</td>\n",
       "    </tr>\n",
       "    <tr>\n",
       "      <th>497</th>\n",
       "      <td>ziang2020</td>\n",
       "      <td>1</td>\n",
       "      <td>0</td>\n",
       "      <td>0</td>\n",
       "      <td>0</td>\n",
       "    </tr>\n",
       "  </tbody>\n",
       "</table>\n",
       "<p>498 rows × 5 columns</p>\n",
       "</div>"
      ],
      "text/plain": [
       "    user.screen_name  suspended_label  total_pre_prob  mean_pred_prob  \\\n",
       "0    2ebRkaTgSVMcGrl                0               0               0   \n",
       "327  ZiaKhan07341037                1               0               0   \n",
       "340   anwang98338943                0               0               0   \n",
       "339     anan48860464                0               0               0   \n",
       "338         aksuizen                0               0               0   \n",
       "..               ...              ...             ...             ...   \n",
       "161       Khansial12                0               0               0   \n",
       "160  KhanSha42957509                0               0               0   \n",
       "159  KhanKha27106664                0               0               0   \n",
       "158  Khairul96801635                0               0               0   \n",
       "497        ziang2020                1               0               0   \n",
       "\n",
       "     pred_class  \n",
       "0             0  \n",
       "327           0  \n",
       "340           0  \n",
       "339           0  \n",
       "338           0  \n",
       "..          ...  \n",
       "161           0  \n",
       "160           0  \n",
       "159           0  \n",
       "158           0  \n",
       "497           0  \n",
       "\n",
       "[498 rows x 5 columns]"
      ]
     },
     "execution_count": 90,
     "metadata": {},
     "output_type": "execute_result"
    }
   ],
   "source": [
    "test_account_preds_tweettext = predict_account(test_preds_tweets)\n",
    "test_account_preds_tweettext"
   ]
  },
  {
   "cell_type": "markdown",
   "metadata": {
    "papermill": {
     "duration": 0.111658,
     "end_time": "2021-05-18T12:01:35.114330",
     "exception": false,
     "start_time": "2021-05-18T12:01:35.002672",
     "status": "completed"
    },
    "tags": []
   },
   "source": [
    "### Confusion Matrix for Account Classification"
   ]
  },
  {
   "cell_type": "code",
   "execution_count": 91,
   "metadata": {
    "execution": {
     "iopub.execute_input": "2021-05-18T12:01:35.332578Z",
     "iopub.status.busy": "2021-05-18T12:01:35.331680Z",
     "iopub.status.idle": "2021-05-18T12:01:35.342722Z",
     "shell.execute_reply": "2021-05-18T12:01:35.343507Z"
    },
    "papermill": {
     "duration": 0.122941,
     "end_time": "2021-05-18T12:01:35.343670",
     "exception": false,
     "start_time": "2021-05-18T12:01:35.220729",
     "status": "completed"
    },
    "tags": []
   },
   "outputs": [
    {
     "name": "stdout",
     "output_type": "stream",
     "text": [
      "              precision    recall  f1-score   support\n",
      "\n",
      "           0       0.92      1.00      0.96       460\n",
      "           1       0.00      0.00      0.00        38\n",
      "\n",
      "    accuracy                           0.92       498\n",
      "   macro avg       0.46      0.50      0.48       498\n",
      "weighted avg       0.85      0.92      0.89       498\n",
      "\n"
     ]
    },
    {
     "name": "stderr",
     "output_type": "stream",
     "text": [
      "/opt/conda/lib/python3.7/site-packages/sklearn/metrics/_classification.py:1221: UndefinedMetricWarning:\n",
      "\n",
      "Precision and F-score are ill-defined and being set to 0.0 in labels with no predicted samples. Use `zero_division` parameter to control this behavior.\n",
      "\n"
     ]
    }
   ],
   "source": [
    "#report = classification_report(np.array(test_labels), predictions)\n",
    "report_te = classification_report(np.array(test_account_preds_tweettext['suspended_label']), np.array(test_account_preds_tweettext['pred_class']))\n",
    "print(report_te)"
   ]
  },
  {
   "cell_type": "code",
   "execution_count": 92,
   "metadata": {
    "execution": {
     "iopub.execute_input": "2021-05-18T12:01:35.558883Z",
     "iopub.status.busy": "2021-05-18T12:01:35.557990Z",
     "iopub.status.idle": "2021-05-18T12:01:35.705243Z",
     "shell.execute_reply": "2021-05-18T12:01:35.705780Z"
    },
    "papermill": {
     "duration": 0.257505,
     "end_time": "2021-05-18T12:01:35.705919",
     "exception": false,
     "start_time": "2021-05-18T12:01:35.448414",
     "status": "completed"
    },
    "tags": []
   },
   "outputs": [
    {
     "data": {
      "image/png": "[encoded data removed]",
      "text/plain": [
       "<Figure size 576x432 with 1 Axes>"
      ]
     },
     "metadata": {
      "needs_background": "light"
     },
     "output_type": "display_data"
    }
   ],
   "source": [
    "fpr, tpr, thresholds = roc_curve(np.array(test_account_preds_tweettext['suspended_label']), np.array(test_account_preds_tweettext['pred_class']))\n",
    "plt.figure(figsize=(8, 6))                         # Not shown\n",
    "plot_roc_curve(fpr, tpr)\n",
    "plt.plot([4.837e-3, 4.837e-3], [0., 0.4368], \"r:\") # Not shown\n",
    "plt.plot([0.0, 4.837e-3], [0.4368, 0.4368], \"r:\")  # Not shown\n",
    "plt.plot([4.837e-3], [0.4368], \"ro\")               # Not shown\n",
    "plt.show()"
   ]
  },
  {
   "cell_type": "code",
   "execution_count": 93,
   "metadata": {
    "execution": {
     "iopub.execute_input": "2021-05-18T12:01:35.929698Z",
     "iopub.status.busy": "2021-05-18T12:01:35.928777Z",
     "iopub.status.idle": "2021-05-18T12:01:35.935534Z",
     "shell.execute_reply": "2021-05-18T12:01:35.935107Z"
    },
    "papermill": {
     "duration": 0.118477,
     "end_time": "2021-05-18T12:01:35.935629",
     "exception": false,
     "start_time": "2021-05-18T12:01:35.817152",
     "status": "completed"
    },
    "tags": []
   },
   "outputs": [
    {
     "data": {
      "text/plain": [
       "0.5"
      ]
     },
     "execution_count": 93,
     "metadata": {},
     "output_type": "execute_result"
    }
   ],
   "source": [
    "roc_auc_score(np.array(test_account_preds_tweettext['suspended_label']), np.array(test_account_preds_tweettext['pred_class']))"
   ]
  },
  {
   "cell_type": "code",
   "execution_count": 94,
   "metadata": {
    "execution": {
     "iopub.execute_input": "2021-05-18T12:01:36.152907Z",
     "iopub.status.busy": "2021-05-18T12:01:36.151904Z",
     "iopub.status.idle": "2021-05-18T12:01:36.158228Z",
     "shell.execute_reply": "2021-05-18T12:01:36.157638Z"
    },
    "papermill": {
     "duration": 0.11566,
     "end_time": "2021-05-18T12:01:36.158341",
     "exception": false,
     "start_time": "2021-05-18T12:01:36.042681",
     "status": "completed"
    },
    "tags": []
   },
   "outputs": [],
   "source": [
    "test_account_preds_tweettext.to_csv('test_account_preds_tweettext_labse.csv', index=False, encoding = \"utf_8_sig\")"
   ]
  }
 ],
 "metadata": {
  "kernelspec": {
   "display_name": "Python 3",
   "language": "python",
   "name": "python3"
  },
  "language_info": {
   "codemirror_mode": {
    "name": "ipython",
    "version": 3
   },
   "file_extension": ".py",
   "mimetype": "text/x-python",
   "name": "python",
   "nbconvert_exporter": "python",
   "pygments_lexer": "ipython3",
   "version": "3.7.6"
  },
  "papermill": {
   "duration": 432.739205,
   "end_time": "2021-05-18T12:01:36.470015",
   "environment_variables": {},
   "exception": null,
   "input_path": "__notebook__.ipynb",
   "output_path": "__notebook__.ipynb",
   "parameters": {},
   "start_time": "2021-05-18T11:54:23.730810",
   "version": "2.1.0"
  },
  "widgets": {
   "application/vnd.jupyter.widget-state+json": {
    "state": {
     "0bd12270efe04e5d99c6abacbcd69961": {
      "model_module": "@jupyter-widgets/base",
      "model_module_version": "1.2.0",
      "model_name": "LayoutModel",
      "state": {
       "_model_module": "@jupyter-widgets/base",
       "_model_module_version": "1.2.0",
       "_model_name": "LayoutModel",
       "_view_count": null,
       "_view_module": "@jupyter-widgets/base",
       "_view_module_version": "1.2.0",
       "_view_name": "LayoutView",
       "align_content": null,
       "align_items": null,
       "align_self": null,
       "border": null,
       "bottom": null,
       "display": null,
       "flex": null,
       "flex_flow": null,
       "grid_area": null,
       "grid_auto_columns": null,
       "grid_auto_flow": null,
       "grid_auto_rows": null,
       "grid_column": null,
       "grid_gap": null,
       "grid_row": null,
       "grid_template_areas": null,
       "grid_template_columns": null,
       "grid_template_rows": null,
       "height": null,
       "justify_content": null,
       "justify_items": null,
       "left": null,
       "margin": null,
       "max_height": null,
       "max_width": null,
       "min_height": null,
       "min_width": null,
       "object_fit": null,
       "object_position": null,
       "order": null,
       "overflow": null,
       "overflow_x": null,
       "overflow_y": null,
       "padding": null,
       "right": null,
       "top": null,
       "visibility": null,
       "width": null
      }
     },
     "13d2700513c248a7a190a27fe3cab71f": {
      "model_module": "@jupyter-widgets/base",
      "model_module_version": "1.2.0",
      "model_name": "LayoutModel",
      "state": {
       "_model_module": "@jupyter-widgets/base",
       "_model_module_version": "1.2.0",
       "_model_name": "LayoutModel",
       "_view_count": null,
       "_view_module": "@jupyter-widgets/base",
       "_view_module_version": "1.2.0",
       "_view_name": "LayoutView",
       "align_content": null,
       "align_items": null,
       "align_self": null,
       "border": null,
       "bottom": null,
       "display": null,
       "flex": null,
       "flex_flow": null,
       "grid_area": null,
       "grid_auto_columns": null,
       "grid_auto_flow": null,
       "grid_auto_rows": null,
       "grid_column": null,
       "grid_gap": null,
       "grid_row": null,
       "grid_template_areas": null,
       "grid_template_columns": null,
       "grid_template_rows": null,
       "height": null,
       "justify_content": null,
       "justify_items": null,
       "left": null,
       "margin": null,
       "max_height": null,
       "max_width": null,
       "min_height": null,
       "min_width": null,
       "object_fit": null,
       "object_position": null,
       "order": null,
       "overflow": null,
       "overflow_x": null,
       "overflow_y": null,
       "padding": null,
       "right": null,
       "top": null,
       "visibility": null,
       "width": null
      }
     },
     "1439947dbd0a4cdab15acc8d6043c9dd": {
      "model_module": "@jupyter-widgets/base",
      "model_module_version": "1.2.0",
      "model_name": "LayoutModel",
      "state": {
       "_model_module": "@jupyter-widgets/base",
       "_model_module_version": "1.2.0",
       "_model_name": "LayoutModel",
       "_view_count": null,
       "_view_module": "@jupyter-widgets/base",
       "_view_module_version": "1.2.0",
       "_view_name": "LayoutView",
       "align_content": null,
       "align_items": null,
       "align_self": null,
       "border": null,
       "bottom": null,
       "display": null,
       "flex": null,
       "flex_flow": null,
       "grid_area": null,
       "grid_auto_columns": null,
       "grid_auto_flow": null,
       "grid_auto_rows": null,
       "grid_column": null,
       "grid_gap": null,
       "grid_row": null,
       "grid_template_areas": null,
       "grid_template_columns": null,
       "grid_template_rows": null,
       "height": null,
       "justify_content": null,
       "justify_items": null,
       "left": null,
       "margin": null,
       "max_height": null,
       "max_width": null,
       "min_height": null,
       "min_width": null,
       "object_fit": null,
       "object_position": null,
       "order": null,
       "overflow": null,
       "overflow_x": null,
       "overflow_y": null,
       "padding": null,
       "right": null,
       "top": null,
       "visibility": null,
       "width": null
      }
     },
     "1dae99e56ec64b069d5fe62bed5f38be": {
      "model_module": "@jupyter-widgets/controls",
      "model_module_version": "1.5.0",
      "model_name": "FloatProgressModel",
      "state": {
       "_dom_classes": [],
       "_model_module": "@jupyter-widgets/controls",
       "_model_module_version": "1.5.0",
       "_model_name": "FloatProgressModel",
       "_view_count": null,
       "_view_module": "@jupyter-widgets/controls",
       "_view_module_version": "1.5.0",
       "_view_name": "ProgressView",
       "bar_style": "success",
       "description": "Downloading: 100%",
       "description_tooltip": null,
       "layout": "IPY_MODEL_1439947dbd0a4cdab15acc8d6043c9dd",
       "max": 5220781.0,
       "min": 0.0,
       "orientation": "horizontal",
       "style": "IPY_MODEL_caa29c755d5e4a43b01fb70240e6e083",
       "value": 5220781.0
      }
     },
     "1ec59d11807a495a9b1a9c8b21aa6b8d": {
      "model_module": "@jupyter-widgets/controls",
      "model_module_version": "1.5.0",
      "model_name": "DescriptionStyleModel",
      "state": {
       "_model_module": "@jupyter-widgets/controls",
       "_model_module_version": "1.5.0",
       "_model_name": "DescriptionStyleModel",
       "_view_count": null,
       "_view_module": "@jupyter-widgets/base",
       "_view_module_version": "1.2.0",
       "_view_name": "StyleView",
       "description_width": ""
      }
     },
     "1ff70c7b6de948eeba138a89226c042a": {
      "model_module": "@jupyter-widgets/controls",
      "model_module_version": "1.5.0",
      "model_name": "ProgressStyleModel",
      "state": {
       "_model_module": "@jupyter-widgets/controls",
       "_model_module_version": "1.5.0",
       "_model_name": "ProgressStyleModel",
       "_view_count": null,
       "_view_module": "@jupyter-widgets/base",
       "_view_module_version": "1.2.0",
       "_view_name": "StyleView",
       "bar_color": null,
       "description_width": "initial"
      }
     },
     "2413a2cd5134480196634281f8ac8fd0": {
      "model_module": "@jupyter-widgets/base",
      "model_module_version": "1.2.0",
      "model_name": "LayoutModel",
      "state": {
       "_model_module": "@jupyter-widgets/base",
       "_model_module_version": "1.2.0",
       "_model_name": "LayoutModel",
       "_view_count": null,
       "_view_module": "@jupyter-widgets/base",
       "_view_module_version": "1.2.0",
       "_view_name": "LayoutView",
       "align_content": null,
       "align_items": null,
       "align_self": null,
       "border": null,
       "bottom": null,
       "display": null,
       "flex": null,
       "flex_flow": null,
       "grid_area": null,
       "grid_auto_columns": null,
       "grid_auto_flow": null,
       "grid_auto_rows": null,
       "grid_column": null,
       "grid_gap": null,
       "grid_row": null,
       "grid_template_areas": null,
       "grid_template_columns": null,
       "grid_template_rows": null,
       "height": null,
       "justify_content": null,
       "justify_items": null,
       "left": null,
       "margin": null,
       "max_height": null,
       "max_width": null,
       "min_height": null,
       "min_width": null,
       "object_fit": null,
       "object_position": null,
       "order": null,
       "overflow": null,
       "overflow_x": null,
       "overflow_y": null,
       "padding": null,
       "right": null,
       "top": null,
       "visibility": null,
       "width": null
      }
     },
     "2674d99f138b420ba5d71f748b9ce1b8": {
      "model_module": "@jupyter-widgets/controls",
      "model_module_version": "1.5.0",
      "model_name": "HBoxModel",
      "state": {
       "_dom_classes": [],
       "_model_module": "@jupyter-widgets/controls",
       "_model_module_version": "1.5.0",
       "_model_name": "HBoxModel",
       "_view_count": null,
       "_view_module": "@jupyter-widgets/controls",
       "_view_module_version": "1.5.0",
       "_view_name": "HBoxView",
       "box_style": "",
       "children": [
        "IPY_MODEL_62d62b2b2a0d4d0fa4da1a0b317b2557",
        "IPY_MODEL_eb3bf9ec2b184665ac0d053bcc01432f"
       ],
       "layout": "IPY_MODEL_2413a2cd5134480196634281f8ac8fd0"
      }
     },
     "267607141d964e8a80862fca936a507e": {
      "model_module": "@jupyter-widgets/controls",
      "model_module_version": "1.5.0",
      "model_name": "HBoxModel",
      "state": {
       "_dom_classes": [],
       "_model_module": "@jupyter-widgets/controls",
       "_model_module_version": "1.5.0",
       "_model_name": "HBoxModel",
       "_view_count": null,
       "_view_module": "@jupyter-widgets/controls",
       "_view_module_version": "1.5.0",
       "_view_name": "HBoxView",
       "box_style": "",
       "children": [
        "IPY_MODEL_1dae99e56ec64b069d5fe62bed5f38be",
        "IPY_MODEL_6811a5b6659549c9af75abd79903d36b"
       ],
       "layout": "IPY_MODEL_d04a8e9adcb446d4b398108545a93a17"
      }
     },
     "2842a8dcda834877b87041c11a18e784": {
      "model_module": "@jupyter-widgets/base",
      "model_module_version": "1.2.0",
      "model_name": "LayoutModel",
      "state": {
       "_model_module": "@jupyter-widgets/base",
       "_model_module_version": "1.2.0",
       "_model_name": "LayoutModel",
       "_view_count": null,
       "_view_module": "@jupyter-widgets/base",
       "_view_module_version": "1.2.0",
       "_view_name": "LayoutView",
       "align_content": null,
       "align_items": null,
       "align_self": null,
       "border": null,
       "bottom": null,
       "display": null,
       "flex": null,
       "flex_flow": null,
       "grid_area": null,
       "grid_auto_columns": null,
       "grid_auto_flow": null,
       "grid_auto_rows": null,
       "grid_column": null,
       "grid_gap": null,
       "grid_row": null,
       "grid_template_areas": null,
       "grid_template_columns": null,
       "grid_template_rows": null,
       "height": null,
       "justify_content": null,
       "justify_items": null,
       "left": null,
       "margin": null,
       "max_height": null,
       "max_width": null,
       "min_height": null,
       "min_width": null,
       "object_fit": null,
       "object_position": null,
       "order": null,
       "overflow": null,
       "overflow_x": null,
       "overflow_y": null,
       "padding": null,
       "right": null,
       "top": null,
       "visibility": null,
       "width": null
      }
     },
     "3ac3d5c6d0f74e08975474075de4918e": {
      "model_module": "@jupyter-widgets/controls",
      "model_module_version": "1.5.0",
      "model_name": "HTMLModel",
      "state": {
       "_dom_classes": [],
       "_model_module": "@jupyter-widgets/controls",
       "_model_module_version": "1.5.0",
       "_model_name": "HTMLModel",
       "_view_count": null,
       "_view_module": "@jupyter-widgets/controls",
       "_view_module_version": "1.5.0",
       "_view_name": "HTMLView",
       "description": "",
       "description_tooltip": null,
       "layout": "IPY_MODEL_d1b634280cb04dfea5354ca610082668",
       "placeholder": "​",
       "style": "IPY_MODEL_1ec59d11807a495a9b1a9c8b21aa6b8d",
       "value": " 472/472 [00:00&lt;00:00, 3.56kB/s]"
      }
     },
     "3bff30e2a5cf41f1aa45addda50ea73d": {
      "model_module": "@jupyter-widgets/base",
      "model_module_version": "1.2.0",
      "model_name": "LayoutModel",
      "state": {
       "_model_module": "@jupyter-widgets/base",
       "_model_module_version": "1.2.0",
       "_model_name": "LayoutModel",
       "_view_count": null,
       "_view_module": "@jupyter-widgets/base",
       "_view_module_version": "1.2.0",
       "_view_name": "LayoutView",
       "align_content": null,
       "align_items": null,
       "align_self": null,
       "border": null,
       "bottom": null,
       "display": null,
       "flex": null,
       "flex_flow": null,
       "grid_area": null,
       "grid_auto_columns": null,
       "grid_auto_flow": null,
       "grid_auto_rows": null,
       "grid_column": null,
       "grid_gap": null,
       "grid_row": null,
       "grid_template_areas": null,
       "grid_template_columns": null,
       "grid_template_rows": null,
       "height": null,
       "justify_content": null,
       "justify_items": null,
       "left": null,
       "margin": null,
       "max_height": null,
       "max_width": null,
       "min_height": null,
       "min_width": null,
       "object_fit": null,
       "object_position": null,
       "order": null,
       "overflow": null,
       "overflow_x": null,
       "overflow_y": null,
       "padding": null,
       "right": null,
       "top": null,
       "visibility": null,
       "width": null
      }
     },
     "427218d040074856af212be5a1d9528c": {
      "model_module": "@jupyter-widgets/controls",
      "model_module_version": "1.5.0",
      "model_name": "HBoxModel",
      "state": {
       "_dom_classes": [],
       "_model_module": "@jupyter-widgets/controls",
       "_model_module_version": "1.5.0",
       "_model_name": "HBoxModel",
       "_view_count": null,
       "_view_module": "@jupyter-widgets/controls",
       "_view_module_version": "1.5.0",
       "_view_name": "HBoxView",
       "box_style": "",
       "children": [
        "IPY_MODEL_e6fa8bf5dd3c4b2291fb7aa823d03102",
        "IPY_MODEL_3ac3d5c6d0f74e08975474075de4918e"
       ],
       "layout": "IPY_MODEL_2842a8dcda834877b87041c11a18e784"
      }
     },
     "449ab83e2d994f3c965944120e76a5ca": {
      "model_module": "@jupyter-widgets/controls",
      "model_module_version": "1.5.0",
      "model_name": "HBoxModel",
      "state": {
       "_dom_classes": [],
       "_model_module": "@jupyter-widgets/controls",
       "_model_module_version": "1.5.0",
       "_model_name": "HBoxModel",
       "_view_count": null,
       "_view_module": "@jupyter-widgets/controls",
       "_view_module_version": "1.5.0",
       "_view_name": "HBoxView",
       "box_style": "",
       "children": [
        "IPY_MODEL_88bd90a05857426298ea222046080744",
        "IPY_MODEL_49ac6d512e5744a58a0bfffe3ecbb72f"
       ],
       "layout": "IPY_MODEL_3bff30e2a5cf41f1aa45addda50ea73d"
      }
     },
     "478490893a654a89a55fb51186629240": {
      "model_module": "@jupyter-widgets/base",
      "model_module_version": "1.2.0",
      "model_name": "LayoutModel",
      "state": {
       "_model_module": "@jupyter-widgets/base",
       "_model_module_version": "1.2.0",
       "_model_name": "LayoutModel",
       "_view_count": null,
       "_view_module": "@jupyter-widgets/base",
       "_view_module_version": "1.2.0",
       "_view_name": "LayoutView",
       "align_content": null,
       "align_items": null,
       "align_self": null,
       "border": null,
       "bottom": null,
       "display": null,
       "flex": null,
       "flex_flow": null,
       "grid_area": null,
       "grid_auto_columns": null,
       "grid_auto_flow": null,
       "grid_auto_rows": null,
       "grid_column": null,
       "grid_gap": null,
       "grid_row": null,
       "grid_template_areas": null,
       "grid_template_columns": null,
       "grid_template_rows": null,
       "height": null,
       "justify_content": null,
       "justify_items": null,
       "left": null,
       "margin": null,
       "max_height": null,
       "max_width": null,
       "min_height": null,
       "min_width": null,
       "object_fit": null,
       "object_position": null,
       "order": null,
       "overflow": null,
       "overflow_x": null,
       "overflow_y": null,
       "padding": null,
       "right": null,
       "top": null,
       "visibility": null,
       "width": null
      }
     },
     "49ac6d512e5744a58a0bfffe3ecbb72f": {
      "model_module": "@jupyter-widgets/controls",
      "model_module_version": "1.5.0",
      "model_name": "HTMLModel",
      "state": {
       "_dom_classes": [],
       "_model_module": "@jupyter-widgets/controls",
       "_model_module_version": "1.5.0",
       "_model_name": "HTMLModel",
       "_view_count": null,
       "_view_module": "@jupyter-widgets/controls",
       "_view_module_version": "1.5.0",
       "_view_name": "HTMLView",
       "description": "",
       "description_tooltip": null,
       "layout": "IPY_MODEL_651d1c1dcd174c979ee146ced5d3efc7",
       "placeholder": "​",
       "style": "IPY_MODEL_de4ff39a4fd94ec5bd1abc63bbce146a",
       "value": " 62.0/62.0 [00:00&lt;00:00, 101B/s]"
      }
     },
     "525e9dc331d04ccdb64a313ed2e20576": {
      "model_module": "@jupyter-widgets/base",
      "model_module_version": "1.2.0",
      "model_name": "LayoutModel",
      "state": {
       "_model_module": "@jupyter-widgets/base",
       "_model_module_version": "1.2.0",
       "_model_name": "LayoutModel",
       "_view_count": null,
       "_view_module": "@jupyter-widgets/base",
       "_view_module_version": "1.2.0",
       "_view_name": "LayoutView",
       "align_content": null,
       "align_items": null,
       "align_self": null,
       "border": null,
       "bottom": null,
       "display": null,
       "flex": null,
       "flex_flow": null,
       "grid_area": null,
       "grid_auto_columns": null,
       "grid_auto_flow": null,
       "grid_auto_rows": null,
       "grid_column": null,
       "grid_gap": null,
       "grid_row": null,
       "grid_template_areas": null,
       "grid_template_columns": null,
       "grid_template_rows": null,
       "height": null,
       "justify_content": null,
       "justify_items": null,
       "left": null,
       "margin": null,
       "max_height": null,
       "max_width": null,
       "min_height": null,
       "min_width": null,
       "object_fit": null,
       "object_position": null,
       "order": null,
       "overflow": null,
       "overflow_x": null,
       "overflow_y": null,
       "padding": null,
       "right": null,
       "top": null,
       "visibility": null,
       "width": null
      }
     },
     "5597dc65a3e84737bccaa18a49dae868": {
      "model_module": "@jupyter-widgets/base",
      "model_module_version": "1.2.0",
      "model_name": "LayoutModel",
      "state": {
       "_model_module": "@jupyter-widgets/base",
       "_model_module_version": "1.2.0",
       "_model_name": "LayoutModel",
       "_view_count": null,
       "_view_module": "@jupyter-widgets/base",
       "_view_module_version": "1.2.0",
       "_view_name": "LayoutView",
       "align_content": null,
       "align_items": null,
       "align_self": null,
       "border": null,
       "bottom": null,
       "display": null,
       "flex": null,
       "flex_flow": null,
       "grid_area": null,
       "grid_auto_columns": null,
       "grid_auto_flow": null,
       "grid_auto_rows": null,
       "grid_column": null,
       "grid_gap": null,
       "grid_row": null,
       "grid_template_areas": null,
       "grid_template_columns": null,
       "grid_template_rows": null,
       "height": null,
       "justify_content": null,
       "justify_items": null,
       "left": null,
       "margin": null,
       "max_height": null,
       "max_width": null,
       "min_height": null,
       "min_width": null,
       "object_fit": null,
       "object_position": null,
       "order": null,
       "overflow": null,
       "overflow_x": null,
       "overflow_y": null,
       "padding": null,
       "right": null,
       "top": null,
       "visibility": null,
       "width": null
      }
     },
     "62d62b2b2a0d4d0fa4da1a0b317b2557": {
      "model_module": "@jupyter-widgets/controls",
      "model_module_version": "1.5.0",
      "model_name": "FloatProgressModel",
      "state": {
       "_dom_classes": [],
       "_model_module": "@jupyter-widgets/controls",
       "_model_module_version": "1.5.0",
       "_model_name": "FloatProgressModel",
       "_view_count": null,
       "_view_module": "@jupyter-widgets/controls",
       "_view_module_version": "1.5.0",
       "_view_name": "ProgressView",
       "bar_style": "success",
       "description": "Downloading: 100%",
       "description_tooltip": null,
       "layout": "IPY_MODEL_e119b24108c544429b42d079b66bef3b",
       "max": 112.0,
       "min": 0.0,
       "orientation": "horizontal",
       "style": "IPY_MODEL_96a663cb473942709176f3cfc1afb6b7",
       "value": 112.0
      }
     },
     "651d1c1dcd174c979ee146ced5d3efc7": {
      "model_module": "@jupyter-widgets/base",
      "model_module_version": "1.2.0",
      "model_name": "LayoutModel",
      "state": {
       "_model_module": "@jupyter-widgets/base",
       "_model_module_version": "1.2.0",
       "_model_name": "LayoutModel",
       "_view_count": null,
       "_view_module": "@jupyter-widgets/base",
       "_view_module_version": "1.2.0",
       "_view_name": "LayoutView",
       "align_content": null,
       "align_items": null,
       "align_self": null,
       "border": null,
       "bottom": null,
       "display": null,
       "flex": null,
       "flex_flow": null,
       "grid_area": null,
       "grid_auto_columns": null,
       "grid_auto_flow": null,
       "grid_auto_rows": null,
       "grid_column": null,
       "grid_gap": null,
       "grid_row": null,
       "grid_template_areas": null,
       "grid_template_columns": null,
       "grid_template_rows": null,
       "height": null,
       "justify_content": null,
       "justify_items": null,
       "left": null,
       "margin": null,
       "max_height": null,
       "max_width": null,
       "min_height": null,
       "min_width": null,
       "object_fit": null,
       "object_position": null,
       "order": null,
       "overflow": null,
       "overflow_x": null,
       "overflow_y": null,
       "padding": null,
       "right": null,
       "top": null,
       "visibility": null,
       "width": null
      }
     },
     "6811a5b6659549c9af75abd79903d36b": {
      "model_module": "@jupyter-widgets/controls",
      "model_module_version": "1.5.0",
      "model_name": "HTMLModel",
      "state": {
       "_dom_classes": [],
       "_model_module": "@jupyter-widgets/controls",
       "_model_module_version": "1.5.0",
       "_model_name": "HTMLModel",
       "_view_count": null,
       "_view_module": "@jupyter-widgets/controls",
       "_view_module_version": "1.5.0",
       "_view_name": "HTMLView",
       "description": "",
       "description_tooltip": null,
       "layout": "IPY_MODEL_13d2700513c248a7a190a27fe3cab71f",
       "placeholder": "​",
       "style": "IPY_MODEL_e1d03ee4915644549999d9424583dd32",
       "value": " 5.22M/5.22M [00:00&lt;00:00, 7.20MB/s]"
      }
     },
     "6a0acdebcfa6454285f5f3cba2945a10": {
      "model_module": "@jupyter-widgets/controls",
      "model_module_version": "1.5.0",
      "model_name": "ProgressStyleModel",
      "state": {
       "_model_module": "@jupyter-widgets/controls",
       "_model_module_version": "1.5.0",
       "_model_name": "ProgressStyleModel",
       "_view_count": null,
       "_view_module": "@jupyter-widgets/base",
       "_view_module_version": "1.2.0",
       "_view_name": "StyleView",
       "bar_color": null,
       "description_width": "initial"
      }
     },
     "6e87f12cf78a44128ef2c3fabefba914": {
      "model_module": "@jupyter-widgets/base",
      "model_module_version": "1.2.0",
      "model_name": "LayoutModel",
      "state": {
       "_model_module": "@jupyter-widgets/base",
       "_model_module_version": "1.2.0",
       "_model_name": "LayoutModel",
       "_view_count": null,
       "_view_module": "@jupyter-widgets/base",
       "_view_module_version": "1.2.0",
       "_view_name": "LayoutView",
       "align_content": null,
       "align_items": null,
       "align_self": null,
       "border": null,
       "bottom": null,
       "display": null,
       "flex": null,
       "flex_flow": null,
       "grid_area": null,
       "grid_auto_columns": null,
       "grid_auto_flow": null,
       "grid_auto_rows": null,
       "grid_column": null,
       "grid_gap": null,
       "grid_row": null,
       "grid_template_areas": null,
       "grid_template_columns": null,
       "grid_template_rows": null,
       "height": null,
       "justify_content": null,
       "justify_items": null,
       "left": null,
       "margin": null,
       "max_height": null,
       "max_width": null,
       "min_height": null,
       "min_width": null,
       "object_fit": null,
       "object_position": null,
       "order": null,
       "overflow": null,
       "overflow_x": null,
       "overflow_y": null,
       "padding": null,
       "right": null,
       "top": null,
       "visibility": null,
       "width": null
      }
     },
     "7275cceca37e479f96bea60d6d5a4aa6": {
      "model_module": "@jupyter-widgets/controls",
      "model_module_version": "1.5.0",
      "model_name": "DescriptionStyleModel",
      "state": {
       "_model_module": "@jupyter-widgets/controls",
       "_model_module_version": "1.5.0",
       "_model_name": "DescriptionStyleModel",
       "_view_count": null,
       "_view_module": "@jupyter-widgets/base",
       "_view_module_version": "1.2.0",
       "_view_name": "StyleView",
       "description_width": ""
      }
     },
     "88bd90a05857426298ea222046080744": {
      "model_module": "@jupyter-widgets/controls",
      "model_module_version": "1.5.0",
      "model_name": "FloatProgressModel",
      "state": {
       "_dom_classes": [],
       "_model_module": "@jupyter-widgets/controls",
       "_model_module_version": "1.5.0",
       "_model_name": "FloatProgressModel",
       "_view_count": null,
       "_view_module": "@jupyter-widgets/controls",
       "_view_module_version": "1.5.0",
       "_view_name": "ProgressView",
       "bar_style": "success",
       "description": "Downloading: 100%",
       "description_tooltip": null,
       "layout": "IPY_MODEL_0bd12270efe04e5d99c6abacbcd69961",
       "max": 62.0,
       "min": 0.0,
       "orientation": "horizontal",
       "style": "IPY_MODEL_6a0acdebcfa6454285f5f3cba2945a10",
       "value": 62.0
      }
     },
     "8b659caf0c5e46e9901472c0a76f8684": {
      "model_module": "@jupyter-widgets/controls",
      "model_module_version": "1.5.0",
      "model_name": "DescriptionStyleModel",
      "state": {
       "_model_module": "@jupyter-widgets/controls",
       "_model_module_version": "1.5.0",
       "_model_name": "DescriptionStyleModel",
       "_view_count": null,
       "_view_module": "@jupyter-widgets/base",
       "_view_module_version": "1.2.0",
       "_view_name": "StyleView",
       "description_width": ""
      }
     },
     "906a8434a22d4050958cfdf2eac65a5f": {
      "model_module": "@jupyter-widgets/base",
      "model_module_version": "1.2.0",
      "model_name": "LayoutModel",
      "state": {
       "_model_module": "@jupyter-widgets/base",
       "_model_module_version": "1.2.0",
       "_model_name": "LayoutModel",
       "_view_count": null,
       "_view_module": "@jupyter-widgets/base",
       "_view_module_version": "1.2.0",
       "_view_name": "LayoutView",
       "align_content": null,
       "align_items": null,
       "align_self": null,
       "border": null,
       "bottom": null,
       "display": null,
       "flex": null,
       "flex_flow": null,
       "grid_area": null,
       "grid_auto_columns": null,
       "grid_auto_flow": null,
       "grid_auto_rows": null,
       "grid_column": null,
       "grid_gap": null,
       "grid_row": null,
       "grid_template_areas": null,
       "grid_template_columns": null,
       "grid_template_rows": null,
       "height": null,
       "justify_content": null,
       "justify_items": null,
       "left": null,
       "margin": null,
       "max_height": null,
       "max_width": null,
       "min_height": null,
       "min_width": null,
       "object_fit": null,
       "object_position": null,
       "order": null,
       "overflow": null,
       "overflow_x": null,
       "overflow_y": null,
       "padding": null,
       "right": null,
       "top": null,
       "visibility": null,
       "width": null
      }
     },
     "911545d292e94af8b5b6dcf38f833202": {
      "model_module": "@jupyter-widgets/controls",
      "model_module_version": "1.5.0",
      "model_name": "ProgressStyleModel",
      "state": {
       "_model_module": "@jupyter-widgets/controls",
       "_model_module_version": "1.5.0",
       "_model_name": "ProgressStyleModel",
       "_view_count": null,
       "_view_module": "@jupyter-widgets/base",
       "_view_module_version": "1.2.0",
       "_view_name": "StyleView",
       "bar_color": null,
       "description_width": "initial"
      }
     },
     "96a663cb473942709176f3cfc1afb6b7": {
      "model_module": "@jupyter-widgets/controls",
      "model_module_version": "1.5.0",
      "model_name": "ProgressStyleModel",
      "state": {
       "_model_module": "@jupyter-widgets/controls",
       "_model_module_version": "1.5.0",
       "_model_name": "ProgressStyleModel",
       "_view_count": null,
       "_view_module": "@jupyter-widgets/base",
       "_view_module_version": "1.2.0",
       "_view_name": "StyleView",
       "bar_color": null,
       "description_width": "initial"
      }
     },
     "a09b9d422005423c97d462fdb5cf943c": {
      "model_module": "@jupyter-widgets/controls",
      "model_module_version": "1.5.0",
      "model_name": "FloatProgressModel",
      "state": {
       "_dom_classes": [],
       "_model_module": "@jupyter-widgets/controls",
       "_model_module_version": "1.5.0",
       "_model_name": "FloatProgressModel",
       "_view_count": null,
       "_view_module": "@jupyter-widgets/controls",
       "_view_module_version": "1.5.0",
       "_view_name": "ProgressView",
       "bar_style": "success",
       "description": "Downloading: 100%",
       "description_tooltip": null,
       "layout": "IPY_MODEL_6e87f12cf78a44128ef2c3fabefba914",
       "max": 1888168867.0,
       "min": 0.0,
       "orientation": "horizontal",
       "style": "IPY_MODEL_1ff70c7b6de948eeba138a89226c042a",
       "value": 1888168867.0
      }
     },
     "b9902c0b14df47ae93e65a3d6291d798": {
      "model_module": "@jupyter-widgets/controls",
      "model_module_version": "1.5.0",
      "model_name": "HTMLModel",
      "state": {
       "_dom_classes": [],
       "_model_module": "@jupyter-widgets/controls",
       "_model_module_version": "1.5.0",
       "_model_name": "HTMLModel",
       "_view_count": null,
       "_view_module": "@jupyter-widgets/controls",
       "_view_module_version": "1.5.0",
       "_view_name": "HTMLView",
       "description": "",
       "description_tooltip": null,
       "layout": "IPY_MODEL_478490893a654a89a55fb51186629240",
       "placeholder": "​",
       "style": "IPY_MODEL_7275cceca37e479f96bea60d6d5a4aa6",
       "value": " 1.89G/1.89G [00:58&lt;00:00, 32.1MB/s]"
      }
     },
     "caa29c755d5e4a43b01fb70240e6e083": {
      "model_module": "@jupyter-widgets/controls",
      "model_module_version": "1.5.0",
      "model_name": "ProgressStyleModel",
      "state": {
       "_model_module": "@jupyter-widgets/controls",
       "_model_module_version": "1.5.0",
       "_model_name": "ProgressStyleModel",
       "_view_count": null,
       "_view_module": "@jupyter-widgets/base",
       "_view_module_version": "1.2.0",
       "_view_name": "StyleView",
       "bar_color": null,
       "description_width": "initial"
      }
     },
     "d04a8e9adcb446d4b398108545a93a17": {
      "model_module": "@jupyter-widgets/base",
      "model_module_version": "1.2.0",
      "model_name": "LayoutModel",
      "state": {
       "_model_module": "@jupyter-widgets/base",
       "_model_module_version": "1.2.0",
       "_model_name": "LayoutModel",
       "_view_count": null,
       "_view_module": "@jupyter-widgets/base",
       "_view_module_version": "1.2.0",
       "_view_name": "LayoutView",
       "align_content": null,
       "align_items": null,
       "align_self": null,
       "border": null,
       "bottom": null,
       "display": null,
       "flex": null,
       "flex_flow": null,
       "grid_area": null,
       "grid_auto_columns": null,
       "grid_auto_flow": null,
       "grid_auto_rows": null,
       "grid_column": null,
       "grid_gap": null,
       "grid_row": null,
       "grid_template_areas": null,
       "grid_template_columns": null,
       "grid_template_rows": null,
       "height": null,
       "justify_content": null,
       "justify_items": null,
       "left": null,
       "margin": null,
       "max_height": null,
       "max_width": null,
       "min_height": null,
       "min_width": null,
       "object_fit": null,
       "object_position": null,
       "order": null,
       "overflow": null,
       "overflow_x": null,
       "overflow_y": null,
       "padding": null,
       "right": null,
       "top": null,
       "visibility": null,
       "width": null
      }
     },
     "d1b634280cb04dfea5354ca610082668": {
      "model_module": "@jupyter-widgets/base",
      "model_module_version": "1.2.0",
      "model_name": "LayoutModel",
      "state": {
       "_model_module": "@jupyter-widgets/base",
       "_model_module_version": "1.2.0",
       "_model_name": "LayoutModel",
       "_view_count": null,
       "_view_module": "@jupyter-widgets/base",
       "_view_module_version": "1.2.0",
       "_view_name": "LayoutView",
       "align_content": null,
       "align_items": null,
       "align_self": null,
       "border": null,
       "bottom": null,
       "display": null,
       "flex": null,
       "flex_flow": null,
       "grid_area": null,
       "grid_auto_columns": null,
       "grid_auto_flow": null,
       "grid_auto_rows": null,
       "grid_column": null,
       "grid_gap": null,
       "grid_row": null,
       "grid_template_areas": null,
       "grid_template_columns": null,
       "grid_template_rows": null,
       "height": null,
       "justify_content": null,
       "justify_items": null,
       "left": null,
       "margin": null,
       "max_height": null,
       "max_width": null,
       "min_height": null,
       "min_width": null,
       "object_fit": null,
       "object_position": null,
       "order": null,
       "overflow": null,
       "overflow_x": null,
       "overflow_y": null,
       "padding": null,
       "right": null,
       "top": null,
       "visibility": null,
       "width": null
      }
     },
     "d4e86ec6368f4337bda95d1351bc7f75": {
      "model_module": "@jupyter-widgets/controls",
      "model_module_version": "1.5.0",
      "model_name": "HBoxModel",
      "state": {
       "_dom_classes": [],
       "_model_module": "@jupyter-widgets/controls",
       "_model_module_version": "1.5.0",
       "_model_name": "HBoxModel",
       "_view_count": null,
       "_view_module": "@jupyter-widgets/controls",
       "_view_module_version": "1.5.0",
       "_view_name": "HBoxView",
       "box_style": "",
       "children": [
        "IPY_MODEL_a09b9d422005423c97d462fdb5cf943c",
        "IPY_MODEL_b9902c0b14df47ae93e65a3d6291d798"
       ],
       "layout": "IPY_MODEL_906a8434a22d4050958cfdf2eac65a5f"
      }
     },
     "de4ff39a4fd94ec5bd1abc63bbce146a": {
      "model_module": "@jupyter-widgets/controls",
      "model_module_version": "1.5.0",
      "model_name": "DescriptionStyleModel",
      "state": {
       "_model_module": "@jupyter-widgets/controls",
       "_model_module_version": "1.5.0",
       "_model_name": "DescriptionStyleModel",
       "_view_count": null,
       "_view_module": "@jupyter-widgets/base",
       "_view_module_version": "1.2.0",
       "_view_name": "StyleView",
       "description_width": ""
      }
     },
     "e119b24108c544429b42d079b66bef3b": {
      "model_module": "@jupyter-widgets/base",
      "model_module_version": "1.2.0",
      "model_name": "LayoutModel",
      "state": {
       "_model_module": "@jupyter-widgets/base",
       "_model_module_version": "1.2.0",
       "_model_name": "LayoutModel",
       "_view_count": null,
       "_view_module": "@jupyter-widgets/base",
       "_view_module_version": "1.2.0",
       "_view_name": "LayoutView",
       "align_content": null,
       "align_items": null,
       "align_self": null,
       "border": null,
       "bottom": null,
       "display": null,
       "flex": null,
       "flex_flow": null,
       "grid_area": null,
       "grid_auto_columns": null,
       "grid_auto_flow": null,
       "grid_auto_rows": null,
       "grid_column": null,
       "grid_gap": null,
       "grid_row": null,
       "grid_template_areas": null,
       "grid_template_columns": null,
       "grid_template_rows": null,
       "height": null,
       "justify_content": null,
       "justify_items": null,
       "left": null,
       "margin": null,
       "max_height": null,
       "max_width": null,
       "min_height": null,
       "min_width": null,
       "object_fit": null,
       "object_position": null,
       "order": null,
       "overflow": null,
       "overflow_x": null,
       "overflow_y": null,
       "padding": null,
       "right": null,
       "top": null,
       "visibility": null,
       "width": null
      }
     },
     "e1d03ee4915644549999d9424583dd32": {
      "model_module": "@jupyter-widgets/controls",
      "model_module_version": "1.5.0",
      "model_name": "DescriptionStyleModel",
      "state": {
       "_model_module": "@jupyter-widgets/controls",
       "_model_module_version": "1.5.0",
       "_model_name": "DescriptionStyleModel",
       "_view_count": null,
       "_view_module": "@jupyter-widgets/base",
       "_view_module_version": "1.2.0",
       "_view_name": "StyleView",
       "description_width": ""
      }
     },
     "e6fa8bf5dd3c4b2291fb7aa823d03102": {
      "model_module": "@jupyter-widgets/controls",
      "model_module_version": "1.5.0",
      "model_name": "FloatProgressModel",
      "state": {
       "_dom_classes": [],
       "_model_module": "@jupyter-widgets/controls",
       "_model_module_version": "1.5.0",
       "_model_name": "FloatProgressModel",
       "_view_count": null,
       "_view_module": "@jupyter-widgets/controls",
       "_view_module_version": "1.5.0",
       "_view_name": "ProgressView",
       "bar_style": "success",
       "description": "Downloading: 100%",
       "description_tooltip": null,
       "layout": "IPY_MODEL_525e9dc331d04ccdb64a313ed2e20576",
       "max": 472.0,
       "min": 0.0,
       "orientation": "horizontal",
       "style": "IPY_MODEL_911545d292e94af8b5b6dcf38f833202",
       "value": 472.0
      }
     },
     "eb3bf9ec2b184665ac0d053bcc01432f": {
      "model_module": "@jupyter-widgets/controls",
      "model_module_version": "1.5.0",
      "model_name": "HTMLModel",
      "state": {
       "_dom_classes": [],
       "_model_module": "@jupyter-widgets/controls",
       "_model_module_version": "1.5.0",
       "_model_name": "HTMLModel",
       "_view_count": null,
       "_view_module": "@jupyter-widgets/controls",
       "_view_module_version": "1.5.0",
       "_view_name": "HTMLView",
       "description": "",
       "description_tooltip": null,
       "layout": "IPY_MODEL_5597dc65a3e84737bccaa18a49dae868",
       "placeholder": "​",
       "style": "IPY_MODEL_8b659caf0c5e46e9901472c0a76f8684",
       "value": " 112/112 [00:00&lt;00:00, 120B/s]"
      }
     }
    },
    "version_major": 2,
    "version_minor": 0
   }
  }
 },
 "nbformat": 4,
 "nbformat_minor": 4
}
