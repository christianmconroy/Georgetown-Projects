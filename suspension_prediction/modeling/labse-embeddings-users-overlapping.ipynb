{
 "cells": [
  {
   "cell_type": "markdown",
   "metadata": {
    "papermill": {
     "duration": 0.057089,
     "end_time": "2021-05-17T13:53:55.354789",
     "exception": false,
     "start_time": "2021-05-17T13:53:55.297700",
     "status": "completed"
    },
    "tags": []
   },
   "source": [
    "### Load in Packages and Set Up Parameters"
   ]
  },
  {
   "cell_type": "code",
   "execution_count": 1,
   "metadata": {
    "_cell_guid": "b1076dfc-b9ad-4769-8c92-a6c4dae69d19",
    "_uuid": "8f2839f25d086af736a60e9eeb907d3b93b6e0e5",
    "execution": {
     "iopub.execute_input": "2021-05-17T13:53:55.503731Z",
     "iopub.status.busy": "2021-05-17T13:53:55.503115Z",
     "iopub.status.idle": "2021-05-17T13:54:00.197217Z",
     "shell.execute_reply": "2021-05-17T13:54:00.198201Z"
    },
    "papermill": {
     "duration": 4.756458,
     "end_time": "2021-05-17T13:54:00.198462",
     "exception": false,
     "start_time": "2021-05-17T13:53:55.442004",
     "status": "completed"
    },
    "tags": []
   },
   "outputs": [],
   "source": [
    "import pandas as pd\n",
    "from keras.preprocessing.sequence import pad_sequences\n",
    "\n",
    "import matplotlib.pyplot as plt\n",
    "%matplotlib inline"
   ]
  },
  {
   "cell_type": "code",
   "execution_count": 2,
   "metadata": {
    "execution": {
     "iopub.execute_input": "2021-05-17T13:54:02.269013Z",
     "iopub.status.busy": "2021-05-17T13:54:02.266776Z",
     "iopub.status.idle": "2021-05-17T13:54:02.275580Z",
     "shell.execute_reply": "2021-05-17T13:54:02.276494Z"
    },
    "papermill": {
     "duration": 2.020413,
     "end_time": "2021-05-17T13:54:02.276675",
     "exception": false,
     "start_time": "2021-05-17T13:54:00.256262",
     "status": "completed"
    },
    "tags": []
   },
   "outputs": [
    {
     "name": "stdout",
     "output_type": "stream",
     "text": [
      "Found GPU at: /device:GPU:0\n"
     ]
    }
   ],
   "source": [
    "import tensorflow as tf\n",
    "# Get the GPU device name.\n",
    "device_name = tf.test.gpu_device_name()\n",
    "# The device name should look like the following:\n",
    "if device_name == '/device:GPU:0':\n",
    "    print('Found GPU at: {}'.format(device_name))\n",
    "else:\n",
    "    raise SystemError('GPU device not found')"
   ]
  },
  {
   "cell_type": "markdown",
   "metadata": {
    "papermill": {
     "duration": 0.107127,
     "end_time": "2021-05-17T13:54:02.495745",
     "exception": false,
     "start_time": "2021-05-17T13:54:02.388618",
     "status": "completed"
    },
    "tags": []
   },
   "source": [
    "In order for torch to use the GPU, we need to identify and specify the GPU as the device. Later, in our training loop, we will load data onto the device"
   ]
  },
  {
   "cell_type": "code",
   "execution_count": 3,
   "metadata": {
    "execution": {
     "iopub.execute_input": "2021-05-17T13:54:02.707842Z",
     "iopub.status.busy": "2021-05-17T13:54:02.707216Z",
     "iopub.status.idle": "2021-05-17T13:54:03.842613Z",
     "shell.execute_reply": "2021-05-17T13:54:03.841972Z"
    },
    "papermill": {
     "duration": 1.243739,
     "end_time": "2021-05-17T13:54:03.842756",
     "exception": false,
     "start_time": "2021-05-17T13:54:02.599017",
     "status": "completed"
    },
    "tags": []
   },
   "outputs": [
    {
     "name": "stdout",
     "output_type": "stream",
     "text": [
      "There are 1 GPU(s) available.\n",
      "We will use the GPU: Tesla P100-PCIE-16GB\n"
     ]
    }
   ],
   "source": [
    "import torch\n",
    "# If there's a GPU available...\n",
    "if torch.cuda.is_available():    \n",
    "    # Tell PyTorch to use the GPU.    \n",
    "    device = torch.device(\"cuda\")\n",
    "    print('There are %d GPU(s) available.' % torch.cuda.device_count())\n",
    "    print('We will use the GPU:', torch.cuda.get_device_name(0))\n",
    "# If not...\n",
    "else:\n",
    "    print('No GPU available, using the CPU instead.')\n",
    "    device = torch.device(\"cpu\")"
   ]
  },
  {
   "cell_type": "markdown",
   "metadata": {
    "papermill": {
     "duration": 0.057694,
     "end_time": "2021-05-17T13:54:03.958858",
     "exception": false,
     "start_time": "2021-05-17T13:54:03.901164",
     "status": "completed"
    },
    "tags": []
   },
   "source": [
    "[link text](https://)Next, let’s install the transformers package from Hugging Face which will give us a pytorch interface for working with BERT. (This library contains interfaces for other pretrained language models like OpenAI’s GPT and GPT-2.) We’ve selected the pytorch interface because it strikes a nice balance between the high-level APIs (which are easy to use but don’t provide insight into how things work) and tensorflow code (which contains lots of details but often sidetracks us into lessons about tensorflow, when the purpose here is BERT!)."
   ]
  },
  {
   "cell_type": "code",
   "execution_count": 4,
   "metadata": {
    "execution": {
     "iopub.execute_input": "2021-05-17T13:54:04.078478Z",
     "iopub.status.busy": "2021-05-17T13:54:04.077530Z",
     "iopub.status.idle": "2021-05-17T13:54:11.824111Z",
     "shell.execute_reply": "2021-05-17T13:54:11.823142Z"
    },
    "papermill": {
     "duration": 7.808234,
     "end_time": "2021-05-17T13:54:11.824234",
     "exception": false,
     "start_time": "2021-05-17T13:54:04.016000",
     "status": "completed"
    },
    "tags": []
   },
   "outputs": [
    {
     "name": "stdout",
     "output_type": "stream",
     "text": [
      "Requirement already satisfied: transformers in /opt/conda/lib/python3.7/site-packages (3.5.1)\r\n",
      "Requirement already satisfied: numpy in /opt/conda/lib/python3.7/site-packages (from transformers) (1.18.5)\r\n",
      "Requirement already satisfied: tqdm>=4.27 in /opt/conda/lib/python3.7/site-packages (from transformers) (4.45.0)\r\n",
      "Requirement already satisfied: protobuf in /opt/conda/lib/python3.7/site-packages (from transformers) (3.14.0)\r\n",
      "Requirement already satisfied: sacremoses in /opt/conda/lib/python3.7/site-packages (from transformers) (0.0.43)\r\n",
      "Requirement already satisfied: sentencepiece==0.1.91 in /opt/conda/lib/python3.7/site-packages (from transformers) (0.1.91)\r\n",
      "Requirement already satisfied: tokenizers==0.9.3 in /opt/conda/lib/python3.7/site-packages (from transformers) (0.9.3)\r\n",
      "Requirement already satisfied: filelock in /opt/conda/lib/python3.7/site-packages (from transformers) (3.0.10)\r\n",
      "Requirement already satisfied: regex!=2019.12.17 in /opt/conda/lib/python3.7/site-packages (from transformers) (2020.4.4)\r\n",
      "Requirement already satisfied: packaging in /opt/conda/lib/python3.7/site-packages (from transformers) (20.1)\r\n",
      "Requirement already satisfied: requests in /opt/conda/lib/python3.7/site-packages (from transformers) (2.23.0)\r\n",
      "Requirement already satisfied: six in /opt/conda/lib/python3.7/site-packages (from packaging->transformers) (1.14.0)\r\n",
      "Requirement already satisfied: pyparsing>=2.0.2 in /opt/conda/lib/python3.7/site-packages (from packaging->transformers) (2.4.7)\r\n",
      "Requirement already satisfied: six in /opt/conda/lib/python3.7/site-packages (from packaging->transformers) (1.14.0)\r\n",
      "Requirement already satisfied: urllib3!=1.25.0,!=1.25.1,<1.26,>=1.21.1 in /opt/conda/lib/python3.7/site-packages (from requests->transformers) (1.25.9)\r\n",
      "Requirement already satisfied: idna<3,>=2.5 in /opt/conda/lib/python3.7/site-packages (from requests->transformers) (2.9)\r\n",
      "Requirement already satisfied: chardet<4,>=3.0.2 in /opt/conda/lib/python3.7/site-packages (from requests->transformers) (3.0.4)\r\n",
      "Requirement already satisfied: certifi>=2017.4.17 in /opt/conda/lib/python3.7/site-packages (from requests->transformers) (2020.12.5)\r\n",
      "Requirement already satisfied: click in /opt/conda/lib/python3.7/site-packages (from sacremoses->transformers) (7.1.1)\r\n",
      "Requirement already satisfied: tqdm>=4.27 in /opt/conda/lib/python3.7/site-packages (from transformers) (4.45.0)\r\n",
      "Requirement already satisfied: joblib in /opt/conda/lib/python3.7/site-packages (from sacremoses->transformers) (0.14.1)\r\n",
      "Requirement already satisfied: six in /opt/conda/lib/python3.7/site-packages (from packaging->transformers) (1.14.0)\r\n",
      "Requirement already satisfied: regex!=2019.12.17 in /opt/conda/lib/python3.7/site-packages (from transformers) (2020.4.4)\r\n",
      "\u001b[33mWARNING: You are using pip version 20.3.1; however, version 21.1.1 is available.\r\n",
      "You should consider upgrading via the '/opt/conda/bin/python3.7 -m pip install --upgrade pip' command.\u001b[0m\r\n"
     ]
    }
   ],
   "source": [
    "!pip install transformers"
   ]
  },
  {
   "cell_type": "markdown",
   "metadata": {
    "papermill": {
     "duration": 0.05656,
     "end_time": "2021-05-17T13:54:11.937984",
     "exception": false,
     "start_time": "2021-05-17T13:54:11.881424",
     "status": "completed"
    },
    "tags": []
   },
   "source": [
    "### Load in Data"
   ]
  },
  {
   "cell_type": "code",
   "execution_count": 5,
   "metadata": {
    "execution": {
     "iopub.execute_input": "2021-05-17T13:54:12.057388Z",
     "iopub.status.busy": "2021-05-17T13:54:12.056847Z",
     "iopub.status.idle": "2021-05-17T13:54:18.463739Z",
     "shell.execute_reply": "2021-05-17T13:54:18.462611Z"
    },
    "papermill": {
     "duration": 6.46927,
     "end_time": "2021-05-17T13:54:18.463875",
     "exception": false,
     "start_time": "2021-05-17T13:54:11.994605",
     "status": "completed"
    },
    "tags": []
   },
   "outputs": [
    {
     "name": "stderr",
     "output_type": "stream",
     "text": [
      "/opt/conda/lib/python3.7/site-packages/IPython/core/interactiveshell.py:3063: DtypeWarning: Columns (13) have mixed types.Specify dtype option on import or set low_memory=False.\n",
      "  interactivity=interactivity, compiler=compiler, result=result)\n"
     ]
    }
   ],
   "source": [
    "#### Load in data from S3\n",
    "\n",
    "# Import Train and Measure Balance\n",
    "# Import Flattened Data\n",
    "df_train_f = pd.read_csv(\"/kaggle/input/updated-bert-datasets/df_train_full_cleaned_pe.csv\", error_bad_lines=False, encoding='utf-8')\n",
    "\n",
    "# Import Test and Measure Balance\n",
    "\n",
    "df_test_f = pd.read_csv(\"/kaggle/input/updated-bert-datasets/df_test_full_cleaned_pe.csv\", error_bad_lines=False, encoding='utf-8')\n",
    "\n",
    "# Import Validation and Measure Balance\n",
    "# Import Flattened Data\n",
    "df_valid_f = pd.read_csv(\"/kaggle/input/updated-bert-datasets/df_valid_full_cleaned_pe.csv\", error_bad_lines=False, encoding='utf-8')\n"
   ]
  },
  {
   "cell_type": "code",
   "execution_count": 6,
   "metadata": {
    "execution": {
     "iopub.execute_input": "2021-05-17T13:54:18.614694Z",
     "iopub.status.busy": "2021-05-17T13:54:18.605755Z",
     "iopub.status.idle": "2021-05-17T13:54:18.628313Z",
     "shell.execute_reply": "2021-05-17T13:54:18.628720Z"
    },
    "papermill": {
     "duration": 0.105225,
     "end_time": "2021-05-17T13:54:18.628833",
     "exception": false,
     "start_time": "2021-05-17T13:54:18.523608",
     "status": "completed"
    },
    "tags": []
   },
   "outputs": [
    {
     "data": {
      "text/html": [
       "<div>\n",
       "<style scoped>\n",
       "    .dataframe tbody tr th:only-of-type {\n",
       "        vertical-align: middle;\n",
       "    }\n",
       "\n",
       "    .dataframe tbody tr th {\n",
       "        vertical-align: top;\n",
       "    }\n",
       "\n",
       "    .dataframe thead th {\n",
       "        text-align: right;\n",
       "    }\n",
       "</style>\n",
       "<table border=\"1\" class=\"dataframe\">\n",
       "  <thead>\n",
       "    <tr style=\"text-align: right;\">\n",
       "      <th></th>\n",
       "      <th>id</th>\n",
       "      <th>created_at</th>\n",
       "      <th>text</th>\n",
       "      <th>retweet_count</th>\n",
       "      <th>favorite_count</th>\n",
       "      <th>quoted_status_id</th>\n",
       "      <th>user.id</th>\n",
       "      <th>user.created_at</th>\n",
       "      <th>user.description</th>\n",
       "      <th>user.favourites_count</th>\n",
       "      <th>...</th>\n",
       "      <th>user.geo_enabled_False</th>\n",
       "      <th>user.geo_enabled_True</th>\n",
       "      <th>user.verified_False</th>\n",
       "      <th>user.has_extended_profile_False</th>\n",
       "      <th>user.has_extended_profile_True</th>\n",
       "      <th>user.protected_False</th>\n",
       "      <th>user.verified_False.1</th>\n",
       "      <th>user.default_profile_True</th>\n",
       "      <th>is_quote_status_False</th>\n",
       "      <th>is_quote_status_True</th>\n",
       "    </tr>\n",
       "  </thead>\n",
       "  <tbody>\n",
       "    <tr>\n",
       "      <th>0</th>\n",
       "      <td>'1.278734441767207e+18'</td>\n",
       "      <td>1.593709e+09</td>\n",
       "      <td>@ImranKhanPTI me mazor adme ho</td>\n",
       "      <td>0.0</td>\n",
       "      <td>0.0</td>\n",
       "      <td>0</td>\n",
       "      <td>1.278130e+18</td>\n",
       "      <td>1.593565e+09</td>\n",
       "      <td>m munir</td>\n",
       "      <td>5.0</td>\n",
       "      <td>...</td>\n",
       "      <td>1</td>\n",
       "      <td>0</td>\n",
       "      <td>1</td>\n",
       "      <td>0</td>\n",
       "      <td>1</td>\n",
       "      <td>1</td>\n",
       "      <td>1</td>\n",
       "      <td>1</td>\n",
       "      <td>1</td>\n",
       "      <td>0</td>\n",
       "    </tr>\n",
       "    <tr>\n",
       "      <th>1</th>\n",
       "      <td>'1.278717951009411e+18'</td>\n",
       "      <td>1.593705e+09</td>\n",
       "      <td>@SatoshiLite @litecoin face_with_monocle face_...</td>\n",
       "      <td>0.0</td>\n",
       "      <td>0.0</td>\n",
       "      <td>0</td>\n",
       "      <td>1.278132e+18</td>\n",
       "      <td>1.593565e+09</td>\n",
       "      <td>3QEX professional blockchain asset trading pla...</td>\n",
       "      <td>9.0</td>\n",
       "      <td>...</td>\n",
       "      <td>0</td>\n",
       "      <td>1</td>\n",
       "      <td>1</td>\n",
       "      <td>0</td>\n",
       "      <td>1</td>\n",
       "      <td>1</td>\n",
       "      <td>1</td>\n",
       "      <td>1</td>\n",
       "      <td>1</td>\n",
       "      <td>0</td>\n",
       "    </tr>\n",
       "    <tr>\n",
       "      <th>2</th>\n",
       "      <td>'1.278717966213722e+18'</td>\n",
       "      <td>1.593705e+09</td>\n",
       "      <td>RT @SatoshiLite: Litecoin Core 0.18.1 final re...</td>\n",
       "      <td>190.0</td>\n",
       "      <td>0.0</td>\n",
       "      <td>1</td>\n",
       "      <td>1.278132e+18</td>\n",
       "      <td>1.593565e+09</td>\n",
       "      <td>3QEX professional blockchain asset trading pla...</td>\n",
       "      <td>9.0</td>\n",
       "      <td>...</td>\n",
       "      <td>0</td>\n",
       "      <td>1</td>\n",
       "      <td>1</td>\n",
       "      <td>0</td>\n",
       "      <td>1</td>\n",
       "      <td>1</td>\n",
       "      <td>1</td>\n",
       "      <td>1</td>\n",
       "      <td>0</td>\n",
       "      <td>1</td>\n",
       "    </tr>\n",
       "    <tr>\n",
       "      <th>3</th>\n",
       "      <td>'1.2787185769673114e+18'</td>\n",
       "      <td>1.593705e+09</td>\n",
       "      <td>@LitecoinDotCom @litecoin @JiangZhuoer #3qex g...</td>\n",
       "      <td>0.0</td>\n",
       "      <td>0.0</td>\n",
       "      <td>0</td>\n",
       "      <td>1.278132e+18</td>\n",
       "      <td>1.593565e+09</td>\n",
       "      <td>3QEX professional blockchain asset trading pla...</td>\n",
       "      <td>9.0</td>\n",
       "      <td>...</td>\n",
       "      <td>0</td>\n",
       "      <td>1</td>\n",
       "      <td>1</td>\n",
       "      <td>0</td>\n",
       "      <td>1</td>\n",
       "      <td>1</td>\n",
       "      <td>1</td>\n",
       "      <td>1</td>\n",
       "      <td>1</td>\n",
       "      <td>0</td>\n",
       "    </tr>\n",
       "    <tr>\n",
       "      <th>4</th>\n",
       "      <td>'1.2787265998865285e+18'</td>\n",
       "      <td>1.593707e+09</td>\n",
       "      <td>#3qex https://t.co/eezSHw1LpM</td>\n",
       "      <td>0.0</td>\n",
       "      <td>0.0</td>\n",
       "      <td>0</td>\n",
       "      <td>1.278132e+18</td>\n",
       "      <td>1.593565e+09</td>\n",
       "      <td>3QEX professional blockchain asset trading pla...</td>\n",
       "      <td>9.0</td>\n",
       "      <td>...</td>\n",
       "      <td>0</td>\n",
       "      <td>1</td>\n",
       "      <td>1</td>\n",
       "      <td>0</td>\n",
       "      <td>1</td>\n",
       "      <td>1</td>\n",
       "      <td>1</td>\n",
       "      <td>1</td>\n",
       "      <td>1</td>\n",
       "      <td>0</td>\n",
       "    </tr>\n",
       "    <tr>\n",
       "      <th>5</th>\n",
       "      <td>'1.2787264315398185e+18'</td>\n",
       "      <td>1.593707e+09</td>\n",
       "      <td>https://t.co/x6PEeWW48S</td>\n",
       "      <td>0.0</td>\n",
       "      <td>0.0</td>\n",
       "      <td>0</td>\n",
       "      <td>1.278132e+18</td>\n",
       "      <td>1.593565e+09</td>\n",
       "      <td>3QEX professional blockchain asset trading pla...</td>\n",
       "      <td>9.0</td>\n",
       "      <td>...</td>\n",
       "      <td>0</td>\n",
       "      <td>1</td>\n",
       "      <td>1</td>\n",
       "      <td>0</td>\n",
       "      <td>1</td>\n",
       "      <td>1</td>\n",
       "      <td>1</td>\n",
       "      <td>1</td>\n",
       "      <td>1</td>\n",
       "      <td>0</td>\n",
       "    </tr>\n",
       "  </tbody>\n",
       "</table>\n",
       "<p>6 rows × 167 columns</p>\n",
       "</div>"
      ],
      "text/plain": [
       "                         id    created_at  \\\n",
       "0   '1.278734441767207e+18'  1.593709e+09   \n",
       "1   '1.278717951009411e+18'  1.593705e+09   \n",
       "2   '1.278717966213722e+18'  1.593705e+09   \n",
       "3  '1.2787185769673114e+18'  1.593705e+09   \n",
       "4  '1.2787265998865285e+18'  1.593707e+09   \n",
       "5  '1.2787264315398185e+18'  1.593707e+09   \n",
       "\n",
       "                                                text  retweet_count  \\\n",
       "0                     @ImranKhanPTI me mazor adme ho            0.0   \n",
       "1  @SatoshiLite @litecoin face_with_monocle face_...            0.0   \n",
       "2  RT @SatoshiLite: Litecoin Core 0.18.1 final re...          190.0   \n",
       "3  @LitecoinDotCom @litecoin @JiangZhuoer #3qex g...            0.0   \n",
       "4                      #3qex https://t.co/eezSHw1LpM            0.0   \n",
       "5                            https://t.co/x6PEeWW48S            0.0   \n",
       "\n",
       "   favorite_count  quoted_status_id       user.id  user.created_at  \\\n",
       "0             0.0                 0  1.278130e+18     1.593565e+09   \n",
       "1             0.0                 0  1.278132e+18     1.593565e+09   \n",
       "2             0.0                 1  1.278132e+18     1.593565e+09   \n",
       "3             0.0                 0  1.278132e+18     1.593565e+09   \n",
       "4             0.0                 0  1.278132e+18     1.593565e+09   \n",
       "5             0.0                 0  1.278132e+18     1.593565e+09   \n",
       "\n",
       "                                    user.description  user.favourites_count  \\\n",
       "0                                            m munir                    5.0   \n",
       "1  3QEX professional blockchain asset trading pla...                    9.0   \n",
       "2  3QEX professional blockchain asset trading pla...                    9.0   \n",
       "3  3QEX professional blockchain asset trading pla...                    9.0   \n",
       "4  3QEX professional blockchain asset trading pla...                    9.0   \n",
       "5  3QEX professional blockchain asset trading pla...                    9.0   \n",
       "\n",
       "   ...  user.geo_enabled_False  user.geo_enabled_True  user.verified_False  \\\n",
       "0  ...                       1                      0                    1   \n",
       "1  ...                       0                      1                    1   \n",
       "2  ...                       0                      1                    1   \n",
       "3  ...                       0                      1                    1   \n",
       "4  ...                       0                      1                    1   \n",
       "5  ...                       0                      1                    1   \n",
       "\n",
       "  user.has_extended_profile_False user.has_extended_profile_True  \\\n",
       "0                               0                              1   \n",
       "1                               0                              1   \n",
       "2                               0                              1   \n",
       "3                               0                              1   \n",
       "4                               0                              1   \n",
       "5                               0                              1   \n",
       "\n",
       "  user.protected_False  user.verified_False.1  user.default_profile_True  \\\n",
       "0                    1                      1                          1   \n",
       "1                    1                      1                          1   \n",
       "2                    1                      1                          1   \n",
       "3                    1                      1                          1   \n",
       "4                    1                      1                          1   \n",
       "5                    1                      1                          1   \n",
       "\n",
       "   is_quote_status_False  is_quote_status_True  \n",
       "0                      1                     0  \n",
       "1                      1                     0  \n",
       "2                      0                     1  \n",
       "3                      1                     0  \n",
       "4                      1                     0  \n",
       "5                      1                     0  \n",
       "\n",
       "[6 rows x 167 columns]"
      ]
     },
     "execution_count": 6,
     "metadata": {},
     "output_type": "execute_result"
    }
   ],
   "source": [
    "df_train_f.head(6)"
   ]
  },
  {
   "cell_type": "code",
   "execution_count": 7,
   "metadata": {
    "execution": {
     "iopub.execute_input": "2021-05-17T13:54:18.752201Z",
     "iopub.status.busy": "2021-05-17T13:54:18.751625Z",
     "iopub.status.idle": "2021-05-17T13:54:18.903972Z",
     "shell.execute_reply": "2021-05-17T13:54:18.903489Z"
    },
    "papermill": {
     "duration": 0.217244,
     "end_time": "2021-05-17T13:54:18.904079",
     "exception": false,
     "start_time": "2021-05-17T13:54:18.686835",
     "status": "completed"
    },
    "tags": []
   },
   "outputs": [],
   "source": [
    "df_train_f['id'] = df_train_f['id'].apply(lambda x: x.replace(\"'\", ''))\n",
    "df_train_f['id'] = df_train_f['id'].astype('float')\n",
    "df_valid_f['id'] = df_valid_f['id'].apply(lambda x: x.replace(\"'\", ''))\n",
    "df_valid_f['id'] = df_valid_f['id'].astype('float')\n",
    "df_test_f['id'] = df_test_f['id'].apply(lambda x: x.replace(\"'\", ''))\n",
    "df_test_f['id'] = df_test_f['id'].astype('float')"
   ]
  },
  {
   "cell_type": "code",
   "execution_count": 8,
   "metadata": {
    "execution": {
     "iopub.execute_input": "2021-05-17T13:54:19.026348Z",
     "iopub.status.busy": "2021-05-17T13:54:19.025728Z",
     "iopub.status.idle": "2021-05-17T13:54:19.041935Z",
     "shell.execute_reply": "2021-05-17T13:54:19.041525Z"
    },
    "papermill": {
     "duration": 0.078875,
     "end_time": "2021-05-17T13:54:19.042026",
     "exception": false,
     "start_time": "2021-05-17T13:54:18.963151",
     "status": "completed"
    },
    "tags": []
   },
   "outputs": [
    {
     "name": "stdout",
     "output_type": "stream",
     "text": [
      "full train: 115766 unique ids train: 115766 full valid: 35120 unique ids valid: 35120 full test: 34839 unique ids test: 34839\n"
     ]
    }
   ],
   "source": [
    "print(\"full train:\", len(df_train_f), \"unique ids train:\", len(df_train_f['id'].unique()), \n",
    "      \"full valid:\", len(df_valid_f), \"unique ids valid:\", len(df_valid_f['id'].unique()), \n",
    "      \"full test:\", len(df_test_f), \"unique ids test:\", len(df_test_f['id'].unique()))\n",
    "\n",
    "#print(\"Train:\", len(sentences_train), \"Valid:\", len(sentences_valid), \"Test\", len(sentences_test))"
   ]
  },
  {
   "cell_type": "code",
   "execution_count": 9,
   "metadata": {
    "execution": {
     "iopub.execute_input": "2021-05-17T13:54:19.166285Z",
     "iopub.status.busy": "2021-05-17T13:54:19.165234Z",
     "iopub.status.idle": "2021-05-17T13:54:19.268579Z",
     "shell.execute_reply": "2021-05-17T13:54:19.268035Z"
    },
    "papermill": {
     "duration": 0.167901,
     "end_time": "2021-05-17T13:54:19.268697",
     "exception": false,
     "start_time": "2021-05-17T13:54:19.100796",
     "status": "completed"
    },
    "tags": []
   },
   "outputs": [],
   "source": [
    "df_train = df_train_f.drop(['user.description', \"user.location\", \"user.name\", \"user.screen_name\", \"split\"], axis=1)\n",
    "df_valid = df_valid_f.drop(['user.description', \"user.location\", \"user.name\", \"user.screen_name\", \"split\"], axis=1)\n",
    "df_test = df_test_f.drop(['user.description', \"user.location\", \"user.name\", \"user.screen_name\", \"split\"], axis=1)"
   ]
  },
  {
   "cell_type": "code",
   "execution_count": 10,
   "metadata": {
    "execution": {
     "iopub.execute_input": "2021-05-17T13:54:19.392610Z",
     "iopub.status.busy": "2021-05-17T13:54:19.392063Z",
     "iopub.status.idle": "2021-05-17T13:54:19.395915Z",
     "shell.execute_reply": "2021-05-17T13:54:19.395456Z"
    },
    "papermill": {
     "duration": 0.065414,
     "end_time": "2021-05-17T13:54:19.396006",
     "exception": false,
     "start_time": "2021-05-17T13:54:19.330592",
     "status": "completed"
    },
    "tags": []
   },
   "outputs": [],
   "source": [
    "# FOR TESING OUT CODE PURPOSE ONLY. REMOVE ONCE ALL IS WORKING. \n",
    "#df_train = df_train[:2000]\n",
    "#df_valid = df_valid[:2000]\n",
    "#df_test = df_test[:2000]\n"
   ]
  },
  {
   "cell_type": "code",
   "execution_count": 11,
   "metadata": {
    "execution": {
     "iopub.execute_input": "2021-05-17T13:54:19.535463Z",
     "iopub.status.busy": "2021-05-17T13:54:19.534553Z",
     "iopub.status.idle": "2021-05-17T13:54:19.538510Z",
     "shell.execute_reply": "2021-05-17T13:54:19.538878Z"
    },
    "papermill": {
     "duration": 0.083655,
     "end_time": "2021-05-17T13:54:19.538981",
     "exception": false,
     "start_time": "2021-05-17T13:54:19.455326",
     "status": "completed"
    },
    "tags": []
   },
   "outputs": [
    {
     "data": {
      "text/html": [
       "<div>\n",
       "<style scoped>\n",
       "    .dataframe tbody tr th:only-of-type {\n",
       "        vertical-align: middle;\n",
       "    }\n",
       "\n",
       "    .dataframe tbody tr th {\n",
       "        vertical-align: top;\n",
       "    }\n",
       "\n",
       "    .dataframe thead th {\n",
       "        text-align: right;\n",
       "    }\n",
       "</style>\n",
       "<table border=\"1\" class=\"dataframe\">\n",
       "  <thead>\n",
       "    <tr style=\"text-align: right;\">\n",
       "      <th></th>\n",
       "      <th>id</th>\n",
       "      <th>created_at</th>\n",
       "      <th>text</th>\n",
       "      <th>retweet_count</th>\n",
       "      <th>favorite_count</th>\n",
       "      <th>quoted_status_id</th>\n",
       "      <th>user.id</th>\n",
       "      <th>user.created_at</th>\n",
       "      <th>user.favourites_count</th>\n",
       "      <th>user.followers_count</th>\n",
       "      <th>...</th>\n",
       "      <th>user.geo_enabled_False</th>\n",
       "      <th>user.geo_enabled_True</th>\n",
       "      <th>user.verified_False</th>\n",
       "      <th>user.has_extended_profile_False</th>\n",
       "      <th>user.has_extended_profile_True</th>\n",
       "      <th>user.protected_False</th>\n",
       "      <th>user.verified_False.1</th>\n",
       "      <th>user.default_profile_True</th>\n",
       "      <th>is_quote_status_False</th>\n",
       "      <th>is_quote_status_True</th>\n",
       "    </tr>\n",
       "  </thead>\n",
       "  <tbody>\n",
       "    <tr>\n",
       "      <th>0</th>\n",
       "      <td>1.278734e+18</td>\n",
       "      <td>1.593709e+09</td>\n",
       "      <td>@ImranKhanPTI me mazor adme ho</td>\n",
       "      <td>0.0</td>\n",
       "      <td>0.0</td>\n",
       "      <td>0</td>\n",
       "      <td>1.278130e+18</td>\n",
       "      <td>1.593565e+09</td>\n",
       "      <td>5.0</td>\n",
       "      <td>1.0</td>\n",
       "      <td>...</td>\n",
       "      <td>1</td>\n",
       "      <td>0</td>\n",
       "      <td>1</td>\n",
       "      <td>0</td>\n",
       "      <td>1</td>\n",
       "      <td>1</td>\n",
       "      <td>1</td>\n",
       "      <td>1</td>\n",
       "      <td>1</td>\n",
       "      <td>0</td>\n",
       "    </tr>\n",
       "    <tr>\n",
       "      <th>1</th>\n",
       "      <td>1.278718e+18</td>\n",
       "      <td>1.593705e+09</td>\n",
       "      <td>@SatoshiLite @litecoin face_with_monocle face_...</td>\n",
       "      <td>0.0</td>\n",
       "      <td>0.0</td>\n",
       "      <td>0</td>\n",
       "      <td>1.278132e+18</td>\n",
       "      <td>1.593565e+09</td>\n",
       "      <td>9.0</td>\n",
       "      <td>31.0</td>\n",
       "      <td>...</td>\n",
       "      <td>0</td>\n",
       "      <td>1</td>\n",
       "      <td>1</td>\n",
       "      <td>0</td>\n",
       "      <td>1</td>\n",
       "      <td>1</td>\n",
       "      <td>1</td>\n",
       "      <td>1</td>\n",
       "      <td>1</td>\n",
       "      <td>0</td>\n",
       "    </tr>\n",
       "    <tr>\n",
       "      <th>2</th>\n",
       "      <td>1.278718e+18</td>\n",
       "      <td>1.593705e+09</td>\n",
       "      <td>RT @SatoshiLite: Litecoin Core 0.18.1 final re...</td>\n",
       "      <td>190.0</td>\n",
       "      <td>0.0</td>\n",
       "      <td>1</td>\n",
       "      <td>1.278132e+18</td>\n",
       "      <td>1.593565e+09</td>\n",
       "      <td>9.0</td>\n",
       "      <td>31.0</td>\n",
       "      <td>...</td>\n",
       "      <td>0</td>\n",
       "      <td>1</td>\n",
       "      <td>1</td>\n",
       "      <td>0</td>\n",
       "      <td>1</td>\n",
       "      <td>1</td>\n",
       "      <td>1</td>\n",
       "      <td>1</td>\n",
       "      <td>0</td>\n",
       "      <td>1</td>\n",
       "    </tr>\n",
       "    <tr>\n",
       "      <th>3</th>\n",
       "      <td>1.278719e+18</td>\n",
       "      <td>1.593705e+09</td>\n",
       "      <td>@LitecoinDotCom @litecoin @JiangZhuoer #3qex g...</td>\n",
       "      <td>0.0</td>\n",
       "      <td>0.0</td>\n",
       "      <td>0</td>\n",
       "      <td>1.278132e+18</td>\n",
       "      <td>1.593565e+09</td>\n",
       "      <td>9.0</td>\n",
       "      <td>31.0</td>\n",
       "      <td>...</td>\n",
       "      <td>0</td>\n",
       "      <td>1</td>\n",
       "      <td>1</td>\n",
       "      <td>0</td>\n",
       "      <td>1</td>\n",
       "      <td>1</td>\n",
       "      <td>1</td>\n",
       "      <td>1</td>\n",
       "      <td>1</td>\n",
       "      <td>0</td>\n",
       "    </tr>\n",
       "    <tr>\n",
       "      <th>4</th>\n",
       "      <td>1.278727e+18</td>\n",
       "      <td>1.593707e+09</td>\n",
       "      <td>#3qex https://t.co/eezSHw1LpM</td>\n",
       "      <td>0.0</td>\n",
       "      <td>0.0</td>\n",
       "      <td>0</td>\n",
       "      <td>1.278132e+18</td>\n",
       "      <td>1.593565e+09</td>\n",
       "      <td>9.0</td>\n",
       "      <td>31.0</td>\n",
       "      <td>...</td>\n",
       "      <td>0</td>\n",
       "      <td>1</td>\n",
       "      <td>1</td>\n",
       "      <td>0</td>\n",
       "      <td>1</td>\n",
       "      <td>1</td>\n",
       "      <td>1</td>\n",
       "      <td>1</td>\n",
       "      <td>1</td>\n",
       "      <td>0</td>\n",
       "    </tr>\n",
       "  </tbody>\n",
       "</table>\n",
       "<p>5 rows × 162 columns</p>\n",
       "</div>"
      ],
      "text/plain": [
       "             id    created_at  \\\n",
       "0  1.278734e+18  1.593709e+09   \n",
       "1  1.278718e+18  1.593705e+09   \n",
       "2  1.278718e+18  1.593705e+09   \n",
       "3  1.278719e+18  1.593705e+09   \n",
       "4  1.278727e+18  1.593707e+09   \n",
       "\n",
       "                                                text  retweet_count  \\\n",
       "0                     @ImranKhanPTI me mazor adme ho            0.0   \n",
       "1  @SatoshiLite @litecoin face_with_monocle face_...            0.0   \n",
       "2  RT @SatoshiLite: Litecoin Core 0.18.1 final re...          190.0   \n",
       "3  @LitecoinDotCom @litecoin @JiangZhuoer #3qex g...            0.0   \n",
       "4                      #3qex https://t.co/eezSHw1LpM            0.0   \n",
       "\n",
       "   favorite_count  quoted_status_id       user.id  user.created_at  \\\n",
       "0             0.0                 0  1.278130e+18     1.593565e+09   \n",
       "1             0.0                 0  1.278132e+18     1.593565e+09   \n",
       "2             0.0                 1  1.278132e+18     1.593565e+09   \n",
       "3             0.0                 0  1.278132e+18     1.593565e+09   \n",
       "4             0.0                 0  1.278132e+18     1.593565e+09   \n",
       "\n",
       "   user.favourites_count  user.followers_count  ...  user.geo_enabled_False  \\\n",
       "0                    5.0                   1.0  ...                       1   \n",
       "1                    9.0                  31.0  ...                       0   \n",
       "2                    9.0                  31.0  ...                       0   \n",
       "3                    9.0                  31.0  ...                       0   \n",
       "4                    9.0                  31.0  ...                       0   \n",
       "\n",
       "   user.geo_enabled_True  user.verified_False  \\\n",
       "0                      0                    1   \n",
       "1                      1                    1   \n",
       "2                      1                    1   \n",
       "3                      1                    1   \n",
       "4                      1                    1   \n",
       "\n",
       "   user.has_extended_profile_False  user.has_extended_profile_True  \\\n",
       "0                                0                               1   \n",
       "1                                0                               1   \n",
       "2                                0                               1   \n",
       "3                                0                               1   \n",
       "4                                0                               1   \n",
       "\n",
       "   user.protected_False  user.verified_False.1  user.default_profile_True  \\\n",
       "0                     1                      1                          1   \n",
       "1                     1                      1                          1   \n",
       "2                     1                      1                          1   \n",
       "3                     1                      1                          1   \n",
       "4                     1                      1                          1   \n",
       "\n",
       "   is_quote_status_False  is_quote_status_True  \n",
       "0                      1                     0  \n",
       "1                      1                     0  \n",
       "2                      0                     1  \n",
       "3                      1                     0  \n",
       "4                      1                     0  \n",
       "\n",
       "[5 rows x 162 columns]"
      ]
     },
     "execution_count": 11,
     "metadata": {},
     "output_type": "execute_result"
    }
   ],
   "source": [
    "df_train.head()"
   ]
  },
  {
   "cell_type": "markdown",
   "metadata": {
    "papermill": {
     "duration": 0.065826,
     "end_time": "2021-05-17T13:54:19.664946",
     "exception": false,
     "start_time": "2021-05-17T13:54:19.599120",
     "status": "completed"
    },
    "tags": []
   },
   "source": [
    "Concatanate all texts to get one doc j per each user i"
   ]
  },
  {
   "cell_type": "code",
   "execution_count": 12,
   "metadata": {
    "execution": {
     "iopub.execute_input": "2021-05-17T13:54:19.793649Z",
     "iopub.status.busy": "2021-05-17T13:54:19.792818Z",
     "iopub.status.idle": "2021-05-17T13:54:19.944112Z",
     "shell.execute_reply": "2021-05-17T13:54:19.944569Z"
    },
    "papermill": {
     "duration": 0.217218,
     "end_time": "2021-05-17T13:54:19.944707",
     "exception": false,
     "start_time": "2021-05-17T13:54:19.727489",
     "status": "completed"
    },
    "tags": []
   },
   "outputs": [
    {
     "data": {
      "text/html": [
       "<div>\n",
       "<style scoped>\n",
       "    .dataframe tbody tr th:only-of-type {\n",
       "        vertical-align: middle;\n",
       "    }\n",
       "\n",
       "    .dataframe tbody tr th {\n",
       "        vertical-align: top;\n",
       "    }\n",
       "\n",
       "    .dataframe thead th {\n",
       "        text-align: right;\n",
       "    }\n",
       "</style>\n",
       "<table border=\"1\" class=\"dataframe\">\n",
       "  <thead>\n",
       "    <tr style=\"text-align: right;\">\n",
       "      <th></th>\n",
       "      <th>user.id</th>\n",
       "      <th>suspended</th>\n",
       "      <th>text</th>\n",
       "    </tr>\n",
       "  </thead>\n",
       "  <tbody>\n",
       "    <tr>\n",
       "      <th>0</th>\n",
       "      <td>1.278130e+18</td>\n",
       "      <td>0</td>\n",
       "      <td>@ImranKhanPTI me mazor adme ho</td>\n",
       "    </tr>\n",
       "    <tr>\n",
       "      <th>1</th>\n",
       "      <td>1.278132e+18</td>\n",
       "      <td>0</td>\n",
       "      <td>@SatoshiLite @litecoin face_with_monocle face_...</td>\n",
       "    </tr>\n",
       "    <tr>\n",
       "      <th>2</th>\n",
       "      <td>1.278136e+18</td>\n",
       "      <td>0</td>\n",
       "      <td>https://t.co/2tSmlYkG4v</td>\n",
       "    </tr>\n",
       "    <tr>\n",
       "      <th>3</th>\n",
       "      <td>1.278138e+18</td>\n",
       "      <td>0</td>\n",
       "      <td>@getput @zhanglifan 为什么西方所谓的双标的平等，自由就是对的？这就是典型...</td>\n",
       "    </tr>\n",
       "    <tr>\n",
       "      <th>4</th>\n",
       "      <td>1.278143e+18</td>\n",
       "      <td>0</td>\n",
       "      <td>@Chandankrishn13 @zlj517 干了这杯恒河水！ @tamaya14901...</td>\n",
       "    </tr>\n",
       "  </tbody>\n",
       "</table>\n",
       "</div>"
      ],
      "text/plain": [
       "        user.id  suspended                                               text\n",
       "0  1.278130e+18          0                     @ImranKhanPTI me mazor adme ho\n",
       "1  1.278132e+18          0  @SatoshiLite @litecoin face_with_monocle face_...\n",
       "2  1.278136e+18          0                            https://t.co/2tSmlYkG4v\n",
       "3  1.278138e+18          0  @getput @zhanglifan 为什么西方所谓的双标的平等，自由就是对的？这就是典型...\n",
       "4  1.278143e+18          0  @Chandankrishn13 @zlj517 干了这杯恒河水！ @tamaya14901..."
      ]
     },
     "execution_count": 12,
     "metadata": {},
     "output_type": "execute_result"
    }
   ],
   "source": [
    "df_train = df_train.groupby(['user.id', 'suspended'])['text'].apply(lambda x: ' '.join(x)).reset_index()\n",
    "df_train.head()"
   ]
  },
  {
   "cell_type": "code",
   "execution_count": 13,
   "metadata": {
    "execution": {
     "iopub.execute_input": "2021-05-17T13:54:20.070540Z",
     "iopub.status.busy": "2021-05-17T13:54:20.069666Z",
     "iopub.status.idle": "2021-05-17T13:54:20.121328Z",
     "shell.execute_reply": "2021-05-17T13:54:20.121701Z"
    },
    "papermill": {
     "duration": 0.11693,
     "end_time": "2021-05-17T13:54:20.121813",
     "exception": false,
     "start_time": "2021-05-17T13:54:20.004883",
     "status": "completed"
    },
    "tags": []
   },
   "outputs": [
    {
     "data": {
      "text/html": [
       "<div>\n",
       "<style scoped>\n",
       "    .dataframe tbody tr th:only-of-type {\n",
       "        vertical-align: middle;\n",
       "    }\n",
       "\n",
       "    .dataframe tbody tr th {\n",
       "        vertical-align: top;\n",
       "    }\n",
       "\n",
       "    .dataframe thead th {\n",
       "        text-align: right;\n",
       "    }\n",
       "</style>\n",
       "<table border=\"1\" class=\"dataframe\">\n",
       "  <thead>\n",
       "    <tr style=\"text-align: right;\">\n",
       "      <th></th>\n",
       "      <th>user.id</th>\n",
       "      <th>suspended</th>\n",
       "      <th>text</th>\n",
       "    </tr>\n",
       "  </thead>\n",
       "  <tbody>\n",
       "    <tr>\n",
       "      <th>0</th>\n",
       "      <td>1.278120e+18</td>\n",
       "      <td>1</td>\n",
       "      <td>@RFS_China 窝扪终锅震的是胎pear 害hot_pepper  @NSJ_zz_ ...</td>\n",
       "    </tr>\n",
       "    <tr>\n",
       "      <th>1</th>\n",
       "      <td>1.278152e+18</td>\n",
       "      <td>0</td>\n",
       "      <td>@nnnwzdcsbwqnm11 @realDonaldTrump 这图恶心到我了 @Gan...</td>\n",
       "    </tr>\n",
       "    <tr>\n",
       "      <th>2</th>\n",
       "      <td>1.278155e+18</td>\n",
       "      <td>0</td>\n",
       "      <td>@chowtingagnes 馬鹿 @joshuawongcf jail is well p...</td>\n",
       "    </tr>\n",
       "    <tr>\n",
       "      <th>3</th>\n",
       "      <td>1.278178e+18</td>\n",
       "      <td>0</td>\n",
       "      <td>Play with me and destroy our friendship #Board...</td>\n",
       "    </tr>\n",
       "    <tr>\n",
       "      <th>4</th>\n",
       "      <td>1.278191e+18</td>\n",
       "      <td>0</td>\n",
       "      <td>@nytchinese @NYTimesCohen 这 主编喝醉了？ RT @AbeShin...</td>\n",
       "    </tr>\n",
       "  </tbody>\n",
       "</table>\n",
       "</div>"
      ],
      "text/plain": [
       "        user.id  suspended                                               text\n",
       "0  1.278120e+18          1  @RFS_China 窝扪终锅震的是胎pear 害hot_pepper  @NSJ_zz_ ...\n",
       "1  1.278152e+18          0  @nnnwzdcsbwqnm11 @realDonaldTrump 这图恶心到我了 @Gan...\n",
       "2  1.278155e+18          0  @chowtingagnes 馬鹿 @joshuawongcf jail is well p...\n",
       "3  1.278178e+18          0  Play with me and destroy our friendship #Board...\n",
       "4  1.278191e+18          0  @nytchinese @NYTimesCohen 这 主编喝醉了？ RT @AbeShin..."
      ]
     },
     "execution_count": 13,
     "metadata": {},
     "output_type": "execute_result"
    }
   ],
   "source": [
    "df_valid = df_valid.groupby(['user.id', 'suspended'])['text'].apply(lambda x: ' '.join(x)).reset_index()\n",
    "df_valid.head()"
   ]
  },
  {
   "cell_type": "code",
   "execution_count": 14,
   "metadata": {
    "execution": {
     "iopub.execute_input": "2021-05-17T13:54:20.257924Z",
     "iopub.status.busy": "2021-05-17T13:54:20.256964Z",
     "iopub.status.idle": "2021-05-17T13:54:20.305129Z",
     "shell.execute_reply": "2021-05-17T13:54:20.304710Z"
    },
    "papermill": {
     "duration": 0.113295,
     "end_time": "2021-05-17T13:54:20.305230",
     "exception": false,
     "start_time": "2021-05-17T13:54:20.191935",
     "status": "completed"
    },
    "tags": []
   },
   "outputs": [
    {
     "data": {
      "text/html": [
       "<div>\n",
       "<style scoped>\n",
       "    .dataframe tbody tr th:only-of-type {\n",
       "        vertical-align: middle;\n",
       "    }\n",
       "\n",
       "    .dataframe tbody tr th {\n",
       "        vertical-align: top;\n",
       "    }\n",
       "\n",
       "    .dataframe thead th {\n",
       "        text-align: right;\n",
       "    }\n",
       "</style>\n",
       "<table border=\"1\" class=\"dataframe\">\n",
       "  <thead>\n",
       "    <tr style=\"text-align: right;\">\n",
       "      <th></th>\n",
       "      <th>user.id</th>\n",
       "      <th>suspended</th>\n",
       "      <th>text</th>\n",
       "    </tr>\n",
       "  </thead>\n",
       "  <tbody>\n",
       "    <tr>\n",
       "      <th>0</th>\n",
       "      <td>1.278122e+18</td>\n",
       "      <td>0</td>\n",
       "      <td>今天第一次上推特，看看世界 @ttingxiao 胡说八道</td>\n",
       "    </tr>\n",
       "    <tr>\n",
       "      <th>1</th>\n",
       "      <td>1.278129e+18</td>\n",
       "      <td>0</td>\n",
       "      <td>@JimDong16 @jianshang82 @huangzhixia @iingwen ...</td>\n",
       "    </tr>\n",
       "    <tr>\n",
       "      <th>2</th>\n",
       "      <td>1.278131e+18</td>\n",
       "      <td>0</td>\n",
       "      <td>@mian050715 @91porm nerd_face</td>\n",
       "    </tr>\n",
       "    <tr>\n",
       "      <th>3</th>\n",
       "      <td>1.278145e+18</td>\n",
       "      <td>1</td>\n",
       "      <td>join amazon</td>\n",
       "    </tr>\n",
       "    <tr>\n",
       "      <th>4</th>\n",
       "      <td>1.278155e+18</td>\n",
       "      <td>0</td>\n",
       "      <td>@yqMFcTa36NRSAOp @PDChinese 能怎样？ @SBjuexing fa...</td>\n",
       "    </tr>\n",
       "  </tbody>\n",
       "</table>\n",
       "</div>"
      ],
      "text/plain": [
       "        user.id  suspended                                               text\n",
       "0  1.278122e+18          0                      今天第一次上推特，看看世界 @ttingxiao 胡说八道\n",
       "1  1.278129e+18          0  @JimDong16 @jianshang82 @huangzhixia @iingwen ...\n",
       "2  1.278131e+18          0                     @mian050715 @91porm nerd_face \n",
       "3  1.278145e+18          1                                        join amazon\n",
       "4  1.278155e+18          0  @yqMFcTa36NRSAOp @PDChinese 能怎样？ @SBjuexing fa..."
      ]
     },
     "execution_count": 14,
     "metadata": {},
     "output_type": "execute_result"
    }
   ],
   "source": [
    "df_test = df_test.groupby(['user.id', 'suspended'])['text'].apply(lambda x: ' '.join(x)).reset_index()\n",
    "df_test.head()"
   ]
  },
  {
   "cell_type": "markdown",
   "metadata": {
    "papermill": {
     "duration": 0.06024,
     "end_time": "2021-05-17T13:54:20.426401",
     "exception": false,
     "start_time": "2021-05-17T13:54:20.366161",
     "status": "completed"
    },
    "tags": []
   },
   "source": [
    "### Split out text"
   ]
  },
  {
   "cell_type": "code",
   "execution_count": 15,
   "metadata": {
    "execution": {
     "iopub.execute_input": "2021-05-17T13:54:20.554680Z",
     "iopub.status.busy": "2021-05-17T13:54:20.554002Z",
     "iopub.status.idle": "2021-05-17T13:54:20.557492Z",
     "shell.execute_reply": "2021-05-17T13:54:20.557056Z"
    },
    "papermill": {
     "duration": 0.070935,
     "end_time": "2021-05-17T13:54:20.557578",
     "exception": false,
     "start_time": "2021-05-17T13:54:20.486643",
     "status": "completed"
    },
    "tags": []
   },
   "outputs": [],
   "source": [
    "def get_split(text1):\n",
    "    l_total = []\n",
    "    l_parcial = []\n",
    "    if len(text1.split())//150 >0:\n",
    "        n = len(text1.split())//150\n",
    "    else: \n",
    "        n = 1\n",
    "    for w in range(n):\n",
    "        if w == 0:\n",
    "            l_parcial = text1.split()[:200]\n",
    "            l_total.append(\" \".join(l_parcial))\n",
    "        else:\n",
    "            l_parcial = text1.split()[w*150:w*150 + 200]\n",
    "            l_total.append(\" \".join(l_parcial))\n",
    "    return l_total"
   ]
  },
  {
   "cell_type": "code",
   "execution_count": 16,
   "metadata": {
    "execution": {
     "iopub.execute_input": "2021-05-17T13:54:20.729234Z",
     "iopub.status.busy": "2021-05-17T13:54:20.723904Z",
     "iopub.status.idle": "2021-05-17T13:54:31.685319Z",
     "shell.execute_reply": "2021-05-17T13:54:31.684323Z"
    },
    "papermill": {
     "duration": 11.066157,
     "end_time": "2021-05-17T13:54:31.685432",
     "exception": false,
     "start_time": "2021-05-17T13:54:20.619275",
     "status": "completed"
    },
    "tags": []
   },
   "outputs": [
    {
     "data": {
      "text/html": [
       "<div>\n",
       "<style scoped>\n",
       "    .dataframe tbody tr th:only-of-type {\n",
       "        vertical-align: middle;\n",
       "    }\n",
       "\n",
       "    .dataframe tbody tr th {\n",
       "        vertical-align: top;\n",
       "    }\n",
       "\n",
       "    .dataframe thead th {\n",
       "        text-align: right;\n",
       "    }\n",
       "</style>\n",
       "<table border=\"1\" class=\"dataframe\">\n",
       "  <thead>\n",
       "    <tr style=\"text-align: right;\">\n",
       "      <th></th>\n",
       "      <th>user.id</th>\n",
       "      <th>suspended</th>\n",
       "      <th>text</th>\n",
       "      <th>text_split</th>\n",
       "    </tr>\n",
       "  </thead>\n",
       "  <tbody>\n",
       "    <tr>\n",
       "      <th>0</th>\n",
       "      <td>1.278130e+18</td>\n",
       "      <td>0</td>\n",
       "      <td>@ImranKhanPTI me mazor adme ho</td>\n",
       "      <td>[@ImranKhanPTI me mazor adme ho]</td>\n",
       "    </tr>\n",
       "    <tr>\n",
       "      <th>1</th>\n",
       "      <td>1.278132e+18</td>\n",
       "      <td>0</td>\n",
       "      <td>@SatoshiLite @litecoin face_with_monocle face_...</td>\n",
       "      <td>[@SatoshiLite @litecoin face_with_monocle face...</td>\n",
       "    </tr>\n",
       "    <tr>\n",
       "      <th>2</th>\n",
       "      <td>1.278136e+18</td>\n",
       "      <td>0</td>\n",
       "      <td>https://t.co/2tSmlYkG4v</td>\n",
       "      <td>[https://t.co/2tSmlYkG4v]</td>\n",
       "    </tr>\n",
       "    <tr>\n",
       "      <th>3</th>\n",
       "      <td>1.278138e+18</td>\n",
       "      <td>0</td>\n",
       "      <td>@getput @zhanglifan 为什么西方所谓的双标的平等，自由就是对的？这就是典型...</td>\n",
       "      <td>[@getput @zhanglifan 为什么西方所谓的双标的平等，自由就是对的？这就是典...</td>\n",
       "    </tr>\n",
       "    <tr>\n",
       "      <th>4</th>\n",
       "      <td>1.278143e+18</td>\n",
       "      <td>0</td>\n",
       "      <td>@Chandankrishn13 @zlj517 干了这杯恒河水！ @tamaya14901...</td>\n",
       "      <td>[@Chandankrishn13 @zlj517 干了这杯恒河水！ @tamaya1490...</td>\n",
       "    </tr>\n",
       "  </tbody>\n",
       "</table>\n",
       "</div>"
      ],
      "text/plain": [
       "        user.id  suspended                                               text  \\\n",
       "0  1.278130e+18          0                     @ImranKhanPTI me mazor adme ho   \n",
       "1  1.278132e+18          0  @SatoshiLite @litecoin face_with_monocle face_...   \n",
       "2  1.278136e+18          0                            https://t.co/2tSmlYkG4v   \n",
       "3  1.278138e+18          0  @getput @zhanglifan 为什么西方所谓的双标的平等，自由就是对的？这就是典型...   \n",
       "4  1.278143e+18          0  @Chandankrishn13 @zlj517 干了这杯恒河水！ @tamaya14901...   \n",
       "\n",
       "                                          text_split  \n",
       "0                   [@ImranKhanPTI me mazor adme ho]  \n",
       "1  [@SatoshiLite @litecoin face_with_monocle face...  \n",
       "2                          [https://t.co/2tSmlYkG4v]  \n",
       "3  [@getput @zhanglifan 为什么西方所谓的双标的平等，自由就是对的？这就是典...  \n",
       "4  [@Chandankrishn13 @zlj517 干了这杯恒河水！ @tamaya1490...  "
      ]
     },
     "execution_count": 16,
     "metadata": {},
     "output_type": "execute_result"
    }
   ],
   "source": [
    "df_train['text_split'] = df_train['text'].apply(get_split)\n",
    "df_train.head()"
   ]
  },
  {
   "cell_type": "code",
   "execution_count": 17,
   "metadata": {
    "execution": {
     "iopub.execute_input": "2021-05-17T13:54:31.824247Z",
     "iopub.status.busy": "2021-05-17T13:54:31.823350Z",
     "iopub.status.idle": "2021-05-17T13:54:31.827413Z",
     "shell.execute_reply": "2021-05-17T13:54:31.826929Z"
    },
    "papermill": {
     "duration": 0.074681,
     "end_time": "2021-05-17T13:54:31.827517",
     "exception": false,
     "start_time": "2021-05-17T13:54:31.752836",
     "status": "completed"
    },
    "tags": []
   },
   "outputs": [
    {
     "data": {
      "text/plain": [
       "1553"
      ]
     },
     "execution_count": 17,
     "metadata": {},
     "output_type": "execute_result"
    }
   ],
   "source": [
    "len(df_train)"
   ]
  },
  {
   "cell_type": "code",
   "execution_count": 18,
   "metadata": {
    "execution": {
     "iopub.execute_input": "2021-05-17T13:54:32.007221Z",
     "iopub.status.busy": "2021-05-17T13:54:31.996957Z",
     "iopub.status.idle": "2021-05-17T13:54:32.181064Z",
     "shell.execute_reply": "2021-05-17T13:54:32.181490Z"
    },
    "papermill": {
     "duration": 0.289915,
     "end_time": "2021-05-17T13:54:32.181607",
     "exception": false,
     "start_time": "2021-05-17T13:54:31.891692",
     "status": "completed"
    },
    "tags": []
   },
   "outputs": [
    {
     "data": {
      "text/plain": [
       "(9492, 9492, 9492, 9492)"
      ]
     },
     "execution_count": 18,
     "metadata": {},
     "output_type": "execute_result"
    }
   ],
   "source": [
    "train_l = []\n",
    "label_l = []\n",
    "index_l =[]\n",
    "userid_l = []\n",
    "for idx,row in df_train.iterrows():\n",
    "    for l in row['text_split']:\n",
    "        train_l.append(l)\n",
    "        label_l.append(row['suspended'])\n",
    "        index_l.append(idx)\n",
    "        userid_l.append(row['user.id'])\n",
    "len(train_l), len(label_l), len(index_l), len(userid_l)"
   ]
  },
  {
   "cell_type": "code",
   "execution_count": 19,
   "metadata": {
    "execution": {
     "iopub.execute_input": "2021-05-17T13:54:32.327475Z",
     "iopub.status.busy": "2021-05-17T13:54:32.326645Z",
     "iopub.status.idle": "2021-05-17T13:54:32.329898Z",
     "shell.execute_reply": "2021-05-17T13:54:32.330333Z"
    },
    "papermill": {
     "duration": 0.08487,
     "end_time": "2021-05-17T13:54:32.330449",
     "exception": false,
     "start_time": "2021-05-17T13:54:32.245579",
     "status": "completed"
    },
    "tags": []
   },
   "outputs": [
    {
     "data": {
      "text/html": [
       "<div>\n",
       "<style scoped>\n",
       "    .dataframe tbody tr th:only-of-type {\n",
       "        vertical-align: middle;\n",
       "    }\n",
       "\n",
       "    .dataframe tbody tr th {\n",
       "        vertical-align: top;\n",
       "    }\n",
       "\n",
       "    .dataframe thead th {\n",
       "        text-align: right;\n",
       "    }\n",
       "</style>\n",
       "<table border=\"1\" class=\"dataframe\">\n",
       "  <thead>\n",
       "    <tr style=\"text-align: right;\">\n",
       "      <th></th>\n",
       "      <th>user.id</th>\n",
       "      <th>text</th>\n",
       "      <th>suspended</th>\n",
       "    </tr>\n",
       "  </thead>\n",
       "  <tbody>\n",
       "    <tr>\n",
       "      <th>0</th>\n",
       "      <td>1.278130e+18</td>\n",
       "      <td>@ImranKhanPTI me mazor adme ho</td>\n",
       "      <td>0</td>\n",
       "    </tr>\n",
       "    <tr>\n",
       "      <th>1</th>\n",
       "      <td>1.278132e+18</td>\n",
       "      <td>@SatoshiLite @litecoin face_with_monocle face_...</td>\n",
       "      <td>0</td>\n",
       "    </tr>\n",
       "    <tr>\n",
       "      <th>2</th>\n",
       "      <td>1.278132e+18</td>\n",
       "      <td>https://t.co/BjWx8KGnnl @qtum #3QEX slightly_s...</td>\n",
       "      <td>0</td>\n",
       "    </tr>\n",
       "    <tr>\n",
       "      <th>3</th>\n",
       "      <td>1.278132e+18</td>\n",
       "      <td>17, 2020 (SGT+8); 2. Open trading time: 19:… h...</td>\n",
       "      <td>0</td>\n",
       "    </tr>\n",
       "    <tr>\n",
       "      <th>4</th>\n",
       "      <td>1.278132e+18</td>\n",
       "      <td>man_running woman_running Come and see if you ...</td>\n",
       "      <td>0</td>\n",
       "    </tr>\n",
       "  </tbody>\n",
       "</table>\n",
       "</div>"
      ],
      "text/plain": [
       "        user.id                                               text  suspended\n",
       "0  1.278130e+18                     @ImranKhanPTI me mazor adme ho          0\n",
       "1  1.278132e+18  @SatoshiLite @litecoin face_with_monocle face_...          0\n",
       "2  1.278132e+18  https://t.co/BjWx8KGnnl @qtum #3QEX slightly_s...          0\n",
       "3  1.278132e+18  17, 2020 (SGT+8); 2. Open trading time: 19:… h...          0\n",
       "4  1.278132e+18  man_running woman_running Come and see if you ...          0"
      ]
     },
     "execution_count": 19,
     "metadata": {},
     "output_type": "execute_result"
    }
   ],
   "source": [
    "df_train = pd.DataFrame({'user.id':userid_l, 'text':train_l, 'suspended':label_l})\n",
    "df_train.head()"
   ]
  },
  {
   "cell_type": "code",
   "execution_count": 20,
   "metadata": {
    "execution": {
     "iopub.execute_input": "2021-05-17T13:54:32.486852Z",
     "iopub.status.busy": "2021-05-17T13:54:32.485889Z",
     "iopub.status.idle": "2021-05-17T13:54:33.191328Z",
     "shell.execute_reply": "2021-05-17T13:54:33.190756Z"
    },
    "papermill": {
     "duration": 0.791402,
     "end_time": "2021-05-17T13:54:33.191445",
     "exception": false,
     "start_time": "2021-05-17T13:54:32.400043",
     "status": "completed"
    },
    "tags": []
   },
   "outputs": [],
   "source": [
    "df_train_2 = df_train.copy()\n",
    "df_train_2['user.id'] = df_train_2['user.id'].astype('str')\n",
    "df_train_2['user.id'] = df_train_2['user.id'].apply(lambda x: \"'\" + x + \"'\")\n",
    "df_train_2['user.id'] = df_train_2['user.id'].astype('str')\n",
    "df_train_2['user.id'] = df_train_2['user.id'].apply(lambda x: \"'\" + x + \"'\")\n",
    "\n",
    "df_train_2.to_csv('df_train_2_overlap.csv', index=False, encoding = \"utf_8_sig\")"
   ]
  },
  {
   "cell_type": "code",
   "execution_count": 21,
   "metadata": {
    "execution": {
     "iopub.execute_input": "2021-05-17T13:54:33.358424Z",
     "iopub.status.busy": "2021-05-17T13:54:33.353062Z",
     "iopub.status.idle": "2021-05-17T13:54:34.582238Z",
     "shell.execute_reply": "2021-05-17T13:54:34.582678Z"
    },
    "papermill": {
     "duration": 1.327251,
     "end_time": "2021-05-17T13:54:34.582799",
     "exception": false,
     "start_time": "2021-05-17T13:54:33.255548",
     "status": "completed"
    },
    "tags": []
   },
   "outputs": [
    {
     "data": {
      "text/html": [
       "<div>\n",
       "<style scoped>\n",
       "    .dataframe tbody tr th:only-of-type {\n",
       "        vertical-align: middle;\n",
       "    }\n",
       "\n",
       "    .dataframe tbody tr th {\n",
       "        vertical-align: top;\n",
       "    }\n",
       "\n",
       "    .dataframe thead th {\n",
       "        text-align: right;\n",
       "    }\n",
       "</style>\n",
       "<table border=\"1\" class=\"dataframe\">\n",
       "  <thead>\n",
       "    <tr style=\"text-align: right;\">\n",
       "      <th></th>\n",
       "      <th>user.id</th>\n",
       "      <th>suspended</th>\n",
       "      <th>text</th>\n",
       "      <th>text_split</th>\n",
       "    </tr>\n",
       "  </thead>\n",
       "  <tbody>\n",
       "    <tr>\n",
       "      <th>0</th>\n",
       "      <td>1.278120e+18</td>\n",
       "      <td>1</td>\n",
       "      <td>@RFS_China 窝扪终锅震的是胎pear 害hot_pepper  @NSJ_zz_ ...</td>\n",
       "      <td>[@RFS_China 窝扪终锅震的是胎pear 害hot_pepper @NSJ_zz_ ...</td>\n",
       "    </tr>\n",
       "    <tr>\n",
       "      <th>1</th>\n",
       "      <td>1.278152e+18</td>\n",
       "      <td>0</td>\n",
       "      <td>@nnnwzdcsbwqnm11 @realDonaldTrump 这图恶心到我了 @Gan...</td>\n",
       "      <td>[@nnnwzdcsbwqnm11 @realDonaldTrump 这图恶心到我了 @Ga...</td>\n",
       "    </tr>\n",
       "    <tr>\n",
       "      <th>2</th>\n",
       "      <td>1.278155e+18</td>\n",
       "      <td>0</td>\n",
       "      <td>@chowtingagnes 馬鹿 @joshuawongcf jail is well p...</td>\n",
       "      <td>[@chowtingagnes 馬鹿 @joshuawongcf jail is well ...</td>\n",
       "    </tr>\n",
       "    <tr>\n",
       "      <th>3</th>\n",
       "      <td>1.278178e+18</td>\n",
       "      <td>0</td>\n",
       "      <td>Play with me and destroy our friendship #Board...</td>\n",
       "      <td>[Play with me and destroy our friendship #Boar...</td>\n",
       "    </tr>\n",
       "    <tr>\n",
       "      <th>4</th>\n",
       "      <td>1.278191e+18</td>\n",
       "      <td>0</td>\n",
       "      <td>@nytchinese @NYTimesCohen 这 主编喝醉了？ RT @AbeShin...</td>\n",
       "      <td>[@nytchinese @NYTimesCohen 这 主编喝醉了？ RT @AbeShi...</td>\n",
       "    </tr>\n",
       "  </tbody>\n",
       "</table>\n",
       "</div>"
      ],
      "text/plain": [
       "        user.id  suspended                                               text  \\\n",
       "0  1.278120e+18          1  @RFS_China 窝扪终锅震的是胎pear 害hot_pepper  @NSJ_zz_ ...   \n",
       "1  1.278152e+18          0  @nnnwzdcsbwqnm11 @realDonaldTrump 这图恶心到我了 @Gan...   \n",
       "2  1.278155e+18          0  @chowtingagnes 馬鹿 @joshuawongcf jail is well p...   \n",
       "3  1.278178e+18          0  Play with me and destroy our friendship #Board...   \n",
       "4  1.278191e+18          0  @nytchinese @NYTimesCohen 这 主编喝醉了？ RT @AbeShin...   \n",
       "\n",
       "                                          text_split  \n",
       "0  [@RFS_China 窝扪终锅震的是胎pear 害hot_pepper @NSJ_zz_ ...  \n",
       "1  [@nnnwzdcsbwqnm11 @realDonaldTrump 这图恶心到我了 @Ga...  \n",
       "2  [@chowtingagnes 馬鹿 @joshuawongcf jail is well ...  \n",
       "3  [Play with me and destroy our friendship #Boar...  \n",
       "4  [@nytchinese @NYTimesCohen 这 主编喝醉了？ RT @AbeShi...  "
      ]
     },
     "execution_count": 21,
     "metadata": {},
     "output_type": "execute_result"
    }
   ],
   "source": [
    "df_valid['text_split'] = df_valid['text'].apply(get_split)\n",
    "df_valid.head()"
   ]
  },
  {
   "cell_type": "code",
   "execution_count": 22,
   "metadata": {
    "execution": {
     "iopub.execute_input": "2021-05-17T13:54:34.755468Z",
     "iopub.status.busy": "2021-05-17T13:54:34.750471Z",
     "iopub.status.idle": "2021-05-17T13:54:34.797266Z",
     "shell.execute_reply": "2021-05-17T13:54:34.797713Z"
    },
    "papermill": {
     "duration": 0.15111,
     "end_time": "2021-05-17T13:54:34.797836",
     "exception": false,
     "start_time": "2021-05-17T13:54:34.646726",
     "status": "completed"
    },
    "tags": []
   },
   "outputs": [
    {
     "data": {
      "text/plain": [
       "(2590, 2590, 2590, 2590)"
      ]
     },
     "execution_count": 22,
     "metadata": {},
     "output_type": "execute_result"
    }
   ],
   "source": [
    "val_l = []\n",
    "val_label_l = []\n",
    "val_index_l =[]\n",
    "val_userid_l = []\n",
    "for idx,row in df_valid.iterrows():\n",
    "    for l in row['text_split']:\n",
    "        val_l.append(l)\n",
    "        val_label_l.append(row['suspended'])\n",
    "        val_index_l.append(idx)\n",
    "        val_userid_l.append(row['user.id'])\n",
    "len(val_l), len(val_label_l), len(val_index_l),  len(val_userid_l)"
   ]
  },
  {
   "cell_type": "code",
   "execution_count": 23,
   "metadata": {
    "execution": {
     "iopub.execute_input": "2021-05-17T13:54:34.942213Z",
     "iopub.status.busy": "2021-05-17T13:54:34.941255Z",
     "iopub.status.idle": "2021-05-17T13:54:34.945401Z",
     "shell.execute_reply": "2021-05-17T13:54:34.944917Z"
    },
    "papermill": {
     "duration": 0.082859,
     "end_time": "2021-05-17T13:54:34.945510",
     "exception": false,
     "start_time": "2021-05-17T13:54:34.862651",
     "status": "completed"
    },
    "tags": []
   },
   "outputs": [
    {
     "data": {
      "text/html": [
       "<div>\n",
       "<style scoped>\n",
       "    .dataframe tbody tr th:only-of-type {\n",
       "        vertical-align: middle;\n",
       "    }\n",
       "\n",
       "    .dataframe tbody tr th {\n",
       "        vertical-align: top;\n",
       "    }\n",
       "\n",
       "    .dataframe thead th {\n",
       "        text-align: right;\n",
       "    }\n",
       "</style>\n",
       "<table border=\"1\" class=\"dataframe\">\n",
       "  <thead>\n",
       "    <tr style=\"text-align: right;\">\n",
       "      <th></th>\n",
       "      <th>user.id</th>\n",
       "      <th>text</th>\n",
       "      <th>suspended</th>\n",
       "    </tr>\n",
       "  </thead>\n",
       "  <tbody>\n",
       "    <tr>\n",
       "      <th>0</th>\n",
       "      <td>1.278120e+18</td>\n",
       "      <td>@RFS_China 窝扪终锅震的是胎pear 害hot_pepper @NSJ_zz_ 希...</td>\n",
       "      <td>1</td>\n",
       "    </tr>\n",
       "    <tr>\n",
       "      <th>1</th>\n",
       "      <td>1.278120e+18</td>\n",
       "      <td>家 狂 喜 @Gentlemao1 @leevitan @Rome_Theodoro 正确示...</td>\n",
       "      <td>1</td>\n",
       "    </tr>\n",
       "    <tr>\n",
       "      <th>2</th>\n",
       "      <td>1.278120e+18</td>\n",
       "      <td>@MIT5bnanana @Rosieja19741761 @naser_aali 这人ra...</td>\n",
       "      <td>1</td>\n",
       "    </tr>\n",
       "    <tr>\n",
       "      <th>3</th>\n",
       "      <td>1.278120e+18</td>\n",
       "      <td>建议加入中推圈经典 #RGTV 我的入关学浓度是97分【铁杆入关人】，你也来测测你的入关浓度...</td>\n",
       "      <td>1</td>\n",
       "    </tr>\n",
       "    <tr>\n",
       "      <th>4</th>\n",
       "      <td>1.278120e+18</td>\n",
       "      <td>https://t.co/JBmF9WYcbw @arashilover7 @joshuaw...</td>\n",
       "      <td>1</td>\n",
       "    </tr>\n",
       "  </tbody>\n",
       "</table>\n",
       "</div>"
      ],
      "text/plain": [
       "        user.id                                               text  suspended\n",
       "0  1.278120e+18  @RFS_China 窝扪终锅震的是胎pear 害hot_pepper @NSJ_zz_ 希...          1\n",
       "1  1.278120e+18  家 狂 喜 @Gentlemao1 @leevitan @Rome_Theodoro 正确示...          1\n",
       "2  1.278120e+18  @MIT5bnanana @Rosieja19741761 @naser_aali 这人ra...          1\n",
       "3  1.278120e+18  建议加入中推圈经典 #RGTV 我的入关学浓度是97分【铁杆入关人】，你也来测测你的入关浓度...          1\n",
       "4  1.278120e+18  https://t.co/JBmF9WYcbw @arashilover7 @joshuaw...          1"
      ]
     },
     "execution_count": 23,
     "metadata": {},
     "output_type": "execute_result"
    }
   ],
   "source": [
    "df_valid = pd.DataFrame({'user.id':val_userid_l, 'text':val_l, 'suspended':val_label_l})\n",
    "df_valid.head()"
   ]
  },
  {
   "cell_type": "code",
   "execution_count": 24,
   "metadata": {
    "execution": {
     "iopub.execute_input": "2021-05-17T13:54:35.097484Z",
     "iopub.status.busy": "2021-05-17T13:54:35.096577Z",
     "iopub.status.idle": "2021-05-17T13:54:35.288784Z",
     "shell.execute_reply": "2021-05-17T13:54:35.288082Z"
    },
    "papermill": {
     "duration": 0.272687,
     "end_time": "2021-05-17T13:54:35.288918",
     "exception": false,
     "start_time": "2021-05-17T13:54:35.016231",
     "status": "completed"
    },
    "tags": []
   },
   "outputs": [],
   "source": [
    "df_valid_2 = df_valid.copy()\n",
    "df_valid_2['user.id'] = df_valid_2['user.id'].astype('str')\n",
    "df_valid_2['user.id'] = df_valid_2['user.id'].apply(lambda x: \"'\" + x + \"'\")\n",
    "df_valid_2['user.id'] = df_valid_2['user.id'].astype('str')\n",
    "df_valid_2['user.id'] = df_valid_2['user.id'].apply(lambda x: \"'\" + x + \"'\")\n",
    "\n",
    "df_valid_2.to_csv('df_valid_2_overlap.csv', index=False, encoding = \"utf_8_sig\")"
   ]
  },
  {
   "cell_type": "code",
   "execution_count": 25,
   "metadata": {
    "execution": {
     "iopub.execute_input": "2021-05-17T13:54:35.511376Z",
     "iopub.status.busy": "2021-05-17T13:54:35.510505Z",
     "iopub.status.idle": "2021-05-17T13:54:37.493350Z",
     "shell.execute_reply": "2021-05-17T13:54:37.492444Z"
    },
    "papermill": {
     "duration": 2.094198,
     "end_time": "2021-05-17T13:54:37.493452",
     "exception": false,
     "start_time": "2021-05-17T13:54:35.399254",
     "status": "completed"
    },
    "tags": []
   },
   "outputs": [
    {
     "data": {
      "text/html": [
       "<div>\n",
       "<style scoped>\n",
       "    .dataframe tbody tr th:only-of-type {\n",
       "        vertical-align: middle;\n",
       "    }\n",
       "\n",
       "    .dataframe tbody tr th {\n",
       "        vertical-align: top;\n",
       "    }\n",
       "\n",
       "    .dataframe thead th {\n",
       "        text-align: right;\n",
       "    }\n",
       "</style>\n",
       "<table border=\"1\" class=\"dataframe\">\n",
       "  <thead>\n",
       "    <tr style=\"text-align: right;\">\n",
       "      <th></th>\n",
       "      <th>user.id</th>\n",
       "      <th>suspended</th>\n",
       "      <th>text</th>\n",
       "      <th>text_split</th>\n",
       "    </tr>\n",
       "  </thead>\n",
       "  <tbody>\n",
       "    <tr>\n",
       "      <th>0</th>\n",
       "      <td>1.278122e+18</td>\n",
       "      <td>0</td>\n",
       "      <td>今天第一次上推特，看看世界 @ttingxiao 胡说八道</td>\n",
       "      <td>[今天第一次上推特，看看世界 @ttingxiao 胡说八道]</td>\n",
       "    </tr>\n",
       "    <tr>\n",
       "      <th>1</th>\n",
       "      <td>1.278129e+18</td>\n",
       "      <td>0</td>\n",
       "      <td>@JimDong16 @jianshang82 @huangzhixia @iingwen ...</td>\n",
       "      <td>[@JimDong16 @jianshang82 @huangzhixia @iingwen...</td>\n",
       "    </tr>\n",
       "    <tr>\n",
       "      <th>2</th>\n",
       "      <td>1.278131e+18</td>\n",
       "      <td>0</td>\n",
       "      <td>@mian050715 @91porm nerd_face</td>\n",
       "      <td>[@mian050715 @91porm nerd_face]</td>\n",
       "    </tr>\n",
       "    <tr>\n",
       "      <th>3</th>\n",
       "      <td>1.278145e+18</td>\n",
       "      <td>1</td>\n",
       "      <td>join amazon</td>\n",
       "      <td>[join amazon]</td>\n",
       "    </tr>\n",
       "    <tr>\n",
       "      <th>4</th>\n",
       "      <td>1.278155e+18</td>\n",
       "      <td>0</td>\n",
       "      <td>@yqMFcTa36NRSAOp @PDChinese 能怎样？ @SBjuexing fa...</td>\n",
       "      <td>[@yqMFcTa36NRSAOp @PDChinese 能怎样？ @SBjuexing f...</td>\n",
       "    </tr>\n",
       "  </tbody>\n",
       "</table>\n",
       "</div>"
      ],
      "text/plain": [
       "        user.id  suspended                                               text  \\\n",
       "0  1.278122e+18          0                      今天第一次上推特，看看世界 @ttingxiao 胡说八道   \n",
       "1  1.278129e+18          0  @JimDong16 @jianshang82 @huangzhixia @iingwen ...   \n",
       "2  1.278131e+18          0                     @mian050715 @91porm nerd_face    \n",
       "3  1.278145e+18          1                                        join amazon   \n",
       "4  1.278155e+18          0  @yqMFcTa36NRSAOp @PDChinese 能怎样？ @SBjuexing fa...   \n",
       "\n",
       "                                          text_split  \n",
       "0                    [今天第一次上推特，看看世界 @ttingxiao 胡说八道]  \n",
       "1  [@JimDong16 @jianshang82 @huangzhixia @iingwen...  \n",
       "2                    [@mian050715 @91porm nerd_face]  \n",
       "3                                      [join amazon]  \n",
       "4  [@yqMFcTa36NRSAOp @PDChinese 能怎样？ @SBjuexing f...  "
      ]
     },
     "execution_count": 25,
     "metadata": {},
     "output_type": "execute_result"
    }
   ],
   "source": [
    "df_test['text_split'] = df_test['text'].apply(get_split)\n",
    "df_test.head()"
   ]
  },
  {
   "cell_type": "code",
   "execution_count": 26,
   "metadata": {
    "execution": {
     "iopub.execute_input": "2021-05-17T13:54:37.679873Z",
     "iopub.status.busy": "2021-05-17T13:54:37.654343Z",
     "iopub.status.idle": "2021-05-17T13:54:37.708386Z",
     "shell.execute_reply": "2021-05-17T13:54:37.707926Z"
    },
    "papermill": {
     "duration": 0.1476,
     "end_time": "2021-05-17T13:54:37.708487",
     "exception": false,
     "start_time": "2021-05-17T13:54:37.560887",
     "status": "completed"
    },
    "tags": []
   },
   "outputs": [
    {
     "data": {
      "text/plain": [
       "(2779, 2779, 2779, 2779)"
      ]
     },
     "execution_count": 26,
     "metadata": {},
     "output_type": "execute_result"
    }
   ],
   "source": [
    "test_l = []\n",
    "test_label_l = []\n",
    "test_index_l =[]\n",
    "test_userid_l = []\n",
    "for idx,row in df_test.iterrows():\n",
    "    for l in row['text_split']:\n",
    "        test_l.append(l)\n",
    "        test_label_l.append(row['suspended'])\n",
    "        test_index_l.append(idx)\n",
    "        test_userid_l.append(row['user.id'])\n",
    "len(test_l), len(test_label_l), len(test_index_l), len(test_userid_l) "
   ]
  },
  {
   "cell_type": "code",
   "execution_count": 27,
   "metadata": {
    "execution": {
     "iopub.execute_input": "2021-05-17T13:54:37.854891Z",
     "iopub.status.busy": "2021-05-17T13:54:37.853923Z",
     "iopub.status.idle": "2021-05-17T13:54:37.857653Z",
     "shell.execute_reply": "2021-05-17T13:54:37.858139Z"
    },
    "papermill": {
     "duration": 0.083087,
     "end_time": "2021-05-17T13:54:37.858262",
     "exception": false,
     "start_time": "2021-05-17T13:54:37.775175",
     "status": "completed"
    },
    "tags": []
   },
   "outputs": [
    {
     "data": {
      "text/html": [
       "<div>\n",
       "<style scoped>\n",
       "    .dataframe tbody tr th:only-of-type {\n",
       "        vertical-align: middle;\n",
       "    }\n",
       "\n",
       "    .dataframe tbody tr th {\n",
       "        vertical-align: top;\n",
       "    }\n",
       "\n",
       "    .dataframe thead th {\n",
       "        text-align: right;\n",
       "    }\n",
       "</style>\n",
       "<table border=\"1\" class=\"dataframe\">\n",
       "  <thead>\n",
       "    <tr style=\"text-align: right;\">\n",
       "      <th></th>\n",
       "      <th>user.id</th>\n",
       "      <th>text</th>\n",
       "      <th>suspended</th>\n",
       "    </tr>\n",
       "  </thead>\n",
       "  <tbody>\n",
       "    <tr>\n",
       "      <th>0</th>\n",
       "      <td>1.278122e+18</td>\n",
       "      <td>今天第一次上推特，看看世界 @ttingxiao 胡说八道</td>\n",
       "      <td>0</td>\n",
       "    </tr>\n",
       "    <tr>\n",
       "      <th>1</th>\n",
       "      <td>1.278129e+18</td>\n",
       "      <td>@JimDong16 @jianshang82 @huangzhixia @iingwen ...</td>\n",
       "      <td>0</td>\n",
       "    </tr>\n",
       "    <tr>\n",
       "      <th>2</th>\n",
       "      <td>1.278131e+18</td>\n",
       "      <td>@mian050715 @91porm nerd_face</td>\n",
       "      <td>0</td>\n",
       "    </tr>\n",
       "    <tr>\n",
       "      <th>3</th>\n",
       "      <td>1.278145e+18</td>\n",
       "      <td>join amazon</td>\n",
       "      <td>1</td>\n",
       "    </tr>\n",
       "    <tr>\n",
       "      <th>4</th>\n",
       "      <td>1.278155e+18</td>\n",
       "      <td>@yqMFcTa36NRSAOp @PDChinese 能怎样？ @SBjuexing fa...</td>\n",
       "      <td>0</td>\n",
       "    </tr>\n",
       "  </tbody>\n",
       "</table>\n",
       "</div>"
      ],
      "text/plain": [
       "        user.id                                               text  suspended\n",
       "0  1.278122e+18                      今天第一次上推特，看看世界 @ttingxiao 胡说八道          0\n",
       "1  1.278129e+18  @JimDong16 @jianshang82 @huangzhixia @iingwen ...          0\n",
       "2  1.278131e+18                      @mian050715 @91porm nerd_face          0\n",
       "3  1.278145e+18                                        join amazon          1\n",
       "4  1.278155e+18  @yqMFcTa36NRSAOp @PDChinese 能怎样？ @SBjuexing fa...          0"
      ]
     },
     "execution_count": 27,
     "metadata": {},
     "output_type": "execute_result"
    }
   ],
   "source": [
    "df_test = pd.DataFrame({'user.id':test_userid_l,'text':test_l, 'suspended':test_label_l})\n",
    "df_test.head()"
   ]
  },
  {
   "cell_type": "code",
   "execution_count": 28,
   "metadata": {
    "execution": {
     "iopub.execute_input": "2021-05-17T13:54:38.011582Z",
     "iopub.status.busy": "2021-05-17T13:54:38.010693Z",
     "iopub.status.idle": "2021-05-17T13:54:38.165895Z",
     "shell.execute_reply": "2021-05-17T13:54:38.165421Z"
    },
    "papermill": {
     "duration": 0.237504,
     "end_time": "2021-05-17T13:54:38.166000",
     "exception": false,
     "start_time": "2021-05-17T13:54:37.928496",
     "status": "completed"
    },
    "tags": []
   },
   "outputs": [],
   "source": [
    "df_test_2 = df_test.copy()\n",
    "df_test_2['user.id'] = df_test_2['user.id'].astype('str')\n",
    "df_test_2['user.id'] = df_test_2['user.id'].apply(lambda x: \"'\" + x + \"'\")\n",
    "df_test_2['user.id'] = df_test_2['user.id'].astype('str')\n",
    "df_test_2['user.id'] = df_test_2['user.id'].apply(lambda x: \"'\" + x + \"'\")\n",
    "\n",
    "df_test_2.to_csv('df_test_2_overlap.csv', index=False, encoding = \"utf_8_sig\")"
   ]
  },
  {
   "cell_type": "code",
   "execution_count": 29,
   "metadata": {
    "execution": {
     "iopub.execute_input": "2021-05-17T13:54:38.309281Z",
     "iopub.status.busy": "2021-05-17T13:54:38.308676Z",
     "iopub.status.idle": "2021-05-17T13:54:41.513288Z",
     "shell.execute_reply": "2021-05-17T13:54:41.512287Z"
    },
    "papermill": {
     "duration": 3.277531,
     "end_time": "2021-05-17T13:54:41.513406",
     "exception": false,
     "start_time": "2021-05-17T13:54:38.235875",
     "status": "completed"
    },
    "tags": []
   },
   "outputs": [],
   "source": [
    "import numpy as np\n",
    "import pandas as pd\n",
    "import torch\n",
    "import transformers as ppb # pytorch transformers\n",
    "from sklearn.linear_model import LogisticRegression\n",
    "from sklearn.model_selection import cross_val_score\n",
    "from sklearn.model_selection import train_test_split\n",
    "from numba import cuda \n",
    "import gc\n",
    "\n",
    "from sklearn.metrics import roc_auc_score\n",
    "from sklearn.metrics import roc_curve"
   ]
  },
  {
   "cell_type": "code",
   "execution_count": 30,
   "metadata": {
    "execution": {
     "iopub.execute_input": "2021-05-17T13:54:41.839008Z",
     "iopub.status.busy": "2021-05-17T13:54:41.837231Z",
     "iopub.status.idle": "2021-05-17T13:54:41.839771Z",
     "shell.execute_reply": "2021-05-17T13:54:41.840232Z"
    },
    "papermill": {
     "duration": 0.259457,
     "end_time": "2021-05-17T13:54:41.840355",
     "exception": false,
     "start_time": "2021-05-17T13:54:41.580898",
     "status": "completed"
    },
    "tags": []
   },
   "outputs": [],
   "source": [
    "gc.collect()\n",
    "torch.cuda.empty_cache()"
   ]
  },
  {
   "cell_type": "code",
   "execution_count": 31,
   "metadata": {
    "execution": {
     "iopub.execute_input": "2021-05-17T13:54:41.989526Z",
     "iopub.status.busy": "2021-05-17T13:54:41.988685Z",
     "iopub.status.idle": "2021-05-17T13:54:41.991724Z",
     "shell.execute_reply": "2021-05-17T13:54:41.991257Z"
    },
    "papermill": {
     "duration": 0.081264,
     "end_time": "2021-05-17T13:54:41.991826",
     "exception": false,
     "start_time": "2021-05-17T13:54:41.910562",
     "status": "completed"
    },
    "tags": []
   },
   "outputs": [],
   "source": [
    "# Get the lists of sentences and their labels.\n",
    "sentences_train = df_train.text.values\n",
    "train_labels = df_train.suspended.values\n",
    "ids_train = df_train.index.values\n",
    "\n",
    "sentences_valid = df_valid.text.values\n",
    "validation_labels = df_valid.suspended.values\n",
    "ids_validation = df_valid.index.values\n",
    "\n",
    "sentences_test = df_test.text.values\n",
    "test_labels = df_test.suspended.values\n",
    "ids_test = df_test.index.values"
   ]
  },
  {
   "cell_type": "code",
   "execution_count": 32,
   "metadata": {
    "execution": {
     "iopub.execute_input": "2021-05-17T13:54:42.145752Z",
     "iopub.status.busy": "2021-05-17T13:54:42.144802Z",
     "iopub.status.idle": "2021-05-17T13:54:42.150282Z",
     "shell.execute_reply": "2021-05-17T13:54:42.149620Z"
    },
    "papermill": {
     "duration": 0.08561,
     "end_time": "2021-05-17T13:54:42.150407",
     "exception": false,
     "start_time": "2021-05-17T13:54:42.064797",
     "status": "completed"
    },
    "tags": []
   },
   "outputs": [
    {
     "name": "stdout",
     "output_type": "stream",
     "text": [
      "Train: 9492 Valid: 2590 Test 2779\n"
     ]
    }
   ],
   "source": [
    "print(\"Train:\", len(sentences_train), \"Valid:\", len(sentences_valid), \"Test\", len(sentences_test))"
   ]
  },
  {
   "cell_type": "markdown",
   "metadata": {
    "papermill": {
     "duration": 0.070285,
     "end_time": "2021-05-17T13:54:42.295052",
     "exception": false,
     "start_time": "2021-05-17T13:54:42.224767",
     "status": "completed"
    },
    "tags": []
   },
   "source": [
    "### Load in Model and Tokenizer"
   ]
  },
  {
   "cell_type": "code",
   "execution_count": 33,
   "metadata": {
    "execution": {
     "iopub.execute_input": "2021-05-17T13:54:42.442264Z",
     "iopub.status.busy": "2021-05-17T13:54:42.441440Z",
     "iopub.status.idle": "2021-05-17T13:54:47.138059Z",
     "shell.execute_reply": "2021-05-17T13:54:47.136963Z"
    },
    "papermill": {
     "duration": 4.771399,
     "end_time": "2021-05-17T13:54:47.138188",
     "exception": false,
     "start_time": "2021-05-17T13:54:42.366789",
     "status": "completed"
    },
    "tags": []
   },
   "outputs": [
    {
     "data": {
      "application/vnd.jupyter.widget-view+json": {
       "model_id": "5579fb445dda49c2a22fdbc9ad28ac48",
       "version_major": 2,
       "version_minor": 0
      },
      "text/plain": [
       "HBox(children=(FloatProgress(value=0.0, description='Downloading', max=5220781.0, style=ProgressStyle(descript…"
      ]
     },
     "metadata": {},
     "output_type": "display_data"
    },
    {
     "name": "stdout",
     "output_type": "stream",
     "text": [
      "\n"
     ]
    },
    {
     "data": {
      "application/vnd.jupyter.widget-view+json": {
       "model_id": "bc86fe778a954277b3a52628b29c0074",
       "version_major": 2,
       "version_minor": 0
      },
      "text/plain": [
       "HBox(children=(FloatProgress(value=0.0, description='Downloading', max=112.0, style=ProgressStyle(description_…"
      ]
     },
     "metadata": {},
     "output_type": "display_data"
    },
    {
     "name": "stdout",
     "output_type": "stream",
     "text": [
      "\n"
     ]
    },
    {
     "data": {
      "application/vnd.jupyter.widget-view+json": {
       "model_id": "b682e474aae24266b06d723dc411dae2",
       "version_major": 2,
       "version_minor": 0
      },
      "text/plain": [
       "HBox(children=(FloatProgress(value=0.0, description='Downloading', max=62.0, style=ProgressStyle(description_w…"
      ]
     },
     "metadata": {},
     "output_type": "display_data"
    },
    {
     "name": "stdout",
     "output_type": "stream",
     "text": [
      "\n"
     ]
    }
   ],
   "source": [
    "# https://huggingface.co/pvl/labse_bert\n",
    "model_class, tokenizer_class, pretrained_weights = (ppb.BertModel, ppb.BertTokenizer, 'pvl/labse_bert')\n",
    "\n",
    "# Load pretrained model/tokenizer\n",
    "tokenizer = tokenizer_class.from_pretrained(pretrained_weights)\n",
    "#model = model_class.from_pretrained(pretrained_weights)"
   ]
  },
  {
   "cell_type": "code",
   "execution_count": 34,
   "metadata": {
    "execution": {
     "iopub.execute_input": "2021-05-17T13:54:47.518430Z",
     "iopub.status.busy": "2021-05-17T13:54:47.516516Z",
     "iopub.status.idle": "2021-05-17T13:54:47.519304Z",
     "shell.execute_reply": "2021-05-17T13:54:47.519715Z"
    },
    "papermill": {
     "duration": 0.303935,
     "end_time": "2021-05-17T13:54:47.519834",
     "exception": false,
     "start_time": "2021-05-17T13:54:47.215899",
     "status": "completed"
    },
    "tags": []
   },
   "outputs": [],
   "source": [
    "gc.collect()\n",
    "torch.cuda.empty_cache()"
   ]
  },
  {
   "cell_type": "code",
   "execution_count": 35,
   "metadata": {
    "execution": {
     "iopub.execute_input": "2021-05-17T13:54:47.671639Z",
     "iopub.status.busy": "2021-05-17T13:54:47.670740Z",
     "iopub.status.idle": "2021-05-17T13:54:50.233929Z",
     "shell.execute_reply": "2021-05-17T13:54:50.232893Z"
    },
    "papermill": {
     "duration": 2.640736,
     "end_time": "2021-05-17T13:54:50.234050",
     "exception": false,
     "start_time": "2021-05-17T13:54:47.593314",
     "status": "completed"
    },
    "tags": []
   },
   "outputs": [
    {
     "name": "stdout",
     "output_type": "stream",
     "text": [
      "Loading BERT tokenizer...\n"
     ]
    }
   ],
   "source": [
    "from transformers import BertTokenizer\n",
    "# Load the BERT tokenizer.\n",
    "print('Loading BERT tokenizer...')\n",
    "tokenizer = BertTokenizer.from_pretrained('pvl/labse_bert', do_lower_case=True)"
   ]
  },
  {
   "cell_type": "markdown",
   "metadata": {
    "papermill": {
     "duration": 0.070329,
     "end_time": "2021-05-17T13:54:50.374835",
     "exception": false,
     "start_time": "2021-05-17T13:54:50.304506",
     "status": "completed"
    },
    "tags": []
   },
   "source": [
    "### Prep Data for Model"
   ]
  },
  {
   "cell_type": "code",
   "execution_count": 36,
   "metadata": {
    "execution": {
     "iopub.execute_input": "2021-05-17T13:54:50.523804Z",
     "iopub.status.busy": "2021-05-17T13:54:50.521938Z",
     "iopub.status.idle": "2021-05-17T13:54:50.524386Z",
     "shell.execute_reply": "2021-05-17T13:54:50.524785Z"
    },
    "papermill": {
     "duration": 0.079717,
     "end_time": "2021-05-17T13:54:50.524893",
     "exception": false,
     "start_time": "2021-05-17T13:54:50.445176",
     "status": "completed"
    },
    "tags": []
   },
   "outputs": [],
   "source": [
    "def sent_to_ids(sentences): \n",
    "    # Tokenize all of the sentences and map the tokens to thier word IDs.\n",
    "    input_ids = []\n",
    "    # For every sentence...\n",
    "    for sent in sentences:\n",
    "        # `encode` will:\n",
    "        #   (1) Tokenize the sentence.\n",
    "        #   (2) Prepend the `[CLS]` token to the start.\n",
    "        #   (3) Append the `[SEP]` token to the end.\n",
    "        #   (4) Map tokens to their IDs.\n",
    "        encoded_sent = tokenizer.encode(\n",
    "            sent,                      # Sentence to encode.\n",
    "            add_special_tokens = True, # Add '[CLS]' and '[SEP]'\n",
    "                          # This function also supports truncation and conversion\n",
    "                          # to pytorch tensors, but we need to do padding, so we\n",
    "                          # can't use these features :( .\n",
    "                          #max_length = 128,          # Truncate all sentences.\n",
    "                          #return_tensors = 'pt',     # Return pytorch tensors.\n",
    "        )\n",
    "      \n",
    "        # Add the encoded sentence to the list.\n",
    "        input_ids.append(encoded_sent)\n",
    "    # Pad and truncate our sequences so that they all have the same length\n",
    "    input_ids = pad_sequences(input_ids, maxlen=120, dtype=\"long\", \n",
    "                            value=0, truncating=\"post\", padding=\"post\")\n",
    "    # Print sentence 0, now as a list of IDs.\n",
    "    return input_ids\n",
    "\n",
    "# SWIMMING STEMMED INTO SWIM AND M AND ING (SO LEN IS FOR EACH OF THOSE)"
   ]
  },
  {
   "cell_type": "code",
   "execution_count": 37,
   "metadata": {
    "execution": {
     "iopub.execute_input": "2021-05-17T13:54:50.694639Z",
     "iopub.status.busy": "2021-05-17T13:54:50.674179Z",
     "iopub.status.idle": "2021-05-17T13:56:20.851906Z",
     "shell.execute_reply": "2021-05-17T13:56:20.852432Z"
    },
    "papermill": {
     "duration": 90.256223,
     "end_time": "2021-05-17T13:56:20.852583",
     "exception": false,
     "start_time": "2021-05-17T13:54:50.596360",
     "status": "completed"
    },
    "tags": []
   },
   "outputs": [],
   "source": [
    "train_inputs = sent_to_ids(sentences_train)"
   ]
  },
  {
   "cell_type": "code",
   "execution_count": 38,
   "metadata": {
    "execution": {
     "iopub.execute_input": "2021-05-17T13:56:21.035048Z",
     "iopub.status.busy": "2021-05-17T13:56:21.019694Z",
     "iopub.status.idle": "2021-05-17T13:56:46.435183Z",
     "shell.execute_reply": "2021-05-17T13:56:46.434143Z"
    },
    "papermill": {
     "duration": 25.512443,
     "end_time": "2021-05-17T13:56:46.435299",
     "exception": false,
     "start_time": "2021-05-17T13:56:20.922856",
     "status": "completed"
    },
    "tags": []
   },
   "outputs": [],
   "source": [
    "validation_inputs = sent_to_ids(sentences_valid)"
   ]
  },
  {
   "cell_type": "code",
   "execution_count": 39,
   "metadata": {
    "execution": {
     "iopub.execute_input": "2021-05-17T13:56:46.607676Z",
     "iopub.status.busy": "2021-05-17T13:56:46.597426Z",
     "iopub.status.idle": "2021-05-17T13:57:14.596238Z",
     "shell.execute_reply": "2021-05-17T13:57:14.595748Z"
    },
    "papermill": {
     "duration": 28.0911,
     "end_time": "2021-05-17T13:57:14.596351",
     "exception": false,
     "start_time": "2021-05-17T13:56:46.505251",
     "status": "completed"
    },
    "tags": []
   },
   "outputs": [],
   "source": [
    "test_inputs = sent_to_ids(sentences_test)"
   ]
  },
  {
   "cell_type": "code",
   "execution_count": 40,
   "metadata": {
    "execution": {
     "iopub.execute_input": "2021-05-17T13:57:14.741753Z",
     "iopub.status.busy": "2021-05-17T13:57:14.741110Z",
     "iopub.status.idle": "2021-05-17T13:57:14.745588Z",
     "shell.execute_reply": "2021-05-17T13:57:14.745183Z"
    },
    "papermill": {
     "duration": 0.078915,
     "end_time": "2021-05-17T13:57:14.745676",
     "exception": false,
     "start_time": "2021-05-17T13:57:14.666761",
     "status": "completed"
    },
    "tags": []
   },
   "outputs": [
    {
     "name": "stdout",
     "output_type": "stream",
     "text": [
      "Train: 9492 Valid: 2590 Test 2779\n"
     ]
    }
   ],
   "source": [
    "print(\"Train:\", len(train_inputs), \"Valid:\", len(validation_inputs), \"Test\", len(test_inputs))"
   ]
  },
  {
   "cell_type": "code",
   "execution_count": 41,
   "metadata": {
    "execution": {
     "iopub.execute_input": "2021-05-17T13:57:14.891116Z",
     "iopub.status.busy": "2021-05-17T13:57:14.890429Z",
     "iopub.status.idle": "2021-05-17T13:57:14.893155Z",
     "shell.execute_reply": "2021-05-17T13:57:14.893592Z"
    },
    "papermill": {
     "duration": 0.077698,
     "end_time": "2021-05-17T13:57:14.893699",
     "exception": false,
     "start_time": "2021-05-17T13:57:14.816001",
     "status": "completed"
    },
    "tags": []
   },
   "outputs": [],
   "source": [
    "def get_attn_msks(input_ids):\n",
    "  # Create attention masks\n",
    "    attention_masks = []\n",
    "  # For each sentence...\n",
    "    for sent in input_ids:\n",
    "        # Create the attention mask.\n",
    "        #   - If a token ID is 0, then it's padding, set the mask to 0.\n",
    "        #   - If a token ID is > 0, then it's a real token, set the mask to 1.\n",
    "        att_mask = [int(token_id > 0) for token_id in sent]\n",
    "      \n",
    "        # Store the attention mask for this sentence.\n",
    "        attention_masks.append(att_mask)\n",
    "    return attention_masks"
   ]
  },
  {
   "cell_type": "code",
   "execution_count": 42,
   "metadata": {
    "execution": {
     "iopub.execute_input": "2021-05-17T13:57:15.060712Z",
     "iopub.status.busy": "2021-05-17T13:57:15.050486Z",
     "iopub.status.idle": "2021-05-17T13:57:16.071527Z",
     "shell.execute_reply": "2021-05-17T13:57:16.071031Z"
    },
    "papermill": {
     "duration": 1.108471,
     "end_time": "2021-05-17T13:57:16.071633",
     "exception": false,
     "start_time": "2021-05-17T13:57:14.963162",
     "status": "completed"
    },
    "tags": []
   },
   "outputs": [],
   "source": [
    "train_masks = get_attn_msks(train_inputs)"
   ]
  },
  {
   "cell_type": "code",
   "execution_count": 43,
   "metadata": {
    "execution": {
     "iopub.execute_input": "2021-05-17T13:57:16.240860Z",
     "iopub.status.busy": "2021-05-17T13:57:16.235758Z",
     "iopub.status.idle": "2021-05-17T13:57:16.498962Z",
     "shell.execute_reply": "2021-05-17T13:57:16.497953Z"
    },
    "papermill": {
     "duration": 0.356567,
     "end_time": "2021-05-17T13:57:16.499074",
     "exception": false,
     "start_time": "2021-05-17T13:57:16.142507",
     "status": "completed"
    },
    "tags": []
   },
   "outputs": [],
   "source": [
    "validation_masks = get_attn_msks(validation_inputs)"
   ]
  },
  {
   "cell_type": "code",
   "execution_count": 44,
   "metadata": {
    "execution": {
     "iopub.execute_input": "2021-05-17T13:57:16.658233Z",
     "iopub.status.busy": "2021-05-17T13:57:16.653072Z",
     "iopub.status.idle": "2021-05-17T13:57:16.951666Z",
     "shell.execute_reply": "2021-05-17T13:57:16.951213Z"
    },
    "papermill": {
     "duration": 0.38148,
     "end_time": "2021-05-17T13:57:16.951770",
     "exception": false,
     "start_time": "2021-05-17T13:57:16.570290",
     "status": "completed"
    },
    "tags": []
   },
   "outputs": [],
   "source": [
    "test_masks = get_attn_msks(test_inputs)"
   ]
  },
  {
   "cell_type": "code",
   "execution_count": 45,
   "metadata": {
    "execution": {
     "iopub.execute_input": "2021-05-17T13:57:17.105228Z",
     "iopub.status.busy": "2021-05-17T13:57:17.104597Z",
     "iopub.status.idle": "2021-05-17T13:57:17.255368Z",
     "shell.execute_reply": "2021-05-17T13:57:17.254928Z"
    },
    "papermill": {
     "duration": 0.233078,
     "end_time": "2021-05-17T13:57:17.255465",
     "exception": false,
     "start_time": "2021-05-17T13:57:17.022387",
     "status": "completed"
    },
    "tags": []
   },
   "outputs": [],
   "source": [
    "# Convert all inputs and labels into torch tensors, the required datatype \n",
    "# for our model.\n",
    "train_inputs = torch.tensor(train_inputs)\n",
    "validation_inputs = torch.tensor(validation_inputs)\n",
    "train_labels = torch.tensor(train_labels)\n",
    "validation_labels = torch.tensor(validation_labels)\n",
    "train_masks = torch.tensor(train_masks)\n",
    "validation_masks = torch.tensor(validation_masks)\n",
    "\n",
    "train_ids = torch.tensor(ids_train)\n",
    "valid_ids = torch.tensor(ids_validation)"
   ]
  },
  {
   "cell_type": "code",
   "execution_count": 46,
   "metadata": {
    "execution": {
     "iopub.execute_input": "2021-05-17T13:57:17.403602Z",
     "iopub.status.busy": "2021-05-17T13:57:17.402741Z",
     "iopub.status.idle": "2021-05-17T13:57:17.407102Z",
     "shell.execute_reply": "2021-05-17T13:57:17.407778Z"
    },
    "papermill": {
     "duration": 0.080847,
     "end_time": "2021-05-17T13:57:17.407922",
     "exception": false,
     "start_time": "2021-05-17T13:57:17.327075",
     "status": "completed"
    },
    "tags": []
   },
   "outputs": [
    {
     "name": "stdout",
     "output_type": "stream",
     "text": [
      "Train: 9492 Valid: 2590 Test 2779\n"
     ]
    }
   ],
   "source": [
    "print(\"Train:\", len(train_inputs), \"Valid:\", len(validation_inputs), \"Test\", len(test_inputs))"
   ]
  },
  {
   "cell_type": "code",
   "execution_count": 47,
   "metadata": {
    "execution": {
     "iopub.execute_input": "2021-05-17T13:57:17.558912Z",
     "iopub.status.busy": "2021-05-17T13:57:17.558043Z",
     "iopub.status.idle": "2021-05-17T13:57:17.561720Z",
     "shell.execute_reply": "2021-05-17T13:57:17.561314Z"
    },
    "papermill": {
     "duration": 0.082549,
     "end_time": "2021-05-17T13:57:17.561807",
     "exception": false,
     "start_time": "2021-05-17T13:57:17.479258",
     "status": "completed"
    },
    "tags": []
   },
   "outputs": [],
   "source": [
    "from torch.utils.data import TensorDataset, DataLoader, RandomSampler, SequentialSampler\n",
    "# The DataLoader needs to know our batch size for training, so we specify it \n",
    "# here.\n",
    "# For fine-tuning BERT on a specific task, the authors recommend a batch size of\n",
    "# 16 or 32.\n",
    "batch_size = 32 # try 32, and then move down to 16 and 8. \n",
    "# Create the DataLoader for our training set.\n",
    "train_data = TensorDataset(train_inputs, train_masks, train_labels, train_ids)\n",
    "train_sampler = RandomSampler(train_data) # CHANGE TO SEQUENTIAL (TRAIN_SEQUENTIAL_SAMPLER - BUT DO SEQUENTIALLY FOR HIDDEN STATES)\n",
    "train_dataloader = DataLoader(train_data, sampler=train_sampler, batch_size=batch_size)\n",
    "# Create the DataLoader for our validation set.\n",
    "validation_data = TensorDataset(validation_inputs, validation_masks, validation_labels, valid_ids)\n",
    "validation_sampler = SequentialSampler(validation_data)\n",
    "validation_dataloader = DataLoader(validation_data, sampler=validation_sampler, batch_size=batch_size)\n",
    "\n",
    "# Create the DataLoader for our training set for the embedding extraction.\n",
    "train_sampler_sequential = SequentialSampler(train_data) # CHANGE TO SEQUENTIAL (TRAIN_SEQUENTIAL_SAMPLER - BUT DO SEQUENTIALLY FOR HIDDEN STATES)\n",
    "train_dataloader_sequential = DataLoader(train_data, sampler=train_sampler_sequential, batch_size=batch_size)"
   ]
  },
  {
   "cell_type": "code",
   "execution_count": 48,
   "metadata": {
    "execution": {
     "iopub.execute_input": "2021-05-17T13:57:17.711017Z",
     "iopub.status.busy": "2021-05-17T13:57:17.710484Z",
     "iopub.status.idle": "2021-05-17T13:58:43.316597Z",
     "shell.execute_reply": "2021-05-17T13:58:43.317471Z"
    },
    "papermill": {
     "duration": 85.684819,
     "end_time": "2021-05-17T13:58:43.317639",
     "exception": false,
     "start_time": "2021-05-17T13:57:17.632820",
     "status": "completed"
    },
    "tags": []
   },
   "outputs": [
    {
     "data": {
      "application/vnd.jupyter.widget-view+json": {
       "model_id": "6a2bd24c3f3549229471d76e0847b493",
       "version_major": 2,
       "version_minor": 0
      },
      "text/plain": [
       "HBox(children=(FloatProgress(value=0.0, description='Downloading', max=472.0, style=ProgressStyle(description_…"
      ]
     },
     "metadata": {},
     "output_type": "display_data"
    },
    {
     "name": "stdout",
     "output_type": "stream",
     "text": [
      "\n"
     ]
    },
    {
     "data": {
      "application/vnd.jupyter.widget-view+json": {
       "model_id": "dbb7f8bc8df84c6a8b04a9487751ab79",
       "version_major": 2,
       "version_minor": 0
      },
      "text/plain": [
       "HBox(children=(FloatProgress(value=0.0, description='Downloading', max=1888168867.0, style=ProgressStyle(descr…"
      ]
     },
     "metadata": {},
     "output_type": "display_data"
    },
    {
     "name": "stdout",
     "output_type": "stream",
     "text": [
      "\n"
     ]
    },
    {
     "name": "stderr",
     "output_type": "stream",
     "text": [
      "Some weights of the model checkpoint at pvl/labse_bert were not used when initializing BertForSequenceClassification: ['cls.predictions.bias', 'cls.predictions.transform.dense.weight', 'cls.predictions.transform.dense.bias', 'cls.predictions.transform.LayerNorm.weight', 'cls.predictions.transform.LayerNorm.bias', 'cls.predictions.decoder.weight', 'cls.predictions.decoder.bias', 'cls.seq_relationship.weight', 'cls.seq_relationship.bias']\n",
      "- This IS expected if you are initializing BertForSequenceClassification from the checkpoint of a model trained on another task or with another architecture (e.g. initializing a BertForSequenceClassification model from a BertForPreTraining model).\n",
      "- This IS NOT expected if you are initializing BertForSequenceClassification from the checkpoint of a model that you expect to be exactly identical (initializing a BertForSequenceClassification model from a BertForSequenceClassification model).\n",
      "Some weights of BertForSequenceClassification were not initialized from the model checkpoint at pvl/labse_bert and are newly initialized: ['classifier.weight', 'classifier.bias']\n",
      "You should probably TRAIN this model on a down-stream task to be able to use it for predictions and inference.\n"
     ]
    },
    {
     "data": {
      "text/plain": [
       "BertForSequenceClassification(\n",
       "  (bert): BertModel(\n",
       "    (embeddings): BertEmbeddings(\n",
       "      (word_embeddings): Embedding(501153, 768, padding_idx=0)\n",
       "      (position_embeddings): Embedding(512, 768)\n",
       "      (token_type_embeddings): Embedding(2, 768)\n",
       "      (LayerNorm): LayerNorm((768,), eps=1e-12, elementwise_affine=True)\n",
       "      (dropout): Dropout(p=0.1, inplace=False)\n",
       "    )\n",
       "    (encoder): BertEncoder(\n",
       "      (layer): ModuleList(\n",
       "        (0): BertLayer(\n",
       "          (attention): BertAttention(\n",
       "            (self): BertSelfAttention(\n",
       "              (query): Linear(in_features=768, out_features=768, bias=True)\n",
       "              (key): Linear(in_features=768, out_features=768, bias=True)\n",
       "              (value): Linear(in_features=768, out_features=768, bias=True)\n",
       "              (dropout): Dropout(p=0.1, inplace=False)\n",
       "            )\n",
       "            (output): BertSelfOutput(\n",
       "              (dense): Linear(in_features=768, out_features=768, bias=True)\n",
       "              (LayerNorm): LayerNorm((768,), eps=1e-12, elementwise_affine=True)\n",
       "              (dropout): Dropout(p=0.1, inplace=False)\n",
       "            )\n",
       "          )\n",
       "          (intermediate): BertIntermediate(\n",
       "            (dense): Linear(in_features=768, out_features=3072, bias=True)\n",
       "          )\n",
       "          (output): BertOutput(\n",
       "            (dense): Linear(in_features=3072, out_features=768, bias=True)\n",
       "            (LayerNorm): LayerNorm((768,), eps=1e-12, elementwise_affine=True)\n",
       "            (dropout): Dropout(p=0.1, inplace=False)\n",
       "          )\n",
       "        )\n",
       "        (1): BertLayer(\n",
       "          (attention): BertAttention(\n",
       "            (self): BertSelfAttention(\n",
       "              (query): Linear(in_features=768, out_features=768, bias=True)\n",
       "              (key): Linear(in_features=768, out_features=768, bias=True)\n",
       "              (value): Linear(in_features=768, out_features=768, bias=True)\n",
       "              (dropout): Dropout(p=0.1, inplace=False)\n",
       "            )\n",
       "            (output): BertSelfOutput(\n",
       "              (dense): Linear(in_features=768, out_features=768, bias=True)\n",
       "              (LayerNorm): LayerNorm((768,), eps=1e-12, elementwise_affine=True)\n",
       "              (dropout): Dropout(p=0.1, inplace=False)\n",
       "            )\n",
       "          )\n",
       "          (intermediate): BertIntermediate(\n",
       "            (dense): Linear(in_features=768, out_features=3072, bias=True)\n",
       "          )\n",
       "          (output): BertOutput(\n",
       "            (dense): Linear(in_features=3072, out_features=768, bias=True)\n",
       "            (LayerNorm): LayerNorm((768,), eps=1e-12, elementwise_affine=True)\n",
       "            (dropout): Dropout(p=0.1, inplace=False)\n",
       "          )\n",
       "        )\n",
       "        (2): BertLayer(\n",
       "          (attention): BertAttention(\n",
       "            (self): BertSelfAttention(\n",
       "              (query): Linear(in_features=768, out_features=768, bias=True)\n",
       "              (key): Linear(in_features=768, out_features=768, bias=True)\n",
       "              (value): Linear(in_features=768, out_features=768, bias=True)\n",
       "              (dropout): Dropout(p=0.1, inplace=False)\n",
       "            )\n",
       "            (output): BertSelfOutput(\n",
       "              (dense): Linear(in_features=768, out_features=768, bias=True)\n",
       "              (LayerNorm): LayerNorm((768,), eps=1e-12, elementwise_affine=True)\n",
       "              (dropout): Dropout(p=0.1, inplace=False)\n",
       "            )\n",
       "          )\n",
       "          (intermediate): BertIntermediate(\n",
       "            (dense): Linear(in_features=768, out_features=3072, bias=True)\n",
       "          )\n",
       "          (output): BertOutput(\n",
       "            (dense): Linear(in_features=3072, out_features=768, bias=True)\n",
       "            (LayerNorm): LayerNorm((768,), eps=1e-12, elementwise_affine=True)\n",
       "            (dropout): Dropout(p=0.1, inplace=False)\n",
       "          )\n",
       "        )\n",
       "        (3): BertLayer(\n",
       "          (attention): BertAttention(\n",
       "            (self): BertSelfAttention(\n",
       "              (query): Linear(in_features=768, out_features=768, bias=True)\n",
       "              (key): Linear(in_features=768, out_features=768, bias=True)\n",
       "              (value): Linear(in_features=768, out_features=768, bias=True)\n",
       "              (dropout): Dropout(p=0.1, inplace=False)\n",
       "            )\n",
       "            (output): BertSelfOutput(\n",
       "              (dense): Linear(in_features=768, out_features=768, bias=True)\n",
       "              (LayerNorm): LayerNorm((768,), eps=1e-12, elementwise_affine=True)\n",
       "              (dropout): Dropout(p=0.1, inplace=False)\n",
       "            )\n",
       "          )\n",
       "          (intermediate): BertIntermediate(\n",
       "            (dense): Linear(in_features=768, out_features=3072, bias=True)\n",
       "          )\n",
       "          (output): BertOutput(\n",
       "            (dense): Linear(in_features=3072, out_features=768, bias=True)\n",
       "            (LayerNorm): LayerNorm((768,), eps=1e-12, elementwise_affine=True)\n",
       "            (dropout): Dropout(p=0.1, inplace=False)\n",
       "          )\n",
       "        )\n",
       "        (4): BertLayer(\n",
       "          (attention): BertAttention(\n",
       "            (self): BertSelfAttention(\n",
       "              (query): Linear(in_features=768, out_features=768, bias=True)\n",
       "              (key): Linear(in_features=768, out_features=768, bias=True)\n",
       "              (value): Linear(in_features=768, out_features=768, bias=True)\n",
       "              (dropout): Dropout(p=0.1, inplace=False)\n",
       "            )\n",
       "            (output): BertSelfOutput(\n",
       "              (dense): Linear(in_features=768, out_features=768, bias=True)\n",
       "              (LayerNorm): LayerNorm((768,), eps=1e-12, elementwise_affine=True)\n",
       "              (dropout): Dropout(p=0.1, inplace=False)\n",
       "            )\n",
       "          )\n",
       "          (intermediate): BertIntermediate(\n",
       "            (dense): Linear(in_features=768, out_features=3072, bias=True)\n",
       "          )\n",
       "          (output): BertOutput(\n",
       "            (dense): Linear(in_features=3072, out_features=768, bias=True)\n",
       "            (LayerNorm): LayerNorm((768,), eps=1e-12, elementwise_affine=True)\n",
       "            (dropout): Dropout(p=0.1, inplace=False)\n",
       "          )\n",
       "        )\n",
       "        (5): BertLayer(\n",
       "          (attention): BertAttention(\n",
       "            (self): BertSelfAttention(\n",
       "              (query): Linear(in_features=768, out_features=768, bias=True)\n",
       "              (key): Linear(in_features=768, out_features=768, bias=True)\n",
       "              (value): Linear(in_features=768, out_features=768, bias=True)\n",
       "              (dropout): Dropout(p=0.1, inplace=False)\n",
       "            )\n",
       "            (output): BertSelfOutput(\n",
       "              (dense): Linear(in_features=768, out_features=768, bias=True)\n",
       "              (LayerNorm): LayerNorm((768,), eps=1e-12, elementwise_affine=True)\n",
       "              (dropout): Dropout(p=0.1, inplace=False)\n",
       "            )\n",
       "          )\n",
       "          (intermediate): BertIntermediate(\n",
       "            (dense): Linear(in_features=768, out_features=3072, bias=True)\n",
       "          )\n",
       "          (output): BertOutput(\n",
       "            (dense): Linear(in_features=3072, out_features=768, bias=True)\n",
       "            (LayerNorm): LayerNorm((768,), eps=1e-12, elementwise_affine=True)\n",
       "            (dropout): Dropout(p=0.1, inplace=False)\n",
       "          )\n",
       "        )\n",
       "        (6): BertLayer(\n",
       "          (attention): BertAttention(\n",
       "            (self): BertSelfAttention(\n",
       "              (query): Linear(in_features=768, out_features=768, bias=True)\n",
       "              (key): Linear(in_features=768, out_features=768, bias=True)\n",
       "              (value): Linear(in_features=768, out_features=768, bias=True)\n",
       "              (dropout): Dropout(p=0.1, inplace=False)\n",
       "            )\n",
       "            (output): BertSelfOutput(\n",
       "              (dense): Linear(in_features=768, out_features=768, bias=True)\n",
       "              (LayerNorm): LayerNorm((768,), eps=1e-12, elementwise_affine=True)\n",
       "              (dropout): Dropout(p=0.1, inplace=False)\n",
       "            )\n",
       "          )\n",
       "          (intermediate): BertIntermediate(\n",
       "            (dense): Linear(in_features=768, out_features=3072, bias=True)\n",
       "          )\n",
       "          (output): BertOutput(\n",
       "            (dense): Linear(in_features=3072, out_features=768, bias=True)\n",
       "            (LayerNorm): LayerNorm((768,), eps=1e-12, elementwise_affine=True)\n",
       "            (dropout): Dropout(p=0.1, inplace=False)\n",
       "          )\n",
       "        )\n",
       "        (7): BertLayer(\n",
       "          (attention): BertAttention(\n",
       "            (self): BertSelfAttention(\n",
       "              (query): Linear(in_features=768, out_features=768, bias=True)\n",
       "              (key): Linear(in_features=768, out_features=768, bias=True)\n",
       "              (value): Linear(in_features=768, out_features=768, bias=True)\n",
       "              (dropout): Dropout(p=0.1, inplace=False)\n",
       "            )\n",
       "            (output): BertSelfOutput(\n",
       "              (dense): Linear(in_features=768, out_features=768, bias=True)\n",
       "              (LayerNorm): LayerNorm((768,), eps=1e-12, elementwise_affine=True)\n",
       "              (dropout): Dropout(p=0.1, inplace=False)\n",
       "            )\n",
       "          )\n",
       "          (intermediate): BertIntermediate(\n",
       "            (dense): Linear(in_features=768, out_features=3072, bias=True)\n",
       "          )\n",
       "          (output): BertOutput(\n",
       "            (dense): Linear(in_features=3072, out_features=768, bias=True)\n",
       "            (LayerNorm): LayerNorm((768,), eps=1e-12, elementwise_affine=True)\n",
       "            (dropout): Dropout(p=0.1, inplace=False)\n",
       "          )\n",
       "        )\n",
       "        (8): BertLayer(\n",
       "          (attention): BertAttention(\n",
       "            (self): BertSelfAttention(\n",
       "              (query): Linear(in_features=768, out_features=768, bias=True)\n",
       "              (key): Linear(in_features=768, out_features=768, bias=True)\n",
       "              (value): Linear(in_features=768, out_features=768, bias=True)\n",
       "              (dropout): Dropout(p=0.1, inplace=False)\n",
       "            )\n",
       "            (output): BertSelfOutput(\n",
       "              (dense): Linear(in_features=768, out_features=768, bias=True)\n",
       "              (LayerNorm): LayerNorm((768,), eps=1e-12, elementwise_affine=True)\n",
       "              (dropout): Dropout(p=0.1, inplace=False)\n",
       "            )\n",
       "          )\n",
       "          (intermediate): BertIntermediate(\n",
       "            (dense): Linear(in_features=768, out_features=3072, bias=True)\n",
       "          )\n",
       "          (output): BertOutput(\n",
       "            (dense): Linear(in_features=3072, out_features=768, bias=True)\n",
       "            (LayerNorm): LayerNorm((768,), eps=1e-12, elementwise_affine=True)\n",
       "            (dropout): Dropout(p=0.1, inplace=False)\n",
       "          )\n",
       "        )\n",
       "        (9): BertLayer(\n",
       "          (attention): BertAttention(\n",
       "            (self): BertSelfAttention(\n",
       "              (query): Linear(in_features=768, out_features=768, bias=True)\n",
       "              (key): Linear(in_features=768, out_features=768, bias=True)\n",
       "              (value): Linear(in_features=768, out_features=768, bias=True)\n",
       "              (dropout): Dropout(p=0.1, inplace=False)\n",
       "            )\n",
       "            (output): BertSelfOutput(\n",
       "              (dense): Linear(in_features=768, out_features=768, bias=True)\n",
       "              (LayerNorm): LayerNorm((768,), eps=1e-12, elementwise_affine=True)\n",
       "              (dropout): Dropout(p=0.1, inplace=False)\n",
       "            )\n",
       "          )\n",
       "          (intermediate): BertIntermediate(\n",
       "            (dense): Linear(in_features=768, out_features=3072, bias=True)\n",
       "          )\n",
       "          (output): BertOutput(\n",
       "            (dense): Linear(in_features=3072, out_features=768, bias=True)\n",
       "            (LayerNorm): LayerNorm((768,), eps=1e-12, elementwise_affine=True)\n",
       "            (dropout): Dropout(p=0.1, inplace=False)\n",
       "          )\n",
       "        )\n",
       "        (10): BertLayer(\n",
       "          (attention): BertAttention(\n",
       "            (self): BertSelfAttention(\n",
       "              (query): Linear(in_features=768, out_features=768, bias=True)\n",
       "              (key): Linear(in_features=768, out_features=768, bias=True)\n",
       "              (value): Linear(in_features=768, out_features=768, bias=True)\n",
       "              (dropout): Dropout(p=0.1, inplace=False)\n",
       "            )\n",
       "            (output): BertSelfOutput(\n",
       "              (dense): Linear(in_features=768, out_features=768, bias=True)\n",
       "              (LayerNorm): LayerNorm((768,), eps=1e-12, elementwise_affine=True)\n",
       "              (dropout): Dropout(p=0.1, inplace=False)\n",
       "            )\n",
       "          )\n",
       "          (intermediate): BertIntermediate(\n",
       "            (dense): Linear(in_features=768, out_features=3072, bias=True)\n",
       "          )\n",
       "          (output): BertOutput(\n",
       "            (dense): Linear(in_features=3072, out_features=768, bias=True)\n",
       "            (LayerNorm): LayerNorm((768,), eps=1e-12, elementwise_affine=True)\n",
       "            (dropout): Dropout(p=0.1, inplace=False)\n",
       "          )\n",
       "        )\n",
       "        (11): BertLayer(\n",
       "          (attention): BertAttention(\n",
       "            (self): BertSelfAttention(\n",
       "              (query): Linear(in_features=768, out_features=768, bias=True)\n",
       "              (key): Linear(in_features=768, out_features=768, bias=True)\n",
       "              (value): Linear(in_features=768, out_features=768, bias=True)\n",
       "              (dropout): Dropout(p=0.1, inplace=False)\n",
       "            )\n",
       "            (output): BertSelfOutput(\n",
       "              (dense): Linear(in_features=768, out_features=768, bias=True)\n",
       "              (LayerNorm): LayerNorm((768,), eps=1e-12, elementwise_affine=True)\n",
       "              (dropout): Dropout(p=0.1, inplace=False)\n",
       "            )\n",
       "          )\n",
       "          (intermediate): BertIntermediate(\n",
       "            (dense): Linear(in_features=768, out_features=3072, bias=True)\n",
       "          )\n",
       "          (output): BertOutput(\n",
       "            (dense): Linear(in_features=3072, out_features=768, bias=True)\n",
       "            (LayerNorm): LayerNorm((768,), eps=1e-12, elementwise_affine=True)\n",
       "            (dropout): Dropout(p=0.1, inplace=False)\n",
       "          )\n",
       "        )\n",
       "      )\n",
       "    )\n",
       "    (pooler): BertPooler(\n",
       "      (dense): Linear(in_features=768, out_features=768, bias=True)\n",
       "      (activation): Tanh()\n",
       "    )\n",
       "  )\n",
       "  (dropout): Dropout(p=0.1, inplace=False)\n",
       "  (classifier): Linear(in_features=768, out_features=2, bias=True)\n",
       ")"
      ]
     },
     "execution_count": 48,
     "metadata": {},
     "output_type": "execute_result"
    }
   ],
   "source": [
    "from transformers import BertForSequenceClassification, AdamW, BertConfig\n",
    "# Load BertForSequenceClassification, the pretrained BERT model with a single \n",
    "# linear classification layer on top. \n",
    "model = BertForSequenceClassification.from_pretrained(\n",
    "    \"pvl/labse_bert\", # Use the 12-layer BERT model, with an uncased vocab.\n",
    "    num_labels = 2, # The number of output labels--2 for binary classification.\n",
    "                    # You can increase this for multi-class tasks.   \n",
    "    output_attentions = False, # Whether the model returns attentions weights.\n",
    "    output_hidden_states = True, # Whether the model returns all hidden-states.\n",
    ")\n",
    "# Tell pytorch to run this model on the GPU.\n",
    "model.cuda()"
   ]
  },
  {
   "cell_type": "code",
   "execution_count": 49,
   "metadata": {
    "execution": {
     "iopub.execute_input": "2021-05-17T13:58:43.482712Z",
     "iopub.status.busy": "2021-05-17T13:58:43.480629Z",
     "iopub.status.idle": "2021-05-17T13:58:43.489558Z",
     "shell.execute_reply": "2021-05-17T13:58:43.488660Z"
    },
    "papermill": {
     "duration": 0.095213,
     "end_time": "2021-05-17T13:58:43.489728",
     "exception": false,
     "start_time": "2021-05-17T13:58:43.394515",
     "status": "completed"
    },
    "tags": []
   },
   "outputs": [
    {
     "name": "stdout",
     "output_type": "stream",
     "text": [
      "The BERT model has 201 different named parameters.\n",
      "\n",
      "==== Embedding Layer ====\n",
      "\n",
      "bert.embeddings.word_embeddings.weight                  (501153, 768)\n",
      "bert.embeddings.position_embeddings.weight                (512, 768)\n",
      "bert.embeddings.token_type_embeddings.weight                (2, 768)\n",
      "bert.embeddings.LayerNorm.weight                              (768,)\n",
      "bert.embeddings.LayerNorm.bias                                (768,)\n",
      "\n",
      "==== First Transformer ====\n",
      "\n",
      "bert.encoder.layer.0.attention.self.query.weight          (768, 768)\n",
      "bert.encoder.layer.0.attention.self.query.bias                (768,)\n",
      "bert.encoder.layer.0.attention.self.key.weight            (768, 768)\n",
      "bert.encoder.layer.0.attention.self.key.bias                  (768,)\n",
      "bert.encoder.layer.0.attention.self.value.weight          (768, 768)\n",
      "bert.encoder.layer.0.attention.self.value.bias                (768,)\n",
      "bert.encoder.layer.0.attention.output.dense.weight        (768, 768)\n",
      "bert.encoder.layer.0.attention.output.dense.bias              (768,)\n",
      "bert.encoder.layer.0.attention.output.LayerNorm.weight        (768,)\n",
      "bert.encoder.layer.0.attention.output.LayerNorm.bias          (768,)\n",
      "bert.encoder.layer.0.intermediate.dense.weight           (3072, 768)\n",
      "bert.encoder.layer.0.intermediate.dense.bias                 (3072,)\n",
      "bert.encoder.layer.0.output.dense.weight                 (768, 3072)\n",
      "bert.encoder.layer.0.output.dense.bias                        (768,)\n",
      "bert.encoder.layer.0.output.LayerNorm.weight                  (768,)\n",
      "bert.encoder.layer.0.output.LayerNorm.bias                    (768,)\n",
      "\n",
      "==== Output Layer ====\n",
      "\n",
      "bert.pooler.dense.weight                                  (768, 768)\n",
      "bert.pooler.dense.bias                                        (768,)\n",
      "classifier.weight                                           (2, 768)\n",
      "classifier.bias                                                 (2,)\n"
     ]
    }
   ],
   "source": [
    "# Get all of the model's parameters as a list of tuples.\n",
    "params = list(model.named_parameters())\n",
    "print('The BERT model has {:} different named parameters.\\n'.format(len(params)))\n",
    "print('==== Embedding Layer ====\\n')\n",
    "for p in params[0:5]:\n",
    "    print(\"{:<55} {:>12}\".format(p[0], str(tuple(p[1].size()))))\n",
    "print('\\n==== First Transformer ====\\n')\n",
    "for p in params[5:21]:\n",
    "    print(\"{:<55} {:>12}\".format(p[0], str(tuple(p[1].size()))))\n",
    "print('\\n==== Output Layer ====\\n')\n",
    "for p in params[-4:]:\n",
    "    print(\"{:<55} {:>12}\".format(p[0], str(tuple(p[1].size()))))"
   ]
  },
  {
   "cell_type": "code",
   "execution_count": 50,
   "metadata": {
    "execution": {
     "iopub.execute_input": "2021-05-17T13:58:43.665611Z",
     "iopub.status.busy": "2021-05-17T13:58:43.664811Z",
     "iopub.status.idle": "2021-05-17T13:58:43.667617Z",
     "shell.execute_reply": "2021-05-17T13:58:43.667136Z"
    },
    "papermill": {
     "duration": 0.096066,
     "end_time": "2021-05-17T13:58:43.667714",
     "exception": false,
     "start_time": "2021-05-17T13:58:43.571648",
     "status": "completed"
    },
    "tags": []
   },
   "outputs": [],
   "source": [
    "# Note: AdamW is a class from the huggingface library (as opposed to pytorch) \n",
    "# I believe the 'W' stands for 'Weight Decay fix\"\n",
    "optimizer = AdamW(model.parameters(),\n",
    "                  lr = 2e-5, # args.learning_rate - default is 5e-5, our notebook had 2e-5\n",
    "                  eps = 1e-8 # args.adam_epsilon  - default is 1e-8.\n",
    "                )\n",
    "from transformers import get_linear_schedule_with_warmup\n",
    "# Number of training epochs (authors recommend between 2 and 4)\n",
    "epochs = 2\n",
    "# Total number of training steps is number of batches * number of epochs.\n",
    "total_steps = len(train_dataloader) * epochs\n",
    "# Create the learning rate scheduler.\n",
    "scheduler = get_linear_schedule_with_warmup(optimizer, \n",
    "                                            num_warmup_steps = 0, # Default value in run_glue.py\n",
    "                                            num_training_steps = total_steps)"
   ]
  },
  {
   "cell_type": "code",
   "execution_count": 51,
   "metadata": {
    "execution": {
     "iopub.execute_input": "2021-05-17T13:58:43.826551Z",
     "iopub.status.busy": "2021-05-17T13:58:43.825875Z",
     "iopub.status.idle": "2021-05-17T13:58:43.829257Z",
     "shell.execute_reply": "2021-05-17T13:58:43.828480Z"
    },
    "papermill": {
     "duration": 0.083199,
     "end_time": "2021-05-17T13:58:43.829348",
     "exception": false,
     "start_time": "2021-05-17T13:58:43.746149",
     "status": "completed"
    },
    "tags": []
   },
   "outputs": [],
   "source": [
    "import numpy as np\n",
    "# Function to calculate the accuracy of our predictions vs labels\n",
    "def flat_accuracy(preds, labels):\n",
    "    pred_flat = np.argmax(preds, axis=1).flatten()\n",
    "    labels_flat = labels.flatten()\n",
    "    return np.sum(pred_flat == labels_flat) / len(labels_flat)"
   ]
  },
  {
   "cell_type": "code",
   "execution_count": 52,
   "metadata": {
    "execution": {
     "iopub.execute_input": "2021-05-17T13:58:43.985508Z",
     "iopub.status.busy": "2021-05-17T13:58:43.984726Z",
     "iopub.status.idle": "2021-05-17T13:58:43.987464Z",
     "shell.execute_reply": "2021-05-17T13:58:43.987017Z"
    },
    "papermill": {
     "duration": 0.08272,
     "end_time": "2021-05-17T13:58:43.987550",
     "exception": false,
     "start_time": "2021-05-17T13:58:43.904830",
     "status": "completed"
    },
    "tags": []
   },
   "outputs": [],
   "source": [
    "import time\n",
    "import datetime\n",
    "def format_time(elapsed):\n",
    "    '''\n",
    "    Takes a time in seconds and returns a string hh:mm:ss\n",
    "    '''\n",
    "    # Round to the nearest second.\n",
    "    elapsed_rounded = int(round((elapsed)))\n",
    "    \n",
    "    # Format as hh:mm:ss\n",
    "    return str(datetime.timedelta(seconds=elapsed_rounded))"
   ]
  },
  {
   "cell_type": "markdown",
   "metadata": {
    "papermill": {
     "duration": 0.076214,
     "end_time": "2021-05-17T13:58:44.140800",
     "exception": false,
     "start_time": "2021-05-17T13:58:44.064586",
     "status": "completed"
    },
    "tags": []
   },
   "source": [
    "### Train Model"
   ]
  },
  {
   "cell_type": "code",
   "execution_count": 53,
   "metadata": {
    "execution": {
     "iopub.execute_input": "2021-05-17T13:58:44.368239Z",
     "iopub.status.busy": "2021-05-17T13:58:44.303467Z",
     "iopub.status.idle": "2021-05-17T14:03:25.626154Z",
     "shell.execute_reply": "2021-05-17T14:03:25.626777Z"
    },
    "papermill": {
     "duration": 281.411853,
     "end_time": "2021-05-17T14:03:25.626954",
     "exception": false,
     "start_time": "2021-05-17T13:58:44.215101",
     "status": "completed"
    },
    "tags": []
   },
   "outputs": [
    {
     "name": "stdout",
     "output_type": "stream",
     "text": [
      "\n",
      "======== Epoch 1 / 2 ========\n",
      "Training...\n",
      "  Batch    40  of    297.    Elapsed: 0:00:18.\n",
      "  Batch    80  of    297.    Elapsed: 0:00:36.\n",
      "  Batch   120  of    297.    Elapsed: 0:00:53.\n",
      "  Batch   160  of    297.    Elapsed: 0:01:11.\n",
      "  Batch   200  of    297.    Elapsed: 0:01:28.\n",
      "  Batch   240  of    297.    Elapsed: 0:01:46.\n",
      "  Batch   280  of    297.    Elapsed: 0:02:04.\n",
      "\n",
      "  Average training loss: 0.25\n",
      "  Training epcoh took: 0:02:11\n",
      "\n",
      "Running Validation...\n",
      "  Accuracy: 0.85\n",
      "  Average validation loss: 0.55\n",
      "  Validation took: 0:00:10\n",
      "\n",
      "======== Epoch 2 / 2 ========\n",
      "Training...\n",
      "  Batch    40  of    297.    Elapsed: 0:00:18.\n",
      "  Batch    80  of    297.    Elapsed: 0:00:35.\n",
      "  Batch   120  of    297.    Elapsed: 0:00:53.\n",
      "  Batch   160  of    297.    Elapsed: 0:01:11.\n",
      "  Batch   200  of    297.    Elapsed: 0:01:28.\n",
      "  Batch   240  of    297.    Elapsed: 0:01:46.\n",
      "  Batch   280  of    297.    Elapsed: 0:02:03.\n",
      "\n",
      "  Average training loss: 0.21\n",
      "  Training epcoh took: 0:02:11\n",
      "\n",
      "Running Validation...\n",
      "  Accuracy: 0.84\n",
      "  Average validation loss: 0.59\n",
      "  Validation took: 0:00:10\n",
      "\n",
      "Training complete!\n"
     ]
    }
   ],
   "source": [
    "import random\n",
    "# This training code is based on the `run_glue.py` script here:\n",
    "# https://github.com/huggingface/transformers/blob/5bfcd0485ece086ebcbed2d008813037968a9e58/examples/run_glue.py#L128\n",
    "# Set the seed value all over the place to make this reproducible.\n",
    "seed_val = 42\n",
    "random.seed(seed_val)\n",
    "np.random.seed(seed_val)\n",
    "torch.manual_seed(seed_val)\n",
    "torch.cuda.manual_seed_all(seed_val)\n",
    "# Store the average loss after each epoch so we can plot them.\n",
    "loss_values = []\n",
    "loss_values_valid = []\n",
    "#embeddings_tr, embeddings_vl = [], []\n",
    "train_predictions, valid_predictions = [], []\n",
    "train_true_labels, valid_true_labels = [], []\n",
    "# Store the hidden states for embedding extraction\n",
    "\n",
    "# For each epoch...\n",
    "for epoch_i in range(0, epochs):\n",
    "    \n",
    "    # ========================================\n",
    "    #               Training\n",
    "    # ========================================\n",
    "    \n",
    "    # Perform one full pass over the training set.\n",
    "    print(\"\")\n",
    "    print('======== Epoch {:} / {:} ========'.format(epoch_i + 1, epochs))\n",
    "    print('Training...')\n",
    "    # Measure how long the training epoch takes.\n",
    "    t0 = time.time()\n",
    "    # Reset the total loss for this epoch.\n",
    "    total_loss = 0\n",
    "    # Put the model into training mode. Don't be mislead--the call to \n",
    "    # `train` just changes the *mode*, it doesn't *perform* the training.\n",
    "    # `dropout` and `batchnorm` layers behave differently during training\n",
    "    # vs. test (source: https://stackoverflow.com/questions/51433378/what-does-model-train-do-in-pytorch)\n",
    "    model.train()\n",
    "    # For each batch of training data...\n",
    "    for step, batch in enumerate(train_dataloader):\n",
    "        # Progress update every 40 batches.\n",
    "        if step % 40 == 0 and not step == 0:\n",
    "            # Calculate elapsed time in minutes.\n",
    "            elapsed = format_time(time.time() - t0)\n",
    "            \n",
    "            # Report progress.\n",
    "            print('  Batch {:>5,}  of  {:>5,}.    Elapsed: {:}.'.format(step, len(train_dataloader), elapsed))\n",
    "        # Unpack this training batch from our dataloader. \n",
    "        #\n",
    "        # As we unpack the batch, we'll also copy each tensor to the GPU using the \n",
    "        # `to` method.\n",
    "        #\n",
    "        # `batch` contains three pytorch tensors:\n",
    "        #   [0]: input ids \n",
    "        #   [1]: attention masks\n",
    "        #   [2]: labels \n",
    "        b_input_ids = batch[0].to(device)\n",
    "        b_input_mask = batch[1].to(device)\n",
    "        b_labels = batch[2].to(device)\n",
    "        # Always clear any previously calculated gradients before performing a\n",
    "        # backward pass. PyTorch doesn't do this automatically because \n",
    "        # accumulating the gradients is \"convenient while training RNNs\". \n",
    "        # (source: https://stackoverflow.com/questions/48001598/why-do-we-need-to-call-zero-grad-in-pytorch)\n",
    "        model.zero_grad()        \n",
    "        # Perform a forward pass (evaluate the model on this training batch).\n",
    "        # This will return the loss (rather than the model output) because we\n",
    "        # have provided the `labels`.\n",
    "        # The documentation for this `model` function is here: \n",
    "        # https://huggingface.co/transformers/v2.2.0/model_doc/bert.html#transformers.BertForSequenceClassification\n",
    "        outputs_a = model(b_input_ids, \n",
    "                    token_type_ids=None, \n",
    "                    attention_mask=b_input_mask, \n",
    "                    labels=b_labels)\n",
    "        \n",
    "        # The call to `model` always returns a tuple, so we need to pull the \n",
    "        # loss value out of the tuple.\n",
    "        loss = outputs_a[0]\n",
    "        logits_tr = outputs_a[1]\n",
    "        #hidden_state_tr = outputs_a[2]\n",
    "        #features = hidden_state_tr[0][:,0,:].detach().cpu().numpy()\n",
    "        #embeddings_tr.append([epoch_i,batch[3], features]) # FIX AS NO BACKPROP WEIGHT ADJUSTED\n",
    "        # Accumulate the training loss over all of the batches so that we can\n",
    "        # calculate the average loss at the end. `loss` is a Tensor containing a\n",
    "        # single value; the `.item()` function just returns the Python value \n",
    "        # from the tensor.\n",
    "        # Move logits, hidden states, and labels to CPU\n",
    "        logits_tr = logits_tr.detach().cpu().numpy()\n",
    "        label_ids = b_labels.to('cpu').numpy()\n",
    "        #train_predictions.append([epoch_i,logits_tr])\n",
    "        #train_true_labels.append([epoch_i,label_ids])\n",
    "\n",
    "        total_loss += loss.item()\n",
    "        # Perform a backward pass to calculate the gradients.\n",
    "        loss.backward()\n",
    "        # Clip the norm of the gradients to 1.0.\n",
    "        # This is to help prevent the \"exploding gradients\" problem.\n",
    "        torch.nn.utils.clip_grad_norm_(model.parameters(), 1.0)\n",
    "        # Update parameters and take a step using the computed gradient.\n",
    "        # The optimizer dictates the \"update rule\"--how the parameters are\n",
    "        # modified based on their gradients, the learning rate, etc.\n",
    "        optimizer.step()\n",
    "        # Update the learning rate.\n",
    "        scheduler.step()\n",
    "    # Calculate the average loss over the training data.\n",
    "    avg_train_loss = total_loss / len(train_dataloader)            \n",
    "\n",
    "    # Store the loss value for plotting the learning curve.\n",
    "    loss_values.append(avg_train_loss)\n",
    "    print(\"\")\n",
    "    print(\"  Average training loss: {0:.2f}\".format(avg_train_loss))\n",
    "    print(\"  Training epcoh took: {:}\".format(format_time(time.time() - t0)))\n",
    "    \n",
    "    # ========================================\n",
    "    #               Validation\n",
    "    # ========================================\n",
    "    # After the completion of each training epoch, measure our performance on\n",
    "    # our validation set.\n",
    "    print(\"\")\n",
    "    print(\"Running Validation...\")\n",
    "    t0 = time.time()\n",
    "    # Put the model in evaluation mode--the dropout layers behave differently\n",
    "    # during evaluation.\n",
    "    model.eval()\n",
    "    # Tracking variables \n",
    "    eval_loss, eval_accuracy = 0, 0\n",
    "    nb_eval_steps, nb_eval_examples = 0, 0\n",
    "    # Evaluate data for one epoch\n",
    "    for batch in validation_dataloader:\n",
    "        \n",
    "        # Add batch to GPU\n",
    "        b_input_ids = batch[0].to(device)\n",
    "        b_input_mask = batch[1].to(device)\n",
    "        b_labels = batch[2].to(device)\n",
    "        \n",
    "        # Telling the model not to compute or store gradients, saving memory and\n",
    "        # speeding up validation\n",
    "        with torch.no_grad():        \n",
    "            # Forward pass, calculate logit predictions.\n",
    "            # This will return the logits rather than the loss because we have\n",
    "            # not provided labels.\n",
    "            # token_type_ids is the same as the \"segment ids\", which \n",
    "            # differentiates sentence 1 and 2 in 2-sentence tasks.\n",
    "            # The documentation for this `model` function is here: \n",
    "            # https://huggingface.co/transformers/v2.2.0/model_doc/bert.html#transformers.BertForSequenceClassification\n",
    "            outputs = model(b_input_ids, \n",
    "                            token_type_ids=None, \n",
    "                            attention_mask=b_input_mask,\n",
    "                            labels=b_labels)\n",
    "        \n",
    "        # Get the \"logits\" output by the model. The \"logits\" are the output\n",
    "        # values prior to applying an activation function like the softmax.\n",
    "        loss = outputs[0]\n",
    "        logits = outputs[1]\n",
    "        #hidden_state_vl = outputs[2]\n",
    "        #features = hidden_state_vl[0][:,0,:].detach().cpu().numpy()\n",
    "        #embeddings_vl.append([epoch_i,batch[3], features])\n",
    "        \n",
    "        # Track Loss\n",
    "        eval_loss += loss.item()\n",
    "\n",
    "        # Move logits, hidden states, and labels to CPU\n",
    "        logits = logits.detach().cpu().numpy()\n",
    "        #hidden_state_vl = hidden_state_vl.detach().cpu().numpy()\n",
    "        label_ids = b_labels.to('cpu').numpy()\n",
    "\n",
    "        valid_predictions.append([epoch_i,logits])\n",
    "        valid_true_labels.append([epoch_i,label_ids])\n",
    "        \n",
    "        # Calculate the accuracy for this batch of test sentences.\n",
    "        tmp_eval_accuracy = flat_accuracy(logits, label_ids)\n",
    "        \n",
    "        # Accumulate the total accuracy.\n",
    "        eval_accuracy += tmp_eval_accuracy\n",
    "        # Track the number of batches\n",
    "        nb_eval_steps += 1\n",
    "    \n",
    "    # Calculate the average loss over the training data.\n",
    "    avg_valid_loss = eval_loss / len(validation_dataloader)   \n",
    "\n",
    "    # Report the final accuracy for this validation run.\n",
    "    loss_values_valid.append(avg_valid_loss)\n",
    "    print(\"  Accuracy: {0:.2f}\".format(eval_accuracy/nb_eval_steps))\n",
    "    print(\"  Average validation loss: {0:.2f}\".format(avg_valid_loss))\n",
    "    print(\"  Validation took: {:}\".format(format_time(time.time() - t0)))\n",
    "    \n",
    "print(\"\")\n",
    "print(\"Training complete!\")        "
   ]
  },
  {
   "cell_type": "markdown",
   "metadata": {
    "papermill": {
     "duration": 0.080923,
     "end_time": "2021-05-17T14:03:25.790293",
     "exception": false,
     "start_time": "2021-05-17T14:03:25.709370",
     "status": "completed"
    },
    "tags": []
   },
   "source": [
    "### Plot Training and Validation Loss"
   ]
  },
  {
   "cell_type": "code",
   "execution_count": 54,
   "metadata": {
    "execution": {
     "iopub.execute_input": "2021-05-17T14:03:25.970192Z",
     "iopub.status.busy": "2021-05-17T14:03:25.969369Z",
     "iopub.status.idle": "2021-05-17T14:03:25.972940Z",
     "shell.execute_reply": "2021-05-17T14:03:25.973371Z"
    },
    "papermill": {
     "duration": 0.101622,
     "end_time": "2021-05-17T14:03:25.973481",
     "exception": false,
     "start_time": "2021-05-17T14:03:25.871859",
     "status": "completed"
    },
    "tags": []
   },
   "outputs": [
    {
     "data": {
      "text/html": [
       "<div>\n",
       "<style scoped>\n",
       "    .dataframe tbody tr th:only-of-type {\n",
       "        vertical-align: middle;\n",
       "    }\n",
       "\n",
       "    .dataframe tbody tr th {\n",
       "        vertical-align: top;\n",
       "    }\n",
       "\n",
       "    .dataframe thead th {\n",
       "        text-align: right;\n",
       "    }\n",
       "</style>\n",
       "<table border=\"1\" class=\"dataframe\">\n",
       "  <thead>\n",
       "    <tr style=\"text-align: right;\">\n",
       "      <th></th>\n",
       "      <th>epoch</th>\n",
       "      <th>variable</th>\n",
       "      <th>value</th>\n",
       "    </tr>\n",
       "  </thead>\n",
       "  <tbody>\n",
       "    <tr>\n",
       "      <th>0</th>\n",
       "      <td>0</td>\n",
       "      <td>Train Loss</td>\n",
       "      <td>0.250132</td>\n",
       "    </tr>\n",
       "    <tr>\n",
       "      <th>1</th>\n",
       "      <td>1</td>\n",
       "      <td>Train Loss</td>\n",
       "      <td>0.205732</td>\n",
       "    </tr>\n",
       "    <tr>\n",
       "      <th>2</th>\n",
       "      <td>0</td>\n",
       "      <td>Valid Loss</td>\n",
       "      <td>0.549928</td>\n",
       "    </tr>\n",
       "    <tr>\n",
       "      <th>3</th>\n",
       "      <td>1</td>\n",
       "      <td>Valid Loss</td>\n",
       "      <td>0.594939</td>\n",
       "    </tr>\n",
       "  </tbody>\n",
       "</table>\n",
       "</div>"
      ],
      "text/plain": [
       "   epoch    variable     value\n",
       "0      0  Train Loss  0.250132\n",
       "1      1  Train Loss  0.205732\n",
       "2      0  Valid Loss  0.549928\n",
       "3      1  Valid Loss  0.594939"
      ]
     },
     "execution_count": 54,
     "metadata": {},
     "output_type": "execute_result"
    }
   ],
   "source": [
    "df= pd.DataFrame({'epoch': range(0, epochs), 'Train Loss': loss_values, 'Valid Loss': loss_values_valid})\n",
    "df = pd.melt(df, id_vars=['epoch'], value_vars=['Train Loss', 'Valid Loss'])\n",
    "df"
   ]
  },
  {
   "cell_type": "code",
   "execution_count": 55,
   "metadata": {
    "execution": {
     "iopub.execute_input": "2021-05-17T14:03:26.142323Z",
     "iopub.status.busy": "2021-05-17T14:03:26.141751Z",
     "iopub.status.idle": "2021-05-17T14:03:28.219176Z",
     "shell.execute_reply": "2021-05-17T14:03:28.218733Z"
    },
    "papermill": {
     "duration": 2.163538,
     "end_time": "2021-05-17T14:03:28.219278",
     "exception": false,
     "start_time": "2021-05-17T14:03:26.055740",
     "status": "completed"
    },
    "tags": []
   },
   "outputs": [
    {
     "data": {
      "text/html": [
       "        <script type=\"text/javascript\">\n",
       "        window.PlotlyConfig = {MathJaxConfig: 'local'};\n",
       "        if (window.MathJax) {MathJax.Hub.Config({SVG: {font: \"STIX-Web\"}});}\n",
       "        if (typeof require !== 'undefined') {\n",
       "        require.undef(\"plotly\");\n",
       "        requirejs.config({\n",
       "            paths: {\n",
       "                'plotly': ['https://cdn.plot.ly/plotly-latest.min']\n",
       "            }\n",
       "        });\n",
       "        require(['plotly'], function(Plotly) {\n",
       "            window._Plotly = Plotly;\n",
       "        });\n",
       "        }\n",
       "        </script>\n",
       "        "
      ]
     },
     "metadata": {},
     "output_type": "display_data"
    },
    {
     "data": {
      "text/html": [
       "<div>                            <div id=\"e7620969-280a-4f95-9f90-35001604e46c\" class=\"plotly-graph-div\" style=\"height:525px; width:100%;\"></div>            <script type=\"text/javascript\">                require([\"plotly\"], function(Plotly) {                    window.PLOTLYENV=window.PLOTLYENV || {};                                    if (document.getElementById(\"e7620969-280a-4f95-9f90-35001604e46c\")) {                    Plotly.newPlot(                        \"e7620969-280a-4f95-9f90-35001604e46c\",                        [{\"hovertemplate\": \"variable=Train Loss<br>epoch=%{x}<br>value=%{y}<extra></extra>\", \"legendgroup\": \"Train Loss\", \"line\": {\"color\": \"#636efa\", \"dash\": \"solid\"}, \"mode\": \"lines\", \"name\": \"Train Loss\", \"orientation\": \"v\", \"showlegend\": true, \"type\": \"scatter\", \"x\": [0, 1], \"xaxis\": \"x\", \"y\": [0.25013154817851707, 0.20573155245797], \"yaxis\": \"y\"}, {\"hovertemplate\": \"variable=Valid Loss<br>epoch=%{x}<br>value=%{y}<extra></extra>\", \"legendgroup\": \"Valid Loss\", \"line\": {\"color\": \"#EF553B\", \"dash\": \"solid\"}, \"mode\": \"lines\", \"name\": \"Valid Loss\", \"orientation\": \"v\", \"showlegend\": true, \"type\": \"scatter\", \"x\": [0, 1], \"xaxis\": \"x\", \"y\": [0.5499279199421038, 0.5949391044768286], \"yaxis\": \"y\"}],                        {\"legend\": {\"title\": {\"text\": \"variable\"}, \"tracegroupgap\": 0}, \"margin\": {\"t\": 60}, \"template\": {\"data\": {\"bar\": [{\"error_x\": {\"color\": \"#2a3f5f\"}, \"error_y\": {\"color\": \"#2a3f5f\"}, \"marker\": {\"line\": {\"color\": \"#E5ECF6\", \"width\": 0.5}}, \"type\": \"bar\"}], \"barpolar\": [{\"marker\": {\"line\": {\"color\": \"#E5ECF6\", \"width\": 0.5}}, \"type\": \"barpolar\"}], \"carpet\": [{\"aaxis\": {\"endlinecolor\": \"#2a3f5f\", \"gridcolor\": \"white\", \"linecolor\": \"white\", \"minorgridcolor\": \"white\", \"startlinecolor\": \"#2a3f5f\"}, \"baxis\": {\"endlinecolor\": \"#2a3f5f\", \"gridcolor\": \"white\", \"linecolor\": \"white\", \"minorgridcolor\": \"white\", \"startlinecolor\": \"#2a3f5f\"}, \"type\": \"carpet\"}], \"choropleth\": [{\"colorbar\": {\"outlinewidth\": 0, \"ticks\": \"\"}, \"type\": \"choropleth\"}], \"contour\": [{\"colorbar\": {\"outlinewidth\": 0, \"ticks\": \"\"}, \"colorscale\": [[0.0, \"#0d0887\"], [0.1111111111111111, \"#46039f\"], [0.2222222222222222, \"#7201a8\"], [0.3333333333333333, \"#9c179e\"], [0.4444444444444444, \"#bd3786\"], [0.5555555555555556, \"#d8576b\"], [0.6666666666666666, \"#ed7953\"], [0.7777777777777778, \"#fb9f3a\"], [0.8888888888888888, \"#fdca26\"], [1.0, \"#f0f921\"]], \"type\": \"contour\"}], \"contourcarpet\": [{\"colorbar\": {\"outlinewidth\": 0, \"ticks\": \"\"}, \"type\": \"contourcarpet\"}], \"heatmap\": [{\"colorbar\": {\"outlinewidth\": 0, \"ticks\": \"\"}, \"colorscale\": [[0.0, \"#0d0887\"], [0.1111111111111111, \"#46039f\"], [0.2222222222222222, \"#7201a8\"], [0.3333333333333333, \"#9c179e\"], [0.4444444444444444, \"#bd3786\"], [0.5555555555555556, \"#d8576b\"], [0.6666666666666666, \"#ed7953\"], [0.7777777777777778, \"#fb9f3a\"], [0.8888888888888888, \"#fdca26\"], [1.0, \"#f0f921\"]], \"type\": \"heatmap\"}], \"heatmapgl\": [{\"colorbar\": {\"outlinewidth\": 0, \"ticks\": \"\"}, \"colorscale\": [[0.0, \"#0d0887\"], [0.1111111111111111, \"#46039f\"], [0.2222222222222222, \"#7201a8\"], [0.3333333333333333, \"#9c179e\"], [0.4444444444444444, \"#bd3786\"], [0.5555555555555556, \"#d8576b\"], [0.6666666666666666, \"#ed7953\"], [0.7777777777777778, \"#fb9f3a\"], [0.8888888888888888, \"#fdca26\"], [1.0, \"#f0f921\"]], \"type\": \"heatmapgl\"}], \"histogram\": [{\"marker\": {\"colorbar\": {\"outlinewidth\": 0, \"ticks\": \"\"}}, \"type\": \"histogram\"}], \"histogram2d\": [{\"colorbar\": {\"outlinewidth\": 0, \"ticks\": \"\"}, \"colorscale\": [[0.0, \"#0d0887\"], [0.1111111111111111, \"#46039f\"], [0.2222222222222222, \"#7201a8\"], [0.3333333333333333, \"#9c179e\"], [0.4444444444444444, \"#bd3786\"], [0.5555555555555556, \"#d8576b\"], [0.6666666666666666, \"#ed7953\"], [0.7777777777777778, \"#fb9f3a\"], [0.8888888888888888, \"#fdca26\"], [1.0, \"#f0f921\"]], \"type\": \"histogram2d\"}], \"histogram2dcontour\": [{\"colorbar\": {\"outlinewidth\": 0, \"ticks\": \"\"}, \"colorscale\": [[0.0, \"#0d0887\"], [0.1111111111111111, \"#46039f\"], [0.2222222222222222, \"#7201a8\"], [0.3333333333333333, \"#9c179e\"], [0.4444444444444444, \"#bd3786\"], [0.5555555555555556, \"#d8576b\"], [0.6666666666666666, \"#ed7953\"], [0.7777777777777778, \"#fb9f3a\"], [0.8888888888888888, \"#fdca26\"], [1.0, \"#f0f921\"]], \"type\": \"histogram2dcontour\"}], \"mesh3d\": [{\"colorbar\": {\"outlinewidth\": 0, \"ticks\": \"\"}, \"type\": \"mesh3d\"}], \"parcoords\": [{\"line\": {\"colorbar\": {\"outlinewidth\": 0, \"ticks\": \"\"}}, \"type\": \"parcoords\"}], \"pie\": [{\"automargin\": true, \"type\": \"pie\"}], \"scatter\": [{\"marker\": {\"colorbar\": {\"outlinewidth\": 0, \"ticks\": \"\"}}, \"type\": \"scatter\"}], \"scatter3d\": [{\"line\": {\"colorbar\": {\"outlinewidth\": 0, \"ticks\": \"\"}}, \"marker\": {\"colorbar\": {\"outlinewidth\": 0, \"ticks\": \"\"}}, \"type\": \"scatter3d\"}], \"scattercarpet\": [{\"marker\": {\"colorbar\": {\"outlinewidth\": 0, \"ticks\": \"\"}}, \"type\": \"scattercarpet\"}], \"scattergeo\": [{\"marker\": {\"colorbar\": {\"outlinewidth\": 0, \"ticks\": \"\"}}, \"type\": \"scattergeo\"}], \"scattergl\": [{\"marker\": {\"colorbar\": {\"outlinewidth\": 0, \"ticks\": \"\"}}, \"type\": \"scattergl\"}], \"scattermapbox\": [{\"marker\": {\"colorbar\": {\"outlinewidth\": 0, \"ticks\": \"\"}}, \"type\": \"scattermapbox\"}], \"scatterpolar\": [{\"marker\": {\"colorbar\": {\"outlinewidth\": 0, \"ticks\": \"\"}}, \"type\": \"scatterpolar\"}], \"scatterpolargl\": [{\"marker\": {\"colorbar\": {\"outlinewidth\": 0, \"ticks\": \"\"}}, \"type\": \"scatterpolargl\"}], \"scatterternary\": [{\"marker\": {\"colorbar\": {\"outlinewidth\": 0, \"ticks\": \"\"}}, \"type\": \"scatterternary\"}], \"surface\": [{\"colorbar\": {\"outlinewidth\": 0, \"ticks\": \"\"}, \"colorscale\": [[0.0, \"#0d0887\"], [0.1111111111111111, \"#46039f\"], [0.2222222222222222, \"#7201a8\"], [0.3333333333333333, \"#9c179e\"], [0.4444444444444444, \"#bd3786\"], [0.5555555555555556, \"#d8576b\"], [0.6666666666666666, \"#ed7953\"], [0.7777777777777778, \"#fb9f3a\"], [0.8888888888888888, \"#fdca26\"], [1.0, \"#f0f921\"]], \"type\": \"surface\"}], \"table\": [{\"cells\": {\"fill\": {\"color\": \"#EBF0F8\"}, \"line\": {\"color\": \"white\"}}, \"header\": {\"fill\": {\"color\": \"#C8D4E3\"}, \"line\": {\"color\": \"white\"}}, \"type\": \"table\"}]}, \"layout\": {\"annotationdefaults\": {\"arrowcolor\": \"#2a3f5f\", \"arrowhead\": 0, \"arrowwidth\": 1}, \"autotypenumbers\": \"strict\", \"coloraxis\": {\"colorbar\": {\"outlinewidth\": 0, \"ticks\": \"\"}}, \"colorscale\": {\"diverging\": [[0, \"#8e0152\"], [0.1, \"#c51b7d\"], [0.2, \"#de77ae\"], [0.3, \"#f1b6da\"], [0.4, \"#fde0ef\"], [0.5, \"#f7f7f7\"], [0.6, \"#e6f5d0\"], [0.7, \"#b8e186\"], [0.8, \"#7fbc41\"], [0.9, \"#4d9221\"], [1, \"#276419\"]], \"sequential\": [[0.0, \"#0d0887\"], [0.1111111111111111, \"#46039f\"], [0.2222222222222222, \"#7201a8\"], [0.3333333333333333, \"#9c179e\"], [0.4444444444444444, \"#bd3786\"], [0.5555555555555556, \"#d8576b\"], [0.6666666666666666, \"#ed7953\"], [0.7777777777777778, \"#fb9f3a\"], [0.8888888888888888, \"#fdca26\"], [1.0, \"#f0f921\"]], \"sequentialminus\": [[0.0, \"#0d0887\"], [0.1111111111111111, \"#46039f\"], [0.2222222222222222, \"#7201a8\"], [0.3333333333333333, \"#9c179e\"], [0.4444444444444444, \"#bd3786\"], [0.5555555555555556, \"#d8576b\"], [0.6666666666666666, \"#ed7953\"], [0.7777777777777778, \"#fb9f3a\"], [0.8888888888888888, \"#fdca26\"], [1.0, \"#f0f921\"]]}, \"colorway\": [\"#636efa\", \"#EF553B\", \"#00cc96\", \"#ab63fa\", \"#FFA15A\", \"#19d3f3\", \"#FF6692\", \"#B6E880\", \"#FF97FF\", \"#FECB52\"], \"font\": {\"color\": \"#2a3f5f\"}, \"geo\": {\"bgcolor\": \"white\", \"lakecolor\": \"white\", \"landcolor\": \"#E5ECF6\", \"showlakes\": true, \"showland\": true, \"subunitcolor\": \"white\"}, \"hoverlabel\": {\"align\": \"left\"}, \"hovermode\": \"closest\", \"mapbox\": {\"style\": \"light\"}, \"paper_bgcolor\": \"white\", \"plot_bgcolor\": \"#E5ECF6\", \"polar\": {\"angularaxis\": {\"gridcolor\": \"white\", \"linecolor\": \"white\", \"ticks\": \"\"}, \"bgcolor\": \"#E5ECF6\", \"radialaxis\": {\"gridcolor\": \"white\", \"linecolor\": \"white\", \"ticks\": \"\"}}, \"scene\": {\"xaxis\": {\"backgroundcolor\": \"#E5ECF6\", \"gridcolor\": \"white\", \"gridwidth\": 2, \"linecolor\": \"white\", \"showbackground\": true, \"ticks\": \"\", \"zerolinecolor\": \"white\"}, \"yaxis\": {\"backgroundcolor\": \"#E5ECF6\", \"gridcolor\": \"white\", \"gridwidth\": 2, \"linecolor\": \"white\", \"showbackground\": true, \"ticks\": \"\", \"zerolinecolor\": \"white\"}, \"zaxis\": {\"backgroundcolor\": \"#E5ECF6\", \"gridcolor\": \"white\", \"gridwidth\": 2, \"linecolor\": \"white\", \"showbackground\": true, \"ticks\": \"\", \"zerolinecolor\": \"white\"}}, \"shapedefaults\": {\"line\": {\"color\": \"#2a3f5f\"}}, \"ternary\": {\"aaxis\": {\"gridcolor\": \"white\", \"linecolor\": \"white\", \"ticks\": \"\"}, \"baxis\": {\"gridcolor\": \"white\", \"linecolor\": \"white\", \"ticks\": \"\"}, \"bgcolor\": \"#E5ECF6\", \"caxis\": {\"gridcolor\": \"white\", \"linecolor\": \"white\", \"ticks\": \"\"}}, \"title\": {\"x\": 0.05}, \"xaxis\": {\"automargin\": true, \"gridcolor\": \"white\", \"linecolor\": \"white\", \"ticks\": \"\", \"title\": {\"standoff\": 15}, \"zerolinecolor\": \"white\", \"zerolinewidth\": 2}, \"yaxis\": {\"automargin\": true, \"gridcolor\": \"white\", \"linecolor\": \"white\", \"ticks\": \"\", \"title\": {\"standoff\": 15}, \"zerolinecolor\": \"white\", \"zerolinewidth\": 2}}}, \"title\": {\"text\": \"Training loss of the Model\"}, \"xaxis\": {\"anchor\": \"y\", \"domain\": [0.0, 1.0], \"title\": {\"text\": \"Epoch\"}}, \"yaxis\": {\"anchor\": \"x\", \"domain\": [0.0, 1.0], \"title\": {\"text\": \"Loss\"}}},                        {\"responsive\": true}                    ).then(function(){\n",
       "                            \n",
       "var gd = document.getElementById('e7620969-280a-4f95-9f90-35001604e46c');\n",
       "var x = new MutationObserver(function (mutations, observer) {{\n",
       "        var display = window.getComputedStyle(gd).display;\n",
       "        if (!display || display === 'none') {{\n",
       "            console.log([gd, 'removed!']);\n",
       "            Plotly.purge(gd);\n",
       "            observer.disconnect();\n",
       "        }}\n",
       "}});\n",
       "\n",
       "// Listen for the removal of the full notebook cells\n",
       "var notebookContainer = gd.closest('#notebook-container');\n",
       "if (notebookContainer) {{\n",
       "    x.observe(notebookContainer, {childList: true});\n",
       "}}\n",
       "\n",
       "// Listen for the clearing of the current output cell\n",
       "var outputEl = gd.closest('.output');\n",
       "if (outputEl) {{\n",
       "    x.observe(outputEl, {childList: true});\n",
       "}}\n",
       "\n",
       "                        })                };                });            </script>        </div>"
      ]
     },
     "metadata": {},
     "output_type": "display_data"
    }
   ],
   "source": [
    "import plotly.express as px\n",
    "\n",
    "fig = px.line(df, x='epoch', y='value', color = 'variable')\n",
    "fig.update_layout(title='Training loss of the Model',\n",
    "                   xaxis_title='Epoch',\n",
    "                   yaxis_title='Loss')\n",
    "fig.show()"
   ]
  },
  {
   "cell_type": "markdown",
   "metadata": {
    "papermill": {
     "duration": 0.083623,
     "end_time": "2021-05-17T14:03:28.389625",
     "exception": false,
     "start_time": "2021-05-17T14:03:28.306002",
     "status": "completed"
    },
    "tags": []
   },
   "source": [
    "### Extract embeddings"
   ]
  },
  {
   "cell_type": "code",
   "execution_count": 56,
   "metadata": {
    "execution": {
     "iopub.execute_input": "2021-05-17T14:03:28.580750Z",
     "iopub.status.busy": "2021-05-17T14:03:28.579946Z",
     "iopub.status.idle": "2021-05-17T14:04:14.250256Z",
     "shell.execute_reply": "2021-05-17T14:04:14.249784Z"
    },
    "papermill": {
     "duration": 45.776351,
     "end_time": "2021-05-17T14:04:14.250364",
     "exception": false,
     "start_time": "2021-05-17T14:03:28.474013",
     "status": "completed"
    },
    "tags": []
   },
   "outputs": [
    {
     "name": "stdout",
     "output_type": "stream",
     "text": [
      "Extracting embeddinga for 9,492 train sentences...\n",
      "Extracting embeddinga for 2,590 validation sentences...\n"
     ]
    }
   ],
   "source": [
    "embeddings_tr, embeddings_vl = [], []\n",
    "# ========================================\n",
    "#               Train\n",
    "# ========================================\n",
    "# Extract embeddinga on train set\n",
    "print('Extracting embeddinga for {:,} train sentences...'.format(len(train_inputs)))\n",
    "# Put model in evaluation mode\n",
    "model.eval()\n",
    "# Tracking variables \n",
    "predictions_train , true_labels_train = [], []\n",
    "# Predict \n",
    "for batch in train_dataloader_sequential:\n",
    "    b_input_ids = batch[0].to(device)\n",
    "    b_input_mask = batch[1].to(device)\n",
    "    b_labels = batch[2].to(device)\n",
    "  \n",
    "  # Telling the model not to compute or store gradients, saving memory and \n",
    "  # speeding up prediction\n",
    "    with torch.no_grad():\n",
    "        # Forward pass, calculate logit predictions\n",
    "        outputs = model(b_input_ids, token_type_ids=None, \n",
    "                      attention_mask=b_input_mask, labels=b_labels)\n",
    "    logits = outputs[1]\n",
    "    # Embeddings extraction approach is to average the second to last hiden layer of each token producing a single 768 length vector\n",
    "    # https://mccormickml.com/2019/05/14/BERT-word-embeddings-tutorial/\n",
    "    hidden_state_tr = outputs[2]\n",
    "    token_vecs = hidden_state_tr[-2]\n",
    "    token_vecs_sentvecs = []\n",
    "    for token in token_vecs:\n",
    "        sentvecs = torch.mean(token, dim=0).detach().cpu().numpy()\n",
    "        token_vecs_sentvecs.append(sentvecs)\n",
    "    #features = hidden_state_tr[0][:,0,:].detach().cpu().numpy()\n",
    "    embeddings_tr.append([batch[3], token_vecs_sentvecs])\n",
    "    # Move logits and labels to CPU\n",
    "    logits = logits.detach().cpu().numpy()\n",
    "    label_ids = b_labels.to('cpu').numpy()\n",
    "\n",
    "    # Store predictions and true labels\n",
    "    predictions_train.append(logits)\n",
    "    true_labels_train.append(label_ids)\n",
    "# ========================================\n",
    "#               Validation\n",
    "# ========================================\n",
    "# Extract embeddinga on train set\n",
    "print('Extracting embeddinga for {:,} validation sentences...'.format(len(validation_inputs)))\n",
    "# Put model in evaluation mode\n",
    "model.eval()\n",
    "# Tracking variables \n",
    "predictions_valid, true_labels_valid = [], []\n",
    "# Predict \n",
    "for batch in validation_dataloader:\n",
    "    b_input_ids = batch[0].to(device)\n",
    "    b_input_mask = batch[1].to(device)\n",
    "    b_labels = batch[2].to(device)\n",
    "  \n",
    "  # Telling the model not to compute or store gradients, saving memory and \n",
    "  # speeding up prediction\n",
    "    with torch.no_grad():\n",
    "        # Forward pass, calculate logit predictions\n",
    "        outputs = model(b_input_ids, token_type_ids=None, \n",
    "                      attention_mask=b_input_mask, labels=b_labels)\n",
    "    logits = outputs[1]\n",
    "    # Embeddings extraction approach is to average the second to last hiden layer of each token producing a single 768 length vector\n",
    "    # https://mccormickml.com/2019/05/14/BERT-word-embeddings-tutorial/\n",
    "    hidden_state_vl = outputs[2]\n",
    "    token_vecs = hidden_state_vl[-2]\n",
    "    token_vecs_sentvecs = []\n",
    "    for token in token_vecs:\n",
    "        sentvecs = torch.mean(token, dim=0).detach().cpu().numpy()\n",
    "        token_vecs_sentvecs.append(sentvecs)\n",
    "    #features = hidden_state_vl[0][:,0,:].detach().cpu().numpy()\n",
    "    embeddings_vl.append([batch[3], token_vecs_sentvecs])\n",
    "    # Move logits and labels to CPU\n",
    "    logits = logits.detach().cpu().numpy()\n",
    "    label_ids = b_labels.to('cpu').numpy()\n",
    "\n",
    "    # Store predictions and true labels\n",
    "    predictions_valid.append(logits)\n",
    "    true_labels_valid.append(label_ids)"
   ]
  },
  {
   "cell_type": "markdown",
   "metadata": {
    "papermill": {
     "duration": 0.082027,
     "end_time": "2021-05-17T14:04:14.415325",
     "exception": false,
     "start_time": "2021-05-17T14:04:14.333298",
     "status": "completed"
    },
    "tags": []
   },
   "source": [
    "### Combine Embeddings with original DF and Output CM"
   ]
  },
  {
   "cell_type": "markdown",
   "metadata": {
    "papermill": {
     "duration": 0.081727,
     "end_time": "2021-05-17T14:04:14.580292",
     "exception": false,
     "start_time": "2021-05-17T14:04:14.498565",
     "status": "completed"
    },
    "tags": []
   },
   "source": [
    "Train"
   ]
  },
  {
   "cell_type": "code",
   "execution_count": 57,
   "metadata": {
    "execution": {
     "iopub.execute_input": "2021-05-17T14:04:14.753474Z",
     "iopub.status.busy": "2021-05-17T14:04:14.752807Z",
     "iopub.status.idle": "2021-05-17T14:04:16.730009Z",
     "shell.execute_reply": "2021-05-17T14:04:16.730449Z"
    },
    "papermill": {
     "duration": 2.068176,
     "end_time": "2021-05-17T14:04:16.730587",
     "exception": false,
     "start_time": "2021-05-17T14:04:14.662411",
     "status": "completed"
    },
    "tags": []
   },
   "outputs": [
    {
     "name": "stdout",
     "output_type": "stream",
     "text": [
      "Train Embeddings Extraction and Merge DONE\n"
     ]
    },
    {
     "data": {
      "text/html": [
       "<div>\n",
       "<style scoped>\n",
       "    .dataframe tbody tr th:only-of-type {\n",
       "        vertical-align: middle;\n",
       "    }\n",
       "\n",
       "    .dataframe tbody tr th {\n",
       "        vertical-align: top;\n",
       "    }\n",
       "\n",
       "    .dataframe thead th {\n",
       "        text-align: right;\n",
       "    }\n",
       "</style>\n",
       "<table border=\"1\" class=\"dataframe\">\n",
       "  <thead>\n",
       "    <tr style=\"text-align: right;\">\n",
       "      <th></th>\n",
       "      <th>user.id</th>\n",
       "      <th>suspended</th>\n",
       "      <th>0</th>\n",
       "      <th>1</th>\n",
       "      <th>2</th>\n",
       "      <th>3</th>\n",
       "      <th>4</th>\n",
       "      <th>5</th>\n",
       "      <th>6</th>\n",
       "      <th>7</th>\n",
       "      <th>...</th>\n",
       "      <th>758</th>\n",
       "      <th>759</th>\n",
       "      <th>760</th>\n",
       "      <th>761</th>\n",
       "      <th>762</th>\n",
       "      <th>763</th>\n",
       "      <th>764</th>\n",
       "      <th>765</th>\n",
       "      <th>766</th>\n",
       "      <th>767</th>\n",
       "    </tr>\n",
       "  </thead>\n",
       "  <tbody>\n",
       "    <tr>\n",
       "      <th>0</th>\n",
       "      <td>1.278130e+18</td>\n",
       "      <td>0</td>\n",
       "      <td>-0.035195</td>\n",
       "      <td>0.165119</td>\n",
       "      <td>0.100267</td>\n",
       "      <td>0.029315</td>\n",
       "      <td>-0.159400</td>\n",
       "      <td>0.019979</td>\n",
       "      <td>0.147444</td>\n",
       "      <td>-0.074170</td>\n",
       "      <td>...</td>\n",
       "      <td>0.073581</td>\n",
       "      <td>-0.037767</td>\n",
       "      <td>-0.114214</td>\n",
       "      <td>0.096848</td>\n",
       "      <td>0.138095</td>\n",
       "      <td>-0.091209</td>\n",
       "      <td>0.183108</td>\n",
       "      <td>0.091503</td>\n",
       "      <td>0.045742</td>\n",
       "      <td>0.052075</td>\n",
       "    </tr>\n",
       "    <tr>\n",
       "      <th>1</th>\n",
       "      <td>1.278132e+18</td>\n",
       "      <td>0</td>\n",
       "      <td>0.194764</td>\n",
       "      <td>0.377121</td>\n",
       "      <td>0.412232</td>\n",
       "      <td>0.160510</td>\n",
       "      <td>0.353597</td>\n",
       "      <td>-0.091931</td>\n",
       "      <td>0.135429</td>\n",
       "      <td>0.026219</td>\n",
       "      <td>...</td>\n",
       "      <td>-0.017683</td>\n",
       "      <td>-0.036561</td>\n",
       "      <td>-0.197910</td>\n",
       "      <td>-0.118536</td>\n",
       "      <td>0.176716</td>\n",
       "      <td>-0.058367</td>\n",
       "      <td>0.343171</td>\n",
       "      <td>0.207069</td>\n",
       "      <td>0.102238</td>\n",
       "      <td>0.017086</td>\n",
       "    </tr>\n",
       "    <tr>\n",
       "      <th>2</th>\n",
       "      <td>1.278132e+18</td>\n",
       "      <td>0</td>\n",
       "      <td>0.176657</td>\n",
       "      <td>0.274773</td>\n",
       "      <td>0.441620</td>\n",
       "      <td>0.139845</td>\n",
       "      <td>0.167961</td>\n",
       "      <td>-0.018222</td>\n",
       "      <td>0.126877</td>\n",
       "      <td>-0.307568</td>\n",
       "      <td>...</td>\n",
       "      <td>0.121181</td>\n",
       "      <td>0.021222</td>\n",
       "      <td>-0.250684</td>\n",
       "      <td>-0.000257</td>\n",
       "      <td>0.196453</td>\n",
       "      <td>-0.049245</td>\n",
       "      <td>0.493504</td>\n",
       "      <td>0.220903</td>\n",
       "      <td>0.055897</td>\n",
       "      <td>0.047504</td>\n",
       "    </tr>\n",
       "    <tr>\n",
       "      <th>3</th>\n",
       "      <td>1.278132e+18</td>\n",
       "      <td>0</td>\n",
       "      <td>0.255944</td>\n",
       "      <td>0.393231</td>\n",
       "      <td>0.433232</td>\n",
       "      <td>0.201758</td>\n",
       "      <td>0.121352</td>\n",
       "      <td>-0.340121</td>\n",
       "      <td>-0.008866</td>\n",
       "      <td>-0.246079</td>\n",
       "      <td>...</td>\n",
       "      <td>0.000051</td>\n",
       "      <td>-0.059051</td>\n",
       "      <td>-0.230664</td>\n",
       "      <td>0.158462</td>\n",
       "      <td>0.098095</td>\n",
       "      <td>-0.058339</td>\n",
       "      <td>0.273494</td>\n",
       "      <td>0.239318</td>\n",
       "      <td>0.015908</td>\n",
       "      <td>0.095475</td>\n",
       "    </tr>\n",
       "    <tr>\n",
       "      <th>4</th>\n",
       "      <td>1.278132e+18</td>\n",
       "      <td>0</td>\n",
       "      <td>0.173395</td>\n",
       "      <td>0.264465</td>\n",
       "      <td>0.510952</td>\n",
       "      <td>0.205173</td>\n",
       "      <td>0.171039</td>\n",
       "      <td>-0.188893</td>\n",
       "      <td>0.013142</td>\n",
       "      <td>0.167540</td>\n",
       "      <td>...</td>\n",
       "      <td>0.069932</td>\n",
       "      <td>0.091039</td>\n",
       "      <td>-0.263561</td>\n",
       "      <td>-0.092036</td>\n",
       "      <td>0.144779</td>\n",
       "      <td>-0.058090</td>\n",
       "      <td>0.346457</td>\n",
       "      <td>0.134926</td>\n",
       "      <td>0.098636</td>\n",
       "      <td>0.102087</td>\n",
       "    </tr>\n",
       "  </tbody>\n",
       "</table>\n",
       "<p>5 rows × 770 columns</p>\n",
       "</div>"
      ],
      "text/plain": [
       "        user.id  suspended         0         1         2         3         4  \\\n",
       "0  1.278130e+18          0 -0.035195  0.165119  0.100267  0.029315 -0.159400   \n",
       "1  1.278132e+18          0  0.194764  0.377121  0.412232  0.160510  0.353597   \n",
       "2  1.278132e+18          0  0.176657  0.274773  0.441620  0.139845  0.167961   \n",
       "3  1.278132e+18          0  0.255944  0.393231  0.433232  0.201758  0.121352   \n",
       "4  1.278132e+18          0  0.173395  0.264465  0.510952  0.205173  0.171039   \n",
       "\n",
       "          5         6         7  ...       758       759       760       761  \\\n",
       "0  0.019979  0.147444 -0.074170  ...  0.073581 -0.037767 -0.114214  0.096848   \n",
       "1 -0.091931  0.135429  0.026219  ... -0.017683 -0.036561 -0.197910 -0.118536   \n",
       "2 -0.018222  0.126877 -0.307568  ...  0.121181  0.021222 -0.250684 -0.000257   \n",
       "3 -0.340121 -0.008866 -0.246079  ...  0.000051 -0.059051 -0.230664  0.158462   \n",
       "4 -0.188893  0.013142  0.167540  ...  0.069932  0.091039 -0.263561 -0.092036   \n",
       "\n",
       "        762       763       764       765       766       767  \n",
       "0  0.138095 -0.091209  0.183108  0.091503  0.045742  0.052075  \n",
       "1  0.176716 -0.058367  0.343171  0.207069  0.102238  0.017086  \n",
       "2  0.196453 -0.049245  0.493504  0.220903  0.055897  0.047504  \n",
       "3  0.098095 -0.058339  0.273494  0.239318  0.015908  0.095475  \n",
       "4  0.144779 -0.058090  0.346457  0.134926  0.098636  0.102087  \n",
       "\n",
       "[5 rows x 770 columns]"
      ]
     },
     "execution_count": 57,
     "metadata": {},
     "output_type": "execute_result"
    }
   ],
   "source": [
    "# Get embeddings for train\n",
    "p = [group for group in embeddings_tr]\n",
    "\n",
    "b = [item for sublist in [[list(t) for t in zip(sublist[0], sublist[1])] for sublist in p] for item in sublist]\n",
    "df = pd.DataFrame(b, columns = ['id', 'embeddings'])  \n",
    "\n",
    "bert_embeddings_df_train = pd.concat([df['id'], df['embeddings'].apply(pd.Series)], axis = 1)\n",
    "bert_embeddings_df_train['id'] = bert_embeddings_df_train['id'].apply(lambda x: x.item())\n",
    "#bert_embeddings_df_train = pd.merge(df_train.drop(['text'], axis=1), bert_embeddings_df_train, left_on = [\"id\"], right_on = [\"id\"])\n",
    "bert_embeddings_df_train = pd.merge(df_train.drop(['text'], axis=1), bert_embeddings_df_train.drop(['id'], axis=1), left_index=True, right_index=True)\n",
    "print('Train Embeddings Extraction and Merge DONE')\n",
    "bert_embeddings_df_train.head()"
   ]
  },
  {
   "cell_type": "code",
   "execution_count": 58,
   "metadata": {
    "execution": {
     "iopub.execute_input": "2021-05-17T14:04:16.906124Z",
     "iopub.status.busy": "2021-05-17T14:04:16.905461Z",
     "iopub.status.idle": "2021-05-17T14:04:17.117368Z",
     "shell.execute_reply": "2021-05-17T14:04:17.116838Z"
    },
    "papermill": {
     "duration": 0.302438,
     "end_time": "2021-05-17T14:04:17.117505",
     "exception": false,
     "start_time": "2021-05-17T14:04:16.815067",
     "status": "completed"
    },
    "tags": []
   },
   "outputs": [
    {
     "name": "stdout",
     "output_type": "stream",
     "text": [
      "Calculating Matthews Corr. Coef. for each batch...\n"
     ]
    },
    {
     "name": "stderr",
     "output_type": "stream",
     "text": [
      "/opt/conda/lib/python3.7/site-packages/sklearn/metrics/_classification.py:846: RuntimeWarning:\n",
      "\n",
      "invalid value encountered in double_scalars\n",
      "\n"
     ]
    }
   ],
   "source": [
    "from sklearn.metrics import matthews_corrcoef\n",
    "matthews_set = []\n",
    "# Evaluate each test batch using Matthew's correlation coefficient\n",
    "print('Calculating Matthews Corr. Coef. for each batch...')\n",
    "# For each input batch...\n",
    "for i in range(len(true_labels_train)):\n",
    "  \n",
    "    # The predictions for this batch are a 2-column ndarray (one column for \"0\" \n",
    "    # and one column for \"1\"). Pick the label with the highest value and turn this\n",
    "    # in to a list of 0s and 1s.\n",
    "    pred_labels_i = np.argmax(predictions_train[i], axis=1).flatten()\n",
    "\n",
    "    # Calculate and store the coef for this batch.  \n",
    "    matthews = matthews_corrcoef(true_labels_train[i], pred_labels_i)                \n",
    "    matthews_set.append(matthews)"
   ]
  },
  {
   "cell_type": "code",
   "execution_count": 59,
   "metadata": {
    "execution": {
     "iopub.execute_input": "2021-05-17T14:04:17.297479Z",
     "iopub.status.busy": "2021-05-17T14:04:17.296739Z",
     "iopub.status.idle": "2021-05-17T14:04:17.325317Z",
     "shell.execute_reply": "2021-05-17T14:04:17.326078Z"
    },
    "papermill": {
     "duration": 0.122295,
     "end_time": "2021-05-17T14:04:17.326248",
     "exception": false,
     "start_time": "2021-05-17T14:04:17.203953",
     "status": "completed"
    },
    "tags": []
   },
   "outputs": [
    {
     "name": "stdout",
     "output_type": "stream",
     "text": [
      "MCC: 0.301\n"
     ]
    }
   ],
   "source": [
    "# Combine the predictions for each batch into a single list of 0s and 1s.\n",
    "flat_predictions = [item for sublist in predictions_train for item in sublist]\n",
    "flat_predictions = np.argmax(flat_predictions, axis=1).flatten()\n",
    "# Combine the correct labels for each batch into a single list.\n",
    "flat_true_labels = [item for sublist in true_labels_train for item in sublist]\n",
    "# Calculate the MCC\n",
    "mcc = matthews_corrcoef(flat_true_labels, flat_predictions)\n",
    "print('MCC: %.3f' % mcc)"
   ]
  },
  {
   "cell_type": "code",
   "execution_count": 60,
   "metadata": {
    "execution": {
     "iopub.execute_input": "2021-05-17T14:04:17.507769Z",
     "iopub.status.busy": "2021-05-17T14:04:17.506998Z",
     "iopub.status.idle": "2021-05-17T14:04:17.523028Z",
     "shell.execute_reply": "2021-05-17T14:04:17.522405Z"
    },
    "papermill": {
     "duration": 0.107227,
     "end_time": "2021-05-17T14:04:17.523185",
     "exception": false,
     "start_time": "2021-05-17T14:04:17.415958",
     "status": "completed"
    },
    "tags": []
   },
   "outputs": [
    {
     "name": "stdout",
     "output_type": "stream",
     "text": [
      "              precision    recall  f1-score   support\n",
      "\n",
      "           0       0.94      1.00      0.97      8853\n",
      "           1       0.81      0.12      0.21       639\n",
      "\n",
      "    accuracy                           0.94      9492\n",
      "   macro avg       0.88      0.56      0.59      9492\n",
      "weighted avg       0.93      0.94      0.92      9492\n",
      "\n"
     ]
    }
   ],
   "source": [
    "from sklearn.metrics import classification_report,confusion_matrix\n",
    "report = classification_report(flat_true_labels, flat_predictions)\n",
    "print(report)"
   ]
  },
  {
   "cell_type": "code",
   "execution_count": 61,
   "metadata": {
    "execution": {
     "iopub.execute_input": "2021-05-17T14:04:17.699047Z",
     "iopub.status.busy": "2021-05-17T14:04:17.698344Z",
     "iopub.status.idle": "2021-05-17T14:04:17.701025Z",
     "shell.execute_reply": "2021-05-17T14:04:17.700631Z"
    },
    "papermill": {
     "duration": 0.093034,
     "end_time": "2021-05-17T14:04:17.701133",
     "exception": false,
     "start_time": "2021-05-17T14:04:17.608099",
     "status": "completed"
    },
    "tags": []
   },
   "outputs": [],
   "source": [
    "def plot_roc_curve(fpr, tpr, label=None):\n",
    "    plt.plot(fpr, tpr, linewidth=2, label=label)\n",
    "    plt.plot([0, 1], [0, 1], 'k--') # dashed diagonal\n",
    "    plt.axis([0, 1, 0, 1])                                    # Not shown in the book\n",
    "    plt.xlabel('False Positive Rate (Fall-Out)', fontsize=16) # Not shown\n",
    "    plt.ylabel('True Positive Rate (Recall)', fontsize=16)    # Not shown\n",
    "    plt.grid(True)  "
   ]
  },
  {
   "cell_type": "code",
   "execution_count": 62,
   "metadata": {
    "execution": {
     "iopub.execute_input": "2021-05-17T14:04:17.879249Z",
     "iopub.status.busy": "2021-05-17T14:04:17.878510Z",
     "iopub.status.idle": "2021-05-17T14:04:18.038014Z",
     "shell.execute_reply": "2021-05-17T14:04:18.038445Z"
    },
    "papermill": {
     "duration": 0.252775,
     "end_time": "2021-05-17T14:04:18.038562",
     "exception": false,
     "start_time": "2021-05-17T14:04:17.785787",
     "status": "completed"
    },
    "tags": []
   },
   "outputs": [
    {
     "data": {
      "image/png": "[encoded data removed]",
      "text/plain": [
       "<Figure size 576x432 with 1 Axes>"
      ]
     },
     "metadata": {
      "needs_background": "light"
     },
     "output_type": "display_data"
    }
   ],
   "source": [
    "fpr, tpr, thresholds = roc_curve(flat_true_labels, flat_predictions)\n",
    "plt.figure(figsize=(8, 6))                         # Not shown\n",
    "plot_roc_curve(fpr, tpr)\n",
    "plt.plot([4.837e-3, 4.837e-3], [0., 0.4368], \"r:\") # Not shown\n",
    "plt.plot([0.0, 4.837e-3], [0.4368, 0.4368], \"r:\")  # Not shown\n",
    "plt.plot([4.837e-3], [0.4368], \"ro\")               # Not shown\n",
    "plt.show()"
   ]
  },
  {
   "cell_type": "code",
   "execution_count": 63,
   "metadata": {
    "execution": {
     "iopub.execute_input": "2021-05-17T14:04:18.257049Z",
     "iopub.status.busy": "2021-05-17T14:04:18.256210Z",
     "iopub.status.idle": "2021-05-17T14:04:18.278342Z",
     "shell.execute_reply": "2021-05-17T14:04:18.279210Z"
    },
    "papermill": {
     "duration": 0.153999,
     "end_time": "2021-05-17T14:04:18.279388",
     "exception": false,
     "start_time": "2021-05-17T14:04:18.125389",
     "status": "completed"
    },
    "tags": []
   },
   "outputs": [
    {
     "data": {
      "text/plain": [
       "0.5600162593089316"
      ]
     },
     "execution_count": 63,
     "metadata": {},
     "output_type": "execute_result"
    }
   ],
   "source": [
    "roc_auc_score(flat_true_labels, flat_predictions)"
   ]
  },
  {
   "cell_type": "markdown",
   "metadata": {
    "papermill": {
     "duration": 0.141395,
     "end_time": "2021-05-17T14:04:18.564378",
     "exception": false,
     "start_time": "2021-05-17T14:04:18.422983",
     "status": "completed"
    },
    "tags": []
   },
   "source": [
    "Valid"
   ]
  },
  {
   "cell_type": "code",
   "execution_count": 64,
   "metadata": {
    "execution": {
     "iopub.execute_input": "2021-05-17T14:04:18.788445Z",
     "iopub.status.busy": "2021-05-17T14:04:18.787621Z",
     "iopub.status.idle": "2021-05-17T14:04:19.559056Z",
     "shell.execute_reply": "2021-05-17T14:04:19.559557Z"
    },
    "papermill": {
     "duration": 0.866699,
     "end_time": "2021-05-17T14:04:19.559689",
     "exception": false,
     "start_time": "2021-05-17T14:04:18.692990",
     "status": "completed"
    },
    "tags": []
   },
   "outputs": [
    {
     "name": "stdout",
     "output_type": "stream",
     "text": [
      "Valid Embeddings Extraction and Merge DONE.\n"
     ]
    },
    {
     "data": {
      "text/html": [
       "<div>\n",
       "<style scoped>\n",
       "    .dataframe tbody tr th:only-of-type {\n",
       "        vertical-align: middle;\n",
       "    }\n",
       "\n",
       "    .dataframe tbody tr th {\n",
       "        vertical-align: top;\n",
       "    }\n",
       "\n",
       "    .dataframe thead th {\n",
       "        text-align: right;\n",
       "    }\n",
       "</style>\n",
       "<table border=\"1\" class=\"dataframe\">\n",
       "  <thead>\n",
       "    <tr style=\"text-align: right;\">\n",
       "      <th></th>\n",
       "      <th>user.id</th>\n",
       "      <th>suspended</th>\n",
       "      <th>0</th>\n",
       "      <th>1</th>\n",
       "      <th>2</th>\n",
       "      <th>3</th>\n",
       "      <th>4</th>\n",
       "      <th>5</th>\n",
       "      <th>6</th>\n",
       "      <th>7</th>\n",
       "      <th>...</th>\n",
       "      <th>758</th>\n",
       "      <th>759</th>\n",
       "      <th>760</th>\n",
       "      <th>761</th>\n",
       "      <th>762</th>\n",
       "      <th>763</th>\n",
       "      <th>764</th>\n",
       "      <th>765</th>\n",
       "      <th>766</th>\n",
       "      <th>767</th>\n",
       "    </tr>\n",
       "  </thead>\n",
       "  <tbody>\n",
       "    <tr>\n",
       "      <th>0</th>\n",
       "      <td>1.278120e+18</td>\n",
       "      <td>1</td>\n",
       "      <td>0.105823</td>\n",
       "      <td>0.323054</td>\n",
       "      <td>0.190725</td>\n",
       "      <td>0.268806</td>\n",
       "      <td>0.098889</td>\n",
       "      <td>-0.133213</td>\n",
       "      <td>0.034910</td>\n",
       "      <td>-0.176368</td>\n",
       "      <td>...</td>\n",
       "      <td>0.108356</td>\n",
       "      <td>0.016431</td>\n",
       "      <td>-0.190262</td>\n",
       "      <td>0.000477</td>\n",
       "      <td>0.224438</td>\n",
       "      <td>-0.116314</td>\n",
       "      <td>0.592901</td>\n",
       "      <td>-0.029669</td>\n",
       "      <td>-0.045913</td>\n",
       "      <td>0.114702</td>\n",
       "    </tr>\n",
       "    <tr>\n",
       "      <th>1</th>\n",
       "      <td>1.278120e+18</td>\n",
       "      <td>1</td>\n",
       "      <td>0.117289</td>\n",
       "      <td>0.277399</td>\n",
       "      <td>0.113875</td>\n",
       "      <td>0.090257</td>\n",
       "      <td>0.054520</td>\n",
       "      <td>-0.218544</td>\n",
       "      <td>0.084943</td>\n",
       "      <td>-0.419130</td>\n",
       "      <td>...</td>\n",
       "      <td>0.106769</td>\n",
       "      <td>0.089931</td>\n",
       "      <td>-0.233012</td>\n",
       "      <td>0.126373</td>\n",
       "      <td>0.084789</td>\n",
       "      <td>-0.072594</td>\n",
       "      <td>0.513073</td>\n",
       "      <td>-0.018415</td>\n",
       "      <td>0.011995</td>\n",
       "      <td>0.110743</td>\n",
       "    </tr>\n",
       "    <tr>\n",
       "      <th>2</th>\n",
       "      <td>1.278120e+18</td>\n",
       "      <td>1</td>\n",
       "      <td>0.174977</td>\n",
       "      <td>0.391582</td>\n",
       "      <td>0.355054</td>\n",
       "      <td>0.202665</td>\n",
       "      <td>-0.035819</td>\n",
       "      <td>-0.113448</td>\n",
       "      <td>-0.000349</td>\n",
       "      <td>-0.214675</td>\n",
       "      <td>...</td>\n",
       "      <td>0.131745</td>\n",
       "      <td>0.063405</td>\n",
       "      <td>-0.209528</td>\n",
       "      <td>-0.193114</td>\n",
       "      <td>0.251689</td>\n",
       "      <td>-0.098534</td>\n",
       "      <td>0.565141</td>\n",
       "      <td>0.086827</td>\n",
       "      <td>0.034852</td>\n",
       "      <td>0.087218</td>\n",
       "    </tr>\n",
       "    <tr>\n",
       "      <th>3</th>\n",
       "      <td>1.278120e+18</td>\n",
       "      <td>1</td>\n",
       "      <td>-0.006316</td>\n",
       "      <td>0.149087</td>\n",
       "      <td>0.276415</td>\n",
       "      <td>0.252706</td>\n",
       "      <td>-0.004894</td>\n",
       "      <td>0.036198</td>\n",
       "      <td>-0.028081</td>\n",
       "      <td>-0.391639</td>\n",
       "      <td>...</td>\n",
       "      <td>0.046536</td>\n",
       "      <td>0.113330</td>\n",
       "      <td>-0.168664</td>\n",
       "      <td>0.163827</td>\n",
       "      <td>0.204410</td>\n",
       "      <td>-0.108689</td>\n",
       "      <td>0.183951</td>\n",
       "      <td>0.110101</td>\n",
       "      <td>0.054613</td>\n",
       "      <td>0.125130</td>\n",
       "    </tr>\n",
       "    <tr>\n",
       "      <th>4</th>\n",
       "      <td>1.278120e+18</td>\n",
       "      <td>1</td>\n",
       "      <td>0.113720</td>\n",
       "      <td>0.341817</td>\n",
       "      <td>0.272470</td>\n",
       "      <td>0.145392</td>\n",
       "      <td>0.207019</td>\n",
       "      <td>-0.228808</td>\n",
       "      <td>0.038408</td>\n",
       "      <td>-0.234605</td>\n",
       "      <td>...</td>\n",
       "      <td>0.144225</td>\n",
       "      <td>0.119348</td>\n",
       "      <td>-0.227791</td>\n",
       "      <td>-0.000802</td>\n",
       "      <td>0.184793</td>\n",
       "      <td>-0.113620</td>\n",
       "      <td>0.558708</td>\n",
       "      <td>0.042717</td>\n",
       "      <td>0.114097</td>\n",
       "      <td>0.119998</td>\n",
       "    </tr>\n",
       "  </tbody>\n",
       "</table>\n",
       "<p>5 rows × 770 columns</p>\n",
       "</div>"
      ],
      "text/plain": [
       "        user.id  suspended         0         1         2         3         4  \\\n",
       "0  1.278120e+18          1  0.105823  0.323054  0.190725  0.268806  0.098889   \n",
       "1  1.278120e+18          1  0.117289  0.277399  0.113875  0.090257  0.054520   \n",
       "2  1.278120e+18          1  0.174977  0.391582  0.355054  0.202665 -0.035819   \n",
       "3  1.278120e+18          1 -0.006316  0.149087  0.276415  0.252706 -0.004894   \n",
       "4  1.278120e+18          1  0.113720  0.341817  0.272470  0.145392  0.207019   \n",
       "\n",
       "          5         6         7  ...       758       759       760       761  \\\n",
       "0 -0.133213  0.034910 -0.176368  ...  0.108356  0.016431 -0.190262  0.000477   \n",
       "1 -0.218544  0.084943 -0.419130  ...  0.106769  0.089931 -0.233012  0.126373   \n",
       "2 -0.113448 -0.000349 -0.214675  ...  0.131745  0.063405 -0.209528 -0.193114   \n",
       "3  0.036198 -0.028081 -0.391639  ...  0.046536  0.113330 -0.168664  0.163827   \n",
       "4 -0.228808  0.038408 -0.234605  ...  0.144225  0.119348 -0.227791 -0.000802   \n",
       "\n",
       "        762       763       764       765       766       767  \n",
       "0  0.224438 -0.116314  0.592901 -0.029669 -0.045913  0.114702  \n",
       "1  0.084789 -0.072594  0.513073 -0.018415  0.011995  0.110743  \n",
       "2  0.251689 -0.098534  0.565141  0.086827  0.034852  0.087218  \n",
       "3  0.204410 -0.108689  0.183951  0.110101  0.054613  0.125130  \n",
       "4  0.184793 -0.113620  0.558708  0.042717  0.114097  0.119998  \n",
       "\n",
       "[5 rows x 770 columns]"
      ]
     },
     "execution_count": 64,
     "metadata": {},
     "output_type": "execute_result"
    }
   ],
   "source": [
    "# Get embeddings for valid\n",
    "p = [group for group in embeddings_vl]\n",
    "\n",
    "b = [item for sublist in [[list(t) for t in zip(sublist[0], sublist[1])] for sublist in p] for item in sublist]\n",
    "df = pd.DataFrame(b, columns = ['id', 'embeddings'])  \n",
    "\n",
    "bert_embeddings_df_valid = pd.concat([df['id'], df['embeddings'].apply(pd.Series)], axis = 1)\n",
    "bert_embeddings_df_valid['id'] = bert_embeddings_df_valid['id'].apply(lambda x: x.item())\n",
    "#bert_embeddings_df_valid = pd.merge(df_valid.drop(['text'], axis=1), bert_embeddings_df_valid, left_on = [\"id\"], right_on = [\"id\"])\n",
    "bert_embeddings_df_valid = pd.merge(df_valid.drop(['text'], axis=1), bert_embeddings_df_valid.drop(['id'], axis=1), left_index=True, right_index=True)\n",
    "print('Valid Embeddings Extraction and Merge DONE.')\n",
    "bert_embeddings_df_valid.head()"
   ]
  },
  {
   "cell_type": "code",
   "execution_count": 65,
   "metadata": {
    "execution": {
     "iopub.execute_input": "2021-05-17T14:04:19.747104Z",
     "iopub.status.busy": "2021-05-17T14:04:19.746237Z",
     "iopub.status.idle": "2021-05-17T14:04:19.805431Z",
     "shell.execute_reply": "2021-05-17T14:04:19.806024Z"
    },
    "papermill": {
     "duration": 0.158629,
     "end_time": "2021-05-17T14:04:19.806188",
     "exception": false,
     "start_time": "2021-05-17T14:04:19.647559",
     "status": "completed"
    },
    "tags": []
   },
   "outputs": [
    {
     "name": "stdout",
     "output_type": "stream",
     "text": [
      "Calculating Matthews Corr. Coef. for each batch...\n"
     ]
    },
    {
     "name": "stderr",
     "output_type": "stream",
     "text": [
      "/opt/conda/lib/python3.7/site-packages/sklearn/metrics/_classification.py:846: RuntimeWarning:\n",
      "\n",
      "invalid value encountered in double_scalars\n",
      "\n"
     ]
    }
   ],
   "source": [
    "from sklearn.metrics import matthews_corrcoef\n",
    "matthews_set = []\n",
    "# Evaluate each test batch using Matthew's correlation coefficient\n",
    "print('Calculating Matthews Corr. Coef. for each batch...')\n",
    "# For each input batch...\n",
    "for i in range(len(true_labels_valid)):\n",
    "  \n",
    "    # The predictions for this batch are a 2-column ndarray (one column for \"0\" \n",
    "    # and one column for \"1\"). Pick the label with the highest value and turn this\n",
    "    # in to a list of 0s and 1s.\n",
    "    pred_labels_i = np.argmax(predictions_valid[i], axis=1).flatten()\n",
    "\n",
    "    # Calculate and store the coef for this batch.  \n",
    "    matthews = matthews_corrcoef(true_labels_valid[i], pred_labels_i)                \n",
    "    matthews_set.append(matthews)"
   ]
  },
  {
   "cell_type": "code",
   "execution_count": 66,
   "metadata": {
    "execution": {
     "iopub.execute_input": "2021-05-17T14:04:19.992159Z",
     "iopub.status.busy": "2021-05-17T14:04:19.991397Z",
     "iopub.status.idle": "2021-05-17T14:04:20.005270Z",
     "shell.execute_reply": "2021-05-17T14:04:20.004576Z"
    },
    "papermill": {
     "duration": 0.10785,
     "end_time": "2021-05-17T14:04:20.005388",
     "exception": false,
     "start_time": "2021-05-17T14:04:19.897538",
     "status": "completed"
    },
    "tags": []
   },
   "outputs": [
    {
     "name": "stdout",
     "output_type": "stream",
     "text": [
      "MCC: -0.025\n"
     ]
    }
   ],
   "source": [
    "# Combine the predictions for each batch into a single list of 0s and 1s.\n",
    "flat_predictions = [item for sublist in predictions_valid for item in sublist]\n",
    "flat_predictions = np.argmax(flat_predictions, axis=1).flatten()\n",
    "# Combine the correct labels for each batch into a single list.\n",
    "flat_true_labels = [item for sublist in true_labels_valid for item in sublist]\n",
    "# Calculate the MCC\n",
    "mcc = matthews_corrcoef(flat_true_labels, flat_predictions)\n",
    "print('MCC: %.3f' % mcc)"
   ]
  },
  {
   "cell_type": "code",
   "execution_count": 67,
   "metadata": {
    "execution": {
     "iopub.execute_input": "2021-05-17T14:04:20.197804Z",
     "iopub.status.busy": "2021-05-17T14:04:20.196954Z",
     "iopub.status.idle": "2021-05-17T14:04:20.207595Z",
     "shell.execute_reply": "2021-05-17T14:04:20.209209Z"
    },
    "papermill": {
     "duration": 0.11372,
     "end_time": "2021-05-17T14:04:20.209458",
     "exception": false,
     "start_time": "2021-05-17T14:04:20.095738",
     "status": "completed"
    },
    "tags": []
   },
   "outputs": [
    {
     "name": "stdout",
     "output_type": "stream",
     "text": [
      "              precision    recall  f1-score   support\n",
      "\n",
      "           0       0.85      1.00      0.92      2197\n",
      "           1       0.00      0.00      0.00       393\n",
      "\n",
      "    accuracy                           0.84      2590\n",
      "   macro avg       0.42      0.50      0.46      2590\n",
      "weighted avg       0.72      0.84      0.78      2590\n",
      "\n"
     ]
    }
   ],
   "source": [
    "from sklearn.metrics import classification_report,confusion_matrix\n",
    "report = classification_report(flat_true_labels, flat_predictions)\n",
    "print(report)"
   ]
  },
  {
   "cell_type": "code",
   "execution_count": 68,
   "metadata": {
    "execution": {
     "iopub.execute_input": "2021-05-17T14:04:20.405936Z",
     "iopub.status.busy": "2021-05-17T14:04:20.405165Z",
     "iopub.status.idle": "2021-05-17T14:04:20.540949Z",
     "shell.execute_reply": "2021-05-17T14:04:20.541455Z"
    },
    "papermill": {
     "duration": 0.232864,
     "end_time": "2021-05-17T14:04:20.541579",
     "exception": false,
     "start_time": "2021-05-17T14:04:20.308715",
     "status": "completed"
    },
    "tags": []
   },
   "outputs": [
    {
     "data": {
      "image/png": "[encoded data removed]",
      "text/plain": [
       "<Figure size 576x432 with 1 Axes>"
      ]
     },
     "metadata": {
      "needs_background": "light"
     },
     "output_type": "display_data"
    }
   ],
   "source": [
    "fpr, tpr, thresholds = roc_curve(flat_true_labels, flat_predictions)\n",
    "plt.figure(figsize=(8, 6))                         # Not shown\n",
    "plot_roc_curve(fpr, tpr)\n",
    "plt.plot([4.837e-3, 4.837e-3], [0., 0.4368], \"r:\") # Not shown\n",
    "plt.plot([0.0, 4.837e-3], [0.4368, 0.4368], \"r:\")  # Not shown\n",
    "plt.plot([4.837e-3], [0.4368], \"ro\")               # Not shown\n",
    "plt.show()"
   ]
  },
  {
   "cell_type": "code",
   "execution_count": 69,
   "metadata": {
    "execution": {
     "iopub.execute_input": "2021-05-17T14:04:20.738391Z",
     "iopub.status.busy": "2021-05-17T14:04:20.737454Z",
     "iopub.status.idle": "2021-05-17T14:04:20.743710Z",
     "shell.execute_reply": "2021-05-17T14:04:20.743275Z"
    },
    "papermill": {
     "duration": 0.104505,
     "end_time": "2021-05-17T14:04:20.743794",
     "exception": false,
     "start_time": "2021-05-17T14:04:20.639289",
     "status": "completed"
    },
    "tags": []
   },
   "outputs": [
    {
     "data": {
      "text/plain": [
       "0.4979517523896222"
      ]
     },
     "execution_count": 69,
     "metadata": {},
     "output_type": "execute_result"
    }
   ],
   "source": [
    "roc_auc_score(flat_true_labels, flat_predictions)"
   ]
  },
  {
   "cell_type": "markdown",
   "metadata": {
    "papermill": {
     "duration": 0.089964,
     "end_time": "2021-05-17T14:04:20.923919",
     "exception": false,
     "start_time": "2021-05-17T14:04:20.833955",
     "status": "completed"
    },
    "tags": []
   },
   "source": [
    "#### Export model and embeddings"
   ]
  },
  {
   "cell_type": "code",
   "execution_count": 70,
   "metadata": {
    "execution": {
     "iopub.execute_input": "2021-05-17T14:04:21.132871Z",
     "iopub.status.busy": "2021-05-17T14:04:21.132260Z",
     "iopub.status.idle": "2021-05-17T14:04:21.135258Z",
     "shell.execute_reply": "2021-05-17T14:04:21.134832Z"
    },
    "papermill": {
     "duration": 0.121806,
     "end_time": "2021-05-17T14:04:21.135349",
     "exception": false,
     "start_time": "2021-05-17T14:04:21.013543",
     "status": "completed"
    },
    "tags": []
   },
   "outputs": [],
   "source": [
    "bert_embeddings_df_train['user.id'] = bert_embeddings_df_train['user.id'].astype('str')\n",
    "bert_embeddings_df_train['user.id'] = bert_embeddings_df_train['user.id'].apply(lambda x: \"'\" + x + \"'\")\n",
    "bert_embeddings_df_valid['user.id'] = bert_embeddings_df_valid['user.id'].astype('str')\n",
    "bert_embeddings_df_valid['user.id'] = bert_embeddings_df_valid['user.id'].apply(lambda x: \"'\" + x + \"'\")"
   ]
  },
  {
   "cell_type": "code",
   "execution_count": 71,
   "metadata": {
    "execution": {
     "iopub.execute_input": "2021-05-17T14:04:21.323746Z",
     "iopub.status.busy": "2021-05-17T14:04:21.322924Z",
     "iopub.status.idle": "2021-05-17T14:04:21.329694Z",
     "shell.execute_reply": "2021-05-17T14:04:21.329072Z"
    },
    "papermill": {
     "duration": 0.104671,
     "end_time": "2021-05-17T14:04:21.329817",
     "exception": false,
     "start_time": "2021-05-17T14:04:21.225146",
     "status": "completed"
    },
    "tags": []
   },
   "outputs": [
    {
     "name": "stdout",
     "output_type": "stream",
     "text": [
      "full train: 9492 unique ids train: 1553 full valid: 2590 unique ids valid: 567\n"
     ]
    }
   ],
   "source": [
    "print(\"full train:\", len(bert_embeddings_df_train), \"unique ids train:\", len(bert_embeddings_df_train['user.id'].unique()), \n",
    "      \"full valid:\", len(bert_embeddings_df_valid), \"unique ids valid:\", len(bert_embeddings_df_valid['user.id'].unique()))"
   ]
  },
  {
   "cell_type": "code",
   "execution_count": 72,
   "metadata": {
    "execution": {
     "iopub.execute_input": "2021-05-17T14:04:21.517058Z",
     "iopub.status.busy": "2021-05-17T14:04:21.516311Z",
     "iopub.status.idle": "2021-05-17T14:04:30.161008Z",
     "shell.execute_reply": "2021-05-17T14:04:30.160178Z"
    },
    "papermill": {
     "duration": 8.739782,
     "end_time": "2021-05-17T14:04:30.161203",
     "exception": false,
     "start_time": "2021-05-17T14:04:21.421421",
     "status": "completed"
    },
    "tags": []
   },
   "outputs": [
    {
     "data": {
      "text/plain": [
       "('./Labse_Tweettext_mode/tokenizer_config.json',\n",
       " './Labse_Tweettext_mode/special_tokens_map.json',\n",
       " './Labse_Tweettext_mode/vocab.txt',\n",
       " './Labse_Tweettext_mode/added_tokens.json')"
      ]
     },
     "execution_count": 72,
     "metadata": {},
     "output_type": "execute_result"
    }
   ],
   "source": [
    "model_to_save = model.module if hasattr(model, \"module\") else model # Take care of distributed/parallel training\n",
    "model_to_save.save_pretrained('./Labse_Tweettext_mode/')\n",
    "tokenizer.save_pretrained('./Labse_Tweettext_mode/')"
   ]
  },
  {
   "cell_type": "code",
   "execution_count": 73,
   "metadata": {
    "execution": {
     "iopub.execute_input": "2021-05-17T14:04:30.366753Z",
     "iopub.status.busy": "2021-05-17T14:04:30.364670Z",
     "iopub.status.idle": "2021-05-17T14:04:45.723604Z",
     "shell.execute_reply": "2021-05-17T14:04:45.722477Z"
    },
    "papermill": {
     "duration": 15.459521,
     "end_time": "2021-05-17T14:04:45.723725",
     "exception": false,
     "start_time": "2021-05-17T14:04:30.264204",
     "status": "completed"
    },
    "tags": []
   },
   "outputs": [],
   "source": [
    "bert_embeddings_df_train.to_csv('labse_train_embeddings_df.csv', index=False, encoding = \"utf_8_sig\")\n",
    "bert_embeddings_df_valid.to_csv('labse_valid_embeddings_df.csv', index=False, encoding = \"utf_8_sig\")"
   ]
  },
  {
   "cell_type": "markdown",
   "metadata": {
    "papermill": {
     "duration": 0.095922,
     "end_time": "2021-05-17T14:04:45.917222",
     "exception": false,
     "start_time": "2021-05-17T14:04:45.821300",
     "status": "completed"
    },
    "tags": []
   },
   "source": [
    "### Evaluate on Test"
   ]
  },
  {
   "cell_type": "markdown",
   "metadata": {
    "papermill": {
     "duration": 0.095906,
     "end_time": "2021-05-17T14:04:46.111340",
     "exception": false,
     "start_time": "2021-05-17T14:04:46.015434",
     "status": "completed"
    },
    "tags": []
   },
   "source": [
    "Now we’ll load the holdout dataset and prepare inputs just as we did with the training set. Then we’ll evaluate predictions using Matthews correlation coefficient (MCC wiki)because this is the metric used by the wider NLP community to evaluate performance on CoLA. With this metric, +1 is the best score, and -1 is the worst score. This way, we can see how well we perform against the state of the art models for this specific task.\n"
   ]
  },
  {
   "cell_type": "code",
   "execution_count": 74,
   "metadata": {
    "execution": {
     "iopub.execute_input": "2021-05-17T14:04:46.303430Z",
     "iopub.status.busy": "2021-05-17T14:04:46.302721Z",
     "iopub.status.idle": "2021-05-17T14:04:46.336016Z",
     "shell.execute_reply": "2021-05-17T14:04:46.335577Z"
    },
    "papermill": {
     "duration": 0.131693,
     "end_time": "2021-05-17T14:04:46.336123",
     "exception": false,
     "start_time": "2021-05-17T14:04:46.204430",
     "status": "completed"
    },
    "tags": []
   },
   "outputs": [],
   "source": [
    "# Convert to tensors.\n",
    "prediction_inputs = torch.tensor(test_inputs)\n",
    "prediction_masks = torch.tensor(test_masks)\n",
    "prediction_labels = torch.tensor(test_labels)\n",
    "prediction_ids = torch.tensor(ids_test)\n",
    "\n",
    "# Set the batch size.  \n",
    "batch_size = 8 \n",
    "# Create the DataLoader.\n",
    "prediction_data = TensorDataset(prediction_inputs, prediction_masks, prediction_labels, prediction_ids)\n",
    "prediction_sampler = SequentialSampler(prediction_data)\n",
    "prediction_dataloader = DataLoader(prediction_data, sampler=prediction_sampler, batch_size=batch_size)"
   ]
  },
  {
   "cell_type": "markdown",
   "metadata": {
    "papermill": {
     "duration": 0.093078,
     "end_time": "2021-05-17T14:04:46.522068",
     "exception": false,
     "start_time": "2021-05-17T14:04:46.428990",
     "status": "completed"
    },
    "tags": []
   },
   "source": [
    "With the test set prepared, we can apply our fine-tuned model to generate predictions on the test set"
   ]
  },
  {
   "cell_type": "code",
   "execution_count": 75,
   "metadata": {
    "execution": {
     "iopub.execute_input": "2021-05-17T14:04:46.718844Z",
     "iopub.status.busy": "2021-05-17T14:04:46.716840Z",
     "iopub.status.idle": "2021-05-17T14:04:58.541372Z",
     "shell.execute_reply": "2021-05-17T14:04:58.541790Z"
    },
    "papermill": {
     "duration": 11.927693,
     "end_time": "2021-05-17T14:04:58.541937",
     "exception": false,
     "start_time": "2021-05-17T14:04:46.614244",
     "status": "completed"
    },
    "tags": []
   },
   "outputs": [
    {
     "name": "stdout",
     "output_type": "stream",
     "text": [
      "Predicting labels for 2,779 test sentences...\n"
     ]
    }
   ],
   "source": [
    "embeddings_te = []\n",
    "# Prediction on test set\n",
    "print('Predicting labels for {:,} test sentences...'.format(len(prediction_inputs)))\n",
    "# Put model in evaluation mode\n",
    "model.eval()\n",
    "# Tracking variables \n",
    "predictions , true_labels = [], []\n",
    "# Predict \n",
    "for batch in prediction_dataloader:\n",
    "    b_input_ids = batch[0].to(device)\n",
    "    b_input_mask = batch[1].to(device)\n",
    "    b_labels = batch[2].to(device)\n",
    "  \n",
    "  # Telling the model not to compute or store gradients, saving memory and \n",
    "  # speeding up prediction\n",
    "    with torch.no_grad():\n",
    "        # Forward pass, calculate logit predictions\n",
    "        outputs = model(b_input_ids, token_type_ids=None, \n",
    "                      attention_mask=b_input_mask, labels=b_labels)\n",
    "    logits = outputs[1]\n",
    "    # Embeddings extraction approach is to average the second to last hiden layer of each token producing a single 768 length vector\n",
    "    # https://mccormickml.com/2019/05/14/BERT-word-embeddings-tutorial/\n",
    "    hidden_state_te = outputs[2]\n",
    "    token_vecs = hidden_state_te[-2]\n",
    "    token_vecs_sentvecs = []\n",
    "    for token in token_vecs:\n",
    "        sentvecs = torch.mean(token, dim=0).detach().cpu().numpy()\n",
    "        token_vecs_sentvecs.append(sentvecs)\n",
    "    # features = hidden_state_te[12][:,0,:].detach().cpu().numpy()\n",
    "    embeddings_te.append([batch[3], token_vecs_sentvecs])\n",
    "    # Move logits and labels to CPU\n",
    "    logits = logits.detach().cpu().numpy()\n",
    "    label_ids = b_labels.to('cpu').numpy()\n",
    "\n",
    "    # Store predictions and true labels\n",
    "    predictions.append(logits)\n",
    "    true_labels.append(label_ids)\n"
   ]
  },
  {
   "cell_type": "markdown",
   "metadata": {
    "papermill": {
     "duration": 0.093998,
     "end_time": "2021-05-17T14:04:58.730074",
     "exception": false,
     "start_time": "2021-05-17T14:04:58.636076",
     "status": "completed"
    },
    "tags": []
   },
   "source": [
    "### Extract Embeddings for Test"
   ]
  },
  {
   "cell_type": "code",
   "execution_count": 76,
   "metadata": {
    "execution": {
     "iopub.execute_input": "2021-05-17T14:04:58.927539Z",
     "iopub.status.busy": "2021-05-17T14:04:58.926815Z",
     "iopub.status.idle": "2021-05-17T14:04:59.498548Z",
     "shell.execute_reply": "2021-05-17T14:04:59.498931Z"
    },
    "papermill": {
     "duration": 0.67356,
     "end_time": "2021-05-17T14:04:59.499056",
     "exception": false,
     "start_time": "2021-05-17T14:04:58.825496",
     "status": "completed"
    },
    "tags": []
   },
   "outputs": [
    {
     "name": "stdout",
     "output_type": "stream",
     "text": [
      "DONE.\n"
     ]
    },
    {
     "data": {
      "text/html": [
       "<div>\n",
       "<style scoped>\n",
       "    .dataframe tbody tr th:only-of-type {\n",
       "        vertical-align: middle;\n",
       "    }\n",
       "\n",
       "    .dataframe tbody tr th {\n",
       "        vertical-align: top;\n",
       "    }\n",
       "\n",
       "    .dataframe thead th {\n",
       "        text-align: right;\n",
       "    }\n",
       "</style>\n",
       "<table border=\"1\" class=\"dataframe\">\n",
       "  <thead>\n",
       "    <tr style=\"text-align: right;\">\n",
       "      <th></th>\n",
       "      <th>user.id</th>\n",
       "      <th>suspended</th>\n",
       "      <th>0</th>\n",
       "      <th>1</th>\n",
       "      <th>2</th>\n",
       "      <th>3</th>\n",
       "      <th>4</th>\n",
       "      <th>5</th>\n",
       "      <th>6</th>\n",
       "      <th>7</th>\n",
       "      <th>...</th>\n",
       "      <th>758</th>\n",
       "      <th>759</th>\n",
       "      <th>760</th>\n",
       "      <th>761</th>\n",
       "      <th>762</th>\n",
       "      <th>763</th>\n",
       "      <th>764</th>\n",
       "      <th>765</th>\n",
       "      <th>766</th>\n",
       "      <th>767</th>\n",
       "    </tr>\n",
       "  </thead>\n",
       "  <tbody>\n",
       "    <tr>\n",
       "      <th>0</th>\n",
       "      <td>1.278122e+18</td>\n",
       "      <td>0</td>\n",
       "      <td>0.050264</td>\n",
       "      <td>0.088349</td>\n",
       "      <td>0.060947</td>\n",
       "      <td>-0.024541</td>\n",
       "      <td>-0.060652</td>\n",
       "      <td>0.046327</td>\n",
       "      <td>0.037840</td>\n",
       "      <td>-0.032731</td>\n",
       "      <td>...</td>\n",
       "      <td>-0.014857</td>\n",
       "      <td>-0.016552</td>\n",
       "      <td>-0.052116</td>\n",
       "      <td>-0.004263</td>\n",
       "      <td>0.039028</td>\n",
       "      <td>-0.049918</td>\n",
       "      <td>0.062206</td>\n",
       "      <td>0.071127</td>\n",
       "      <td>-0.019458</td>\n",
       "      <td>0.027716</td>\n",
       "    </tr>\n",
       "    <tr>\n",
       "      <th>1</th>\n",
       "      <td>1.278129e+18</td>\n",
       "      <td>0</td>\n",
       "      <td>0.137763</td>\n",
       "      <td>0.307735</td>\n",
       "      <td>0.266520</td>\n",
       "      <td>0.048615</td>\n",
       "      <td>0.157126</td>\n",
       "      <td>-0.237495</td>\n",
       "      <td>0.047650</td>\n",
       "      <td>0.112116</td>\n",
       "      <td>...</td>\n",
       "      <td>0.144136</td>\n",
       "      <td>0.080755</td>\n",
       "      <td>-0.139573</td>\n",
       "      <td>0.109958</td>\n",
       "      <td>0.129701</td>\n",
       "      <td>-0.080836</td>\n",
       "      <td>0.521953</td>\n",
       "      <td>0.058104</td>\n",
       "      <td>0.067146</td>\n",
       "      <td>0.097772</td>\n",
       "    </tr>\n",
       "    <tr>\n",
       "      <th>2</th>\n",
       "      <td>1.278131e+18</td>\n",
       "      <td>0</td>\n",
       "      <td>0.050593</td>\n",
       "      <td>0.228461</td>\n",
       "      <td>0.164024</td>\n",
       "      <td>0.029016</td>\n",
       "      <td>-0.122284</td>\n",
       "      <td>-0.002807</td>\n",
       "      <td>0.111406</td>\n",
       "      <td>-0.121830</td>\n",
       "      <td>...</td>\n",
       "      <td>0.054639</td>\n",
       "      <td>-0.062679</td>\n",
       "      <td>-0.169757</td>\n",
       "      <td>0.149551</td>\n",
       "      <td>0.149531</td>\n",
       "      <td>-0.108723</td>\n",
       "      <td>0.232926</td>\n",
       "      <td>0.099749</td>\n",
       "      <td>0.009564</td>\n",
       "      <td>0.044398</td>\n",
       "    </tr>\n",
       "    <tr>\n",
       "      <th>3</th>\n",
       "      <td>1.278145e+18</td>\n",
       "      <td>1</td>\n",
       "      <td>-0.016327</td>\n",
       "      <td>0.118505</td>\n",
       "      <td>0.007247</td>\n",
       "      <td>-0.020631</td>\n",
       "      <td>-0.085157</td>\n",
       "      <td>0.061950</td>\n",
       "      <td>0.090754</td>\n",
       "      <td>-0.174582</td>\n",
       "      <td>...</td>\n",
       "      <td>0.049939</td>\n",
       "      <td>-0.017235</td>\n",
       "      <td>0.003510</td>\n",
       "      <td>0.235460</td>\n",
       "      <td>0.036938</td>\n",
       "      <td>0.040474</td>\n",
       "      <td>-0.159992</td>\n",
       "      <td>-0.016670</td>\n",
       "      <td>0.036969</td>\n",
       "      <td>-0.046842</td>\n",
       "    </tr>\n",
       "    <tr>\n",
       "      <th>4</th>\n",
       "      <td>1.278155e+18</td>\n",
       "      <td>0</td>\n",
       "      <td>0.042071</td>\n",
       "      <td>0.309903</td>\n",
       "      <td>0.316709</td>\n",
       "      <td>0.223773</td>\n",
       "      <td>0.109157</td>\n",
       "      <td>-0.093324</td>\n",
       "      <td>0.025721</td>\n",
       "      <td>0.305923</td>\n",
       "      <td>...</td>\n",
       "      <td>0.074441</td>\n",
       "      <td>-0.056237</td>\n",
       "      <td>-0.207849</td>\n",
       "      <td>-0.195558</td>\n",
       "      <td>0.164199</td>\n",
       "      <td>-0.075206</td>\n",
       "      <td>0.441152</td>\n",
       "      <td>-0.006340</td>\n",
       "      <td>0.083455</td>\n",
       "      <td>0.136734</td>\n",
       "    </tr>\n",
       "  </tbody>\n",
       "</table>\n",
       "<p>5 rows × 770 columns</p>\n",
       "</div>"
      ],
      "text/plain": [
       "        user.id  suspended         0         1         2         3         4  \\\n",
       "0  1.278122e+18          0  0.050264  0.088349  0.060947 -0.024541 -0.060652   \n",
       "1  1.278129e+18          0  0.137763  0.307735  0.266520  0.048615  0.157126   \n",
       "2  1.278131e+18          0  0.050593  0.228461  0.164024  0.029016 -0.122284   \n",
       "3  1.278145e+18          1 -0.016327  0.118505  0.007247 -0.020631 -0.085157   \n",
       "4  1.278155e+18          0  0.042071  0.309903  0.316709  0.223773  0.109157   \n",
       "\n",
       "          5         6         7  ...       758       759       760       761  \\\n",
       "0  0.046327  0.037840 -0.032731  ... -0.014857 -0.016552 -0.052116 -0.004263   \n",
       "1 -0.237495  0.047650  0.112116  ...  0.144136  0.080755 -0.139573  0.109958   \n",
       "2 -0.002807  0.111406 -0.121830  ...  0.054639 -0.062679 -0.169757  0.149551   \n",
       "3  0.061950  0.090754 -0.174582  ...  0.049939 -0.017235  0.003510  0.235460   \n",
       "4 -0.093324  0.025721  0.305923  ...  0.074441 -0.056237 -0.207849 -0.195558   \n",
       "\n",
       "        762       763       764       765       766       767  \n",
       "0  0.039028 -0.049918  0.062206  0.071127 -0.019458  0.027716  \n",
       "1  0.129701 -0.080836  0.521953  0.058104  0.067146  0.097772  \n",
       "2  0.149531 -0.108723  0.232926  0.099749  0.009564  0.044398  \n",
       "3  0.036938  0.040474 -0.159992 -0.016670  0.036969 -0.046842  \n",
       "4  0.164199 -0.075206  0.441152 -0.006340  0.083455  0.136734  \n",
       "\n",
       "[5 rows x 770 columns]"
      ]
     },
     "execution_count": 76,
     "metadata": {},
     "output_type": "execute_result"
    }
   ],
   "source": [
    "# Get embeddings for test\n",
    "p = [group for group in embeddings_te]\n",
    "\n",
    "b = [item for sublist in [[list(t) for t in zip(sublist[0], sublist[1])] for sublist in p] for item in sublist]\n",
    "df = pd.DataFrame(b, columns = ['id', 'embeddings'])  \n",
    "\n",
    "bert_embeddings_df_test = pd.concat([df['id'], df['embeddings'].apply(pd.Series)], axis = 1)\n",
    "bert_embeddings_df_test['id'] = bert_embeddings_df_test['id'].apply(lambda x: x.item())\n",
    "#bert_embeddings_df_test = pd.merge(df_test.drop(['text'], axis=1), bert_embeddings_df_test, left_on = [\"id\"], right_on = [\"id\"])\n",
    "bert_embeddings_df_test = pd.merge(df_test.drop(['text'], axis=1), bert_embeddings_df_test.drop(['id'], axis=1), left_index=True, right_index=True)\n",
    "print('DONE.')\n",
    "bert_embeddings_df_test.head()"
   ]
  },
  {
   "cell_type": "code",
   "execution_count": 77,
   "metadata": {
    "execution": {
     "iopub.execute_input": "2021-05-17T14:04:59.698478Z",
     "iopub.status.busy": "2021-05-17T14:04:59.697691Z",
     "iopub.status.idle": "2021-05-17T14:04:59.700661Z",
     "shell.execute_reply": "2021-05-17T14:04:59.700175Z"
    },
    "papermill": {
     "duration": 0.107877,
     "end_time": "2021-05-17T14:04:59.700776",
     "exception": false,
     "start_time": "2021-05-17T14:04:59.592899",
     "status": "completed"
    },
    "tags": []
   },
   "outputs": [],
   "source": [
    "bert_embeddings_df_test['user.id'] = bert_embeddings_df_test['user.id'].astype('str')\n",
    "bert_embeddings_df_test['user.id'] = bert_embeddings_df_test['user.id'].apply(lambda x: \"'\" + x + \"'\")"
   ]
  },
  {
   "cell_type": "code",
   "execution_count": 78,
   "metadata": {
    "execution": {
     "iopub.execute_input": "2021-05-17T14:04:59.897438Z",
     "iopub.status.busy": "2021-05-17T14:04:59.896598Z",
     "iopub.status.idle": "2021-05-17T14:04:59.901327Z",
     "shell.execute_reply": "2021-05-17T14:04:59.900799Z"
    },
    "papermill": {
     "duration": 0.105566,
     "end_time": "2021-05-17T14:04:59.901437",
     "exception": false,
     "start_time": "2021-05-17T14:04:59.795871",
     "status": "completed"
    },
    "tags": []
   },
   "outputs": [
    {
     "name": "stdout",
     "output_type": "stream",
     "text": [
      "full train: 2779 unique ids train: 513\n"
     ]
    }
   ],
   "source": [
    "print(\"full train:\", len(bert_embeddings_df_test), \"unique ids train:\", len(bert_embeddings_df_test['user.id'].unique()))"
   ]
  },
  {
   "cell_type": "code",
   "execution_count": 79,
   "metadata": {
    "execution": {
     "iopub.execute_input": "2021-05-17T14:05:00.102969Z",
     "iopub.status.busy": "2021-05-17T14:05:00.101967Z",
     "iopub.status.idle": "2021-05-17T14:05:03.635691Z",
     "shell.execute_reply": "2021-05-17T14:05:03.634666Z"
    },
    "papermill": {
     "duration": 3.639789,
     "end_time": "2021-05-17T14:05:03.635810",
     "exception": false,
     "start_time": "2021-05-17T14:04:59.996021",
     "status": "completed"
    },
    "tags": []
   },
   "outputs": [],
   "source": [
    "bert_embeddings_df_test.to_csv('labse_test_embeddings_df_full.csv', index=False, encoding = \"utf_8_sig\")"
   ]
  },
  {
   "cell_type": "code",
   "execution_count": 80,
   "metadata": {
    "execution": {
     "iopub.execute_input": "2021-05-17T14:05:04.020441Z",
     "iopub.status.busy": "2021-05-17T14:05:04.019700Z",
     "iopub.status.idle": "2021-05-17T14:05:04.025348Z",
     "shell.execute_reply": "2021-05-17T14:05:04.024665Z"
    },
    "papermill": {
     "duration": 0.289644,
     "end_time": "2021-05-17T14:05:04.025483",
     "exception": false,
     "start_time": "2021-05-17T14:05:03.735839",
     "status": "completed"
    },
    "tags": []
   },
   "outputs": [
    {
     "name": "stdout",
     "output_type": "stream",
     "text": [
      "Positive samples: 639 of 9492 (6.73%)\n"
     ]
    }
   ],
   "source": [
    "print('Positive samples: %d of %d (%.2f%%)' % (df_train.suspended.sum(), len(df_train.suspended), (df_train.suspended.sum() / len(df_train.suspended) * 100.0)))"
   ]
  },
  {
   "cell_type": "code",
   "execution_count": 81,
   "metadata": {
    "execution": {
     "iopub.execute_input": "2021-05-17T14:05:04.232761Z",
     "iopub.status.busy": "2021-05-17T14:05:04.231865Z",
     "iopub.status.idle": "2021-05-17T14:05:04.481485Z",
     "shell.execute_reply": "2021-05-17T14:05:04.481008Z"
    },
    "papermill": {
     "duration": 0.355897,
     "end_time": "2021-05-17T14:05:04.481589",
     "exception": false,
     "start_time": "2021-05-17T14:05:04.125692",
     "status": "completed"
    },
    "tags": []
   },
   "outputs": [
    {
     "name": "stdout",
     "output_type": "stream",
     "text": [
      "Calculating Matthews Corr. Coef. for each batch...\n"
     ]
    },
    {
     "name": "stderr",
     "output_type": "stream",
     "text": [
      "/opt/conda/lib/python3.7/site-packages/sklearn/metrics/_classification.py:846: RuntimeWarning:\n",
      "\n",
      "invalid value encountered in double_scalars\n",
      "\n"
     ]
    }
   ],
   "source": [
    "from sklearn.metrics import matthews_corrcoef\n",
    "matthews_set = []\n",
    "# Evaluate each test batch using Matthew's correlation coefficient\n",
    "print('Calculating Matthews Corr. Coef. for each batch...')\n",
    "# For each input batch...\n",
    "for i in range(len(true_labels)):\n",
    "  \n",
    "    # The predictions for this batch are a 2-column ndarray (one column for \"0\" \n",
    "    # and one column for \"1\"). Pick the label with the highest value and turn this\n",
    "    # in to a list of 0s and 1s.\n",
    "    pred_labels_i = np.argmax(predictions[i], axis=1).flatten()\n",
    "\n",
    "    # Calculate and store the coef for this batch.  \n",
    "    matthews = matthews_corrcoef(true_labels[i], pred_labels_i)                \n",
    "    matthews_set.append(matthews)"
   ]
  },
  {
   "cell_type": "code",
   "execution_count": 82,
   "metadata": {
    "execution": {
     "iopub.execute_input": "2021-05-17T14:05:04.687605Z",
     "iopub.status.busy": "2021-05-17T14:05:04.686865Z",
     "iopub.status.idle": "2021-05-17T14:05:04.700466Z",
     "shell.execute_reply": "2021-05-17T14:05:04.700872Z"
    },
    "papermill": {
     "duration": 0.117252,
     "end_time": "2021-05-17T14:05:04.700994",
     "exception": false,
     "start_time": "2021-05-17T14:05:04.583742",
     "status": "completed"
    },
    "tags": []
   },
   "outputs": [
    {
     "name": "stdout",
     "output_type": "stream",
     "text": [
      "MCC: -0.014\n"
     ]
    }
   ],
   "source": [
    "# Combine the predictions for each batch into a single list of 0s and 1s.\n",
    "flat_predictions = [item for sublist in predictions for item in sublist]\n",
    "flat_predictions = np.argmax(flat_predictions, axis=1).flatten()\n",
    "# Combine the correct labels for each batch into a single list.\n",
    "flat_true_labels = [item for sublist in true_labels for item in sublist]\n",
    "# Calculate the MCC\n",
    "mcc = matthews_corrcoef(flat_true_labels, flat_predictions)\n",
    "print('MCC: %.3f' % mcc)"
   ]
  },
  {
   "cell_type": "code",
   "execution_count": 83,
   "metadata": {
    "execution": {
     "iopub.execute_input": "2021-05-17T14:05:04.944238Z",
     "iopub.status.busy": "2021-05-17T14:05:04.943400Z",
     "iopub.status.idle": "2021-05-17T14:05:04.953594Z",
     "shell.execute_reply": "2021-05-17T14:05:04.953190Z"
    },
    "papermill": {
     "duration": 0.146059,
     "end_time": "2021-05-17T14:05:04.953682",
     "exception": false,
     "start_time": "2021-05-17T14:05:04.807623",
     "status": "completed"
    },
    "tags": []
   },
   "outputs": [
    {
     "name": "stdout",
     "output_type": "stream",
     "text": [
      "              precision    recall  f1-score   support\n",
      "\n",
      "           0       0.96      1.00      0.97      2655\n",
      "           1       0.00      0.00      0.00       124\n",
      "\n",
      "    accuracy                           0.95      2779\n",
      "   macro avg       0.48      0.50      0.49      2779\n",
      "weighted avg       0.91      0.95      0.93      2779\n",
      "\n"
     ]
    }
   ],
   "source": [
    "report = classification_report(flat_true_labels, flat_predictions)\n",
    "print(report)"
   ]
  },
  {
   "cell_type": "code",
   "execution_count": 84,
   "metadata": {
    "execution": {
     "iopub.execute_input": "2021-05-17T14:05:05.155013Z",
     "iopub.status.busy": "2021-05-17T14:05:05.154136Z",
     "iopub.status.idle": "2021-05-17T14:05:05.288457Z",
     "shell.execute_reply": "2021-05-17T14:05:05.288921Z"
    },
    "papermill": {
     "duration": 0.23909,
     "end_time": "2021-05-17T14:05:05.289043",
     "exception": false,
     "start_time": "2021-05-17T14:05:05.049953",
     "status": "completed"
    },
    "tags": []
   },
   "outputs": [
    {
     "data": {
      "image/png": "[encoded data removed]",
      "text/plain": [
       "<Figure size 576x432 with 1 Axes>"
      ]
     },
     "metadata": {
      "needs_background": "light"
     },
     "output_type": "display_data"
    }
   ],
   "source": [
    "fpr, tpr, thresholds = roc_curve(flat_true_labels, flat_predictions)\n",
    "plt.figure(figsize=(8, 6))                         # Not shown\n",
    "plot_roc_curve(fpr, tpr)\n",
    "plt.plot([4.837e-3, 4.837e-3], [0., 0.4368], \"r:\") # Not shown\n",
    "plt.plot([0.0, 4.837e-3], [0.4368, 0.4368], \"r:\")  # Not shown\n",
    "plt.plot([4.837e-3], [0.4368], \"ro\")               # Not shown\n",
    "plt.show()"
   ]
  },
  {
   "cell_type": "code",
   "execution_count": 85,
   "metadata": {
    "execution": {
     "iopub.execute_input": "2021-05-17T14:05:05.501716Z",
     "iopub.status.busy": "2021-05-17T14:05:05.500850Z",
     "iopub.status.idle": "2021-05-17T14:05:05.506981Z",
     "shell.execute_reply": "2021-05-17T14:05:05.506578Z"
    },
    "papermill": {
     "duration": 0.107696,
     "end_time": "2021-05-17T14:05:05.507070",
     "exception": false,
     "start_time": "2021-05-17T14:05:05.399374",
     "status": "completed"
    },
    "tags": []
   },
   "outputs": [
    {
     "data": {
      "text/plain": [
       "0.4977401129943503"
      ]
     },
     "execution_count": 85,
     "metadata": {},
     "output_type": "execute_result"
    }
   ],
   "source": [
    "roc_auc_score(flat_true_labels, flat_predictions)"
   ]
  },
  {
   "cell_type": "markdown",
   "metadata": {
    "papermill": {
     "duration": 0.098692,
     "end_time": "2021-05-17T14:05:05.703201",
     "exception": false,
     "start_time": "2021-05-17T14:05:05.604509",
     "status": "completed"
    },
    "tags": []
   },
   "source": [
    "### Aggregate Predictions to Account Level"
   ]
  },
  {
   "cell_type": "code",
   "execution_count": 86,
   "metadata": {
    "execution": {
     "iopub.execute_input": "2021-05-17T14:05:05.906692Z",
     "iopub.status.busy": "2021-05-17T14:05:05.906115Z",
     "iopub.status.idle": "2021-05-17T14:05:05.909947Z",
     "shell.execute_reply": "2021-05-17T14:05:05.909534Z"
    },
    "papermill": {
     "duration": 0.108829,
     "end_time": "2021-05-17T14:05:05.910039",
     "exception": false,
     "start_time": "2021-05-17T14:05:05.801210",
     "status": "completed"
    },
    "tags": []
   },
   "outputs": [],
   "source": [
    "# Generate class predictions at the account level \n",
    "def predict_tweet_text(predictions, df_overlap, df_full):\n",
    "    df = pd.DataFrame(predictions, columns = ['pred'])\n",
    "    df_2 = pd.merge(df_overlap, df, left_index=True, right_index=True)\n",
    "    df_fm = df_full[['user.screen_name','user.id']].drop_duplicates(subset=['user.screen_name','user.id'])\n",
    "    df_3 = pd.merge(df_fm, df_2, left_on='user.id', right_on='user.id')\n",
    "    df_3 = df_3.sort_values(by=['pred'], ascending=False)\n",
    "    return df_3"
   ]
  },
  {
   "cell_type": "code",
   "execution_count": 87,
   "metadata": {
    "execution": {
     "iopub.execute_input": "2021-05-17T14:05:06.114552Z",
     "iopub.status.busy": "2021-05-17T14:05:06.113744Z",
     "iopub.status.idle": "2021-05-17T14:05:06.139797Z",
     "shell.execute_reply": "2021-05-17T14:05:06.140228Z"
    },
    "papermill": {
     "duration": 0.133507,
     "end_time": "2021-05-17T14:05:06.140341",
     "exception": false,
     "start_time": "2021-05-17T14:05:06.006834",
     "status": "completed"
    },
    "tags": []
   },
   "outputs": [
    {
     "data": {
      "text/html": [
       "<div>\n",
       "<style scoped>\n",
       "    .dataframe tbody tr th:only-of-type {\n",
       "        vertical-align: middle;\n",
       "    }\n",
       "\n",
       "    .dataframe tbody tr th {\n",
       "        vertical-align: top;\n",
       "    }\n",
       "\n",
       "    .dataframe thead th {\n",
       "        text-align: right;\n",
       "    }\n",
       "</style>\n",
       "<table border=\"1\" class=\"dataframe\">\n",
       "  <thead>\n",
       "    <tr style=\"text-align: right;\">\n",
       "      <th></th>\n",
       "      <th>user.screen_name</th>\n",
       "      <th>user.id</th>\n",
       "      <th>text</th>\n",
       "      <th>suspended</th>\n",
       "      <th>pred</th>\n",
       "    </tr>\n",
       "  </thead>\n",
       "  <tbody>\n",
       "    <tr>\n",
       "      <th>994</th>\n",
       "      <td>MustafaKhan1313</td>\n",
       "      <td>1.280436e+18</td>\n",
       "      <td>create the largest water park in the worl… RT ...</td>\n",
       "      <td>0</td>\n",
       "      <td>1</td>\n",
       "    </tr>\n",
       "    <tr>\n",
       "      <th>683</th>\n",
       "      <td>RizwanPSP</td>\n",
       "      <td>1.279840e+18</td>\n",
       "      <td>ہوئے https://t.co/yOGONzqvkg RT @Xadeejournali...</td>\n",
       "      <td>0</td>\n",
       "      <td>1</td>\n",
       "    </tr>\n",
       "    <tr>\n",
       "      <th>509</th>\n",
       "      <td>chhatrabista10</td>\n",
       "      <td>1.279463e+18</td>\n",
       "      <td>Sikkim and Jammu Kashmir was capture by Indian...</td>\n",
       "      <td>0</td>\n",
       "      <td>1</td>\n",
       "    </tr>\n",
       "    <tr>\n",
       "      <th>2447</th>\n",
       "      <td>fullaheadspeed</td>\n",
       "      <td>1.285116e+18</td>\n",
       "      <td>India must be accepted as a permanent member o...</td>\n",
       "      <td>0</td>\n",
       "      <td>1</td>\n",
       "    </tr>\n",
       "    <tr>\n",
       "      <th>839</th>\n",
       "      <td>Interservicein2</td>\n",
       "      <td>1.280228e+18</td>\n",
       "      <td>which killed A… https://t.co/0Ce6y8lGWK The Ac...</td>\n",
       "      <td>0</td>\n",
       "      <td>1</td>\n",
       "    </tr>\n",
       "  </tbody>\n",
       "</table>\n",
       "</div>"
      ],
      "text/plain": [
       "     user.screen_name       user.id  \\\n",
       "994   MustafaKhan1313  1.280436e+18   \n",
       "683         RizwanPSP  1.279840e+18   \n",
       "509    chhatrabista10  1.279463e+18   \n",
       "2447   fullaheadspeed  1.285116e+18   \n",
       "839   Interservicein2  1.280228e+18   \n",
       "\n",
       "                                                   text  suspended  pred  \n",
       "994   create the largest water park in the worl… RT ...          0     1  \n",
       "683   ہوئے https://t.co/yOGONzqvkg RT @Xadeejournali...          0     1  \n",
       "509   Sikkim and Jammu Kashmir was capture by Indian...          0     1  \n",
       "2447  India must be accepted as a permanent member o...          0     1  \n",
       "839   which killed A… https://t.co/0Ce6y8lGWK The Ac...          0     1  "
      ]
     },
     "execution_count": 87,
     "metadata": {},
     "output_type": "execute_result"
    }
   ],
   "source": [
    "test_preds_tweets = predict_tweet_text(flat_predictions, df_test, df_test_f)\n",
    "test_preds_tweets.head()"
   ]
  },
  {
   "cell_type": "code",
   "execution_count": 88,
   "metadata": {
    "execution": {
     "iopub.execute_input": "2021-05-17T14:05:06.344164Z",
     "iopub.status.busy": "2021-05-17T14:05:06.343398Z",
     "iopub.status.idle": "2021-05-17T14:05:06.502153Z",
     "shell.execute_reply": "2021-05-17T14:05:06.501686Z"
    },
    "papermill": {
     "duration": 0.262988,
     "end_time": "2021-05-17T14:05:06.502252",
     "exception": false,
     "start_time": "2021-05-17T14:05:06.239264",
     "status": "completed"
    },
    "tags": []
   },
   "outputs": [],
   "source": [
    "test_preds_tweets.to_csv('test_preds_tweets_labse.csv', index=False, encoding = \"utf_8_sig\")"
   ]
  },
  {
   "cell_type": "code",
   "execution_count": 89,
   "metadata": {
    "execution": {
     "iopub.execute_input": "2021-05-17T14:05:06.705828Z",
     "iopub.status.busy": "2021-05-17T14:05:06.705080Z",
     "iopub.status.idle": "2021-05-17T14:05:06.707949Z",
     "shell.execute_reply": "2021-05-17T14:05:06.707539Z"
    },
    "papermill": {
     "duration": 0.107561,
     "end_time": "2021-05-17T14:05:06.708039",
     "exception": false,
     "start_time": "2021-05-17T14:05:06.600478",
     "status": "completed"
    },
    "tags": []
   },
   "outputs": [],
   "source": [
    "# Generate class predictions at the account level \n",
    "def predict_account(pred_tt):\n",
    "    df_4 = pred_tt[['user.screen_name', 'suspended','pred']].groupby('user.screen_name').agg(['sum', 'mean'])\n",
    "    df_4.drop(('suspended', 'sum'), axis = 1, inplace = True)\n",
    "    df_4.columns = [' '.join(col).strip() for col in df_4.columns.values]\n",
    "    df_4.reset_index(level=0, inplace=True)\n",
    "    df_4.columns = [\"user.screen_name\",\"suspended_label\", \"total_pre_prob\",\"mean_pred_prob\"]\n",
    "    df_4['pred_class'] = np.where(df_4['mean_pred_prob'] > 0.25, 1,0) # Use lighter threshold as not all tweets get an account suspended. \n",
    "    df_4 = df_4.sort_values(by=['total_pre_prob'], ascending=False)\n",
    "\n",
    "    return df_4"
   ]
  },
  {
   "cell_type": "code",
   "execution_count": 90,
   "metadata": {
    "execution": {
     "iopub.execute_input": "2021-05-17T14:05:06.909871Z",
     "iopub.status.busy": "2021-05-17T14:05:06.909064Z",
     "iopub.status.idle": "2021-05-17T14:05:06.948528Z",
     "shell.execute_reply": "2021-05-17T14:05:06.949012Z"
    },
    "papermill": {
     "duration": 0.143518,
     "end_time": "2021-05-17T14:05:06.949139",
     "exception": false,
     "start_time": "2021-05-17T14:05:06.805621",
     "status": "completed"
    },
    "tags": []
   },
   "outputs": [
    {
     "data": {
      "text/html": [
       "<div>\n",
       "<style scoped>\n",
       "    .dataframe tbody tr th:only-of-type {\n",
       "        vertical-align: middle;\n",
       "    }\n",
       "\n",
       "    .dataframe tbody tr th {\n",
       "        vertical-align: top;\n",
       "    }\n",
       "\n",
       "    .dataframe thead th {\n",
       "        text-align: right;\n",
       "    }\n",
       "</style>\n",
       "<table border=\"1\" class=\"dataframe\">\n",
       "  <thead>\n",
       "    <tr style=\"text-align: right;\">\n",
       "      <th></th>\n",
       "      <th>user.screen_name</th>\n",
       "      <th>suspended_label</th>\n",
       "      <th>total_pre_prob</th>\n",
       "      <th>mean_pred_prob</th>\n",
       "      <th>pred_class</th>\n",
       "    </tr>\n",
       "  </thead>\n",
       "  <tbody>\n",
       "    <tr>\n",
       "      <th>367</th>\n",
       "      <td>fullaheadspeed</td>\n",
       "      <td>0</td>\n",
       "      <td>5</td>\n",
       "      <td>0.028090</td>\n",
       "      <td>0</td>\n",
       "    </tr>\n",
       "    <tr>\n",
       "      <th>204</th>\n",
       "      <td>MustafaKhan1313</td>\n",
       "      <td>0</td>\n",
       "      <td>2</td>\n",
       "      <td>0.011628</td>\n",
       "      <td>0</td>\n",
       "    </tr>\n",
       "    <tr>\n",
       "      <th>473</th>\n",
       "      <td>theindiancentr1</td>\n",
       "      <td>0</td>\n",
       "      <td>1</td>\n",
       "      <td>0.020408</td>\n",
       "      <td>0</td>\n",
       "    </tr>\n",
       "    <tr>\n",
       "      <th>124</th>\n",
       "      <td>Interservicein2</td>\n",
       "      <td>0</td>\n",
       "      <td>1</td>\n",
       "      <td>0.008264</td>\n",
       "      <td>0</td>\n",
       "    </tr>\n",
       "    <tr>\n",
       "      <th>239</th>\n",
       "      <td>RizwanPSP</td>\n",
       "      <td>0</td>\n",
       "      <td>1</td>\n",
       "      <td>0.142857</td>\n",
       "      <td>0</td>\n",
       "    </tr>\n",
       "    <tr>\n",
       "      <th>...</th>\n",
       "      <td>...</td>\n",
       "      <td>...</td>\n",
       "      <td>...</td>\n",
       "      <td>...</td>\n",
       "      <td>...</td>\n",
       "    </tr>\n",
       "    <tr>\n",
       "      <th>167</th>\n",
       "      <td>Luk36442488</td>\n",
       "      <td>0</td>\n",
       "      <td>0</td>\n",
       "      <td>0.000000</td>\n",
       "      <td>0</td>\n",
       "    </tr>\n",
       "    <tr>\n",
       "      <th>166</th>\n",
       "      <td>Lobord_sc</td>\n",
       "      <td>0</td>\n",
       "      <td>0</td>\n",
       "      <td>0.000000</td>\n",
       "      <td>0</td>\n",
       "    </tr>\n",
       "    <tr>\n",
       "      <th>165</th>\n",
       "      <td>LloKjsKdOz9uSiy</td>\n",
       "      <td>0</td>\n",
       "      <td>0</td>\n",
       "      <td>0.000000</td>\n",
       "      <td>0</td>\n",
       "    </tr>\n",
       "    <tr>\n",
       "      <th>164</th>\n",
       "      <td>LiuHanry</td>\n",
       "      <td>0</td>\n",
       "      <td>0</td>\n",
       "      <td>0.000000</td>\n",
       "      <td>0</td>\n",
       "    </tr>\n",
       "    <tr>\n",
       "      <th>512</th>\n",
       "      <td>zzzzzzh15</td>\n",
       "      <td>0</td>\n",
       "      <td>0</td>\n",
       "      <td>0.000000</td>\n",
       "      <td>0</td>\n",
       "    </tr>\n",
       "  </tbody>\n",
       "</table>\n",
       "<p>513 rows × 5 columns</p>\n",
       "</div>"
      ],
      "text/plain": [
       "    user.screen_name  suspended_label  total_pre_prob  mean_pred_prob  \\\n",
       "367   fullaheadspeed                0               5        0.028090   \n",
       "204  MustafaKhan1313                0               2        0.011628   \n",
       "473  theindiancentr1                0               1        0.020408   \n",
       "124  Interservicein2                0               1        0.008264   \n",
       "239        RizwanPSP                0               1        0.142857   \n",
       "..               ...              ...             ...             ...   \n",
       "167      Luk36442488                0               0        0.000000   \n",
       "166        Lobord_sc                0               0        0.000000   \n",
       "165  LloKjsKdOz9uSiy                0               0        0.000000   \n",
       "164         LiuHanry                0               0        0.000000   \n",
       "512        zzzzzzh15                0               0        0.000000   \n",
       "\n",
       "     pred_class  \n",
       "367           0  \n",
       "204           0  \n",
       "473           0  \n",
       "124           0  \n",
       "239           0  \n",
       "..          ...  \n",
       "167           0  \n",
       "166           0  \n",
       "165           0  \n",
       "164           0  \n",
       "512           0  \n",
       "\n",
       "[513 rows x 5 columns]"
      ]
     },
     "execution_count": 90,
     "metadata": {},
     "output_type": "execute_result"
    }
   ],
   "source": [
    "test_account_preds_tweettext = predict_account(test_preds_tweets)\n",
    "test_account_preds_tweettext"
   ]
  },
  {
   "cell_type": "markdown",
   "metadata": {
    "papermill": {
     "duration": 0.096862,
     "end_time": "2021-05-17T14:05:07.143534",
     "exception": false,
     "start_time": "2021-05-17T14:05:07.046672",
     "status": "completed"
    },
    "tags": []
   },
   "source": [
    "### Confusion Matrix for Account Classification"
   ]
  },
  {
   "cell_type": "code",
   "execution_count": 91,
   "metadata": {
    "execution": {
     "iopub.execute_input": "2021-05-17T14:05:07.345226Z",
     "iopub.status.busy": "2021-05-17T14:05:07.344392Z",
     "iopub.status.idle": "2021-05-17T14:05:07.352706Z",
     "shell.execute_reply": "2021-05-17T14:05:07.353332Z"
    },
    "papermill": {
     "duration": 0.111828,
     "end_time": "2021-05-17T14:05:07.353476",
     "exception": false,
     "start_time": "2021-05-17T14:05:07.241648",
     "status": "completed"
    },
    "tags": []
   },
   "outputs": [
    {
     "name": "stdout",
     "output_type": "stream",
     "text": [
      "              precision    recall  f1-score   support\n",
      "\n",
      "           0       0.93      1.00      0.96       479\n",
      "           1       0.00      0.00      0.00        34\n",
      "\n",
      "    accuracy                           0.93       513\n",
      "   macro avg       0.47      0.50      0.48       513\n",
      "weighted avg       0.87      0.93      0.90       513\n",
      "\n"
     ]
    }
   ],
   "source": [
    "#report = classification_report(np.array(test_labels), predictions)\n",
    "report_te = classification_report(np.array(test_account_preds_tweettext['suspended_label']), np.array(test_account_preds_tweettext['pred_class']))\n",
    "print(report_te)"
   ]
  },
  {
   "cell_type": "code",
   "execution_count": 92,
   "metadata": {
    "execution": {
     "iopub.execute_input": "2021-05-17T14:05:07.559013Z",
     "iopub.status.busy": "2021-05-17T14:05:07.558186Z",
     "iopub.status.idle": "2021-05-17T14:05:07.686906Z",
     "shell.execute_reply": "2021-05-17T14:05:07.687375Z"
    },
    "papermill": {
     "duration": 0.234342,
     "end_time": "2021-05-17T14:05:07.687497",
     "exception": false,
     "start_time": "2021-05-17T14:05:07.453155",
     "status": "completed"
    },
    "tags": []
   },
   "outputs": [
    {
     "data": {
      "image/png": "[encoded data removed]",
      "text/plain": [
       "<Figure size 576x432 with 1 Axes>"
      ]
     },
     "metadata": {
      "needs_background": "light"
     },
     "output_type": "display_data"
    }
   ],
   "source": [
    "fpr, tpr, thresholds = roc_curve(np.array(test_account_preds_tweettext['suspended_label']), np.array(test_account_preds_tweettext['pred_class']))\n",
    "plt.figure(figsize=(8, 6))                         # Not shown\n",
    "plot_roc_curve(fpr, tpr)\n",
    "plt.plot([4.837e-3, 4.837e-3], [0., 0.4368], \"r:\") # Not shown\n",
    "plt.plot([0.0, 4.837e-3], [0.4368, 0.4368], \"r:\")  # Not shown\n",
    "plt.plot([4.837e-3], [0.4368], \"ro\")               # Not shown\n",
    "plt.show()"
   ]
  },
  {
   "cell_type": "code",
   "execution_count": 93,
   "metadata": {
    "execution": {
     "iopub.execute_input": "2021-05-17T14:05:07.898949Z",
     "iopub.status.busy": "2021-05-17T14:05:07.898042Z",
     "iopub.status.idle": "2021-05-17T14:05:07.904192Z",
     "shell.execute_reply": "2021-05-17T14:05:07.903665Z"
    },
    "papermill": {
     "duration": 0.111583,
     "end_time": "2021-05-17T14:05:07.904282",
     "exception": false,
     "start_time": "2021-05-17T14:05:07.792699",
     "status": "completed"
    },
    "tags": []
   },
   "outputs": [
    {
     "data": {
      "text/plain": [
       "0.4979123173277662"
      ]
     },
     "execution_count": 93,
     "metadata": {},
     "output_type": "execute_result"
    }
   ],
   "source": [
    "roc_auc_score(np.array(test_account_preds_tweettext['suspended_label']), np.array(test_account_preds_tweettext['pred_class']))"
   ]
  },
  {
   "cell_type": "code",
   "execution_count": 94,
   "metadata": {
    "execution": {
     "iopub.execute_input": "2021-05-17T14:05:08.113914Z",
     "iopub.status.busy": "2021-05-17T14:05:08.110882Z",
     "iopub.status.idle": "2021-05-17T14:05:08.116544Z",
     "shell.execute_reply": "2021-05-17T14:05:08.115999Z"
    },
    "papermill": {
     "duration": 0.112342,
     "end_time": "2021-05-17T14:05:08.116633",
     "exception": false,
     "start_time": "2021-05-17T14:05:08.004291",
     "status": "completed"
    },
    "tags": []
   },
   "outputs": [],
   "source": [
    "test_account_preds_tweettext.to_csv('test_account_preds_tweettext_labse.csv', index=False, encoding = \"utf_8_sig\")"
   ]
  }
 ],
 "metadata": {
  "kernelspec": {
   "display_name": "Python 3",
   "language": "python",
   "name": "python3"
  },
  "language_info": {
   "codemirror_mode": {
    "name": "ipython",
    "version": 3
   },
   "file_extension": ".py",
   "mimetype": "text/x-python",
   "name": "python",
   "nbconvert_exporter": "python",
   "pygments_lexer": "ipython3",
   "version": "3.7.6"
  },
  "papermill": {
   "duration": 676.956068,
   "end_time": "2021-05-17T14:05:08.432350",
   "environment_variables": {},
   "exception": null,
   "input_path": "__notebook__.ipynb",
   "output_path": "__notebook__.ipynb",
   "parameters": {},
   "start_time": "2021-05-17T13:53:51.476282",
   "version": "2.1.0"
  },
  "widgets": {
   "application/vnd.jupyter.widget-state+json": {
    "state": {
     "037a2b832f9a46c5bf775cf24d91650f": {
      "model_module": "@jupyter-widgets/base",
      "model_module_version": "1.2.0",
      "model_name": "LayoutModel",
      "state": {
       "_model_module": "@jupyter-widgets/base",
       "_model_module_version": "1.2.0",
       "_model_name": "LayoutModel",
       "_view_count": null,
       "_view_module": "@jupyter-widgets/base",
       "_view_module_version": "1.2.0",
       "_view_name": "LayoutView",
       "align_content": null,
       "align_items": null,
       "align_self": null,
       "border": null,
       "bottom": null,
       "display": null,
       "flex": null,
       "flex_flow": null,
       "grid_area": null,
       "grid_auto_columns": null,
       "grid_auto_flow": null,
       "grid_auto_rows": null,
       "grid_column": null,
       "grid_gap": null,
       "grid_row": null,
       "grid_template_areas": null,
       "grid_template_columns": null,
       "grid_template_rows": null,
       "height": null,
       "justify_content": null,
       "justify_items": null,
       "left": null,
       "margin": null,
       "max_height": null,
       "max_width": null,
       "min_height": null,
       "min_width": null,
       "object_fit": null,
       "object_position": null,
       "order": null,
       "overflow": null,
       "overflow_x": null,
       "overflow_y": null,
       "padding": null,
       "right": null,
       "top": null,
       "visibility": null,
       "width": null
      }
     },
     "1389f6a96f0e438a84657ec9f723d608": {
      "model_module": "@jupyter-widgets/base",
      "model_module_version": "1.2.0",
      "model_name": "LayoutModel",
      "state": {
       "_model_module": "@jupyter-widgets/base",
       "_model_module_version": "1.2.0",
       "_model_name": "LayoutModel",
       "_view_count": null,
       "_view_module": "@jupyter-widgets/base",
       "_view_module_version": "1.2.0",
       "_view_name": "LayoutView",
       "align_content": null,
       "align_items": null,
       "align_self": null,
       "border": null,
       "bottom": null,
       "display": null,
       "flex": null,
       "flex_flow": null,
       "grid_area": null,
       "grid_auto_columns": null,
       "grid_auto_flow": null,
       "grid_auto_rows": null,
       "grid_column": null,
       "grid_gap": null,
       "grid_row": null,
       "grid_template_areas": null,
       "grid_template_columns": null,
       "grid_template_rows": null,
       "height": null,
       "justify_content": null,
       "justify_items": null,
       "left": null,
       "margin": null,
       "max_height": null,
       "max_width": null,
       "min_height": null,
       "min_width": null,
       "object_fit": null,
       "object_position": null,
       "order": null,
       "overflow": null,
       "overflow_x": null,
       "overflow_y": null,
       "padding": null,
       "right": null,
       "top": null,
       "visibility": null,
       "width": null
      }
     },
     "1669bd38238c449cbbeb893b7ec00b27": {
      "model_module": "@jupyter-widgets/controls",
      "model_module_version": "1.5.0",
      "model_name": "DescriptionStyleModel",
      "state": {
       "_model_module": "@jupyter-widgets/controls",
       "_model_module_version": "1.5.0",
       "_model_name": "DescriptionStyleModel",
       "_view_count": null,
       "_view_module": "@jupyter-widgets/base",
       "_view_module_version": "1.2.0",
       "_view_name": "StyleView",
       "description_width": ""
      }
     },
     "2359db619f614eb3875419f592b3b8f3": {
      "model_module": "@jupyter-widgets/controls",
      "model_module_version": "1.5.0",
      "model_name": "ProgressStyleModel",
      "state": {
       "_model_module": "@jupyter-widgets/controls",
       "_model_module_version": "1.5.0",
       "_model_name": "ProgressStyleModel",
       "_view_count": null,
       "_view_module": "@jupyter-widgets/base",
       "_view_module_version": "1.2.0",
       "_view_name": "StyleView",
       "bar_color": null,
       "description_width": "initial"
      }
     },
     "30110a8174334feabbf0e40106ed5958": {
      "model_module": "@jupyter-widgets/controls",
      "model_module_version": "1.5.0",
      "model_name": "DescriptionStyleModel",
      "state": {
       "_model_module": "@jupyter-widgets/controls",
       "_model_module_version": "1.5.0",
       "_model_name": "DescriptionStyleModel",
       "_view_count": null,
       "_view_module": "@jupyter-widgets/base",
       "_view_module_version": "1.2.0",
       "_view_name": "StyleView",
       "description_width": ""
      }
     },
     "35c30d2137fa4161b5d0c88681fec097": {
      "model_module": "@jupyter-widgets/controls",
      "model_module_version": "1.5.0",
      "model_name": "HTMLModel",
      "state": {
       "_dom_classes": [],
       "_model_module": "@jupyter-widgets/controls",
       "_model_module_version": "1.5.0",
       "_model_name": "HTMLModel",
       "_view_count": null,
       "_view_module": "@jupyter-widgets/controls",
       "_view_module_version": "1.5.0",
       "_view_name": "HTMLView",
       "description": "",
       "description_tooltip": null,
       "layout": "IPY_MODEL_cb06fb094dac43fd9fc6fc0b8c1bc64d",
       "placeholder": "​",
       "style": "IPY_MODEL_3efb5735e95c4b948e4221605d5c8aa0",
       "value": " 1.89G/1.89G [01:08&lt;00:00, 27.4MB/s]"
      }
     },
     "3c5a7b35e36c413783a998ebe28e228c": {
      "model_module": "@jupyter-widgets/base",
      "model_module_version": "1.2.0",
      "model_name": "LayoutModel",
      "state": {
       "_model_module": "@jupyter-widgets/base",
       "_model_module_version": "1.2.0",
       "_model_name": "LayoutModel",
       "_view_count": null,
       "_view_module": "@jupyter-widgets/base",
       "_view_module_version": "1.2.0",
       "_view_name": "LayoutView",
       "align_content": null,
       "align_items": null,
       "align_self": null,
       "border": null,
       "bottom": null,
       "display": null,
       "flex": null,
       "flex_flow": null,
       "grid_area": null,
       "grid_auto_columns": null,
       "grid_auto_flow": null,
       "grid_auto_rows": null,
       "grid_column": null,
       "grid_gap": null,
       "grid_row": null,
       "grid_template_areas": null,
       "grid_template_columns": null,
       "grid_template_rows": null,
       "height": null,
       "justify_content": null,
       "justify_items": null,
       "left": null,
       "margin": null,
       "max_height": null,
       "max_width": null,
       "min_height": null,
       "min_width": null,
       "object_fit": null,
       "object_position": null,
       "order": null,
       "overflow": null,
       "overflow_x": null,
       "overflow_y": null,
       "padding": null,
       "right": null,
       "top": null,
       "visibility": null,
       "width": null
      }
     },
     "3dced338c9874186a8c2ad393a7e673d": {
      "model_module": "@jupyter-widgets/controls",
      "model_module_version": "1.5.0",
      "model_name": "HTMLModel",
      "state": {
       "_dom_classes": [],
       "_model_module": "@jupyter-widgets/controls",
       "_model_module_version": "1.5.0",
       "_model_name": "HTMLModel",
       "_view_count": null,
       "_view_module": "@jupyter-widgets/controls",
       "_view_module_version": "1.5.0",
       "_view_name": "HTMLView",
       "description": "",
       "description_tooltip": null,
       "layout": "IPY_MODEL_f5cdbd4b0c4a45f583b5d305ed301ea7",
       "placeholder": "​",
       "style": "IPY_MODEL_30110a8174334feabbf0e40106ed5958",
       "value": " 112/112 [00:01&lt;00:00, 63.1B/s]"
      }
     },
     "3efb5735e95c4b948e4221605d5c8aa0": {
      "model_module": "@jupyter-widgets/controls",
      "model_module_version": "1.5.0",
      "model_name": "DescriptionStyleModel",
      "state": {
       "_model_module": "@jupyter-widgets/controls",
       "_model_module_version": "1.5.0",
       "_model_name": "DescriptionStyleModel",
       "_view_count": null,
       "_view_module": "@jupyter-widgets/base",
       "_view_module_version": "1.2.0",
       "_view_name": "StyleView",
       "description_width": ""
      }
     },
     "4011d0c36e294bcda490c700115c7acc": {
      "model_module": "@jupyter-widgets/base",
      "model_module_version": "1.2.0",
      "model_name": "LayoutModel",
      "state": {
       "_model_module": "@jupyter-widgets/base",
       "_model_module_version": "1.2.0",
       "_model_name": "LayoutModel",
       "_view_count": null,
       "_view_module": "@jupyter-widgets/base",
       "_view_module_version": "1.2.0",
       "_view_name": "LayoutView",
       "align_content": null,
       "align_items": null,
       "align_self": null,
       "border": null,
       "bottom": null,
       "display": null,
       "flex": null,
       "flex_flow": null,
       "grid_area": null,
       "grid_auto_columns": null,
       "grid_auto_flow": null,
       "grid_auto_rows": null,
       "grid_column": null,
       "grid_gap": null,
       "grid_row": null,
       "grid_template_areas": null,
       "grid_template_columns": null,
       "grid_template_rows": null,
       "height": null,
       "justify_content": null,
       "justify_items": null,
       "left": null,
       "margin": null,
       "max_height": null,
       "max_width": null,
       "min_height": null,
       "min_width": null,
       "object_fit": null,
       "object_position": null,
       "order": null,
       "overflow": null,
       "overflow_x": null,
       "overflow_y": null,
       "padding": null,
       "right": null,
       "top": null,
       "visibility": null,
       "width": null
      }
     },
     "42b0ff82cf9c480da39147e82d59a331": {
      "model_module": "@jupyter-widgets/controls",
      "model_module_version": "1.5.0",
      "model_name": "HTMLModel",
      "state": {
       "_dom_classes": [],
       "_model_module": "@jupyter-widgets/controls",
       "_model_module_version": "1.5.0",
       "_model_name": "HTMLModel",
       "_view_count": null,
       "_view_module": "@jupyter-widgets/controls",
       "_view_module_version": "1.5.0",
       "_view_name": "HTMLView",
       "description": "",
       "description_tooltip": null,
       "layout": "IPY_MODEL_b91064677b944528b9aac4ee3f8bf048",
       "placeholder": "​",
       "style": "IPY_MODEL_1669bd38238c449cbbeb893b7ec00b27",
       "value": " 5.22M/5.22M [00:01&lt;00:00, 2.88MB/s]"
      }
     },
     "471fe37b2f5742e79d5e7b33318739f0": {
      "model_module": "@jupyter-widgets/controls",
      "model_module_version": "1.5.0",
      "model_name": "FloatProgressModel",
      "state": {
       "_dom_classes": [],
       "_model_module": "@jupyter-widgets/controls",
       "_model_module_version": "1.5.0",
       "_model_name": "FloatProgressModel",
       "_view_count": null,
       "_view_module": "@jupyter-widgets/controls",
       "_view_module_version": "1.5.0",
       "_view_name": "ProgressView",
       "bar_style": "success",
       "description": "Downloading: 100%",
       "description_tooltip": null,
       "layout": "IPY_MODEL_9f59fc426bb24e88a4737005cd55da0f",
       "max": 472.0,
       "min": 0.0,
       "orientation": "horizontal",
       "style": "IPY_MODEL_9c157c86da3744568dfdc7ae9149916b",
       "value": 472.0
      }
     },
     "53a24ac0d6e94364ac58375045d73d36": {
      "model_module": "@jupyter-widgets/controls",
      "model_module_version": "1.5.0",
      "model_name": "HTMLModel",
      "state": {
       "_dom_classes": [],
       "_model_module": "@jupyter-widgets/controls",
       "_model_module_version": "1.5.0",
       "_model_name": "HTMLModel",
       "_view_count": null,
       "_view_module": "@jupyter-widgets/controls",
       "_view_module_version": "1.5.0",
       "_view_name": "HTMLView",
       "description": "",
       "description_tooltip": null,
       "layout": "IPY_MODEL_3c5a7b35e36c413783a998ebe28e228c",
       "placeholder": "​",
       "style": "IPY_MODEL_7d78503a580d43cdb776ee076d500b6a",
       "value": " 62.0/62.0 [00:00&lt;00:00, 62.8B/s]"
      }
     },
     "5579fb445dda49c2a22fdbc9ad28ac48": {
      "model_module": "@jupyter-widgets/controls",
      "model_module_version": "1.5.0",
      "model_name": "HBoxModel",
      "state": {
       "_dom_classes": [],
       "_model_module": "@jupyter-widgets/controls",
       "_model_module_version": "1.5.0",
       "_model_name": "HBoxModel",
       "_view_count": null,
       "_view_module": "@jupyter-widgets/controls",
       "_view_module_version": "1.5.0",
       "_view_name": "HBoxView",
       "box_style": "",
       "children": [
        "IPY_MODEL_673d61a94cf644bf8c98b071127b3861",
        "IPY_MODEL_42b0ff82cf9c480da39147e82d59a331"
       ],
       "layout": "IPY_MODEL_037a2b832f9a46c5bf775cf24d91650f"
      }
     },
     "673d61a94cf644bf8c98b071127b3861": {
      "model_module": "@jupyter-widgets/controls",
      "model_module_version": "1.5.0",
      "model_name": "FloatProgressModel",
      "state": {
       "_dom_classes": [],
       "_model_module": "@jupyter-widgets/controls",
       "_model_module_version": "1.5.0",
       "_model_name": "FloatProgressModel",
       "_view_count": null,
       "_view_module": "@jupyter-widgets/controls",
       "_view_module_version": "1.5.0",
       "_view_name": "ProgressView",
       "bar_style": "success",
       "description": "Downloading: 100%",
       "description_tooltip": null,
       "layout": "IPY_MODEL_fda535d7ecf4482dba59a94ff5ce3105",
       "max": 5220781.0,
       "min": 0.0,
       "orientation": "horizontal",
       "style": "IPY_MODEL_89cc422224194127a0c139b4a77e3a58",
       "value": 5220781.0
      }
     },
     "6a2bd24c3f3549229471d76e0847b493": {
      "model_module": "@jupyter-widgets/controls",
      "model_module_version": "1.5.0",
      "model_name": "HBoxModel",
      "state": {
       "_dom_classes": [],
       "_model_module": "@jupyter-widgets/controls",
       "_model_module_version": "1.5.0",
       "_model_name": "HBoxModel",
       "_view_count": null,
       "_view_module": "@jupyter-widgets/controls",
       "_view_module_version": "1.5.0",
       "_view_name": "HBoxView",
       "box_style": "",
       "children": [
        "IPY_MODEL_471fe37b2f5742e79d5e7b33318739f0",
        "IPY_MODEL_aca70e9f65114435aa7ae68fd5b0201d"
       ],
       "layout": "IPY_MODEL_c7702c227ba54c64ab9c365b58d6e36e"
      }
     },
     "6e35aeb652474b53ae02e0e2bfa499b8": {
      "model_module": "@jupyter-widgets/controls",
      "model_module_version": "1.5.0",
      "model_name": "FloatProgressModel",
      "state": {
       "_dom_classes": [],
       "_model_module": "@jupyter-widgets/controls",
       "_model_module_version": "1.5.0",
       "_model_name": "FloatProgressModel",
       "_view_count": null,
       "_view_module": "@jupyter-widgets/controls",
       "_view_module_version": "1.5.0",
       "_view_name": "ProgressView",
       "bar_style": "success",
       "description": "Downloading: 100%",
       "description_tooltip": null,
       "layout": "IPY_MODEL_a96d7ba07bf24e74b5ec32b405f6f23f",
       "max": 1888168867.0,
       "min": 0.0,
       "orientation": "horizontal",
       "style": "IPY_MODEL_7bed456cfc2c48aaa2e3a3790900cfa0",
       "value": 1888168867.0
      }
     },
     "72cc585569894e42a8e5a7ceda78d21c": {
      "model_module": "@jupyter-widgets/base",
      "model_module_version": "1.2.0",
      "model_name": "LayoutModel",
      "state": {
       "_model_module": "@jupyter-widgets/base",
       "_model_module_version": "1.2.0",
       "_model_name": "LayoutModel",
       "_view_count": null,
       "_view_module": "@jupyter-widgets/base",
       "_view_module_version": "1.2.0",
       "_view_name": "LayoutView",
       "align_content": null,
       "align_items": null,
       "align_self": null,
       "border": null,
       "bottom": null,
       "display": null,
       "flex": null,
       "flex_flow": null,
       "grid_area": null,
       "grid_auto_columns": null,
       "grid_auto_flow": null,
       "grid_auto_rows": null,
       "grid_column": null,
       "grid_gap": null,
       "grid_row": null,
       "grid_template_areas": null,
       "grid_template_columns": null,
       "grid_template_rows": null,
       "height": null,
       "justify_content": null,
       "justify_items": null,
       "left": null,
       "margin": null,
       "max_height": null,
       "max_width": null,
       "min_height": null,
       "min_width": null,
       "object_fit": null,
       "object_position": null,
       "order": null,
       "overflow": null,
       "overflow_x": null,
       "overflow_y": null,
       "padding": null,
       "right": null,
       "top": null,
       "visibility": null,
       "width": null
      }
     },
     "74622358b3004de890416564c13924cb": {
      "model_module": "@jupyter-widgets/controls",
      "model_module_version": "1.5.0",
      "model_name": "FloatProgressModel",
      "state": {
       "_dom_classes": [],
       "_model_module": "@jupyter-widgets/controls",
       "_model_module_version": "1.5.0",
       "_model_name": "FloatProgressModel",
       "_view_count": null,
       "_view_module": "@jupyter-widgets/controls",
       "_view_module_version": "1.5.0",
       "_view_name": "ProgressView",
       "bar_style": "success",
       "description": "Downloading: 100%",
       "description_tooltip": null,
       "layout": "IPY_MODEL_c1145c8a47c84b4aa072f0c71de3d514",
       "max": 112.0,
       "min": 0.0,
       "orientation": "horizontal",
       "style": "IPY_MODEL_2359db619f614eb3875419f592b3b8f3",
       "value": 112.0
      }
     },
     "752667028a15417280ea06e6ac9a6a44": {
      "model_module": "@jupyter-widgets/base",
      "model_module_version": "1.2.0",
      "model_name": "LayoutModel",
      "state": {
       "_model_module": "@jupyter-widgets/base",
       "_model_module_version": "1.2.0",
       "_model_name": "LayoutModel",
       "_view_count": null,
       "_view_module": "@jupyter-widgets/base",
       "_view_module_version": "1.2.0",
       "_view_name": "LayoutView",
       "align_content": null,
       "align_items": null,
       "align_self": null,
       "border": null,
       "bottom": null,
       "display": null,
       "flex": null,
       "flex_flow": null,
       "grid_area": null,
       "grid_auto_columns": null,
       "grid_auto_flow": null,
       "grid_auto_rows": null,
       "grid_column": null,
       "grid_gap": null,
       "grid_row": null,
       "grid_template_areas": null,
       "grid_template_columns": null,
       "grid_template_rows": null,
       "height": null,
       "justify_content": null,
       "justify_items": null,
       "left": null,
       "margin": null,
       "max_height": null,
       "max_width": null,
       "min_height": null,
       "min_width": null,
       "object_fit": null,
       "object_position": null,
       "order": null,
       "overflow": null,
       "overflow_x": null,
       "overflow_y": null,
       "padding": null,
       "right": null,
       "top": null,
       "visibility": null,
       "width": null
      }
     },
     "7bed456cfc2c48aaa2e3a3790900cfa0": {
      "model_module": "@jupyter-widgets/controls",
      "model_module_version": "1.5.0",
      "model_name": "ProgressStyleModel",
      "state": {
       "_model_module": "@jupyter-widgets/controls",
       "_model_module_version": "1.5.0",
       "_model_name": "ProgressStyleModel",
       "_view_count": null,
       "_view_module": "@jupyter-widgets/base",
       "_view_module_version": "1.2.0",
       "_view_name": "StyleView",
       "bar_color": null,
       "description_width": "initial"
      }
     },
     "7d78503a580d43cdb776ee076d500b6a": {
      "model_module": "@jupyter-widgets/controls",
      "model_module_version": "1.5.0",
      "model_name": "DescriptionStyleModel",
      "state": {
       "_model_module": "@jupyter-widgets/controls",
       "_model_module_version": "1.5.0",
       "_model_name": "DescriptionStyleModel",
       "_view_count": null,
       "_view_module": "@jupyter-widgets/base",
       "_view_module_version": "1.2.0",
       "_view_name": "StyleView",
       "description_width": ""
      }
     },
     "89cc422224194127a0c139b4a77e3a58": {
      "model_module": "@jupyter-widgets/controls",
      "model_module_version": "1.5.0",
      "model_name": "ProgressStyleModel",
      "state": {
       "_model_module": "@jupyter-widgets/controls",
       "_model_module_version": "1.5.0",
       "_model_name": "ProgressStyleModel",
       "_view_count": null,
       "_view_module": "@jupyter-widgets/base",
       "_view_module_version": "1.2.0",
       "_view_name": "StyleView",
       "bar_color": null,
       "description_width": "initial"
      }
     },
     "9c157c86da3744568dfdc7ae9149916b": {
      "model_module": "@jupyter-widgets/controls",
      "model_module_version": "1.5.0",
      "model_name": "ProgressStyleModel",
      "state": {
       "_model_module": "@jupyter-widgets/controls",
       "_model_module_version": "1.5.0",
       "_model_name": "ProgressStyleModel",
       "_view_count": null,
       "_view_module": "@jupyter-widgets/base",
       "_view_module_version": "1.2.0",
       "_view_name": "StyleView",
       "bar_color": null,
       "description_width": "initial"
      }
     },
     "9f59fc426bb24e88a4737005cd55da0f": {
      "model_module": "@jupyter-widgets/base",
      "model_module_version": "1.2.0",
      "model_name": "LayoutModel",
      "state": {
       "_model_module": "@jupyter-widgets/base",
       "_model_module_version": "1.2.0",
       "_model_name": "LayoutModel",
       "_view_count": null,
       "_view_module": "@jupyter-widgets/base",
       "_view_module_version": "1.2.0",
       "_view_name": "LayoutView",
       "align_content": null,
       "align_items": null,
       "align_self": null,
       "border": null,
       "bottom": null,
       "display": null,
       "flex": null,
       "flex_flow": null,
       "grid_area": null,
       "grid_auto_columns": null,
       "grid_auto_flow": null,
       "grid_auto_rows": null,
       "grid_column": null,
       "grid_gap": null,
       "grid_row": null,
       "grid_template_areas": null,
       "grid_template_columns": null,
       "grid_template_rows": null,
       "height": null,
       "justify_content": null,
       "justify_items": null,
       "left": null,
       "margin": null,
       "max_height": null,
       "max_width": null,
       "min_height": null,
       "min_width": null,
       "object_fit": null,
       "object_position": null,
       "order": null,
       "overflow": null,
       "overflow_x": null,
       "overflow_y": null,
       "padding": null,
       "right": null,
       "top": null,
       "visibility": null,
       "width": null
      }
     },
     "a96d7ba07bf24e74b5ec32b405f6f23f": {
      "model_module": "@jupyter-widgets/base",
      "model_module_version": "1.2.0",
      "model_name": "LayoutModel",
      "state": {
       "_model_module": "@jupyter-widgets/base",
       "_model_module_version": "1.2.0",
       "_model_name": "LayoutModel",
       "_view_count": null,
       "_view_module": "@jupyter-widgets/base",
       "_view_module_version": "1.2.0",
       "_view_name": "LayoutView",
       "align_content": null,
       "align_items": null,
       "align_self": null,
       "border": null,
       "bottom": null,
       "display": null,
       "flex": null,
       "flex_flow": null,
       "grid_area": null,
       "grid_auto_columns": null,
       "grid_auto_flow": null,
       "grid_auto_rows": null,
       "grid_column": null,
       "grid_gap": null,
       "grid_row": null,
       "grid_template_areas": null,
       "grid_template_columns": null,
       "grid_template_rows": null,
       "height": null,
       "justify_content": null,
       "justify_items": null,
       "left": null,
       "margin": null,
       "max_height": null,
       "max_width": null,
       "min_height": null,
       "min_width": null,
       "object_fit": null,
       "object_position": null,
       "order": null,
       "overflow": null,
       "overflow_x": null,
       "overflow_y": null,
       "padding": null,
       "right": null,
       "top": null,
       "visibility": null,
       "width": null
      }
     },
     "aca70e9f65114435aa7ae68fd5b0201d": {
      "model_module": "@jupyter-widgets/controls",
      "model_module_version": "1.5.0",
      "model_name": "HTMLModel",
      "state": {
       "_dom_classes": [],
       "_model_module": "@jupyter-widgets/controls",
       "_model_module_version": "1.5.0",
       "_model_name": "HTMLModel",
       "_view_count": null,
       "_view_module": "@jupyter-widgets/controls",
       "_view_module_version": "1.5.0",
       "_view_name": "HTMLView",
       "description": "",
       "description_tooltip": null,
       "layout": "IPY_MODEL_752667028a15417280ea06e6ac9a6a44",
       "placeholder": "​",
       "style": "IPY_MODEL_fea12f8357ae4e6494b2927e83e5c7c1",
       "value": " 472/472 [01:25&lt;00:00, 5.50B/s]"
      }
     },
     "b682e474aae24266b06d723dc411dae2": {
      "model_module": "@jupyter-widgets/controls",
      "model_module_version": "1.5.0",
      "model_name": "HBoxModel",
      "state": {
       "_dom_classes": [],
       "_model_module": "@jupyter-widgets/controls",
       "_model_module_version": "1.5.0",
       "_model_name": "HBoxModel",
       "_view_count": null,
       "_view_module": "@jupyter-widgets/controls",
       "_view_module_version": "1.5.0",
       "_view_name": "HBoxView",
       "box_style": "",
       "children": [
        "IPY_MODEL_dd55251b27b34b2e98f8bd83484f576e",
        "IPY_MODEL_53a24ac0d6e94364ac58375045d73d36"
       ],
       "layout": "IPY_MODEL_72cc585569894e42a8e5a7ceda78d21c"
      }
     },
     "b91064677b944528b9aac4ee3f8bf048": {
      "model_module": "@jupyter-widgets/base",
      "model_module_version": "1.2.0",
      "model_name": "LayoutModel",
      "state": {
       "_model_module": "@jupyter-widgets/base",
       "_model_module_version": "1.2.0",
       "_model_name": "LayoutModel",
       "_view_count": null,
       "_view_module": "@jupyter-widgets/base",
       "_view_module_version": "1.2.0",
       "_view_name": "LayoutView",
       "align_content": null,
       "align_items": null,
       "align_self": null,
       "border": null,
       "bottom": null,
       "display": null,
       "flex": null,
       "flex_flow": null,
       "grid_area": null,
       "grid_auto_columns": null,
       "grid_auto_flow": null,
       "grid_auto_rows": null,
       "grid_column": null,
       "grid_gap": null,
       "grid_row": null,
       "grid_template_areas": null,
       "grid_template_columns": null,
       "grid_template_rows": null,
       "height": null,
       "justify_content": null,
       "justify_items": null,
       "left": null,
       "margin": null,
       "max_height": null,
       "max_width": null,
       "min_height": null,
       "min_width": null,
       "object_fit": null,
       "object_position": null,
       "order": null,
       "overflow": null,
       "overflow_x": null,
       "overflow_y": null,
       "padding": null,
       "right": null,
       "top": null,
       "visibility": null,
       "width": null
      }
     },
     "bc86fe778a954277b3a52628b29c0074": {
      "model_module": "@jupyter-widgets/controls",
      "model_module_version": "1.5.0",
      "model_name": "HBoxModel",
      "state": {
       "_dom_classes": [],
       "_model_module": "@jupyter-widgets/controls",
       "_model_module_version": "1.5.0",
       "_model_name": "HBoxModel",
       "_view_count": null,
       "_view_module": "@jupyter-widgets/controls",
       "_view_module_version": "1.5.0",
       "_view_name": "HBoxView",
       "box_style": "",
       "children": [
        "IPY_MODEL_74622358b3004de890416564c13924cb",
        "IPY_MODEL_3dced338c9874186a8c2ad393a7e673d"
       ],
       "layout": "IPY_MODEL_d8aa5dbba2fa48c58fee60508becccf2"
      }
     },
     "c1145c8a47c84b4aa072f0c71de3d514": {
      "model_module": "@jupyter-widgets/base",
      "model_module_version": "1.2.0",
      "model_name": "LayoutModel",
      "state": {
       "_model_module": "@jupyter-widgets/base",
       "_model_module_version": "1.2.0",
       "_model_name": "LayoutModel",
       "_view_count": null,
       "_view_module": "@jupyter-widgets/base",
       "_view_module_version": "1.2.0",
       "_view_name": "LayoutView",
       "align_content": null,
       "align_items": null,
       "align_self": null,
       "border": null,
       "bottom": null,
       "display": null,
       "flex": null,
       "flex_flow": null,
       "grid_area": null,
       "grid_auto_columns": null,
       "grid_auto_flow": null,
       "grid_auto_rows": null,
       "grid_column": null,
       "grid_gap": null,
       "grid_row": null,
       "grid_template_areas": null,
       "grid_template_columns": null,
       "grid_template_rows": null,
       "height": null,
       "justify_content": null,
       "justify_items": null,
       "left": null,
       "margin": null,
       "max_height": null,
       "max_width": null,
       "min_height": null,
       "min_width": null,
       "object_fit": null,
       "object_position": null,
       "order": null,
       "overflow": null,
       "overflow_x": null,
       "overflow_y": null,
       "padding": null,
       "right": null,
       "top": null,
       "visibility": null,
       "width": null
      }
     },
     "c7702c227ba54c64ab9c365b58d6e36e": {
      "model_module": "@jupyter-widgets/base",
      "model_module_version": "1.2.0",
      "model_name": "LayoutModel",
      "state": {
       "_model_module": "@jupyter-widgets/base",
       "_model_module_version": "1.2.0",
       "_model_name": "LayoutModel",
       "_view_count": null,
       "_view_module": "@jupyter-widgets/base",
       "_view_module_version": "1.2.0",
       "_view_name": "LayoutView",
       "align_content": null,
       "align_items": null,
       "align_self": null,
       "border": null,
       "bottom": null,
       "display": null,
       "flex": null,
       "flex_flow": null,
       "grid_area": null,
       "grid_auto_columns": null,
       "grid_auto_flow": null,
       "grid_auto_rows": null,
       "grid_column": null,
       "grid_gap": null,
       "grid_row": null,
       "grid_template_areas": null,
       "grid_template_columns": null,
       "grid_template_rows": null,
       "height": null,
       "justify_content": null,
       "justify_items": null,
       "left": null,
       "margin": null,
       "max_height": null,
       "max_width": null,
       "min_height": null,
       "min_width": null,
       "object_fit": null,
       "object_position": null,
       "order": null,
       "overflow": null,
       "overflow_x": null,
       "overflow_y": null,
       "padding": null,
       "right": null,
       "top": null,
       "visibility": null,
       "width": null
      }
     },
     "cb06fb094dac43fd9fc6fc0b8c1bc64d": {
      "model_module": "@jupyter-widgets/base",
      "model_module_version": "1.2.0",
      "model_name": "LayoutModel",
      "state": {
       "_model_module": "@jupyter-widgets/base",
       "_model_module_version": "1.2.0",
       "_model_name": "LayoutModel",
       "_view_count": null,
       "_view_module": "@jupyter-widgets/base",
       "_view_module_version": "1.2.0",
       "_view_name": "LayoutView",
       "align_content": null,
       "align_items": null,
       "align_self": null,
       "border": null,
       "bottom": null,
       "display": null,
       "flex": null,
       "flex_flow": null,
       "grid_area": null,
       "grid_auto_columns": null,
       "grid_auto_flow": null,
       "grid_auto_rows": null,
       "grid_column": null,
       "grid_gap": null,
       "grid_row": null,
       "grid_template_areas": null,
       "grid_template_columns": null,
       "grid_template_rows": null,
       "height": null,
       "justify_content": null,
       "justify_items": null,
       "left": null,
       "margin": null,
       "max_height": null,
       "max_width": null,
       "min_height": null,
       "min_width": null,
       "object_fit": null,
       "object_position": null,
       "order": null,
       "overflow": null,
       "overflow_x": null,
       "overflow_y": null,
       "padding": null,
       "right": null,
       "top": null,
       "visibility": null,
       "width": null
      }
     },
     "d8aa5dbba2fa48c58fee60508becccf2": {
      "model_module": "@jupyter-widgets/base",
      "model_module_version": "1.2.0",
      "model_name": "LayoutModel",
      "state": {
       "_model_module": "@jupyter-widgets/base",
       "_model_module_version": "1.2.0",
       "_model_name": "LayoutModel",
       "_view_count": null,
       "_view_module": "@jupyter-widgets/base",
       "_view_module_version": "1.2.0",
       "_view_name": "LayoutView",
       "align_content": null,
       "align_items": null,
       "align_self": null,
       "border": null,
       "bottom": null,
       "display": null,
       "flex": null,
       "flex_flow": null,
       "grid_area": null,
       "grid_auto_columns": null,
       "grid_auto_flow": null,
       "grid_auto_rows": null,
       "grid_column": null,
       "grid_gap": null,
       "grid_row": null,
       "grid_template_areas": null,
       "grid_template_columns": null,
       "grid_template_rows": null,
       "height": null,
       "justify_content": null,
       "justify_items": null,
       "left": null,
       "margin": null,
       "max_height": null,
       "max_width": null,
       "min_height": null,
       "min_width": null,
       "object_fit": null,
       "object_position": null,
       "order": null,
       "overflow": null,
       "overflow_x": null,
       "overflow_y": null,
       "padding": null,
       "right": null,
       "top": null,
       "visibility": null,
       "width": null
      }
     },
     "dbb7f8bc8df84c6a8b04a9487751ab79": {
      "model_module": "@jupyter-widgets/controls",
      "model_module_version": "1.5.0",
      "model_name": "HBoxModel",
      "state": {
       "_dom_classes": [],
       "_model_module": "@jupyter-widgets/controls",
       "_model_module_version": "1.5.0",
       "_model_name": "HBoxModel",
       "_view_count": null,
       "_view_module": "@jupyter-widgets/controls",
       "_view_module_version": "1.5.0",
       "_view_name": "HBoxView",
       "box_style": "",
       "children": [
        "IPY_MODEL_6e35aeb652474b53ae02e0e2bfa499b8",
        "IPY_MODEL_35c30d2137fa4161b5d0c88681fec097"
       ],
       "layout": "IPY_MODEL_4011d0c36e294bcda490c700115c7acc"
      }
     },
     "dd55251b27b34b2e98f8bd83484f576e": {
      "model_module": "@jupyter-widgets/controls",
      "model_module_version": "1.5.0",
      "model_name": "FloatProgressModel",
      "state": {
       "_dom_classes": [],
       "_model_module": "@jupyter-widgets/controls",
       "_model_module_version": "1.5.0",
       "_model_name": "FloatProgressModel",
       "_view_count": null,
       "_view_module": "@jupyter-widgets/controls",
       "_view_module_version": "1.5.0",
       "_view_name": "ProgressView",
       "bar_style": "success",
       "description": "Downloading: 100%",
       "description_tooltip": null,
       "layout": "IPY_MODEL_1389f6a96f0e438a84657ec9f723d608",
       "max": 62.0,
       "min": 0.0,
       "orientation": "horizontal",
       "style": "IPY_MODEL_f81c69dd91e84113bb3981d11ac17efb",
       "value": 62.0
      }
     },
     "f5cdbd4b0c4a45f583b5d305ed301ea7": {
      "model_module": "@jupyter-widgets/base",
      "model_module_version": "1.2.0",
      "model_name": "LayoutModel",
      "state": {
       "_model_module": "@jupyter-widgets/base",
       "_model_module_version": "1.2.0",
       "_model_name": "LayoutModel",
       "_view_count": null,
       "_view_module": "@jupyter-widgets/base",
       "_view_module_version": "1.2.0",
       "_view_name": "LayoutView",
       "align_content": null,
       "align_items": null,
       "align_self": null,
       "border": null,
       "bottom": null,
       "display": null,
       "flex": null,
       "flex_flow": null,
       "grid_area": null,
       "grid_auto_columns": null,
       "grid_auto_flow": null,
       "grid_auto_rows": null,
       "grid_column": null,
       "grid_gap": null,
       "grid_row": null,
       "grid_template_areas": null,
       "grid_template_columns": null,
       "grid_template_rows": null,
       "height": null,
       "justify_content": null,
       "justify_items": null,
       "left": null,
       "margin": null,
       "max_height": null,
       "max_width": null,
       "min_height": null,
       "min_width": null,
       "object_fit": null,
       "object_position": null,
       "order": null,
       "overflow": null,
       "overflow_x": null,
       "overflow_y": null,
       "padding": null,
       "right": null,
       "top": null,
       "visibility": null,
       "width": null
      }
     },
     "f81c69dd91e84113bb3981d11ac17efb": {
      "model_module": "@jupyter-widgets/controls",
      "model_module_version": "1.5.0",
      "model_name": "ProgressStyleModel",
      "state": {
       "_model_module": "@jupyter-widgets/controls",
       "_model_module_version": "1.5.0",
       "_model_name": "ProgressStyleModel",
       "_view_count": null,
       "_view_module": "@jupyter-widgets/base",
       "_view_module_version": "1.2.0",
       "_view_name": "StyleView",
       "bar_color": null,
       "description_width": "initial"
      }
     },
     "fda535d7ecf4482dba59a94ff5ce3105": {
      "model_module": "@jupyter-widgets/base",
      "model_module_version": "1.2.0",
      "model_name": "LayoutModel",
      "state": {
       "_model_module": "@jupyter-widgets/base",
       "_model_module_version": "1.2.0",
       "_model_name": "LayoutModel",
       "_view_count": null,
       "_view_module": "@jupyter-widgets/base",
       "_view_module_version": "1.2.0",
       "_view_name": "LayoutView",
       "align_content": null,
       "align_items": null,
       "align_self": null,
       "border": null,
       "bottom": null,
       "display": null,
       "flex": null,
       "flex_flow": null,
       "grid_area": null,
       "grid_auto_columns": null,
       "grid_auto_flow": null,
       "grid_auto_rows": null,
       "grid_column": null,
       "grid_gap": null,
       "grid_row": null,
       "grid_template_areas": null,
       "grid_template_columns": null,
       "grid_template_rows": null,
       "height": null,
       "justify_content": null,
       "justify_items": null,
       "left": null,
       "margin": null,
       "max_height": null,
       "max_width": null,
       "min_height": null,
       "min_width": null,
       "object_fit": null,
       "object_position": null,
       "order": null,
       "overflow": null,
       "overflow_x": null,
       "overflow_y": null,
       "padding": null,
       "right": null,
       "top": null,
       "visibility": null,
       "width": null
      }
     },
     "fea12f8357ae4e6494b2927e83e5c7c1": {
      "model_module": "@jupyter-widgets/controls",
      "model_module_version": "1.5.0",
      "model_name": "DescriptionStyleModel",
      "state": {
       "_model_module": "@jupyter-widgets/controls",
       "_model_module_version": "1.5.0",
       "_model_name": "DescriptionStyleModel",
       "_view_count": null,
       "_view_module": "@jupyter-widgets/base",
       "_view_module_version": "1.2.0",
       "_view_name": "StyleView",
       "description_width": ""
      }
     }
    },
    "version_major": 2,
    "version_minor": 0
   }
  }
 },
 "nbformat": 4,
 "nbformat_minor": 4
}
