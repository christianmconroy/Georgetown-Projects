{
 "cells": [
  {
   "cell_type": "markdown",
   "metadata": {},
   "source": [
    "# Define and predict when a tenant is good or bad from the point of view of a landlord"
   ]
  },
  {
   "cell_type": "markdown",
   "metadata": {},
   "source": [
    "## 1. Load and Import Packages "
   ]
  },
  {
   "cell_type": "code",
   "execution_count": 102,
   "metadata": {},
   "outputs": [],
   "source": [
    "import pandas as pd \n",
    "pd.options.mode.chained_assignment = None  # default='warn'\n",
    "import numpy as np\n",
    "import re\n",
    "import os\n",
    "import math\n",
    "import datetime\n",
    "from datetime import datetime\n",
    "\n",
    "import sklearn\n",
    "from sklearn import preprocessing\n",
    "from sklearn.preprocessing import MinMaxScaler\n",
    "from sklearn.preprocessing import StandardScaler\n",
    "\n",
    "from sklearn.linear_model import LogisticRegression\n",
    "from sklearn.metrics import classification_report, confusion_matrix\n",
    "from sklearn.metrics import roc_auc_score\n",
    "from sklearn.tree import DecisionTreeClassifier\n",
    "from sklearn.ensemble import RandomForestClassifier\n",
    "from sklearn.ensemble import GradientBoostingClassifier\n",
    "from sklearn.svm import SVC\n",
    "from sklearn.model_selection import train_test_split\n",
    "import pickle\n",
    "\n",
    "import matplotlib\n",
    "import matplotlib.pyplot as plt\n",
    "%matplotlib inline"
   ]
  },
  {
   "cell_type": "markdown",
   "metadata": {},
   "source": [
    "## 2. Set up File Paths"
   ]
  },
  {
   "cell_type": "code",
   "execution_count": 2,
   "metadata": {},
   "outputs": [],
   "source": [
    "import_bucket = \"outputs/\"\n",
    "\n",
    "output_bucket = \"outputs/\""
   ]
  },
  {
   "cell_type": "markdown",
   "metadata": {},
   "source": [
    "## 3. Import Data "
   ]
  },
  {
   "cell_type": "code",
   "execution_count": 3,
   "metadata": {},
   "outputs": [
    {
     "data": {
      "text/html": [
       "<div>\n",
       "<style scoped>\n",
       "    .dataframe tbody tr th:only-of-type {\n",
       "        vertical-align: middle;\n",
       "    }\n",
       "\n",
       "    .dataframe tbody tr th {\n",
       "        vertical-align: top;\n",
       "    }\n",
       "\n",
       "    .dataframe thead th {\n",
       "        text-align: right;\n",
       "    }\n",
       "</style>\n",
       "<table border=\"1\" class=\"dataframe\">\n",
       "  <thead>\n",
       "    <tr style=\"text-align: right;\">\n",
       "      <th></th>\n",
       "      <th>name</th>\n",
       "      <th>surname</th>\n",
       "      <th>dob</th>\n",
       "      <th>avg_rent</th>\n",
       "      <th>total_contract_length</th>\n",
       "      <th>avg_contract_length</th>\n",
       "      <th>deposit_return_num</th>\n",
       "      <th>total_rent_gap</th>\n",
       "      <th>total_total_payments_gap</th>\n",
       "      <th>age_contract_start</th>\n",
       "      <th>num_contracts</th>\n",
       "      <th>late_payments_num</th>\n",
       "      <th>avg_late_perc</th>\n",
       "      <th>max_late</th>\n",
       "      <th>on_time_rent_num</th>\n",
       "      <th>num_rent_pay</th>\n",
       "      <th>fastest_between_rent_pay</th>\n",
       "      <th>median_between_rent_pay</th>\n",
       "      <th>slowest_between_rent_pay</th>\n",
       "      <th>DIRECT_DEBIT</th>\n",
       "      <th>CASH</th>\n",
       "      <th>BANK_TRANSFER</th>\n",
       "      <th>num_pay_meth</th>\n",
       "      <th>postcode</th>\n",
       "      <th>all_pay_total</th>\n",
       "      <th>deposit_scale</th>\n",
       "      <th>contract_not_ended</th>\n",
       "      <th>total_rent_gap_norm</th>\n",
       "      <th>total_total_payments_gap_norm</th>\n",
       "      <th>late_payments_perc</th>\n",
       "      <th>late_payments_perc_norm</th>\n",
       "      <th>avg_late_perc_norm</th>\n",
       "      <th>max_late_norm</th>\n",
       "      <th>slowest_between_rent_pay_norm</th>\n",
       "      <th>bed_tenant_prob</th>\n",
       "      <th>bad_tenant</th>\n",
       "    </tr>\n",
       "  </thead>\n",
       "  <tbody>\n",
       "    <tr>\n",
       "      <th>0</th>\n",
       "      <td>A Mateo</td>\n",
       "      <td>Chen</td>\n",
       "      <td>1961-05-08</td>\n",
       "      <td>3370.0</td>\n",
       "      <td>2040.0</td>\n",
       "      <td>2040.0</td>\n",
       "      <td>0.0</td>\n",
       "      <td>2.106250</td>\n",
       "      <td>1.0</td>\n",
       "      <td>52</td>\n",
       "      <td>1</td>\n",
       "      <td>3.0</td>\n",
       "      <td>0.050000</td>\n",
       "      <td>0.05</td>\n",
       "      <td>33</td>\n",
       "      <td>36</td>\n",
       "      <td>0.0</td>\n",
       "      <td>31.0</td>\n",
       "      <td>34.0</td>\n",
       "      <td>0.0</td>\n",
       "      <td>0.0</td>\n",
       "      <td>1.0</td>\n",
       "      <td>1</td>\n",
       "      <td>94107.0</td>\n",
       "      <td>36</td>\n",
       "      <td>0.0</td>\n",
       "      <td>1</td>\n",
       "      <td>0.000316</td>\n",
       "      <td>0.25</td>\n",
       "      <td>0.083333</td>\n",
       "      <td>0.088542</td>\n",
       "      <td>0.100000</td>\n",
       "      <td>0.1</td>\n",
       "      <td>0.369565</td>\n",
       "      <td>0.113553</td>\n",
       "      <td>0</td>\n",
       "    </tr>\n",
       "    <tr>\n",
       "      <th>1</th>\n",
       "      <td>A Shaad</td>\n",
       "      <td>Threlkeld</td>\n",
       "      <td>1989-08-24</td>\n",
       "      <td>2250.0</td>\n",
       "      <td>1950.0</td>\n",
       "      <td>1950.0</td>\n",
       "      <td>0.0</td>\n",
       "      <td>35.156250</td>\n",
       "      <td>1.0</td>\n",
       "      <td>24</td>\n",
       "      <td>1</td>\n",
       "      <td>13.0</td>\n",
       "      <td>0.057692</td>\n",
       "      <td>0.10</td>\n",
       "      <td>23</td>\n",
       "      <td>36</td>\n",
       "      <td>0.0</td>\n",
       "      <td>30.0</td>\n",
       "      <td>40.0</td>\n",
       "      <td>1.0</td>\n",
       "      <td>0.0</td>\n",
       "      <td>0.0</td>\n",
       "      <td>1</td>\n",
       "      <td>92808.0</td>\n",
       "      <td>36</td>\n",
       "      <td>0.0</td>\n",
       "      <td>1</td>\n",
       "      <td>0.005279</td>\n",
       "      <td>0.25</td>\n",
       "      <td>0.361111</td>\n",
       "      <td>0.383681</td>\n",
       "      <td>0.115385</td>\n",
       "      <td>0.2</td>\n",
       "      <td>0.434783</td>\n",
       "      <td>0.173641</td>\n",
       "      <td>0</td>\n",
       "    </tr>\n",
       "    <tr>\n",
       "      <th>2</th>\n",
       "      <td>A'Aniylah</td>\n",
       "      <td>Bautista</td>\n",
       "      <td>1972-12-27</td>\n",
       "      <td>1770.0</td>\n",
       "      <td>1003.0</td>\n",
       "      <td>1003.0</td>\n",
       "      <td>3.0</td>\n",
       "      <td>0.000000</td>\n",
       "      <td>0.0</td>\n",
       "      <td>43</td>\n",
       "      <td>1</td>\n",
       "      <td>23.0</td>\n",
       "      <td>0.117391</td>\n",
       "      <td>0.50</td>\n",
       "      <td>7</td>\n",
       "      <td>32</td>\n",
       "      <td>0.0</td>\n",
       "      <td>29.0</td>\n",
       "      <td>63.0</td>\n",
       "      <td>0.0</td>\n",
       "      <td>0.0</td>\n",
       "      <td>1.0</td>\n",
       "      <td>1</td>\n",
       "      <td>91790.0</td>\n",
       "      <td>34</td>\n",
       "      <td>1.0</td>\n",
       "      <td>0</td>\n",
       "      <td>0.000000</td>\n",
       "      <td>0.00</td>\n",
       "      <td>0.718750</td>\n",
       "      <td>0.763672</td>\n",
       "      <td>0.234783</td>\n",
       "      <td>1.0</td>\n",
       "      <td>0.684783</td>\n",
       "      <td>0.585405</td>\n",
       "      <td>1</td>\n",
       "    </tr>\n",
       "    <tr>\n",
       "      <th>3</th>\n",
       "      <td>A'Dore</td>\n",
       "      <td>Hager</td>\n",
       "      <td>1950-03-27</td>\n",
       "      <td>2140.0</td>\n",
       "      <td>251.0</td>\n",
       "      <td>251.0</td>\n",
       "      <td>0.0</td>\n",
       "      <td>0.000000</td>\n",
       "      <td>0.0</td>\n",
       "      <td>68</td>\n",
       "      <td>1</td>\n",
       "      <td>2.0</td>\n",
       "      <td>0.050000</td>\n",
       "      <td>0.05</td>\n",
       "      <td>7</td>\n",
       "      <td>9</td>\n",
       "      <td>0.0</td>\n",
       "      <td>31.0</td>\n",
       "      <td>38.0</td>\n",
       "      <td>1.0</td>\n",
       "      <td>0.0</td>\n",
       "      <td>0.0</td>\n",
       "      <td>1</td>\n",
       "      <td>93940.0</td>\n",
       "      <td>10</td>\n",
       "      <td>0.0</td>\n",
       "      <td>1</td>\n",
       "      <td>0.000000</td>\n",
       "      <td>0.00</td>\n",
       "      <td>0.222222</td>\n",
       "      <td>0.236111</td>\n",
       "      <td>0.100000</td>\n",
       "      <td>0.1</td>\n",
       "      <td>0.413043</td>\n",
       "      <td>0.106144</td>\n",
       "      <td>0</td>\n",
       "    </tr>\n",
       "    <tr>\n",
       "      <th>4</th>\n",
       "      <td>A'Dore</td>\n",
       "      <td>Hager</td>\n",
       "      <td>1964-03-18</td>\n",
       "      <td>2150.0</td>\n",
       "      <td>1614.0</td>\n",
       "      <td>1614.0</td>\n",
       "      <td>0.0</td>\n",
       "      <td>29.263889</td>\n",
       "      <td>1.0</td>\n",
       "      <td>50</td>\n",
       "      <td>1</td>\n",
       "      <td>9.0</td>\n",
       "      <td>0.077778</td>\n",
       "      <td>0.20</td>\n",
       "      <td>27</td>\n",
       "      <td>36</td>\n",
       "      <td>0.0</td>\n",
       "      <td>30.5</td>\n",
       "      <td>43.0</td>\n",
       "      <td>1.0</td>\n",
       "      <td>0.0</td>\n",
       "      <td>0.0</td>\n",
       "      <td>1</td>\n",
       "      <td>91355.0</td>\n",
       "      <td>36</td>\n",
       "      <td>0.0</td>\n",
       "      <td>1</td>\n",
       "      <td>0.004394</td>\n",
       "      <td>0.25</td>\n",
       "      <td>0.250000</td>\n",
       "      <td>0.265625</td>\n",
       "      <td>0.155556</td>\n",
       "      <td>0.4</td>\n",
       "      <td>0.467391</td>\n",
       "      <td>0.192871</td>\n",
       "      <td>0</td>\n",
       "    </tr>\n",
       "  </tbody>\n",
       "</table>\n",
       "</div>"
      ],
      "text/plain": [
       "        name    surname         dob  avg_rent  total_contract_length  \\\n",
       "0    A Mateo       Chen  1961-05-08    3370.0                 2040.0   \n",
       "1    A Shaad  Threlkeld  1989-08-24    2250.0                 1950.0   \n",
       "2  A'Aniylah   Bautista  1972-12-27    1770.0                 1003.0   \n",
       "3     A'Dore      Hager  1950-03-27    2140.0                  251.0   \n",
       "4     A'Dore      Hager  1964-03-18    2150.0                 1614.0   \n",
       "\n",
       "   avg_contract_length  deposit_return_num  total_rent_gap  \\\n",
       "0               2040.0                 0.0        2.106250   \n",
       "1               1950.0                 0.0       35.156250   \n",
       "2               1003.0                 3.0        0.000000   \n",
       "3                251.0                 0.0        0.000000   \n",
       "4               1614.0                 0.0       29.263889   \n",
       "\n",
       "   total_total_payments_gap  age_contract_start  num_contracts  \\\n",
       "0                       1.0                  52              1   \n",
       "1                       1.0                  24              1   \n",
       "2                       0.0                  43              1   \n",
       "3                       0.0                  68              1   \n",
       "4                       1.0                  50              1   \n",
       "\n",
       "   late_payments_num  avg_late_perc  max_late  on_time_rent_num  num_rent_pay  \\\n",
       "0                3.0       0.050000      0.05                33            36   \n",
       "1               13.0       0.057692      0.10                23            36   \n",
       "2               23.0       0.117391      0.50                 7            32   \n",
       "3                2.0       0.050000      0.05                 7             9   \n",
       "4                9.0       0.077778      0.20                27            36   \n",
       "\n",
       "   fastest_between_rent_pay  median_between_rent_pay  \\\n",
       "0                       0.0                     31.0   \n",
       "1                       0.0                     30.0   \n",
       "2                       0.0                     29.0   \n",
       "3                       0.0                     31.0   \n",
       "4                       0.0                     30.5   \n",
       "\n",
       "   slowest_between_rent_pay  DIRECT_DEBIT  CASH  BANK_TRANSFER  num_pay_meth  \\\n",
       "0                      34.0           0.0   0.0            1.0             1   \n",
       "1                      40.0           1.0   0.0            0.0             1   \n",
       "2                      63.0           0.0   0.0            1.0             1   \n",
       "3                      38.0           1.0   0.0            0.0             1   \n",
       "4                      43.0           1.0   0.0            0.0             1   \n",
       "\n",
       "   postcode  all_pay_total  deposit_scale  contract_not_ended  \\\n",
       "0   94107.0             36            0.0                   1   \n",
       "1   92808.0             36            0.0                   1   \n",
       "2   91790.0             34            1.0                   0   \n",
       "3   93940.0             10            0.0                   1   \n",
       "4   91355.0             36            0.0                   1   \n",
       "\n",
       "   total_rent_gap_norm  total_total_payments_gap_norm  late_payments_perc  \\\n",
       "0             0.000316                           0.25            0.083333   \n",
       "1             0.005279                           0.25            0.361111   \n",
       "2             0.000000                           0.00            0.718750   \n",
       "3             0.000000                           0.00            0.222222   \n",
       "4             0.004394                           0.25            0.250000   \n",
       "\n",
       "   late_payments_perc_norm  avg_late_perc_norm  max_late_norm  \\\n",
       "0                 0.088542            0.100000            0.1   \n",
       "1                 0.383681            0.115385            0.2   \n",
       "2                 0.763672            0.234783            1.0   \n",
       "3                 0.236111            0.100000            0.1   \n",
       "4                 0.265625            0.155556            0.4   \n",
       "\n",
       "   slowest_between_rent_pay_norm  bed_tenant_prob  bad_tenant  \n",
       "0                       0.369565         0.113553           0  \n",
       "1                       0.434783         0.173641           0  \n",
       "2                       0.684783         0.585405           1  \n",
       "3                       0.413043         0.106144           0  \n",
       "4                       0.467391         0.192871           0  "
      ]
     },
     "execution_count": 3,
     "metadata": {},
     "output_type": "execute_result"
    }
   ],
   "source": [
    "pd.set_option('display.max_columns', None)\n",
    "cons_and_trans = pd.read_csv(import_bucket + \"clean_contracts_transactions_merge.csv\")\n",
    "cons_and_trans.head()"
   ]
  },
  {
   "cell_type": "code",
   "execution_count": 139,
   "metadata": {},
   "outputs": [
    {
     "data": {
      "text/plain": [
       "0.0    9176\n",
       "2.0    1988\n",
       "3.0     188\n",
       "1.0     117\n",
       "Name: deposit_return_num, dtype: int64"
      ]
     },
     "execution_count": 139,
     "metadata": {},
     "output_type": "execute_result"
    }
   ],
   "source": [
    "cons_and_trans['deposit_return_num'].value_counts()"
   ]
  },
  {
   "cell_type": "markdown",
   "metadata": {},
   "source": [
    "Count classes"
   ]
  },
  {
   "cell_type": "code",
   "execution_count": 4,
   "metadata": {},
   "outputs": [
    {
     "data": {
      "text/plain": [
       "0    10266\n",
       "1     1203\n",
       "Name: bad_tenant, dtype: int64"
      ]
     },
     "execution_count": 4,
     "metadata": {},
     "output_type": "execute_result"
    }
   ],
   "source": [
    "cons_and_trans['bad_tenant'].value_counts()"
   ]
  },
  {
   "cell_type": "code",
   "execution_count": 92,
   "metadata": {},
   "outputs": [
    {
     "data": {
      "text/plain": [
       "0.10489144650797803"
      ]
     },
     "execution_count": 92,
     "metadata": {},
     "output_type": "execute_result"
    }
   ],
   "source": [
    "1203/(10266+1203)"
   ]
  },
  {
   "cell_type": "markdown",
   "metadata": {},
   "source": [
    "## 4. Prepare Data for Modeling"
   ]
  },
  {
   "cell_type": "code",
   "execution_count": 93,
   "metadata": {},
   "outputs": [],
   "source": [
    "cons_and_trans_x = cons_and_trans[['total_contract_length','age_contract_start','num_contracts','num_pay_meth','contract_not_ended', 'DIRECT_DEBIT', 'CASH','BANK_TRANSFER']]\n",
    "\n",
    "cons_and_trans_y = cons_and_trans[['bad_tenant']]"
   ]
  },
  {
   "cell_type": "markdown",
   "metadata": {},
   "source": [
    "Check missingness"
   ]
  },
  {
   "cell_type": "code",
   "execution_count": 94,
   "metadata": {},
   "outputs": [
    {
     "data": {
      "text/plain": [
       "name                             0\n",
       "surname                          0\n",
       "dob                              0\n",
       "avg_rent                         0\n",
       "total_contract_length            0\n",
       "avg_contract_length              0\n",
       "deposit_return_num               0\n",
       "total_rent_gap                   0\n",
       "total_total_payments_gap         0\n",
       "age_contract_start               0\n",
       "num_contracts                    0\n",
       "late_payments_num                0\n",
       "avg_late_perc                    0\n",
       "max_late                         0\n",
       "on_time_rent_num                 0\n",
       "num_rent_pay                     0\n",
       "fastest_between_rent_pay         0\n",
       "median_between_rent_pay          0\n",
       "slowest_between_rent_pay         0\n",
       "DIRECT_DEBIT                     0\n",
       "CASH                             0\n",
       "BANK_TRANSFER                    0\n",
       "num_pay_meth                     0\n",
       "postcode                         0\n",
       "all_pay_total                    0\n",
       "deposit_scale                    0\n",
       "contract_not_ended               0\n",
       "total_rent_gap_norm              0\n",
       "total_total_payments_gap_norm    0\n",
       "late_payments_perc               0\n",
       "late_payments_perc_norm          0\n",
       "avg_late_perc_norm               0\n",
       "max_late_norm                    0\n",
       "slowest_between_rent_pay_norm    0\n",
       "bed_tenant_prob                  0\n",
       "bad_tenant                       0\n",
       "dtype: int64"
      ]
     },
     "execution_count": 94,
     "metadata": {},
     "output_type": "execute_result"
    }
   ],
   "source": [
    "cons_and_trans.isnull().sum()"
   ]
  },
  {
   "cell_type": "markdown",
   "metadata": {},
   "source": [
    "## 5. Modeling"
   ]
  },
  {
   "cell_type": "code",
   "execution_count": 7,
   "metadata": {},
   "outputs": [],
   "source": [
    "X_train, X_test, y_train, y_test = X_train, X_test, y_train, y_test = train_test_split(cons_and_trans_x, cons_and_trans_y, test_size=0.2, random_state=42)"
   ]
  },
  {
   "cell_type": "markdown",
   "metadata": {},
   "source": [
    "1. Basic Logression - Baseline"
   ]
  },
  {
   "cell_type": "code",
   "execution_count": 8,
   "metadata": {},
   "outputs": [
    {
     "name": "stdout",
     "output_type": "stream",
     "text": [
      "Training set score: 0.904\n",
      "Test score: 0.905\n"
     ]
    },
    {
     "name": "stderr",
     "output_type": "stream",
     "text": [
      "C:\\Users\\Christian Conroy\\Anaconda3\\lib\\site-packages\\sklearn\\linear_model\\logistic.py:433: FutureWarning: Default solver will be changed to 'lbfgs' in 0.22. Specify a solver to silence this warning.\n",
      "  FutureWarning)\n",
      "C:\\Users\\Christian Conroy\\Anaconda3\\lib\\site-packages\\sklearn\\utils\\validation.py:761: DataConversionWarning: A column-vector y was passed when a 1d array was expected. Please change the shape of y to (n_samples, ), for example using ravel().\n",
      "  y = column_or_1d(y, warn=True)\n"
     ]
    }
   ],
   "source": [
    "logreg = LogisticRegression(penalty='l1').fit(X_train,y_train)\n",
    "print(\"Training set score: {:.3f}\".format(logreg.score(X_train, y_train.values.ravel())))\n",
    "print(\"Test score: {:.3f}\".format(logreg.score(X_test, y_test)))"
   ]
  },
  {
   "cell_type": "markdown",
   "metadata": {},
   "source": [
    "Check results of L1 Regularization"
   ]
  },
  {
   "cell_type": "code",
   "execution_count": 9,
   "metadata": {},
   "outputs": [
    {
     "data": {
      "text/plain": [
       "(8,)"
      ]
     },
     "execution_count": 9,
     "metadata": {},
     "output_type": "execute_result"
    }
   ],
   "source": [
    "logreg.coef_[logreg.coef_!=0].shape"
   ]
  },
  {
   "cell_type": "code",
   "execution_count": 10,
   "metadata": {},
   "outputs": [],
   "source": [
    "y_pred = logreg.predict(X_test)"
   ]
  },
  {
   "cell_type": "code",
   "execution_count": 11,
   "metadata": {},
   "outputs": [
    {
     "name": "stdout",
     "output_type": "stream",
     "text": [
      "              precision    recall  f1-score   support\n",
      "\n",
      "           0       0.91      0.99      0.95      2049\n",
      "           1       0.68      0.21      0.32       245\n",
      "\n",
      "   micro avg       0.90      0.90      0.90      2294\n",
      "   macro avg       0.80      0.60      0.63      2294\n",
      "weighted avg       0.89      0.90      0.88      2294\n",
      "\n"
     ]
    }
   ],
   "source": [
    "report = classification_report(y_test,y_pred)\n",
    "print(report)"
   ]
  },
  {
   "cell_type": "code",
   "execution_count": 12,
   "metadata": {},
   "outputs": [
    {
     "data": {
      "text/plain": [
       "0.5982251172797084"
      ]
     },
     "execution_count": 12,
     "metadata": {},
     "output_type": "execute_result"
    }
   ],
   "source": [
    "roc_auc_score(y_test,y_pred)"
   ]
  },
  {
   "cell_type": "markdown",
   "metadata": {},
   "source": [
    "2. Decision Tree - Baseline"
   ]
  },
  {
   "cell_type": "code",
   "execution_count": 13,
   "metadata": {},
   "outputs": [
    {
     "name": "stdout",
     "output_type": "stream",
     "text": [
      "Training set score: 0.908\n",
      "Test score: 0.905\n"
     ]
    }
   ],
   "source": [
    "tree = DecisionTreeClassifier(max_depth = 5, random_state=0)\n",
    "tree.fit(X_train, y_train)\n",
    "print(\"Training set score: {:.3f}\".format(tree.score(X_train, y_train)))\n",
    "print(\"Test score: {:.3f}\".format(tree.score(X_test, y_test)))"
   ]
  },
  {
   "cell_type": "code",
   "execution_count": 14,
   "metadata": {},
   "outputs": [
    {
     "name": "stdout",
     "output_type": "stream",
     "text": [
      "              precision    recall  f1-score   support\n",
      "\n",
      "           0       0.91      0.99      0.95      2049\n",
      "           1       0.68      0.21      0.32       245\n",
      "\n",
      "   micro avg       0.90      0.90      0.90      2294\n",
      "   macro avg       0.80      0.60      0.63      2294\n",
      "weighted avg       0.89      0.90      0.88      2294\n",
      "\n"
     ]
    }
   ],
   "source": [
    "y_pred = tree.predict(X_test)\n",
    "report = classification_report(y_test,y_pred)\n",
    "print(report)"
   ]
  },
  {
   "cell_type": "code",
   "execution_count": 15,
   "metadata": {},
   "outputs": [
    {
     "data": {
      "text/plain": [
       "0.5982251172797084"
      ]
     },
     "execution_count": 15,
     "metadata": {},
     "output_type": "execute_result"
    }
   ],
   "source": [
    "roc_auc_score(y_test,y_pred)"
   ]
  },
  {
   "cell_type": "code",
   "execution_count": 16,
   "metadata": {},
   "outputs": [
    {
     "data": {
      "image/png": "[encoded data removed]",
      "text/plain": [
       "<Figure size 432x288 with 1 Axes>"
      ]
     },
     "metadata": {
      "needs_background": "light"
     },
     "output_type": "display_data"
    }
   ],
   "source": [
    "def plot_feature_importances(model):\n",
    "    n_features = cons_and_trans_x.values.data.shape[1]\n",
    "    plt.barh(np.arange(n_features), model.feature_importances_, align='center')\n",
    "    plt.yticks(np.arange(n_features), cons_and_trans_x.columns)\n",
    "    plt.xlabel(\"Feature importance\")\n",
    "    plt.ylabel(\"Feature\")\n",
    "    \n",
    "plot_feature_importances(tree)"
   ]
  },
  {
   "cell_type": "markdown",
   "metadata": {},
   "source": [
    "3. Random Forest"
   ]
  },
  {
   "cell_type": "code",
   "execution_count": 17,
   "metadata": {},
   "outputs": [
    {
     "name": "stderr",
     "output_type": "stream",
     "text": [
      "C:\\Users\\Christian Conroy\\Anaconda3\\lib\\site-packages\\ipykernel_launcher.py:2: DataConversionWarning: A column-vector y was passed when a 1d array was expected. Please change the shape of y to (n_samples,), for example using ravel().\n",
      "  \n"
     ]
    },
    {
     "name": "stdout",
     "output_type": "stream",
     "text": [
      "Training set score: 0.995\n",
      "Test score: 0.879\n"
     ]
    }
   ],
   "source": [
    "forest = RandomForestClassifier(n_estimators=500, random_state=42)\n",
    "forest.fit(X_train, y_train)\n",
    "print(\"Training set score: {:.3f}\".format(forest.score(X_train, y_train)))\n",
    "print(\"Test score: {:.3f}\".format(forest.score(X_test, y_test)))"
   ]
  },
  {
   "cell_type": "code",
   "execution_count": 18,
   "metadata": {},
   "outputs": [
    {
     "name": "stdout",
     "output_type": "stream",
     "text": [
      "              precision    recall  f1-score   support\n",
      "\n",
      "           0       0.91      0.95      0.93      2049\n",
      "           1       0.40      0.26      0.31       245\n",
      "\n",
      "   micro avg       0.88      0.88      0.88      2294\n",
      "   macro avg       0.66      0.61      0.62      2294\n",
      "weighted avg       0.86      0.88      0.87      2294\n",
      "\n"
     ]
    }
   ],
   "source": [
    "y_pred = forest.predict(X_test)\n",
    "report = classification_report(y_test,y_pred)\n",
    "print(report)"
   ]
  },
  {
   "cell_type": "code",
   "execution_count": 19,
   "metadata": {},
   "outputs": [
    {
     "data": {
      "text/plain": [
       "0.6051453670780171"
      ]
     },
     "execution_count": 19,
     "metadata": {},
     "output_type": "execute_result"
    }
   ],
   "source": [
    "roc_auc_score(y_test,y_pred)"
   ]
  },
  {
   "cell_type": "code",
   "execution_count": 20,
   "metadata": {},
   "outputs": [
    {
     "data": {
      "image/png": "[encoded data removed]",
      "text/plain": [
       "<Figure size 432x288 with 1 Axes>"
      ]
     },
     "metadata": {
      "needs_background": "light"
     },
     "output_type": "display_data"
    }
   ],
   "source": [
    "plot_feature_importances(forest)"
   ]
  },
  {
   "cell_type": "code",
   "execution_count": 21,
   "metadata": {},
   "outputs": [
    {
     "name": "stdout",
     "output_type": "stream",
     "text": [
      "{'n_estimators': [100, 109, 118, 127, 136, 145, 154, 163, 172, 181, 190, 200, 209, 218, 227, 236, 245, 254, 263, 272, 281, 290, 300, 309, 318, 327, 336, 345, 354, 363, 372, 381, 390, 400, 409, 418, 427, 436, 445, 454, 463, 472, 481, 490, 500, 509, 518, 527, 536, 545, 554, 563, 572, 581, 590, 600, 609, 618, 627, 636, 645, 654, 663, 672, 681, 690, 700, 709, 718, 727, 736, 745, 754, 763, 772, 781, 790, 800, 809, 818, 827, 836, 845, 854, 863, 872, 881, 890, 900, 909, 918, 927, 936, 945, 954, 963, 972, 981, 990, 1000], 'max_features': ['auto', 'sqrt'], 'max_depth': [10, 20, 30, 40, 50, 60, 70, 80, 90, 100, 110, None], 'min_samples_split': [2, 5, 10], 'min_samples_leaf': [1, 2, 4], 'bootstrap': [True, False]}\n"
     ]
    }
   ],
   "source": [
    "from sklearn.model_selection import RandomizedSearchCV\n",
    "# Number of trees in random forest\n",
    "n_estimators = [int(x) for x in np.linspace(start = 100, stop = 1000, num = 100)]\n",
    "# Number of features to consider at every split\n",
    "max_features = ['auto', 'sqrt']\n",
    "# Maximum number of levels in tree\n",
    "max_depth = [int(x) for x in np.linspace(10, 110, num = 11)]\n",
    "max_depth.append(None)\n",
    "# Minimum number of samples required to split a node\n",
    "min_samples_split = [2, 5, 10]\n",
    "# Minimum number of samples required at each leaf node\n",
    "min_samples_leaf = [1, 2, 4]\n",
    "# Method of selecting samples for training each tree\n",
    "bootstrap = [True, False]\n",
    "# Create the random grid\n",
    "random_grid = {'n_estimators': n_estimators,\n",
    "               'max_features': max_features,\n",
    "               'max_depth': max_depth,\n",
    "               'min_samples_split': min_samples_split,\n",
    "               'min_samples_leaf': min_samples_leaf,\n",
    "               'bootstrap': bootstrap}\n",
    "print(random_grid)"
   ]
  },
  {
   "cell_type": "code",
   "execution_count": 22,
   "metadata": {},
   "outputs": [
    {
     "name": "stdout",
     "output_type": "stream",
     "text": [
      "Fitting 3 folds for each of 100 candidates, totalling 300 fits\n"
     ]
    },
    {
     "name": "stderr",
     "output_type": "stream",
     "text": [
      "[Parallel(n_jobs=-1)]: Using backend LokyBackend with 4 concurrent workers.\n",
      "[Parallel(n_jobs=-1)]: Done  33 tasks      | elapsed:  1.9min\n",
      "[Parallel(n_jobs=-1)]: Done 154 tasks      | elapsed:  5.5min\n",
      "[Parallel(n_jobs=-1)]: Done 300 out of 300 | elapsed:  9.6min finished\n",
      "C:\\Users\\Christian Conroy\\Anaconda3\\lib\\site-packages\\sklearn\\model_selection\\_search.py:740: DataConversionWarning: A column-vector y was passed when a 1d array was expected. Please change the shape of y to (n_samples,), for example using ravel().\n",
      "  self.best_estimator_.fit(X, y, **fit_params)\n"
     ]
    },
    {
     "name": "stdout",
     "output_type": "stream",
     "text": [
      "Training set score: 0.910\n",
      "Test score: 0.908\n"
     ]
    }
   ],
   "source": [
    "# Use the random grid to search for best hyperparameters\n",
    "# First create the base model to tune\n",
    "rf = RandomForestClassifier()\n",
    "# Random search of parameters, using 3 fold cross validation, \n",
    "# search across 100 different combinations, and use all available cores\n",
    "rf_random = RandomizedSearchCV(estimator = rf, param_distributions = random_grid, n_iter = 100, cv = 3, verbose=2, random_state=42, n_jobs = -1)\n",
    "# Fit the random search model\n",
    "rf_random.fit(X_train, y_train)\n",
    "\n",
    "print(\"Training set score: {:.3f}\".format(rf_random.score(X_train, y_train)))\n",
    "print(\"Test score: {:.3f}\".format(rf_random.score(X_test, y_test)))"
   ]
  },
  {
   "cell_type": "code",
   "execution_count": 23,
   "metadata": {},
   "outputs": [
    {
     "data": {
      "text/plain": [
       "{'n_estimators': 645,\n",
       " 'min_samples_split': 10,\n",
       " 'min_samples_leaf': 4,\n",
       " 'max_features': 'auto',\n",
       " 'max_depth': 10,\n",
       " 'bootstrap': True}"
      ]
     },
     "execution_count": 23,
     "metadata": {},
     "output_type": "execute_result"
    }
   ],
   "source": [
    "rf_random.best_params_"
   ]
  },
  {
   "cell_type": "code",
   "execution_count": 24,
   "metadata": {},
   "outputs": [
    {
     "name": "stdout",
     "output_type": "stream",
     "text": [
      "              precision    recall  f1-score   support\n",
      "\n",
      "           0       0.91      0.99      0.95      2049\n",
      "           1       0.74      0.21      0.32       245\n",
      "\n",
      "   micro avg       0.91      0.91      0.91      2294\n",
      "   macro avg       0.83      0.60      0.64      2294\n",
      "weighted avg       0.89      0.91      0.88      2294\n",
      "\n"
     ]
    }
   ],
   "source": [
    "y_pred = rf_random.predict(X_test)\n",
    "report = classification_report(y_test,y_pred)\n",
    "print(report)"
   ]
  },
  {
   "cell_type": "code",
   "execution_count": 25,
   "metadata": {},
   "outputs": [
    {
     "data": {
      "text/plain": [
       "0.5996892461230467"
      ]
     },
     "execution_count": 25,
     "metadata": {},
     "output_type": "execute_result"
    }
   ],
   "source": [
    "roc_auc_score(y_test,y_pred)"
   ]
  },
  {
   "cell_type": "markdown",
   "metadata": {},
   "source": [
    "4. Gradient Boosted Reg Tree"
   ]
  },
  {
   "cell_type": "code",
   "execution_count": 26,
   "metadata": {},
   "outputs": [
    {
     "name": "stderr",
     "output_type": "stream",
     "text": [
      "C:\\Users\\Christian Conroy\\Anaconda3\\lib\\site-packages\\sklearn\\utils\\validation.py:761: DataConversionWarning: A column-vector y was passed when a 1d array was expected. Please change the shape of y to (n_samples, ), for example using ravel().\n",
      "  y = column_or_1d(y, warn=True)\n"
     ]
    },
    {
     "name": "stdout",
     "output_type": "stream",
     "text": [
      "Training set score: 0.905\n",
      "Test score: 0.904\n"
     ]
    }
   ],
   "source": [
    "gbrt = GradientBoostingClassifier(random_state=0, max_depth=1, n_estimators = 100)\n",
    "gbrt.fit(X_train, y_train)\n",
    "print(\"Training set score: {:.3f}\".format(gbrt.score(X_train, y_train)))\n",
    "print(\"Test score: {:.3f}\".format(gbrt.score(X_test, y_test)))"
   ]
  },
  {
   "cell_type": "code",
   "execution_count": 27,
   "metadata": {},
   "outputs": [
    {
     "name": "stdout",
     "output_type": "stream",
     "text": [
      "              precision    recall  f1-score   support\n",
      "\n",
      "           0       0.91      0.99      0.95      2049\n",
      "           1       0.72      0.17      0.27       245\n",
      "\n",
      "   micro avg       0.90      0.90      0.90      2294\n",
      "   macro avg       0.81      0.58      0.61      2294\n",
      "weighted avg       0.89      0.90      0.88      2294\n",
      "\n"
     ]
    }
   ],
   "source": [
    "y_pred = gbrt.predict(X_test)\n",
    "report = classification_report(y_test,y_pred)\n",
    "print(report)"
   ]
  },
  {
   "cell_type": "code",
   "execution_count": 28,
   "metadata": {},
   "outputs": [
    {
     "data": {
      "text/plain": [
       "0.5797691258055199"
      ]
     },
     "execution_count": 28,
     "metadata": {},
     "output_type": "execute_result"
    }
   ],
   "source": [
    "roc_auc_score(y_test,y_pred)"
   ]
  },
  {
   "cell_type": "code",
   "execution_count": 29,
   "metadata": {},
   "outputs": [
    {
     "data": {
      "image/png": "[encoded data removed]",
      "text/plain": [
       "<Figure size 432x288 with 1 Axes>"
      ]
     },
     "metadata": {
      "needs_background": "light"
     },
     "output_type": "display_data"
    }
   ],
   "source": [
    "plot_feature_importances(gbrt)"
   ]
  },
  {
   "cell_type": "markdown",
   "metadata": {},
   "source": [
    "4.5. Gradient Boosting with Early Stopping"
   ]
  },
  {
   "cell_type": "code",
   "execution_count": 30,
   "metadata": {},
   "outputs": [
    {
     "name": "stdout",
     "output_type": "stream",
     "text": [
      "Training set score: 0.905\n",
      "Test score: 0.904\n"
     ]
    },
    {
     "name": "stderr",
     "output_type": "stream",
     "text": [
      "C:\\Users\\Christian Conroy\\Anaconda3\\lib\\site-packages\\sklearn\\utils\\validation.py:761: DataConversionWarning: A column-vector y was passed when a 1d array was expected. Please change the shape of y to (n_samples, ), for example using ravel().\n",
      "  y = column_or_1d(y, warn=True)\n"
     ]
    }
   ],
   "source": [
    "errors = [roc_auc_score(y_test,y_pred) for y_pred in gbrt.staged_predict(X_test)]\n",
    "\n",
    "bst_n_estimators = np.argmin(errors) + 1\n",
    "\n",
    "gbrt_best = GradientBoostingClassifier(max_depth=2, n_estimators = bst_n_estimators, random_state=42)\n",
    "gbrt_best.fit(X_train, y_train)\n",
    "\n",
    "print(\"Training set score: {:.3f}\".format(gbrt.score(X_train, y_train)))\n",
    "print(\"Test score: {:.3f}\".format(gbrt.score(X_test, y_test)))"
   ]
  },
  {
   "cell_type": "code",
   "execution_count": 31,
   "metadata": {},
   "outputs": [
    {
     "name": "stdout",
     "output_type": "stream",
     "text": [
      "              precision    recall  f1-score   support\n",
      "\n",
      "           0       0.91      0.99      0.95      2049\n",
      "           1       0.72      0.17      0.27       245\n",
      "\n",
      "   micro avg       0.90      0.90      0.90      2294\n",
      "   macro avg       0.81      0.58      0.61      2294\n",
      "weighted avg       0.89      0.90      0.88      2294\n",
      "\n"
     ]
    }
   ],
   "source": [
    "y_pred = gbrt.predict(X_test)\n",
    "report = classification_report(y_test,y_pred)\n",
    "print(report)"
   ]
  },
  {
   "cell_type": "code",
   "execution_count": 32,
   "metadata": {},
   "outputs": [
    {
     "data": {
      "text/plain": [
       "0.5797691258055199"
      ]
     },
     "execution_count": 32,
     "metadata": {},
     "output_type": "execute_result"
    }
   ],
   "source": [
    "roc_auc_score(y_test,y_pred)"
   ]
  },
  {
   "cell_type": "markdown",
   "metadata": {},
   "source": [
    "4.75. Gradient Boosting Warm Start Method"
   ]
  },
  {
   "cell_type": "code",
   "execution_count": 33,
   "metadata": {},
   "outputs": [
    {
     "name": "stdout",
     "output_type": "stream",
     "text": [
      "Training set score: 0.896\n",
      "Test score: 0.893\n"
     ]
    }
   ],
   "source": [
    "gbrt = GradientBoostingClassifier(max_depth=2, warm_start=True, random_state=42)\n",
    "\n",
    "min_val_error = float(\"inf\")\n",
    "error_going_up = 0\n",
    "for n_estimators in range(1, 120):\n",
    "    gbrt.n_estimators = n_estimators\n",
    "    gbrt.fit(X_train, y_train.values.ravel())\n",
    "    y_pred = gbrt.predict(X_test)\n",
    "    val_error = roc_auc_score(y_test,y_pred) \n",
    "    if val_error < min_val_error:\n",
    "        min_val_error = val_error\n",
    "        error_going_up = 0\n",
    "    else: \n",
    "        error_going_up += 1\n",
    "        if error_going_up == 5:\n",
    "            break\n",
    "\n",
    "gbrt_best = GradientBoostingClassifier(max_depth=2, n_estimators = gbrt.n_estimators, random_state=42)\n",
    "gbrt_best.fit(X_train, y_train.values.ravel())\n",
    "\n",
    "print(\"Training set score: {:.3f}\".format(gbrt.score(X_train, y_train)))\n",
    "print(\"Test score: {:.3f}\".format(gbrt.score(X_test, y_test)))"
   ]
  },
  {
   "cell_type": "code",
   "execution_count": 34,
   "metadata": {},
   "outputs": [
    {
     "name": "stdout",
     "output_type": "stream",
     "text": [
      "6\n"
     ]
    }
   ],
   "source": [
    "print(gbrt.n_estimators)"
   ]
  },
  {
   "cell_type": "code",
   "execution_count": 35,
   "metadata": {},
   "outputs": [
    {
     "name": "stdout",
     "output_type": "stream",
     "text": [
      "              precision    recall  f1-score   support\n",
      "\n",
      "           0       0.89      1.00      0.94      2049\n",
      "           1       0.00      0.00      0.00       245\n",
      "\n",
      "   micro avg       0.89      0.89      0.89      2294\n",
      "   macro avg       0.45      0.50      0.47      2294\n",
      "weighted avg       0.80      0.89      0.84      2294\n",
      "\n"
     ]
    },
    {
     "name": "stderr",
     "output_type": "stream",
     "text": [
      "C:\\Users\\Christian Conroy\\Anaconda3\\lib\\site-packages\\sklearn\\metrics\\classification.py:1143: UndefinedMetricWarning: Precision and F-score are ill-defined and being set to 0.0 in labels with no predicted samples.\n",
      "  'precision', 'predicted', average, warn_for)\n"
     ]
    }
   ],
   "source": [
    "y_pred = gbrt.predict(X_test)\n",
    "report = classification_report(y_test,y_pred)\n",
    "print(report)"
   ]
  },
  {
   "cell_type": "code",
   "execution_count": 36,
   "metadata": {},
   "outputs": [
    {
     "data": {
      "text/plain": [
       "0.5"
      ]
     },
     "execution_count": 36,
     "metadata": {},
     "output_type": "execute_result"
    }
   ],
   "source": [
    "roc_auc_score(y_test,y_pred)"
   ]
  },
  {
   "cell_type": "markdown",
   "metadata": {},
   "source": [
    "5. SVM"
   ]
  },
  {
   "cell_type": "code",
   "execution_count": 37,
   "metadata": {},
   "outputs": [
    {
     "name": "stderr",
     "output_type": "stream",
     "text": [
      "C:\\Users\\Christian Conroy\\Anaconda3\\lib\\site-packages\\sklearn\\preprocessing\\data.py:645: DataConversionWarning: Data with input dtype int64, float64 were all converted to float64 by StandardScaler.\n",
      "  return self.partial_fit(X, y)\n",
      "C:\\Users\\Christian Conroy\\Anaconda3\\lib\\site-packages\\sklearn\\base.py:464: DataConversionWarning: Data with input dtype int64, float64 were all converted to float64 by StandardScaler.\n",
      "  return self.fit(X, **fit_params).transform(X)\n",
      "C:\\Users\\Christian Conroy\\Anaconda3\\lib\\site-packages\\sklearn\\preprocessing\\data.py:645: DataConversionWarning: Data with input dtype int64, float64 were all converted to float64 by StandardScaler.\n",
      "  return self.partial_fit(X, y)\n",
      "C:\\Users\\Christian Conroy\\Anaconda3\\lib\\site-packages\\sklearn\\base.py:464: DataConversionWarning: Data with input dtype int64, float64 were all converted to float64 by StandardScaler.\n",
      "  return self.fit(X, **fit_params).transform(X)\n"
     ]
    }
   ],
   "source": [
    "scaler = StandardScaler()\n",
    "X_train_scaled = scaler.fit_transform(X_train)\n",
    "X_test_scaled = scaler.fit_transform(X_test)"
   ]
  },
  {
   "cell_type": "code",
   "execution_count": 38,
   "metadata": {},
   "outputs": [
    {
     "name": "stdout",
     "output_type": "stream",
     "text": [
      "Training set score: 0.904\n",
      "Test score: 0.905\n"
     ]
    }
   ],
   "source": [
    "svm = SVC(kernel='rbf', gamma=\"scale\")\n",
    "svm.fit(X_train_scaled, y_train.values.ravel())\n",
    "print(\"Training set score: {:.3f}\".format(svm.score(X_train_scaled, y_train)))\n",
    "print(\"Test score: {:.3f}\".format(svm.score(X_test_scaled, y_test)))"
   ]
  },
  {
   "cell_type": "code",
   "execution_count": 39,
   "metadata": {},
   "outputs": [
    {
     "name": "stdout",
     "output_type": "stream",
     "text": [
      "              precision    recall  f1-score   support\n",
      "\n",
      "           0       0.91      0.99      0.95      2049\n",
      "           1       0.68      0.21      0.32       245\n",
      "\n",
      "   micro avg       0.90      0.90      0.90      2294\n",
      "   macro avg       0.80      0.60      0.63      2294\n",
      "weighted avg       0.89      0.90      0.88      2294\n",
      "\n"
     ]
    }
   ],
   "source": [
    "y_pred = svm.predict(X_test_scaled)\n",
    "report = classification_report(y_test,y_pred)\n",
    "print(report)"
   ]
  },
  {
   "cell_type": "code",
   "execution_count": 40,
   "metadata": {},
   "outputs": [
    {
     "data": {
      "text/plain": [
       "0.5982251172797084"
      ]
     },
     "execution_count": 40,
     "metadata": {},
     "output_type": "execute_result"
    }
   ],
   "source": [
    "roc_auc_score(y_test,y_pred)"
   ]
  },
  {
   "cell_type": "code",
   "execution_count": 41,
   "metadata": {},
   "outputs": [],
   "source": [
    "from sklearn.model_selection import RandomizedSearchCV\n",
    "from scipy.stats import reciprocal, uniform"
   ]
  },
  {
   "cell_type": "code",
   "execution_count": 42,
   "metadata": {},
   "outputs": [
    {
     "name": "stdout",
     "output_type": "stream",
     "text": [
      "Fitting 3 folds for each of 10 candidates, totalling 30 fits\n",
      "[CV] C=6.079561932872973, gamma=0.09600933311034096 ..................\n"
     ]
    },
    {
     "name": "stderr",
     "output_type": "stream",
     "text": [
      "[Parallel(n_jobs=1)]: Using backend SequentialBackend with 1 concurrent workers.\n"
     ]
    },
    {
     "name": "stdout",
     "output_type": "stream",
     "text": [
      "[CV] ... C=6.079561932872973, gamma=0.09600933311034096, total=   1.0s\n",
      "[CV] C=6.079561932872973, gamma=0.09600933311034096 ..................\n"
     ]
    },
    {
     "name": "stderr",
     "output_type": "stream",
     "text": [
      "[Parallel(n_jobs=1)]: Done   1 out of   1 | elapsed:    1.2s remaining:    0.0s\n"
     ]
    },
    {
     "name": "stdout",
     "output_type": "stream",
     "text": [
      "[CV] ... C=6.079561932872973, gamma=0.09600933311034096, total=   1.1s\n",
      "[CV] C=6.079561932872973, gamma=0.09600933311034096 ..................\n",
      "[CV] ... C=6.079561932872973, gamma=0.09600933311034096, total=   1.1s\n",
      "[CV] C=6.3015103984211756, gamma=0.0017624472049762795 ...............\n",
      "[CV]  C=6.3015103984211756, gamma=0.0017624472049762795, total=   0.3s\n",
      "[CV] C=6.3015103984211756, gamma=0.0017624472049762795 ...............\n",
      "[CV]  C=6.3015103984211756, gamma=0.0017624472049762795, total=   0.2s\n",
      "[CV] C=6.3015103984211756, gamma=0.0017624472049762795 ...............\n",
      "[CV]  C=6.3015103984211756, gamma=0.0017624472049762795, total=   0.3s\n",
      "[CV] C=3.497728018995481, gamma=0.05016374399047416 ..................\n",
      "[CV] ... C=3.497728018995481, gamma=0.05016374399047416, total=   0.7s\n",
      "[CV] C=3.497728018995481, gamma=0.05016374399047416 ..................\n",
      "[CV] ... C=3.497728018995481, gamma=0.05016374399047416, total=   0.7s\n",
      "[CV] C=3.497728018995481, gamma=0.05016374399047416 ..................\n",
      "[CV] ... C=3.497728018995481, gamma=0.05016374399047416, total=   0.7s\n",
      "[CV] C=7.301908389815134, gamma=0.004773492583496353 .................\n",
      "[CV] .. C=7.301908389815134, gamma=0.004773492583496353, total=   0.4s\n",
      "[CV] C=7.301908389815134, gamma=0.004773492583496353 .................\n",
      "[CV] .. C=7.301908389815134, gamma=0.004773492583496353, total=   0.3s\n",
      "[CV] C=7.301908389815134, gamma=0.004773492583496353 .................\n",
      "[CV] .. C=7.301908389815134, gamma=0.004773492583496353, total=   0.3s\n",
      "[CV] C=4.134587625359386, gamma=0.022458032343155722 .................\n",
      "[CV] .. C=4.134587625359386, gamma=0.022458032343155722, total=   0.7s\n",
      "[CV] C=4.134587625359386, gamma=0.022458032343155722 .................\n",
      "[CV] .. C=4.134587625359386, gamma=0.022458032343155722, total=   0.6s\n",
      "[CV] C=4.134587625359386, gamma=0.022458032343155722 .................\n",
      "[CV] .. C=4.134587625359386, gamma=0.022458032343155722, total=   0.6s\n",
      "[CV] C=7.028265223765685, gamma=0.030150271429322494 .................\n",
      "[CV] .. C=7.028265223765685, gamma=0.030150271429322494, total=   0.8s\n",
      "[CV] C=7.028265223765685, gamma=0.030150271429322494 .................\n",
      "[CV] .. C=7.028265223765685, gamma=0.030150271429322494, total=   0.8s\n",
      "[CV] C=7.028265223765685, gamma=0.030150271429322494 .................\n",
      "[CV] .. C=7.028265223765685, gamma=0.030150271429322494, total=   0.7s\n",
      "[CV] C=10.746579766069205, gamma=0.046613396166385275 ................\n",
      "[CV] . C=10.746579766069205, gamma=0.046613396166385275, total=   0.7s\n",
      "[CV] C=10.746579766069205, gamma=0.046613396166385275 ................\n",
      "[CV] . C=10.746579766069205, gamma=0.046613396166385275, total=   0.6s\n",
      "[CV] C=10.746579766069205, gamma=0.046613396166385275 ................\n",
      "[CV] . C=10.746579766069205, gamma=0.046613396166385275, total=   0.7s\n",
      "[CV] C=8.983165323224485, gamma=0.0022316726963219867 ................\n",
      "[CV] . C=8.983165323224485, gamma=0.0022316726963219867, total=   0.2s\n",
      "[CV] C=8.983165323224485, gamma=0.0022316726963219867 ................\n",
      "[CV] . C=8.983165323224485, gamma=0.0022316726963219867, total=   0.3s\n",
      "[CV] C=8.983165323224485, gamma=0.0022316726963219867 ................\n",
      "[CV] . C=8.983165323224485, gamma=0.0022316726963219867, total=   0.3s\n",
      "[CV] C=10.247801674136126, gamma=0.07292727568499686 .................\n",
      "[CV] .. C=10.247801674136126, gamma=0.07292727568499686, total=   1.0s\n",
      "[CV] C=10.247801674136126, gamma=0.07292727568499686 .................\n",
      "[CV] .. C=10.247801674136126, gamma=0.07292727568499686, total=   1.0s\n",
      "[CV] C=10.247801674136126, gamma=0.07292727568499686 .................\n",
      "[CV] .. C=10.247801674136126, gamma=0.07292727568499686, total=   1.1s\n",
      "[CV] C=8.883137219512307, gamma=0.006449660050706956 .................\n",
      "[CV] .. C=8.883137219512307, gamma=0.006449660050706956, total=   0.3s\n",
      "[CV] C=8.883137219512307, gamma=0.006449660050706956 .................\n",
      "[CV] .. C=8.883137219512307, gamma=0.006449660050706956, total=   0.3s\n",
      "[CV] C=8.883137219512307, gamma=0.006449660050706956 .................\n",
      "[CV] .. C=8.883137219512307, gamma=0.006449660050706956, total=   0.4s\n"
     ]
    },
    {
     "name": "stderr",
     "output_type": "stream",
     "text": [
      "[Parallel(n_jobs=1)]: Done  30 out of  30 | elapsed:   27.0s finished\n"
     ]
    },
    {
     "data": {
      "text/plain": [
       "RandomizedSearchCV(cv=3, error_score='raise-deprecating',\n",
       "          estimator=SVC(C=1.0, cache_size=200, class_weight=None, coef0=0.0,\n",
       "  decision_function_shape='ovr', degree=3, gamma='scale', kernel='rbf',\n",
       "  max_iter=-1, probability=False, random_state=None, shrinking=True,\n",
       "  tol=0.001, verbose=False),\n",
       "          fit_params=None, iid='warn', n_iter=10, n_jobs=None,\n",
       "          param_distributions={'gamma': <scipy.stats._distn_infrastructure.rv_frozen object at 0x000001C6FB7C3320>, 'C': <scipy.stats._distn_infrastructure.rv_frozen object at 0x000001C6FB96DAC8>},\n",
       "          pre_dispatch='2*n_jobs', random_state=None, refit=True,\n",
       "          return_train_score='warn', scoring=None, verbose=2)"
      ]
     },
     "execution_count": 42,
     "metadata": {},
     "output_type": "execute_result"
    }
   ],
   "source": [
    "param_distributions = {\"gamma\": reciprocal(0.001, 0.1), \"C\":uniform(1,10)}\n",
    "rnd_search_cv = RandomizedSearchCV(svm, param_distributions, n_iter=10, verbose=2, cv=3)\n",
    "rnd_search_cv.fit(X_train_scaled, y_train.values.ravel())"
   ]
  },
  {
   "cell_type": "code",
   "execution_count": 43,
   "metadata": {},
   "outputs": [
    {
     "data": {
      "text/plain": [
       "SVC(C=6.3015103984211756, cache_size=200, class_weight=None, coef0=0.0,\n",
       "  decision_function_shape='ovr', degree=3, gamma=0.0017624472049762795,\n",
       "  kernel='rbf', max_iter=-1, probability=False, random_state=None,\n",
       "  shrinking=True, tol=0.001, verbose=False)"
      ]
     },
     "execution_count": 43,
     "metadata": {},
     "output_type": "execute_result"
    }
   ],
   "source": [
    "rnd_search_cv.best_estimator_"
   ]
  },
  {
   "cell_type": "code",
   "execution_count": 44,
   "metadata": {},
   "outputs": [
    {
     "data": {
      "text/plain": [
       "0.9043051771117167"
      ]
     },
     "execution_count": 44,
     "metadata": {},
     "output_type": "execute_result"
    }
   ],
   "source": [
    "rnd_search_cv.best_score_"
   ]
  },
  {
   "cell_type": "code",
   "execution_count": 45,
   "metadata": {},
   "outputs": [
    {
     "data": {
      "text/plain": [
       "SVC(C=6.3015103984211756, cache_size=200, class_weight=None, coef0=0.0,\n",
       "  decision_function_shape='ovr', degree=3, gamma=0.0017624472049762795,\n",
       "  kernel='rbf', max_iter=-1, probability=False, random_state=None,\n",
       "  shrinking=True, tol=0.001, verbose=False)"
      ]
     },
     "execution_count": 45,
     "metadata": {},
     "output_type": "execute_result"
    }
   ],
   "source": [
    "rnd_search_cv.best_estimator_.fit(X_train_scaled, y_train.values.ravel())"
   ]
  },
  {
   "cell_type": "code",
   "execution_count": 46,
   "metadata": {},
   "outputs": [
    {
     "name": "stdout",
     "output_type": "stream",
     "text": [
      "              precision    recall  f1-score   support\n",
      "\n",
      "           0       0.91      0.99      0.95      2049\n",
      "           1       0.68      0.21      0.32       245\n",
      "\n",
      "   micro avg       0.90      0.90      0.90      2294\n",
      "   macro avg       0.80      0.60      0.63      2294\n",
      "weighted avg       0.89      0.90      0.88      2294\n",
      "\n"
     ]
    }
   ],
   "source": [
    "y_pred = rnd_search_cv.best_estimator_.predict(X_test_scaled)\n",
    "report = classification_report(y_test,y_pred)\n",
    "print(report)"
   ]
  },
  {
   "cell_type": "code",
   "execution_count": 47,
   "metadata": {},
   "outputs": [
    {
     "data": {
      "text/plain": [
       "0.5982251172797084"
      ]
     },
     "execution_count": 47,
     "metadata": {},
     "output_type": "execute_result"
    }
   ],
   "source": [
    "roc_auc_score(y_test,y_pred)"
   ]
  },
  {
   "cell_type": "markdown",
   "metadata": {},
   "source": [
    "## 6. Dealing with Class Imbalance"
   ]
  },
  {
   "cell_type": "markdown",
   "metadata": {},
   "source": [
    "### Upsampling"
   ]
  },
  {
   "cell_type": "code",
   "execution_count": 48,
   "metadata": {},
   "outputs": [
    {
     "data": {
      "text/plain": [
       "0    8217\n",
       "1     958\n",
       "Name: bad_tenant, dtype: int64"
      ]
     },
     "execution_count": 48,
     "metadata": {},
     "output_type": "execute_result"
    }
   ],
   "source": [
    "y_train['bad_tenant'].value_counts()"
   ]
  },
  {
   "cell_type": "code",
   "execution_count": 105,
   "metadata": {},
   "outputs": [
    {
     "name": "stderr",
     "output_type": "stream",
     "text": [
      "C:\\Users\\Christian Conroy\\Anaconda3\\lib\\site-packages\\sklearn\\preprocessing\\label.py:219: DataConversionWarning: A column-vector y was passed when a 1d array was expected. Please change the shape of y to (n_samples, ), for example using ravel().\n",
      "  y = column_or_1d(y, warn=True)\n",
      "C:\\Users\\Christian Conroy\\Anaconda3\\lib\\site-packages\\sklearn\\preprocessing\\label.py:252: DataConversionWarning: A column-vector y was passed when a 1d array was expected. Please change the shape of y to (n_samples, ), for example using ravel().\n",
      "  y = column_or_1d(y, warn=True)\n"
     ]
    }
   ],
   "source": [
    "from sklearn.preprocessing import LabelEncoder\n",
    "\n",
    "X = cons_and_trans_x.values\n",
    "y = cons_and_trans_y.values\n",
    "\n",
    "encoder = LabelEncoder()\n",
    "encoder.fit(y)\n",
    "y = encoder.transform(y)\n",
    "\n",
    "X_imb = np.vstack((X[y == 0], X[y == 1]))\n",
    "y_imb = np.hstack((y[y == 0], y[y == 1]))"
   ]
  },
  {
   "cell_type": "code",
   "execution_count": 106,
   "metadata": {},
   "outputs": [
    {
     "name": "stdout",
     "output_type": "stream",
     "text": [
      "Number of class 1 examples before: 1203\n",
      "Number of class 1 examples after: 10266\n"
     ]
    }
   ],
   "source": [
    "from sklearn.utils import resample\n",
    "\n",
    "print(\"Number of class 1 examples before:\", X_imb[y_imb == 1].shape[0])\n",
    "\n",
    "X_upsampled, y_upsampled = resample(X_imb[y_imb == 1], y_imb[y_imb == 1], replace=True, n_samples=X_imb[y_imb == 0].shape[0], random_state=123)\n",
    "\n",
    "print(\"Number of class 1 examples after:\", X_upsampled.shape[0])"
   ]
  },
  {
   "cell_type": "code",
   "execution_count": 107,
   "metadata": {},
   "outputs": [],
   "source": [
    "X_bal = np.vstack((X[y == 0], X_upsampled))\n",
    "y_bal = np.hstack((y[y == 0], y_upsampled))"
   ]
  },
  {
   "cell_type": "code",
   "execution_count": 109,
   "metadata": {},
   "outputs": [],
   "source": [
    "X_train, X_test, y_train, y_test = X_train, X_test, y_train, y_test = train_test_split(X_bal, y_bal, test_size=0.2, random_state=0)"
   ]
  },
  {
   "cell_type": "markdown",
   "metadata": {},
   "source": [
    "1. Logistic Reg"
   ]
  },
  {
   "cell_type": "code",
   "execution_count": 110,
   "metadata": {},
   "outputs": [
    {
     "name": "stdout",
     "output_type": "stream",
     "text": [
      "Training set score: 0.655\n",
      "Test score: 0.654\n"
     ]
    },
    {
     "name": "stderr",
     "output_type": "stream",
     "text": [
      "C:\\Users\\Christian Conroy\\Anaconda3\\lib\\site-packages\\sklearn\\linear_model\\logistic.py:433: FutureWarning: Default solver will be changed to 'lbfgs' in 0.22. Specify a solver to silence this warning.\n",
      "  FutureWarning)\n"
     ]
    }
   ],
   "source": [
    "logreg = LogisticRegression(penalty='l1').fit(X_train,y_train)\n",
    "print(\"Training set score: {:.3f}\".format(logreg.score(X_train, y_train)))\n",
    "print(\"Test score: {:.3f}\".format(logreg.score(X_test, y_test)))"
   ]
  },
  {
   "cell_type": "code",
   "execution_count": 111,
   "metadata": {},
   "outputs": [
    {
     "name": "stdout",
     "output_type": "stream",
     "text": [
      "              precision    recall  f1-score   support\n",
      "\n",
      "           0       0.63      0.76      0.69      2050\n",
      "           1       0.70      0.54      0.61      2057\n",
      "\n",
      "   micro avg       0.65      0.65      0.65      4107\n",
      "   macro avg       0.66      0.65      0.65      4107\n",
      "weighted avg       0.66      0.65      0.65      4107\n",
      "\n"
     ]
    }
   ],
   "source": [
    "y_pred = logreg.predict(X_test)\n",
    "\n",
    "report = classification_report(y_test,y_pred)\n",
    "print(report)"
   ]
  },
  {
   "cell_type": "code",
   "execution_count": 112,
   "metadata": {},
   "outputs": [
    {
     "data": {
      "text/plain": [
       "0.6537062024971246"
      ]
     },
     "execution_count": 112,
     "metadata": {},
     "output_type": "execute_result"
    }
   ],
   "source": [
    "roc_auc_score(y_test,y_pred)"
   ]
  },
  {
   "cell_type": "markdown",
   "metadata": {},
   "source": [
    "Decision Tree"
   ]
  },
  {
   "cell_type": "code",
   "execution_count": 113,
   "metadata": {},
   "outputs": [
    {
     "name": "stdout",
     "output_type": "stream",
     "text": [
      "Training set score: 0.659\n",
      "Test score: 0.658\n"
     ]
    }
   ],
   "source": [
    "tree = DecisionTreeClassifier(max_depth = 5, random_state=0)\n",
    "tree.fit(X_train, y_train)\n",
    "print(\"Training set score: {:.3f}\".format(tree.score(X_train, y_train)))\n",
    "print(\"Test score: {:.3f}\".format(tree.score(X_test, y_test)))"
   ]
  },
  {
   "cell_type": "code",
   "execution_count": 114,
   "metadata": {},
   "outputs": [
    {
     "name": "stdout",
     "output_type": "stream",
     "text": [
      "              precision    recall  f1-score   support\n",
      "\n",
      "           0       0.63      0.78      0.70      2050\n",
      "           1       0.71      0.53      0.61      2057\n",
      "\n",
      "   micro avg       0.66      0.66      0.66      4107\n",
      "   macro avg       0.67      0.66      0.65      4107\n",
      "weighted avg       0.67      0.66      0.65      4107\n",
      "\n"
     ]
    }
   ],
   "source": [
    "y_pred = tree.predict(X_test)\n",
    "report = classification_report(y_test,y_pred)\n",
    "print(report)"
   ]
  },
  {
   "cell_type": "code",
   "execution_count": 115,
   "metadata": {},
   "outputs": [
    {
     "data": {
      "text/plain": [
       "0.6581130464683355"
      ]
     },
     "execution_count": 115,
     "metadata": {},
     "output_type": "execute_result"
    }
   ],
   "source": [
    "roc_auc_score(y_test,y_pred)"
   ]
  },
  {
   "cell_type": "markdown",
   "metadata": {},
   "source": [
    "Random Forest"
   ]
  },
  {
   "cell_type": "code",
   "execution_count": 116,
   "metadata": {},
   "outputs": [
    {
     "name": "stdout",
     "output_type": "stream",
     "text": [
      "Training set score: 0.996\n",
      "Test score: 0.941\n"
     ]
    }
   ],
   "source": [
    "forest_upsamp = RandomForestClassifier(n_estimators=500, random_state=42)\n",
    "forest_upsamp.fit(X_train, y_train)\n",
    "print(\"Training set score: {:.3f}\".format(forest_upsamp.score(X_train, y_train)))\n",
    "print(\"Test score: {:.3f}\".format(forest_upsamp.score(X_test, y_test)))"
   ]
  },
  {
   "cell_type": "code",
   "execution_count": 117,
   "metadata": {},
   "outputs": [
    {
     "name": "stdout",
     "output_type": "stream",
     "text": [
      "              precision    recall  f1-score   support\n",
      "\n",
      "           0       1.00      0.88      0.94      2050\n",
      "           1       0.90      1.00      0.94      2057\n",
      "\n",
      "   micro avg       0.94      0.94      0.94      4107\n",
      "   macro avg       0.95      0.94      0.94      4107\n",
      "weighted avg       0.95      0.94      0.94      4107\n",
      "\n"
     ]
    }
   ],
   "source": [
    "y_pred = forest_upsamp.predict(X_test)\n",
    "report = classification_report(y_test,y_pred)\n",
    "print(report)"
   ]
  },
  {
   "cell_type": "code",
   "execution_count": 118,
   "metadata": {},
   "outputs": [
    {
     "data": {
      "text/plain": [
       "0.9409764397595363"
      ]
     },
     "execution_count": 118,
     "metadata": {},
     "output_type": "execute_result"
    }
   ],
   "source": [
    "roc_auc_score(y_test,y_pred)"
   ]
  },
  {
   "cell_type": "code",
   "execution_count": 119,
   "metadata": {},
   "outputs": [
    {
     "data": {
      "image/png": "[encoded data removed]",
      "text/plain": [
       "<Figure size 432x288 with 1 Axes>"
      ]
     },
     "metadata": {
      "needs_background": "light"
     },
     "output_type": "display_data"
    }
   ],
   "source": [
    "plot_feature_importances(forest_upsamp)"
   ]
  },
  {
   "cell_type": "code",
   "execution_count": 121,
   "metadata": {},
   "outputs": [
    {
     "data": {
      "image/png": "[encoded data removed]",
      "text/plain": [
       "<Figure size 432x288 with 1 Axes>"
      ]
     },
     "metadata": {
      "needs_background": "light"
     },
     "output_type": "display_data"
    }
   ],
   "source": [
    "def plot_feature_importances_save(model):\n",
    "    n_features = cons_and_trans_x.values.data.shape[1]\n",
    "    plt.barh(np.arange(n_features), model.feature_importances_, align='center')\n",
    "    plt.yticks(np.arange(n_features), cons_and_trans_x.columns)\n",
    "    plt.xlabel(\"Feature importance\")\n",
    "    plt.ylabel(\"Feature\")\n",
    "    plt.savefig(output_bucket + 'forest_upsamp.png', bbox_inches='tight')\n",
    "plot_feature_importances_save(forest_upsamp)    "
   ]
  },
  {
   "cell_type": "code",
   "execution_count": 122,
   "metadata": {},
   "outputs": [
    {
     "data": {
      "text/plain": [
       "count    1203.000000\n",
       "mean      997.566916\n",
       "std       586.692225\n",
       "min        27.000000\n",
       "25%       487.000000\n",
       "50%       933.000000\n",
       "75%      1483.000000\n",
       "max      2187.000000\n",
       "Name: total_contract_length, dtype: float64"
      ]
     },
     "execution_count": 122,
     "metadata": {},
     "output_type": "execute_result"
    }
   ],
   "source": [
    "# Check on likely directionality\n",
    "cons_and_trans[cons_and_trans['bad_tenant'] == 1]['total_contract_length'].describe()"
   ]
  },
  {
   "cell_type": "code",
   "execution_count": 123,
   "metadata": {},
   "outputs": [
    {
     "data": {
      "text/plain": [
       "count    10266.000000\n",
       "mean       914.547536\n",
       "std        621.455948\n",
       "min          0.000000\n",
       "25%        377.000000\n",
       "50%        819.000000\n",
       "75%       1417.000000\n",
       "max       2191.000000\n",
       "Name: total_contract_length, dtype: float64"
      ]
     },
     "execution_count": 123,
     "metadata": {},
     "output_type": "execute_result"
    }
   ],
   "source": [
    "cons_and_trans[cons_and_trans['bad_tenant'] == 0]['total_contract_length'].describe()"
   ]
  },
  {
   "cell_type": "code",
   "execution_count": 124,
   "metadata": {},
   "outputs": [
    {
     "data": {
      "text/plain": [
       "count    1203.000000\n",
       "mean       43.397340\n",
       "std        13.084967\n",
       "min        19.000000\n",
       "25%        32.000000\n",
       "50%        43.000000\n",
       "75%        55.000000\n",
       "max        68.000000\n",
       "Name: age_contract_start, dtype: float64"
      ]
     },
     "execution_count": 124,
     "metadata": {},
     "output_type": "execute_result"
    }
   ],
   "source": [
    "# Check on likely directionality\n",
    "cons_and_trans[cons_and_trans['bad_tenant'] == 1]['age_contract_start'].describe()"
   ]
  },
  {
   "cell_type": "code",
   "execution_count": 125,
   "metadata": {},
   "outputs": [
    {
     "data": {
      "text/plain": [
       "count    10266.000000\n",
       "mean        44.164718\n",
       "std         12.918963\n",
       "min         19.000000\n",
       "25%         33.000000\n",
       "50%         44.000000\n",
       "75%         55.000000\n",
       "max         68.000000\n",
       "Name: age_contract_start, dtype: float64"
      ]
     },
     "execution_count": 125,
     "metadata": {},
     "output_type": "execute_result"
    }
   ],
   "source": [
    "cons_and_trans[cons_and_trans['bad_tenant'] == 0]['age_contract_start'].describe()"
   ]
  },
  {
   "cell_type": "code",
   "execution_count": 126,
   "metadata": {},
   "outputs": [
    {
     "data": {
      "text/plain": [
       "count    1203.000000\n",
       "mean        0.086879\n",
       "std         0.269489\n",
       "min         0.000000\n",
       "25%         0.000000\n",
       "50%         0.000000\n",
       "75%         0.025641\n",
       "max         1.000000\n",
       "Name: CASH, dtype: float64"
      ]
     },
     "execution_count": 126,
     "metadata": {},
     "output_type": "execute_result"
    }
   ],
   "source": [
    "# Check on likely directionality\n",
    "cons_and_trans[cons_and_trans['bad_tenant'] == 1]['CASH'].describe()"
   ]
  },
  {
   "cell_type": "code",
   "execution_count": 127,
   "metadata": {},
   "outputs": [
    {
     "data": {
      "text/plain": [
       "count    10266.000000\n",
       "mean         0.045496\n",
       "std          0.207486\n",
       "min          0.000000\n",
       "25%          0.000000\n",
       "50%          0.000000\n",
       "75%          0.000000\n",
       "max          1.000000\n",
       "Name: CASH, dtype: float64"
      ]
     },
     "execution_count": 127,
     "metadata": {},
     "output_type": "execute_result"
    }
   ],
   "source": [
    "cons_and_trans[cons_and_trans['bad_tenant'] == 0]['CASH'].describe()"
   ]
  },
  {
   "cell_type": "code",
   "execution_count": 128,
   "metadata": {},
   "outputs": [
    {
     "name": "stdout",
     "output_type": "stream",
     "text": [
      "Training set score: 0.661\n",
      "Test score: 0.662\n"
     ]
    }
   ],
   "source": [
    "gbrt = GradientBoostingClassifier(random_state=0, max_depth=1, n_estimators = 100)\n",
    "gbrt.fit(X_train, y_train)\n",
    "print(\"Training set score: {:.3f}\".format(gbrt.score(X_train, y_train)))\n",
    "print(\"Test score: {:.3f}\".format(gbrt.score(X_test, y_test)))"
   ]
  },
  {
   "cell_type": "code",
   "execution_count": 129,
   "metadata": {},
   "outputs": [
    {
     "name": "stdout",
     "output_type": "stream",
     "text": [
      "              precision    recall  f1-score   support\n",
      "\n",
      "           0       0.63      0.78      0.70      2050\n",
      "           1       0.71      0.55      0.62      2057\n",
      "\n",
      "   micro avg       0.66      0.66      0.66      4107\n",
      "   macro avg       0.67      0.66      0.66      4107\n",
      "weighted avg       0.67      0.66      0.66      4107\n",
      "\n"
     ]
    }
   ],
   "source": [
    "y_pred = gbrt.predict(X_test)\n",
    "report = classification_report(y_test,y_pred)\n",
    "print(report)"
   ]
  },
  {
   "cell_type": "code",
   "execution_count": 130,
   "metadata": {},
   "outputs": [
    {
     "data": {
      "text/plain": [
       "0.6619905853895681"
      ]
     },
     "execution_count": 130,
     "metadata": {},
     "output_type": "execute_result"
    }
   ],
   "source": [
    "roc_auc_score(y_test,y_pred)"
   ]
  },
  {
   "cell_type": "code",
   "execution_count": 131,
   "metadata": {},
   "outputs": [
    {
     "name": "stdout",
     "output_type": "stream",
     "text": [
      "Training set score: 0.661\n",
      "Test score: 0.662\n"
     ]
    }
   ],
   "source": [
    "errors = [roc_auc_score(y_test,y_pred) for y_pred in gbrt.staged_predict(X_test)]\n",
    "\n",
    "bst_n_estimators = np.argmin(errors) + 1\n",
    "\n",
    "gbrt_best = GradientBoostingClassifier(max_depth=2, n_estimators = bst_n_estimators, random_state=42)\n",
    "gbrt_best.fit(X_train, y_train)\n",
    "\n",
    "print(\"Training set score: {:.3f}\".format(gbrt.score(X_train, y_train)))\n",
    "print(\"Test score: {:.3f}\".format(gbrt.score(X_test, y_test)))"
   ]
  },
  {
   "cell_type": "code",
   "execution_count": 132,
   "metadata": {},
   "outputs": [
    {
     "name": "stdout",
     "output_type": "stream",
     "text": [
      "              precision    recall  f1-score   support\n",
      "\n",
      "           0       0.63      0.78      0.70      2050\n",
      "           1       0.71      0.55      0.62      2057\n",
      "\n",
      "   micro avg       0.66      0.66      0.66      4107\n",
      "   macro avg       0.67      0.66      0.66      4107\n",
      "weighted avg       0.67      0.66      0.66      4107\n",
      "\n"
     ]
    }
   ],
   "source": [
    "y_pred = gbrt.predict(X_test)\n",
    "report = classification_report(y_test,y_pred)\n",
    "print(report)"
   ]
  },
  {
   "cell_type": "code",
   "execution_count": 133,
   "metadata": {},
   "outputs": [
    {
     "data": {
      "text/plain": [
       "0.6619905853895681"
      ]
     },
     "execution_count": 133,
     "metadata": {},
     "output_type": "execute_result"
    }
   ],
   "source": [
    "roc_auc_score(y_test,y_pred)"
   ]
  },
  {
   "cell_type": "markdown",
   "metadata": {},
   "source": [
    "SVM"
   ]
  },
  {
   "cell_type": "code",
   "execution_count": 134,
   "metadata": {},
   "outputs": [
    {
     "name": "stdout",
     "output_type": "stream",
     "text": [
      "Training set score: 0.656\n",
      "Test score: 0.652\n",
      "Fitting 3 folds for each of 10 candidates, totalling 30 fits\n",
      "[CV] C=5.719620934998668, gamma=0.012025576617425395 .................\n"
     ]
    },
    {
     "name": "stderr",
     "output_type": "stream",
     "text": [
      "[Parallel(n_jobs=1)]: Using backend SequentialBackend with 1 concurrent workers.\n"
     ]
    },
    {
     "name": "stdout",
     "output_type": "stream",
     "text": [
      "[CV] .. C=5.719620934998668, gamma=0.012025576617425395, total=   7.5s\n",
      "[CV] C=5.719620934998668, gamma=0.012025576617425395 .................\n"
     ]
    },
    {
     "name": "stderr",
     "output_type": "stream",
     "text": [
      "[Parallel(n_jobs=1)]: Done   1 out of   1 | elapsed:    9.3s remaining:    0.0s\n"
     ]
    },
    {
     "name": "stdout",
     "output_type": "stream",
     "text": [
      "[CV] .. C=5.719620934998668, gamma=0.012025576617425395, total=   6.5s\n",
      "[CV] C=5.719620934998668, gamma=0.012025576617425395 .................\n",
      "[CV] .. C=5.719620934998668, gamma=0.012025576617425395, total=   6.2s\n",
      "[CV] C=1.9662176122979127, gamma=0.051721418082996636 ................\n",
      "[CV] . C=1.9662176122979127, gamma=0.051721418082996636, total=   6.6s\n",
      "[CV] C=1.9662176122979127, gamma=0.051721418082996636 ................\n",
      "[CV] . C=1.9662176122979127, gamma=0.051721418082996636, total=   7.4s\n",
      "[CV] C=1.9662176122979127, gamma=0.051721418082996636 ................\n",
      "[CV] . C=1.9662176122979127, gamma=0.051721418082996636, total=   7.9s\n",
      "[CV] C=10.344069060852974, gamma=0.015588386283194392 ................\n",
      "[CV] . C=10.344069060852974, gamma=0.015588386283194392, total=  10.8s\n",
      "[CV] C=10.344069060852974, gamma=0.015588386283194392 ................\n",
      "[CV] . C=10.344069060852974, gamma=0.015588386283194392, total=   9.6s\n",
      "[CV] C=10.344069060852974, gamma=0.015588386283194392 ................\n",
      "[CV] . C=10.344069060852974, gamma=0.015588386283194392, total=  10.8s\n",
      "[CV] C=6.803609652993565, gamma=0.028892859254636943 .................\n",
      "[CV] .. C=6.803609652993565, gamma=0.028892859254636943, total=  10.9s\n",
      "[CV] C=6.803609652993565, gamma=0.028892859254636943 .................\n",
      "[CV] .. C=6.803609652993565, gamma=0.028892859254636943, total=  11.2s\n",
      "[CV] C=6.803609652993565, gamma=0.028892859254636943 .................\n",
      "[CV] .. C=6.803609652993565, gamma=0.028892859254636943, total=  11.6s\n",
      "[CV] C=7.750587811580133, gamma=0.04336971323445205 ..................\n",
      "[CV] ... C=7.750587811580133, gamma=0.04336971323445205, total=  10.2s\n",
      "[CV] C=7.750587811580133, gamma=0.04336971323445205 ..................\n",
      "[CV] ... C=7.750587811580133, gamma=0.04336971323445205, total=  10.8s\n",
      "[CV] C=7.750587811580133, gamma=0.04336971323445205 ..................\n",
      "[CV] ... C=7.750587811580133, gamma=0.04336971323445205, total=  13.0s\n",
      "[CV] C=10.506449694303384, gamma=0.008931425108718749 ................\n",
      "[CV] . C=10.506449694303384, gamma=0.008931425108718749, total=   7.4s\n",
      "[CV] C=10.506449694303384, gamma=0.008931425108718749 ................\n",
      "[CV] . C=10.506449694303384, gamma=0.008931425108718749, total=   6.9s\n",
      "[CV] C=10.506449694303384, gamma=0.008931425108718749 ................\n",
      "[CV] . C=10.506449694303384, gamma=0.008931425108718749, total=   6.5s\n",
      "[CV] C=5.002407963085883, gamma=0.004574292908489752 .................\n",
      "[CV] .. C=5.002407963085883, gamma=0.004574292908489752, total=   4.8s\n",
      "[CV] C=5.002407963085883, gamma=0.004574292908489752 .................\n",
      "[CV] .. C=5.002407963085883, gamma=0.004574292908489752, total=   5.5s\n",
      "[CV] C=5.002407963085883, gamma=0.004574292908489752 .................\n",
      "[CV] .. C=5.002407963085883, gamma=0.004574292908489752, total=   5.0s\n",
      "[CV] C=2.7810115597273803, gamma=0.0013306995833139092 ...............\n",
      "[CV]  C=2.7810115597273803, gamma=0.0013306995833139092, total=   4.4s\n",
      "[CV] C=2.7810115597273803, gamma=0.0013306995833139092 ...............\n",
      "[CV]  C=2.7810115597273803, gamma=0.0013306995833139092, total=   4.9s\n",
      "[CV] C=2.7810115597273803, gamma=0.0013306995833139092 ...............\n",
      "[CV]  C=2.7810115597273803, gamma=0.0013306995833139092, total=   5.1s\n",
      "[CV] C=3.273468593212875, gamma=0.015134847225543962 .................\n",
      "[CV] .. C=3.273468593212875, gamma=0.015134847225543962, total=   6.1s\n",
      "[CV] C=3.273468593212875, gamma=0.015134847225543962 .................\n",
      "[CV] .. C=3.273468593212875, gamma=0.015134847225543962, total=   6.1s\n",
      "[CV] C=3.273468593212875, gamma=0.015134847225543962 .................\n",
      "[CV] .. C=3.273468593212875, gamma=0.015134847225543962, total=   6.1s\n",
      "[CV] C=9.577477643048018, gamma=0.0011896955827473239 ................\n",
      "[CV] . C=9.577477643048018, gamma=0.0011896955827473239, total=   4.7s\n",
      "[CV] C=9.577477643048018, gamma=0.0011896955827473239 ................\n",
      "[CV] . C=9.577477643048018, gamma=0.0011896955827473239, total=   5.3s\n",
      "[CV] C=9.577477643048018, gamma=0.0011896955827473239 ................\n",
      "[CV] . C=9.577477643048018, gamma=0.0011896955827473239, total=   4.9s\n"
     ]
    },
    {
     "name": "stderr",
     "output_type": "stream",
     "text": [
      "[Parallel(n_jobs=1)]: Done  30 out of  30 | elapsed:  4.7min finished\n"
     ]
    },
    {
     "data": {
      "text/plain": [
       "SVC(C=7.750587811580133, cache_size=200, class_weight=None, coef0=0.0,\n",
       "  decision_function_shape='ovr', degree=3, gamma=0.04336971323445205,\n",
       "  kernel='rbf', max_iter=-1, probability=False, random_state=None,\n",
       "  shrinking=True, tol=0.001, verbose=False)"
      ]
     },
     "execution_count": 134,
     "metadata": {},
     "output_type": "execute_result"
    }
   ],
   "source": [
    "scaler = StandardScaler()\n",
    "X_train_scaled = scaler.fit_transform(X_train)\n",
    "X_test_scaled = scaler.fit_transform(X_test)\n",
    "\n",
    "svm = SVC(kernel='rbf', gamma=\"scale\")\n",
    "svm.fit(X_train_scaled, y_train)\n",
    "print(\"Training set score: {:.3f}\".format(svm.score(X_train_scaled, y_train)))\n",
    "print(\"Test score: {:.3f}\".format(svm.score(X_test_scaled, y_test)))\n",
    "\n",
    "param_distributions = {\"gamma\": reciprocal(0.001, 0.1), \"C\":uniform(1,10)}\n",
    "rnd_search_cv = RandomizedSearchCV(svm, param_distributions, n_iter=10, verbose=2, cv=3)\n",
    "rnd_search_cv.fit(X_train_scaled, y_train)\n",
    "\n",
    "rnd_search_cv.best_estimator_.fit(X_train_scaled, y_train)"
   ]
  },
  {
   "cell_type": "code",
   "execution_count": 135,
   "metadata": {},
   "outputs": [
    {
     "name": "stdout",
     "output_type": "stream",
     "text": [
      "Training set score: 0.656\n",
      "Test score: 0.654\n"
     ]
    }
   ],
   "source": [
    "print(\"Training set score: {:.3f}\".format(rnd_search_cv.score(X_train_scaled, y_train)))\n",
    "print(\"Test score: {:.3f}\".format(rnd_search_cv.score(X_test_scaled, y_test)))"
   ]
  },
  {
   "cell_type": "code",
   "execution_count": 136,
   "metadata": {},
   "outputs": [
    {
     "name": "stdout",
     "output_type": "stream",
     "text": [
      "              precision    recall  f1-score   support\n",
      "\n",
      "           0       0.62      0.77      0.69      2050\n",
      "           1       0.70      0.54      0.61      2057\n",
      "\n",
      "   micro avg       0.65      0.65      0.65      4107\n",
      "   macro avg       0.66      0.65      0.65      4107\n",
      "weighted avg       0.66      0.65      0.65      4107\n",
      "\n"
     ]
    }
   ],
   "source": [
    "y_pred = rnd_search_cv.best_estimator_.predict(X_test_scaled)\n",
    "report = classification_report(y_test,y_pred)\n",
    "print(report)"
   ]
  },
  {
   "cell_type": "code",
   "execution_count": 137,
   "metadata": {},
   "outputs": [
    {
     "data": {
      "text/plain": [
       "0.6541981573923664"
      ]
     },
     "execution_count": 137,
     "metadata": {},
     "output_type": "execute_result"
    }
   ],
   "source": [
    "roc_auc_score(y_test,y_pred)"
   ]
  },
  {
   "cell_type": "markdown",
   "metadata": {},
   "source": [
    "Downsampling"
   ]
  },
  {
   "cell_type": "code",
   "execution_count": 138,
   "metadata": {},
   "outputs": [
    {
     "name": "stdout",
     "output_type": "stream",
     "text": [
      "Number of class 1 examples before: 10266\n",
      "Number of class 1 examples after: 1203\n"
     ]
    }
   ],
   "source": [
    "print(\"Number of class 1 examples before:\", X_imb[y_imb == 0].shape[0])\n",
    "\n",
    "X_downsampled, y_downsampled = resample(X_imb[y_imb == 0], y_imb[y_imb == 0], replace=True, n_samples=X_imb[y_imb == 1].shape[0], random_state=123)\n",
    "\n",
    "print(\"Number of class 1 examples after:\", X_downsampled.shape[0])\n",
    "\n",
    "\n",
    "X_bal = np.vstack((X[y == 1], X_downsampled))\n",
    "y_bal = np.hstack((y[y == 1], y_downsampled))"
   ]
  },
  {
   "cell_type": "code",
   "execution_count": 140,
   "metadata": {},
   "outputs": [],
   "source": [
    "X_train, X_test, y_train, y_test = X_train, X_test, y_train, y_test = train_test_split(X_bal, y_bal, test_size=0.2, random_state=0)"
   ]
  },
  {
   "cell_type": "markdown",
   "metadata": {},
   "source": [
    "Logistic Regression"
   ]
  },
  {
   "cell_type": "code",
   "execution_count": 141,
   "metadata": {},
   "outputs": [
    {
     "name": "stdout",
     "output_type": "stream",
     "text": [
      "Training set score: 0.656\n",
      "Test score: 0.672\n"
     ]
    },
    {
     "name": "stderr",
     "output_type": "stream",
     "text": [
      "C:\\Users\\Christian Conroy\\Anaconda3\\lib\\site-packages\\sklearn\\linear_model\\logistic.py:433: FutureWarning: Default solver will be changed to 'lbfgs' in 0.22. Specify a solver to silence this warning.\n",
      "  FutureWarning)\n"
     ]
    }
   ],
   "source": [
    "logreg = LogisticRegression(penalty='l1').fit(X_train,y_train)\n",
    "print(\"Training set score: {:.3f}\".format(logreg.score(X_train, y_train)))\n",
    "print(\"Test score: {:.3f}\".format(logreg.score(X_test, y_test)))"
   ]
  },
  {
   "cell_type": "code",
   "execution_count": 142,
   "metadata": {},
   "outputs": [
    {
     "name": "stdout",
     "output_type": "stream",
     "text": [
      "              precision    recall  f1-score   support\n",
      "\n",
      "           0       0.63      0.79      0.70       235\n",
      "           1       0.74      0.56      0.64       247\n",
      "\n",
      "   micro avg       0.67      0.67      0.67       482\n",
      "   macro avg       0.68      0.67      0.67       482\n",
      "weighted avg       0.68      0.67      0.67       482\n",
      "\n"
     ]
    }
   ],
   "source": [
    "y_pred = logreg.predict(X_test)\n",
    "\n",
    "report = classification_report(y_test,y_pred)\n",
    "print(report)"
   ]
  },
  {
   "cell_type": "code",
   "execution_count": 143,
   "metadata": {},
   "outputs": [
    {
     "data": {
      "text/plain": [
       "0.6749935394952192"
      ]
     },
     "execution_count": 143,
     "metadata": {},
     "output_type": "execute_result"
    }
   ],
   "source": [
    "roc_auc_score(y_test,y_pred)"
   ]
  },
  {
   "cell_type": "markdown",
   "metadata": {},
   "source": [
    "Decision Tree"
   ]
  },
  {
   "cell_type": "code",
   "execution_count": 144,
   "metadata": {},
   "outputs": [
    {
     "name": "stdout",
     "output_type": "stream",
     "text": [
      "Training set score: 0.672\n",
      "Test score: 0.654\n"
     ]
    }
   ],
   "source": [
    "tree = DecisionTreeClassifier(max_depth = 5, random_state=0)\n",
    "tree.fit(X_train, y_train)\n",
    "print(\"Training set score: {:.3f}\".format(tree.score(X_train, y_train)))\n",
    "print(\"Test score: {:.3f}\".format(tree.score(X_test, y_test)))"
   ]
  },
  {
   "cell_type": "code",
   "execution_count": 145,
   "metadata": {},
   "outputs": [
    {
     "name": "stdout",
     "output_type": "stream",
     "text": [
      "              precision    recall  f1-score   support\n",
      "\n",
      "           0       0.61      0.79      0.69       235\n",
      "           1       0.72      0.52      0.61       247\n",
      "\n",
      "   micro avg       0.65      0.65      0.65       482\n",
      "   macro avg       0.67      0.66      0.65       482\n",
      "weighted avg       0.67      0.65      0.65       482\n",
      "\n"
     ]
    }
   ],
   "source": [
    "y_pred = tree.predict(X_test)\n",
    "report = classification_report(y_test,y_pred)\n",
    "print(report)"
   ]
  },
  {
   "cell_type": "code",
   "execution_count": 146,
   "metadata": {},
   "outputs": [
    {
     "data": {
      "text/plain": [
       "0.6568782840899303"
      ]
     },
     "execution_count": 146,
     "metadata": {},
     "output_type": "execute_result"
    }
   ],
   "source": [
    "roc_auc_score(y_test,y_pred)"
   ]
  },
  {
   "cell_type": "markdown",
   "metadata": {},
   "source": [
    "Random Forest"
   ]
  },
  {
   "cell_type": "code",
   "execution_count": 147,
   "metadata": {},
   "outputs": [
    {
     "name": "stdout",
     "output_type": "stream",
     "text": [
      "Training set score: 0.997\n",
      "Test score: 0.616\n"
     ]
    }
   ],
   "source": [
    "forest = RandomForestClassifier(n_estimators=500, random_state=42)\n",
    "forest.fit(X_train, y_train)\n",
    "print(\"Training set score: {:.3f}\".format(forest.score(X_train, y_train)))\n",
    "print(\"Test score: {:.3f}\".format(forest.score(X_test, y_test)))"
   ]
  },
  {
   "cell_type": "code",
   "execution_count": 148,
   "metadata": {},
   "outputs": [
    {
     "name": "stdout",
     "output_type": "stream",
     "text": [
      "              precision    recall  f1-score   support\n",
      "\n",
      "           0       0.61      0.61      0.61       235\n",
      "           1       0.63      0.62      0.62       247\n",
      "\n",
      "   micro avg       0.62      0.62      0.62       482\n",
      "   macro avg       0.62      0.62      0.62       482\n",
      "weighted avg       0.62      0.62      0.62       482\n",
      "\n"
     ]
    }
   ],
   "source": [
    "y_pred = forest.predict(X_test)\n",
    "report = classification_report(y_test,y_pred)\n",
    "print(report)"
   ]
  },
  {
   "cell_type": "code",
   "execution_count": 149,
   "metadata": {},
   "outputs": [
    {
     "data": {
      "text/plain": [
       "0.6160995779136876"
      ]
     },
     "execution_count": 149,
     "metadata": {},
     "output_type": "execute_result"
    }
   ],
   "source": [
    "roc_auc_score(y_test,y_pred)"
   ]
  },
  {
   "cell_type": "markdown",
   "metadata": {},
   "source": [
    "Gradient Boosting"
   ]
  },
  {
   "cell_type": "code",
   "execution_count": 150,
   "metadata": {},
   "outputs": [
    {
     "name": "stdout",
     "output_type": "stream",
     "text": [
      "Training set score: 0.663\n",
      "Test score: 0.674\n"
     ]
    }
   ],
   "source": [
    "errors = [roc_auc_score(y_test,y_pred) for y_pred in gbrt.staged_predict(X_test)]\n",
    "\n",
    "bst_n_estimators = np.argmin(errors) + 1\n",
    "\n",
    "gbrt_best = GradientBoostingClassifier(max_depth=2, n_estimators = bst_n_estimators, random_state=42)\n",
    "gbrt_best.fit(X_train, y_train)\n",
    "\n",
    "print(\"Training set score: {:.3f}\".format(gbrt.score(X_train, y_train)))\n",
    "print(\"Test score: {:.3f}\".format(gbrt.score(X_test, y_test)))"
   ]
  },
  {
   "cell_type": "code",
   "execution_count": 151,
   "metadata": {},
   "outputs": [
    {
     "name": "stdout",
     "output_type": "stream",
     "text": [
      "              precision    recall  f1-score   support\n",
      "\n",
      "           0       0.63      0.78      0.70       235\n",
      "           1       0.73      0.57      0.64       247\n",
      "\n",
      "   micro avg       0.67      0.67      0.67       482\n",
      "   macro avg       0.68      0.68      0.67       482\n",
      "weighted avg       0.69      0.67      0.67       482\n",
      "\n"
     ]
    }
   ],
   "source": [
    "y_pred = gbrt.predict(X_test)\n",
    "report = classification_report(y_test,y_pred)\n",
    "print(report)"
   ]
  },
  {
   "cell_type": "code",
   "execution_count": 152,
   "metadata": {},
   "outputs": [
    {
     "data": {
      "text/plain": [
       "0.6769144629167025"
      ]
     },
     "execution_count": 152,
     "metadata": {},
     "output_type": "execute_result"
    }
   ],
   "source": [
    "roc_auc_score(y_test,y_pred)"
   ]
  },
  {
   "cell_type": "markdown",
   "metadata": {},
   "source": [
    "SVC"
   ]
  },
  {
   "cell_type": "code",
   "execution_count": 153,
   "metadata": {},
   "outputs": [
    {
     "name": "stdout",
     "output_type": "stream",
     "text": [
      "Training set score: 0.664\n",
      "Test score: 0.656\n"
     ]
    }
   ],
   "source": [
    "scaler = StandardScaler()\n",
    "X_train_scaled = scaler.fit_transform(X_train)\n",
    "X_test_scaled = scaler.fit_transform(X_test)\n",
    "\n",
    "svm = SVC(kernel='rbf', gamma=\"scale\")\n",
    "svm.fit(X_train_scaled, y_train)\n",
    "print(\"Training set score: {:.3f}\".format(svm.score(X_train_scaled, y_train)))\n",
    "print(\"Test score: {:.3f}\".format(svm.score(X_test_scaled, y_test)))"
   ]
  },
  {
   "cell_type": "code",
   "execution_count": 154,
   "metadata": {},
   "outputs": [
    {
     "name": "stdout",
     "output_type": "stream",
     "text": [
      "Fitting 3 folds for each of 10 candidates, totalling 30 fits\n",
      "[CV] C=5.82600340568459, gamma=0.019350964794581017 ..................\n",
      "[CV] ... C=5.82600340568459, gamma=0.019350964794581017, total=   0.0s\n",
      "[CV] C=5.82600340568459, gamma=0.019350964794581017 ..................\n"
     ]
    },
    {
     "name": "stderr",
     "output_type": "stream",
     "text": [
      "[Parallel(n_jobs=1)]: Using backend SequentialBackend with 1 concurrent workers.\n",
      "[Parallel(n_jobs=1)]: Done   1 out of   1 | elapsed:    0.0s remaining:    0.0s\n"
     ]
    },
    {
     "name": "stdout",
     "output_type": "stream",
     "text": [
      "[CV] ... C=5.82600340568459, gamma=0.019350964794581017, total=   0.0s\n",
      "[CV] C=5.82600340568459, gamma=0.019350964794581017 ..................\n",
      "[CV] ... C=5.82600340568459, gamma=0.019350964794581017, total=   0.0s\n",
      "[CV] C=3.821086133733793, gamma=0.011404562020369671 .................\n",
      "[CV] .. C=3.821086133733793, gamma=0.011404562020369671, total=   0.0s\n",
      "[CV] C=3.821086133733793, gamma=0.011404562020369671 .................\n",
      "[CV] .. C=3.821086133733793, gamma=0.011404562020369671, total=   0.0s\n",
      "[CV] C=3.821086133733793, gamma=0.011404562020369671 .................\n",
      "[CV] .. C=3.821086133733793, gamma=0.011404562020369671, total=   0.0s\n",
      "[CV] C=10.513787652040095, gamma=0.016180570904378393 ................\n",
      "[CV] . C=10.513787652040095, gamma=0.016180570904378393, total=   0.0s\n",
      "[CV] C=10.513787652040095, gamma=0.016180570904378393 ................\n",
      "[CV] . C=10.513787652040095, gamma=0.016180570904378393, total=   0.0s\n",
      "[CV] C=10.513787652040095, gamma=0.016180570904378393 ................\n",
      "[CV] . C=10.513787652040095, gamma=0.016180570904378393, total=   0.0s\n",
      "[CV] C=2.612183793450528, gamma=0.006536283054972046 .................\n",
      "[CV] .. C=2.612183793450528, gamma=0.006536283054972046, total=   0.0s\n",
      "[CV] C=2.612183793450528, gamma=0.006536283054972046 .................\n",
      "[CV] .. C=2.612183793450528, gamma=0.006536283054972046, total=   0.0s\n",
      "[CV] C=2.612183793450528, gamma=0.006536283054972046 .................\n",
      "[CV] .. C=2.612183793450528, gamma=0.006536283054972046, total=   0.0s\n",
      "[CV] C=7.597810367730162, gamma=0.09963390876207193 ..................\n",
      "[CV] ... C=7.597810367730162, gamma=0.09963390876207193, total=   0.1s\n",
      "[CV] C=7.597810367730162, gamma=0.09963390876207193 ..................\n",
      "[CV] ... C=7.597810367730162, gamma=0.09963390876207193, total=   0.0s\n",
      "[CV] C=7.597810367730162, gamma=0.09963390876207193 ..................\n",
      "[CV] ... C=7.597810367730162, gamma=0.09963390876207193, total=   0.0s\n",
      "[CV] C=5.420017019152089, gamma=0.012980240426678271 .................\n",
      "[CV] .. C=5.420017019152089, gamma=0.012980240426678271, total=   0.0s\n",
      "[CV] C=5.420017019152089, gamma=0.012980240426678271 .................\n",
      "[CV] .. C=5.420017019152089, gamma=0.012980240426678271, total=   0.0s\n",
      "[CV] C=5.420017019152089, gamma=0.012980240426678271 .................\n",
      "[CV] .. C=5.420017019152089, gamma=0.012980240426678271, total=   0.0s\n",
      "[CV] C=1.7393350628129824, gamma=0.012273258020082157 ................\n",
      "[CV] . C=1.7393350628129824, gamma=0.012273258020082157, total=   0.0s\n",
      "[CV] C=1.7393350628129824, gamma=0.012273258020082157 ................\n",
      "[CV] . C=1.7393350628129824, gamma=0.012273258020082157, total=   0.0s\n",
      "[CV] C=1.7393350628129824, gamma=0.012273258020082157 ................\n",
      "[CV] . C=1.7393350628129824, gamma=0.012273258020082157, total=   0.0s\n",
      "[CV] C=1.2917911188752875, gamma=0.057075736343792545 ................\n",
      "[CV] . C=1.2917911188752875, gamma=0.057075736343792545, total=   0.0s\n",
      "[CV] C=1.2917911188752875, gamma=0.057075736343792545 ................\n",
      "[CV] . C=1.2917911188752875, gamma=0.057075736343792545, total=   0.0s\n",
      "[CV] C=1.2917911188752875, gamma=0.057075736343792545 ................\n",
      "[CV] . C=1.2917911188752875, gamma=0.057075736343792545, total=   0.0s\n",
      "[CV] C=3.235670135538964, gamma=0.01739497150236182 ..................\n",
      "[CV] ... C=3.235670135538964, gamma=0.01739497150236182, total=   0.0s\n",
      "[CV] C=3.235670135538964, gamma=0.01739497150236182 ..................\n",
      "[CV] ... C=3.235670135538964, gamma=0.01739497150236182, total=   0.0s\n",
      "[CV] C=3.235670135538964, gamma=0.01739497150236182 ..................\n",
      "[CV] ... C=3.235670135538964, gamma=0.01739497150236182, total=   0.0s\n",
      "[CV] C=6.657072629489255, gamma=0.03963338152598555 ..................\n",
      "[CV] ... C=6.657072629489255, gamma=0.03963338152598555, total=   0.0s\n",
      "[CV] C=6.657072629489255, gamma=0.03963338152598555 ..................\n",
      "[CV] ... C=6.657072629489255, gamma=0.03963338152598555, total=   0.0s\n",
      "[CV] C=6.657072629489255, gamma=0.03963338152598555 ..................\n",
      "[CV] ... C=6.657072629489255, gamma=0.03963338152598555, total=   0.0s\n"
     ]
    },
    {
     "name": "stderr",
     "output_type": "stream",
     "text": [
      "[Parallel(n_jobs=1)]: Done  30 out of  30 | elapsed:    3.4s finished\n"
     ]
    },
    {
     "data": {
      "text/plain": [
       "SVC(C=2.612183793450528, cache_size=200, class_weight=None, coef0=0.0,\n",
       "  decision_function_shape='ovr', degree=3, gamma=0.006536283054972046,\n",
       "  kernel='rbf', max_iter=-1, probability=False, random_state=None,\n",
       "  shrinking=True, tol=0.001, verbose=False)"
      ]
     },
     "execution_count": 154,
     "metadata": {},
     "output_type": "execute_result"
    }
   ],
   "source": [
    "param_distributions = {\"gamma\": reciprocal(0.001, 0.1), \"C\":uniform(1,10)}\n",
    "rnd_search_cv = RandomizedSearchCV(svm, param_distributions, n_iter=10, verbose=2, cv=3)\n",
    "rnd_search_cv.fit(X_train_scaled, y_train)\n",
    "\n",
    "rnd_search_cv.best_estimator_.fit(X_train_scaled, y_train)"
   ]
  },
  {
   "cell_type": "code",
   "execution_count": 155,
   "metadata": {},
   "outputs": [
    {
     "name": "stdout",
     "output_type": "stream",
     "text": [
      "Training set score: 0.653\n",
      "Test score: 0.666\n"
     ]
    }
   ],
   "source": [
    "print(\"Training set score: {:.3f}\".format(rnd_search_cv.score(X_train_scaled, y_train)))\n",
    "print(\"Test score: {:.3f}\".format(rnd_search_cv.score(X_test_scaled, y_test)))"
   ]
  },
  {
   "cell_type": "code",
   "execution_count": 156,
   "metadata": {},
   "outputs": [
    {
     "name": "stdout",
     "output_type": "stream",
     "text": [
      "              precision    recall  f1-score   support\n",
      "\n",
      "           0       0.62      0.82      0.70       235\n",
      "           1       0.75      0.52      0.62       247\n",
      "\n",
      "   micro avg       0.67      0.67      0.67       482\n",
      "   macro avg       0.68      0.67      0.66       482\n",
      "weighted avg       0.69      0.67      0.66       482\n",
      "\n"
     ]
    }
   ],
   "source": [
    "y_pred = rnd_search_cv.best_estimator_.predict(X_test_scaled)\n",
    "report = classification_report(y_test,y_pred)\n",
    "print(report)"
   ]
  },
  {
   "cell_type": "code",
   "execution_count": 157,
   "metadata": {},
   "outputs": [
    {
     "data": {
      "text/plain": [
       "0.6696442415367388"
      ]
     },
     "execution_count": 157,
     "metadata": {},
     "output_type": "execute_result"
    }
   ],
   "source": [
    "roc_auc_score(y_test,y_pred)"
   ]
  },
  {
   "cell_type": "markdown",
   "metadata": {},
   "source": [
    "Save Best Model"
   ]
  },
  {
   "cell_type": "code",
   "execution_count": 103,
   "metadata": {},
   "outputs": [],
   "source": [
    "filename = 'finalized_model.sav'\n",
    "pickle.dump(forest_upsamp, open(filename, 'wb'))"
   ]
  }
 ],
 "metadata": {
  "kernelspec": {
   "display_name": "Python 3",
   "language": "python",
   "name": "python3"
  },
  "language_info": {
   "codemirror_mode": {
    "name": "ipython",
    "version": 3
   },
   "file_extension": ".py",
   "mimetype": "text/x-python",
   "name": "python",
   "nbconvert_exporter": "python",
   "pygments_lexer": "ipython3",
   "version": "3.7.3"
  }
 },
 "nbformat": 4,
 "nbformat_minor": 2
}
