{
 "cells": [
  {
   "cell_type": "code",
   "execution_count": null,
   "metadata": {},
   "outputs": [],
   "source": [
    "len(df), len(df3)"
   ]
  },
  {
   "cell_type": "code",
   "execution_count": null,
   "metadata": {},
   "outputs": [],
   "source": [
    "df3.head()"
   ]
  },
  {
   "cell_type": "code",
   "execution_count": null,
   "metadata": {},
   "outputs": [],
   "source": [
    "import colorlover as cl\n",
    "bupu = cl.scales['9']['seq']['BuPu']\n",
    "bupu = cl.interp( bupu, 48 )[32:48]\n",
    "len(bupu)"
   ]
  },
  {
   "cell_type": "code",
   "execution_count": 1,
   "metadata": {},
   "outputs": [
    {
     "ename": "NameError",
     "evalue": "name 'df3' is not defined",
     "output_type": "error",
     "traceback": [
      "\u001b[1;31m---------------------------------------------------------------------------\u001b[0m",
      "\u001b[1;31mNameError\u001b[0m                                 Traceback (most recent call last)",
      "\u001b[1;32m<ipython-input-1-4ae40afcae98>\u001b[0m in \u001b[0;36m<module>\u001b[1;34m()\u001b[0m\n\u001b[1;32m----> 1\u001b[1;33m \u001b[0mdf3\u001b[0m\u001b[1;33m[\u001b[0m\u001b[1;34m'price'\u001b[0m\u001b[1;33m]\u001b[0m\u001b[1;33m.\u001b[0m\u001b[0munique\u001b[0m\u001b[1;33m(\u001b[0m\u001b[1;33m)\u001b[0m\u001b[1;33m\u001b[0m\u001b[0m\n\u001b[0m",
      "\u001b[1;31mNameError\u001b[0m: name 'df3' is not defined"
     ]
    }
   ],
   "source": [
    "df3['price'].unique()"
   ]
  },
  {
   "cell_type": "code",
   "execution_count": null,
   "metadata": {},
   "outputs": [],
   "source": [
    "levels = ['228.33', '292.31', '262.08', '182.25', \\\n",
    "         '189.58', '340.9', '198.26', '138.03']\n",
    "\n",
    "color_match = dict(zip(levels, bupu))\n",
    "print(color_match)"
   ]
  },
  {
   "cell_type": "code",
   "execution_count": 6,
   "metadata": {},
   "outputs": [
    {
     "ename": "NameError",
     "evalue": "name 'df3' is not defined",
     "output_type": "error",
     "traceback": [
      "\u001b[1;31m---------------------------------------------------------------------------\u001b[0m",
      "\u001b[1;31mNameError\u001b[0m                                 Traceback (most recent call last)",
      "\u001b[1;32m<ipython-input-6-9ccfc76c2f40>\u001b[0m in \u001b[0;36m<module>\u001b[1;34m()\u001b[0m\n\u001b[0;32m      1\u001b[0m \u001b[0mplot_data3\u001b[0m \u001b[1;33m=\u001b[0m \u001b[1;33m[\u001b[0m\u001b[1;33m]\u001b[0m\u001b[1;33m\u001b[0m\u001b[0m\n\u001b[1;32m----> 2\u001b[1;33m \u001b[1;32mfor\u001b[0m \u001b[0mindex\u001b[0m\u001b[1;33m,\u001b[0m\u001b[0mrow\u001b[0m \u001b[1;32min\u001b[0m \u001b[0mdf3\u001b[0m\u001b[1;33m.\u001b[0m\u001b[0miterrows\u001b[0m\u001b[1;33m(\u001b[0m\u001b[1;33m)\u001b[0m\u001b[1;33m:\u001b[0m\u001b[1;33m\u001b[0m\u001b[0m\n\u001b[0m\u001b[0;32m      3\u001b[0m     \u001b[1;32mif\u001b[0m \u001b[0mdf3\u001b[0m\u001b[1;33m[\u001b[0m\u001b[1;34m'geometry'\u001b[0m\u001b[1;33m]\u001b[0m\u001b[1;33m[\u001b[0m\u001b[0mindex\u001b[0m\u001b[1;33m]\u001b[0m\u001b[1;33m.\u001b[0m\u001b[0mtype\u001b[0m \u001b[1;33m==\u001b[0m \u001b[1;34m'Polygon'\u001b[0m\u001b[1;33m:\u001b[0m\u001b[1;33m\u001b[0m\u001b[0m\n\u001b[0;32m      4\u001b[0m         \u001b[0mx\u001b[0m\u001b[1;33m,\u001b[0m\u001b[0my\u001b[0m \u001b[1;33m=\u001b[0m \u001b[0mrow\u001b[0m\u001b[1;33m.\u001b[0m\u001b[0mgeometry\u001b[0m\u001b[1;33m.\u001b[0m\u001b[0mexterior\u001b[0m\u001b[1;33m.\u001b[0m\u001b[0mxy\u001b[0m\u001b[1;33m\u001b[0m\u001b[0m\n\u001b[0;32m      5\u001b[0m         \u001b[0mc_x\u001b[0m\u001b[1;33m,\u001b[0m\u001b[0mc_y\u001b[0m \u001b[1;33m=\u001b[0m \u001b[0mrow\u001b[0m\u001b[1;33m.\u001b[0m\u001b[0mgeometry\u001b[0m\u001b[1;33m.\u001b[0m\u001b[0mcentroid\u001b[0m\u001b[1;33m.\u001b[0m\u001b[0mxy\u001b[0m\u001b[1;33m\u001b[0m\u001b[0m\n",
      "\u001b[1;31mNameError\u001b[0m: name 'df3' is not defined"
     ]
    }
   ],
   "source": [
    "plot_data3 = []\n",
    "for index,row in df3.iterrows():\n",
    "    if df3['geometry'][index].type == 'Polygon':\n",
    "        x,y = row.geometry.exterior.xy\n",
    "        c_x,c_y = row.geometry.centroid.xy\n",
    "    elif df3['geometry'][index].type == 'MultiPolygon':\n",
    "        x = [poly.exterior.xy[0] for poly in df3['geometry'][index]]\n",
    "        y = [poly.exterior.xy[1] for poly in df3['geometry'][index]]\n",
    "        x_c = [poly.centroid.xy[0] for poly in df3['geometry'][index]]\n",
    "        y_c = [poly.centroid.xy[1] for poly in df3['geometry'][index]]        \n",
    "    else: \n",
    "        print('stop')\n",
    "    ward_outline = dict(\n",
    "            type = 'scatter',\n",
    "            showlegend = False,\n",
    "            legendgroup = \"shapes\",\n",
    "            line = dict(color='black', width=1),\n",
    "            x=x,\n",
    "            y=y,\n",
    "            fill='toself',\n",
    "            fillcolor = color_match[str(row['price'])],\n",
    "            hoverinfo='none'\n",
    "    ) \n",
    "    hover_point = dict(\n",
    "            type = 'scatter',\n",
    "            showlegend = False,\n",
    "            legendgroup = \"centroids\",\n",
    "            name = row.NAME,\n",
    "            text = 'Average Price: ' + str(row['price']),\n",
    "            marker = dict(size=2, color='white'),\n",
    "            x=c_x,\n",
    "            y=c_y,\n",
    "            fill='toself',\n",
    "    )\n",
    "    plot_data3.append(ward_outline)\n",
    "    plot_data.append(hover_point)"
   ]
  },
  {
   "cell_type": "code",
   "execution_count": null,
   "metadata": {},
   "outputs": [],
   "source": [
    "fig = dict(data=plot_data3, layout=layout)\n",
    "py.plot(fig, filename='DC_ward_Airbnb.html')"
   ]
  },
  {
   "cell_type": "code",
   "execution_count": null,
   "metadata": {},
   "outputs": [],
   "source": [
    "total_points = 0\n",
    "for trace in plot_data3:\n",
    "    total_points = total_points + len(trace['x'])\n",
    "print(total_points)"
   ]
  },
  {
   "cell_type": "code",
   "execution_count": null,
   "metadata": {},
   "outputs": [],
   "source": []
  },
  {
   "cell_type": "code",
   "execution_count": null,
   "metadata": {},
   "outputs": [],
   "source": [
    "SIMPLIFY_FACTOR = 0.05\n",
    "\n",
    "plot_data_simplified = []\n",
    "x_centroids = []\n",
    "y_centroids = []\n",
    "centroid_text = []\n",
    "for index, row in df3.iterrows():\n",
    "    level = str(row['price'])\n",
    "    if df3['geometry'][index].type == 'Polygon':\n",
    "        x = row.geometry.simplify(SIMPLIFY_FACTOR).exterior.xy[0].tolist()\n",
    "        y = row.geometry.simplify(SIMPLIFY_FACTOR).exterior.xy[1].tolist()\n",
    "        x_c, y_c = row.geometry.centroid.xy\n",
    "        t_c = row.NAME + '<br>Price: ' + level      \n",
    "        x_centroids.append(x_c[0])\n",
    "        y_centroids.append(y_c[0])\n",
    "        centroid_text.append(t_c)        \n",
    "    elif df3['geometry'][index].type == 'MultiPolygon':\n",
    "        x = [poly.simplify(SIMPLIFY_FACTOR).exterior.xy[0] for poly in df3['geometry'][index]]\n",
    "        y = [poly.simplify(SIMPLIFY_FACTOR).exterior.xy[1] for poly in df3['geometry'][index]]\n",
    "        x_c = [poly.centroid.xy[0] for poly in df3['geometry'][index]]\n",
    "        y_c = [poly.centroid.xy[1] for poly in df3['geometry'][index]]\n",
    "        text = row.NAME + '<br>Price: ' + level\n",
    "        t_c = [text for poly in df3['geometry'][index]]\n",
    "        x_centroids = x_c + x_centroids\n",
    "        y_centroids = y_c + y_centroids\n",
    "        centroid_text = t_c + centroid_text\n",
    "    else: \n",
    "        print('stop')\n",
    "    x_traces[level] = x_traces[level] + x + [np.nan]\n",
    "    y_traces[level] = y_traces[level] + y + [np.nan]\n",
    "\n",
    "\n",
    "for lev in levels:\n",
    "    county_outline = dict(\n",
    "            type = 'scatter',\n",
    "            line = dict(color='black', width=0.5),\n",
    "            name = lev,\n",
    "            x = x_traces[lev],\n",
    "            y = y_traces[lev],\n",
    "            fill = 'toself',\n",
    "            fillcolor = cubic_helix[lev],\n",
    "            hoverinfo='none',\n",
    "            mode='lines'\n",
    "    )\n",
    "    plot_data_simplified.append(county_outline)\n",
    "    \n",
    "hover_points = dict(\n",
    "        type = 'scatter',\n",
    "        showlegend = False,\n",
    "        legendgroup = \"centroids\",\n",
    "        x = x_centroids,\n",
    "        y = y_centroids,\n",
    "        text = 'Average Price: ' + str(row['price']),       \n",
    "        name = 'DC Wards',\n",
    "        marker = dict(size=2, color='white'),\n",
    "        mode='markers',\n",
    ")\n",
    "\n",
    "plot_data_simplified.append(hover_points)"
   ]
  }
 ],
 "metadata": {
  "kernelspec": {
   "display_name": "Python 3",
   "language": "python",
   "name": "python3"
  },
  "language_info": {
   "codemirror_mode": {
    "name": "ipython",
    "version": 3
   },
   "file_extension": ".py",
   "mimetype": "text/x-python",
   "name": "python",
   "nbconvert_exporter": "python",
   "pygments_lexer": "ipython3",
   "version": "3.6.4"
  }
 },
 "nbformat": 4,
 "nbformat_minor": 2
}
