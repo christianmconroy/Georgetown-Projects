{
 "cells": [
  {
   "cell_type": "code",
   "execution_count": 199,
   "metadata": {},
   "outputs": [],
   "source": [
    "import geopandas as gp\n",
    "df = gp.read_file(\"Ward_from_2012.shp\")"
   ]
  },
  {
   "cell_type": "code",
   "execution_count": 163,
   "metadata": {},
   "outputs": [
    {
     "data": {
      "text/html": [
       "<div>\n",
       "<style scoped>\n",
       "    .dataframe tbody tr th:only-of-type {\n",
       "        vertical-align: middle;\n",
       "    }\n",
       "\n",
       "    .dataframe tbody tr th {\n",
       "        vertical-align: top;\n",
       "    }\n",
       "\n",
       "    .dataframe thead th {\n",
       "        text-align: right;\n",
       "    }\n",
       "</style>\n",
       "<table border=\"1\" class=\"dataframe\">\n",
       "  <thead>\n",
       "    <tr style=\"text-align: right;\">\n",
       "      <th></th>\n",
       "      <th>OBJECTID</th>\n",
       "      <th>WARD</th>\n",
       "      <th>NAME</th>\n",
       "      <th>REP_NAME</th>\n",
       "      <th>WEB_URL</th>\n",
       "      <th>REP_PHONE</th>\n",
       "      <th>REP_EMAIL</th>\n",
       "      <th>REP_OFFICE</th>\n",
       "      <th>WARD_ID</th>\n",
       "      <th>LABEL</th>\n",
       "      <th>...</th>\n",
       "      <th>DIPLOMA_25</th>\n",
       "      <th>NO_DEGREE_</th>\n",
       "      <th>ASSOC_DEGR</th>\n",
       "      <th>BACH_DEGRE</th>\n",
       "      <th>MED_VAL_OO</th>\n",
       "      <th>Shape_Leng</th>\n",
       "      <th>Shape_Area</th>\n",
       "      <th>Shape_Le_1</th>\n",
       "      <th>Shape_Ar_1</th>\n",
       "      <th>geometry</th>\n",
       "    </tr>\n",
       "  </thead>\n",
       "  <tbody>\n",
       "    <tr>\n",
       "      <th>3</th>\n",
       "      <td>4</td>\n",
       "      <td>2</td>\n",
       "      <td>Ward 2</td>\n",
       "      <td>Jack Evans</td>\n",
       "      <td>http://dccouncil.us/council/jack-evans</td>\n",
       "      <td>(202) 724-8058</td>\n",
       "      <td>jevans@dccouncil.us</td>\n",
       "      <td>1350 Pennsylvania Ave, Suite 106, NW 20004</td>\n",
       "      <td>2</td>\n",
       "      <td>Ward 2</td>\n",
       "      <td>...</td>\n",
       "      <td>2381</td>\n",
       "      <td>2980</td>\n",
       "      <td>940</td>\n",
       "      <td>16253</td>\n",
       "      <td>623500</td>\n",
       "      <td>29545.803886</td>\n",
       "      <td>2.249280e+07</td>\n",
       "      <td>29545.803886</td>\n",
       "      <td>2.249280e+07</td>\n",
       "      <td>POLYGON ((-77.04945527480312 38.91999484158996...</td>\n",
       "    </tr>\n",
       "    <tr>\n",
       "      <th>4</th>\n",
       "      <td>5</td>\n",
       "      <td>1</td>\n",
       "      <td>Ward 1</td>\n",
       "      <td>Brianne Nadeau</td>\n",
       "      <td>http://dccouncil.us/council/brianne-nadeau</td>\n",
       "      <td>(202) 724-8181</td>\n",
       "      <td>bnadeau@dccouncil.us</td>\n",
       "      <td>1350 Pennsylvania Ave, Suite 102, NW 20004</td>\n",
       "      <td>1</td>\n",
       "      <td>Ward 1</td>\n",
       "      <td>...</td>\n",
       "      <td>6984</td>\n",
       "      <td>5293</td>\n",
       "      <td>1258</td>\n",
       "      <td>17613</td>\n",
       "      <td>542100</td>\n",
       "      <td>12925.384774</td>\n",
       "      <td>6.567941e+06</td>\n",
       "      <td>12925.384774</td>\n",
       "      <td>6.567941e+06</td>\n",
       "      <td>POLYGON ((-77.03523283997743 38.93743450516116...</td>\n",
       "    </tr>\n",
       "    <tr>\n",
       "      <th>5</th>\n",
       "      <td>6</td>\n",
       "      <td>5</td>\n",
       "      <td>Ward 5</td>\n",
       "      <td>Kenyan McDuffie</td>\n",
       "      <td>http://dccouncil.us/council/kenyan-mcduffie</td>\n",
       "      <td>(202) 724-8028</td>\n",
       "      <td>kmcduffie@dccouncil.us</td>\n",
       "      <td>1350 Pennsylvania Ave, Suite 506, NW 20004</td>\n",
       "      <td>5</td>\n",
       "      <td>Ward 5</td>\n",
       "      <td>...</td>\n",
       "      <td>13788</td>\n",
       "      <td>11034</td>\n",
       "      <td>2196</td>\n",
       "      <td>11557</td>\n",
       "      <td>379800</td>\n",
       "      <td>22893.404856</td>\n",
       "      <td>2.691076e+07</td>\n",
       "      <td>22893.404856</td>\n",
       "      <td>2.691076e+07</td>\n",
       "      <td>POLYGON ((-76.99143503979559 38.95730353605698...</td>\n",
       "    </tr>\n",
       "    <tr>\n",
       "      <th>6</th>\n",
       "      <td>7</td>\n",
       "      <td>3</td>\n",
       "      <td>Ward 3</td>\n",
       "      <td>Mary M. Cheh</td>\n",
       "      <td>http://dccouncil.us/council/mary-m.-cheh</td>\n",
       "      <td>(202) 724-8062</td>\n",
       "      <td>mcheh@dccouncil.us</td>\n",
       "      <td>1350 Pennsylvania Ave, Suite 108, NW 20004</td>\n",
       "      <td>3</td>\n",
       "      <td>Ward 3</td>\n",
       "      <td>...</td>\n",
       "      <td>2139</td>\n",
       "      <td>3808</td>\n",
       "      <td>1003</td>\n",
       "      <td>19166</td>\n",
       "      <td>823800</td>\n",
       "      <td>28342.167313</td>\n",
       "      <td>2.832078e+07</td>\n",
       "      <td>28342.167313</td>\n",
       "      <td>2.832078e+07</td>\n",
       "      <td>POLYGON ((-77.0580817725277 38.95675941165723,...</td>\n",
       "    </tr>\n",
       "    <tr>\n",
       "      <th>7</th>\n",
       "      <td>8</td>\n",
       "      <td>4</td>\n",
       "      <td>Ward 4</td>\n",
       "      <td>Brandon T. Todd</td>\n",
       "      <td>http://dccouncil.us/council/brandon-todd</td>\n",
       "      <td>(202) 724-8052</td>\n",
       "      <td>btodd@dccouncil.us</td>\n",
       "      <td>1350 Pennsylvania Ave, Suite 105, NW 20004</td>\n",
       "      <td>4</td>\n",
       "      <td>Ward 4</td>\n",
       "      <td>...</td>\n",
       "      <td>11907</td>\n",
       "      <td>10500</td>\n",
       "      <td>2073</td>\n",
       "      <td>13032</td>\n",
       "      <td>491300</td>\n",
       "      <td>25130.994398</td>\n",
       "      <td>2.331492e+07</td>\n",
       "      <td>25130.994398</td>\n",
       "      <td>2.331492e+07</td>\n",
       "      <td>POLYGON ((-77.0409664930156 38.99596803651134,...</td>\n",
       "    </tr>\n",
       "  </tbody>\n",
       "</table>\n",
       "<p>5 rows × 83 columns</p>\n",
       "</div>"
      ],
      "text/plain": [
       "   OBJECTID  WARD    NAME         REP_NAME  \\\n",
       "3         4     2  Ward 2       Jack Evans   \n",
       "4         5     1  Ward 1   Brianne Nadeau   \n",
       "5         6     5  Ward 5  Kenyan McDuffie   \n",
       "6         7     3  Ward 3     Mary M. Cheh   \n",
       "7         8     4  Ward 4  Brandon T. Todd   \n",
       "\n",
       "                                       WEB_URL       REP_PHONE  \\\n",
       "3       http://dccouncil.us/council/jack-evans  (202) 724-8058   \n",
       "4   http://dccouncil.us/council/brianne-nadeau  (202) 724-8181   \n",
       "5  http://dccouncil.us/council/kenyan-mcduffie  (202) 724-8028   \n",
       "6     http://dccouncil.us/council/mary-m.-cheh  (202) 724-8062   \n",
       "7     http://dccouncil.us/council/brandon-todd  (202) 724-8052   \n",
       "\n",
       "                REP_EMAIL                                  REP_OFFICE WARD_ID  \\\n",
       "3     jevans@dccouncil.us  1350 Pennsylvania Ave, Suite 106, NW 20004       2   \n",
       "4    bnadeau@dccouncil.us  1350 Pennsylvania Ave, Suite 102, NW 20004       1   \n",
       "5  kmcduffie@dccouncil.us  1350 Pennsylvania Ave, Suite 506, NW 20004       5   \n",
       "6      mcheh@dccouncil.us  1350 Pennsylvania Ave, Suite 108, NW 20004       3   \n",
       "7      btodd@dccouncil.us  1350 Pennsylvania Ave, Suite 105, NW 20004       4   \n",
       "\n",
       "    LABEL                        ...                          DIPLOMA_25  \\\n",
       "3  Ward 2                        ...                                2381   \n",
       "4  Ward 1                        ...                                6984   \n",
       "5  Ward 5                        ...                               13788   \n",
       "6  Ward 3                        ...                                2139   \n",
       "7  Ward 4                        ...                               11907   \n",
       "\n",
       "   NO_DEGREE_  ASSOC_DEGR  BACH_DEGRE MED_VAL_OO    Shape_Leng    Shape_Area  \\\n",
       "3        2980         940       16253     623500  29545.803886  2.249280e+07   \n",
       "4        5293        1258       17613     542100  12925.384774  6.567941e+06   \n",
       "5       11034        2196       11557     379800  22893.404856  2.691076e+07   \n",
       "6        3808        1003       19166     823800  28342.167313  2.832078e+07   \n",
       "7       10500        2073       13032     491300  25130.994398  2.331492e+07   \n",
       "\n",
       "     Shape_Le_1    Shape_Ar_1  \\\n",
       "3  29545.803886  2.249280e+07   \n",
       "4  12925.384774  6.567941e+06   \n",
       "5  22893.404856  2.691076e+07   \n",
       "6  28342.167313  2.832078e+07   \n",
       "7  25130.994398  2.331492e+07   \n",
       "\n",
       "                                            geometry  \n",
       "3  POLYGON ((-77.04945527480312 38.91999484158996...  \n",
       "4  POLYGON ((-77.03523283997743 38.93743450516116...  \n",
       "5  POLYGON ((-76.99143503979559 38.95730353605698...  \n",
       "6  POLYGON ((-77.0580817725277 38.95675941165723,...  \n",
       "7  POLYGON ((-77.0409664930156 38.99596803651134,...  \n",
       "\n",
       "[5 rows x 83 columns]"
      ]
     },
     "execution_count": 163,
     "metadata": {},
     "output_type": "execute_result"
    }
   ],
   "source": [
    "df.tail()"
   ]
  },
  {
   "cell_type": "code",
   "execution_count": 218,
   "metadata": {},
   "outputs": [],
   "source": [
    "import plotly.plotly as py_cloud\n",
    "import plotly.offline as py\n",
    "import numpy as np"
   ]
  },
  {
   "cell_type": "code",
   "execution_count": 233,
   "metadata": {},
   "outputs": [],
   "source": [
    "layout = dict(\n",
    "    hovermode = 'closest',\n",
    "    xaxis = dict(\n",
    "        autorange = True,\n",
    "        range = [-125, -65],\n",
    "        showgrid = False,\n",
    "        zeroline = False,\n",
    "        fixedrange = True\n",
    "    ),\n",
    "    yaxis = dict(\n",
    "        autorange = True,\n",
    "        range = [25, 49],\n",
    "        showgrid = False,\n",
    "        zeroline = False,\n",
    "        fixedrange = True\n",
    "    ),\n",
    "    margin = dict(\n",
    "        t=20,\n",
    "        b=20,\n",
    "        r=20,\n",
    "        l=20\n",
    "    ),\n",
    "    width = 1100,\n",
    "    height = 650,\n",
    "    dragmode = 'select'\n",
    ")"
   ]
  },
  {
   "cell_type": "code",
   "execution_count": 223,
   "metadata": {},
   "outputs": [],
   "source": [
    "plot_data = []\n",
    "for index,row in df.iterrows():\n",
    "    if df['geometry'][index].type == 'Polygon':\n",
    "        x,y = row.geometry.exterior.xy\n",
    "        c_x,c_y = row.geometry.centroid.xy\n",
    "    elif df['geometry'][index].type == 'MultiPolygon':\n",
    "        x = [poly.exterior.xy[0] for poly in df['geometry'][index]]\n",
    "        y = [poly.exterior.xy[1] for poly in df['geometry'][index]]\n",
    "        x_c = [poly.centroid.xy[0] for poly in df['geometry'][index]]\n",
    "        y_c = [poly.centroid.xy[1] for poly in df['geometry'][index]]        \n",
    "    else: \n",
    "        print('stop')\n",
    "    ward_outline = dict(\n",
    "            type = 'scatter',\n",
    "            showlegend = False,\n",
    "            legendgroup = \"shapes\",\n",
    "            line = dict(color='black', width=1),\n",
    "            x=x,\n",
    "            y=y,\n",
    "            fill='toself',\n",
    "            fillcolor = 'purple',\n",
    "            hoverinfo='none'\n",
    "    )\n",
    "    hover_point = dict(\n",
    "            type = 'scatter',\n",
    "            showlegend = False,\n",
    "            legendgroup = \"centroids\",\n",
    "            name = row.NAME,\n",
    "            marker = dict(size=2),\n",
    "            x=c_x,\n",
    "            y=c_y,\n",
    "            fill='toself',\n",
    "            fillcolor = 'purple'            \n",
    "    )\n",
    "    plot_data.append(ward_outline)\n",
    "    plot_data.append(hover_point)"
   ]
  },
  {
   "cell_type": "code",
   "execution_count": 224,
   "metadata": {},
   "outputs": [
    {
     "data": {
      "text/plain": [
       "16"
      ]
     },
     "execution_count": 224,
     "metadata": {},
     "output_type": "execute_result"
    }
   ],
   "source": [
    "len(plot_data)"
   ]
  },
  {
   "cell_type": "code",
   "execution_count": 204,
   "metadata": {},
   "outputs": [
    {
     "data": {
      "text/plain": [
       "'file://C:\\\\Users\\\\chris\\\\Documents\\\\GeorgetownMPPMSFS\\\\McCourtMPP\\\\Semester4MPP\\\\ProgrammingStats\\\\FinalGroupProject\\\\ward_text.html'"
      ]
     },
     "execution_count": 204,
     "metadata": {},
     "output_type": "execute_result"
    }
   ],
   "source": [
    "fig = dict(data=plot_data, layout=layout)\n",
    "py.plot(fig, filename='ward_text.html')"
   ]
  },
  {
   "cell_type": "code",
   "execution_count": 205,
   "metadata": {},
   "outputs": [],
   "source": [
    "import pandas as pd"
   ]
  },
  {
   "cell_type": "code",
   "execution_count": 206,
   "metadata": {},
   "outputs": [],
   "source": [
    "df2 = pd.read_csv('airbnbwards.csv')"
   ]
  },
  {
   "cell_type": "code",
   "execution_count": 207,
   "metadata": {},
   "outputs": [],
   "source": [
    "df3 = pd.merge(df, df2, on='WARD')"
   ]
  },
  {
   "cell_type": "code",
   "execution_count": 208,
   "metadata": {},
   "outputs": [],
   "source": [
    "cubic_helix = [\"#46799d\", \"#48819f\", \"#4a89a0\", \"#4c92a1\", \"#509aa1\", \"#54a2a0\", \"#59aa9f\", \"#60b29e\", \"#69ba9c\", \"#74c19b\", \"#81c89b\", \"#90ce9c\", \"#a1d4a0\", \"#b3d9a6\", \"#c5ddb0\", \"#d6e2bc\"]"
   ]
  },
  {
   "cell_type": "code",
   "execution_count": 209,
   "metadata": {},
   "outputs": [
    {
     "data": {
      "text/plain": [
       "{'138.03': '#60b29e',\n",
       " '182.25': '#4c92a1',\n",
       " '189.58': '#509aa1',\n",
       " '198.26': '#59aa9f',\n",
       " '228.33': '#46799d',\n",
       " '262.08': '#4a89a0',\n",
       " '292.31': '#48819f',\n",
       " '340.9': '#54a2a0'}"
      ]
     },
     "execution_count": 209,
     "metadata": {},
     "output_type": "execute_result"
    }
   ],
   "source": [
    "cubic_helix = dict(zip(levels, cubic_helix))\n",
    "cubic_helix"
   ]
  },
  {
   "cell_type": "code",
   "execution_count": 210,
   "metadata": {},
   "outputs": [
    {
     "data": {
      "text/plain": [
       "{'138.03': [],\n",
       " '182.25': [],\n",
       " '189.58': [],\n",
       " '198.26': [],\n",
       " '228.33': [],\n",
       " '262.08': [],\n",
       " '292.31': [],\n",
       " '340.9': []}"
      ]
     },
     "execution_count": 210,
     "metadata": {},
     "output_type": "execute_result"
    }
   ],
   "source": [
    "x_traces = dict(zip(levels, [ [] for i in range(len(levels)) ]))\n",
    "y_traces = dict(zip(levels, [ [] for i in range(len(levels)) ]))\n",
    "x_traces"
   ]
  },
  {
   "cell_type": "code",
   "execution_count": 225,
   "metadata": {},
   "outputs": [],
   "source": [
    "SIMPLIFY_FACTOR = 0.05\n",
    "\n",
    "plot_data_simplified = []\n",
    "x_centroids = []\n",
    "y_centroids = []\n",
    "centroid_text = []\n",
    "for index, row in df3.iterrows():\n",
    "    level = str(row['price'])\n",
    "    if df3['geometry'][index].type == 'Polygon':\n",
    "        x = row.geometry.simplify(SIMPLIFY_FACTOR).exterior.xy[0].tolist()\n",
    "        y = row.geometry.simplify(SIMPLIFY_FACTOR).exterior.xy[1].tolist()\n",
    "        x_c, y_c = row.geometry.centroid.xy\n",
    "        t_c = row.NAME + '<br>Price: ' + level      \n",
    "        x_centroids.append(x_c[0])\n",
    "        y_centroids.append(y_c[0])\n",
    "        centroid_text.append(t_c)        \n",
    "    elif df3['geometry'][index].type == 'MultiPolygon':\n",
    "        x = [poly.simplify(SIMPLIFY_FACTOR).exterior.xy[0] for poly in df3['geometry'][index]]\n",
    "        y = [poly.simplify(SIMPLIFY_FACTOR).exterior.xy[1] for poly in df3['geometry'][index]]\n",
    "        x_c = [poly.centroid.xy[0] for poly in df3['geometry'][index]]\n",
    "        y_c = [poly.centroid.xy[1] for poly in df3['geometry'][index]]\n",
    "        text = row.NAME + '<br>Price: ' + level\n",
    "        t_c = [text for poly in df3['geometry'][index]]\n",
    "        x_centroids = x_c + x_centroids\n",
    "        y_centroids = y_c + y_centroids\n",
    "        centroid_text = t_c + centroid_text\n",
    "    else: \n",
    "        print('stop')\n",
    "    x_traces[level] = x_traces[level] + x + [np.nan]\n",
    "    y_traces[level] = y_traces[level] + y + [np.nan]\n",
    "\n",
    "\n",
    "for lev in levels:\n",
    "    county_outline = dict(\n",
    "            type = 'scatter',\n",
    "            line = dict(color='black', width=0.5),\n",
    "            name = lev,\n",
    "            x = x_traces[lev],\n",
    "            y = y_traces[lev],\n",
    "            fill = 'toself',\n",
    "            fillcolor = cubic_helix[lev],\n",
    "            hoverinfo='none',\n",
    "            mode='lines'\n",
    "    )\n",
    "    plot_data_simplified.append(county_outline)\n",
    "    \n",
    "hover_points = dict(\n",
    "        type = 'scatter',\n",
    "        showlegend = False,\n",
    "        legendgroup = \"centroids\",\n",
    "        x = x_centroids,\n",
    "        y = y_centroids,\n",
    "        text = centroid_text,        \n",
    "        name = 'DC Wards',\n",
    "        marker = dict(size=2, color='white'),\n",
    "        mode='markers',\n",
    ")\n",
    "\n",
    "plot_data_simplified.append(hover_points)"
   ]
  },
  {
   "cell_type": "code",
   "execution_count": 226,
   "metadata": {},
   "outputs": [
    {
     "data": {
      "text/plain": [
       "9"
      ]
     },
     "execution_count": 226,
     "metadata": {},
     "output_type": "execute_result"
    }
   ],
   "source": [
    "len(plot_data_simplified)"
   ]
  },
  {
   "cell_type": "code",
   "execution_count": 227,
   "metadata": {},
   "outputs": [
    {
     "data": {
      "text/plain": [
       "'file://C:\\\\Users\\\\chris\\\\Documents\\\\GeorgetownMPPMSFS\\\\McCourtMPP\\\\Semester4MPP\\\\ProgrammingStats\\\\FinalGroupProject\\\\ward_airbnb_simplified.html'"
      ]
     },
     "execution_count": 227,
     "metadata": {},
     "output_type": "execute_result"
    }
   ],
   "source": [
    "fig = dict(data=plot_data_simplified, layout=layout)\n",
    "py.plot(fig, filename='ward_airbnb_simplified.html')"
   ]
  },
  {
   "cell_type": "code",
   "execution_count": 235,
   "metadata": {},
   "outputs": [
    {
     "data": {
      "text/html": [
       "<iframe id=\"igraph\" scrolling=\"no\" style=\"border:none;\" seamless=\"seamless\" src=\"https://plot.ly/~cmc454/10.embed\" height=\"650px\" width=\"1100px\"></iframe>"
      ],
      "text/plain": [
       "<plotly.tools.PlotlyDisplay object>"
      ]
     },
     "execution_count": 235,
     "metadata": {},
     "output_type": "execute_result"
    }
   ],
   "source": [
    "py_cloud.iplot(fig, filename='ward_airbnb_simplified.html', validate=False)"
   ]
  }
 ],
 "metadata": {
  "kernelspec": {
   "display_name": "Python 3",
   "language": "python",
   "name": "python3"
  },
  "language_info": {
   "codemirror_mode": {
    "name": "ipython",
    "version": 3
   },
   "file_extension": ".py",
   "mimetype": "text/x-python",
   "name": "python",
   "nbconvert_exporter": "python",
   "pygments_lexer": "ipython3",
   "version": "3.6.4"
  }
 },
 "nbformat": 4,
 "nbformat_minor": 2
}
