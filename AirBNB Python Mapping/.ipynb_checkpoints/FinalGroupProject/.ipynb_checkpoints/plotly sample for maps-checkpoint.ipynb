{
 "cells": [
  {
   "cell_type": "code",
   "execution_count": 1,
   "metadata": {},
   "outputs": [
    {
     "data": {
      "text/html": [
       "<script>requirejs.config({paths: { 'plotly': ['https://cdn.plot.ly/plotly-latest.min']},});if(!window.Plotly) {{require(['plotly'],function(plotly) {window.Plotly=plotly;});}}</script>"
      ],
      "text/vnd.plotly.v1+html": [
       "<script>requirejs.config({paths: { 'plotly': ['https://cdn.plot.ly/plotly-latest.min']},});if(!window.Plotly) {{require(['plotly'],function(plotly) {window.Plotly=plotly;});}}</script>"
      ]
     },
     "metadata": {},
     "output_type": "display_data"
    }
   ],
   "source": [
    "from plotly.offline import download_plotlyjs, init_notebook_mode, plot, iplot\n",
    "import plotly.graph_objs as go\n",
    "from plotly.graph_objs import *\n",
    "import numpy as np\n",
    "init_notebook_mode(connected=True)\n",
    "import numpy as np\n",
    "# https://github.com/plotly/dash-uber-rides-demo/blob/master/app.py"
   ]
  },
  {
   "cell_type": "code",
   "execution_count": null,
   "metadata": {
    "collapsed": true
   },
   "outputs": [],
   "source": []
  },
  {
   "cell_type": "code",
   "execution_count": 2,
   "metadata": {
    "collapsed": true
   },
   "outputs": [],
   "source": [
    "def update_graph():\n",
    "    zoom = 12.0\n",
    "    latInitial = 38.9072#40.7272\n",
    "    lonInitial = -77.0369#-73.991251\n",
    "    bearing = 0\n",
    "    mapbox_access_token = 'pk.eyJ1IjoiYWxpc2hvYmVpcmkiLCJhIjoiY2ozYnM3YTUxMDAxeDMzcGNjbmZyMmplZiJ9.ZjmQ0C2MNs1AzEBC_Syadg'\n",
    "\n",
    "#     listStr = get_lat_lon_color(selectedData, value, slider_value)\n",
    "\n",
    "#     if(prevLayout is not None and mapControls is not None and\n",
    "#        'lock' in mapControls):\n",
    "#         zoom = float(prevLayout['mapbox']['zoom'])\n",
    "#         latInitial = float(prevLayout['mapbox']['center']['lat'])\n",
    "#         lonInitial = float(prevLayout['mapbox']['center']['lon'])\n",
    "#         bearing = float(prevLayout['mapbox']['bearing'])\n",
    "    return go.Figure(\n",
    "        data=Data([\n",
    "#             Scattermapbox(\n",
    "#                 lat=eval(listStr)['Lat'],\n",
    "#                 lon=eval(listStr)['Lon'],\n",
    "#                 mode='markers',\n",
    "#                 hoverinfo=\"lat+lon+text\",\n",
    "#                 text=eval(listStr).index.hour,\n",
    "#                 marker=Marker(\n",
    "#                     color=np.append(np.insert(eval(listStr).index.hour, 0, 0), 23),\n",
    "#                     colorscale=[[0, \"#F4EC15\"], [0.04167, \"#DAF017\"],\n",
    "#                                 [0.0833, \"#BBEC19\"], [0.125, \"9DE81B\"],\n",
    "#                                 [0.1667, \"#80E41D\"], [0.2083, \"#66E01F\"],\n",
    "#                                 [0.25, \"#4CDC20\"], [0.292, \"#34D822\"],\n",
    "#                                 [0.333, \"#24D249\"], [0.375, \"#25D042\"],\n",
    "#                                 [0.4167, \"#26CC58\"], [0.4583, \"#28C86D\"],\n",
    "#                                 [0.50, \"#29C481\"], [0.54167, \"#2AC093\"],\n",
    "#                                 [0.5833, \"#2BBCA4\"],\n",
    "#                                 [1.0, \"#613099\"]],\n",
    "#                     opacity=0.5,\n",
    "#                     size=5,\n",
    "#                     colorbar=dict(\n",
    "#                         thicknessmode=\"fraction\",\n",
    "#                         title=\"Time of<br>Day\",\n",
    "#                         x=0.935,\n",
    "#                         xpad=0,\n",
    "#                         nticks=24,\n",
    "#                         tickfont=dict(\n",
    "#                             color='white'\n",
    "#                         ),\n",
    "#                         titlefont=dict(\n",
    "#                             color='white'\n",
    "#                         ),\n",
    "#                         titleside='left'\n",
    "#                         )\n",
    "#                 ),\n",
    "#             ),\n",
    "                \n",
    "            Scattermapbox(\n",
    "                lat=[38.8899,38.8997],\n",
    "                lon=[-77.0091,-77.0486],\n",
    "                mode='markers',\n",
    "                hoverinfo=\"lat+lon+text\",\n",
    "                text=[\"Capital\",\"GW\"],\n",
    "                marker=Marker(\n",
    "                    color=[0.2,0.8],\n",
    "                    colorscale=[[0, \"#F4EC15\"], [0.04167, \"#DAF017\"],\n",
    "                                [0.0833, \"#BBEC19\"], [0.125, \"9DE81B\"],\n",
    "                                [0.1667, \"#80E41D\"], [0.2083, \"#66E01F\"],\n",
    "                                [0.25, \"#4CDC20\"], [0.292, \"#34D822\"],\n",
    "                                [0.333, \"#24D249\"], [0.375, \"#25D042\"],\n",
    "                                [0.4167, \"#26CC58\"], [0.4583, \"#28C86D\"],\n",
    "                                [0.50, \"#29C481\"], [0.54167, \"#2AC093\"],\n",
    "                                [0.5833, \"#2BBCA4\"],\n",
    "                                [1.0, \"#613099\"]],\n",
    "                    opacity=0.5,\n",
    "                    size=20,\n",
    "                    colorbar=dict(\n",
    "                        thicknessmode=\"fraction\",\n",
    "                        title=\"Colorf<br>Scale\",\n",
    "                        x=0.935,\n",
    "                        xpad=0,\n",
    "                        nticks=24,\n",
    "                        tickfont=dict(\n",
    "                            color='white'\n",
    "                        ),\n",
    "                        titlefont=dict(\n",
    "                            color='white'\n",
    "                        ),\n",
    "                        titleside='left'\n",
    "                        )\n",
    "                ),\n",
    "            ),\n",
    "            Scattermapbox(\n",
    "                lat=[\"40.7505\", \"40.8296\", \"40.7484\", \"40.7069\", \"40.7527\",\n",
    "                     \"40.7127\", \"40.7589\", \"40.8075\", \"40.7489\"],\n",
    "                lon=[\"-73.9934\", \"-73.9262\", \"-73.9857\", \"-74.0113\",\n",
    "                     \"-73.9772\", \"-74.0134\", \"-73.9851\", \"-73.9626\",\n",
    "                     \"-73.9680\"],\n",
    "                mode='markers',\n",
    "                hoverinfo=\"text\",\n",
    "                text=[\"Madison Square Garden\", \"Yankee Stadium\",\n",
    "                      \"Empire State Building\", \"New York Stock Exchange\",\n",
    "                      \"Grand Central Station\", \"One World Trade Center\",\n",
    "                      \"Times Square\", \"Columbia University\",\n",
    "                      \"United Nations HQ\"],\n",
    "                # opacity=0.5,\n",
    "                marker=Marker(\n",
    "                    size=6,\n",
    "                    color=\"#ffa0a0\"\n",
    "                ),\n",
    "            ),\n",
    "        ]),\n",
    "        layout=Layout(\n",
    "            autosize=True,\n",
    "            height=750,\n",
    "            margin=Margin(l=0, r=0, t=0, b=0),\n",
    "            showlegend=False,\n",
    "            mapbox=dict(\n",
    "                accesstoken=mapbox_access_token,\n",
    "                center=dict(\n",
    "                    lat=latInitial, # 40.7272\n",
    "                    lon=lonInitial # -73.991251\n",
    "                ),\n",
    "                style='dark',\n",
    "                bearing=bearing,\n",
    "                zoom=zoom\n",
    "            ),\n",
    "            updatemenus=[\n",
    "                dict(\n",
    "                    buttons=([\n",
    "                        dict(\n",
    "                            args=[{\n",
    "                                    'mapbox.zoom': 12,\n",
    "                                    'mapbox.center.lon': '-73.991251',\n",
    "                                    'mapbox.center.lat': '40.7272',\n",
    "                                    'mapbox.bearing': 0,\n",
    "                                    'mapbox.style': 'dark'\n",
    "                                }],\n",
    "                            label='Reset Zoom',\n",
    "                            method='relayout'\n",
    "                        )\n",
    "                    ]),\n",
    "                    direction='left',\n",
    "                    pad={'r': 0, 't': 0, 'b': 0, 'l': 0},\n",
    "                    showactive=False,\n",
    "                    type='buttons',\n",
    "                    x=0.45,\n",
    "                    xanchor='left',\n",
    "                    yanchor='bottom',\n",
    "                    bgcolor='#323130',\n",
    "                    borderwidth=1,\n",
    "                    bordercolor=\"#6d6d6d\",\n",
    "                    font=dict(\n",
    "                        color=\"#FFFFFF\"\n",
    "                    ),\n",
    "                    y=0.02\n",
    "                ),\n",
    "                dict(\n",
    "                    buttons=([\n",
    "                        dict(\n",
    "                            args=[{\n",
    "                                    'mapbox.zoom': 15,\n",
    "                                    'mapbox.center.lon': '-73.9934',\n",
    "                                    'mapbox.center.lat': '40.7505',\n",
    "                                    'mapbox.bearing': 0,\n",
    "                                    'mapbox.style': 'dark'\n",
    "                                }],\n",
    "                            label='Madison Square Garden',\n",
    "                            method='relayout'\n",
    "                        ),\n",
    "                        dict(\n",
    "                            args=[{\n",
    "                                    'mapbox.zoom': 15,\n",
    "                                    'mapbox.center.lon': '-73.9262',\n",
    "                                    'mapbox.center.lat': '40.8296',\n",
    "                                    'mapbox.bearing': 0,\n",
    "                                    'mapbox.style': 'dark'\n",
    "                                }],\n",
    "                            label='Yankee Stadium',\n",
    "                            method='relayout'\n",
    "                        ),\n",
    "                        dict(\n",
    "                            args=[{\n",
    "                                    'mapbox.zoom': 15,\n",
    "                                    'mapbox.center.lon': '-73.9857',\n",
    "                                    'mapbox.center.lat': '40.7484',\n",
    "                                    'mapbox.bearing': 0,\n",
    "                                    'mapbox.style': 'dark'\n",
    "                                }],\n",
    "                            label='Empire State Building',\n",
    "                            method='relayout'\n",
    "                        ),\n",
    "                        dict(\n",
    "                            args=[{\n",
    "                                    'mapbox.zoom': 15,\n",
    "                                    'mapbox.center.lon': '-74.0113',\n",
    "                                    'mapbox.center.lat': '40.7069',\n",
    "                                    'mapbox.bearing': 0,\n",
    "                                    'mapbox.style': 'dark'\n",
    "                                }],\n",
    "                            label='New York Stock Exchange',\n",
    "                            method='relayout'\n",
    "                        ),\n",
    "                        dict(\n",
    "                            args=[{\n",
    "                                    'mapbox.zoom': 15,\n",
    "                                    'mapbox.center.lon': '-73.785607',\n",
    "                                    'mapbox.center.lat': '40.644987',\n",
    "                                    'mapbox.bearing': 0,\n",
    "                                    'mapbox.style': 'dark'\n",
    "                                }],\n",
    "                            label='JFK Airport',\n",
    "                            method='relayout'\n",
    "                        ),\n",
    "                        dict(\n",
    "                            args=[{\n",
    "                                    'mapbox.zoom': 15,\n",
    "                                    'mapbox.center.lon': '-73.9772',\n",
    "                                    'mapbox.center.lat': '40.7527',\n",
    "                                    'mapbox.bearing': 0,\n",
    "                                    'mapbox.style': 'dark'\n",
    "                                }],\n",
    "                            label='Grand Central Station',\n",
    "                            method='relayout'\n",
    "                        ),\n",
    "                        dict(\n",
    "                            args=[{\n",
    "                                    'mapbox.zoom': 15,\n",
    "                                    'mapbox.center.lon': '-73.9851',\n",
    "                                    'mapbox.center.lat': '40.7589',\n",
    "                                    'mapbox.bearing': 0,\n",
    "                                    'mapbox.style': 'dark'\n",
    "                                }],\n",
    "                            label='Times Square',\n",
    "                            method='relayout'\n",
    "                        )\n",
    "                    ]),\n",
    "                    direction=\"down\",\n",
    "                    pad={'r': 0, 't': 0, 'b': 0, 'l': 0},\n",
    "                    showactive=False,\n",
    "                    bgcolor=\"rgb(50, 49, 48, 0)\",\n",
    "                    type='buttons',\n",
    "                    yanchor='bottom',\n",
    "                    xanchor='left',\n",
    "                    font=dict(\n",
    "                        color=\"#FFFFFF\"\n",
    "                    ),\n",
    "                    x=0,\n",
    "                    y=0.05\n",
    "                )\n",
    "            ]\n",
    "        )\n",
    "    )\n"
   ]
  },
  {
   "cell_type": "code",
   "execution_count": 3,
   "metadata": {},
   "outputs": [
    {
     "data": {
      "application/vnd.plotly.v1+json": {
       "data": [
        {
         "hoverinfo": "lat+lon+text",
         "lat": [
          38.8899,
          38.8997
         ],
         "lon": [
          -77.0091,
          -77.0486
         ],
         "marker": {
          "color": [
           0.2,
           0.8
          ],
          "colorbar": {
           "nticks": 24,
           "thicknessmode": "fraction",
           "tickfont": {
            "color": "white"
           },
           "title": "Colorf<br>Scale",
           "titlefont": {
            "color": "white"
           },
           "titleside": "left",
           "x": 0.935,
           "xpad": 0
          },
          "colorscale": [
           [
            0,
            "#F4EC15"
           ],
           [
            0.04167,
            "#DAF017"
           ],
           [
            0.0833,
            "#BBEC19"
           ],
           [
            0.125,
            "9DE81B"
           ],
           [
            0.1667,
            "#80E41D"
           ],
           [
            0.2083,
            "#66E01F"
           ],
           [
            0.25,
            "#4CDC20"
           ],
           [
            0.292,
            "#34D822"
           ],
           [
            0.333,
            "#24D249"
           ],
           [
            0.375,
            "#25D042"
           ],
           [
            0.4167,
            "#26CC58"
           ],
           [
            0.4583,
            "#28C86D"
           ],
           [
            0.5,
            "#29C481"
           ],
           [
            0.54167,
            "#2AC093"
           ],
           [
            0.5833,
            "#2BBCA4"
           ],
           [
            1,
            "#613099"
           ]
          ],
          "opacity": 0.5,
          "size": 20
         },
         "mode": "markers",
         "text": [
          "Capital",
          "GW"
         ],
         "type": "scattermapbox"
        },
        {
         "hoverinfo": "text",
         "lat": [
          "40.7505",
          "40.8296",
          "40.7484",
          "40.7069",
          "40.7527",
          "40.7127",
          "40.7589",
          "40.8075",
          "40.7489"
         ],
         "lon": [
          "-73.9934",
          "-73.9262",
          "-73.9857",
          "-74.0113",
          "-73.9772",
          "-74.0134",
          "-73.9851",
          "-73.9626",
          "-73.9680"
         ],
         "marker": {
          "color": "#ffa0a0",
          "size": 6
         },
         "mode": "markers",
         "text": [
          "Madison Square Garden",
          "Yankee Stadium",
          "Empire State Building",
          "New York Stock Exchange",
          "Grand Central Station",
          "One World Trade Center",
          "Times Square",
          "Columbia University",
          "United Nations HQ"
         ],
         "type": "scattermapbox"
        }
       ],
       "layout": {
        "autosize": true,
        "height": 750,
        "mapbox": {
         "accesstoken": "pk.eyJ1IjoiYWxpc2hvYmVpcmkiLCJhIjoiY2ozYnM3YTUxMDAxeDMzcGNjbmZyMmplZiJ9.ZjmQ0C2MNs1AzEBC_Syadg",
         "bearing": 0,
         "center": {
          "lat": 38.9072,
          "lon": -77.0369
         },
         "style": "dark",
         "zoom": 12
        },
        "margin": {
         "b": 0,
         "l": 0,
         "r": 0,
         "t": 0
        },
        "showlegend": false,
        "updatemenus": [
         {
          "bgcolor": "#323130",
          "bordercolor": "#6d6d6d",
          "borderwidth": 1,
          "buttons": [
           {
            "args": [
             {
              "mapbox.bearing": 0,
              "mapbox.center.lat": "40.7272",
              "mapbox.center.lon": "-73.991251",
              "mapbox.style": "dark",
              "mapbox.zoom": 12
             }
            ],
            "label": "Reset Zoom",
            "method": "relayout"
           }
          ],
          "direction": "left",
          "font": {
           "color": "#FFFFFF"
          },
          "pad": {
           "b": 0,
           "l": 0,
           "r": 0,
           "t": 0
          },
          "showactive": false,
          "type": "buttons",
          "x": 0.45,
          "xanchor": "left",
          "y": 0.02,
          "yanchor": "bottom"
         },
         {
          "bgcolor": "rgb(50, 49, 48, 0)",
          "buttons": [
           {
            "args": [
             {
              "mapbox.bearing": 0,
              "mapbox.center.lat": "40.7505",
              "mapbox.center.lon": "-73.9934",
              "mapbox.style": "dark",
              "mapbox.zoom": 15
             }
            ],
            "label": "Madison Square Garden",
            "method": "relayout"
           },
           {
            "args": [
             {
              "mapbox.bearing": 0,
              "mapbox.center.lat": "40.8296",
              "mapbox.center.lon": "-73.9262",
              "mapbox.style": "dark",
              "mapbox.zoom": 15
             }
            ],
            "label": "Yankee Stadium",
            "method": "relayout"
           },
           {
            "args": [
             {
              "mapbox.bearing": 0,
              "mapbox.center.lat": "40.7484",
              "mapbox.center.lon": "-73.9857",
              "mapbox.style": "dark",
              "mapbox.zoom": 15
             }
            ],
            "label": "Empire State Building",
            "method": "relayout"
           },
           {
            "args": [
             {
              "mapbox.bearing": 0,
              "mapbox.center.lat": "40.7069",
              "mapbox.center.lon": "-74.0113",
              "mapbox.style": "dark",
              "mapbox.zoom": 15
             }
            ],
            "label": "New York Stock Exchange",
            "method": "relayout"
           },
           {
            "args": [
             {
              "mapbox.bearing": 0,
              "mapbox.center.lat": "40.644987",
              "mapbox.center.lon": "-73.785607",
              "mapbox.style": "dark",
              "mapbox.zoom": 15
             }
            ],
            "label": "JFK Airport",
            "method": "relayout"
           },
           {
            "args": [
             {
              "mapbox.bearing": 0,
              "mapbox.center.lat": "40.7527",
              "mapbox.center.lon": "-73.9772",
              "mapbox.style": "dark",
              "mapbox.zoom": 15
             }
            ],
            "label": "Grand Central Station",
            "method": "relayout"
           },
           {
            "args": [
             {
              "mapbox.bearing": 0,
              "mapbox.center.lat": "40.7589",
              "mapbox.center.lon": "-73.9851",
              "mapbox.style": "dark",
              "mapbox.zoom": 15
             }
            ],
            "label": "Times Square",
            "method": "relayout"
           }
          ],
          "direction": "down",
          "font": {
           "color": "#FFFFFF"
          },
          "pad": {
           "b": 0,
           "l": 0,
           "r": 0,
           "t": 0
          },
          "showactive": false,
          "type": "buttons",
          "x": 0,
          "xanchor": "left",
          "y": 0.05,
          "yanchor": "bottom"
         }
        ]
       }
      },
      "text/html": [
       "<div id=\"1adf8275-aba5-4850-b9ff-9e55df31b034\" style=\"height: 750px; width: 100%;\" class=\"plotly-graph-div\"></div><script type=\"text/javascript\">require([\"plotly\"], function(Plotly) { window.PLOTLYENV=window.PLOTLYENV || {};window.PLOTLYENV.BASE_URL=\"https://plot.ly\";Plotly.newPlot(\"1adf8275-aba5-4850-b9ff-9e55df31b034\", [{\"type\": \"scattermapbox\", \"lat\": [38.8899, 38.8997], \"lon\": [-77.0091, -77.0486], \"mode\": \"markers\", \"hoverinfo\": \"lat+lon+text\", \"text\": [\"Capital\", \"GW\"], \"marker\": {\"color\": [0.2, 0.8], \"colorscale\": [[0, \"#F4EC15\"], [0.04167, \"#DAF017\"], [0.0833, \"#BBEC19\"], [0.125, \"9DE81B\"], [0.1667, \"#80E41D\"], [0.2083, \"#66E01F\"], [0.25, \"#4CDC20\"], [0.292, \"#34D822\"], [0.333, \"#24D249\"], [0.375, \"#25D042\"], [0.4167, \"#26CC58\"], [0.4583, \"#28C86D\"], [0.5, \"#29C481\"], [0.54167, \"#2AC093\"], [0.5833, \"#2BBCA4\"], [1.0, \"#613099\"]], \"opacity\": 0.5, \"size\": 20, \"colorbar\": {\"thicknessmode\": \"fraction\", \"title\": \"Colorf<br>Scale\", \"x\": 0.935, \"xpad\": 0, \"nticks\": 24, \"tickfont\": {\"color\": \"white\"}, \"titlefont\": {\"color\": \"white\"}, \"titleside\": \"left\"}}}, {\"type\": \"scattermapbox\", \"lat\": [\"40.7505\", \"40.8296\", \"40.7484\", \"40.7069\", \"40.7527\", \"40.7127\", \"40.7589\", \"40.8075\", \"40.7489\"], \"lon\": [\"-73.9934\", \"-73.9262\", \"-73.9857\", \"-74.0113\", \"-73.9772\", \"-74.0134\", \"-73.9851\", \"-73.9626\", \"-73.9680\"], \"mode\": \"markers\", \"hoverinfo\": \"text\", \"text\": [\"Madison Square Garden\", \"Yankee Stadium\", \"Empire State Building\", \"New York Stock Exchange\", \"Grand Central Station\", \"One World Trade Center\", \"Times Square\", \"Columbia University\", \"United Nations HQ\"], \"marker\": {\"size\": 6, \"color\": \"#ffa0a0\"}}], {\"autosize\": true, \"height\": 750, \"margin\": {\"l\": 0, \"r\": 0, \"t\": 0, \"b\": 0}, \"showlegend\": false, \"mapbox\": {\"accesstoken\": \"pk.eyJ1IjoiYWxpc2hvYmVpcmkiLCJhIjoiY2ozYnM3YTUxMDAxeDMzcGNjbmZyMmplZiJ9.ZjmQ0C2MNs1AzEBC_Syadg\", \"center\": {\"lat\": 38.9072, \"lon\": -77.0369}, \"style\": \"dark\", \"bearing\": 0, \"zoom\": 12.0}, \"updatemenus\": [{\"buttons\": [{\"args\": [{\"mapbox.zoom\": 12, \"mapbox.center.lon\": \"-73.991251\", \"mapbox.center.lat\": \"40.7272\", \"mapbox.bearing\": 0, \"mapbox.style\": \"dark\"}], \"label\": \"Reset Zoom\", \"method\": \"relayout\"}], \"direction\": \"left\", \"pad\": {\"r\": 0, \"t\": 0, \"b\": 0, \"l\": 0}, \"showactive\": false, \"type\": \"buttons\", \"x\": 0.45, \"xanchor\": \"left\", \"yanchor\": \"bottom\", \"bgcolor\": \"#323130\", \"borderwidth\": 1, \"bordercolor\": \"#6d6d6d\", \"font\": {\"color\": \"#FFFFFF\"}, \"y\": 0.02}, {\"buttons\": [{\"args\": [{\"mapbox.zoom\": 15, \"mapbox.center.lon\": \"-73.9934\", \"mapbox.center.lat\": \"40.7505\", \"mapbox.bearing\": 0, \"mapbox.style\": \"dark\"}], \"label\": \"Madison Square Garden\", \"method\": \"relayout\"}, {\"args\": [{\"mapbox.zoom\": 15, \"mapbox.center.lon\": \"-73.9262\", \"mapbox.center.lat\": \"40.8296\", \"mapbox.bearing\": 0, \"mapbox.style\": \"dark\"}], \"label\": \"Yankee Stadium\", \"method\": \"relayout\"}, {\"args\": [{\"mapbox.zoom\": 15, \"mapbox.center.lon\": \"-73.9857\", \"mapbox.center.lat\": \"40.7484\", \"mapbox.bearing\": 0, \"mapbox.style\": \"dark\"}], \"label\": \"Empire State Building\", \"method\": \"relayout\"}, {\"args\": [{\"mapbox.zoom\": 15, \"mapbox.center.lon\": \"-74.0113\", \"mapbox.center.lat\": \"40.7069\", \"mapbox.bearing\": 0, \"mapbox.style\": \"dark\"}], \"label\": \"New York Stock Exchange\", \"method\": \"relayout\"}, {\"args\": [{\"mapbox.zoom\": 15, \"mapbox.center.lon\": \"-73.785607\", \"mapbox.center.lat\": \"40.644987\", \"mapbox.bearing\": 0, \"mapbox.style\": \"dark\"}], \"label\": \"JFK Airport\", \"method\": \"relayout\"}, {\"args\": [{\"mapbox.zoom\": 15, \"mapbox.center.lon\": \"-73.9772\", \"mapbox.center.lat\": \"40.7527\", \"mapbox.bearing\": 0, \"mapbox.style\": \"dark\"}], \"label\": \"Grand Central Station\", \"method\": \"relayout\"}, {\"args\": [{\"mapbox.zoom\": 15, \"mapbox.center.lon\": \"-73.9851\", \"mapbox.center.lat\": \"40.7589\", \"mapbox.bearing\": 0, \"mapbox.style\": \"dark\"}], \"label\": \"Times Square\", \"method\": \"relayout\"}], \"direction\": \"down\", \"pad\": {\"r\": 0, \"t\": 0, \"b\": 0, \"l\": 0}, \"showactive\": false, \"bgcolor\": \"rgb(50, 49, 48, 0)\", \"type\": \"buttons\", \"yanchor\": \"bottom\", \"xanchor\": \"left\", \"font\": {\"color\": \"#FFFFFF\"}, \"x\": 0, \"y\": 0.05}]}, {\"showLink\": true, \"linkText\": \"Export to plot.ly\"})});</script>"
      ],
      "text/vnd.plotly.v1+html": [
       "<div id=\"1adf8275-aba5-4850-b9ff-9e55df31b034\" style=\"height: 750px; width: 100%;\" class=\"plotly-graph-div\"></div><script type=\"text/javascript\">require([\"plotly\"], function(Plotly) { window.PLOTLYENV=window.PLOTLYENV || {};window.PLOTLYENV.BASE_URL=\"https://plot.ly\";Plotly.newPlot(\"1adf8275-aba5-4850-b9ff-9e55df31b034\", [{\"type\": \"scattermapbox\", \"lat\": [38.8899, 38.8997], \"lon\": [-77.0091, -77.0486], \"mode\": \"markers\", \"hoverinfo\": \"lat+lon+text\", \"text\": [\"Capital\", \"GW\"], \"marker\": {\"color\": [0.2, 0.8], \"colorscale\": [[0, \"#F4EC15\"], [0.04167, \"#DAF017\"], [0.0833, \"#BBEC19\"], [0.125, \"9DE81B\"], [0.1667, \"#80E41D\"], [0.2083, \"#66E01F\"], [0.25, \"#4CDC20\"], [0.292, \"#34D822\"], [0.333, \"#24D249\"], [0.375, \"#25D042\"], [0.4167, \"#26CC58\"], [0.4583, \"#28C86D\"], [0.5, \"#29C481\"], [0.54167, \"#2AC093\"], [0.5833, \"#2BBCA4\"], [1.0, \"#613099\"]], \"opacity\": 0.5, \"size\": 20, \"colorbar\": {\"thicknessmode\": \"fraction\", \"title\": \"Colorf<br>Scale\", \"x\": 0.935, \"xpad\": 0, \"nticks\": 24, \"tickfont\": {\"color\": \"white\"}, \"titlefont\": {\"color\": \"white\"}, \"titleside\": \"left\"}}}, {\"type\": \"scattermapbox\", \"lat\": [\"40.7505\", \"40.8296\", \"40.7484\", \"40.7069\", \"40.7527\", \"40.7127\", \"40.7589\", \"40.8075\", \"40.7489\"], \"lon\": [\"-73.9934\", \"-73.9262\", \"-73.9857\", \"-74.0113\", \"-73.9772\", \"-74.0134\", \"-73.9851\", \"-73.9626\", \"-73.9680\"], \"mode\": \"markers\", \"hoverinfo\": \"text\", \"text\": [\"Madison Square Garden\", \"Yankee Stadium\", \"Empire State Building\", \"New York Stock Exchange\", \"Grand Central Station\", \"One World Trade Center\", \"Times Square\", \"Columbia University\", \"United Nations HQ\"], \"marker\": {\"size\": 6, \"color\": \"#ffa0a0\"}}], {\"autosize\": true, \"height\": 750, \"margin\": {\"l\": 0, \"r\": 0, \"t\": 0, \"b\": 0}, \"showlegend\": false, \"mapbox\": {\"accesstoken\": \"pk.eyJ1IjoiYWxpc2hvYmVpcmkiLCJhIjoiY2ozYnM3YTUxMDAxeDMzcGNjbmZyMmplZiJ9.ZjmQ0C2MNs1AzEBC_Syadg\", \"center\": {\"lat\": 38.9072, \"lon\": -77.0369}, \"style\": \"dark\", \"bearing\": 0, \"zoom\": 12.0}, \"updatemenus\": [{\"buttons\": [{\"args\": [{\"mapbox.zoom\": 12, \"mapbox.center.lon\": \"-73.991251\", \"mapbox.center.lat\": \"40.7272\", \"mapbox.bearing\": 0, \"mapbox.style\": \"dark\"}], \"label\": \"Reset Zoom\", \"method\": \"relayout\"}], \"direction\": \"left\", \"pad\": {\"r\": 0, \"t\": 0, \"b\": 0, \"l\": 0}, \"showactive\": false, \"type\": \"buttons\", \"x\": 0.45, \"xanchor\": \"left\", \"yanchor\": \"bottom\", \"bgcolor\": \"#323130\", \"borderwidth\": 1, \"bordercolor\": \"#6d6d6d\", \"font\": {\"color\": \"#FFFFFF\"}, \"y\": 0.02}, {\"buttons\": [{\"args\": [{\"mapbox.zoom\": 15, \"mapbox.center.lon\": \"-73.9934\", \"mapbox.center.lat\": \"40.7505\", \"mapbox.bearing\": 0, \"mapbox.style\": \"dark\"}], \"label\": \"Madison Square Garden\", \"method\": \"relayout\"}, {\"args\": [{\"mapbox.zoom\": 15, \"mapbox.center.lon\": \"-73.9262\", \"mapbox.center.lat\": \"40.8296\", \"mapbox.bearing\": 0, \"mapbox.style\": \"dark\"}], \"label\": \"Yankee Stadium\", \"method\": \"relayout\"}, {\"args\": [{\"mapbox.zoom\": 15, \"mapbox.center.lon\": \"-73.9857\", \"mapbox.center.lat\": \"40.7484\", \"mapbox.bearing\": 0, \"mapbox.style\": \"dark\"}], \"label\": \"Empire State Building\", \"method\": \"relayout\"}, {\"args\": [{\"mapbox.zoom\": 15, \"mapbox.center.lon\": \"-74.0113\", \"mapbox.center.lat\": \"40.7069\", \"mapbox.bearing\": 0, \"mapbox.style\": \"dark\"}], \"label\": \"New York Stock Exchange\", \"method\": \"relayout\"}, {\"args\": [{\"mapbox.zoom\": 15, \"mapbox.center.lon\": \"-73.785607\", \"mapbox.center.lat\": \"40.644987\", \"mapbox.bearing\": 0, \"mapbox.style\": \"dark\"}], \"label\": \"JFK Airport\", \"method\": \"relayout\"}, {\"args\": [{\"mapbox.zoom\": 15, \"mapbox.center.lon\": \"-73.9772\", \"mapbox.center.lat\": \"40.7527\", \"mapbox.bearing\": 0, \"mapbox.style\": \"dark\"}], \"label\": \"Grand Central Station\", \"method\": \"relayout\"}, {\"args\": [{\"mapbox.zoom\": 15, \"mapbox.center.lon\": \"-73.9851\", \"mapbox.center.lat\": \"40.7589\", \"mapbox.bearing\": 0, \"mapbox.style\": \"dark\"}], \"label\": \"Times Square\", \"method\": \"relayout\"}], \"direction\": \"down\", \"pad\": {\"r\": 0, \"t\": 0, \"b\": 0, \"l\": 0}, \"showactive\": false, \"bgcolor\": \"rgb(50, 49, 48, 0)\", \"type\": \"buttons\", \"yanchor\": \"bottom\", \"xanchor\": \"left\", \"font\": {\"color\": \"#FFFFFF\"}, \"x\": 0, \"y\": 0.05}]}, {\"showLink\": true, \"linkText\": \"Export to plot.ly\"})});</script>"
      ]
     },
     "metadata": {},
     "output_type": "display_data"
    }
   ],
   "source": [
    "fig = update_graph()\n",
    "iplot(fig)"
   ]
  },
  {
   "cell_type": "code",
   "execution_count": null,
   "metadata": {
    "collapsed": true
   },
   "outputs": [],
   "source": []
  }
 ],
 "metadata": {
  "anaconda-cloud": {},
  "kernelspec": {
   "display_name": "Python 3",
   "language": "python",
   "name": "python3"
  },
  "language_info": {
   "codemirror_mode": {
    "name": "ipython",
    "version": 3
   },
   "file_extension": ".py",
   "mimetype": "text/x-python",
   "name": "python",
   "nbconvert_exporter": "python",
   "pygments_lexer": "ipython3",
   "version": "3.6.4"
  }
 },
 "nbformat": 4,
 "nbformat_minor": 1
}
