{
 "cells": [
  {
   "cell_type": "code",
   "execution_count": 412,
   "metadata": {},
   "outputs": [
    {
     "data": {
      "text/html": [
       "<script>requirejs.config({paths: { 'plotly': ['https://cdn.plot.ly/plotly-latest.min']},});if(!window.Plotly) {{require(['plotly'],function(plotly) {window.Plotly=plotly;});}}</script>"
      ],
      "text/vnd.plotly.v1+html": [
       "<script>requirejs.config({paths: { 'plotly': ['https://cdn.plot.ly/plotly-latest.min']},});if(!window.Plotly) {{require(['plotly'],function(plotly) {window.Plotly=plotly;});}}</script>"
      ]
     },
     "metadata": {},
     "output_type": "display_data"
    }
   ],
   "source": [
    "from plotly.offline import download_plotlyjs, init_notebook_mode, plot, iplot\n",
    "import plotly.graph_objs as go\n",
    "from plotly.graph_objs import *\n",
    "import numpy as np\n",
    "init_notebook_mode(connected=True)\n",
    "import numpy as np\n",
    "import geopandas as gp\n",
    "import plotly.plotly as py_cloud\n",
    "# https://github.com/plotly/dash-uber-rides-demo/blob/master/app.py"
   ]
  },
  {
   "cell_type": "code",
   "execution_count": 371,
   "metadata": {},
   "outputs": [],
   "source": [
    "# read in population data\n",
    "df = pd.read_csv('airbnbwards.csv')\n",
    "\n",
    "# Read in geojson file of DC ward polygons\n",
    "with open(\"dc-ward-map-overlay.geojson\") as f:\n",
    "    wards = geojson.load(f)"
   ]
  },
  {
   "cell_type": "code",
   "execution_count": 372,
   "metadata": {},
   "outputs": [
    {
     "name": "stdout",
     "output_type": "stream",
     "text": [
      "  Unnamed: 0    Ward overall_satisfaction   price     latitude     longitude\n",
      "0          1  Ward 1           1.98806366  228.33  38.92284323  -77.03190794\n",
      "1          2  Ward 2          1.882616487  292.31   38.9071684  -77.03522891\n",
      "2          3  Ward 3          1.543050431  262.08  38.93525823  -77.07349277\n",
      "3          4  Ward 4   1.7681159419999999  182.25  38.95797802  -77.02670979\n",
      "4          5  Ward 5          2.005803571  189.58  38.93042564    -77.001141\n",
      "5          6  Ward 6          1.873062016   340.9  38.89092596  -76.99809961\n",
      "6          7  Ward 7          1.567982456  198.26  38.89386739  -76.96842268\n",
      "7          8  Ward 8          1.705513784  138.03  38.86533188  -76.96732552\n"
     ]
    }
   ],
   "source": [
    "# Format column names\n",
    "for col in df.columns:\n",
    "    df[col] = df[col].astype(str)\n",
    "# Drop columns that won't be used\n",
    "df.drop(['room_id', 'host_id', 'room_type', 'neighborhood', 'reviews', 'accommodates', 'bedrooms', 'minstay'],\n",
    "             inplace = True, axis=1)\n",
    "print(df)"
   ]
  },
  {
   "cell_type": "code",
   "execution_count": 373,
   "metadata": {},
   "outputs": [],
   "source": [
    "# initialize a dictionary\n",
    "geo_dict = {}\n",
    "\n",
    "for x in range(len(wards['features'])):\n",
    "    # I ignore the last eleven characters in the name since the geojson file includes ' County, CO' in the county names and the population data does not\n",
    "    name = wards['features'][x]['properties']['name']\n",
    "    if name in df['Ward'].unique():\n",
    "        geo_dict[name] = wards['features'][x]\n",
    "    else:\n",
    "        print ('not in: ', name)"
   ]
  },
  {
   "cell_type": "code",
   "execution_count": 374,
   "metadata": {},
   "outputs": [
    {
     "name": "stdout",
     "output_type": "stream",
     "text": [
      "Ward 1    {'type': 'Feature', 'geometry': {'type': 'Poly...\n",
      "Ward 2    {'type': 'Feature', 'geometry': {'type': 'Poly...\n",
      "Ward 3    {'type': 'Feature', 'geometry': {'type': 'Poly...\n",
      "Ward 4    {'type': 'Feature', 'geometry': {'type': 'Poly...\n",
      "Ward 5    {'type': 'Feature', 'geometry': {'type': 'Poly...\n",
      "Ward 6    {'type': 'Feature', 'geometry': {'type': 'Poly...\n",
      "Ward 7    {'type': 'Feature', 'geometry': {'type': 'Poly...\n",
      "Ward 8    {'type': 'Feature', 'geometry': {'type': 'Poly...\n",
      "Name: coordinates, dtype: object\n"
     ]
    }
   ],
   "source": [
    "# Once I have my dictionary of geolocation data in order, I want to make it into a pandas series to make it easy to \n",
    "# join to my airbnbwards dataframe\n",
    "ser = pd.Series(list(geo_dict.values()), index = geo_dict.keys())\n",
    "ser.name = 'coordinates'\n",
    "print(ser)"
   ]
  },
  {
   "cell_type": "code",
   "execution_count": 375,
   "metadata": {},
   "outputs": [
    {
     "name": "stdout",
     "output_type": "stream",
     "text": [
      "  Unnamed: 0    Ward overall_satisfaction   price     latitude     longitude  \\\n",
      "0          1  Ward 1           1.98806366  228.33  38.92284323  -77.03190794   \n",
      "1          2  Ward 2          1.882616487  292.31   38.9071684  -77.03522891   \n",
      "2          3  Ward 3          1.543050431  262.08  38.93525823  -77.07349277   \n",
      "3          4  Ward 4   1.7681159419999999  182.25  38.95797802  -77.02670979   \n",
      "4          5  Ward 5          2.005803571  189.58  38.93042564    -77.001141   \n",
      "5          6  Ward 6          1.873062016   340.9  38.89092596  -76.99809961   \n",
      "6          7  Ward 7          1.567982456  198.26  38.89386739  -76.96842268   \n",
      "7          8  Ward 8          1.705513784  138.03  38.86533188  -76.96732552   \n",
      "\n",
      "                                         coordinates  \n",
      "0  {'type': 'Feature', 'geometry': {'type': 'Poly...  \n",
      "1  {'type': 'Feature', 'geometry': {'type': 'Poly...  \n",
      "2  {'type': 'Feature', 'geometry': {'type': 'Poly...  \n",
      "3  {'type': 'Feature', 'geometry': {'type': 'Poly...  \n",
      "4  {'type': 'Feature', 'geometry': {'type': 'Poly...  \n",
      "5  {'type': 'Feature', 'geometry': {'type': 'Poly...  \n",
      "6  {'type': 'Feature', 'geometry': {'type': 'Poly...  \n",
      "7  {'type': 'Feature', 'geometry': {'type': 'Poly...  \n"
     ]
    }
   ],
   "source": [
    "# Join geolocation data to airbnbwards dataframe\n",
    "df = df.join(ser, on='Ward')\n",
    "print(df)"
   ]
  },
  {
   "cell_type": "code",
   "execution_count": 315,
   "metadata": {},
   "outputs": [],
   "source": [
    "mapbox_access_token = 'pk.eyJ1IjoiY21jNDU0IiwiYSI6ImNqZ2kyNzZoNTA0dDczM3Fsb3k4ZGI1N2wifQ.sDWh7-7xugNR7d109M6aFg'"
   ]
  },
  {
   "cell_type": "code",
   "execution_count": 402,
   "metadata": {},
   "outputs": [],
   "source": [
    "df['text'] = 'Average price: ' +df['price'] + '<br>' +\\\n",
    "    'Overall Satisfaction '+df['overall_satisfaction']"
   ]
  },
  {
   "cell_type": "code",
   "execution_count": 415,
   "metadata": {},
   "outputs": [
    {
     "data": {
      "text/html": [
       "<iframe id=\"igraph\" scrolling=\"no\" style=\"border:none;\" seamless=\"seamless\" src=\"https://plot.ly/~cmc454/4.embed\" height=\"600px\" width=\"100%\"></iframe>"
      ],
      "text/plain": [
       "<plotly.tools.PlotlyDisplay object>"
      ]
     },
     "execution_count": 415,
     "metadata": {},
     "output_type": "execute_result"
    }
   ],
   "source": [
    "import plotly.plotly as py\n",
    "import plotly.graph_objs as graph_objs\n",
    "\n",
    "mapbox_access_token = \"pk.eyJ1IjoiY21jNDU0IiwiYSI6ImNqZ2kyNzZoNTA0dDczM3Fsb3k4ZGI1N2wifQ.sDWh7-7xugNR7d109M6aFg\"\n",
    "\n",
    "data = graph_objs.Data([\n",
    "    graph_objs.Scattermapbox(\n",
    "        lat=['38.9072'],\n",
    "        lon=['-77.0369'],\n",
    "        mode='markers',\n",
    "        hoverinfo=\"text\",\n",
    "        text = df['text'],\n",
    "    )\n",
    "])\n",
    "layout = graph_objs.Layout(\n",
    "    height=600,\n",
    "    margin=Margin(l=0, r=0, t=0, b=0),\n",
    "    autosize=True,\n",
    "    hovermode='closest',\n",
    "    mapbox=dict(\n",
    "        layers=[\n",
    "            dict(\n",
    "                sourcetype = 'geojson',\n",
    "                source = 'dc-ward-map-overlay.geojson',\n",
    "                type = 'fill',\n",
    "                color = 'rgba(163,22,19,0.8)'\n",
    "            )\n",
    "        ],\n",
    "        accesstoken=mapbox_access_token,\n",
    "        bearing=0,\n",
    "        center=dict(\n",
    "            lat=40.7272,\n",
    "            lon=-73.991251\n",
    "        ),\n",
    "        pitch=0,\n",
    "        zoom=12,\n",
    "        style='light'\n",
    "    ),\n",
    ")\n",
    "\n",
    "fig = dict(data=data, layout=layout)\n",
    "py.iplot(fig, filename='ward-level-choropleths-python')"
   ]
  }
 ],
 "metadata": {
  "kernelspec": {
   "display_name": "Python 3",
   "language": "python",
   "name": "python3"
  },
  "language_info": {
   "codemirror_mode": {
    "name": "ipython",
    "version": 3
   },
   "file_extension": ".py",
   "mimetype": "text/x-python",
   "name": "python",
   "nbconvert_exporter": "python",
   "pygments_lexer": "ipython3",
   "version": "3.6.4"
  }
 },
 "nbformat": 4,
 "nbformat_minor": 2
}
